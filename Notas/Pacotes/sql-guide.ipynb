{
 "cells": [
  {
   "cell_type": "markdown",
   "metadata": {},
   "source": [
    "# Guia de Comandos SQL Aplicados em Python"
   ]
  },
  {
   "cell_type": "markdown",
   "metadata": {},
   "source": [
    "* [Demonstração](#Demo)\n",
    "* Criação\n",
    "* Adição e Remoção\n",
    "* Alteração\n",
    "* Filtros e Operadores Lógicos"
   ]
  },
  {
   "cell_type": "markdown",
   "metadata": {},
   "source": [
    "Pacotes:"
   ]
  },
  {
   "cell_type": "code",
   "execution_count": 1,
   "metadata": {},
   "outputs": [],
   "source": [
    "import os\n",
    "import sqlite3"
   ]
  },
  {
   "cell_type": "markdown",
   "metadata": {},
   "source": [
    "## Criando um exemplo com funções"
   ]
  },
  {
   "cell_type": "code",
   "execution_count": 2,
   "metadata": {},
   "outputs": [],
   "source": [
    "import random\n",
    "import time\n",
    "import datetime"
   ]
  },
  {
   "cell_type": "code",
   "execution_count": 3,
   "metadata": {},
   "outputs": [],
   "source": [
    "#Database e tabela padrões\n",
    "\n",
    "arquivo = r'../ArquivosParalelos/random_tables.db'\n",
    "tabela = 'random_table'"
   ]
  },
  {
   "cell_type": "code",
   "execution_count": 4,
   "metadata": {},
   "outputs": [],
   "source": [
    "# Função para criar um arquivo e a tabela\n",
    "\n",
    "# todas as variáveis são dadas como strings\n",
    "# \"arquivo\" é o diretório e o nome o arquivo db a ser criado\n",
    "# \"tabela\" é o nome da tabela dentro do db\n",
    "# \"colunas\" recebe os nomes das colunas juntamente com suas diretrizes.\n",
    "\n",
    "\n",
    "def create_table(arquivo,tabela,*colunas_parametros):\n",
    "    c = sqlite3.connect(arquivo).cursor() #Cria o arquivo, se ele já não existe, com a conexão e o cursor.\n",
    "    Colunas = ''\n",
    "    for i in colunas_parametros:\n",
    "        Colunas = Colunas+i+', '\n",
    "    Colunas = Colunas[0:-2] #Remove a vírgula e o espaço no final\n",
    "    c.execute(f'CREATE TABLE IF NOT EXISTS {tabela}({Colunas})')\n",
    "    c.close()"
   ]
  },
  {
   "cell_type": "code",
   "execution_count": 5,
   "metadata": {},
   "outputs": [],
   "source": [
    "# Função para inserir dados.\n",
    "\n",
    "# \"arquivo\" é uma sring com o diretório e o nome do DB\n",
    "# \"tabela\" é uma string contendo o nome da tabela\n",
    "# \"colunas\" é uma lista ou tupla com strings contendo os nomes das colunas.\n",
    "# \"valores\" é uma lista ou tupla contendo os valores a serem acrescentados, na ordem das colunas\n",
    "\n",
    "def data_insert_var(arquivo,tabela,colunas,valores):\n",
    "    conn = sqlite3.connect(arquivo)\n",
    "    c = conn.cursor()\n",
    "\n",
    "    Colunas = ''\n",
    "    for i in colunas:\n",
    "        Colunas = Colunas+i+', '\n",
    "    Colunas = Colunas[0:-2]\n",
    "    print(Colunas)\n",
    "\n",
    "    n = ''\n",
    "    for i in range(len(colunas)):\n",
    "        n = n+'?, '\n",
    "    n = n[0:-2]\n",
    "    print(n)\n",
    "\n",
    "    print('')\n",
    "    print(f\"INSERT INTO {tabela} ({Colunas}) VALUES ({n})\")\n",
    "    print(valores)\n",
    "\n",
    "    c.execute(f\"INSERT INTO {tabela} ({Colunas}) VALUES ({n})\", valores)\n",
    "    conn.commit()\n",
    "    c.close()\n",
    "    conn.close()"
   ]
  },
  {
   "cell_type": "code",
   "execution_count": 6,
   "metadata": {},
   "outputs": [],
   "source": [
    "# Função de leitura\n",
    "\n",
    "def showall(arquivo,tabela):\n",
    "    c = sqlite3.connect(arquivo).cursor()\n",
    "    c.execute(f'select * from {tabela}')\n",
    "    data = c.fetchall()\n",
    "\n",
    "    Colunas = [i[0] for i in c.execute(f'select * from {tabela}').description ]\n",
    "    print(\"Colunas\",Colunas)\n",
    "\n",
    "    for i in data:\n",
    "        linha = []\n",
    "        for j,k in zip(Colunas,i):\n",
    "            linha.append(f\"{j}: {k}\")\n",
    "        print(linha)\n",
    "\n",
    "    c.close()"
   ]
  },
  {
   "cell_type": "code",
   "execution_count": 7,
   "metadata": {},
   "outputs": [
    {
     "name": "stdout",
     "output_type": "stream",
     "text": [
      "Produto, Valor, Data\n",
      "?, ?, ?\n",
      "\n",
      "INSERT INTO random_table (Produto, Valor, Data) VALUES (?, ?, ?)\n",
      "('CPU', 76, datetime.datetime(2022, 9, 3, 22, 22, 58, 869397))\n",
      "Produto, Valor, Data\n",
      "?, ?, ?\n",
      "\n",
      "INSERT INTO random_table (Produto, Valor, Data) VALUES (?, ?, ?)\n",
      "('Mouse', 77, datetime.datetime(2022, 9, 3, 22, 22, 58, 875392))\n",
      "Produto, Valor, Data\n",
      "?, ?, ?\n",
      "\n",
      "INSERT INTO random_table (Produto, Valor, Data) VALUES (?, ?, ?)\n",
      "('Monitor', 54, datetime.datetime(2022, 9, 3, 22, 22, 58, 885386))\n",
      "Produto, Valor, Data\n",
      "?, ?, ?\n",
      "\n",
      "INSERT INTO random_table (Produto, Valor, Data) VALUES (?, ?, ?)\n",
      "('Teclado', 85, datetime.datetime(2022, 9, 3, 22, 22, 58, 897380))\n",
      "Produto, Valor, Data\n",
      "?, ?, ?\n",
      "\n",
      "INSERT INTO random_table (Produto, Valor, Data) VALUES (?, ?, ?)\n",
      "('Mouse', 76, datetime.datetime(2022, 9, 3, 22, 22, 58, 904374))\n",
      "Produto, Valor, Data\n",
      "?, ?, ?\n",
      "\n",
      "INSERT INTO random_table (Produto, Valor, Data) VALUES (?, ?, ?)\n",
      "('Teclado', 82, datetime.datetime(2022, 9, 3, 22, 22, 58, 909371))\n",
      "Produto, Valor, Data\n",
      "?, ?, ?\n",
      "\n",
      "INSERT INTO random_table (Produto, Valor, Data) VALUES (?, ?, ?)\n",
      "('Teclado', 59, datetime.datetime(2022, 9, 3, 22, 22, 58, 917373))\n",
      "Produto, Valor, Data\n",
      "?, ?, ?\n",
      "\n",
      "INSERT INTO random_table (Produto, Valor, Data) VALUES (?, ?, ?)\n",
      "('Teclado', 50, datetime.datetime(2022, 9, 3, 22, 22, 58, 923363))\n",
      "Produto, Valor, Data\n",
      "?, ?, ?\n",
      "\n",
      "INSERT INTO random_table (Produto, Valor, Data) VALUES (?, ?, ?)\n",
      "('Teclado', 69, datetime.datetime(2022, 9, 3, 22, 22, 58, 928360))\n",
      "Produto, Valor, Data\n",
      "?, ?, ?\n",
      "\n",
      "INSERT INTO random_table (Produto, Valor, Data) VALUES (?, ?, ?)\n",
      "('Monitor', 79, datetime.datetime(2022, 9, 3, 22, 22, 58, 940353))\n",
      "Produto, Valor, Data\n",
      "?, ?, ?\n",
      "\n",
      "INSERT INTO random_table (Produto, Valor, Data) VALUES (?, ?, ?)\n",
      "('CPU', 58, datetime.datetime(2022, 9, 3, 22, 22, 58, 946348))\n",
      "Produto, Valor, Data\n",
      "?, ?, ?\n",
      "\n",
      "INSERT INTO random_table (Produto, Valor, Data) VALUES (?, ?, ?)\n",
      "('Teclado', 69, datetime.datetime(2022, 9, 3, 22, 22, 58, 953344))\n",
      "Produto, Valor, Data\n",
      "?, ?, ?\n",
      "\n",
      "INSERT INTO random_table (Produto, Valor, Data) VALUES (?, ?, ?)\n",
      "('Teclado', 72, datetime.datetime(2022, 9, 3, 22, 22, 58, 960340))\n",
      "Produto, Valor, Data\n",
      "?, ?, ?\n",
      "\n",
      "INSERT INTO random_table (Produto, Valor, Data) VALUES (?, ?, ?)\n",
      "('Teclado', 53, datetime.datetime(2022, 9, 3, 22, 22, 58, 968335))\n",
      "Produto, Valor, Data\n",
      "?, ?, ?\n",
      "\n",
      "INSERT INTO random_table (Produto, Valor, Data) VALUES (?, ?, ?)\n",
      "('Monitor', 84, datetime.datetime(2022, 9, 3, 22, 22, 58, 973331))\n",
      "Produto, Valor, Data\n",
      "?, ?, ?\n",
      "\n",
      "INSERT INTO random_table (Produto, Valor, Data) VALUES (?, ?, ?)\n",
      "('CPU', 81, datetime.datetime(2022, 9, 3, 22, 22, 58, 984324))\n",
      "Produto, Valor, Data\n",
      "?, ?, ?\n",
      "\n",
      "INSERT INTO random_table (Produto, Valor, Data) VALUES (?, ?, ?)\n",
      "('CPU', 61, datetime.datetime(2022, 9, 3, 22, 22, 58, 990322))\n",
      "Produto, Valor, Data\n",
      "?, ?, ?\n",
      "\n",
      "INSERT INTO random_table (Produto, Valor, Data) VALUES (?, ?, ?)\n",
      "('CPU', 95, datetime.datetime(2022, 9, 3, 22, 22, 58, 996318))\n",
      "Produto, Valor, Data\n",
      "?, ?, ?\n",
      "\n",
      "INSERT INTO random_table (Produto, Valor, Data) VALUES (?, ?, ?)\n",
      "('CPU', 59, datetime.datetime(2022, 9, 3, 22, 22, 59, 7312))\n",
      "Produto, Valor, Data\n",
      "?, ?, ?\n",
      "\n",
      "INSERT INTO random_table (Produto, Valor, Data) VALUES (?, ?, ?)\n",
      "('CPU', 80, datetime.datetime(2022, 9, 3, 22, 22, 59, 15306))\n"
     ]
    }
   ],
   "source": [
    "# Criando uma tabela aletória\n",
    "\n",
    "os.remove(r'../ArquivosParalelos/random_tables.db') if os.path.exists(r'../ArquivosParalelos/random_tables.db') else None\n",
    "\n",
    "n = 20 #Número de observações\n",
    "\n",
    "create_table(arquivo,tabela,\"ID INTEGER PRIMARY KEY AUTOINCREMENT NOT NULL\",\"Produto TEXT\",\"Valor REAL\",\"Data TEXT\")\n",
    "#create_table(arquivo,tabela,\"ID INTEGER PRIMARY KEY NOT NULL\",\"Produto TEXT\",\"Valor REAL\",\"Data TEXT\")\n",
    "\n",
    "for i in range(n): #cria n itens na lista.\n",
    "    new_date = datetime.datetime.now() #cria um objeto contendo a data e a hora atuais.\n",
    "    new_prod_name = random.choice(['Monitor', 'CPU', 'Teclado','Mouse']) #Escolhe um item na lista.\n",
    "    new_value = random.randrange(50,100) #Escolhe um preço para ser um valor do item.\n",
    "\n",
    "    valores = (new_prod_name,new_value,new_date)\n",
    "\n",
    "    data_insert_var(arquivo,tabela,('Produto','Valor','Data'),valores)\n",
    "\n",
    "    time.sleep(0) #aguarda."
   ]
  },
  {
   "cell_type": "code",
   "execution_count": 8,
   "metadata": {},
   "outputs": [
    {
     "name": "stdout",
     "output_type": "stream",
     "text": [
      "Colunas ['ID', 'Produto', 'Valor', 'Data']\n",
      "['ID: 1', 'Produto: CPU', 'Valor: 76.0', 'Data: 2022-09-03 22:22:58.869397']\n",
      "['ID: 2', 'Produto: Mouse', 'Valor: 77.0', 'Data: 2022-09-03 22:22:58.875392']\n",
      "['ID: 3', 'Produto: Monitor', 'Valor: 54.0', 'Data: 2022-09-03 22:22:58.885386']\n",
      "['ID: 4', 'Produto: Teclado', 'Valor: 85.0', 'Data: 2022-09-03 22:22:58.897380']\n",
      "['ID: 5', 'Produto: Mouse', 'Valor: 76.0', 'Data: 2022-09-03 22:22:58.904374']\n",
      "['ID: 6', 'Produto: Teclado', 'Valor: 82.0', 'Data: 2022-09-03 22:22:58.909371']\n",
      "['ID: 7', 'Produto: Teclado', 'Valor: 59.0', 'Data: 2022-09-03 22:22:58.917373']\n",
      "['ID: 8', 'Produto: Teclado', 'Valor: 50.0', 'Data: 2022-09-03 22:22:58.923363']\n",
      "['ID: 9', 'Produto: Teclado', 'Valor: 69.0', 'Data: 2022-09-03 22:22:58.928360']\n",
      "['ID: 10', 'Produto: Monitor', 'Valor: 79.0', 'Data: 2022-09-03 22:22:58.940353']\n",
      "['ID: 11', 'Produto: CPU', 'Valor: 58.0', 'Data: 2022-09-03 22:22:58.946348']\n",
      "['ID: 12', 'Produto: Teclado', 'Valor: 69.0', 'Data: 2022-09-03 22:22:58.953344']\n",
      "['ID: 13', 'Produto: Teclado', 'Valor: 72.0', 'Data: 2022-09-03 22:22:58.960340']\n",
      "['ID: 14', 'Produto: Teclado', 'Valor: 53.0', 'Data: 2022-09-03 22:22:58.968335']\n",
      "['ID: 15', 'Produto: Monitor', 'Valor: 84.0', 'Data: 2022-09-03 22:22:58.973331']\n",
      "['ID: 16', 'Produto: CPU', 'Valor: 81.0', 'Data: 2022-09-03 22:22:58.984324']\n",
      "['ID: 17', 'Produto: CPU', 'Valor: 61.0', 'Data: 2022-09-03 22:22:58.990322']\n",
      "['ID: 18', 'Produto: CPU', 'Valor: 95.0', 'Data: 2022-09-03 22:22:58.996318']\n",
      "['ID: 19', 'Produto: CPU', 'Valor: 59.0', 'Data: 2022-09-03 22:22:59.007312']\n",
      "['ID: 20', 'Produto: CPU', 'Valor: 80.0', 'Data: 2022-09-03 22:22:59.015306']\n"
     ]
    }
   ],
   "source": [
    "# Vendo a tabela.\n",
    "\n",
    "showall(arquivo,tabela)"
   ]
  },
  {
   "cell_type": "code",
   "execution_count": 9,
   "metadata": {},
   "outputs": [],
   "source": [
    "# Função para mostrar apenas o Fetchall\n",
    "\n",
    "def Execute_and_Show(Query,arquivo):\n",
    "    Cursor = sqlite3.connect(arquivo).cursor()\n",
    "    Cursor.execute(Query)\n",
    "    for i in Cursor.execute(Query).description:\n",
    "        print(i)\n",
    "    for i in Cursor.fetchall():\n",
    "        print(i)\n",
    "    Cursor.close()"
   ]
  },
  {
   "cell_type": "code",
   "execution_count": 10,
   "metadata": {},
   "outputs": [],
   "source": [
    "# Função para executar e enviar ao DB.\n",
    "\n",
    "def Execute_and_Commit(Query,arquivo,tabela):\n",
    "    Conn = sqlite3.connect(arquivo)\n",
    "    Cursor = Conn.cursor()\n",
    "    Cursor.execute(Query)\n",
    "    Conn.commit()\n",
    "    Cursor.close()\n",
    "    Conn.close()\n",
    "    showall(arquivo,tabela)"
   ]
  },
  {
   "cell_type": "markdown",
   "metadata": {},
   "source": [
    "## Queries"
   ]
  },
  {
   "cell_type": "markdown",
   "metadata": {},
   "source": [
    "<a id='Demo'></a>\n",
    "### Demonstração"
   ]
  },
  {
   "cell_type": "code",
   "execution_count": 11,
   "metadata": {},
   "outputs": [
    {
     "name": "stdout",
     "output_type": "stream",
     "text": [
      "('ID', None, None, None, None, None, None)\n",
      "('Produto', None, None, None, None, None, None)\n",
      "('Valor', None, None, None, None, None, None)\n",
      "('Data', None, None, None, None, None, None)\n",
      "(1, 'CPU', 76.0, '2022-09-03 22:22:58.869397')\n",
      "(2, 'Mouse', 77.0, '2022-09-03 22:22:58.875392')\n",
      "(3, 'Monitor', 54.0, '2022-09-03 22:22:58.885386')\n",
      "(4, 'Teclado', 85.0, '2022-09-03 22:22:58.897380')\n",
      "(5, 'Mouse', 76.0, '2022-09-03 22:22:58.904374')\n",
      "(6, 'Teclado', 82.0, '2022-09-03 22:22:58.909371')\n",
      "(7, 'Teclado', 59.0, '2022-09-03 22:22:58.917373')\n",
      "(8, 'Teclado', 50.0, '2022-09-03 22:22:58.923363')\n",
      "(9, 'Teclado', 69.0, '2022-09-03 22:22:58.928360')\n",
      "(10, 'Monitor', 79.0, '2022-09-03 22:22:58.940353')\n",
      "(11, 'CPU', 58.0, '2022-09-03 22:22:58.946348')\n",
      "(12, 'Teclado', 69.0, '2022-09-03 22:22:58.953344')\n",
      "(13, 'Teclado', 72.0, '2022-09-03 22:22:58.960340')\n",
      "(14, 'Teclado', 53.0, '2022-09-03 22:22:58.968335')\n",
      "(15, 'Monitor', 84.0, '2022-09-03 22:22:58.973331')\n",
      "(16, 'CPU', 81.0, '2022-09-03 22:22:58.984324')\n",
      "(17, 'CPU', 61.0, '2022-09-03 22:22:58.990322')\n",
      "(18, 'CPU', 95.0, '2022-09-03 22:22:58.996318')\n",
      "(19, 'CPU', 59.0, '2022-09-03 22:22:59.007312')\n",
      "(20, 'CPU', 80.0, '2022-09-03 22:22:59.015306')\n"
     ]
    }
   ],
   "source": [
    "# Mostrar todos os dados\n",
    "\n",
    "Query = \"SELECT * FROM random_table\"\n",
    "\n",
    "Execute_and_Show(Query,arquivo)"
   ]
  },
  {
   "cell_type": "code",
   "execution_count": 12,
   "metadata": {},
   "outputs": [
    {
     "name": "stdout",
     "output_type": "stream",
     "text": [
      "('Produto', None, None, None, None, None, None)\n",
      "('Valor', None, None, None, None, None, None)\n",
      "('CPU', 76.0)\n",
      "('Mouse', 77.0)\n",
      "('Monitor', 54.0)\n",
      "('Teclado', 85.0)\n",
      "('Mouse', 76.0)\n",
      "('Teclado', 82.0)\n",
      "('Teclado', 59.0)\n",
      "('Teclado', 50.0)\n",
      "('Teclado', 69.0)\n",
      "('Monitor', 79.0)\n",
      "('CPU', 58.0)\n",
      "('Teclado', 69.0)\n",
      "('Teclado', 72.0)\n",
      "('Teclado', 53.0)\n",
      "('Monitor', 84.0)\n",
      "('CPU', 81.0)\n",
      "('CPU', 61.0)\n",
      "('CPU', 95.0)\n",
      "('CPU', 59.0)\n",
      "('CPU', 80.0)\n"
     ]
    }
   ],
   "source": [
    "# Mostrar algumas colunas\n",
    "\n",
    "Query = \"SELECT Produto, Valor FROM random_table\"\n",
    "\n",
    "Execute_and_Show(Query,arquivo)"
   ]
  },
  {
   "cell_type": "code",
   "execution_count": 13,
   "metadata": {},
   "outputs": [
    {
     "name": "stdout",
     "output_type": "stream",
     "text": [
      "('Produto', None, None, None, None, None, None)\n",
      "('Valor', None, None, None, None, None, None)\n",
      "('CPU', 76.0)\n",
      "('Monitor', 54.0)\n",
      "('Monitor', 79.0)\n",
      "('CPU', 58.0)\n",
      "('Monitor', 84.0)\n",
      "('CPU', 81.0)\n",
      "('CPU', 61.0)\n",
      "('CPU', 95.0)\n",
      "('CPU', 59.0)\n",
      "('CPU', 80.0)\n"
     ]
    }
   ],
   "source": [
    "# Mostrar dados que correspondam a determinados valores\n",
    "# Usando operadores lógicos\n",
    "\n",
    "Query = \"SELECT Produto, Valor FROM random_table WHERE Produto = 'Monitor' OR Produto = 'CPU'\"\n",
    "\n",
    "Execute_and_Show(Query,arquivo)"
   ]
  },
  {
   "cell_type": "code",
   "execution_count": 14,
   "metadata": {},
   "outputs": [
    {
     "name": "stdout",
     "output_type": "stream",
     "text": [
      "('name', None, None, None, None, None, None)\n",
      "('random_table',)\n",
      "('sqlite_sequence',)\n"
     ]
    }
   ],
   "source": [
    "# Selecionaros nomes das tabelas da tabela \"sqlite_master\"\n",
    "\n",
    "Query = 'SELECT name FROM sqlite_master WHERE type = \"table\"'\n",
    "\n",
    "Execute_and_Show(Query,arquivo)"
   ]
  },
  {
   "cell_type": "code",
   "execution_count": 25,
   "metadata": {},
   "outputs": [
    {
     "name": "stdout",
     "output_type": "stream",
     "text": [
      "('name', None, None, None, None, None, None)\n",
      "('seq', None, None, None, None, None, None)\n",
      "('random_table', 23)\n"
     ]
    }
   ],
   "source": [
    "\n",
    "\n",
    "Query = 'SELECT * FROM sqlite_sequence'\n",
    "\n",
    "Execute_and_Show(Query,arquivo)"
   ]
  },
  {
   "cell_type": "markdown",
   "metadata": {},
   "source": [
    "### Criação\n",
    "<a id='Criação'></a>"
   ]
  },
  {
   "cell_type": "code",
   "execution_count": 27,
   "metadata": {},
   "outputs": [
    {
     "ename": "OperationalError",
     "evalue": "table Exemplo already exists",
     "output_type": "error",
     "traceback": [
      "\u001b[1;31m---------------------------------------------------------------------------\u001b[0m",
      "\u001b[1;31mOperationalError\u001b[0m                          Traceback (most recent call last)",
      "\u001b[1;32mc:\\Users\\fnsb.DESKTOP-7T10APS\\Documents\\MeusProjetos\\Python\\NotasPessoais-Python\\Notas\\Pacotes\\sql-guide.ipynb Célula: 23\u001b[0m in \u001b[0;36m<cell line: 5>\u001b[1;34m()\u001b[0m\n\u001b[0;32m      <a href='vscode-notebook-cell:/c%3A/Users/fnsb.DESKTOP-7T10APS/Documents/MeusProjetos/Python/NotasPessoais-Python/Notas/Pacotes/sql-guide.ipynb#X45sZmlsZQ%3D%3D?line=0'>1</a>\u001b[0m \u001b[39m# Criar tabela nova\u001b[39;00m\n\u001b[0;32m      <a href='vscode-notebook-cell:/c%3A/Users/fnsb.DESKTOP-7T10APS/Documents/MeusProjetos/Python/NotasPessoais-Python/Notas/Pacotes/sql-guide.ipynb#X45sZmlsZQ%3D%3D?line=2'>3</a>\u001b[0m Query \u001b[39m=\u001b[39m \u001b[39m\"\u001b[39m\u001b[39mCREATE TABLE Exemplo(id integer, name text)\u001b[39m\u001b[39m\"\u001b[39m\n\u001b[1;32m----> <a href='vscode-notebook-cell:/c%3A/Users/fnsb.DESKTOP-7T10APS/Documents/MeusProjetos/Python/NotasPessoais-Python/Notas/Pacotes/sql-guide.ipynb#X45sZmlsZQ%3D%3D?line=4'>5</a>\u001b[0m Execute_and_Commit(Query,arquivo,\u001b[39m'\u001b[39;49m\u001b[39mExemplo\u001b[39;49m\u001b[39m'\u001b[39;49m)\n",
      "\u001b[1;32mc:\\Users\\fnsb.DESKTOP-7T10APS\\Documents\\MeusProjetos\\Python\\NotasPessoais-Python\\Notas\\Pacotes\\sql-guide.ipynb Célula: 23\u001b[0m in \u001b[0;36mExecute_and_Commit\u001b[1;34m(Query, arquivo, tabela)\u001b[0m\n\u001b[0;32m      <a href='vscode-notebook-cell:/c%3A/Users/fnsb.DESKTOP-7T10APS/Documents/MeusProjetos/Python/NotasPessoais-Python/Notas/Pacotes/sql-guide.ipynb#X45sZmlsZQ%3D%3D?line=3'>4</a>\u001b[0m Conn \u001b[39m=\u001b[39m sqlite3\u001b[39m.\u001b[39mconnect(arquivo)\n\u001b[0;32m      <a href='vscode-notebook-cell:/c%3A/Users/fnsb.DESKTOP-7T10APS/Documents/MeusProjetos/Python/NotasPessoais-Python/Notas/Pacotes/sql-guide.ipynb#X45sZmlsZQ%3D%3D?line=4'>5</a>\u001b[0m Cursor \u001b[39m=\u001b[39m Conn\u001b[39m.\u001b[39mcursor()\n\u001b[1;32m----> <a href='vscode-notebook-cell:/c%3A/Users/fnsb.DESKTOP-7T10APS/Documents/MeusProjetos/Python/NotasPessoais-Python/Notas/Pacotes/sql-guide.ipynb#X45sZmlsZQ%3D%3D?line=5'>6</a>\u001b[0m Cursor\u001b[39m.\u001b[39;49mexecute(Query)\n\u001b[0;32m      <a href='vscode-notebook-cell:/c%3A/Users/fnsb.DESKTOP-7T10APS/Documents/MeusProjetos/Python/NotasPessoais-Python/Notas/Pacotes/sql-guide.ipynb#X45sZmlsZQ%3D%3D?line=6'>7</a>\u001b[0m Conn\u001b[39m.\u001b[39mcommit()\n\u001b[0;32m      <a href='vscode-notebook-cell:/c%3A/Users/fnsb.DESKTOP-7T10APS/Documents/MeusProjetos/Python/NotasPessoais-Python/Notas/Pacotes/sql-guide.ipynb#X45sZmlsZQ%3D%3D?line=7'>8</a>\u001b[0m Cursor\u001b[39m.\u001b[39mclose()\n",
      "\u001b[1;31mOperationalError\u001b[0m: table Exemplo already exists"
     ]
    }
   ],
   "source": [
    "# Criar tabela nova\n",
    "\n",
    "Query = \"CREATE TABLE Exemplo(id integer, name text)\"\n",
    "\n",
    "Execute_and_Commit(Query,arquivo,'Exemplo')\n",
    "\n",
    "#Se a tabela já existe, ocorre um erro explícito."
   ]
  },
  {
   "cell_type": "code",
   "execution_count": 28,
   "metadata": {},
   "outputs": [
    {
     "name": "stdout",
     "output_type": "stream",
     "text": [
      "Colunas ['id', 'name']\n"
     ]
    }
   ],
   "source": [
    "# Criar tabela nova se não existir\n",
    "\n",
    "Query = \"CREATE TABLE IF NOT EXISTS Exemplo(id integer, name text)\"\n",
    "\n",
    "Execute_and_Commit(Query,arquivo,'Exemplo')"
   ]
  },
  {
   "cell_type": "markdown",
   "metadata": {},
   "source": [
    "### Adição e Remoção\n",
    "<a id='Adição'></a>"
   ]
  },
  {
   "cell_type": "code",
   "execution_count": 15,
   "metadata": {},
   "outputs": [
    {
     "name": "stdout",
     "output_type": "stream",
     "text": [
      "Colunas ['ID', 'Produto', 'Valor', 'Data']\n",
      "['ID: 1', 'Produto: CPU', 'Valor: 76.0', 'Data: 2022-09-03 22:22:58.869397']\n",
      "['ID: 2', 'Produto: Mouse', 'Valor: 77.0', 'Data: 2022-09-03 22:22:58.875392']\n",
      "['ID: 3', 'Produto: Monitor', 'Valor: 54.0', 'Data: 2022-09-03 22:22:58.885386']\n",
      "['ID: 4', 'Produto: Teclado', 'Valor: 85.0', 'Data: 2022-09-03 22:22:58.897380']\n",
      "['ID: 5', 'Produto: Mouse', 'Valor: 76.0', 'Data: 2022-09-03 22:22:58.904374']\n",
      "['ID: 6', 'Produto: Teclado', 'Valor: 82.0', 'Data: 2022-09-03 22:22:58.909371']\n",
      "['ID: 7', 'Produto: Teclado', 'Valor: 59.0', 'Data: 2022-09-03 22:22:58.917373']\n",
      "['ID: 8', 'Produto: Teclado', 'Valor: 50.0', 'Data: 2022-09-03 22:22:58.923363']\n",
      "['ID: 9', 'Produto: Teclado', 'Valor: 69.0', 'Data: 2022-09-03 22:22:58.928360']\n",
      "['ID: 10', 'Produto: Monitor', 'Valor: 79.0', 'Data: 2022-09-03 22:22:58.940353']\n",
      "['ID: 11', 'Produto: CPU', 'Valor: 58.0', 'Data: 2022-09-03 22:22:58.946348']\n",
      "['ID: 12', 'Produto: Teclado', 'Valor: 69.0', 'Data: 2022-09-03 22:22:58.953344']\n",
      "['ID: 13', 'Produto: Teclado', 'Valor: 72.0', 'Data: 2022-09-03 22:22:58.960340']\n",
      "['ID: 14', 'Produto: Teclado', 'Valor: 53.0', 'Data: 2022-09-03 22:22:58.968335']\n",
      "['ID: 15', 'Produto: Monitor', 'Valor: 84.0', 'Data: 2022-09-03 22:22:58.973331']\n",
      "['ID: 16', 'Produto: CPU', 'Valor: 81.0', 'Data: 2022-09-03 22:22:58.984324']\n",
      "['ID: 17', 'Produto: CPU', 'Valor: 61.0', 'Data: 2022-09-03 22:22:58.990322']\n",
      "['ID: 18', 'Produto: CPU', 'Valor: 95.0', 'Data: 2022-09-03 22:22:58.996318']\n",
      "['ID: 19', 'Produto: CPU', 'Valor: 59.0', 'Data: 2022-09-03 22:22:59.007312']\n",
      "['ID: 20', 'Produto: CPU', 'Valor: 80.0', 'Data: 2022-09-03 22:22:59.015306']\n",
      "['ID: 21', 'Produto: CPU', 'Valor: 91.0', 'Data: 2022-09-03 16:26:28.564400']\n"
     ]
    }
   ],
   "source": [
    "# Inserir linha/observação\n",
    "\n",
    "Query = \"INSERT INTO random_table VALUES(21, 'CPU', 91.0, '2022-09-03 16:26:28.564400')\"\n",
    "\n",
    "# É necessário alternar entre aspas e aspas duplas para que o interpretador não encerre a string\n",
    "# Mesmo a Primary Key tendo autoincremento, ele deve ser dado\n",
    "# Se este comando foi executado uma segunda vez, um erro ocorre por tentar adicionar um ID que já existe.\n",
    "\n",
    "Execute_and_Commit(Query,arquivo,tabela)"
   ]
  },
  {
   "cell_type": "code",
   "execution_count": 16,
   "metadata": {},
   "outputs": [
    {
     "name": "stdout",
     "output_type": "stream",
     "text": [
      "Colunas ['ID', 'Produto', 'Valor', 'Data']\n",
      "['ID: 1', 'Produto: CPU', 'Valor: 76.0', 'Data: 2022-09-03 22:22:58.869397']\n",
      "['ID: 2', 'Produto: Mouse', 'Valor: 77.0', 'Data: 2022-09-03 22:22:58.875392']\n",
      "['ID: 3', 'Produto: Monitor', 'Valor: 54.0', 'Data: 2022-09-03 22:22:58.885386']\n",
      "['ID: 4', 'Produto: Teclado', 'Valor: 85.0', 'Data: 2022-09-03 22:22:58.897380']\n",
      "['ID: 5', 'Produto: Mouse', 'Valor: 76.0', 'Data: 2022-09-03 22:22:58.904374']\n",
      "['ID: 6', 'Produto: Teclado', 'Valor: 82.0', 'Data: 2022-09-03 22:22:58.909371']\n",
      "['ID: 7', 'Produto: Teclado', 'Valor: 59.0', 'Data: 2022-09-03 22:22:58.917373']\n",
      "['ID: 8', 'Produto: Teclado', 'Valor: 50.0', 'Data: 2022-09-03 22:22:58.923363']\n",
      "['ID: 9', 'Produto: Teclado', 'Valor: 69.0', 'Data: 2022-09-03 22:22:58.928360']\n",
      "['ID: 10', 'Produto: Monitor', 'Valor: 79.0', 'Data: 2022-09-03 22:22:58.940353']\n",
      "['ID: 11', 'Produto: CPU', 'Valor: 58.0', 'Data: 2022-09-03 22:22:58.946348']\n",
      "['ID: 12', 'Produto: Teclado', 'Valor: 69.0', 'Data: 2022-09-03 22:22:58.953344']\n",
      "['ID: 13', 'Produto: Teclado', 'Valor: 72.0', 'Data: 2022-09-03 22:22:58.960340']\n",
      "['ID: 14', 'Produto: Teclado', 'Valor: 53.0', 'Data: 2022-09-03 22:22:58.968335']\n",
      "['ID: 15', 'Produto: Monitor', 'Valor: 84.0', 'Data: 2022-09-03 22:22:58.973331']\n",
      "['ID: 16', 'Produto: CPU', 'Valor: 81.0', 'Data: 2022-09-03 22:22:58.984324']\n",
      "['ID: 17', 'Produto: CPU', 'Valor: 61.0', 'Data: 2022-09-03 22:22:58.990322']\n",
      "['ID: 18', 'Produto: CPU', 'Valor: 95.0', 'Data: 2022-09-03 22:22:58.996318']\n",
      "['ID: 19', 'Produto: CPU', 'Valor: 59.0', 'Data: 2022-09-03 22:22:59.007312']\n",
      "['ID: 20', 'Produto: CPU', 'Valor: 80.0', 'Data: 2022-09-03 22:22:59.015306']\n",
      "['ID: 21', 'Produto: CPU', 'Valor: 91.0', 'Data: 2022-09-03 16:26:28.564400']\n",
      "['ID: 22', 'Produto: CPU', 'Valor: 120.0', 'Data: 2022-09-03 16:26:28.564400']\n"
     ]
    }
   ],
   "source": [
    "# Inserir definindo valor e coluna\n",
    "\n",
    "Query = \"INSERT INTO random_table('Produto','Valor','Data') VALUES('CPU', 120.0, '2022-09-03 16:26:28.564400')\"\n",
    "\n",
    "Execute_and_Commit(Query,arquivo,tabela)"
   ]
  },
  {
   "cell_type": "code",
   "execution_count": 17,
   "metadata": {},
   "outputs": [],
   "source": [
    "# Inserir com o auxílio de uma tupla ou lista.\n",
    "\n",
    "# A execução muda\n",
    "\n",
    "Query = \"INSERT INTO random_table('Produto','Valor','Data') VALUES(?, ?, ?)\"\n",
    "\n",
    "Observação = ['Câmera',66,datetime.datetime.now()]\n",
    "\n",
    "\n",
    "Conn = sqlite3.connect(arquivo)\n",
    "Cursor = Conn.cursor()\n",
    "\n",
    "Cursor.execute(Query,Observação)\n",
    "\n",
    "Conn.commit()\n",
    "Cursor.close()\n",
    "Conn.close()\n"
   ]
  },
  {
   "cell_type": "code",
   "execution_count": 18,
   "metadata": {},
   "outputs": [
    {
     "name": "stdout",
     "output_type": "stream",
     "text": [
      "Colunas ['ID', 'Produto', 'Valor', 'Data']\n",
      "['ID: 1', 'Produto: CPU', 'Valor: 76.0', 'Data: 2022-09-03 22:22:58.869397']\n",
      "['ID: 2', 'Produto: Mouse', 'Valor: 77.0', 'Data: 2022-09-03 22:22:58.875392']\n",
      "['ID: 4', 'Produto: Teclado', 'Valor: 85.0', 'Data: 2022-09-03 22:22:58.897380']\n",
      "['ID: 5', 'Produto: Mouse', 'Valor: 76.0', 'Data: 2022-09-03 22:22:58.904374']\n",
      "['ID: 6', 'Produto: Teclado', 'Valor: 82.0', 'Data: 2022-09-03 22:22:58.909371']\n",
      "['ID: 9', 'Produto: Teclado', 'Valor: 69.0', 'Data: 2022-09-03 22:22:58.928360']\n",
      "['ID: 10', 'Produto: Monitor', 'Valor: 79.0', 'Data: 2022-09-03 22:22:58.940353']\n",
      "['ID: 12', 'Produto: Teclado', 'Valor: 69.0', 'Data: 2022-09-03 22:22:58.953344']\n",
      "['ID: 13', 'Produto: Teclado', 'Valor: 72.0', 'Data: 2022-09-03 22:22:58.960340']\n",
      "['ID: 15', 'Produto: Monitor', 'Valor: 84.0', 'Data: 2022-09-03 22:22:58.973331']\n",
      "['ID: 16', 'Produto: CPU', 'Valor: 81.0', 'Data: 2022-09-03 22:22:58.984324']\n",
      "['ID: 17', 'Produto: CPU', 'Valor: 61.0', 'Data: 2022-09-03 22:22:58.990322']\n",
      "['ID: 18', 'Produto: CPU', 'Valor: 95.0', 'Data: 2022-09-03 22:22:58.996318']\n",
      "['ID: 20', 'Produto: CPU', 'Valor: 80.0', 'Data: 2022-09-03 22:22:59.015306']\n",
      "['ID: 21', 'Produto: CPU', 'Valor: 91.0', 'Data: 2022-09-03 16:26:28.564400']\n",
      "['ID: 22', 'Produto: CPU', 'Valor: 120.0', 'Data: 2022-09-03 16:26:28.564400']\n",
      "['ID: 23', 'Produto: Câmera', 'Valor: 66.0', 'Data: 2022-09-03 22:23:00.147639']\n"
     ]
    }
   ],
   "source": [
    "# Deletar dado\n",
    "\n",
    "Query = \"DELETE FROM random_table WHERE Valor < 60\"\n",
    "\n",
    "Execute_and_Commit(Query,arquivo,tabela)"
   ]
  },
  {
   "cell_type": "markdown",
   "metadata": {},
   "source": [
    "### Alteração\n",
    "<a id='Alteração'></a>"
   ]
  },
  {
   "cell_type": "code",
   "execution_count": 19,
   "metadata": {},
   "outputs": [
    {
     "name": "stdout",
     "output_type": "stream",
     "text": [
      "Colunas ['ID', 'Produto', 'Valor', 'Data']\n",
      "['ID: 1', 'Produto: CPU', 'Valor: 76.0', 'Data: 2022-09-03 22:22:58.869397']\n",
      "['ID: 2', 'Produto: Cabos', 'Valor: 77.0', 'Data: 2022-09-03 22:22:58.875392']\n",
      "['ID: 4', 'Produto: Teclado', 'Valor: 85.0', 'Data: 2022-09-03 22:22:58.897380']\n",
      "['ID: 5', 'Produto: Mouse', 'Valor: 76.0', 'Data: 2022-09-03 22:22:58.904374']\n",
      "['ID: 6', 'Produto: Teclado', 'Valor: 82.0', 'Data: 2022-09-03 22:22:58.909371']\n",
      "['ID: 9', 'Produto: Teclado', 'Valor: 69.0', 'Data: 2022-09-03 22:22:58.928360']\n",
      "['ID: 10', 'Produto: Monitor', 'Valor: 79.0', 'Data: 2022-09-03 22:22:58.940353']\n",
      "['ID: 12', 'Produto: Teclado', 'Valor: 69.0', 'Data: 2022-09-03 22:22:58.953344']\n",
      "['ID: 13', 'Produto: Teclado', 'Valor: 72.0', 'Data: 2022-09-03 22:22:58.960340']\n",
      "['ID: 15', 'Produto: Monitor', 'Valor: 84.0', 'Data: 2022-09-03 22:22:58.973331']\n",
      "['ID: 16', 'Produto: CPU', 'Valor: 81.0', 'Data: 2022-09-03 22:22:58.984324']\n",
      "['ID: 17', 'Produto: CPU', 'Valor: 61.0', 'Data: 2022-09-03 22:22:58.990322']\n",
      "['ID: 18', 'Produto: CPU', 'Valor: 95.0', 'Data: 2022-09-03 22:22:58.996318']\n",
      "['ID: 20', 'Produto: CPU', 'Valor: 80.0', 'Data: 2022-09-03 22:22:59.015306']\n",
      "['ID: 21', 'Produto: CPU', 'Valor: 91.0', 'Data: 2022-09-03 16:26:28.564400']\n",
      "['ID: 22', 'Produto: CPU', 'Valor: 120.0', 'Data: 2022-09-03 16:26:28.564400']\n",
      "['ID: 23', 'Produto: Câmera', 'Valor: 66.0', 'Data: 2022-09-03 22:23:00.147639']\n"
     ]
    }
   ],
   "source": [
    "# Mudança de valor\n",
    "\n",
    "Query = \"UPDATE random_table SET Produto = 'Cabos' WHERE id = 2\"\n",
    "\n",
    "Execute_and_Commit(Query,arquivo,tabela)"
   ]
  },
  {
   "cell_type": "code",
   "execution_count": 20,
   "metadata": {},
   "outputs": [
    {
     "data": {
      "text/plain": [
       "\"UPDATE random_table SET Produto = 'Cabos' WHERE id = 2\""
      ]
     },
     "execution_count": 20,
     "metadata": {},
     "output_type": "execute_result"
    }
   ],
   "source": [
    "# Remover linha\n",
    "\n",
    "Query"
   ]
  },
  {
   "cell_type": "markdown",
   "metadata": {},
   "source": [
    "### Filtros e Operadores Lógicos\n",
    "<a id='Filtros e Operadores Lógicos'></a>"
   ]
  },
  {
   "cell_type": "code",
   "execution_count": 21,
   "metadata": {},
   "outputs": [
    {
     "name": "stdout",
     "output_type": "stream",
     "text": [
      "('Produto', None, None, None, None, None, None)\n",
      "('Valor', None, None, None, None, None, None)\n",
      "('Monitor', 79.0)\n",
      "('Monitor', 84.0)\n",
      "('CPU', 95.0)\n",
      "('CPU', 91.0)\n",
      "('CPU', 120.0)\n"
     ]
    }
   ],
   "source": [
    "# WHERE filtra os dados considerados\n",
    "# Se o filtro é aplicado duas vezes a uma mesma coluna, ele deve ser demonstrado duas vezes\n",
    "\n",
    "Query = \"SELECT Produto, Valor FROM random_table WHERE Produto = 'Monitor' OR Produto = 'CPU' AND Valor > 90\"\n",
    "\n",
    "# Desta forma, apenas CPU é filtrada acima de 90. Monitores não foram filtrados\n",
    "\n",
    "Execute_and_Show(Query,arquivo)"
   ]
  },
  {
   "cell_type": "code",
   "execution_count": 22,
   "metadata": {},
   "outputs": [
    {
     "name": "stdout",
     "output_type": "stream",
     "text": [
      "('Produto', None, None, None, None, None, None)\n",
      "('Valor', None, None, None, None, None, None)\n",
      "('CPU', 95.0)\n",
      "('CPU', 91.0)\n",
      "('CPU', 120.0)\n"
     ]
    }
   ],
   "source": [
    "# Assim, o filtro é aplicado a ambos os tipos de produtos\n",
    "\n",
    "Query = \"SELECT Produto, Valor FROM random_table WHERE (Produto = 'Monitor' OR Produto = 'CPU') AND Valor > 90\"\n",
    "\n",
    "Execute_and_Show(Query,arquivo)"
   ]
  },
  {
   "cell_type": "code",
   "execution_count": null,
   "metadata": {},
   "outputs": [],
   "source": []
  },
  {
   "cell_type": "markdown",
   "metadata": {},
   "source": [
    "## Sobre o SQLite3"
   ]
  },
  {
   "cell_type": "markdown",
   "metadata": {},
   "source": [
    "Conexão com a memória."
   ]
  },
  {
   "cell_type": "code",
   "execution_count": 23,
   "metadata": {},
   "outputs": [],
   "source": [
    "con_mem = sqlite3.connect(':memory:')\n",
    "\n",
    "###\n",
    "\n",
    "con_mem.close()"
   ]
  },
  {
   "cell_type": "markdown",
   "metadata": {},
   "source": [
    "Contagem de linhas afetadas"
   ]
  },
  {
   "cell_type": "code",
   "execution_count": 24,
   "metadata": {},
   "outputs": [
    {
     "name": "stdout",
     "output_type": "stream",
     "text": [
      "2\n",
      "\n",
      "Colunas ['ID', 'Produto', 'Valor', 'Data']\n",
      "['ID: 1', 'Produto: CPU', 'Valor: 76.0', 'Data: 2022-09-03 22:22:58.869397']\n",
      "['ID: 4', 'Produto: Teclado', 'Valor: 85.0', 'Data: 2022-09-03 22:22:58.897380']\n",
      "['ID: 5', 'Produto: Mouse', 'Valor: 76.0', 'Data: 2022-09-03 22:22:58.904374']\n",
      "['ID: 6', 'Produto: Teclado', 'Valor: 82.0', 'Data: 2022-09-03 22:22:58.909371']\n",
      "['ID: 9', 'Produto: Teclado', 'Valor: 69.0', 'Data: 2022-09-03 22:22:58.928360']\n",
      "['ID: 10', 'Produto: Monitor', 'Valor: 79.0', 'Data: 2022-09-03 22:22:58.940353']\n",
      "['ID: 12', 'Produto: Teclado', 'Valor: 69.0', 'Data: 2022-09-03 22:22:58.953344']\n",
      "['ID: 13', 'Produto: Teclado', 'Valor: 72.0', 'Data: 2022-09-03 22:22:58.960340']\n",
      "['ID: 15', 'Produto: Monitor', 'Valor: 84.0', 'Data: 2022-09-03 22:22:58.973331']\n",
      "['ID: 16', 'Produto: CPU', 'Valor: 81.0', 'Data: 2022-09-03 22:22:58.984324']\n",
      "['ID: 17', 'Produto: CPU', 'Valor: 61.0', 'Data: 2022-09-03 22:22:58.990322']\n",
      "['ID: 18', 'Produto: CPU', 'Valor: 95.0', 'Data: 2022-09-03 22:22:58.996318']\n",
      "['ID: 20', 'Produto: CPU', 'Valor: 80.0', 'Data: 2022-09-03 22:22:59.015306']\n",
      "['ID: 21', 'Produto: CPU', 'Valor: 91.0', 'Data: 2022-09-03 16:26:28.564400']\n",
      "['ID: 22', 'Produto: CPU', 'Valor: 120.0', 'Data: 2022-09-03 16:26:28.564400']\n"
     ]
    }
   ],
   "source": [
    "Query = 'DELETE FROM random_table WHERE Produto = \"Câmera\" OR Produto = \"Cabos\"'\n",
    "\n",
    "Conn = sqlite3.connect(arquivo)\n",
    "Cursor = Conn.cursor()\n",
    "\n",
    "# Isso não só deleta como conta quantas alterações foram feitas.\n",
    "print(Cursor.execute(Query).rowcount)\n",
    "\n",
    "Conn.commit()\n",
    "Cursor.close()\n",
    "Conn.close()\n",
    "\n",
    "print()\n",
    "\n",
    "showall(arquivo,tabela)"
   ]
  }
 ],
 "metadata": {
  "kernelspec": {
   "display_name": "Python 3.10.6 64-bit (microsoft store)",
   "language": "python",
   "name": "python3"
  },
  "language_info": {
   "codemirror_mode": {
    "name": "ipython",
    "version": 3
   },
   "file_extension": ".py",
   "mimetype": "text/x-python",
   "name": "python",
   "nbconvert_exporter": "python",
   "pygments_lexer": "ipython3",
   "version": "3.10.6"
  },
  "orig_nbformat": 4,
  "vscode": {
   "interpreter": {
    "hash": "91b18657112df8a6dc2946b9dfe3559ddfc8e1e2117c2c8071424b5e043bd8e1"
   }
  }
 },
 "nbformat": 4,
 "nbformat_minor": 2
}

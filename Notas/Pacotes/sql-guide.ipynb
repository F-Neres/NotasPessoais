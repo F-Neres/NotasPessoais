{
 "cells": [
  {
   "cell_type": "markdown",
   "metadata": {},
   "source": [
    "# Guia de Comandos SQL Aplicados em Python"
   ]
  },
  {
   "cell_type": "markdown",
   "metadata": {},
   "source": [
    "* [Demonstração](#Demo)\n",
    "* Criação\n",
    "* Adição e Remoção\n",
    "* Alteração\n",
    "* Filtros e Operadores Lógicos"
   ]
  },
  {
   "cell_type": "markdown",
   "metadata": {},
   "source": [
    "Pacotes:"
   ]
  },
  {
   "cell_type": "code",
   "execution_count": 1,
   "metadata": {},
   "outputs": [],
   "source": [
    "import os\n",
    "import sqlite3"
   ]
  },
  {
   "cell_type": "markdown",
   "metadata": {},
   "source": [
    "## Criando um exemplo com funções"
   ]
  },
  {
   "cell_type": "code",
   "execution_count": 2,
   "metadata": {},
   "outputs": [],
   "source": [
    "import random\n",
    "import time\n",
    "import datetime"
   ]
  },
  {
   "cell_type": "code",
   "execution_count": 3,
   "metadata": {},
   "outputs": [],
   "source": [
    "#Database e tabela padrões\n",
    "\n",
    "arquivo = r'../ArquivosParalelos/random_tables.db'\n",
    "tabela = 'random_table'"
   ]
  },
  {
   "cell_type": "code",
   "execution_count": 4,
   "metadata": {},
   "outputs": [],
   "source": [
    "# Função para criar um arquivo e a tabela\n",
    "\n",
    "# todas as variáveis são dadas como strings\n",
    "# \"arquivo\" é o diretório e o nome o arquivo db a ser criado\n",
    "# \"tabela\" é o nome da tabela dentro do db\n",
    "# \"colunas\" recebe os nomes das colunas juntamente com suas diretrizes.\n",
    "\n",
    "\n",
    "def create_table(arquivo,tabela,*colunas_parametros):\n",
    "    c = sqlite3.connect(arquivo).cursor() #Cria o arquivo, se ele já não existe, com a conexão e o cursor.\n",
    "    Colunas = ''\n",
    "    for i in colunas_parametros:\n",
    "        Colunas = Colunas+i+', '\n",
    "    Colunas = Colunas[0:-2] #Remove a vírgula e o espaço no final\n",
    "    c.execute(f'CREATE TABLE IF NOT EXISTS {tabela}({Colunas})')\n",
    "    c.close()"
   ]
  },
  {
   "cell_type": "code",
   "execution_count": 5,
   "metadata": {},
   "outputs": [],
   "source": [
    "# Função para inserir dados.\n",
    "\n",
    "# \"arquivo\" é uma sring com o diretório e o nome do DB\n",
    "# \"tabela\" é uma string contendo o nome da tabela\n",
    "# \"colunas\" é uma lista ou tupla com strings contendo os nomes das colunas.\n",
    "# \"valores\" é uma lista ou tupla contendo os valores a serem acrescentados, na ordem das colunas\n",
    "\n",
    "def data_insert_var(arquivo,tabela,colunas,valores):\n",
    "    conn = sqlite3.connect(arquivo)\n",
    "    c = conn.cursor()\n",
    "\n",
    "    Colunas = ''\n",
    "    for i in colunas:\n",
    "        Colunas = Colunas+i+', '\n",
    "    Colunas = Colunas[0:-2]\n",
    "    print(Colunas)\n",
    "\n",
    "    n = ''\n",
    "    for i in range(len(colunas)):\n",
    "        n = n+'?, '\n",
    "    n = n[0:-2]\n",
    "    print(n)\n",
    "\n",
    "    print('')\n",
    "    print(f\"INSERT INTO {tabela} ({Colunas}) VALUES ({n})\")\n",
    "    print(valores)\n",
    "\n",
    "    c.execute(f\"INSERT INTO {tabela} ({Colunas}) VALUES ({n})\", valores)\n",
    "    conn.commit()\n",
    "    c.close()\n",
    "    conn.close()"
   ]
  },
  {
   "cell_type": "code",
   "execution_count": 6,
   "metadata": {},
   "outputs": [],
   "source": [
    "# Função de leitura\n",
    "\n",
    "def showall(arquivo,tabela):\n",
    "    c = sqlite3.connect(arquivo).cursor()\n",
    "    c.execute(f'select * from {tabela}')\n",
    "    data = c.fetchall()\n",
    "\n",
    "    Colunas = [i[0] for i in c.execute(f'select * from {tabela}').description ]\n",
    "    print(\"Colunas\",Colunas)\n",
    "\n",
    "    for i in data:\n",
    "        linha = []\n",
    "        for j,k in zip(Colunas,i):\n",
    "            linha.append(f\"{j}: {k}\")\n",
    "        print(linha)\n",
    "\n",
    "    c.close()"
   ]
  },
  {
   "cell_type": "code",
   "execution_count": 7,
   "metadata": {},
   "outputs": [
    {
     "name": "stdout",
     "output_type": "stream",
     "text": [
      "Produto, Valor, Data, Vendido\n",
      "?, ?, ?, ?\n",
      "\n",
      "INSERT INTO random_table (Produto, Valor, Data, Vendido) VALUES (?, ?, ?, ?)\n",
      "('Mouse', 92, datetime.datetime(2022, 9, 8, 22, 4, 27, 597517), 1)\n",
      "Produto, Valor, Data, Vendido\n",
      "?, ?, ?, ?\n",
      "\n",
      "INSERT INTO random_table (Produto, Valor, Data, Vendido) VALUES (?, ?, ?, ?)\n",
      "('Teclado', 81, datetime.datetime(2022, 9, 8, 22, 4, 27, 603511), 0)\n",
      "Produto, Valor, Data, Vendido\n",
      "?, ?, ?, ?\n",
      "\n",
      "INSERT INTO random_table (Produto, Valor, Data, Vendido) VALUES (?, ?, ?, ?)\n",
      "('Monitor', 70, datetime.datetime(2022, 9, 8, 22, 4, 27, 634492), 1)\n",
      "Produto, Valor, Data, Vendido\n",
      "?, ?, ?, ?\n",
      "\n",
      "INSERT INTO random_table (Produto, Valor, Data, Vendido) VALUES (?, ?, ?, ?)\n",
      "('Monitor', 61, datetime.datetime(2022, 9, 8, 22, 4, 27, 772406), 0)\n",
      "Produto, Valor, Data, Vendido\n",
      "?, ?, ?, ?\n",
      "\n",
      "INSERT INTO random_table (Produto, Valor, Data, Vendido) VALUES (?, ?, ?, ?)\n",
      "('Teclado', 59, datetime.datetime(2022, 9, 8, 22, 4, 27, 790396), 1)\n",
      "Produto, Valor, Data, Vendido\n",
      "?, ?, ?, ?\n",
      "\n",
      "INSERT INTO random_table (Produto, Valor, Data, Vendido) VALUES (?, ?, ?, ?)\n",
      "('Teclado', 52, datetime.datetime(2022, 9, 8, 22, 4, 27, 810383), 1)\n",
      "Produto, Valor, Data, Vendido\n",
      "?, ?, ?, ?\n",
      "\n",
      "INSERT INTO random_table (Produto, Valor, Data, Vendido) VALUES (?, ?, ?, ?)\n",
      "('Monitor', 52, datetime.datetime(2022, 9, 8, 22, 4, 27, 820377), 0)\n",
      "Produto, Valor, Data, Vendido\n",
      "?, ?, ?, ?\n",
      "\n",
      "INSERT INTO random_table (Produto, Valor, Data, Vendido) VALUES (?, ?, ?, ?)\n",
      "('CPU', 79, datetime.datetime(2022, 9, 8, 22, 4, 27, 835369), 1)\n",
      "Produto, Valor, Data, Vendido\n",
      "?, ?, ?, ?\n",
      "\n",
      "INSERT INTO random_table (Produto, Valor, Data, Vendido) VALUES (?, ?, ?, ?)\n",
      "('Monitor', 58, datetime.datetime(2022, 9, 8, 22, 4, 27, 847360), 0)\n",
      "Produto, Valor, Data, Vendido\n",
      "?, ?, ?, ?\n",
      "\n",
      "INSERT INTO random_table (Produto, Valor, Data, Vendido) VALUES (?, ?, ?, ?)\n",
      "('Mouse', 62, datetime.datetime(2022, 9, 8, 22, 4, 27, 861352), 1)\n",
      "Produto, Valor, Data, Vendido\n",
      "?, ?, ?, ?\n",
      "\n",
      "INSERT INTO random_table (Produto, Valor, Data, Vendido) VALUES (?, ?, ?, ?)\n",
      "('Teclado', 51, datetime.datetime(2022, 9, 8, 22, 4, 27, 871345), 1)\n",
      "Produto, Valor, Data, Vendido\n",
      "?, ?, ?, ?\n",
      "\n",
      "INSERT INTO random_table (Produto, Valor, Data, Vendido) VALUES (?, ?, ?, ?)\n",
      "('Teclado', 52, datetime.datetime(2022, 9, 8, 22, 4, 27, 883338), 0)\n",
      "Produto, Valor, Data, Vendido\n",
      "?, ?, ?, ?\n",
      "\n",
      "INSERT INTO random_table (Produto, Valor, Data, Vendido) VALUES (?, ?, ?, ?)\n",
      "('Monitor', 78, datetime.datetime(2022, 9, 8, 22, 4, 27, 895331), 1)\n",
      "Produto, Valor, Data, Vendido\n",
      "?, ?, ?, ?\n",
      "\n",
      "INSERT INTO random_table (Produto, Valor, Data, Vendido) VALUES (?, ?, ?, ?)\n",
      "('Teclado', 84, datetime.datetime(2022, 9, 8, 22, 4, 27, 904325), 0)\n",
      "Produto, Valor, Data, Vendido\n",
      "?, ?, ?, ?\n",
      "\n",
      "INSERT INTO random_table (Produto, Valor, Data, Vendido) VALUES (?, ?, ?, ?)\n",
      "('Teclado', 84, datetime.datetime(2022, 9, 8, 22, 4, 27, 912320), 0)\n",
      "Produto, Valor, Data, Vendido\n",
      "?, ?, ?, ?\n",
      "\n",
      "INSERT INTO random_table (Produto, Valor, Data, Vendido) VALUES (?, ?, ?, ?)\n",
      "('Teclado', 69, datetime.datetime(2022, 9, 8, 22, 4, 27, 919317), 1)\n",
      "Produto, Valor, Data, Vendido\n",
      "?, ?, ?, ?\n",
      "\n",
      "INSERT INTO random_table (Produto, Valor, Data, Vendido) VALUES (?, ?, ?, ?)\n",
      "('Monitor', 74, datetime.datetime(2022, 9, 8, 22, 4, 27, 928310), 0)\n",
      "Produto, Valor, Data, Vendido\n",
      "?, ?, ?, ?\n",
      "\n",
      "INSERT INTO random_table (Produto, Valor, Data, Vendido) VALUES (?, ?, ?, ?)\n",
      "('Monitor', 72, datetime.datetime(2022, 9, 8, 22, 4, 27, 935306), 0)\n",
      "Produto, Valor, Data, Vendido\n",
      "?, ?, ?, ?\n",
      "\n",
      "INSERT INTO random_table (Produto, Valor, Data, Vendido) VALUES (?, ?, ?, ?)\n",
      "('Monitor', 60, datetime.datetime(2022, 9, 8, 22, 4, 27, 946299), 1)\n",
      "Produto, Valor, Data, Vendido\n",
      "?, ?, ?, ?\n",
      "\n",
      "INSERT INTO random_table (Produto, Valor, Data, Vendido) VALUES (?, ?, ?, ?)\n",
      "('Teclado', 80, datetime.datetime(2022, 9, 8, 22, 4, 27, 953294), 1)\n"
     ]
    }
   ],
   "source": [
    "# Criando uma tabela-pai aletória\n",
    "\n",
    "os.remove(r'../ArquivosParalelos/random_tables.db') if os.path.exists(r'../ArquivosParalelos/random_tables.db') else None\n",
    "\n",
    "n = 20 #Número de observações\n",
    "\n",
    "create_table(arquivo,tabela,\"ID INTEGER PRIMARY KEY AUTOINCREMENT NOT NULL\",\"Produto TEXT\",\"Valor REAL\",\"Data DATE\",\"Vendido BIT NOT NULL\")\n",
    "#create_table(arquivo,tabela,\"ID INTEGER PRIMARY KEY NOT NULL\",\"Produto TEXT\",\"Valor REAL\",\"Data TEXT\")\n",
    "\n",
    "for i in range(n): #cria n itens na lista.\n",
    "    new_date = datetime.datetime.now() #cria um objeto contendo a data e a hora atuais.\n",
    "    new_prod_name = random.choice(['Monitor', 'CPU', 'Teclado','Mouse']) #Escolhe um item na lista.\n",
    "    new_value = random.randrange(50,100) #Escolhe um preço para ser um valor do item.\n",
    "    new_bool = random.choice([0,1]) #Escolhe um valor bit aleatório\n",
    "\n",
    "    valores = (new_prod_name,new_value,new_date,new_bool)\n",
    "\n",
    "    data_insert_var(arquivo,tabela,('Produto','Valor','Data','Vendido'),valores)\n",
    "\n",
    "    time.sleep(0) #aguarda."
   ]
  },
  {
   "cell_type": "code",
   "execution_count": 8,
   "metadata": {},
   "outputs": [
    {
     "name": "stdout",
     "output_type": "stream",
     "text": [
      "[('Mouse',), ('Teclado',), ('Monitor',), ('Monitor',), ('Teclado',), ('Teclado',), ('Monitor',), ('CPU',), ('Monitor',), ('Mouse',), ('Teclado',), ('Teclado',), ('Monitor',), ('Teclado',), ('Teclado',), ('Teclado',), ('Monitor',), ('Monitor',), ('Monitor',), ('Teclado',)]\n"
     ]
    }
   ],
   "source": [
    "Query = \"SELECT Produto FROM random_table\"\n",
    "\n",
    "print(sqlite3.connect(arquivo).cursor().execute(Query).fetchall())"
   ]
  },
  {
   "cell_type": "code",
   "execution_count": 9,
   "metadata": {},
   "outputs": [
    {
     "name": "stdout",
     "output_type": "stream",
     "text": [
      "[1, 2, 3, 4, 5, 6, 7, 8, 9, 10, 11, 12, 13, 14, 15, 16, 17, 18, 19, 20]\n",
      "Desconto, Data, ProdutoID\n",
      "?, ?, ?\n",
      "\n",
      "INSERT INTO child_table (Desconto, Data, ProdutoID) VALUES (?, ?, ?)\n",
      "(14, datetime.datetime(2022, 9, 8, 22, 6, 53, 752755), 17)\n",
      "Desconto, Data, ProdutoID\n",
      "?, ?, ?\n",
      "\n",
      "INSERT INTO child_table (Desconto, Data, ProdutoID) VALUES (?, ?, ?)\n",
      "(20, datetime.datetime(2022, 9, 8, 22, 6, 53, 758750), 5)\n",
      "Desconto, Data, ProdutoID\n",
      "?, ?, ?\n",
      "\n",
      "INSERT INTO child_table (Desconto, Data, ProdutoID) VALUES (?, ?, ?)\n",
      "(11, datetime.datetime(2022, 9, 8, 22, 6, 53, 765746), 8)\n",
      "Desconto, Data, ProdutoID\n",
      "?, ?, ?\n",
      "\n",
      "INSERT INTO child_table (Desconto, Data, ProdutoID) VALUES (?, ?, ?)\n",
      "(14, datetime.datetime(2022, 9, 8, 22, 6, 53, 771742), 4)\n",
      "Desconto, Data, ProdutoID\n",
      "?, ?, ?\n",
      "\n",
      "INSERT INTO child_table (Desconto, Data, ProdutoID) VALUES (?, ?, ?)\n",
      "(0, datetime.datetime(2022, 9, 8, 22, 6, 53, 776739), 3)\n",
      "Desconto, Data, ProdutoID\n",
      "?, ?, ?\n",
      "\n",
      "INSERT INTO child_table (Desconto, Data, ProdutoID) VALUES (?, ?, ?)\n",
      "(8, datetime.datetime(2022, 9, 8, 22, 6, 53, 783735), 6)\n",
      "Desconto, Data, ProdutoID\n",
      "?, ?, ?\n",
      "\n",
      "INSERT INTO child_table (Desconto, Data, ProdutoID) VALUES (?, ?, ?)\n",
      "(6, datetime.datetime(2022, 9, 8, 22, 6, 53, 788732), 6)\n",
      "Desconto, Data, ProdutoID\n",
      "?, ?, ?\n",
      "\n",
      "INSERT INTO child_table (Desconto, Data, ProdutoID) VALUES (?, ?, ?)\n",
      "(19, datetime.datetime(2022, 9, 8, 22, 6, 53, 794730), 20)\n",
      "Desconto, Data, ProdutoID\n",
      "?, ?, ?\n",
      "\n",
      "INSERT INTO child_table (Desconto, Data, ProdutoID) VALUES (?, ?, ?)\n",
      "(16, datetime.datetime(2022, 9, 8, 22, 6, 53, 801725), 19)\n",
      "Desconto, Data, ProdutoID\n",
      "?, ?, ?\n",
      "\n",
      "INSERT INTO child_table (Desconto, Data, ProdutoID) VALUES (?, ?, ?)\n",
      "(0, datetime.datetime(2022, 9, 8, 22, 6, 53, 807721), 6)\n",
      "Desconto, Data, ProdutoID\n",
      "?, ?, ?\n",
      "\n",
      "INSERT INTO child_table (Desconto, Data, ProdutoID) VALUES (?, ?, ?)\n",
      "(17, datetime.datetime(2022, 9, 8, 22, 6, 53, 824709), 13)\n",
      "Desconto, Data, ProdutoID\n",
      "?, ?, ?\n",
      "\n",
      "INSERT INTO child_table (Desconto, Data, ProdutoID) VALUES (?, ?, ?)\n",
      "(13, datetime.datetime(2022, 9, 8, 22, 6, 53, 842699), 2)\n",
      "Desconto, Data, ProdutoID\n",
      "?, ?, ?\n",
      "\n",
      "INSERT INTO child_table (Desconto, Data, ProdutoID) VALUES (?, ?, ?)\n",
      "(21, datetime.datetime(2022, 9, 8, 22, 6, 53, 848696), 13)\n",
      "Desconto, Data, ProdutoID\n",
      "?, ?, ?\n",
      "\n",
      "INSERT INTO child_table (Desconto, Data, ProdutoID) VALUES (?, ?, ?)\n",
      "(17, datetime.datetime(2022, 9, 8, 22, 6, 53, 855691), 18)\n",
      "Desconto, Data, ProdutoID\n",
      "?, ?, ?\n",
      "\n",
      "INSERT INTO child_table (Desconto, Data, ProdutoID) VALUES (?, ?, ?)\n",
      "(23, datetime.datetime(2022, 9, 8, 22, 6, 53, 865685), 5)\n",
      "Desconto, Data, ProdutoID\n",
      "?, ?, ?\n",
      "\n",
      "INSERT INTO child_table (Desconto, Data, ProdutoID) VALUES (?, ?, ?)\n",
      "(24, datetime.datetime(2022, 9, 8, 22, 6, 53, 943636), 4)\n",
      "Desconto, Data, ProdutoID\n",
      "?, ?, ?\n",
      "\n",
      "INSERT INTO child_table (Desconto, Data, ProdutoID) VALUES (?, ?, ?)\n",
      "(10, datetime.datetime(2022, 9, 8, 22, 6, 53, 950632), 6)\n",
      "Desconto, Data, ProdutoID\n",
      "?, ?, ?\n",
      "\n",
      "INSERT INTO child_table (Desconto, Data, ProdutoID) VALUES (?, ?, ?)\n",
      "(23, datetime.datetime(2022, 9, 8, 22, 6, 53, 960626), 16)\n",
      "Desconto, Data, ProdutoID\n",
      "?, ?, ?\n",
      "\n",
      "INSERT INTO child_table (Desconto, Data, ProdutoID) VALUES (?, ?, ?)\n",
      "(1, datetime.datetime(2022, 9, 8, 22, 6, 53, 967621), 5)\n",
      "Desconto, Data, ProdutoID\n",
      "?, ?, ?\n",
      "\n",
      "INSERT INTO child_table (Desconto, Data, ProdutoID) VALUES (?, ?, ?)\n",
      "(12, datetime.datetime(2022, 9, 8, 22, 6, 53, 999603), 16)\n",
      "Desconto, Data, ProdutoID\n",
      "?, ?, ?\n",
      "\n",
      "INSERT INTO child_table (Desconto, Data, ProdutoID) VALUES (?, ?, ?)\n",
      "(12, datetime.datetime(2022, 9, 8, 22, 6, 54, 6597), 8)\n",
      "Desconto, Data, ProdutoID\n",
      "?, ?, ?\n",
      "\n",
      "INSERT INTO child_table (Desconto, Data, ProdutoID) VALUES (?, ?, ?)\n",
      "(3, datetime.datetime(2022, 9, 8, 22, 6, 54, 12594), 5)\n",
      "Desconto, Data, ProdutoID\n",
      "?, ?, ?\n",
      "\n",
      "INSERT INTO child_table (Desconto, Data, ProdutoID) VALUES (?, ?, ?)\n",
      "(0, datetime.datetime(2022, 9, 8, 22, 6, 54, 22588), 17)\n",
      "Desconto, Data, ProdutoID\n",
      "?, ?, ?\n",
      "\n",
      "INSERT INTO child_table (Desconto, Data, ProdutoID) VALUES (?, ?, ?)\n",
      "(24, datetime.datetime(2022, 9, 8, 22, 6, 54, 28584), 14)\n",
      "Desconto, Data, ProdutoID\n",
      "?, ?, ?\n",
      "\n",
      "INSERT INTO child_table (Desconto, Data, ProdutoID) VALUES (?, ?, ?)\n",
      "(3, datetime.datetime(2022, 9, 8, 22, 6, 54, 36578), 20)\n",
      "Desconto, Data, ProdutoID\n",
      "?, ?, ?\n",
      "\n",
      "INSERT INTO child_table (Desconto, Data, ProdutoID) VALUES (?, ?, ?)\n",
      "(3, datetime.datetime(2022, 9, 8, 22, 6, 54, 42576), 9)\n",
      "Desconto, Data, ProdutoID\n",
      "?, ?, ?\n",
      "\n",
      "INSERT INTO child_table (Desconto, Data, ProdutoID) VALUES (?, ?, ?)\n",
      "(16, datetime.datetime(2022, 9, 8, 22, 6, 54, 51570), 15)\n",
      "Desconto, Data, ProdutoID\n",
      "?, ?, ?\n",
      "\n",
      "INSERT INTO child_table (Desconto, Data, ProdutoID) VALUES (?, ?, ?)\n",
      "(5, datetime.datetime(2022, 9, 8, 22, 6, 54, 57565), 3)\n",
      "Desconto, Data, ProdutoID\n",
      "?, ?, ?\n",
      "\n",
      "INSERT INTO child_table (Desconto, Data, ProdutoID) VALUES (?, ?, ?)\n",
      "(17, datetime.datetime(2022, 9, 8, 22, 6, 54, 86547), 8)\n",
      "Desconto, Data, ProdutoID\n",
      "?, ?, ?\n",
      "\n",
      "INSERT INTO child_table (Desconto, Data, ProdutoID) VALUES (?, ?, ?)\n",
      "(17, datetime.datetime(2022, 9, 8, 22, 6, 54, 97541), 11)\n"
     ]
    }
   ],
   "source": [
    "# Criando uma tabela-filha aletória\n",
    "\n",
    "Produtos = sqlite3.connect(arquivo).cursor().execute(\"SELECT ID FROM random_table\").fetchall()\n",
    "ProdID = [i[0] for i in Produtos]\n",
    "#for i in Produtos:\n",
    "#    ProdID.append(i[0])\n",
    "print(ProdID)\n",
    "\n",
    "Query = \"CREATE TABLE IF NOT EXISTS child_table (ID INTEGER PRIMARY KEY AUTOINCREMENT NOT NULL, Desconto REAL, Data DATE, ProdutoID INTEGER NOT NULL, FOREIGN KEY (ProdutoID) REFERENCES random_table(ID))\"\n",
    "\n",
    "conn = sqlite3.connect(arquivo)\n",
    "curs = conn.cursor()\n",
    "curs.execute(Query)\n",
    "conn.commit()\n",
    "curs.close()\n",
    "conn.close()\n",
    "\n",
    "n=30\n",
    "for i in range(n): #cria n itens na lista.\n",
    "    new_date = datetime.datetime.now() #cria um objeto contendo a data e a hora atuais.\n",
    "    new_value = random.randrange(0,25) #Escolhe um preço para ser um valor do item.\n",
    "    new_from_list = random.choice(ProdID) #Escolhe um valor bit aleatório\n",
    "\n",
    "    valores = (new_value,new_date,new_from_list)\n",
    "\n",
    "    data_insert_var(arquivo,'child_table',('Desconto','Data','ProdutoID'),valores)"
   ]
  },
  {
   "cell_type": "code",
   "execution_count": 10,
   "metadata": {},
   "outputs": [
    {
     "name": "stdout",
     "output_type": "stream",
     "text": [
      "Colunas ['ID', 'Produto', 'Valor', 'Data', 'Vendido']\n",
      "['ID: 1', 'Produto: Mouse', 'Valor: 92.0', 'Data: 2022-09-08 22:04:27.597517', 'Vendido: 1']\n",
      "['ID: 2', 'Produto: Teclado', 'Valor: 81.0', 'Data: 2022-09-08 22:04:27.603511', 'Vendido: 0']\n",
      "['ID: 3', 'Produto: Monitor', 'Valor: 70.0', 'Data: 2022-09-08 22:04:27.634492', 'Vendido: 1']\n",
      "['ID: 4', 'Produto: Monitor', 'Valor: 61.0', 'Data: 2022-09-08 22:04:27.772406', 'Vendido: 0']\n",
      "['ID: 5', 'Produto: Teclado', 'Valor: 59.0', 'Data: 2022-09-08 22:04:27.790396', 'Vendido: 1']\n",
      "['ID: 6', 'Produto: Teclado', 'Valor: 52.0', 'Data: 2022-09-08 22:04:27.810383', 'Vendido: 1']\n",
      "['ID: 7', 'Produto: Monitor', 'Valor: 52.0', 'Data: 2022-09-08 22:04:27.820377', 'Vendido: 0']\n",
      "['ID: 8', 'Produto: CPU', 'Valor: 79.0', 'Data: 2022-09-08 22:04:27.835369', 'Vendido: 1']\n",
      "['ID: 9', 'Produto: Monitor', 'Valor: 58.0', 'Data: 2022-09-08 22:04:27.847360', 'Vendido: 0']\n",
      "['ID: 10', 'Produto: Mouse', 'Valor: 62.0', 'Data: 2022-09-08 22:04:27.861352', 'Vendido: 1']\n",
      "['ID: 11', 'Produto: Teclado', 'Valor: 51.0', 'Data: 2022-09-08 22:04:27.871345', 'Vendido: 1']\n",
      "['ID: 12', 'Produto: Teclado', 'Valor: 52.0', 'Data: 2022-09-08 22:04:27.883338', 'Vendido: 0']\n",
      "['ID: 13', 'Produto: Monitor', 'Valor: 78.0', 'Data: 2022-09-08 22:04:27.895331', 'Vendido: 1']\n",
      "['ID: 14', 'Produto: Teclado', 'Valor: 84.0', 'Data: 2022-09-08 22:04:27.904325', 'Vendido: 0']\n",
      "['ID: 15', 'Produto: Teclado', 'Valor: 84.0', 'Data: 2022-09-08 22:04:27.912320', 'Vendido: 0']\n",
      "['ID: 16', 'Produto: Teclado', 'Valor: 69.0', 'Data: 2022-09-08 22:04:27.919317', 'Vendido: 1']\n",
      "['ID: 17', 'Produto: Monitor', 'Valor: 74.0', 'Data: 2022-09-08 22:04:27.928310', 'Vendido: 0']\n",
      "['ID: 18', 'Produto: Monitor', 'Valor: 72.0', 'Data: 2022-09-08 22:04:27.935306', 'Vendido: 0']\n",
      "['ID: 19', 'Produto: Monitor', 'Valor: 60.0', 'Data: 2022-09-08 22:04:27.946299', 'Vendido: 1']\n",
      "['ID: 20', 'Produto: Teclado', 'Valor: 80.0', 'Data: 2022-09-08 22:04:27.953294', 'Vendido: 1']\n"
     ]
    }
   ],
   "source": [
    "# Vendo a tabela.\n",
    "\n",
    "showall(arquivo,tabela)"
   ]
  },
  {
   "cell_type": "code",
   "execution_count": 11,
   "metadata": {},
   "outputs": [
    {
     "name": "stdout",
     "output_type": "stream",
     "text": [
      "Colunas ['ID', 'Desconto', 'Data', 'ProdutoID']\n",
      "['ID: 1', 'Desconto: 14.0', 'Data: 2022-09-08 22:06:53.752755', 'ProdutoID: 17']\n",
      "['ID: 2', 'Desconto: 20.0', 'Data: 2022-09-08 22:06:53.758750', 'ProdutoID: 5']\n",
      "['ID: 3', 'Desconto: 11.0', 'Data: 2022-09-08 22:06:53.765746', 'ProdutoID: 8']\n",
      "['ID: 4', 'Desconto: 14.0', 'Data: 2022-09-08 22:06:53.771742', 'ProdutoID: 4']\n",
      "['ID: 5', 'Desconto: 0.0', 'Data: 2022-09-08 22:06:53.776739', 'ProdutoID: 3']\n",
      "['ID: 6', 'Desconto: 8.0', 'Data: 2022-09-08 22:06:53.783735', 'ProdutoID: 6']\n",
      "['ID: 7', 'Desconto: 6.0', 'Data: 2022-09-08 22:06:53.788732', 'ProdutoID: 6']\n",
      "['ID: 8', 'Desconto: 19.0', 'Data: 2022-09-08 22:06:53.794730', 'ProdutoID: 20']\n",
      "['ID: 9', 'Desconto: 16.0', 'Data: 2022-09-08 22:06:53.801725', 'ProdutoID: 19']\n",
      "['ID: 10', 'Desconto: 0.0', 'Data: 2022-09-08 22:06:53.807721', 'ProdutoID: 6']\n",
      "['ID: 11', 'Desconto: 17.0', 'Data: 2022-09-08 22:06:53.824709', 'ProdutoID: 13']\n",
      "['ID: 12', 'Desconto: 13.0', 'Data: 2022-09-08 22:06:53.842699', 'ProdutoID: 2']\n",
      "['ID: 13', 'Desconto: 21.0', 'Data: 2022-09-08 22:06:53.848696', 'ProdutoID: 13']\n",
      "['ID: 14', 'Desconto: 17.0', 'Data: 2022-09-08 22:06:53.855691', 'ProdutoID: 18']\n",
      "['ID: 15', 'Desconto: 23.0', 'Data: 2022-09-08 22:06:53.865685', 'ProdutoID: 5']\n",
      "['ID: 16', 'Desconto: 24.0', 'Data: 2022-09-08 22:06:53.943636', 'ProdutoID: 4']\n",
      "['ID: 17', 'Desconto: 10.0', 'Data: 2022-09-08 22:06:53.950632', 'ProdutoID: 6']\n",
      "['ID: 18', 'Desconto: 23.0', 'Data: 2022-09-08 22:06:53.960626', 'ProdutoID: 16']\n",
      "['ID: 19', 'Desconto: 1.0', 'Data: 2022-09-08 22:06:53.967621', 'ProdutoID: 5']\n",
      "['ID: 20', 'Desconto: 12.0', 'Data: 2022-09-08 22:06:53.999603', 'ProdutoID: 16']\n",
      "['ID: 21', 'Desconto: 12.0', 'Data: 2022-09-08 22:06:54.006597', 'ProdutoID: 8']\n",
      "['ID: 22', 'Desconto: 3.0', 'Data: 2022-09-08 22:06:54.012594', 'ProdutoID: 5']\n",
      "['ID: 23', 'Desconto: 0.0', 'Data: 2022-09-08 22:06:54.022588', 'ProdutoID: 17']\n",
      "['ID: 24', 'Desconto: 24.0', 'Data: 2022-09-08 22:06:54.028584', 'ProdutoID: 14']\n",
      "['ID: 25', 'Desconto: 3.0', 'Data: 2022-09-08 22:06:54.036578', 'ProdutoID: 20']\n",
      "['ID: 26', 'Desconto: 3.0', 'Data: 2022-09-08 22:06:54.042576', 'ProdutoID: 9']\n",
      "['ID: 27', 'Desconto: 16.0', 'Data: 2022-09-08 22:06:54.051570', 'ProdutoID: 15']\n",
      "['ID: 28', 'Desconto: 5.0', 'Data: 2022-09-08 22:06:54.057565', 'ProdutoID: 3']\n",
      "['ID: 29', 'Desconto: 17.0', 'Data: 2022-09-08 22:06:54.086547', 'ProdutoID: 8']\n",
      "['ID: 30', 'Desconto: 17.0', 'Data: 2022-09-08 22:06:54.097541', 'ProdutoID: 11']\n"
     ]
    }
   ],
   "source": [
    "showall(arquivo,'child_table')"
   ]
  },
  {
   "cell_type": "code",
   "execution_count": 12,
   "metadata": {},
   "outputs": [],
   "source": [
    "# Função para mostrar apenas o Fetchall\n",
    "\n",
    "def Execute_and_Show(Query,arquivo):\n",
    "    Cursor = sqlite3.connect(arquivo).cursor()\n",
    "    Cursor.execute(Query)\n",
    "    for i in Cursor.execute(Query).description:\n",
    "        print(i)\n",
    "    print()\n",
    "    for i in Cursor.fetchall():\n",
    "        print(i)\n",
    "    Cursor.close()"
   ]
  },
  {
   "cell_type": "code",
   "execution_count": 13,
   "metadata": {},
   "outputs": [],
   "source": [
    "# Função para executar e enviar ao DB.\n",
    "\n",
    "def Execute_and_Commit(Query,arquivo,tabela):\n",
    "    Conn = sqlite3.connect(arquivo)\n",
    "    Cursor = Conn.cursor()\n",
    "    Cursor.execute(Query)\n",
    "    Conn.commit()\n",
    "    Cursor.close()\n",
    "    Conn.close()\n",
    "    showall(arquivo,tabela)"
   ]
  },
  {
   "cell_type": "markdown",
   "metadata": {},
   "source": [
    "## Queries"
   ]
  },
  {
   "cell_type": "markdown",
   "metadata": {},
   "source": [
    "<a id='Demo'></a>\n",
    "### Demonstração"
   ]
  },
  {
   "cell_type": "code",
   "execution_count": 14,
   "metadata": {},
   "outputs": [
    {
     "name": "stdout",
     "output_type": "stream",
     "text": [
      "('ID', None, None, None, None, None, None)\n",
      "('Produto', None, None, None, None, None, None)\n",
      "('Valor', None, None, None, None, None, None)\n",
      "('Data', None, None, None, None, None, None)\n",
      "('Vendido', None, None, None, None, None, None)\n",
      "\n",
      "(1, 'Mouse', 92.0, '2022-09-08 22:04:27.597517', 1)\n",
      "(2, 'Teclado', 81.0, '2022-09-08 22:04:27.603511', 0)\n",
      "(3, 'Monitor', 70.0, '2022-09-08 22:04:27.634492', 1)\n",
      "(4, 'Monitor', 61.0, '2022-09-08 22:04:27.772406', 0)\n",
      "(5, 'Teclado', 59.0, '2022-09-08 22:04:27.790396', 1)\n",
      "(6, 'Teclado', 52.0, '2022-09-08 22:04:27.810383', 1)\n",
      "(7, 'Monitor', 52.0, '2022-09-08 22:04:27.820377', 0)\n",
      "(8, 'CPU', 79.0, '2022-09-08 22:04:27.835369', 1)\n",
      "(9, 'Monitor', 58.0, '2022-09-08 22:04:27.847360', 0)\n",
      "(10, 'Mouse', 62.0, '2022-09-08 22:04:27.861352', 1)\n",
      "(11, 'Teclado', 51.0, '2022-09-08 22:04:27.871345', 1)\n",
      "(12, 'Teclado', 52.0, '2022-09-08 22:04:27.883338', 0)\n",
      "(13, 'Monitor', 78.0, '2022-09-08 22:04:27.895331', 1)\n",
      "(14, 'Teclado', 84.0, '2022-09-08 22:04:27.904325', 0)\n",
      "(15, 'Teclado', 84.0, '2022-09-08 22:04:27.912320', 0)\n",
      "(16, 'Teclado', 69.0, '2022-09-08 22:04:27.919317', 1)\n",
      "(17, 'Monitor', 74.0, '2022-09-08 22:04:27.928310', 0)\n",
      "(18, 'Monitor', 72.0, '2022-09-08 22:04:27.935306', 0)\n",
      "(19, 'Monitor', 60.0, '2022-09-08 22:04:27.946299', 1)\n",
      "(20, 'Teclado', 80.0, '2022-09-08 22:04:27.953294', 1)\n"
     ]
    }
   ],
   "source": [
    "# Mostrar todos os dados\n",
    "\n",
    "Query = \"SELECT * FROM random_table\"\n",
    "\n",
    "Execute_and_Show(Query,arquivo)"
   ]
  },
  {
   "cell_type": "code",
   "execution_count": 15,
   "metadata": {},
   "outputs": [
    {
     "name": "stdout",
     "output_type": "stream",
     "text": [
      "('Produto', None, None, None, None, None, None)\n",
      "('Valor', None, None, None, None, None, None)\n",
      "\n",
      "('Mouse', 92.0)\n",
      "('Teclado', 81.0)\n",
      "('Monitor', 70.0)\n",
      "('Monitor', 61.0)\n",
      "('Teclado', 59.0)\n",
      "('Teclado', 52.0)\n",
      "('Monitor', 52.0)\n",
      "('CPU', 79.0)\n",
      "('Monitor', 58.0)\n",
      "('Mouse', 62.0)\n",
      "('Teclado', 51.0)\n",
      "('Teclado', 52.0)\n",
      "('Monitor', 78.0)\n",
      "('Teclado', 84.0)\n",
      "('Teclado', 84.0)\n",
      "('Teclado', 69.0)\n",
      "('Monitor', 74.0)\n",
      "('Monitor', 72.0)\n",
      "('Monitor', 60.0)\n",
      "('Teclado', 80.0)\n"
     ]
    }
   ],
   "source": [
    "# Mostrar algumas colunas\n",
    "\n",
    "Query = \"SELECT Produto, Valor FROM random_table\"\n",
    "\n",
    "Execute_and_Show(Query,arquivo)"
   ]
  },
  {
   "cell_type": "code",
   "execution_count": 16,
   "metadata": {},
   "outputs": [
    {
     "name": "stdout",
     "output_type": "stream",
     "text": [
      "('Produto', None, None, None, None, None, None)\n",
      "('Valor', None, None, None, None, None, None)\n",
      "\n",
      "('Monitor', 70.0)\n",
      "('Monitor', 61.0)\n",
      "('Monitor', 52.0)\n",
      "('CPU', 79.0)\n",
      "('Monitor', 58.0)\n",
      "('Monitor', 78.0)\n",
      "('Monitor', 74.0)\n",
      "('Monitor', 72.0)\n",
      "('Monitor', 60.0)\n"
     ]
    }
   ],
   "source": [
    "# Mostrar dados que correspondam a determinados valores\n",
    "# Usando operadores lógicos\n",
    "\n",
    "Query = \"SELECT Produto, Valor FROM random_table WHERE Produto = 'Monitor' OR Produto = 'CPU'\"\n",
    "\n",
    "Execute_and_Show(Query,arquivo)"
   ]
  },
  {
   "cell_type": "code",
   "execution_count": 17,
   "metadata": {},
   "outputs": [
    {
     "name": "stdout",
     "output_type": "stream",
     "text": [
      "('name', None, None, None, None, None, None)\n",
      "\n",
      "('random_table',)\n",
      "('sqlite_sequence',)\n",
      "('child_table',)\n"
     ]
    }
   ],
   "source": [
    "# Selecionar os nomes das tabelas da tabela \"sqlite_master\"\n",
    "\n",
    "Query = 'SELECT name FROM sqlite_master WHERE type = \"table\"'\n",
    "\n",
    "Execute_and_Show(Query,arquivo)"
   ]
  },
  {
   "cell_type": "code",
   "execution_count": 18,
   "metadata": {},
   "outputs": [
    {
     "name": "stdout",
     "output_type": "stream",
     "text": [
      "('Produto', None, None, None, None, None, None)\n",
      "('Vendido', None, None, None, None, None, None)\n",
      "\n",
      "('Mouse', 1)\n",
      "('Teclado', 0)\n",
      "('Monitor', 1)\n",
      "('Monitor', 0)\n",
      "('Teclado', 1)\n",
      "('CPU', 1)\n"
     ]
    }
   ],
   "source": [
    "# DISTINCT\n",
    "# Filtra os dados repetidos\n",
    "# É filtrado apenas as combinações repetidas\n",
    "\n",
    "Query = \"SELECT DISTINCT Produto, Vendido FROM random_table\"\n",
    "\n",
    "Execute_and_Show(Query,arquivo)"
   ]
  },
  {
   "cell_type": "code",
   "execution_count": 19,
   "metadata": {},
   "outputs": [
    {
     "name": "stdout",
     "output_type": "stream",
     "text": [
      "('ID', None, None, None, None, None, None)\n",
      "('Produto', None, None, None, None, None, None)\n",
      "('Valor', None, None, None, None, None, None)\n",
      "('Data', None, None, None, None, None, None)\n",
      "('Vendido', None, None, None, None, None, None)\n",
      "\n",
      "(8, 'CPU', 79.0, '2022-09-08 22:04:27.835369', 1)\n",
      "(3, 'Monitor', 70.0, '2022-09-08 22:04:27.634492', 1)\n",
      "(4, 'Monitor', 61.0, '2022-09-08 22:04:27.772406', 0)\n",
      "(7, 'Monitor', 52.0, '2022-09-08 22:04:27.820377', 0)\n",
      "(9, 'Monitor', 58.0, '2022-09-08 22:04:27.847360', 0)\n",
      "(13, 'Monitor', 78.0, '2022-09-08 22:04:27.895331', 1)\n",
      "(17, 'Monitor', 74.0, '2022-09-08 22:04:27.928310', 0)\n",
      "(18, 'Monitor', 72.0, '2022-09-08 22:04:27.935306', 0)\n",
      "(19, 'Monitor', 60.0, '2022-09-08 22:04:27.946299', 1)\n",
      "(1, 'Mouse', 92.0, '2022-09-08 22:04:27.597517', 1)\n",
      "(10, 'Mouse', 62.0, '2022-09-08 22:04:27.861352', 1)\n",
      "(2, 'Teclado', 81.0, '2022-09-08 22:04:27.603511', 0)\n",
      "(5, 'Teclado', 59.0, '2022-09-08 22:04:27.790396', 1)\n",
      "(6, 'Teclado', 52.0, '2022-09-08 22:04:27.810383', 1)\n",
      "(11, 'Teclado', 51.0, '2022-09-08 22:04:27.871345', 1)\n",
      "(12, 'Teclado', 52.0, '2022-09-08 22:04:27.883338', 0)\n",
      "(14, 'Teclado', 84.0, '2022-09-08 22:04:27.904325', 0)\n",
      "(15, 'Teclado', 84.0, '2022-09-08 22:04:27.912320', 0)\n",
      "(16, 'Teclado', 69.0, '2022-09-08 22:04:27.919317', 1)\n",
      "(20, 'Teclado', 80.0, '2022-09-08 22:04:27.953294', 1)\n"
     ]
    }
   ],
   "source": [
    "# Ordenar / Organizar\n",
    "# ORDER BY\n",
    "# A ordem não precisa ser guiada por uma das colunas selecionadas.\n",
    "\n",
    "Query = \"SELECT * FROM random_table ORDER BY Produto\"\n",
    "\n",
    "Execute_and_Show(Query,arquivo)"
   ]
  },
  {
   "cell_type": "code",
   "execution_count": 20,
   "metadata": {},
   "outputs": [
    {
     "name": "stdout",
     "output_type": "stream",
     "text": [
      "('Produto', None, None, None, None, None, None)\n",
      "\n",
      "('Teclado',)\n",
      "('Mouse',)\n",
      "('Monitor',)\n",
      "('CPU',)\n"
     ]
    }
   ],
   "source": [
    "# Ordem decrescente\n",
    "# DESC | ASC\n",
    "\n",
    "Query = \"SELECT DISTINCT Produto FROM random_table ORDER BY Produto DESC\"\n",
    "\n",
    "Execute_and_Show(Query,arquivo)"
   ]
  },
  {
   "cell_type": "code",
   "execution_count": 21,
   "metadata": {},
   "outputs": [
    {
     "name": "stdout",
     "output_type": "stream",
     "text": [
      "('ID', None, None, None, None, None, None)\n",
      "('Produto', None, None, None, None, None, None)\n",
      "('Valor', None, None, None, None, None, None)\n",
      "('Data', None, None, None, None, None, None)\n",
      "('Vendido', None, None, None, None, None, None)\n",
      "\n",
      "(1, 'Mouse', 92.0, '2022-09-08 22:04:27.597517', 1)\n",
      "(2, 'Teclado', 81.0, '2022-09-08 22:04:27.603511', 0)\n",
      "(3, 'Monitor', 70.0, '2022-09-08 22:04:27.634492', 1)\n",
      "(4, 'Monitor', 61.0, '2022-09-08 22:04:27.772406', 0)\n",
      "(5, 'Teclado', 59.0, '2022-09-08 22:04:27.790396', 1)\n",
      "(6, 'Teclado', 52.0, '2022-09-08 22:04:27.810383', 1)\n"
     ]
    }
   ],
   "source": [
    "# Limitar o número e resultados\n",
    "# Apenas os X primeiros resultados são revelados.\n",
    "\n",
    "Query = \"SELECT * FROM random_table LIMIT 6\"\n",
    "\n",
    "Execute_and_Show(Query,arquivo)"
   ]
  },
  {
   "cell_type": "code",
   "execution_count": 22,
   "metadata": {},
   "outputs": [
    {
     "name": "stdout",
     "output_type": "stream",
     "text": [
      "('Nome do Produto', None, None, None, None, None, None)\n",
      "\n",
      "('Mouse',)\n",
      "('Teclado',)\n",
      "('Monitor',)\n",
      "('Monitor',)\n",
      "('Teclado',)\n",
      "('Teclado',)\n",
      "('Monitor',)\n",
      "('CPU',)\n",
      "('Monitor',)\n",
      "('Mouse',)\n",
      "('Teclado',)\n",
      "('Teclado',)\n",
      "('Monitor',)\n",
      "('Teclado',)\n",
      "('Teclado',)\n",
      "('Teclado',)\n",
      "('Monitor',)\n",
      "('Monitor',)\n",
      "('Monitor',)\n",
      "('Teclado',)\n"
     ]
    }
   ],
   "source": [
    "# Alias\n",
    "# São mudanças dos nomes de colunas e tabelas.\n",
    "# Utiliza-se aspas quando o aliás tem espaço.\n",
    "\n",
    "Query = \"SELECT Produto AS 'Nome do Produto' FROM random_table AS Produtos\"\n",
    "\n",
    "Execute_and_Show(Query,arquivo)"
   ]
  },
  {
   "cell_type": "markdown",
   "metadata": {},
   "source": [
    "Join"
   ]
  },
  {
   "cell_type": "markdown",
   "metadata": {},
   "source": [
    "![](../ArquivosParalelos/Join_types.png)"
   ]
  },
  {
   "cell_type": "markdown",
   "metadata": {},
   "source": [
    "Different Types of SQL JOINs\n",
    "\n",
    "* (INNER) JOIN: _Retorna registros compatíveis com ambas as tabelas;_\n",
    "* LEFT (OUTER) JOIN: _Retorna todos os registros da tabela à esquerda, e os registros compatíveis da tabela à direita;_\n",
    "* RIGHT (OUTER) JOIN: _Retorna todos os registros da tabela à direita, e os registros compatíveis da tabela à esquerda;_\n",
    "* FULL (OUTER) JOIN: _Retorna todos os registros quando há compatibilidade em qualquer tabela._"
   ]
  },
  {
   "cell_type": "code",
   "execution_count": 23,
   "metadata": {},
   "outputs": [
    {
     "name": "stdout",
     "output_type": "stream",
     "text": [
      "('Desconto', None, None, None, None, None, None)\n",
      "('Data', None, None, None, None, None, None)\n",
      "('Produto', None, None, None, None, None, None)\n",
      "\n",
      "(14.0, '2022-09-08 22:06:53.752755', 'Monitor')\n",
      "(20.0, '2022-09-08 22:06:53.758750', 'Teclado')\n",
      "(11.0, '2022-09-08 22:06:53.765746', 'CPU')\n",
      "(14.0, '2022-09-08 22:06:53.771742', 'Monitor')\n",
      "(0.0, '2022-09-08 22:06:53.776739', 'Monitor')\n",
      "(8.0, '2022-09-08 22:06:53.783735', 'Teclado')\n",
      "(6.0, '2022-09-08 22:06:53.788732', 'Teclado')\n",
      "(19.0, '2022-09-08 22:06:53.794730', 'Teclado')\n",
      "(16.0, '2022-09-08 22:06:53.801725', 'Monitor')\n",
      "(0.0, '2022-09-08 22:06:53.807721', 'Teclado')\n",
      "(17.0, '2022-09-08 22:06:53.824709', 'Monitor')\n",
      "(13.0, '2022-09-08 22:06:53.842699', 'Teclado')\n",
      "(21.0, '2022-09-08 22:06:53.848696', 'Monitor')\n",
      "(17.0, '2022-09-08 22:06:53.855691', 'Monitor')\n",
      "(23.0, '2022-09-08 22:06:53.865685', 'Teclado')\n",
      "(24.0, '2022-09-08 22:06:53.943636', 'Monitor')\n",
      "(10.0, '2022-09-08 22:06:53.950632', 'Teclado')\n",
      "(23.0, '2022-09-08 22:06:53.960626', 'Teclado')\n",
      "(1.0, '2022-09-08 22:06:53.967621', 'Teclado')\n",
      "(12.0, '2022-09-08 22:06:53.999603', 'Teclado')\n",
      "(12.0, '2022-09-08 22:06:54.006597', 'CPU')\n",
      "(3.0, '2022-09-08 22:06:54.012594', 'Teclado')\n",
      "(0.0, '2022-09-08 22:06:54.022588', 'Monitor')\n",
      "(24.0, '2022-09-08 22:06:54.028584', 'Teclado')\n",
      "(3.0, '2022-09-08 22:06:54.036578', 'Teclado')\n",
      "(3.0, '2022-09-08 22:06:54.042576', 'Monitor')\n",
      "(16.0, '2022-09-08 22:06:54.051570', 'Teclado')\n",
      "(5.0, '2022-09-08 22:06:54.057565', 'Monitor')\n",
      "(17.0, '2022-09-08 22:06:54.086547', 'CPU')\n",
      "(17.0, '2022-09-08 22:06:54.097541', 'Teclado')\n"
     ]
    }
   ],
   "source": [
    "Query = '''\n",
    "    SELECT \n",
    "    child_table.Desconto, child_table.Data, random_table.Produto \n",
    "    FROM child_table JOIN random_table \n",
    "    ON child_table.ProdutoID = random_table.ID\n",
    "    '''\n",
    "\n",
    "\n",
    "Execute_and_Show(Query,arquivo)"
   ]
  },
  {
   "cell_type": "code",
   "execution_count": 24,
   "metadata": {},
   "outputs": [],
   "source": [
    "# Como todos os registros na tabela child_table possuem valores para a coluna ProdutoID que correspondem a algum valor na tabela random_table, o LEfT JOIN presentaria o mesmo resultado do INNER JOIN."
   ]
  },
  {
   "cell_type": "code",
   "execution_count": 29,
   "metadata": {},
   "outputs": [
    {
     "name": "stdout",
     "output_type": "stream",
     "text": [
      "('Desconto', None, None, None, None, None, None)\n",
      "('Data', None, None, None, None, None, None)\n",
      "('Produto', None, None, None, None, None, None)\n",
      "\n",
      "(None, None, 'Mouse')\n",
      "(13.0, '2022-09-08 22:06:53.842699', 'Teclado')\n",
      "(0.0, '2022-09-08 22:06:53.776739', 'Monitor')\n",
      "(5.0, '2022-09-08 22:06:54.057565', 'Monitor')\n",
      "(14.0, '2022-09-08 22:06:53.771742', 'Monitor')\n",
      "(24.0, '2022-09-08 22:06:53.943636', 'Monitor')\n",
      "(1.0, '2022-09-08 22:06:53.967621', 'Teclado')\n",
      "(3.0, '2022-09-08 22:06:54.012594', 'Teclado')\n",
      "(20.0, '2022-09-08 22:06:53.758750', 'Teclado')\n",
      "(23.0, '2022-09-08 22:06:53.865685', 'Teclado')\n",
      "(0.0, '2022-09-08 22:06:53.807721', 'Teclado')\n",
      "(6.0, '2022-09-08 22:06:53.788732', 'Teclado')\n",
      "(8.0, '2022-09-08 22:06:53.783735', 'Teclado')\n",
      "(10.0, '2022-09-08 22:06:53.950632', 'Teclado')\n",
      "(None, None, 'Monitor')\n",
      "(11.0, '2022-09-08 22:06:53.765746', 'CPU')\n",
      "(12.0, '2022-09-08 22:06:54.006597', 'CPU')\n",
      "(17.0, '2022-09-08 22:06:54.086547', 'CPU')\n",
      "(3.0, '2022-09-08 22:06:54.042576', 'Monitor')\n",
      "(None, None, 'Mouse')\n",
      "(17.0, '2022-09-08 22:06:54.097541', 'Teclado')\n",
      "(None, None, 'Teclado')\n",
      "(17.0, '2022-09-08 22:06:53.824709', 'Monitor')\n",
      "(21.0, '2022-09-08 22:06:53.848696', 'Monitor')\n",
      "(24.0, '2022-09-08 22:06:54.028584', 'Teclado')\n",
      "(16.0, '2022-09-08 22:06:54.051570', 'Teclado')\n",
      "(12.0, '2022-09-08 22:06:53.999603', 'Teclado')\n",
      "(23.0, '2022-09-08 22:06:53.960626', 'Teclado')\n",
      "(0.0, '2022-09-08 22:06:54.022588', 'Monitor')\n",
      "(14.0, '2022-09-08 22:06:53.752755', 'Monitor')\n",
      "(17.0, '2022-09-08 22:06:53.855691', 'Monitor')\n",
      "(16.0, '2022-09-08 22:06:53.801725', 'Monitor')\n",
      "(3.0, '2022-09-08 22:06:54.036578', 'Teclado')\n",
      "(19.0, '2022-09-08 22:06:53.794730', 'Teclado')\n"
     ]
    },
    {
     "ename": "",
     "evalue": "",
     "output_type": "error",
     "traceback": [
      "\u001b[1;31mO Kernel falhou ao executar o código na célula atual ou em uma célula anterior. Examine o código nas células para identificar uma possível causa da falha. Clique <a href=\"https://aka.ms/vscodeJupyterKernelCrash\">aqui</a> para obter mais informações. Consulte o <a href='command:jupyter.viewOutput'>log</a> do Jupyter para obter mais detalhes."
     ]
    }
   ],
   "source": [
    "# RIGH JOIN\n",
    "\n",
    "Query = '''\n",
    "    SELECT \n",
    "    child_table.Desconto, child_table.Data, random_table.Produto \n",
    "    FROM random_table LEFT JOIN child_table \n",
    "    ON child_table.ProdutoID = random_table.ID\n",
    "    '''\n",
    "    \n",
    "Execute_and_Show(Query,arquivo)\n",
    "\n",
    "# Os valores None mostrados são registros em random_table que não possuem correspondência em child_table."
   ]
  },
  {
   "cell_type": "markdown",
   "metadata": {},
   "source": [
    "LEFT e OUTHER JOIN não são suportados no SQLite3"
   ]
  },
  {
   "cell_type": "markdown",
   "metadata": {},
   "source": [
    "### Criação e Queda\n",
    "<a id='Criação'></a>"
   ]
  },
  {
   "cell_type": "code",
   "execution_count": null,
   "metadata": {},
   "outputs": [
    {
     "name": "stdout",
     "output_type": "stream",
     "text": [
      "Colunas ['id', 'name']\n"
     ]
    }
   ],
   "source": [
    "# Criar tabela nova\n",
    "\n",
    "Query = \"CREATE TABLE Exemplo(id integer, name text)\"\n",
    "\n",
    "Execute_and_Commit(Query,arquivo,'Exemplo')\n",
    "\n",
    "#Se a tabela já existe, ocorre um erro explícito."
   ]
  },
  {
   "cell_type": "code",
   "execution_count": null,
   "metadata": {},
   "outputs": [
    {
     "name": "stdout",
     "output_type": "stream",
     "text": [
      "Colunas ['id', 'name']\n"
     ]
    }
   ],
   "source": [
    "# Criar tabela nova se não existir\n",
    "\n",
    "Query = \"CREATE TABLE IF NOT EXISTS Exemplo(id integer, name text)\"\n",
    "\n",
    "Execute_and_Commit(Query,arquivo,'Exemplo')"
   ]
  },
  {
   "cell_type": "code",
   "execution_count": null,
   "metadata": {},
   "outputs": [
    {
     "name": "stdout",
     "output_type": "stream",
     "text": [
      "Colunas ['type', 'name', 'tbl_name', 'rootpage', 'sql']\n",
      "['type: table', 'name: random_table', 'tbl_name: random_table', 'rootpage: 2', 'sql: CREATE TABLE random_table(ID INTEGER PRIMARY KEY AUTOINCREMENT NOT NULL, Produto TEXT, Valor REAL, Data DATE, Vendido BIT NOT NULL)']\n",
      "['type: table', 'name: sqlite_sequence', 'tbl_name: sqlite_sequence', 'rootpage: 3', 'sql: CREATE TABLE sqlite_sequence(name,seq)']\n",
      "['type: table', 'name: child_table', 'tbl_name: child_table', 'rootpage: 4', 'sql: CREATE TABLE child_table (ID INTEGER PRIMARY KEY AUTOINCREMENT NOT NULL, Desconto REAL, Data DATE, ProdutoID INTEGER NOT NULL, FOREIGN KEY (ProdutoID) REFERENCES random_table(ID))']\n",
      "['type: table', 'name: Exemplo', 'tbl_name: Exemplo', 'rootpage: 5', 'sql: CREATE TABLE Exemplo(id integer, name text)']\n",
      "\n",
      "Colunas ['type', 'name', 'tbl_name', 'rootpage', 'sql']\n",
      "['type: table', 'name: random_table', 'tbl_name: random_table', 'rootpage: 2', 'sql: CREATE TABLE random_table(ID INTEGER PRIMARY KEY AUTOINCREMENT NOT NULL, Produto TEXT, Valor REAL, Data DATE, Vendido BIT NOT NULL)']\n",
      "['type: table', 'name: sqlite_sequence', 'tbl_name: sqlite_sequence', 'rootpage: 3', 'sql: CREATE TABLE sqlite_sequence(name,seq)']\n",
      "['type: table', 'name: child_table', 'tbl_name: child_table', 'rootpage: 4', 'sql: CREATE TABLE child_table (ID INTEGER PRIMARY KEY AUTOINCREMENT NOT NULL, Desconto REAL, Data DATE, ProdutoID INTEGER NOT NULL, FOREIGN KEY (ProdutoID) REFERENCES random_table(ID))']\n"
     ]
    }
   ],
   "source": [
    "# Criar tabela nova se não existir\n",
    "\n",
    "showall(arquivo,'sqlite_master')\n",
    "print()\n",
    "\n",
    "Query = \"DROP TABLE IF EXISTS Exemplo\"\n",
    "\n",
    "Execute_and_Commit(Query,arquivo,'sqlite_master')"
   ]
  },
  {
   "cell_type": "markdown",
   "metadata": {},
   "source": [
    "### Adição e Remoção\n",
    "<a id='Adição'></a>"
   ]
  },
  {
   "cell_type": "code",
   "execution_count": null,
   "metadata": {},
   "outputs": [
    {
     "name": "stdout",
     "output_type": "stream",
     "text": [
      "Colunas ['ID', 'Produto', 'Valor', 'Data', 'Vendido']\n",
      "['ID: 1', 'Produto: Mouse', 'Valor: 89.0', 'Data: 2022-09-08 17:27:52.235809', 'Vendido: 1']\n",
      "['ID: 2', 'Produto: Monitor', 'Valor: 67.0', 'Data: 2022-09-08 17:27:52.247787', 'Vendido: 0']\n",
      "['ID: 3', 'Produto: Mouse', 'Valor: 73.0', 'Data: 2022-09-08 17:27:52.286766', 'Vendido: 0']\n",
      "['ID: 4', 'Produto: Monitor', 'Valor: 54.0', 'Data: 2022-09-08 17:27:52.347725', 'Vendido: 1']\n",
      "['ID: 5', 'Produto: Teclado', 'Valor: 83.0', 'Data: 2022-09-08 17:27:52.380705', 'Vendido: 1']\n",
      "['ID: 6', 'Produto: CPU', 'Valor: 50.0', 'Data: 2022-09-08 17:27:52.397695', 'Vendido: 1']\n",
      "['ID: 7', 'Produto: Teclado', 'Valor: 97.0', 'Data: 2022-09-08 17:27:52.405689', 'Vendido: 1']\n",
      "['ID: 8', 'Produto: Monitor', 'Valor: 74.0', 'Data: 2022-09-08 17:27:52.419682', 'Vendido: 1']\n",
      "['ID: 9', 'Produto: Mouse', 'Valor: 51.0', 'Data: 2022-09-08 17:27:52.436684', 'Vendido: 0']\n",
      "['ID: 10', 'Produto: Mouse', 'Valor: 54.0', 'Data: 2022-09-08 17:27:52.453671', 'Vendido: 0']\n",
      "['ID: 11', 'Produto: Mouse', 'Valor: 94.0', 'Data: 2022-09-08 17:27:52.478646', 'Vendido: 0']\n",
      "['ID: 12', 'Produto: Monitor', 'Valor: 57.0', 'Data: 2022-09-08 17:27:52.491638', 'Vendido: 1']\n",
      "['ID: 13', 'Produto: Teclado', 'Valor: 61.0', 'Data: 2022-09-08 17:27:52.500631', 'Vendido: 1']\n",
      "['ID: 14', 'Produto: Teclado', 'Valor: 83.0', 'Data: 2022-09-08 17:27:52.509626', 'Vendido: 1']\n",
      "['ID: 15', 'Produto: Monitor', 'Valor: 52.0', 'Data: 2022-09-08 17:27:52.520619', 'Vendido: 0']\n",
      "['ID: 16', 'Produto: Monitor', 'Valor: 59.0', 'Data: 2022-09-08 17:27:52.528614', 'Vendido: 1']\n",
      "['ID: 17', 'Produto: CPU', 'Valor: 98.0', 'Data: 2022-09-08 17:27:52.537608', 'Vendido: 0']\n",
      "['ID: 18', 'Produto: CPU', 'Valor: 99.0', 'Data: 2022-09-08 17:27:52.549601', 'Vendido: 0']\n",
      "['ID: 19', 'Produto: CPU', 'Valor: 90.0', 'Data: 2022-09-08 17:27:52.562593', 'Vendido: 0']\n",
      "['ID: 20', 'Produto: CPU', 'Valor: 88.0', 'Data: 2022-09-08 17:27:52.597570', 'Vendido: 0']\n",
      "['ID: 21', 'Produto: CPU', 'Valor: 91.0', 'Data: 2022-09-03 16:26:28.564400', 'Vendido: 1']\n"
     ]
    }
   ],
   "source": [
    "# Inserir linha/observação\n",
    "\n",
    "Query = \"INSERT INTO random_table VALUES(21, 'CPU', 91.0, '2022-09-03 16:26:28.564400',1)\"\n",
    "\n",
    "# É necessário alternar entre aspas e aspas duplas para que o interpretador não encerre a string\n",
    "# Mesmo a Primary Key tendo autoincremento, ele deve ser dado\n",
    "# Se este comando foi executado uma segunda vez, um erro ocorre por tentar adicionar um ID que já existe.\n",
    "\n",
    "Execute_and_Commit(Query,arquivo,tabela)"
   ]
  },
  {
   "cell_type": "code",
   "execution_count": null,
   "metadata": {},
   "outputs": [
    {
     "name": "stdout",
     "output_type": "stream",
     "text": [
      "Colunas ['ID', 'Produto', 'Valor', 'Data', 'Vendido']\n",
      "['ID: 1', 'Produto: Mouse', 'Valor: 89.0', 'Data: 2022-09-08 17:27:52.235809', 'Vendido: 1']\n",
      "['ID: 2', 'Produto: Monitor', 'Valor: 67.0', 'Data: 2022-09-08 17:27:52.247787', 'Vendido: 0']\n",
      "['ID: 3', 'Produto: Mouse', 'Valor: 73.0', 'Data: 2022-09-08 17:27:52.286766', 'Vendido: 0']\n",
      "['ID: 4', 'Produto: Monitor', 'Valor: 54.0', 'Data: 2022-09-08 17:27:52.347725', 'Vendido: 1']\n",
      "['ID: 5', 'Produto: Teclado', 'Valor: 83.0', 'Data: 2022-09-08 17:27:52.380705', 'Vendido: 1']\n",
      "['ID: 6', 'Produto: CPU', 'Valor: 50.0', 'Data: 2022-09-08 17:27:52.397695', 'Vendido: 1']\n",
      "['ID: 7', 'Produto: Teclado', 'Valor: 97.0', 'Data: 2022-09-08 17:27:52.405689', 'Vendido: 1']\n",
      "['ID: 8', 'Produto: Monitor', 'Valor: 74.0', 'Data: 2022-09-08 17:27:52.419682', 'Vendido: 1']\n",
      "['ID: 9', 'Produto: Mouse', 'Valor: 51.0', 'Data: 2022-09-08 17:27:52.436684', 'Vendido: 0']\n",
      "['ID: 10', 'Produto: Mouse', 'Valor: 54.0', 'Data: 2022-09-08 17:27:52.453671', 'Vendido: 0']\n",
      "['ID: 11', 'Produto: Mouse', 'Valor: 94.0', 'Data: 2022-09-08 17:27:52.478646', 'Vendido: 0']\n",
      "['ID: 12', 'Produto: Monitor', 'Valor: 57.0', 'Data: 2022-09-08 17:27:52.491638', 'Vendido: 1']\n",
      "['ID: 13', 'Produto: Teclado', 'Valor: 61.0', 'Data: 2022-09-08 17:27:52.500631', 'Vendido: 1']\n",
      "['ID: 14', 'Produto: Teclado', 'Valor: 83.0', 'Data: 2022-09-08 17:27:52.509626', 'Vendido: 1']\n",
      "['ID: 15', 'Produto: Monitor', 'Valor: 52.0', 'Data: 2022-09-08 17:27:52.520619', 'Vendido: 0']\n",
      "['ID: 16', 'Produto: Monitor', 'Valor: 59.0', 'Data: 2022-09-08 17:27:52.528614', 'Vendido: 1']\n",
      "['ID: 17', 'Produto: CPU', 'Valor: 98.0', 'Data: 2022-09-08 17:27:52.537608', 'Vendido: 0']\n",
      "['ID: 18', 'Produto: CPU', 'Valor: 99.0', 'Data: 2022-09-08 17:27:52.549601', 'Vendido: 0']\n",
      "['ID: 19', 'Produto: CPU', 'Valor: 90.0', 'Data: 2022-09-08 17:27:52.562593', 'Vendido: 0']\n",
      "['ID: 20', 'Produto: CPU', 'Valor: 88.0', 'Data: 2022-09-08 17:27:52.597570', 'Vendido: 0']\n",
      "['ID: 21', 'Produto: CPU', 'Valor: 91.0', 'Data: 2022-09-03 16:26:28.564400', 'Vendido: 1']\n",
      "['ID: 22', 'Produto: CPU', 'Valor: 120.0', 'Data: 2022-09-03 16:26:28.564400', 'Vendido: 0']\n"
     ]
    }
   ],
   "source": [
    "# Inserir definindo valor e coluna\n",
    "# \"INSERT INTO tabela ('coluna', 'coluna', 'coluna') VALUES ('valor', 'valor', 'valor')\"\n",
    "\n",
    "Query = \"INSERT INTO random_table('Produto','Valor','Data','Vendido') VALUES('CPU', 120.0, '2022-09-03 16:26:28.564400',0)\"\n",
    "\n",
    "Execute_and_Commit(Query,arquivo,tabela)"
   ]
  },
  {
   "cell_type": "code",
   "execution_count": null,
   "metadata": {},
   "outputs": [
    {
     "name": "stdout",
     "output_type": "stream",
     "text": [
      "Colunas ['ID', 'Produto', 'Valor', 'Data', 'Vendido']\n",
      "['ID: 1', 'Produto: Mouse', 'Valor: 89.0', 'Data: 2022-09-08 17:27:52.235809', 'Vendido: 1']\n",
      "['ID: 2', 'Produto: Monitor', 'Valor: 67.0', 'Data: 2022-09-08 17:27:52.247787', 'Vendido: 0']\n",
      "['ID: 3', 'Produto: Mouse', 'Valor: 73.0', 'Data: 2022-09-08 17:27:52.286766', 'Vendido: 0']\n",
      "['ID: 4', 'Produto: Monitor', 'Valor: 54.0', 'Data: 2022-09-08 17:27:52.347725', 'Vendido: 1']\n",
      "['ID: 5', 'Produto: Teclado', 'Valor: 83.0', 'Data: 2022-09-08 17:27:52.380705', 'Vendido: 1']\n",
      "['ID: 6', 'Produto: CPU', 'Valor: 50.0', 'Data: 2022-09-08 17:27:52.397695', 'Vendido: 1']\n",
      "['ID: 7', 'Produto: Teclado', 'Valor: 97.0', 'Data: 2022-09-08 17:27:52.405689', 'Vendido: 1']\n",
      "['ID: 8', 'Produto: Monitor', 'Valor: 74.0', 'Data: 2022-09-08 17:27:52.419682', 'Vendido: 1']\n",
      "['ID: 9', 'Produto: Mouse', 'Valor: 51.0', 'Data: 2022-09-08 17:27:52.436684', 'Vendido: 0']\n",
      "['ID: 10', 'Produto: Mouse', 'Valor: 54.0', 'Data: 2022-09-08 17:27:52.453671', 'Vendido: 0']\n",
      "['ID: 11', 'Produto: Mouse', 'Valor: 94.0', 'Data: 2022-09-08 17:27:52.478646', 'Vendido: 0']\n",
      "['ID: 12', 'Produto: Monitor', 'Valor: 57.0', 'Data: 2022-09-08 17:27:52.491638', 'Vendido: 1']\n",
      "['ID: 13', 'Produto: Teclado', 'Valor: 61.0', 'Data: 2022-09-08 17:27:52.500631', 'Vendido: 1']\n",
      "['ID: 14', 'Produto: Teclado', 'Valor: 83.0', 'Data: 2022-09-08 17:27:52.509626', 'Vendido: 1']\n",
      "['ID: 15', 'Produto: Monitor', 'Valor: 52.0', 'Data: 2022-09-08 17:27:52.520619', 'Vendido: 0']\n",
      "['ID: 16', 'Produto: Monitor', 'Valor: 59.0', 'Data: 2022-09-08 17:27:52.528614', 'Vendido: 1']\n",
      "['ID: 17', 'Produto: CPU', 'Valor: 98.0', 'Data: 2022-09-08 17:27:52.537608', 'Vendido: 0']\n",
      "['ID: 18', 'Produto: CPU', 'Valor: 99.0', 'Data: 2022-09-08 17:27:52.549601', 'Vendido: 0']\n",
      "['ID: 19', 'Produto: CPU', 'Valor: 90.0', 'Data: 2022-09-08 17:27:52.562593', 'Vendido: 0']\n",
      "['ID: 20', 'Produto: CPU', 'Valor: 88.0', 'Data: 2022-09-08 17:27:52.597570', 'Vendido: 0']\n",
      "['ID: 21', 'Produto: CPU', 'Valor: 91.0', 'Data: 2022-09-03 16:26:28.564400', 'Vendido: 1']\n",
      "['ID: 22', 'Produto: CPU', 'Valor: 120.0', 'Data: 2022-09-03 16:26:28.564400', 'Vendido: 0']\n",
      "['ID: 23', 'Produto: Câmera', 'Valor: 66.0', 'Data: 2022-09-08 17:31:56.373895', 'Vendido: 0']\n"
     ]
    }
   ],
   "source": [
    "# Inserir com o auxílio de uma tupla ou lista.\n",
    "\n",
    "# A execução muda\n",
    "\n",
    "Query = \"INSERT INTO random_table('Produto','Valor','Data','Vendido') VALUES(?, ?, ?,?)\"\n",
    "\n",
    "Observação = ['Câmera',66,datetime.datetime.now(),0]\n",
    "\n",
    "\n",
    "Conn = sqlite3.connect(arquivo)\n",
    "Cursor = Conn.cursor()\n",
    "\n",
    "Cursor.execute(Query,Observação)\n",
    "\n",
    "Conn.commit()\n",
    "Cursor.close()\n",
    "Conn.close()\n",
    "\n",
    "showall(arquivo,tabela)\n"
   ]
  },
  {
   "cell_type": "code",
   "execution_count": null,
   "metadata": {},
   "outputs": [
    {
     "name": "stdout",
     "output_type": "stream",
     "text": [
      "Colunas ['ID', 'Produto', 'Valor', 'Data', 'Vendido']\n",
      "['ID: 1', 'Produto: Mouse', 'Valor: 89.0', 'Data: 2022-09-08 17:27:52.235809', 'Vendido: 1']\n",
      "['ID: 2', 'Produto: Monitor', 'Valor: 67.0', 'Data: 2022-09-08 17:27:52.247787', 'Vendido: 0']\n",
      "['ID: 3', 'Produto: Mouse', 'Valor: 73.0', 'Data: 2022-09-08 17:27:52.286766', 'Vendido: 0']\n",
      "['ID: 4', 'Produto: Monitor', 'Valor: 54.0', 'Data: 2022-09-08 17:27:52.347725', 'Vendido: 1']\n",
      "['ID: 5', 'Produto: Teclado', 'Valor: 83.0', 'Data: 2022-09-08 17:27:52.380705', 'Vendido: 1']\n",
      "['ID: 6', 'Produto: CPU', 'Valor: 50.0', 'Data: 2022-09-08 17:27:52.397695', 'Vendido: 1']\n",
      "['ID: 7', 'Produto: Teclado', 'Valor: 97.0', 'Data: 2022-09-08 17:27:52.405689', 'Vendido: 1']\n",
      "['ID: 8', 'Produto: Monitor', 'Valor: 74.0', 'Data: 2022-09-08 17:27:52.419682', 'Vendido: 1']\n",
      "['ID: 9', 'Produto: Mouse', 'Valor: 51.0', 'Data: 2022-09-08 17:27:52.436684', 'Vendido: 0']\n",
      "['ID: 10', 'Produto: Mouse', 'Valor: 54.0', 'Data: 2022-09-08 17:27:52.453671', 'Vendido: 0']\n",
      "['ID: 11', 'Produto: Mouse', 'Valor: 94.0', 'Data: 2022-09-08 17:27:52.478646', 'Vendido: 0']\n",
      "['ID: 12', 'Produto: Monitor', 'Valor: 57.0', 'Data: 2022-09-08 17:27:52.491638', 'Vendido: 1']\n",
      "['ID: 13', 'Produto: Teclado', 'Valor: 61.0', 'Data: 2022-09-08 17:27:52.500631', 'Vendido: 1']\n",
      "['ID: 14', 'Produto: Teclado', 'Valor: 83.0', 'Data: 2022-09-08 17:27:52.509626', 'Vendido: 1']\n",
      "['ID: 15', 'Produto: Monitor', 'Valor: 52.0', 'Data: 2022-09-08 17:27:52.520619', 'Vendido: 0']\n",
      "['ID: 16', 'Produto: Monitor', 'Valor: 59.0', 'Data: 2022-09-08 17:27:52.528614', 'Vendido: 1']\n",
      "['ID: 17', 'Produto: CPU', 'Valor: 98.0', 'Data: 2022-09-08 17:27:52.537608', 'Vendido: 0']\n",
      "['ID: 18', 'Produto: CPU', 'Valor: 99.0', 'Data: 2022-09-08 17:27:52.549601', 'Vendido: 0']\n",
      "['ID: 19', 'Produto: CPU', 'Valor: 90.0', 'Data: 2022-09-08 17:27:52.562593', 'Vendido: 0']\n",
      "['ID: 20', 'Produto: CPU', 'Valor: 88.0', 'Data: 2022-09-08 17:27:52.597570', 'Vendido: 0']\n",
      "['ID: 21', 'Produto: CPU', 'Valor: 91.0', 'Data: 2022-09-03 16:26:28.564400', 'Vendido: 1']\n",
      "['ID: 22', 'Produto: CPU', 'Valor: 120.0', 'Data: 2022-09-03 16:26:28.564400', 'Vendido: 0']\n",
      "['ID: 23', 'Produto: Câmera', 'Valor: 66.0', 'Data: 2022-09-08 17:31:56.373895', 'Vendido: 0']\n",
      "['ID: 24', 'Produto: Pendrive', 'Valor: 15.0', 'Data: 2022-09-08 17:31:58.374655', 'Vendido: 0']\n",
      "['ID: 25', 'Produto: Pendrive', 'Valor: 15.0', 'Data: 2022-09-08 17:31:58.374655', 'Vendido: 1']\n",
      "['ID: 26', 'Produto: Pendrive', 'Valor: 20.0', 'Data: 2022-09-08 17:31:58.374655', 'Vendido: 0']\n",
      "['ID: 27', 'Produto: Pendrive', 'Valor: 17.0', 'Data: 2022-09-08 17:31:58.374655', 'Vendido: 1']\n"
     ]
    }
   ],
   "source": [
    "# Executemany\n",
    "# Permite adicionar várias inserções sem um loop.\n",
    "# As observações precisam ser iteráveis dentro de iteráveis.\n",
    "\n",
    "Query = \"INSERT INTO random_table('Produto','Valor','Data','Vendido') VALUES(?, ?, ?,?)\"\n",
    "\n",
    "Observações = (('Pendrive',15,datetime.datetime.now(),0),('Pendrive',15,datetime.datetime.now(),1),('Pendrive',20,datetime.datetime.now(),0),('Pendrive',17,datetime.datetime.now(),1))\n",
    "\n",
    "\n",
    "Conn = sqlite3.connect(arquivo)\n",
    "Cursor = Conn.cursor()\n",
    "\n",
    "Cursor.executemany(Query,Observações)\n",
    "\n",
    "Conn.commit()\n",
    "Cursor.close()\n",
    "Conn.close()\n",
    "\n",
    "showall(arquivo,tabela)"
   ]
  },
  {
   "cell_type": "code",
   "execution_count": null,
   "metadata": {},
   "outputs": [
    {
     "name": "stdout",
     "output_type": "stream",
     "text": [
      "Colunas ['ID', 'Produto', 'Valor', 'Data', 'Vendido']\n",
      "['ID: 1', 'Produto: Mouse', 'Valor: 89.0', 'Data: 2022-09-08 17:27:52.235809', 'Vendido: 1']\n",
      "['ID: 2', 'Produto: Monitor', 'Valor: 67.0', 'Data: 2022-09-08 17:27:52.247787', 'Vendido: 0']\n",
      "['ID: 3', 'Produto: Mouse', 'Valor: 73.0', 'Data: 2022-09-08 17:27:52.286766', 'Vendido: 0']\n",
      "['ID: 5', 'Produto: Teclado', 'Valor: 83.0', 'Data: 2022-09-08 17:27:52.380705', 'Vendido: 1']\n",
      "['ID: 7', 'Produto: Teclado', 'Valor: 97.0', 'Data: 2022-09-08 17:27:52.405689', 'Vendido: 1']\n",
      "['ID: 8', 'Produto: Monitor', 'Valor: 74.0', 'Data: 2022-09-08 17:27:52.419682', 'Vendido: 1']\n",
      "['ID: 11', 'Produto: Mouse', 'Valor: 94.0', 'Data: 2022-09-08 17:27:52.478646', 'Vendido: 0']\n",
      "['ID: 13', 'Produto: Teclado', 'Valor: 61.0', 'Data: 2022-09-08 17:27:52.500631', 'Vendido: 1']\n",
      "['ID: 14', 'Produto: Teclado', 'Valor: 83.0', 'Data: 2022-09-08 17:27:52.509626', 'Vendido: 1']\n",
      "['ID: 17', 'Produto: CPU', 'Valor: 98.0', 'Data: 2022-09-08 17:27:52.537608', 'Vendido: 0']\n",
      "['ID: 18', 'Produto: CPU', 'Valor: 99.0', 'Data: 2022-09-08 17:27:52.549601', 'Vendido: 0']\n",
      "['ID: 19', 'Produto: CPU', 'Valor: 90.0', 'Data: 2022-09-08 17:27:52.562593', 'Vendido: 0']\n",
      "['ID: 20', 'Produto: CPU', 'Valor: 88.0', 'Data: 2022-09-08 17:27:52.597570', 'Vendido: 0']\n",
      "['ID: 21', 'Produto: CPU', 'Valor: 91.0', 'Data: 2022-09-03 16:26:28.564400', 'Vendido: 1']\n",
      "['ID: 22', 'Produto: CPU', 'Valor: 120.0', 'Data: 2022-09-03 16:26:28.564400', 'Vendido: 0']\n",
      "['ID: 23', 'Produto: Câmera', 'Valor: 66.0', 'Data: 2022-09-08 17:31:56.373895', 'Vendido: 0']\n"
     ]
    }
   ],
   "source": [
    "# Deletar dado\n",
    "# Sem filtro, deleta todos os dados.\n",
    "\n",
    "Query = \"DELETE FROM random_table WHERE Valor < 60\"\n",
    "\n",
    "Execute_and_Commit(Query,arquivo,tabela)"
   ]
  },
  {
   "cell_type": "code",
   "execution_count": null,
   "metadata": {},
   "outputs": [
    {
     "name": "stdout",
     "output_type": "stream",
     "text": [
      "Colunas ['ID', 'Produto', 'Valor', 'Data', 'Vendido']\n",
      "['ID: 1', 'Produto: Mouse', 'Valor: 89.0', 'Data: 2022-09-08 17:27:52.235809', 'Vendido: 1']\n",
      "['ID: 2', 'Produto: Monitor', 'Valor: 67.0', 'Data: 2022-09-08 17:27:52.247787', 'Vendido: 0']\n",
      "['ID: 3', 'Produto: Mouse', 'Valor: 73.0', 'Data: 2022-09-08 17:27:52.286766', 'Vendido: 0']\n",
      "['ID: 5', 'Produto: Teclado', 'Valor: 83.0', 'Data: 2022-09-08 17:27:52.380705', 'Vendido: 1']\n",
      "['ID: 7', 'Produto: Teclado', 'Valor: 97.0', 'Data: 2022-09-08 17:27:52.405689', 'Vendido: 1']\n",
      "['ID: 8', 'Produto: Monitor', 'Valor: 74.0', 'Data: 2022-09-08 17:27:52.419682', 'Vendido: 1']\n",
      "['ID: 11', 'Produto: Mouse', 'Valor: 94.0', 'Data: 2022-09-08 17:27:52.478646', 'Vendido: 0']\n",
      "['ID: 13', 'Produto: Teclado', 'Valor: 61.0', 'Data: 2022-09-08 17:27:52.500631', 'Vendido: 1']\n",
      "['ID: 14', 'Produto: Teclado', 'Valor: 83.0', 'Data: 2022-09-08 17:27:52.509626', 'Vendido: 1']\n",
      "['ID: 17', 'Produto: CPU', 'Valor: 98.0', 'Data: 2022-09-08 17:27:52.537608', 'Vendido: 0']\n",
      "['ID: 18', 'Produto: CPU', 'Valor: 99.0', 'Data: 2022-09-08 17:27:52.549601', 'Vendido: 0']\n",
      "['ID: 19', 'Produto: CPU', 'Valor: 90.0', 'Data: 2022-09-08 17:27:52.562593', 'Vendido: 0']\n",
      "['ID: 20', 'Produto: CPU', 'Valor: 88.0', 'Data: 2022-09-08 17:27:52.597570', 'Vendido: 0']\n",
      "['ID: 21', 'Produto: CPU', 'Valor: 91.0', 'Data: 2022-09-03 16:26:28.564400', 'Vendido: 1']\n",
      "['ID: 22', 'Produto: CPU', 'Valor: 120.0', 'Data: 2022-09-03 16:26:28.564400', 'Vendido: 0']\n",
      "['ID: 23', 'Produto: Câmera', 'Valor: 66.0', 'Data: 2022-09-08 17:31:56.373895', 'Vendido: 0']\n",
      "['ID: 28', 'Produto: None', 'Valor: 120.0', 'Data: 2022-09-03 16:26:28.564400', 'Vendido: 0']\n"
     ]
    }
   ],
   "source": [
    "# Valores NULL\n",
    "\n",
    "Query = \"INSERT INTO random_table('Valor','Data','Vendido') VALUES(120.0, '2022-09-03 16:26:28.564400',0)\"\n",
    "\n",
    "Execute_and_Commit(Query,arquivo,tabela)\n",
    "\n",
    "# Em Python é apresentado como None\n",
    "# Como o ID tem Autoincremento, esse valor não fica nulo.\n",
    "# O tratamento de variáveis nulas é demonstrada em \"Filtros e Operadores Lógicos\""
   ]
  },
  {
   "cell_type": "markdown",
   "metadata": {},
   "source": [
    "### Alteração\n",
    "<a id='Alteração'></a>"
   ]
  },
  {
   "cell_type": "code",
   "execution_count": null,
   "metadata": {},
   "outputs": [
    {
     "name": "stdout",
     "output_type": "stream",
     "text": [
      "Colunas ['ID', 'Produto', 'Valor', 'Data', 'Vendido']\n",
      "['ID: 1', 'Produto: Mouse', 'Valor: 89.0', 'Data: 2022-09-08 17:27:52.235809', 'Vendido: 1']\n",
      "['ID: 2', 'Produto: Cabos', 'Valor: 67.0', 'Data: 2022-09-08 17:27:52.247787', 'Vendido: 0']\n",
      "['ID: 3', 'Produto: Mouse', 'Valor: 73.0', 'Data: 2022-09-08 17:27:52.286766', 'Vendido: 0']\n",
      "['ID: 5', 'Produto: Teclado', 'Valor: 83.0', 'Data: 2022-09-08 17:27:52.380705', 'Vendido: 1']\n",
      "['ID: 7', 'Produto: Teclado', 'Valor: 97.0', 'Data: 2022-09-08 17:27:52.405689', 'Vendido: 1']\n",
      "['ID: 8', 'Produto: Monitor', 'Valor: 74.0', 'Data: 2022-09-08 17:27:52.419682', 'Vendido: 1']\n",
      "['ID: 11', 'Produto: Mouse', 'Valor: 94.0', 'Data: 2022-09-08 17:27:52.478646', 'Vendido: 0']\n",
      "['ID: 13', 'Produto: Teclado', 'Valor: 61.0', 'Data: 2022-09-08 17:27:52.500631', 'Vendido: 1']\n",
      "['ID: 14', 'Produto: Teclado', 'Valor: 83.0', 'Data: 2022-09-08 17:27:52.509626', 'Vendido: 1']\n",
      "['ID: 17', 'Produto: CPU', 'Valor: 98.0', 'Data: 2022-09-08 17:27:52.537608', 'Vendido: 0']\n",
      "['ID: 18', 'Produto: CPU', 'Valor: 99.0', 'Data: 2022-09-08 17:27:52.549601', 'Vendido: 0']\n",
      "['ID: 19', 'Produto: CPU', 'Valor: 90.0', 'Data: 2022-09-08 17:27:52.562593', 'Vendido: 0']\n",
      "['ID: 20', 'Produto: CPU', 'Valor: 88.0', 'Data: 2022-09-08 17:27:52.597570', 'Vendido: 0']\n",
      "['ID: 21', 'Produto: CPU', 'Valor: 91.0', 'Data: 2022-09-03 16:26:28.564400', 'Vendido: 1']\n",
      "['ID: 22', 'Produto: CPU', 'Valor: 120.0', 'Data: 2022-09-03 16:26:28.564400', 'Vendido: 0']\n",
      "['ID: 23', 'Produto: Câmera', 'Valor: 66.0', 'Data: 2022-09-08 17:31:56.373895', 'Vendido: 0']\n",
      "['ID: 28', 'Produto: None', 'Valor: 120.0', 'Data: 2022-09-03 16:26:28.564400', 'Vendido: 0']\n"
     ]
    }
   ],
   "source": [
    "# Mudança de valor\n",
    "# UPDATE/SET\n",
    "# Sem filtro, altera todos os dados.\n",
    "\n",
    "Query = \"UPDATE random_table SET Produto = 'Cabos' WHERE id = 2\"\n",
    "\n",
    "Execute_and_Commit(Query,arquivo,tabela)"
   ]
  },
  {
   "cell_type": "markdown",
   "metadata": {},
   "source": [
    "### Filtros e Operadores Lógicos\n",
    "<a id='Filtros e Operadores Lógicos'></a>"
   ]
  },
  {
   "cell_type": "code",
   "execution_count": null,
   "metadata": {},
   "outputs": [
    {
     "name": "stdout",
     "output_type": "stream",
     "text": [
      "('Produto', None, None, None, None, None, None)\n",
      "('Valor', None, None, None, None, None, None)\n",
      "\n",
      "('Monitor', 74.0)\n",
      "('CPU', 98.0)\n",
      "('CPU', 99.0)\n",
      "('CPU', 91.0)\n",
      "('CPU', 120.0)\n"
     ]
    }
   ],
   "source": [
    "# WHERE filtra os dados considerados\n",
    "# Se o filtro é aplicado duas vezes a uma mesma coluna, ele deve ser demonstrado duas vezes\n",
    "\n",
    "Query = \"SELECT Produto, Valor FROM random_table WHERE Produto = 'Monitor' OR Produto = 'CPU' AND Valor > 90\"\n",
    "\n",
    "# Desta forma, apenas CPU é filtrada acima de 90. Monitores não foram filtrados\n",
    "\n",
    "Execute_and_Show(Query,arquivo)"
   ]
  },
  {
   "cell_type": "code",
   "execution_count": null,
   "metadata": {},
   "outputs": [
    {
     "name": "stdout",
     "output_type": "stream",
     "text": [
      "('Produto', None, None, None, None, None, None)\n",
      "('Valor', None, None, None, None, None, None)\n",
      "\n",
      "('CPU', 98.0)\n",
      "('CPU', 99.0)\n",
      "('CPU', 91.0)\n",
      "('CPU', 120.0)\n"
     ]
    }
   ],
   "source": [
    "# Assim, o filtro é aplicado a ambos os tipos de produtos\n",
    "\n",
    "Query = \"SELECT Produto, Valor FROM random_table WHERE (Produto = 'Monitor' OR Produto = 'CPU') AND Valor > 90\"\n",
    "\n",
    "Execute_and_Show(Query,arquivo)"
   ]
  },
  {
   "cell_type": "code",
   "execution_count": null,
   "metadata": {},
   "outputs": [
    {
     "name": "stdout",
     "output_type": "stream",
     "text": [
      "('ID', None, None, None, None, None, None)\n",
      "('Produto', None, None, None, None, None, None)\n",
      "('Valor', None, None, None, None, None, None)\n",
      "('Data', None, None, None, None, None, None)\n",
      "('Vendido', None, None, None, None, None, None)\n",
      "\n",
      "(1, 'Mouse', 89.0, '2022-09-08 17:27:52.235809', 1)\n",
      "(5, 'Teclado', 83.0, '2022-09-08 17:27:52.380705', 1)\n",
      "(7, 'Teclado', 97.0, '2022-09-08 17:27:52.405689', 1)\n",
      "(13, 'Teclado', 61.0, '2022-09-08 17:27:52.500631', 1)\n",
      "(14, 'Teclado', 83.0, '2022-09-08 17:27:52.509626', 1)\n",
      "(21, 'CPU', 91.0, '2022-09-03 16:26:28.564400', 1)\n"
     ]
    }
   ],
   "source": [
    "# NOT\n",
    "# Deve ser usado antes da condição\n",
    "\n",
    "Query = \"SELECT * FROM random_table WHERE NOT Produto = 'Monitor' AND NOT Vendido = 0\"\n",
    "\n",
    "Execute_and_Show(Query,arquivo)"
   ]
  },
  {
   "cell_type": "code",
   "execution_count": null,
   "metadata": {},
   "outputs": [],
   "source": [
    "# Variável SE"
   ]
  },
  {
   "cell_type": "code",
   "execution_count": null,
   "metadata": {},
   "outputs": [
    {
     "name": "stdout",
     "output_type": "stream",
     "text": [
      "('name', None, None, None, None, None, None)\n",
      "\n",
      "\n",
      "('name', None, None, None, None, None, None)\n",
      "\n",
      "('random_table',)\n"
     ]
    }
   ],
   "source": [
    "# Verificação se determinada tabela existe\n",
    "\n",
    "Query1 = 'SELECT name from sqlite_master WHERE type = \"table\" AND name = \"Exemplo\"'\n",
    "Query2 = 'SELECT name from sqlite_master WHERE type = \"table\" AND name = \"random_table\"'\n",
    "\n",
    "Execute_and_Show(Query1,arquivo)\n",
    "print()\n",
    "Execute_and_Show(Query2,arquivo)\n",
    "\n",
    "# Se a tabela não existe, nome nenhum é apresentado."
   ]
  },
  {
   "cell_type": "code",
   "execution_count": null,
   "metadata": {},
   "outputs": [
    {
     "name": "stdout",
     "output_type": "stream",
     "text": [
      "('ID', None, None, None, None, None, None)\n",
      "('Produto', None, None, None, None, None, None)\n",
      "('Valor', None, None, None, None, None, None)\n",
      "('Data', None, None, None, None, None, None)\n",
      "('Vendido', None, None, None, None, None, None)\n",
      "\n",
      "(28, None, 120.0, '2022-09-03 16:26:28.564400', 0)\n"
     ]
    }
   ],
   "source": [
    "# Tratamendo de valores nulos\n",
    "# IS NULL | IS NOT NULL\n",
    "\n",
    "Query = \"SELECT * FROM random_table WHERE Produto IS NULL\"\n",
    "\n",
    "Execute_and_Show(Query,arquivo)"
   ]
  },
  {
   "cell_type": "code",
   "execution_count": null,
   "metadata": {},
   "outputs": [
    {
     "name": "stdout",
     "output_type": "stream",
     "text": [
      "('Produto', None, None, None, None, None, None)\n",
      "('Valor', None, None, None, None, None, None)\n",
      "\n",
      "('Mouse', 89.0)\n",
      "('Mouse', 73.0)\n",
      "('Monitor', 74.0)\n",
      "('Mouse', 94.0)\n"
     ]
    }
   ],
   "source": [
    "# LIKE e Wildcards (coringas)\n",
    "# LIKE, em filtros WHERE, é usado em substituição do sinal '=', quando o que segue é uma wildcard.\n",
    "# Wildcards se parecem com variáveis Regex\n",
    "    # '%' representa/substitui qualquer número de quaisquer caracteres.\n",
    "    # '_' representa/substitui exatamente um caractere qualquer.\n",
    "\n",
    "Query = \"SELECT Produto, Valor FROM random_table WHERE Produto LIKE '_o%'\"\n",
    "# Filtra linhas cujos valores na coluna \"Produto\" têm a letra \"o\" como segunda letra\n",
    "\n",
    "Execute_and_Show(Query,arquivo)"
   ]
  },
  {
   "cell_type": "code",
   "execution_count": null,
   "metadata": {},
   "outputs": [
    {
     "name": "stdout",
     "output_type": "stream",
     "text": [
      "('ID', None, None, None, None, None, None)\n",
      "('Produto', None, None, None, None, None, None)\n",
      "('Valor', None, None, None, None, None, None)\n",
      "('Data', None, None, None, None, None, None)\n",
      "('Vendido', None, None, None, None, None, None)\n",
      "\n",
      "(1, 'Mouse', 89.0, '2022-09-08 17:27:52.235809', 1)\n",
      "(2, 'Cabos', 67.0, '2022-09-08 17:27:52.247787', 0)\n",
      "(3, 'Mouse', 73.0, '2022-09-08 17:27:52.286766', 0)\n",
      "(5, 'Teclado', 83.0, '2022-09-08 17:27:52.380705', 1)\n",
      "(7, 'Teclado', 97.0, '2022-09-08 17:27:52.405689', 1)\n",
      "(8, 'Monitor', 74.0, '2022-09-08 17:27:52.419682', 1)\n",
      "(11, 'Mouse', 94.0, '2022-09-08 17:27:52.478646', 0)\n",
      "(13, 'Teclado', 61.0, '2022-09-08 17:27:52.500631', 1)\n",
      "(14, 'Teclado', 83.0, '2022-09-08 17:27:52.509626', 1)\n",
      "(17, 'CPU', 98.0, '2022-09-08 17:27:52.537608', 0)\n",
      "(18, 'CPU', 99.0, '2022-09-08 17:27:52.549601', 0)\n",
      "(19, 'CPU', 90.0, '2022-09-08 17:27:52.562593', 0)\n",
      "(20, 'CPU', 88.0, '2022-09-08 17:27:52.597570', 0)\n",
      "(21, 'CPU', 91.0, '2022-09-03 16:26:28.564400', 1)\n",
      "(22, 'CPU', 120.0, '2022-09-03 16:26:28.564400', 0)\n",
      "(23, 'Câmera', 66.0, '2022-09-08 17:31:56.373895', 0)\n"
     ]
    }
   ],
   "source": [
    "# IN É usado em substituição ao sinal '=' em cláusulas que usam WHERE.\n",
    "# É exigido quando vários valores são pssíveis, ou qundo uma declaração é dada como comparação.\n",
    "\n",
    "Query = \"SELECT * FROM random_table WHERE Produto IN (SELECT Produto FROM random_table)\"\n",
    "# Como NULL não é um valor, ele não pode ser usado como critério para filtrar os dados.\n",
    "\n",
    "Execute_and_Show(Query,arquivo)"
   ]
  },
  {
   "cell_type": "code",
   "execution_count": null,
   "metadata": {},
   "outputs": [
    {
     "name": "stdout",
     "output_type": "stream",
     "text": [
      "('ID', None, None, None, None, None, None)\n",
      "('Produto', None, None, None, None, None, None)\n",
      "('Valor', None, None, None, None, None, None)\n",
      "('Data', None, None, None, None, None, None)\n",
      "('Vendido', None, None, None, None, None, None)\n",
      "\n",
      "(1, 'Mouse', 89.0, '2022-09-08 17:27:52.235809', 1)\n",
      "(2, 'Cabos', 67.0, '2022-09-08 17:27:52.247787', 0)\n",
      "(3, 'Mouse', 73.0, '2022-09-08 17:27:52.286766', 0)\n",
      "(5, 'Teclado', 83.0, '2022-09-08 17:27:52.380705', 1)\n",
      "(8, 'Monitor', 74.0, '2022-09-08 17:27:52.419682', 1)\n",
      "(14, 'Teclado', 83.0, '2022-09-08 17:27:52.509626', 1)\n",
      "(19, 'CPU', 90.0, '2022-09-08 17:27:52.562593', 0)\n",
      "(20, 'CPU', 88.0, '2022-09-08 17:27:52.597570', 0)\n",
      "\n",
      "('ID', None, None, None, None, None, None)\n",
      "('Produto', None, None, None, None, None, None)\n",
      "('Valor', None, None, None, None, None, None)\n",
      "('Data', None, None, None, None, None, None)\n",
      "('Vendido', None, None, None, None, None, None)\n",
      "\n",
      "(7, 'Teclado', 97.0, '2022-09-08 17:27:52.405689', 1)\n",
      "(11, 'Mouse', 94.0, '2022-09-08 17:27:52.478646', 0)\n",
      "(13, 'Teclado', 61.0, '2022-09-08 17:27:52.500631', 1)\n",
      "(17, 'CPU', 98.0, '2022-09-08 17:27:52.537608', 0)\n",
      "(18, 'CPU', 99.0, '2022-09-08 17:27:52.549601', 0)\n",
      "(21, 'CPU', 91.0, '2022-09-03 16:26:28.564400', 1)\n",
      "(22, 'CPU', 120.0, '2022-09-03 16:26:28.564400', 0)\n",
      "(23, 'Câmera', 66.0, '2022-09-08 17:31:56.373895', 0)\n",
      "(28, None, 120.0, '2022-09-03 16:26:28.564400', 0)\n"
     ]
    }
   ],
   "source": [
    "# Filtrando valores dentro de uma faixa.\n",
    "# BETWEEN AND\n",
    "\n",
    "Query = \"SELECT * FROM random_table WHERE Valor BETWEEN 67 AND 90\"\n",
    "\n",
    "Execute_and_Show(Query,arquivo)\n",
    "\n",
    "print()\n",
    "\n",
    "\n",
    "Query = \"SELECT * FROM random_table WHERE Valor NOT BETWEEN 67 AND 90\"\n",
    "\n",
    "Execute_and_Show(Query,arquivo)"
   ]
  },
  {
   "cell_type": "markdown",
   "metadata": {},
   "source": [
    "### Valores Únicos"
   ]
  },
  {
   "cell_type": "code",
   "execution_count": null,
   "metadata": {},
   "outputs": [
    {
     "name": "stdout",
     "output_type": "stream",
     "text": [
      "('COUNT (DISTINCT Produto)', None, None, None, None, None, None)\n",
      "\n",
      "(6,)\n",
      "\n",
      "('COUNT (*)', None, None, None, None, None, None)\n",
      "\n",
      "(9,)\n"
     ]
    }
   ],
   "source": [
    "# Contagem\n",
    "# Mais utilizado com DISTINCT\n",
    "\n",
    "Query = \"SELECT COUNT (DISTINCT Produto) FROM random_table\"\n",
    "\n",
    "Execute_and_Show(Query,arquivo)\n",
    "\n",
    "\n",
    "print()     ###     ###     ###     ###     ###     ###     ###     ###     ###     ###     ###     ###     ###\n",
    "\n",
    "\n",
    "# Para contar uma distinção com duas colunas, é preciso contar tudo de uma seleção com o filtro de distinção\n",
    "\n",
    "Query = 'SELECT COUNT (*) FROM (SELECT DISTINCT Produto, Vendido FROM random_table)'\n",
    "\n",
    "Execute_and_Show(Query,arquivo)"
   ]
  },
  {
   "cell_type": "code",
   "execution_count": null,
   "metadata": {},
   "outputs": [
    {
     "name": "stdout",
     "output_type": "stream",
     "text": [
      "('MIN (Valor)', None, None, None, None, None, None)\n",
      "\n",
      "(61.0,)\n"
     ]
    }
   ],
   "source": [
    "# Mínimo e Máximo\n",
    "# MIN | MAX\n",
    "\n",
    "Query = \"SELECT MIN (Valor) FROM random_table\"\n",
    "\n",
    "Execute_and_Show(Query,arquivo)"
   ]
  },
  {
   "cell_type": "code",
   "execution_count": null,
   "metadata": {},
   "outputs": [
    {
     "name": "stdout",
     "output_type": "stream",
     "text": [
      "('AVG (Valor)', None, None, None, None, None, None)\n",
      "\n",
      "(87.82352941176471,)\n"
     ]
    }
   ],
   "source": [
    "# Média\n",
    "# AVG\n",
    "\n",
    "Query = \"SELECT AVG (Valor) FROM random_table\"\n",
    "\n",
    "Execute_and_Show(Query,arquivo)"
   ]
  },
  {
   "cell_type": "code",
   "execution_count": null,
   "metadata": {},
   "outputs": [
    {
     "name": "stdout",
     "output_type": "stream",
     "text": [
      "('SUM (Valor)', None, None, None, None, None, None)\n",
      "\n",
      "(1493.0,)\n"
     ]
    }
   ],
   "source": [
    "# Soma\n",
    "# SUM\n",
    "\n",
    "Query = \"SELECT SUM (Valor) FROM random_table\"\n",
    "\n",
    "Execute_and_Show(Query,arquivo)"
   ]
  },
  {
   "cell_type": "markdown",
   "metadata": {},
   "source": [
    "## Sobre o SQLite3"
   ]
  },
  {
   "cell_type": "markdown",
   "metadata": {},
   "source": [
    "Conexão com a memória."
   ]
  },
  {
   "cell_type": "code",
   "execution_count": null,
   "metadata": {},
   "outputs": [],
   "source": [
    "con_mem = sqlite3.connect(':memory:')\n",
    "\n",
    "###\n",
    "\n",
    "con_mem.close()"
   ]
  },
  {
   "cell_type": "markdown",
   "metadata": {},
   "source": [
    "Contagem de linhas afetadas"
   ]
  },
  {
   "cell_type": "code",
   "execution_count": null,
   "metadata": {},
   "outputs": [
    {
     "name": "stdout",
     "output_type": "stream",
     "text": [
      "2\n",
      "\n",
      "Colunas ['ID', 'Produto', 'Valor', 'Data', 'Vendido']\n",
      "['ID: 1', 'Produto: Mouse', 'Valor: 89.0', 'Data: 2022-09-08 17:27:52.235809', 'Vendido: 1']\n",
      "['ID: 3', 'Produto: Mouse', 'Valor: 73.0', 'Data: 2022-09-08 17:27:52.286766', 'Vendido: 0']\n",
      "['ID: 5', 'Produto: Teclado', 'Valor: 83.0', 'Data: 2022-09-08 17:27:52.380705', 'Vendido: 1']\n",
      "['ID: 7', 'Produto: Teclado', 'Valor: 97.0', 'Data: 2022-09-08 17:27:52.405689', 'Vendido: 1']\n",
      "['ID: 8', 'Produto: Monitor', 'Valor: 74.0', 'Data: 2022-09-08 17:27:52.419682', 'Vendido: 1']\n",
      "['ID: 11', 'Produto: Mouse', 'Valor: 94.0', 'Data: 2022-09-08 17:27:52.478646', 'Vendido: 0']\n",
      "['ID: 13', 'Produto: Teclado', 'Valor: 61.0', 'Data: 2022-09-08 17:27:52.500631', 'Vendido: 1']\n",
      "['ID: 14', 'Produto: Teclado', 'Valor: 83.0', 'Data: 2022-09-08 17:27:52.509626', 'Vendido: 1']\n",
      "['ID: 17', 'Produto: CPU', 'Valor: 98.0', 'Data: 2022-09-08 17:27:52.537608', 'Vendido: 0']\n",
      "['ID: 18', 'Produto: CPU', 'Valor: 99.0', 'Data: 2022-09-08 17:27:52.549601', 'Vendido: 0']\n",
      "['ID: 19', 'Produto: CPU', 'Valor: 90.0', 'Data: 2022-09-08 17:27:52.562593', 'Vendido: 0']\n",
      "['ID: 20', 'Produto: CPU', 'Valor: 88.0', 'Data: 2022-09-08 17:27:52.597570', 'Vendido: 0']\n",
      "['ID: 21', 'Produto: CPU', 'Valor: 91.0', 'Data: 2022-09-03 16:26:28.564400', 'Vendido: 1']\n",
      "['ID: 22', 'Produto: CPU', 'Valor: 120.0', 'Data: 2022-09-03 16:26:28.564400', 'Vendido: 0']\n",
      "['ID: 28', 'Produto: None', 'Valor: 120.0', 'Data: 2022-09-03 16:26:28.564400', 'Vendido: 0']\n"
     ]
    }
   ],
   "source": [
    "Query = 'DELETE FROM random_table WHERE Produto = \"Câmera\" OR Produto = \"Cabos\"'\n",
    "\n",
    "Conn = sqlite3.connect(arquivo)\n",
    "Cursor = Conn.cursor()\n",
    "\n",
    "# Isso não só deleta como conta quantas alterações foram feitas.\n",
    "print(Cursor.execute(Query).rowcount)\n",
    "\n",
    "Conn.commit()\n",
    "Cursor.close()\n",
    "Conn.close()\n",
    "\n",
    "print()\n",
    "\n",
    "showall(arquivo,tabela)"
   ]
  },
  {
   "cell_type": "markdown",
   "metadata": {},
   "source": [
    "Características do comando .fetchall()"
   ]
  },
  {
   "cell_type": "code",
   "execution_count": null,
   "metadata": {},
   "outputs": [
    {
     "name": "stdout",
     "output_type": "stream",
     "text": [
      "Empty Fetched Data: []\n",
      "Stored Fetched Data: [(1, 'Mouse', 89.0, '2022-09-08 17:27:52.235809', 1), (3, 'Mouse', 73.0, '2022-09-08 17:27:52.286766', 0), (5, 'Teclado', 83.0, '2022-09-08 17:27:52.380705', 1)]\n"
     ]
    }
   ],
   "source": [
    "# O comando .fetchall é descartável. Depois de executado, torna-se uma lista vazia.\n",
    "\n",
    "Query = \"SELECT * FROM random_table LIMIT 3\"\n",
    "\n",
    "curs = sqlite3.connect(arquivo).cursor()\n",
    "curs.execute(Query)\n",
    "\n",
    "Stored_Data = curs.fetchall()                         # Aqui o Fetchall é utilizado, armazenando a lista numa variável.\n",
    "\n",
    "print('Empty Fetched Data:',curs.fetchall())          # Aqui ele é impresso como uma lista vazi\n",
    "\n",
    "\n",
    "print('Stored Fetched Data:',Stored_Data)\n",
    "\n",
    "\n",
    "curs.close()"
   ]
  },
  {
   "cell_type": "markdown",
   "metadata": {},
   "source": [
    "### Erros e Exceções"
   ]
  },
  {
   "cell_type": "markdown",
   "metadata": {},
   "source": [
    "* *DatabaseError*\n",
    "   * Qualquer erro relacionado ao banco de dados."
   ]
  },
  {
   "cell_type": "markdown",
   "metadata": {},
   "source": [
    "* *IntegrityError*\n",
    "  * É uma subclasse de _DatabaseError_ e surge quando há problema de integridade de dados. Por exemplo, dados extrangeiros não estão atualizados em todas as tabelas resultando na inconsistência dos dados."
   ]
  },
  {
   "cell_type": "markdown",
   "metadata": {},
   "source": [
    "* *ProgrammingError*\n",
    "  * Surge quando há erro de sintaxe, ou a tabela não é encontrada, ou a função é evocada com o número errado de parâmetros/argumentos."
   ]
  },
  {
   "cell_type": "markdown",
   "metadata": {},
   "source": [
    "* *OperationalError*\n",
    "   * Esta exceção surge quando as operações do banco de dados falham; por exemplo, desconexão não usual. Não é culpa do programador."
   ]
  },
  {
   "cell_type": "markdown",
   "metadata": {},
   "source": [
    "* *NotSupportedError*\n",
    "   * Quando você usa algum método que não está definido ou não é suportado pelo banco de dados."
   ]
  }
 ],
 "metadata": {
  "kernelspec": {
   "display_name": "Python 3.9.12 ('base')",
   "language": "python",
   "name": "python3"
  },
  "language_info": {
   "codemirror_mode": {
    "name": "ipython",
    "version": 3
   },
   "file_extension": ".py",
   "mimetype": "text/x-python",
   "name": "python",
   "nbconvert_exporter": "python",
   "pygments_lexer": "ipython3",
   "version": "3.9.12"
  },
  "orig_nbformat": 4,
  "vscode": {
   "interpreter": {
    "hash": "f3fa9753a0185799aa0ee489d84997124acf10a1d8aec4d38a927bd792ded888"
   }
  }
 },
 "nbformat": 4,
 "nbformat_minor": 2
}

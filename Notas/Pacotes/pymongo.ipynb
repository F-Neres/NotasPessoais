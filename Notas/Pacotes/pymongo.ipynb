{
 "cells": [
  {
   "cell_type": "markdown",
   "metadata": {},
   "source": [
    "# Pymongo"
   ]
  },
  {
   "cell_type": "markdown",
   "metadata": {},
   "source": [
    "Este é um pacote que possibilita utilizar o SGBD MongoDB integrado ao Python.  \n",
    "MongoDB é um sistema de gerenciamente do bancos de dados não relacionais baseados em documentos."
   ]
  },
  {
   "cell_type": "code",
   "execution_count": 1,
   "metadata": {},
   "outputs": [
    {
     "name": "stdout",
     "output_type": "stream",
     "text": [
      "Requirement already satisfied: pymongo in c:\\users\\fnsb.desktop-7t10aps\\appdata\\local\\packages\\pythonsoftwarefoundation.python.3.10_qbz5n2kfra8p0\\localcache\\local-packages\\python310\\site-packages (4.2.0)\n"
     ]
    }
   ],
   "source": [
    "! pip install pymongo"
   ]
  },
  {
   "cell_type": "code",
   "execution_count": 2,
   "metadata": {},
   "outputs": [],
   "source": [
    "from pymongo import MongoClient"
   ]
  },
  {
   "cell_type": "code",
   "execution_count": 3,
   "metadata": {},
   "outputs": [],
   "source": [
    "# Criando um cliente, Estabelecimento de uma conexão com o MondoDB\n",
    "\n",
    "ClientLink = MongoClient(\"mongodb://localhost:27017/\")\n",
    "\n",
    "# O \"localhost\" é padrão.\n",
    "\n",
    "ClientPar = MongoClient(\"localhost\",27017)\n",
    "# Outra forma de criar conexão.\n",
    "# O primeiro parâmetro diz onde estão os bancos de dados a serem acessados. Neste caso, localhost é esta própria máquina.\n",
    "# O segundo parâmetro indica a porta de acesso."
   ]
  },
  {
   "cell_type": "markdown",
   "metadata": {},
   "source": [
    "No MongoDB, um banco de dados só é criado quando há dados nele.  \n",
    "Mesmo que um banco de dados seja criado, ele só constará como existe se houver registros."
   ]
  },
  {
   "cell_type": "code",
   "execution_count": null,
   "metadata": {},
   "outputs": [],
   "source": []
  }
 ],
 "metadata": {
  "kernelspec": {
   "display_name": "Python 3.10.7 64-bit (microsoft store)",
   "language": "python",
   "name": "python3"
  },
  "language_info": {
   "codemirror_mode": {
    "name": "ipython",
    "version": 3
   },
   "file_extension": ".py",
   "mimetype": "text/x-python",
   "name": "python",
   "nbconvert_exporter": "python",
   "pygments_lexer": "ipython3",
   "version": "3.10.7"
  },
  "orig_nbformat": 4,
  "vscode": {
   "interpreter": {
    "hash": "91b18657112df8a6dc2946b9dfe3559ddfc8e1e2117c2c8071424b5e043bd8e1"
   }
  }
 },
 "nbformat": 4,
 "nbformat_minor": 2
}

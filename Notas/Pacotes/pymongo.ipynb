{
 "cells": [
  {
   "cell_type": "markdown",
   "metadata": {},
   "source": [
    "# Pymongo"
   ]
  },
  {
   "cell_type": "markdown",
   "metadata": {},
   "source": [
    "Este é um pacote que possibilita utilizar o SGBD MongoDB integrado ao Python.  \n",
    "MongoDB é um sistema de gerenciamente do bancos de dados não relacionais baseados em documentos."
   ]
  },
  {
   "cell_type": "code",
   "execution_count": 1,
   "metadata": {},
   "outputs": [
    {
     "name": "stdout",
     "output_type": "stream",
     "text": [
      "Requirement already satisfied: pymongo in c:\\users\\fnsb.desktop-7t10aps\\appdata\\local\\packages\\pythonsoftwarefoundation.python.3.10_qbz5n2kfra8p0\\localcache\\local-packages\\python310\\site-packages (4.2.0)\n"
     ]
    }
   ],
   "source": [
    "! pip install pymongo"
   ]
  },
  {
   "cell_type": "code",
   "execution_count": 2,
   "metadata": {},
   "outputs": [],
   "source": [
    "from pymongo import MongoClient"
   ]
  },
  {
   "cell_type": "markdown",
   "metadata": {},
   "source": [
    "## Cliente, Banco de dados e Coleções"
   ]
  },
  {
   "cell_type": "code",
   "execution_count": 3,
   "metadata": {},
   "outputs": [
    {
     "name": "stdout",
     "output_type": "stream",
     "text": [
      "<class 'pymongo.mongo_client.MongoClient'>\n"
     ]
    }
   ],
   "source": [
    "# Criando um cliente, Estabelecimento de uma conexão com o MondoDB\n",
    "\n",
    "Client_A = MongoClient(\"mongodb://localhost:27017/\")\n",
    "\n",
    "# O \"localhost\" é padrão.\n",
    "\n",
    "Client_B = MongoClient()\n",
    "# Se a conexão não é determinada, a porta 27017 do localhost é selecionado automaticamente.\n",
    "\n",
    "Client = MongoClient(\"localhost\",27017)\n",
    "# Outra forma de criar conexão.\n",
    "# O primeiro parâmetro diz onde estão os bancos de dados a serem acessados. Neste caso, localhost é esta própria máquina.\n",
    "# O segundo parâmetro indica a porta de acesso.\n",
    "\n",
    "print(type(Client))"
   ]
  },
  {
   "cell_type": "markdown",
   "metadata": {},
   "source": [
    "No MongoDB, um banco de dados só é criado quando há dados nele.  \n",
    "Mesmo que um banco de dados seja criado, ele só constará como existe se houver registros."
   ]
  },
  {
   "cell_type": "code",
   "execution_count": 4,
   "metadata": {},
   "outputs": [
    {
     "name": "stdout",
     "output_type": "stream",
     "text": [
      "<class 'pymongo.database.Database'>\n",
      "<class 'pymongo.database.Database'>\n"
     ]
    }
   ],
   "source": [
    "# Criação de banco de dados:\n",
    "\n",
    "ExampleDB_A = Client_A[\"ExampleDBName_A\"]\n",
    "print(type(ExampleDB_A))\n",
    "\n",
    "ExampleDB = Client.ExampleDBName\n",
    "print(type(ExampleDB))"
   ]
  },
  {
   "cell_type": "code",
   "execution_count": 5,
   "metadata": {},
   "outputs": [
    {
     "name": "stdout",
     "output_type": "stream",
     "text": [
      "<class 'pymongo.collection.Collection'>\n",
      "<class 'pymongo.collection.Collection'>\n"
     ]
    }
   ],
   "source": [
    "# Criação de uma coleção (correlativo a uma tabela)\n",
    "\n",
    "ExampleCol_A = ExampleDB_A[\"ExampleCol_A\"]\n",
    "print(type(ExampleCol_A))\n",
    "\n",
    "ExampleCol = ExampleDB.ExampleCol\n",
    "print(type(ExampleCol))\n"
   ]
  },
  {
   "cell_type": "code",
   "execution_count": 6,
   "metadata": {},
   "outputs": [
    {
     "name": "stdout",
     "output_type": "stream",
     "text": [
      "Object `(ExampleCol)` not found.\n"
     ]
    }
   ],
   "source": [
    "?(ExampleCol)"
   ]
  },
  {
   "cell_type": "code",
   "execution_count": 7,
   "metadata": {},
   "outputs": [],
   "source": [
    "# Lista de coleções no DB.\n",
    "\n",
    "#print(ExampleCol_A.list_collection_names())\n",
    "\n",
    "\n",
    "#print('\\n',type(ExampleCol_A.list_collection_names()))"
   ]
  },
  {
   "cell_type": "markdown",
   "metadata": {},
   "source": [
    "## Inserção de documentos"
   ]
  },
  {
   "cell_type": "code",
   "execution_count": 8,
   "metadata": {},
   "outputs": [
    {
     "name": "stdout",
     "output_type": "stream",
     "text": [
      "{'id_jogo': 683, 'nm_jogo': 'De Vulgari Eloquentia', 'thumb': 'https:\\\\/\\\\/storage.googleapis.com\\\\/ludopedia-capas\\\\/683_t.jpg', 'tp_jogo': 'b', 'link': 'https:\\\\/\\\\/ludopedia.com.br\\\\/jogo\\\\/de-vulgari-eloquentia', 'ano_publicacao': 2010, 'ano_nacional': False, 'qt_jogadores_min': 2, 'qt_jogadores_max': 5, 'mecanicas': [{'id_mecanica': '31', 'nm_mecanica': 'Movimento de Área'}, {'id_mecanica': '22', 'nm_mecanica': 'Sistema de Pontos de Ação'}], 'categorias': [], 'temas': [{'id_tema': '21', 'nm_tema': 'Medieval'}], 'artistas': [{'id_profissional': '888', 'nm_profissional': 'Lamberto Azzariti'}, {'id_profissional': '443', 'nm_profissional': 'Guido Favaro'}, {'id_profissional': '1268', 'nm_profissional': 'Eva Villa'}], 'designers': [{'id_profissional': '1245', 'nm_profissional': 'Mario Papini'}], 'vl_tempo_jogo': 120, 'idade_minima': 14, 'qt_tem': 68, 'qt_teve': 34, 'qt_favorito': 5, 'qt_quer': 100, 'qt_jogou': 103}\n"
     ]
    }
   ],
   "source": [
    "# Criando um dicionário como exemplo\n",
    "De_Vulgari_Eloquentia = {\n",
    "    \"id_jogo\":683,\"nm_jogo\":\"De Vulgari Eloquentia\",\n",
    "    \"thumb\":\"https:\\/\\/storage.googleapis.com\\/ludopedia-capas\\/683_t.jpg\",\n",
    "    \"tp_jogo\":\"b\",\n",
    "    \"link\":\"https:\\/\\/ludopedia.com.br\\/jogo\\/de-vulgari-eloquentia\",\n",
    "    \"ano_publicacao\":2010,\n",
    "    \"ano_nacional\":False,\n",
    "    \"qt_jogadores_min\":2,\n",
    "    \"qt_jogadores_max\":5,\n",
    "    \"mecanicas\":[\n",
    "        {\n",
    "            \"id_mecanica\":\"31\",\n",
    "            \"nm_mecanica\":\"Movimento de Área\"},\n",
    "        {\n",
    "            \"id_mecanica\":\"22\",\n",
    "            \"nm_mecanica\":\"Sistema de Pontos de Ação\"}],\n",
    "    \"categorias\":[],\n",
    "    \"temas\":[\n",
    "        {\n",
    "            \"id_tema\":\"21\",\n",
    "            \"nm_tema\":\"Medieval\"}],\n",
    "    \"artistas\":[\n",
    "        {\n",
    "            \"id_profissional\":\"888\",\n",
    "            \"nm_profissional\":\"Lamberto Azzariti\"},\n",
    "        {\n",
    "            \"id_profissional\":\"443\",\n",
    "            \"nm_profissional\":\"Guido Favaro\"},\n",
    "        {\n",
    "            \"id_profissional\":\"1268\",\n",
    "            \"nm_profissional\":\"Eva Villa\"}],\n",
    "    \"designers\":[\n",
    "        {\n",
    "            \"id_profissional\":\"1245\",\n",
    "            \"nm_profissional\":\"Mario Papini\"}],\n",
    "    \"vl_tempo_jogo\":120,\n",
    "    \"idade_minima\":14,\n",
    "    \"qt_tem\":68,\n",
    "    \"qt_teve\":34,\n",
    "    \"qt_favorito\":5,\n",
    "    \"qt_quer\":100,\n",
    "    \"qt_jogou\":103}\n",
    "\n",
    "print(De_Vulgari_Eloquentia)"
   ]
  },
  {
   "cell_type": "code",
   "execution_count": 9,
   "metadata": {},
   "outputs": [
    {
     "name": "stdout",
     "output_type": "stream",
     "text": [
      "<pymongo.results.InsertOneResult object at 0x000001BA2999FAF0>\n",
      "63335331138ce2c95587d11e\n",
      "<class 'pymongo.results.InsertOneResult'>\n"
     ]
    }
   ],
   "source": [
    "# Inserir documento (equivalente à tabela)\n",
    "# Todo documento pode ser visto como um arquivo JSON ou como um dicionário.\n",
    "# O objeto criado abaixo é um \"resultado\".\n",
    "\n",
    "Inserção = ExampleCol.insert_one(De_Vulgari_Eloquentia)\n",
    "print(Inserção)\n",
    "print(Inserção.inserted_id)\n",
    "print(type(Inserção))"
   ]
  },
  {
   "cell_type": "code",
   "execution_count": 10,
   "metadata": {},
   "outputs": [
    {
     "name": "stdout",
     "output_type": "stream",
     "text": [
      "<class 'dict'>\n"
     ]
    },
    {
     "data": {
      "text/plain": [
       "<pymongo.results.InsertOneResult at 0x1ba2999f520>"
      ]
     },
     "execution_count": 10,
     "metadata": {},
     "output_type": "execute_result"
    }
   ],
   "source": [
    "Viva_Java_the_Coffee_Game_the_Dice_Game = {\n",
    "    \"id_jogo\":1177,\n",
    "    \"nm_jogo\":\"VivaJava: The Coffee Game: The Dice Game\",\n",
    "    \"thumb\":\"https:\\/\\/storage.googleapis.com\\/ludopedia-capas\\/1177_t.jpg\",\n",
    "    \"tp_jogo\":\"b\",\n",
    "    \"link\":\"https:\\/\\/ludopedia.com.br\\/jogo\\/vivajava-the-coffee-game-the-dice-game\",\n",
    "    \"ano_publicacao\":2014,\n",
    "    \"ano_nacional\":False,\n",
    "    \"qt_jogadores_min\":2,\n",
    "    \"qt_jogadores_max\":4,\n",
    "    \"mecanicas\":[\n",
    "        {\n",
    "            \"id_mecanica\":\"13\",\n",
    "            \"nm_mecanica\":\"Alocação de Trabalhadores\"},\n",
    "        {\n",
    "            \"id_mecanica\":\"5\",\n",
    "            \"nm_mecanica\":\"Apostas\"},\n",
    "        {\n",
    "            \"id_mecanica\":\"17\",\n",
    "            \"nm_mecanica\":\"Construção de Baralho\\/Peças\"},\n",
    "        {\n",
    "            \"id_mecanica\":\"27\",\n",
    "            \"nm_mecanica\":\"Jogadores com Diferentes Habilidades\"},\n",
    "        {\n",
    "            \"id_mecanica\":\"40\",\n",
    "            \"nm_mecanica\":\"Rolagem de Dados\"},\n",
    "        {\n",
    "            \"id_mecanica\":\"45\",\n",
    "            \"nm_mecanica\":\"Force sua sorte\"},\n",
    "        {\n",
    "            \"id_mecanica\":\"47\",\n",
    "            \"nm_mecanica\":\"Tabuleiro Modular\"}],\n",
    "    \"categorias\":[\n",
    "        {\n",
    "            \"id_categoria\":\"109\",\n",
    "            \"nm_categoria\":\"Jogo de Cartas\"},\n",
    "        {\n",
    "            \"id_categoria\":\"110\",\n",
    "            \"nm_categoria\":\"Jogo de Dados\"}],\n",
    "    \"temas\":[\n",
    "        {\n",
    "            \"id_tema\":\"15\",\n",
    "            \"nm_tema\":\"Gastronomia\"}],\n",
    "    \"artistas\":[\n",
    "        {\n",
    "            \"id_profissional\":\"893\",\n",
    "            \"nm_profissional\":\"Christopher Kirkman\"}],\n",
    "    \"designers\":[\n",
    "        {\n",
    "            \"id_profissional\":\"892\",\n",
    "            \"nm_profissional\":\"T. C. Petty III\"}],\n",
    "    \"vl_tempo_jogo\":30,\n",
    "    \"idade_minima\":10,\n",
    "    \"qt_tem\":28,\n",
    "    \"qt_teve\":14,\n",
    "    \"qt_favorito\":2,\n",
    "    \"qt_quer\":49,\n",
    "    \"qt_jogou\":39}\n",
    "\n",
    "print(type(Viva_Java_the_Coffee_Game_the_Dice_Game))\n",
    "\n",
    "\n",
    "# Não é preciso atrelar um objeto ao método de inserção.\n",
    "\n",
    "ExampleCol.insert_one(Viva_Java_the_Coffee_Game_the_Dice_Game)"
   ]
  },
  {
   "cell_type": "code",
   "execution_count": 11,
   "metadata": {},
   "outputs": [],
   "source": [
    "# Uma lista para adicionar vários registros simultaneamente\n",
    "\n",
    "Reino_de_Cthulhu = {\"id_jogo\":9867,\"nm_jogo\":\"Pandemic: O Reino de Cthulhu\",\"thumb\":\"https:\\/\\/storage.googleapis.com\\/ludopedia-capas\\/9867_t.jpg\",\"tp_jogo\":\"b\",\"link\":\"https:\\/\\/ludopedia.com.br\\/jogo\\/pandemic-reign-of-cthulhu\",\"ano_publicacao\":2016,\"ano_nacional\":2016,\"qt_jogadores_min\":2,\"qt_jogadores_max\":4,\"mecanicas\":[{\"id_mecanica\":\"3\",\"nm_mecanica\":\"Gestão de Mão\"},{\"id_mecanica\":\"11\",\"nm_mecanica\":\"Colecionar Componentes\"},{\"id_mecanica\":\"20\",\"nm_mecanica\":\"Cooperativo\"},{\"id_mecanica\":\"27\",\"nm_mecanica\":\"Jogadores com Diferentes Habilidades\"},{\"id_mecanica\":\"32\",\"nm_mecanica\":\"Movimento Ponto-a-Ponto\"},{\"id_mecanica\":\"22\",\"nm_mecanica\":\"Sistema de Pontos de Ação\"},{\"id_mecanica\":\"14\",\"nm_mecanica\":\"Negociação\"}],\"categorias\":[],\"temas\":[{\"id_tema\":\"33\",\"nm_tema\":\"Mitologia\"},{\"id_tema\":\"18\",\"nm_tema\":\"Horror\"}],\"artistas\":[{\"id_profissional\":\"8228\",\"nm_profissional\":\"Fred Jordan\"},{\"id_profissional\":\"6646\",\"nm_profissional\":\"Atha Kanaani\"},{\"id_profissional\":\"288\",\"nm_profissional\":\"Chris Quilliams\"}],\"designers\":[{\"id_profissional\":\"252\",\"nm_profissional\":\"Matt Leacock\"},{\"id_profissional\":\"7180\",\"nm_profissional\":\"Chuck D. Yager\"}],\"vl_tempo_jogo\":40,\"idade_minima\":14,\"qt_tem\":1213,\"qt_teve\":229,\"qt_favorito\":128,\"qt_quer\":812,\"qt_jogou\":1192}\n",
    "\n",
    "Fury_of_Dracula = {\"id_jogo\":8360,\"nm_jogo\":\"Fury of Dracula (3ª Edição)\",\"thumb\":\"https:\\/\\/storage.googleapis.com\\/ludopedia-capas\\/8360_t.jpg\",\"tp_jogo\":\"b\",\"link\":\"https:\\/\\/ludopedia.com.br\\/jogo\\/fury-of-dracula-third-fourth-edition\",\"ano_publicacao\":2015,\"ano_nacional\":2020,\"qt_jogadores_min\":2,\"qt_jogadores_max\":5,\"mecanicas\":[{\"id_mecanica\":\"27\",\"nm_mecanica\":\"Jogadores com Diferentes Habilidades\"},{\"id_mecanica\":\"37\",\"nm_mecanica\":\"Jogo em Equipe\"},{\"id_mecanica\":\"32\",\"nm_mecanica\":\"Movimento Ponto-a-Ponto\"},{\"id_mecanica\":\"39\",\"nm_mecanica\":\"Posicionamento Secreto\"},{\"id_mecanica\":\"60\",\"nm_mecanica\":\"Dedução\"},{\"id_mecanica\":\"7\",\"nm_mecanica\":\"Campanha\\/ Batalhas Dirigidas por Cartas\"},{\"id_mecanica\":\"3\",\"nm_mecanica\":\"Gestão de Mão\"}],\"categorias\":[],\"temas\":[{\"id_tema\":\"18\",\"nm_tema\":\"Horror\"},{\"id_tema\":\"35\",\"nm_tema\":\"Literatura\"}],\"artistas\":[{\"id_profissional\":\"12362\",\"nm_profissional\":\"Chris Beck\"},{\"id_profissional\":\"10184\",\"nm_profissional\":\"Samuel Shimota\"}],\"designers\":[{\"id_profissional\":\"103\",\"nm_profissional\":\"Stephen Hand\"},{\"id_profissional\":\"6598\",\"nm_profissional\":\"Frank Brooks\"},{\"id_profissional\":\"84\",\"nm_profissional\":\"Kevin Wilson\"}],\"vl_tempo_jogo\":180,\"idade_minima\":14,\"qt_tem\":692,\"qt_teve\":112,\"qt_favorito\":68,\"qt_quer\":825,\"qt_jogou\":511}\n",
    "\n",
    "Sherlock_13 = {\"id_jogo\":11429,\"nm_jogo\":\"Sherlock\",\"thumb\":\"https:\\/\\/storage.googleapis.com\\/ludopedia-capas\\/11429_t.jpg\",\"tp_jogo\":\"b\",\"link\":\"https:\\/\\/ludopedia.com.br\\/jogo\\/sherlock-13\",\"ano_publicacao\":2013,\"ano_nacional\":2018,\"qt_jogadores_min\":2,\"qt_jogadores_max\":4,\"mecanicas\":[{\"id_mecanica\":\"29\",\"nm_mecanica\":\"Memória\"},{\"id_mecanica\":\"60\",\"nm_mecanica\":\"Dedução\"},{\"id_mecanica\":\"36\",\"nm_mecanica\":\"Papel e Caneta\"},{\"id_mecanica\":\"39\",\"nm_mecanica\":\"Posicionamento Secreto\"}],\"categorias\":[{\"id_categoria\":\"109\",\"nm_categoria\":\"Jogo de Cartas\"},{\"id_categoria\":\"111\",\"nm_categoria\":\"Jogo de Entrada\"}],\"temas\":[{\"id_tema\":\"35\",\"nm_tema\":\"Literatura\"},{\"id_tema\":\"23\",\"nm_tema\":\"Policial\"}],\"artistas\":[{\"id_profissional\":\"1091\",\"nm_profissional\":\"Vincent Dutrait\"}],\"designers\":[{\"id_profissional\":\"636\",\"nm_profissional\":\"Hope S. Hwang\"}],\"vl_tempo_jogo\":15,\"idade_minima\":6,\"qt_tem\":774,\"qt_teve\":91,\"qt_favorito\":15,\"qt_quer\":131,\"qt_jogou\":615}\n",
    "\n",
    "gamelist = [Reino_de_Cthulhu,Fury_of_Dracula,Sherlock_13]"
   ]
  },
  {
   "cell_type": "code",
   "execution_count": 12,
   "metadata": {},
   "outputs": [
    {
     "data": {
      "text/plain": [
       "<pymongo.results.InsertManyResult at 0x1ba2999ffd0>"
      ]
     },
     "execution_count": 12,
     "metadata": {},
     "output_type": "execute_result"
    }
   ],
   "source": [
    "# Adição de vários documentos em uma lista\n",
    "\n",
    "ExampleCol.insert_many(gamelist)"
   ]
  },
  {
   "cell_type": "markdown",
   "metadata": {},
   "source": [
    "## Consulta"
   ]
  },
  {
   "cell_type": "code",
   "execution_count": 13,
   "metadata": {},
   "outputs": [
    {
     "name": "stdout",
     "output_type": "stream",
     "text": [
      "['ExampleDBName', 'ExampleDBName_A', 'admin', 'config', 'local']\n",
      "<class 'list'>\n"
     ]
    }
   ],
   "source": [
    "# Lista de bancos de dados no client:\n",
    "\n",
    "print(Client.list_database_names())\n",
    "\n",
    "print(type(Client.list_database_names()))"
   ]
  },
  {
   "cell_type": "code",
   "execution_count": 14,
   "metadata": {},
   "outputs": [
    {
     "name": "stdout",
     "output_type": "stream",
     "text": [
      "ExampleDBName\n",
      "<class 'str'>\n"
     ]
    }
   ],
   "source": [
    "# Nome do banco de dados atual\n",
    "\n",
    "print(ExampleDB.name)\n",
    "print(type(ExampleDB.name))"
   ]
  },
  {
   "cell_type": "code",
   "execution_count": 15,
   "metadata": {},
   "outputs": [
    {
     "name": "stdout",
     "output_type": "stream",
     "text": [
      "['ExampleCol']\n",
      "<class 'list'>\n"
     ]
    }
   ],
   "source": [
    "# Lista de coleções no banco de dados.\n",
    "\n",
    "print(ExampleDB.list_collection_names())\n",
    "print(type(ExampleDB.list_collection_names()))"
   ]
  },
  {
   "cell_type": "code",
   "execution_count": 16,
   "metadata": {},
   "outputs": [
    {
     "name": "stdout",
     "output_type": "stream",
     "text": [
      "{'_id': ObjectId('6330dc364571c8ffc75eff5b'), 'id_jogo': 683, 'nm_jogo': 'De Vulgari Eloquentia', 'thumb': 'https:\\\\/\\\\/storage.googleapis.com\\\\/ludopedia-capas\\\\/683_t.jpg', 'tp_jogo': 'b', 'link': 'https:\\\\/\\\\/ludopedia.com.br\\\\/jogo\\\\/de-vulgari-eloquentia', 'ano_publicacao': 2010, 'ano_nacional': False, 'qt_jogadores_min': 2, 'qt_jogadores_max': 5, 'mecanicas': [{'id_mecanica': '31', 'nm_mecanica': 'Movimento de Área'}, {'id_mecanica': '22', 'nm_mecanica': 'Sistema de Pontos de Ação'}], 'categorias': [], 'temas': [{'id_tema': '21', 'nm_tema': 'Medieval'}], 'artistas': [{'id_profissional': '888', 'nm_profissional': 'Lamberto Azzariti'}, {'id_profissional': '443', 'nm_profissional': 'Guido Favaro'}, {'id_profissional': '1268', 'nm_profissional': 'Eva Villa'}], 'designers': [{'id_profissional': '1245', 'nm_profissional': 'Mario Papini'}], 'vl_tempo_jogo': 120, 'idade_minima': 14, 'qt_tem': 68, 'qt_teve': 34, 'qt_favorito': 5, 'qt_quer': 100, 'qt_jogou': 103}\n",
      "<class 'dict'>\n",
      "{'_id': ObjectId('6330e1420ac00347ca0de0c1'), 'id_jogo': 683, 'nm_jogo': 'De Vulgari Eloquentia', 'thumb': 'https:\\\\/\\\\/storage.googleapis.com\\\\/ludopedia-capas\\\\/683_t.jpg', 'tp_jogo': 'b', 'link': 'https:\\\\/\\\\/ludopedia.com.br\\\\/jogo\\\\/de-vulgari-eloquentia', 'ano_publicacao': 2010, 'ano_nacional': False, 'qt_jogadores_min': 2, 'qt_jogadores_max': 5, 'mecanicas': [{'id_mecanica': '31', 'nm_mecanica': 'Movimento de Área'}, {'id_mecanica': '22', 'nm_mecanica': 'Sistema de Pontos de Ação'}], 'categorias': [], 'temas': [{'id_tema': '21', 'nm_tema': 'Medieval'}], 'artistas': [{'id_profissional': '888', 'nm_profissional': 'Lamberto Azzariti'}, {'id_profissional': '443', 'nm_profissional': 'Guido Favaro'}, {'id_profissional': '1268', 'nm_profissional': 'Eva Villa'}], 'designers': [{'id_profissional': '1245', 'nm_profissional': 'Mario Papini'}], 'vl_tempo_jogo': 120, 'idade_minima': 14, 'qt_tem': 68, 'qt_teve': 34, 'qt_favorito': 5, 'qt_quer': 100, 'qt_jogou': 103}\n",
      "<class 'dict'>\n",
      "{'_id': ObjectId('6330e1580ac00347ca0de0c2'), 'id_jogo': 1177, 'nm_jogo': 'VivaJava: The Coffee Game: The Dice Game', 'thumb': 'https:\\\\/\\\\/storage.googleapis.com\\\\/ludopedia-capas\\\\/1177_t.jpg', 'tp_jogo': 'b', 'link': 'https:\\\\/\\\\/ludopedia.com.br\\\\/jogo\\\\/vivajava-the-coffee-game-the-dice-game', 'ano_publicacao': 2014, 'ano_nacional': False, 'qt_jogadores_min': 2, 'qt_jogadores_max': 4, 'mecanicas': [{'id_mecanica': '13', 'nm_mecanica': 'Alocação de Trabalhadores'}, {'id_mecanica': '5', 'nm_mecanica': 'Apostas'}, {'id_mecanica': '17', 'nm_mecanica': 'Construção de Baralho\\\\/Peças'}, {'id_mecanica': '27', 'nm_mecanica': 'Jogadores com Diferentes Habilidades'}, {'id_mecanica': '40', 'nm_mecanica': 'Rolagem de Dados'}, {'id_mecanica': '45', 'nm_mecanica': 'Force sua sorte'}, {'id_mecanica': '47', 'nm_mecanica': 'Tabuleiro Modular'}], 'categorias': [{'id_categoria': '109', 'nm_categoria': 'Jogo de Cartas'}, {'id_categoria': '110', 'nm_categoria': 'Jogo de Dados'}], 'temas': [{'id_tema': '15', 'nm_tema': 'Gastronomia'}], 'artistas': [{'id_profissional': '893', 'nm_profissional': 'Christopher Kirkman'}], 'designers': [{'id_profissional': '892', 'nm_profissional': 'T. C. Petty III'}], 'vl_tempo_jogo': 30, 'idade_minima': 10, 'qt_tem': 28, 'qt_teve': 14, 'qt_favorito': 2, 'qt_quer': 49, 'qt_jogou': 39}\n",
      "<class 'dict'>\n",
      "{'_id': ObjectId('6330ed680ac00347ca0de0c3'), 'id_jogo': 9867, 'nm_jogo': 'Pandemic: O Reino de Cthulhu', 'thumb': 'https:\\\\/\\\\/storage.googleapis.com\\\\/ludopedia-capas\\\\/9867_t.jpg', 'tp_jogo': 'b', 'link': 'https:\\\\/\\\\/ludopedia.com.br\\\\/jogo\\\\/pandemic-reign-of-cthulhu', 'ano_publicacao': 2016, 'ano_nacional': 2016, 'qt_jogadores_min': 2, 'qt_jogadores_max': 4, 'mecanicas': [{'id_mecanica': '3', 'nm_mecanica': 'Gestão de Mão'}, {'id_mecanica': '11', 'nm_mecanica': 'Colecionar Componentes'}, {'id_mecanica': '20', 'nm_mecanica': 'Cooperativo'}, {'id_mecanica': '27', 'nm_mecanica': 'Jogadores com Diferentes Habilidades'}, {'id_mecanica': '32', 'nm_mecanica': 'Movimento Ponto-a-Ponto'}, {'id_mecanica': '22', 'nm_mecanica': 'Sistema de Pontos de Ação'}, {'id_mecanica': '14', 'nm_mecanica': 'Negociação'}], 'categorias': [], 'temas': [{'id_tema': '33', 'nm_tema': 'Mitologia'}, {'id_tema': '18', 'nm_tema': 'Horror'}], 'artistas': [{'id_profissional': '8228', 'nm_profissional': 'Fred Jordan'}, {'id_profissional': '6646', 'nm_profissional': 'Atha Kanaani'}, {'id_profissional': '288', 'nm_profissional': 'Chris Quilliams'}], 'designers': [{'id_profissional': '252', 'nm_profissional': 'Matt Leacock'}, {'id_profissional': '7180', 'nm_profissional': 'Chuck D. Yager'}], 'vl_tempo_jogo': 40, 'idade_minima': 14, 'qt_tem': 1213, 'qt_teve': 229, 'qt_favorito': 128, 'qt_quer': 812, 'qt_jogou': 1192}\n",
      "<class 'dict'>\n",
      "{'_id': ObjectId('6330ed680ac00347ca0de0c4'), 'id_jogo': 8360, 'nm_jogo': 'Fury of Dracula (3ª Edição)', 'thumb': 'https:\\\\/\\\\/storage.googleapis.com\\\\/ludopedia-capas\\\\/8360_t.jpg', 'tp_jogo': 'b', 'link': 'https:\\\\/\\\\/ludopedia.com.br\\\\/jogo\\\\/fury-of-dracula-third-fourth-edition', 'ano_publicacao': 2015, 'ano_nacional': 2020, 'qt_jogadores_min': 2, 'qt_jogadores_max': 5, 'mecanicas': [{'id_mecanica': '27', 'nm_mecanica': 'Jogadores com Diferentes Habilidades'}, {'id_mecanica': '37', 'nm_mecanica': 'Jogo em Equipe'}, {'id_mecanica': '32', 'nm_mecanica': 'Movimento Ponto-a-Ponto'}, {'id_mecanica': '39', 'nm_mecanica': 'Posicionamento Secreto'}, {'id_mecanica': '60', 'nm_mecanica': 'Dedução'}, {'id_mecanica': '7', 'nm_mecanica': 'Campanha\\\\/ Batalhas Dirigidas por Cartas'}, {'id_mecanica': '3', 'nm_mecanica': 'Gestão de Mão'}], 'categorias': [], 'temas': [{'id_tema': '18', 'nm_tema': 'Horror'}, {'id_tema': '35', 'nm_tema': 'Literatura'}], 'artistas': [{'id_profissional': '12362', 'nm_profissional': 'Chris Beck'}, {'id_profissional': '10184', 'nm_profissional': 'Samuel Shimota'}], 'designers': [{'id_profissional': '103', 'nm_profissional': 'Stephen Hand'}, {'id_profissional': '6598', 'nm_profissional': 'Frank Brooks'}, {'id_profissional': '84', 'nm_profissional': 'Kevin Wilson'}], 'vl_tempo_jogo': 180, 'idade_minima': 14, 'qt_tem': 692, 'qt_teve': 112, 'qt_favorito': 68, 'qt_quer': 825, 'qt_jogou': 511}\n",
      "<class 'dict'>\n",
      "{'_id': ObjectId('6330ed680ac00347ca0de0c5'), 'id_jogo': 11429, 'nm_jogo': 'Sherlock', 'thumb': 'https:\\\\/\\\\/storage.googleapis.com\\\\/ludopedia-capas\\\\/11429_t.jpg', 'tp_jogo': 'b', 'link': 'https:\\\\/\\\\/ludopedia.com.br\\\\/jogo\\\\/sherlock-13', 'ano_publicacao': 2013, 'ano_nacional': 2018, 'qt_jogadores_min': 2, 'qt_jogadores_max': 4, 'mecanicas': [{'id_mecanica': '29', 'nm_mecanica': 'Memória'}, {'id_mecanica': '60', 'nm_mecanica': 'Dedução'}, {'id_mecanica': '36', 'nm_mecanica': 'Papel e Caneta'}, {'id_mecanica': '39', 'nm_mecanica': 'Posicionamento Secreto'}], 'categorias': [{'id_categoria': '109', 'nm_categoria': 'Jogo de Cartas'}, {'id_categoria': '111', 'nm_categoria': 'Jogo de Entrada'}], 'temas': [{'id_tema': '35', 'nm_tema': 'Literatura'}, {'id_tema': '23', 'nm_tema': 'Policial'}], 'artistas': [{'id_profissional': '1091', 'nm_profissional': 'Vincent Dutrait'}], 'designers': [{'id_profissional': '636', 'nm_profissional': 'Hope S. Hwang'}], 'vl_tempo_jogo': 15, 'idade_minima': 6, 'qt_tem': 774, 'qt_teve': 91, 'qt_favorito': 15, 'qt_quer': 131, 'qt_jogou': 615}\n",
      "<class 'dict'>\n",
      "{'_id': ObjectId('633352b9af6d783d475bc49f'), 'id_jogo': 683, 'nm_jogo': 'De Vulgari Eloquentia', 'thumb': 'https:\\\\/\\\\/storage.googleapis.com\\\\/ludopedia-capas\\\\/683_t.jpg', 'tp_jogo': 'b', 'link': 'https:\\\\/\\\\/ludopedia.com.br\\\\/jogo\\\\/de-vulgari-eloquentia', 'ano_publicacao': 2010, 'ano_nacional': False, 'qt_jogadores_min': 2, 'qt_jogadores_max': 5, 'mecanicas': [{'id_mecanica': '31', 'nm_mecanica': 'Movimento de Área'}, {'id_mecanica': '22', 'nm_mecanica': 'Sistema de Pontos de Ação'}], 'categorias': [], 'temas': [{'id_tema': '21', 'nm_tema': 'Medieval'}], 'artistas': [{'id_profissional': '888', 'nm_profissional': 'Lamberto Azzariti'}, {'id_profissional': '443', 'nm_profissional': 'Guido Favaro'}, {'id_profissional': '1268', 'nm_profissional': 'Eva Villa'}], 'designers': [{'id_profissional': '1245', 'nm_profissional': 'Mario Papini'}], 'vl_tempo_jogo': 120, 'idade_minima': 14, 'qt_tem': 68, 'qt_teve': 34, 'qt_favorito': 5, 'qt_quer': 100, 'qt_jogou': 103}\n",
      "<class 'dict'>\n",
      "{'_id': ObjectId('633352b9af6d783d475bc4a0'), 'id_jogo': 1177, 'nm_jogo': 'VivaJava: The Coffee Game: The Dice Game', 'thumb': 'https:\\\\/\\\\/storage.googleapis.com\\\\/ludopedia-capas\\\\/1177_t.jpg', 'tp_jogo': 'b', 'link': 'https:\\\\/\\\\/ludopedia.com.br\\\\/jogo\\\\/vivajava-the-coffee-game-the-dice-game', 'ano_publicacao': 2014, 'ano_nacional': False, 'qt_jogadores_min': 2, 'qt_jogadores_max': 4, 'mecanicas': [{'id_mecanica': '13', 'nm_mecanica': 'Alocação de Trabalhadores'}, {'id_mecanica': '5', 'nm_mecanica': 'Apostas'}, {'id_mecanica': '17', 'nm_mecanica': 'Construção de Baralho\\\\/Peças'}, {'id_mecanica': '27', 'nm_mecanica': 'Jogadores com Diferentes Habilidades'}, {'id_mecanica': '40', 'nm_mecanica': 'Rolagem de Dados'}, {'id_mecanica': '45', 'nm_mecanica': 'Force sua sorte'}, {'id_mecanica': '47', 'nm_mecanica': 'Tabuleiro Modular'}], 'categorias': [{'id_categoria': '109', 'nm_categoria': 'Jogo de Cartas'}, {'id_categoria': '110', 'nm_categoria': 'Jogo de Dados'}], 'temas': [{'id_tema': '15', 'nm_tema': 'Gastronomia'}], 'artistas': [{'id_profissional': '893', 'nm_profissional': 'Christopher Kirkman'}], 'designers': [{'id_profissional': '892', 'nm_profissional': 'T. C. Petty III'}], 'vl_tempo_jogo': 30, 'idade_minima': 10, 'qt_tem': 28, 'qt_teve': 14, 'qt_favorito': 2, 'qt_quer': 49, 'qt_jogou': 39}\n",
      "<class 'dict'>\n",
      "{'_id': ObjectId('633352baaf6d783d475bc4a1'), 'id_jogo': 9867, 'nm_jogo': 'Pandemic: O Reino de Cthulhu', 'thumb': 'https:\\\\/\\\\/storage.googleapis.com\\\\/ludopedia-capas\\\\/9867_t.jpg', 'tp_jogo': 'b', 'link': 'https:\\\\/\\\\/ludopedia.com.br\\\\/jogo\\\\/pandemic-reign-of-cthulhu', 'ano_publicacao': 2016, 'ano_nacional': 2016, 'qt_jogadores_min': 2, 'qt_jogadores_max': 4, 'mecanicas': [{'id_mecanica': '3', 'nm_mecanica': 'Gestão de Mão'}, {'id_mecanica': '11', 'nm_mecanica': 'Colecionar Componentes'}, {'id_mecanica': '20', 'nm_mecanica': 'Cooperativo'}, {'id_mecanica': '27', 'nm_mecanica': 'Jogadores com Diferentes Habilidades'}, {'id_mecanica': '32', 'nm_mecanica': 'Movimento Ponto-a-Ponto'}, {'id_mecanica': '22', 'nm_mecanica': 'Sistema de Pontos de Ação'}, {'id_mecanica': '14', 'nm_mecanica': 'Negociação'}], 'categorias': [], 'temas': [{'id_tema': '33', 'nm_tema': 'Mitologia'}, {'id_tema': '18', 'nm_tema': 'Horror'}], 'artistas': [{'id_profissional': '8228', 'nm_profissional': 'Fred Jordan'}, {'id_profissional': '6646', 'nm_profissional': 'Atha Kanaani'}, {'id_profissional': '288', 'nm_profissional': 'Chris Quilliams'}], 'designers': [{'id_profissional': '252', 'nm_profissional': 'Matt Leacock'}, {'id_profissional': '7180', 'nm_profissional': 'Chuck D. Yager'}], 'vl_tempo_jogo': 40, 'idade_minima': 14, 'qt_tem': 1213, 'qt_teve': 229, 'qt_favorito': 128, 'qt_quer': 812, 'qt_jogou': 1192}\n",
      "<class 'dict'>\n",
      "{'_id': ObjectId('633352baaf6d783d475bc4a2'), 'id_jogo': 8360, 'nm_jogo': 'Fury of Dracula (3ª Edição)', 'thumb': 'https:\\\\/\\\\/storage.googleapis.com\\\\/ludopedia-capas\\\\/8360_t.jpg', 'tp_jogo': 'b', 'link': 'https:\\\\/\\\\/ludopedia.com.br\\\\/jogo\\\\/fury-of-dracula-third-fourth-edition', 'ano_publicacao': 2015, 'ano_nacional': 2020, 'qt_jogadores_min': 2, 'qt_jogadores_max': 5, 'mecanicas': [{'id_mecanica': '27', 'nm_mecanica': 'Jogadores com Diferentes Habilidades'}, {'id_mecanica': '37', 'nm_mecanica': 'Jogo em Equipe'}, {'id_mecanica': '32', 'nm_mecanica': 'Movimento Ponto-a-Ponto'}, {'id_mecanica': '39', 'nm_mecanica': 'Posicionamento Secreto'}, {'id_mecanica': '60', 'nm_mecanica': 'Dedução'}, {'id_mecanica': '7', 'nm_mecanica': 'Campanha\\\\/ Batalhas Dirigidas por Cartas'}, {'id_mecanica': '3', 'nm_mecanica': 'Gestão de Mão'}], 'categorias': [], 'temas': [{'id_tema': '18', 'nm_tema': 'Horror'}, {'id_tema': '35', 'nm_tema': 'Literatura'}], 'artistas': [{'id_profissional': '12362', 'nm_profissional': 'Chris Beck'}, {'id_profissional': '10184', 'nm_profissional': 'Samuel Shimota'}], 'designers': [{'id_profissional': '103', 'nm_profissional': 'Stephen Hand'}, {'id_profissional': '6598', 'nm_profissional': 'Frank Brooks'}, {'id_profissional': '84', 'nm_profissional': 'Kevin Wilson'}], 'vl_tempo_jogo': 180, 'idade_minima': 14, 'qt_tem': 692, 'qt_teve': 112, 'qt_favorito': 68, 'qt_quer': 825, 'qt_jogou': 511}\n",
      "<class 'dict'>\n",
      "{'_id': ObjectId('633352baaf6d783d475bc4a3'), 'id_jogo': 11429, 'nm_jogo': 'Sherlock', 'thumb': 'https:\\\\/\\\\/storage.googleapis.com\\\\/ludopedia-capas\\\\/11429_t.jpg', 'tp_jogo': 'b', 'link': 'https:\\\\/\\\\/ludopedia.com.br\\\\/jogo\\\\/sherlock-13', 'ano_publicacao': 2013, 'ano_nacional': 2018, 'qt_jogadores_min': 2, 'qt_jogadores_max': 4, 'mecanicas': [{'id_mecanica': '29', 'nm_mecanica': 'Memória'}, {'id_mecanica': '60', 'nm_mecanica': 'Dedução'}, {'id_mecanica': '36', 'nm_mecanica': 'Papel e Caneta'}, {'id_mecanica': '39', 'nm_mecanica': 'Posicionamento Secreto'}], 'categorias': [{'id_categoria': '109', 'nm_categoria': 'Jogo de Cartas'}, {'id_categoria': '111', 'nm_categoria': 'Jogo de Entrada'}], 'temas': [{'id_tema': '35', 'nm_tema': 'Literatura'}, {'id_tema': '23', 'nm_tema': 'Policial'}], 'artistas': [{'id_profissional': '1091', 'nm_profissional': 'Vincent Dutrait'}], 'designers': [{'id_profissional': '636', 'nm_profissional': 'Hope S. Hwang'}], 'vl_tempo_jogo': 15, 'idade_minima': 6, 'qt_tem': 774, 'qt_teve': 91, 'qt_favorito': 15, 'qt_quer': 131, 'qt_jogou': 615}\n",
      "<class 'dict'>\n",
      "{'_id': ObjectId('63335331138ce2c95587d11e'), 'id_jogo': 683, 'nm_jogo': 'De Vulgari Eloquentia', 'thumb': 'https:\\\\/\\\\/storage.googleapis.com\\\\/ludopedia-capas\\\\/683_t.jpg', 'tp_jogo': 'b', 'link': 'https:\\\\/\\\\/ludopedia.com.br\\\\/jogo\\\\/de-vulgari-eloquentia', 'ano_publicacao': 2010, 'ano_nacional': False, 'qt_jogadores_min': 2, 'qt_jogadores_max': 5, 'mecanicas': [{'id_mecanica': '31', 'nm_mecanica': 'Movimento de Área'}, {'id_mecanica': '22', 'nm_mecanica': 'Sistema de Pontos de Ação'}], 'categorias': [], 'temas': [{'id_tema': '21', 'nm_tema': 'Medieval'}], 'artistas': [{'id_profissional': '888', 'nm_profissional': 'Lamberto Azzariti'}, {'id_profissional': '443', 'nm_profissional': 'Guido Favaro'}, {'id_profissional': '1268', 'nm_profissional': 'Eva Villa'}], 'designers': [{'id_profissional': '1245', 'nm_profissional': 'Mario Papini'}], 'vl_tempo_jogo': 120, 'idade_minima': 14, 'qt_tem': 68, 'qt_teve': 34, 'qt_favorito': 5, 'qt_quer': 100, 'qt_jogou': 103}\n",
      "<class 'dict'>\n",
      "{'_id': ObjectId('63335331138ce2c95587d11f'), 'id_jogo': 1177, 'nm_jogo': 'VivaJava: The Coffee Game: The Dice Game', 'thumb': 'https:\\\\/\\\\/storage.googleapis.com\\\\/ludopedia-capas\\\\/1177_t.jpg', 'tp_jogo': 'b', 'link': 'https:\\\\/\\\\/ludopedia.com.br\\\\/jogo\\\\/vivajava-the-coffee-game-the-dice-game', 'ano_publicacao': 2014, 'ano_nacional': False, 'qt_jogadores_min': 2, 'qt_jogadores_max': 4, 'mecanicas': [{'id_mecanica': '13', 'nm_mecanica': 'Alocação de Trabalhadores'}, {'id_mecanica': '5', 'nm_mecanica': 'Apostas'}, {'id_mecanica': '17', 'nm_mecanica': 'Construção de Baralho\\\\/Peças'}, {'id_mecanica': '27', 'nm_mecanica': 'Jogadores com Diferentes Habilidades'}, {'id_mecanica': '40', 'nm_mecanica': 'Rolagem de Dados'}, {'id_mecanica': '45', 'nm_mecanica': 'Force sua sorte'}, {'id_mecanica': '47', 'nm_mecanica': 'Tabuleiro Modular'}], 'categorias': [{'id_categoria': '109', 'nm_categoria': 'Jogo de Cartas'}, {'id_categoria': '110', 'nm_categoria': 'Jogo de Dados'}], 'temas': [{'id_tema': '15', 'nm_tema': 'Gastronomia'}], 'artistas': [{'id_profissional': '893', 'nm_profissional': 'Christopher Kirkman'}], 'designers': [{'id_profissional': '892', 'nm_profissional': 'T. C. Petty III'}], 'vl_tempo_jogo': 30, 'idade_minima': 10, 'qt_tem': 28, 'qt_teve': 14, 'qt_favorito': 2, 'qt_quer': 49, 'qt_jogou': 39}\n",
      "<class 'dict'>\n",
      "{'_id': ObjectId('63335331138ce2c95587d120'), 'id_jogo': 9867, 'nm_jogo': 'Pandemic: O Reino de Cthulhu', 'thumb': 'https:\\\\/\\\\/storage.googleapis.com\\\\/ludopedia-capas\\\\/9867_t.jpg', 'tp_jogo': 'b', 'link': 'https:\\\\/\\\\/ludopedia.com.br\\\\/jogo\\\\/pandemic-reign-of-cthulhu', 'ano_publicacao': 2016, 'ano_nacional': 2016, 'qt_jogadores_min': 2, 'qt_jogadores_max': 4, 'mecanicas': [{'id_mecanica': '3', 'nm_mecanica': 'Gestão de Mão'}, {'id_mecanica': '11', 'nm_mecanica': 'Colecionar Componentes'}, {'id_mecanica': '20', 'nm_mecanica': 'Cooperativo'}, {'id_mecanica': '27', 'nm_mecanica': 'Jogadores com Diferentes Habilidades'}, {'id_mecanica': '32', 'nm_mecanica': 'Movimento Ponto-a-Ponto'}, {'id_mecanica': '22', 'nm_mecanica': 'Sistema de Pontos de Ação'}, {'id_mecanica': '14', 'nm_mecanica': 'Negociação'}], 'categorias': [], 'temas': [{'id_tema': '33', 'nm_tema': 'Mitologia'}, {'id_tema': '18', 'nm_tema': 'Horror'}], 'artistas': [{'id_profissional': '8228', 'nm_profissional': 'Fred Jordan'}, {'id_profissional': '6646', 'nm_profissional': 'Atha Kanaani'}, {'id_profissional': '288', 'nm_profissional': 'Chris Quilliams'}], 'designers': [{'id_profissional': '252', 'nm_profissional': 'Matt Leacock'}, {'id_profissional': '7180', 'nm_profissional': 'Chuck D. Yager'}], 'vl_tempo_jogo': 40, 'idade_minima': 14, 'qt_tem': 1213, 'qt_teve': 229, 'qt_favorito': 128, 'qt_quer': 812, 'qt_jogou': 1192}\n",
      "<class 'dict'>\n",
      "{'_id': ObjectId('63335331138ce2c95587d121'), 'id_jogo': 8360, 'nm_jogo': 'Fury of Dracula (3ª Edição)', 'thumb': 'https:\\\\/\\\\/storage.googleapis.com\\\\/ludopedia-capas\\\\/8360_t.jpg', 'tp_jogo': 'b', 'link': 'https:\\\\/\\\\/ludopedia.com.br\\\\/jogo\\\\/fury-of-dracula-third-fourth-edition', 'ano_publicacao': 2015, 'ano_nacional': 2020, 'qt_jogadores_min': 2, 'qt_jogadores_max': 5, 'mecanicas': [{'id_mecanica': '27', 'nm_mecanica': 'Jogadores com Diferentes Habilidades'}, {'id_mecanica': '37', 'nm_mecanica': 'Jogo em Equipe'}, {'id_mecanica': '32', 'nm_mecanica': 'Movimento Ponto-a-Ponto'}, {'id_mecanica': '39', 'nm_mecanica': 'Posicionamento Secreto'}, {'id_mecanica': '60', 'nm_mecanica': 'Dedução'}, {'id_mecanica': '7', 'nm_mecanica': 'Campanha\\\\/ Batalhas Dirigidas por Cartas'}, {'id_mecanica': '3', 'nm_mecanica': 'Gestão de Mão'}], 'categorias': [], 'temas': [{'id_tema': '18', 'nm_tema': 'Horror'}, {'id_tema': '35', 'nm_tema': 'Literatura'}], 'artistas': [{'id_profissional': '12362', 'nm_profissional': 'Chris Beck'}, {'id_profissional': '10184', 'nm_profissional': 'Samuel Shimota'}], 'designers': [{'id_profissional': '103', 'nm_profissional': 'Stephen Hand'}, {'id_profissional': '6598', 'nm_profissional': 'Frank Brooks'}, {'id_profissional': '84', 'nm_profissional': 'Kevin Wilson'}], 'vl_tempo_jogo': 180, 'idade_minima': 14, 'qt_tem': 692, 'qt_teve': 112, 'qt_favorito': 68, 'qt_quer': 825, 'qt_jogou': 511}\n",
      "<class 'dict'>\n",
      "{'_id': ObjectId('63335331138ce2c95587d122'), 'id_jogo': 11429, 'nm_jogo': 'Sherlock', 'thumb': 'https:\\\\/\\\\/storage.googleapis.com\\\\/ludopedia-capas\\\\/11429_t.jpg', 'tp_jogo': 'b', 'link': 'https:\\\\/\\\\/ludopedia.com.br\\\\/jogo\\\\/sherlock-13', 'ano_publicacao': 2013, 'ano_nacional': 2018, 'qt_jogadores_min': 2, 'qt_jogadores_max': 4, 'mecanicas': [{'id_mecanica': '29', 'nm_mecanica': 'Memória'}, {'id_mecanica': '60', 'nm_mecanica': 'Dedução'}, {'id_mecanica': '36', 'nm_mecanica': 'Papel e Caneta'}, {'id_mecanica': '39', 'nm_mecanica': 'Posicionamento Secreto'}], 'categorias': [{'id_categoria': '109', 'nm_categoria': 'Jogo de Cartas'}, {'id_categoria': '111', 'nm_categoria': 'Jogo de Entrada'}], 'temas': [{'id_tema': '35', 'nm_tema': 'Literatura'}, {'id_tema': '23', 'nm_tema': 'Policial'}], 'artistas': [{'id_profissional': '1091', 'nm_profissional': 'Vincent Dutrait'}], 'designers': [{'id_profissional': '636', 'nm_profissional': 'Hope S. Hwang'}], 'vl_tempo_jogo': 15, 'idade_minima': 6, 'qt_tem': 774, 'qt_teve': 91, 'qt_favorito': 15, 'qt_quer': 131, 'qt_jogou': 615}\n",
      "<class 'dict'>\n",
      "<class 'pymongo.cursor.Cursor'>\n"
     ]
    }
   ],
   "source": [
    "# Consulta à coleção.\n",
    "# A instância .find não é uma lista, mas um cursor que também é iterável.\n",
    "# Cada item do cursor é um dicionário.\n",
    "\n",
    "for i in ExampleCol.find():\n",
    "    print(i)\n",
    "    print(type(i))\n",
    "\n",
    "print(type(ExampleCol.find()))"
   ]
  },
  {
   "cell_type": "code",
   "execution_count": 17,
   "metadata": {},
   "outputs": [
    {
     "name": "stdout",
     "output_type": "stream",
     "text": [
      "{'_id': ObjectId('6330dc364571c8ffc75eff5b'), 'id_jogo': 683, 'nm_jogo': 'De Vulgari Eloquentia', 'thumb': 'https:\\\\/\\\\/storage.googleapis.com\\\\/ludopedia-capas\\\\/683_t.jpg', 'tp_jogo': 'b', 'link': 'https:\\\\/\\\\/ludopedia.com.br\\\\/jogo\\\\/de-vulgari-eloquentia', 'ano_publicacao': 2010, 'ano_nacional': False, 'qt_jogadores_min': 2, 'qt_jogadores_max': 5, 'mecanicas': [{'id_mecanica': '31', 'nm_mecanica': 'Movimento de Área'}, {'id_mecanica': '22', 'nm_mecanica': 'Sistema de Pontos de Ação'}], 'categorias': [], 'temas': [{'id_tema': '21', 'nm_tema': 'Medieval'}], 'artistas': [{'id_profissional': '888', 'nm_profissional': 'Lamberto Azzariti'}, {'id_profissional': '443', 'nm_profissional': 'Guido Favaro'}, {'id_profissional': '1268', 'nm_profissional': 'Eva Villa'}], 'designers': [{'id_profissional': '1245', 'nm_profissional': 'Mario Papini'}], 'vl_tempo_jogo': 120, 'idade_minima': 14, 'qt_tem': 68, 'qt_teve': 34, 'qt_favorito': 5, 'qt_quer': 100, 'qt_jogou': 103}\n",
      "<class 'dict'>\n"
     ]
    }
   ],
   "source": [
    "# Encontrar apenas o primeiro documento\n",
    "# Não é um cursor, mas sim um dicionário.\n",
    "\n",
    "print(ExampleCol.find_one())\n",
    "print(type(ExampleCol.find_one()))"
   ]
  },
  {
   "cell_type": "code",
   "execution_count": 18,
   "metadata": {},
   "outputs": [
    {
     "name": "stdout",
     "output_type": "stream",
     "text": [
      "{'_id': ObjectId('6330dc364571c8ffc75eff5b'), 'id_jogo': 683, 'nm_jogo': 'De Vulgari Eloquentia', 'thumb': 'https:\\\\/\\\\/storage.googleapis.com\\\\/ludopedia-capas\\\\/683_t.jpg', 'tp_jogo': 'b', 'link': 'https:\\\\/\\\\/ludopedia.com.br\\\\/jogo\\\\/de-vulgari-eloquentia', 'ano_publicacao': 2010, 'ano_nacional': False, 'qt_jogadores_min': 2, 'qt_jogadores_max': 5, 'mecanicas': [{'id_mecanica': '31', 'nm_mecanica': 'Movimento de Área'}, {'id_mecanica': '22', 'nm_mecanica': 'Sistema de Pontos de Ação'}], 'categorias': [], 'temas': [{'id_tema': '21', 'nm_tema': 'Medieval'}], 'artistas': [{'id_profissional': '888', 'nm_profissional': 'Lamberto Azzariti'}, {'id_profissional': '443', 'nm_profissional': 'Guido Favaro'}, {'id_profissional': '1268', 'nm_profissional': 'Eva Villa'}], 'designers': [{'id_profissional': '1245', 'nm_profissional': 'Mario Papini'}], 'vl_tempo_jogo': 120, 'idade_minima': 14, 'qt_tem': 68, 'qt_teve': 34, 'qt_favorito': 5, 'qt_quer': 100, 'qt_jogou': 103}\n",
      "<class 'dict'>\n",
      "{'_id': ObjectId('6330e1420ac00347ca0de0c1'), 'id_jogo': 683, 'nm_jogo': 'De Vulgari Eloquentia', 'thumb': 'https:\\\\/\\\\/storage.googleapis.com\\\\/ludopedia-capas\\\\/683_t.jpg', 'tp_jogo': 'b', 'link': 'https:\\\\/\\\\/ludopedia.com.br\\\\/jogo\\\\/de-vulgari-eloquentia', 'ano_publicacao': 2010, 'ano_nacional': False, 'qt_jogadores_min': 2, 'qt_jogadores_max': 5, 'mecanicas': [{'id_mecanica': '31', 'nm_mecanica': 'Movimento de Área'}, {'id_mecanica': '22', 'nm_mecanica': 'Sistema de Pontos de Ação'}], 'categorias': [], 'temas': [{'id_tema': '21', 'nm_tema': 'Medieval'}], 'artistas': [{'id_profissional': '888', 'nm_profissional': 'Lamberto Azzariti'}, {'id_profissional': '443', 'nm_profissional': 'Guido Favaro'}, {'id_profissional': '1268', 'nm_profissional': 'Eva Villa'}], 'designers': [{'id_profissional': '1245', 'nm_profissional': 'Mario Papini'}], 'vl_tempo_jogo': 120, 'idade_minima': 14, 'qt_tem': 68, 'qt_teve': 34, 'qt_favorito': 5, 'qt_quer': 100, 'qt_jogou': 103}\n",
      "<class 'dict'>\n",
      "{'_id': ObjectId('6330e1580ac00347ca0de0c2'), 'id_jogo': 1177, 'nm_jogo': 'VivaJava: The Coffee Game: The Dice Game', 'thumb': 'https:\\\\/\\\\/storage.googleapis.com\\\\/ludopedia-capas\\\\/1177_t.jpg', 'tp_jogo': 'b', 'link': 'https:\\\\/\\\\/ludopedia.com.br\\\\/jogo\\\\/vivajava-the-coffee-game-the-dice-game', 'ano_publicacao': 2014, 'ano_nacional': False, 'qt_jogadores_min': 2, 'qt_jogadores_max': 4, 'mecanicas': [{'id_mecanica': '13', 'nm_mecanica': 'Alocação de Trabalhadores'}, {'id_mecanica': '5', 'nm_mecanica': 'Apostas'}, {'id_mecanica': '17', 'nm_mecanica': 'Construção de Baralho\\\\/Peças'}, {'id_mecanica': '27', 'nm_mecanica': 'Jogadores com Diferentes Habilidades'}, {'id_mecanica': '40', 'nm_mecanica': 'Rolagem de Dados'}, {'id_mecanica': '45', 'nm_mecanica': 'Force sua sorte'}, {'id_mecanica': '47', 'nm_mecanica': 'Tabuleiro Modular'}], 'categorias': [{'id_categoria': '109', 'nm_categoria': 'Jogo de Cartas'}, {'id_categoria': '110', 'nm_categoria': 'Jogo de Dados'}], 'temas': [{'id_tema': '15', 'nm_tema': 'Gastronomia'}], 'artistas': [{'id_profissional': '893', 'nm_profissional': 'Christopher Kirkman'}], 'designers': [{'id_profissional': '892', 'nm_profissional': 'T. C. Petty III'}], 'vl_tempo_jogo': 30, 'idade_minima': 10, 'qt_tem': 28, 'qt_teve': 14, 'qt_favorito': 2, 'qt_quer': 49, 'qt_jogou': 39}\n",
      "<class 'dict'>\n",
      "{'_id': ObjectId('633352b9af6d783d475bc49f'), 'id_jogo': 683, 'nm_jogo': 'De Vulgari Eloquentia', 'thumb': 'https:\\\\/\\\\/storage.googleapis.com\\\\/ludopedia-capas\\\\/683_t.jpg', 'tp_jogo': 'b', 'link': 'https:\\\\/\\\\/ludopedia.com.br\\\\/jogo\\\\/de-vulgari-eloquentia', 'ano_publicacao': 2010, 'ano_nacional': False, 'qt_jogadores_min': 2, 'qt_jogadores_max': 5, 'mecanicas': [{'id_mecanica': '31', 'nm_mecanica': 'Movimento de Área'}, {'id_mecanica': '22', 'nm_mecanica': 'Sistema de Pontos de Ação'}], 'categorias': [], 'temas': [{'id_tema': '21', 'nm_tema': 'Medieval'}], 'artistas': [{'id_profissional': '888', 'nm_profissional': 'Lamberto Azzariti'}, {'id_profissional': '443', 'nm_profissional': 'Guido Favaro'}, {'id_profissional': '1268', 'nm_profissional': 'Eva Villa'}], 'designers': [{'id_profissional': '1245', 'nm_profissional': 'Mario Papini'}], 'vl_tempo_jogo': 120, 'idade_minima': 14, 'qt_tem': 68, 'qt_teve': 34, 'qt_favorito': 5, 'qt_quer': 100, 'qt_jogou': 103}\n",
      "<class 'dict'>\n",
      "{'_id': ObjectId('633352b9af6d783d475bc4a0'), 'id_jogo': 1177, 'nm_jogo': 'VivaJava: The Coffee Game: The Dice Game', 'thumb': 'https:\\\\/\\\\/storage.googleapis.com\\\\/ludopedia-capas\\\\/1177_t.jpg', 'tp_jogo': 'b', 'link': 'https:\\\\/\\\\/ludopedia.com.br\\\\/jogo\\\\/vivajava-the-coffee-game-the-dice-game', 'ano_publicacao': 2014, 'ano_nacional': False, 'qt_jogadores_min': 2, 'qt_jogadores_max': 4, 'mecanicas': [{'id_mecanica': '13', 'nm_mecanica': 'Alocação de Trabalhadores'}, {'id_mecanica': '5', 'nm_mecanica': 'Apostas'}, {'id_mecanica': '17', 'nm_mecanica': 'Construção de Baralho\\\\/Peças'}, {'id_mecanica': '27', 'nm_mecanica': 'Jogadores com Diferentes Habilidades'}, {'id_mecanica': '40', 'nm_mecanica': 'Rolagem de Dados'}, {'id_mecanica': '45', 'nm_mecanica': 'Force sua sorte'}, {'id_mecanica': '47', 'nm_mecanica': 'Tabuleiro Modular'}], 'categorias': [{'id_categoria': '109', 'nm_categoria': 'Jogo de Cartas'}, {'id_categoria': '110', 'nm_categoria': 'Jogo de Dados'}], 'temas': [{'id_tema': '15', 'nm_tema': 'Gastronomia'}], 'artistas': [{'id_profissional': '893', 'nm_profissional': 'Christopher Kirkman'}], 'designers': [{'id_profissional': '892', 'nm_profissional': 'T. C. Petty III'}], 'vl_tempo_jogo': 30, 'idade_minima': 10, 'qt_tem': 28, 'qt_teve': 14, 'qt_favorito': 2, 'qt_quer': 49, 'qt_jogou': 39}\n",
      "<class 'dict'>\n",
      "{'_id': ObjectId('63335331138ce2c95587d11e'), 'id_jogo': 683, 'nm_jogo': 'De Vulgari Eloquentia', 'thumb': 'https:\\\\/\\\\/storage.googleapis.com\\\\/ludopedia-capas\\\\/683_t.jpg', 'tp_jogo': 'b', 'link': 'https:\\\\/\\\\/ludopedia.com.br\\\\/jogo\\\\/de-vulgari-eloquentia', 'ano_publicacao': 2010, 'ano_nacional': False, 'qt_jogadores_min': 2, 'qt_jogadores_max': 5, 'mecanicas': [{'id_mecanica': '31', 'nm_mecanica': 'Movimento de Área'}, {'id_mecanica': '22', 'nm_mecanica': 'Sistema de Pontos de Ação'}], 'categorias': [], 'temas': [{'id_tema': '21', 'nm_tema': 'Medieval'}], 'artistas': [{'id_profissional': '888', 'nm_profissional': 'Lamberto Azzariti'}, {'id_profissional': '443', 'nm_profissional': 'Guido Favaro'}, {'id_profissional': '1268', 'nm_profissional': 'Eva Villa'}], 'designers': [{'id_profissional': '1245', 'nm_profissional': 'Mario Papini'}], 'vl_tempo_jogo': 120, 'idade_minima': 14, 'qt_tem': 68, 'qt_teve': 34, 'qt_favorito': 5, 'qt_quer': 100, 'qt_jogou': 103}\n",
      "<class 'dict'>\n",
      "{'_id': ObjectId('63335331138ce2c95587d11f'), 'id_jogo': 1177, 'nm_jogo': 'VivaJava: The Coffee Game: The Dice Game', 'thumb': 'https:\\\\/\\\\/storage.googleapis.com\\\\/ludopedia-capas\\\\/1177_t.jpg', 'tp_jogo': 'b', 'link': 'https:\\\\/\\\\/ludopedia.com.br\\\\/jogo\\\\/vivajava-the-coffee-game-the-dice-game', 'ano_publicacao': 2014, 'ano_nacional': False, 'qt_jogadores_min': 2, 'qt_jogadores_max': 4, 'mecanicas': [{'id_mecanica': '13', 'nm_mecanica': 'Alocação de Trabalhadores'}, {'id_mecanica': '5', 'nm_mecanica': 'Apostas'}, {'id_mecanica': '17', 'nm_mecanica': 'Construção de Baralho\\\\/Peças'}, {'id_mecanica': '27', 'nm_mecanica': 'Jogadores com Diferentes Habilidades'}, {'id_mecanica': '40', 'nm_mecanica': 'Rolagem de Dados'}, {'id_mecanica': '45', 'nm_mecanica': 'Force sua sorte'}, {'id_mecanica': '47', 'nm_mecanica': 'Tabuleiro Modular'}], 'categorias': [{'id_categoria': '109', 'nm_categoria': 'Jogo de Cartas'}, {'id_categoria': '110', 'nm_categoria': 'Jogo de Dados'}], 'temas': [{'id_tema': '15', 'nm_tema': 'Gastronomia'}], 'artistas': [{'id_profissional': '893', 'nm_profissional': 'Christopher Kirkman'}], 'designers': [{'id_profissional': '892', 'nm_profissional': 'T. C. Petty III'}], 'vl_tempo_jogo': 30, 'idade_minima': 10, 'qt_tem': 28, 'qt_teve': 14, 'qt_favorito': 2, 'qt_quer': 49, 'qt_jogou': 39}\n",
      "<class 'dict'>\n"
     ]
    }
   ],
   "source": [
    "# Adicionando parâmetros à busca.\n",
    "# Utiliza-se um documento, ou parte, cujas chaves devem ser compatíveis com o resultado.\n",
    "\n",
    "for i in ExampleCol.find({'ano_nacional': False}):\n",
    "    print(i)\n",
    "    print(type(i))"
   ]
  },
  {
   "cell_type": "code",
   "execution_count": 28,
   "metadata": {},
   "outputs": [
    {
     "name": "stdout",
     "output_type": "stream",
     "text": [
      "{'nm_jogo': 'De Vulgari Eloquentia', 'categorias': []}\n",
      "{'nm_jogo': 'De Vulgari Eloquentia', 'categorias': []}\n",
      "{'nm_jogo': 'VivaJava: The Coffee Game: The Dice Game', 'categorias': [{'id_categoria': '109', 'nm_categoria': 'Jogo de Cartas'}, {'id_categoria': '110', 'nm_categoria': 'Jogo de Dados'}]}\n",
      "{'nm_jogo': 'Pandemic: O Reino de Cthulhu', 'categorias': []}\n",
      "{'nm_jogo': 'Fury of Dracula (3ª Edição)', 'categorias': []}\n",
      "{'nm_jogo': 'Sherlock', 'categorias': [{'id_categoria': '109', 'nm_categoria': 'Jogo de Cartas'}, {'id_categoria': '111', 'nm_categoria': 'Jogo de Entrada'}]}\n",
      "{'nm_jogo': 'De Vulgari Eloquentia', 'categorias': []}\n",
      "{'nm_jogo': 'VivaJava: The Coffee Game: The Dice Game', 'categorias': [{'id_categoria': '109', 'nm_categoria': 'Jogo de Cartas'}, {'id_categoria': '110', 'nm_categoria': 'Jogo de Dados'}]}\n",
      "{'nm_jogo': 'Pandemic: O Reino de Cthulhu', 'categorias': []}\n",
      "{'nm_jogo': 'Fury of Dracula (3ª Edição)', 'categorias': []}\n",
      "{'nm_jogo': 'Sherlock', 'categorias': [{'id_categoria': '109', 'nm_categoria': 'Jogo de Cartas'}, {'id_categoria': '111', 'nm_categoria': 'Jogo de Entrada'}]}\n",
      "{'nm_jogo': 'De Vulgari Eloquentia', 'categorias': []}\n",
      "{'nm_jogo': 'VivaJava: The Coffee Game: The Dice Game', 'categorias': [{'id_categoria': '109', 'nm_categoria': 'Jogo de Cartas'}, {'id_categoria': '110', 'nm_categoria': 'Jogo de Dados'}]}\n",
      "{'nm_jogo': 'Pandemic: O Reino de Cthulhu', 'categorias': []}\n",
      "{'nm_jogo': 'Fury of Dracula (3ª Edição)', 'categorias': []}\n",
      "{'nm_jogo': 'Sherlock', 'categorias': [{'id_categoria': '109', 'nm_categoria': 'Jogo de Cartas'}, {'id_categoria': '111', 'nm_categoria': 'Jogo de Entrada'}]}\n",
      "\n",
      "{'nm_jogo': 'De Vulgari Eloquentia', 'categorias': [{'nm_categoria': 1}]}\n",
      "{'nm_jogo': 'De Vulgari Eloquentia', 'categorias': [{'nm_categoria': 1}]}\n",
      "{'nm_jogo': 'VivaJava: The Coffee Game: The Dice Game', 'categorias': [{'nm_categoria': 1}]}\n",
      "{'nm_jogo': 'Pandemic: O Reino de Cthulhu', 'categorias': [{'nm_categoria': 1}]}\n",
      "{'nm_jogo': 'Fury of Dracula (3ª Edição)', 'categorias': [{'nm_categoria': 1}]}\n",
      "{'nm_jogo': 'Sherlock', 'categorias': [{'nm_categoria': 1}]}\n",
      "{'nm_jogo': 'De Vulgari Eloquentia', 'categorias': [{'nm_categoria': 1}]}\n",
      "{'nm_jogo': 'VivaJava: The Coffee Game: The Dice Game', 'categorias': [{'nm_categoria': 1}]}\n",
      "{'nm_jogo': 'Pandemic: O Reino de Cthulhu', 'categorias': [{'nm_categoria': 1}]}\n",
      "{'nm_jogo': 'Fury of Dracula (3ª Edição)', 'categorias': [{'nm_categoria': 1}]}\n",
      "{'nm_jogo': 'Sherlock', 'categorias': [{'nm_categoria': 1}]}\n",
      "{'nm_jogo': 'De Vulgari Eloquentia', 'categorias': [{'nm_categoria': 1}]}\n",
      "{'nm_jogo': 'VivaJava: The Coffee Game: The Dice Game', 'categorias': [{'nm_categoria': 1}]}\n",
      "{'nm_jogo': 'Pandemic: O Reino de Cthulhu', 'categorias': [{'nm_categoria': 1}]}\n",
      "{'nm_jogo': 'Fury of Dracula (3ª Edição)', 'categorias': [{'nm_categoria': 1}]}\n",
      "{'nm_jogo': 'Sherlock', 'categorias': [{'nm_categoria': 1}]}\n",
      "\n",
      "{'nm_jogo': 'De Vulgari Eloquentia'}\n",
      "{'nm_jogo': 'De Vulgari Eloquentia'}\n",
      "{'nm_jogo': 'VivaJava: The Coffee Game: The Dice Game'}\n",
      "{'nm_jogo': 'Pandemic: O Reino de Cthulhu'}\n",
      "{'nm_jogo': 'Fury of Dracula (3ª Edição)'}\n",
      "{'nm_jogo': 'Sherlock'}\n",
      "{'nm_jogo': 'De Vulgari Eloquentia'}\n",
      "{'nm_jogo': 'VivaJava: The Coffee Game: The Dice Game'}\n",
      "{'nm_jogo': 'Pandemic: O Reino de Cthulhu'}\n",
      "{'nm_jogo': 'Fury of Dracula (3ª Edição)'}\n",
      "{'nm_jogo': 'Sherlock'}\n",
      "{'nm_jogo': 'De Vulgari Eloquentia'}\n",
      "{'nm_jogo': 'VivaJava: The Coffee Game: The Dice Game'}\n",
      "{'nm_jogo': 'Pandemic: O Reino de Cthulhu'}\n",
      "{'nm_jogo': 'Fury of Dracula (3ª Edição)'}\n",
      "{'nm_jogo': 'Sherlock'}\n"
     ]
    }
   ],
   "source": [
    "# Escolhendo quais dados mostrar\n",
    "\n",
    "# É estregue um dicionário como segundo parâmetro para o método .find; as chaves recebem valores 0 para mostrar tudo exceto o que for especificado, ou 1 para mostrar apenas o que foi especificado.\n",
    "# O _id sempre é entregue, exceto quando definido como 0.\n",
    "# Se houver chaves com valores 0 e 1, ocorrerá um erro - exceto se o único valor 0 for para a chave _id.\n",
    "\n",
    "# No exemplo abaixo, o primeiro parâmetro é um dicionário vazio. Nesse dicionário são colocados filtros.\n",
    "\n",
    "\n",
    "for i in ExampleCol.find({},{\"nm_jogo\":1,\"_id\":0,\"categorias\":1}):\n",
    "    print(i)\n",
    "\n",
    "print()\n",
    "\n",
    "for i in ExampleCol.find({},{\"nm_jogo\":1,\"_id\":0,\"categorias\":[{\"nm_categoria\":1}]}):\n",
    "    print(i)\n",
    "\n",
    "print()\n",
    "\n",
    "for i in ExampleCol.find({},{\"nm_jogo\":1,\"_id\":0,\"nm_categoria\":1}):\n",
    "    print(i)"
   ]
  }
 ],
 "metadata": {
  "kernelspec": {
   "display_name": "Python 3.10.7 64-bit (microsoft store)",
   "language": "python",
   "name": "python3"
  },
  "language_info": {
   "codemirror_mode": {
    "name": "ipython",
    "version": 3
   },
   "file_extension": ".py",
   "mimetype": "text/x-python",
   "name": "python",
   "nbconvert_exporter": "python",
   "pygments_lexer": "ipython3",
   "version": "3.10.7"
  },
  "orig_nbformat": 4,
  "vscode": {
   "interpreter": {
    "hash": "91b18657112df8a6dc2946b9dfe3559ddfc8e1e2117c2c8071424b5e043bd8e1"
   }
  }
 },
 "nbformat": 4,
 "nbformat_minor": 2
}

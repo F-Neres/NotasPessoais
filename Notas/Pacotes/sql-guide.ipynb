{
 "cells": [
  {
   "cell_type": "markdown",
   "metadata": {},
   "source": [
    "# Guia de Comandos SQL Aplicados em Python"
   ]
  },
  {
   "cell_type": "markdown",
   "metadata": {},
   "source": [
    "* [Demonstração](#Demo)\n",
    "* Criação\n",
    "* Adição e Remoção\n",
    "* Alteração\n",
    "* Filtros e Operadores Lógicos"
   ]
  },
  {
   "cell_type": "markdown",
   "metadata": {},
   "source": [
    "Pacotes:"
   ]
  },
  {
   "cell_type": "code",
   "execution_count": 1,
   "metadata": {},
   "outputs": [],
   "source": [
    "import os\n",
    "import sqlite3"
   ]
  },
  {
   "cell_type": "markdown",
   "metadata": {},
   "source": [
    "## Criando um exemplo com funções"
   ]
  },
  {
   "cell_type": "code",
   "execution_count": 2,
   "metadata": {},
   "outputs": [],
   "source": [
    "import random\n",
    "import time\n",
    "import datetime"
   ]
  },
  {
   "cell_type": "code",
   "execution_count": 3,
   "metadata": {},
   "outputs": [],
   "source": [
    "#Database e tabela padrões\n",
    "\n",
    "arquivo = r'../ArquivosParalelos/random_tables.db'\n",
    "tabela = 'random_table'"
   ]
  },
  {
   "cell_type": "code",
   "execution_count": 4,
   "metadata": {},
   "outputs": [],
   "source": [
    "# Função para criar um arquivo e a tabela\n",
    "\n",
    "# todas as variáveis são dadas como strings\n",
    "# \"arquivo\" é o diretório e o nome o arquivo db a ser criado\n",
    "# \"tabela\" é o nome da tabela dentro do db\n",
    "# \"colunas\" recebe os nomes das colunas juntamente com suas diretrizes.\n",
    "\n",
    "\n",
    "def create_table(arquivo,tabela,*colunas_parametros):\n",
    "    c = sqlite3.connect(arquivo).cursor() #Cria o arquivo, se ele já não existe, com a conexão e o cursor.\n",
    "    Colunas = ''\n",
    "    for i in colunas_parametros:\n",
    "        Colunas = Colunas+i+', '\n",
    "    Colunas = Colunas[0:-2] #Remove a vírgula e o espaço no final\n",
    "    c.execute(f'CREATE TABLE IF NOT EXISTS {tabela}({Colunas})')\n",
    "    c.close()"
   ]
  },
  {
   "cell_type": "code",
   "execution_count": 5,
   "metadata": {},
   "outputs": [],
   "source": [
    "# Função para inserir dados.\n",
    "\n",
    "# \"arquivo\" é uma sring com o diretório e o nome do DB\n",
    "# \"tabela\" é uma string contendo o nome da tabela\n",
    "# \"colunas\" é uma lista ou tupla com strings contendo os nomes das colunas.\n",
    "# \"valores\" é uma lista ou tupla contendo os valores a serem acrescentados, na ordem das colunas\n",
    "\n",
    "def data_insert_var(arquivo,tabela,colunas,valores):\n",
    "    conn = sqlite3.connect(arquivo)\n",
    "    c = conn.cursor()\n",
    "\n",
    "    Colunas = ''\n",
    "    for i in colunas:\n",
    "        Colunas = Colunas+i+', '\n",
    "    Colunas = Colunas[0:-2]\n",
    "    print(Colunas)\n",
    "\n",
    "    n = ''\n",
    "    for i in range(len(colunas)):\n",
    "        n = n+'?, '\n",
    "    n = n[0:-2]\n",
    "    print(n)\n",
    "\n",
    "    print('')\n",
    "    print(f\"INSERT INTO {tabela} ({Colunas}) VALUES ({n})\")\n",
    "    print(valores)\n",
    "\n",
    "    c.execute(f\"INSERT INTO {tabela} ({Colunas}) VALUES ({n})\", valores)\n",
    "    conn.commit()\n",
    "    c.close()\n",
    "    conn.close()"
   ]
  },
  {
   "cell_type": "code",
   "execution_count": 6,
   "metadata": {},
   "outputs": [],
   "source": [
    "# Função de leitura\n",
    "\n",
    "def showall(arquivo,tabela):\n",
    "    c = sqlite3.connect(arquivo).cursor()\n",
    "    c.execute(f'select * from {tabela}')\n",
    "    data = c.fetchall()\n",
    "\n",
    "    Colunas = [i[0] for i in c.execute(f'select * from {tabela}').description ]\n",
    "    print(\"Colunas\",Colunas)\n",
    "\n",
    "    for i in data:\n",
    "        linha = []\n",
    "        for j,k in zip(Colunas,i):\n",
    "            linha.append(f\"{j}: {k}\")\n",
    "        print(linha)\n",
    "\n",
    "    c.close()"
   ]
  },
  {
   "cell_type": "code",
   "execution_count": 7,
   "metadata": {},
   "outputs": [
    {
     "name": "stdout",
     "output_type": "stream",
     "text": [
      "Produto, Valor, Data, Vendido\n",
      "?, ?, ?, ?\n",
      "\n",
      "INSERT INTO random_table (Produto, Valor, Data, Vendido) VALUES (?, ?, ?, ?)\n",
      "('CPU', 78, datetime.datetime(2022, 9, 6, 17, 41, 5, 349922), 0)\n",
      "Produto, Valor, Data, Vendido\n",
      "?, ?, ?, ?\n",
      "\n",
      "INSERT INTO random_table (Produto, Valor, Data, Vendido) VALUES (?, ?, ?, ?)\n",
      "('CPU', 60, datetime.datetime(2022, 9, 6, 17, 41, 5, 358916), 1)\n",
      "Produto, Valor, Data, Vendido\n",
      "?, ?, ?, ?\n",
      "\n",
      "INSERT INTO random_table (Produto, Valor, Data, Vendido) VALUES (?, ?, ?, ?)\n",
      "('Monitor', 50, datetime.datetime(2022, 9, 6, 17, 41, 5, 394894), 0)\n",
      "Produto, Valor, Data, Vendido\n",
      "?, ?, ?, ?\n",
      "\n",
      "INSERT INTO random_table (Produto, Valor, Data, Vendido) VALUES (?, ?, ?, ?)\n",
      "('Teclado', 96, datetime.datetime(2022, 9, 6, 17, 41, 5, 444864), 1)\n",
      "Produto, Valor, Data, Vendido\n",
      "?, ?, ?, ?\n",
      "\n",
      "INSERT INTO random_table (Produto, Valor, Data, Vendido) VALUES (?, ?, ?, ?)\n",
      "('Monitor', 51, datetime.datetime(2022, 9, 6, 17, 41, 5, 459853), 1)\n",
      "Produto, Valor, Data, Vendido\n",
      "?, ?, ?, ?\n",
      "\n",
      "INSERT INTO random_table (Produto, Valor, Data, Vendido) VALUES (?, ?, ?, ?)\n",
      "('CPU', 89, datetime.datetime(2022, 9, 6, 17, 41, 5, 483838), 0)\n",
      "Produto, Valor, Data, Vendido\n",
      "?, ?, ?, ?\n",
      "\n",
      "INSERT INTO random_table (Produto, Valor, Data, Vendido) VALUES (?, ?, ?, ?)\n",
      "('Teclado', 53, datetime.datetime(2022, 9, 6, 17, 41, 5, 513821), 0)\n",
      "Produto, Valor, Data, Vendido\n",
      "?, ?, ?, ?\n",
      "\n",
      "INSERT INTO random_table (Produto, Valor, Data, Vendido) VALUES (?, ?, ?, ?)\n",
      "('Monitor', 73, datetime.datetime(2022, 9, 6, 17, 41, 5, 529811), 1)\n",
      "Produto, Valor, Data, Vendido\n",
      "?, ?, ?, ?\n",
      "\n",
      "INSERT INTO random_table (Produto, Valor, Data, Vendido) VALUES (?, ?, ?, ?)\n",
      "('Monitor', 83, datetime.datetime(2022, 9, 6, 17, 41, 5, 536806), 1)\n",
      "Produto, Valor, Data, Vendido\n",
      "?, ?, ?, ?\n",
      "\n",
      "INSERT INTO random_table (Produto, Valor, Data, Vendido) VALUES (?, ?, ?, ?)\n",
      "('CPU', 72, datetime.datetime(2022, 9, 6, 17, 41, 5, 545810), 0)\n",
      "Produto, Valor, Data, Vendido\n",
      "?, ?, ?, ?\n",
      "\n",
      "INSERT INTO random_table (Produto, Valor, Data, Vendido) VALUES (?, ?, ?, ?)\n",
      "('Mouse', 64, datetime.datetime(2022, 9, 6, 17, 41, 5, 556794), 1)\n",
      "Produto, Valor, Data, Vendido\n",
      "?, ?, ?, ?\n",
      "\n",
      "INSERT INTO random_table (Produto, Valor, Data, Vendido) VALUES (?, ?, ?, ?)\n",
      "('Teclado', 71, datetime.datetime(2022, 9, 6, 17, 41, 5, 587774), 1)\n",
      "Produto, Valor, Data, Vendido\n",
      "?, ?, ?, ?\n",
      "\n",
      "INSERT INTO random_table (Produto, Valor, Data, Vendido) VALUES (?, ?, ?, ?)\n",
      "('CPU', 72, datetime.datetime(2022, 9, 6, 17, 41, 5, 598768), 1)\n",
      "Produto, Valor, Data, Vendido\n",
      "?, ?, ?, ?\n",
      "\n",
      "INSERT INTO random_table (Produto, Valor, Data, Vendido) VALUES (?, ?, ?, ?)\n",
      "('Mouse', 71, datetime.datetime(2022, 9, 6, 17, 41, 5, 604765), 1)\n",
      "Produto, Valor, Data, Vendido\n",
      "?, ?, ?, ?\n",
      "\n",
      "INSERT INTO random_table (Produto, Valor, Data, Vendido) VALUES (?, ?, ?, ?)\n",
      "('Mouse', 71, datetime.datetime(2022, 9, 6, 17, 41, 5, 614757), 0)\n",
      "Produto, Valor, Data, Vendido\n",
      "?, ?, ?, ?\n",
      "\n",
      "INSERT INTO random_table (Produto, Valor, Data, Vendido) VALUES (?, ?, ?, ?)\n",
      "('Teclado', 54, datetime.datetime(2022, 9, 6, 17, 41, 5, 620753), 1)\n",
      "Produto, Valor, Data, Vendido\n",
      "?, ?, ?, ?\n",
      "\n",
      "INSERT INTO random_table (Produto, Valor, Data, Vendido) VALUES (?, ?, ?, ?)\n",
      "('Mouse', 92, datetime.datetime(2022, 9, 6, 17, 41, 5, 626751), 0)\n",
      "Produto, Valor, Data, Vendido\n",
      "?, ?, ?, ?\n",
      "\n",
      "INSERT INTO random_table (Produto, Valor, Data, Vendido) VALUES (?, ?, ?, ?)\n",
      "('CPU', 53, datetime.datetime(2022, 9, 6, 17, 41, 5, 635744), 1)\n",
      "Produto, Valor, Data, Vendido\n",
      "?, ?, ?, ?\n",
      "\n",
      "INSERT INTO random_table (Produto, Valor, Data, Vendido) VALUES (?, ?, ?, ?)\n",
      "('Teclado', 91, datetime.datetime(2022, 9, 6, 17, 41, 5, 641741), 1)\n",
      "Produto, Valor, Data, Vendido\n",
      "?, ?, ?, ?\n",
      "\n",
      "INSERT INTO random_table (Produto, Valor, Data, Vendido) VALUES (?, ?, ?, ?)\n",
      "('Monitor', 79, datetime.datetime(2022, 9, 6, 17, 41, 5, 652734), 0)\n"
     ]
    }
   ],
   "source": [
    "# Criando uma tabela aletória\n",
    "\n",
    "os.remove(r'../ArquivosParalelos/random_tables.db') if os.path.exists(r'../ArquivosParalelos/random_tables.db') else None\n",
    "\n",
    "n = 20 #Número de observações\n",
    "\n",
    "create_table(arquivo,tabela,\"ID INTEGER PRIMARY KEY AUTOINCREMENT NOT NULL\",\"Produto TEXT\",\"Valor REAL\",\"Data DATE\",\"Vendido BIT NOT NULL\")\n",
    "#create_table(arquivo,tabela,\"ID INTEGER PRIMARY KEY NOT NULL\",\"Produto TEXT\",\"Valor REAL\",\"Data TEXT\")\n",
    "\n",
    "for i in range(n): #cria n itens na lista.\n",
    "    new_date = datetime.datetime.now() #cria um objeto contendo a data e a hora atuais.\n",
    "    new_prod_name = random.choice(['Monitor', 'CPU', 'Teclado','Mouse']) #Escolhe um item na lista.\n",
    "    new_value = random.randrange(50,100) #Escolhe um preço para ser um valor do item.\n",
    "    new_bool = random.choice([0,1]) #Escolhe um valor bit aleatório\n",
    "\n",
    "    valores = (new_prod_name,new_value,new_date,new_bool)\n",
    "\n",
    "    data_insert_var(arquivo,tabela,('Produto','Valor','Data','Vendido'),valores)\n",
    "\n",
    "    time.sleep(0) #aguarda."
   ]
  },
  {
   "cell_type": "code",
   "execution_count": 8,
   "metadata": {},
   "outputs": [
    {
     "name": "stdout",
     "output_type": "stream",
     "text": [
      "Colunas ['ID', 'Produto', 'Valor', 'Data', 'Vendido']\n",
      "['ID: 1', 'Produto: CPU', 'Valor: 78.0', 'Data: 2022-09-06 17:41:05.349922', 'Vendido: 0']\n",
      "['ID: 2', 'Produto: CPU', 'Valor: 60.0', 'Data: 2022-09-06 17:41:05.358916', 'Vendido: 1']\n",
      "['ID: 3', 'Produto: Monitor', 'Valor: 50.0', 'Data: 2022-09-06 17:41:05.394894', 'Vendido: 0']\n",
      "['ID: 4', 'Produto: Teclado', 'Valor: 96.0', 'Data: 2022-09-06 17:41:05.444864', 'Vendido: 1']\n",
      "['ID: 5', 'Produto: Monitor', 'Valor: 51.0', 'Data: 2022-09-06 17:41:05.459853', 'Vendido: 1']\n",
      "['ID: 6', 'Produto: CPU', 'Valor: 89.0', 'Data: 2022-09-06 17:41:05.483838', 'Vendido: 0']\n",
      "['ID: 7', 'Produto: Teclado', 'Valor: 53.0', 'Data: 2022-09-06 17:41:05.513821', 'Vendido: 0']\n",
      "['ID: 8', 'Produto: Monitor', 'Valor: 73.0', 'Data: 2022-09-06 17:41:05.529811', 'Vendido: 1']\n",
      "['ID: 9', 'Produto: Monitor', 'Valor: 83.0', 'Data: 2022-09-06 17:41:05.536806', 'Vendido: 1']\n",
      "['ID: 10', 'Produto: CPU', 'Valor: 72.0', 'Data: 2022-09-06 17:41:05.545810', 'Vendido: 0']\n",
      "['ID: 11', 'Produto: Mouse', 'Valor: 64.0', 'Data: 2022-09-06 17:41:05.556794', 'Vendido: 1']\n",
      "['ID: 12', 'Produto: Teclado', 'Valor: 71.0', 'Data: 2022-09-06 17:41:05.587774', 'Vendido: 1']\n",
      "['ID: 13', 'Produto: CPU', 'Valor: 72.0', 'Data: 2022-09-06 17:41:05.598768', 'Vendido: 1']\n",
      "['ID: 14', 'Produto: Mouse', 'Valor: 71.0', 'Data: 2022-09-06 17:41:05.604765', 'Vendido: 1']\n",
      "['ID: 15', 'Produto: Mouse', 'Valor: 71.0', 'Data: 2022-09-06 17:41:05.614757', 'Vendido: 0']\n",
      "['ID: 16', 'Produto: Teclado', 'Valor: 54.0', 'Data: 2022-09-06 17:41:05.620753', 'Vendido: 1']\n",
      "['ID: 17', 'Produto: Mouse', 'Valor: 92.0', 'Data: 2022-09-06 17:41:05.626751', 'Vendido: 0']\n",
      "['ID: 18', 'Produto: CPU', 'Valor: 53.0', 'Data: 2022-09-06 17:41:05.635744', 'Vendido: 1']\n",
      "['ID: 19', 'Produto: Teclado', 'Valor: 91.0', 'Data: 2022-09-06 17:41:05.641741', 'Vendido: 1']\n",
      "['ID: 20', 'Produto: Monitor', 'Valor: 79.0', 'Data: 2022-09-06 17:41:05.652734', 'Vendido: 0']\n"
     ]
    }
   ],
   "source": [
    "# Vendo a tabela.\n",
    "\n",
    "showall(arquivo,tabela)"
   ]
  },
  {
   "cell_type": "code",
   "execution_count": 9,
   "metadata": {},
   "outputs": [],
   "source": [
    "# Função para mostrar apenas o Fetchall\n",
    "\n",
    "def Execute_and_Show(Query,arquivo):\n",
    "    Cursor = sqlite3.connect(arquivo).cursor()\n",
    "    Cursor.execute(Query)\n",
    "    for i in Cursor.execute(Query).description:\n",
    "        print(i)\n",
    "    print()\n",
    "    for i in Cursor.fetchall():\n",
    "        print(i)\n",
    "    Cursor.close()"
   ]
  },
  {
   "cell_type": "code",
   "execution_count": 10,
   "metadata": {},
   "outputs": [],
   "source": [
    "# Função para executar e enviar ao DB.\n",
    "\n",
    "def Execute_and_Commit(Query,arquivo,tabela):\n",
    "    Conn = sqlite3.connect(arquivo)\n",
    "    Cursor = Conn.cursor()\n",
    "    Cursor.execute(Query)\n",
    "    Conn.commit()\n",
    "    Cursor.close()\n",
    "    Conn.close()\n",
    "    showall(arquivo,tabela)"
   ]
  },
  {
   "cell_type": "markdown",
   "metadata": {},
   "source": [
    "## Queries"
   ]
  },
  {
   "cell_type": "markdown",
   "metadata": {},
   "source": [
    "<a id='Demo'></a>\n",
    "### Demonstração"
   ]
  },
  {
   "cell_type": "code",
   "execution_count": 11,
   "metadata": {},
   "outputs": [
    {
     "name": "stdout",
     "output_type": "stream",
     "text": [
      "('ID', None, None, None, None, None, None)\n",
      "('Produto', None, None, None, None, None, None)\n",
      "('Valor', None, None, None, None, None, None)\n",
      "('Data', None, None, None, None, None, None)\n",
      "('Vendido', None, None, None, None, None, None)\n",
      "\n",
      "(1, 'CPU', 78.0, '2022-09-06 17:41:05.349922', 0)\n",
      "(2, 'CPU', 60.0, '2022-09-06 17:41:05.358916', 1)\n",
      "(3, 'Monitor', 50.0, '2022-09-06 17:41:05.394894', 0)\n",
      "(4, 'Teclado', 96.0, '2022-09-06 17:41:05.444864', 1)\n",
      "(5, 'Monitor', 51.0, '2022-09-06 17:41:05.459853', 1)\n",
      "(6, 'CPU', 89.0, '2022-09-06 17:41:05.483838', 0)\n",
      "(7, 'Teclado', 53.0, '2022-09-06 17:41:05.513821', 0)\n",
      "(8, 'Monitor', 73.0, '2022-09-06 17:41:05.529811', 1)\n",
      "(9, 'Monitor', 83.0, '2022-09-06 17:41:05.536806', 1)\n",
      "(10, 'CPU', 72.0, '2022-09-06 17:41:05.545810', 0)\n",
      "(11, 'Mouse', 64.0, '2022-09-06 17:41:05.556794', 1)\n",
      "(12, 'Teclado', 71.0, '2022-09-06 17:41:05.587774', 1)\n",
      "(13, 'CPU', 72.0, '2022-09-06 17:41:05.598768', 1)\n",
      "(14, 'Mouse', 71.0, '2022-09-06 17:41:05.604765', 1)\n",
      "(15, 'Mouse', 71.0, '2022-09-06 17:41:05.614757', 0)\n",
      "(16, 'Teclado', 54.0, '2022-09-06 17:41:05.620753', 1)\n",
      "(17, 'Mouse', 92.0, '2022-09-06 17:41:05.626751', 0)\n",
      "(18, 'CPU', 53.0, '2022-09-06 17:41:05.635744', 1)\n",
      "(19, 'Teclado', 91.0, '2022-09-06 17:41:05.641741', 1)\n",
      "(20, 'Monitor', 79.0, '2022-09-06 17:41:05.652734', 0)\n"
     ]
    }
   ],
   "source": [
    "# Mostrar todos os dados\n",
    "\n",
    "Query = \"SELECT * FROM random_table\"\n",
    "\n",
    "Execute_and_Show(Query,arquivo)"
   ]
  },
  {
   "cell_type": "code",
   "execution_count": 12,
   "metadata": {},
   "outputs": [
    {
     "name": "stdout",
     "output_type": "stream",
     "text": [
      "('Produto', None, None, None, None, None, None)\n",
      "('Valor', None, None, None, None, None, None)\n",
      "\n",
      "('CPU', 78.0)\n",
      "('CPU', 60.0)\n",
      "('Monitor', 50.0)\n",
      "('Teclado', 96.0)\n",
      "('Monitor', 51.0)\n",
      "('CPU', 89.0)\n",
      "('Teclado', 53.0)\n",
      "('Monitor', 73.0)\n",
      "('Monitor', 83.0)\n",
      "('CPU', 72.0)\n",
      "('Mouse', 64.0)\n",
      "('Teclado', 71.0)\n",
      "('CPU', 72.0)\n",
      "('Mouse', 71.0)\n",
      "('Mouse', 71.0)\n",
      "('Teclado', 54.0)\n",
      "('Mouse', 92.0)\n",
      "('CPU', 53.0)\n",
      "('Teclado', 91.0)\n",
      "('Monitor', 79.0)\n"
     ]
    }
   ],
   "source": [
    "# Mostrar algumas colunas\n",
    "\n",
    "Query = \"SELECT Produto, Valor FROM random_table\"\n",
    "\n",
    "Execute_and_Show(Query,arquivo)"
   ]
  },
  {
   "cell_type": "code",
   "execution_count": 13,
   "metadata": {},
   "outputs": [
    {
     "name": "stdout",
     "output_type": "stream",
     "text": [
      "('Produto', None, None, None, None, None, None)\n",
      "('Valor', None, None, None, None, None, None)\n",
      "\n",
      "('CPU', 78.0)\n",
      "('CPU', 60.0)\n",
      "('Monitor', 50.0)\n",
      "('Monitor', 51.0)\n",
      "('CPU', 89.0)\n",
      "('Monitor', 73.0)\n",
      "('Monitor', 83.0)\n",
      "('CPU', 72.0)\n",
      "('CPU', 72.0)\n",
      "('CPU', 53.0)\n",
      "('Monitor', 79.0)\n"
     ]
    }
   ],
   "source": [
    "# Mostrar dados que correspondam a determinados valores\n",
    "# Usando operadores lógicos\n",
    "\n",
    "Query = \"SELECT Produto, Valor FROM random_table WHERE Produto = 'Monitor' OR Produto = 'CPU'\"\n",
    "\n",
    "Execute_and_Show(Query,arquivo)"
   ]
  },
  {
   "cell_type": "code",
   "execution_count": 14,
   "metadata": {},
   "outputs": [
    {
     "name": "stdout",
     "output_type": "stream",
     "text": [
      "('name', None, None, None, None, None, None)\n",
      "\n",
      "('random_table',)\n",
      "('sqlite_sequence',)\n"
     ]
    }
   ],
   "source": [
    "# Selecionar os nomes das tabelas da tabela \"sqlite_master\"\n",
    "\n",
    "Query = 'SELECT name FROM sqlite_master WHERE type = \"table\"'\n",
    "\n",
    "Execute_and_Show(Query,arquivo)"
   ]
  },
  {
   "cell_type": "code",
   "execution_count": 15,
   "metadata": {},
   "outputs": [
    {
     "name": "stdout",
     "output_type": "stream",
     "text": [
      "('Produto', None, None, None, None, None, None)\n",
      "('Vendido', None, None, None, None, None, None)\n",
      "\n",
      "('CPU', 0)\n",
      "('CPU', 1)\n",
      "('Monitor', 0)\n",
      "('Teclado', 1)\n",
      "('Monitor', 1)\n",
      "('Teclado', 0)\n",
      "('Mouse', 1)\n",
      "('Mouse', 0)\n"
     ]
    }
   ],
   "source": [
    "# DISTINCT\n",
    "# Filtra os dados repetidos\n",
    "# É filtrado apenas as combinações repetidas\n",
    "\n",
    "Query = \"SELECT DISTINCT Produto, Vendido FROM random_table\"\n",
    "\n",
    "Execute_and_Show(Query,arquivo)"
   ]
  },
  {
   "cell_type": "code",
   "execution_count": 16,
   "metadata": {},
   "outputs": [
    {
     "name": "stdout",
     "output_type": "stream",
     "text": [
      "('ID', None, None, None, None, None, None)\n",
      "('Produto', None, None, None, None, None, None)\n",
      "('Valor', None, None, None, None, None, None)\n",
      "('Data', None, None, None, None, None, None)\n",
      "('Vendido', None, None, None, None, None, None)\n",
      "\n",
      "(1, 'CPU', 78.0, '2022-09-06 17:41:05.349922', 0)\n",
      "(2, 'CPU', 60.0, '2022-09-06 17:41:05.358916', 1)\n",
      "(6, 'CPU', 89.0, '2022-09-06 17:41:05.483838', 0)\n",
      "(10, 'CPU', 72.0, '2022-09-06 17:41:05.545810', 0)\n",
      "(13, 'CPU', 72.0, '2022-09-06 17:41:05.598768', 1)\n",
      "(18, 'CPU', 53.0, '2022-09-06 17:41:05.635744', 1)\n",
      "(3, 'Monitor', 50.0, '2022-09-06 17:41:05.394894', 0)\n",
      "(5, 'Monitor', 51.0, '2022-09-06 17:41:05.459853', 1)\n",
      "(8, 'Monitor', 73.0, '2022-09-06 17:41:05.529811', 1)\n",
      "(9, 'Monitor', 83.0, '2022-09-06 17:41:05.536806', 1)\n",
      "(20, 'Monitor', 79.0, '2022-09-06 17:41:05.652734', 0)\n",
      "(11, 'Mouse', 64.0, '2022-09-06 17:41:05.556794', 1)\n",
      "(14, 'Mouse', 71.0, '2022-09-06 17:41:05.604765', 1)\n",
      "(15, 'Mouse', 71.0, '2022-09-06 17:41:05.614757', 0)\n",
      "(17, 'Mouse', 92.0, '2022-09-06 17:41:05.626751', 0)\n",
      "(4, 'Teclado', 96.0, '2022-09-06 17:41:05.444864', 1)\n",
      "(7, 'Teclado', 53.0, '2022-09-06 17:41:05.513821', 0)\n",
      "(12, 'Teclado', 71.0, '2022-09-06 17:41:05.587774', 1)\n",
      "(16, 'Teclado', 54.0, '2022-09-06 17:41:05.620753', 1)\n",
      "(19, 'Teclado', 91.0, '2022-09-06 17:41:05.641741', 1)\n"
     ]
    }
   ],
   "source": [
    "# Ordenar / Organizar\n",
    "# ORDER BY\n",
    "# A ordem não precisa ser guiada por uma das colunas selecionadas.\n",
    "\n",
    "Query = \"SELECT * FROM random_table ORDER BY Produto\"\n",
    "\n",
    "Execute_and_Show(Query,arquivo)"
   ]
  },
  {
   "cell_type": "code",
   "execution_count": 17,
   "metadata": {},
   "outputs": [
    {
     "name": "stdout",
     "output_type": "stream",
     "text": [
      "('Produto', None, None, None, None, None, None)\n",
      "\n",
      "('Teclado',)\n",
      "('Mouse',)\n",
      "('Monitor',)\n",
      "('CPU',)\n"
     ]
    }
   ],
   "source": [
    "# Ordem decrescente\n",
    "# DESC | ASC\n",
    "\n",
    "Query = \"SELECT DISTINCT Produto FROM random_table ORDER BY Produto DESC\"\n",
    "\n",
    "Execute_and_Show(Query,arquivo)"
   ]
  },
  {
   "cell_type": "code",
   "execution_count": 18,
   "metadata": {},
   "outputs": [
    {
     "name": "stdout",
     "output_type": "stream",
     "text": [
      "('ID', None, None, None, None, None, None)\n",
      "('Produto', None, None, None, None, None, None)\n",
      "('Valor', None, None, None, None, None, None)\n",
      "('Data', None, None, None, None, None, None)\n",
      "('Vendido', None, None, None, None, None, None)\n",
      "\n",
      "(1, 'CPU', 78.0, '2022-09-06 17:41:05.349922', 0)\n",
      "(2, 'CPU', 60.0, '2022-09-06 17:41:05.358916', 1)\n",
      "(3, 'Monitor', 50.0, '2022-09-06 17:41:05.394894', 0)\n",
      "(4, 'Teclado', 96.0, '2022-09-06 17:41:05.444864', 1)\n",
      "(5, 'Monitor', 51.0, '2022-09-06 17:41:05.459853', 1)\n",
      "(6, 'CPU', 89.0, '2022-09-06 17:41:05.483838', 0)\n"
     ]
    }
   ],
   "source": [
    "# Limitar o número e resultados\n",
    "# Apenas os X primeiros resultados são revelados.\n",
    "\n",
    "Query = \"SELECT * FROM random_table LIMIT 6\"\n",
    "\n",
    "Execute_and_Show(Query,arquivo)"
   ]
  },
  {
   "cell_type": "markdown",
   "metadata": {},
   "source": [
    "### Criação e Queda\n",
    "<a id='Criação'></a>"
   ]
  },
  {
   "cell_type": "code",
   "execution_count": null,
   "metadata": {},
   "outputs": [
    {
     "name": "stdout",
     "output_type": "stream",
     "text": [
      "Colunas ['id', 'name']\n"
     ]
    }
   ],
   "source": [
    "# Criar tabela nova\n",
    "\n",
    "Query = \"CREATE TABLE Exemplo(id integer, name text)\"\n",
    "\n",
    "Execute_and_Commit(Query,arquivo,'Exemplo')\n",
    "\n",
    "#Se a tabela já existe, ocorre um erro explícito."
   ]
  },
  {
   "cell_type": "code",
   "execution_count": null,
   "metadata": {},
   "outputs": [
    {
     "name": "stdout",
     "output_type": "stream",
     "text": [
      "Colunas ['id', 'name']\n"
     ]
    }
   ],
   "source": [
    "# Criar tabela nova se não existir\n",
    "\n",
    "Query = \"CREATE TABLE IF NOT EXISTS Exemplo(id integer, name text)\"\n",
    "\n",
    "Execute_and_Commit(Query,arquivo,'Exemplo')"
   ]
  },
  {
   "cell_type": "code",
   "execution_count": null,
   "metadata": {},
   "outputs": [
    {
     "name": "stdout",
     "output_type": "stream",
     "text": [
      "Colunas ['type', 'name', 'tbl_name', 'rootpage', 'sql']\n",
      "['type: table', 'name: random_table', 'tbl_name: random_table', 'rootpage: 2', 'sql: CREATE TABLE random_table(ID INTEGER PRIMARY KEY AUTOINCREMENT NOT NULL, Produto TEXT, Valor REAL, Data DATE, Vendido BIT NOT NULL)']\n",
      "['type: table', 'name: sqlite_sequence', 'tbl_name: sqlite_sequence', 'rootpage: 3', 'sql: CREATE TABLE sqlite_sequence(name,seq)']\n",
      "['type: table', 'name: Exemplo', 'tbl_name: Exemplo', 'rootpage: 4', 'sql: CREATE TABLE Exemplo(id integer, name text)']\n",
      "\n",
      "Colunas ['type', 'name', 'tbl_name', 'rootpage', 'sql']\n",
      "['type: table', 'name: random_table', 'tbl_name: random_table', 'rootpage: 2', 'sql: CREATE TABLE random_table(ID INTEGER PRIMARY KEY AUTOINCREMENT NOT NULL, Produto TEXT, Valor REAL, Data DATE, Vendido BIT NOT NULL)']\n",
      "['type: table', 'name: sqlite_sequence', 'tbl_name: sqlite_sequence', 'rootpage: 3', 'sql: CREATE TABLE sqlite_sequence(name,seq)']\n"
     ]
    }
   ],
   "source": [
    "# Criar tabela nova se não existir\n",
    "\n",
    "showall(arquivo,'sqlite_master')\n",
    "print()\n",
    "\n",
    "Query = \"DROP TABLE IF EXISTS Exemplo\"\n",
    "\n",
    "Execute_and_Commit(Query,arquivo,'sqlite_master')"
   ]
  },
  {
   "cell_type": "markdown",
   "metadata": {},
   "source": [
    "### Adição e Remoção\n",
    "<a id='Adição'></a>"
   ]
  },
  {
   "cell_type": "code",
   "execution_count": null,
   "metadata": {},
   "outputs": [
    {
     "name": "stdout",
     "output_type": "stream",
     "text": [
      "Colunas ['ID', 'Produto', 'Valor', 'Data', 'Vendido']\n",
      "['ID: 1', 'Produto: Mouse', 'Valor: 71.0', 'Data: 2022-09-06 15:39:46.805269', 'Vendido: 1']\n",
      "['ID: 2', 'Produto: Mouse', 'Valor: 69.0', 'Data: 2022-09-06 15:39:46.811259', 'Vendido: 1']\n",
      "['ID: 3', 'Produto: Mouse', 'Valor: 76.0', 'Data: 2022-09-06 15:39:46.821255', 'Vendido: 0']\n",
      "['ID: 4', 'Produto: Monitor', 'Valor: 65.0', 'Data: 2022-09-06 15:39:46.839249', 'Vendido: 1']\n",
      "['ID: 5', 'Produto: Teclado', 'Valor: 88.0', 'Data: 2022-09-06 15:39:46.851235', 'Vendido: 0']\n",
      "['ID: 6', 'Produto: Teclado', 'Valor: 51.0', 'Data: 2022-09-06 15:39:46.858231', 'Vendido: 1']\n",
      "['ID: 7', 'Produto: CPU', 'Valor: 93.0', 'Data: 2022-09-06 15:39:46.868224', 'Vendido: 0']\n",
      "['ID: 8', 'Produto: Mouse', 'Valor: 80.0', 'Data: 2022-09-06 15:39:46.876219', 'Vendido: 1']\n",
      "['ID: 9', 'Produto: Monitor', 'Valor: 82.0', 'Data: 2022-09-06 15:39:46.892208', 'Vendido: 1']\n",
      "['ID: 10', 'Produto: Teclado', 'Valor: 76.0', 'Data: 2022-09-06 15:39:46.909199', 'Vendido: 1']\n",
      "['ID: 11', 'Produto: Teclado', 'Valor: 98.0', 'Data: 2022-09-06 15:39:46.918193', 'Vendido: 1']\n",
      "['ID: 12', 'Produto: Teclado', 'Valor: 67.0', 'Data: 2022-09-06 15:39:46.926188', 'Vendido: 0']\n",
      "['ID: 13', 'Produto: Monitor', 'Valor: 66.0', 'Data: 2022-09-06 15:39:46.954172', 'Vendido: 0']\n",
      "['ID: 14', 'Produto: CPU', 'Valor: 82.0', 'Data: 2022-09-06 15:39:46.972162', 'Vendido: 0']\n",
      "['ID: 15', 'Produto: CPU', 'Valor: 62.0', 'Data: 2022-09-06 15:39:46.981156', 'Vendido: 1']\n",
      "['ID: 16', 'Produto: Teclado', 'Valor: 50.0', 'Data: 2022-09-06 15:39:46.993147', 'Vendido: 1']\n",
      "['ID: 17', 'Produto: Mouse', 'Valor: 64.0', 'Data: 2022-09-06 15:39:47.002143', 'Vendido: 0']\n",
      "['ID: 18', 'Produto: Teclado', 'Valor: 94.0', 'Data: 2022-09-06 15:39:47.011137', 'Vendido: 1']\n",
      "['ID: 19', 'Produto: Mouse', 'Valor: 87.0', 'Data: 2022-09-06 15:39:47.020138', 'Vendido: 1']\n",
      "['ID: 20', 'Produto: CPU', 'Valor: 67.0', 'Data: 2022-09-06 15:39:47.029126', 'Vendido: 0']\n",
      "['ID: 21', 'Produto: CPU', 'Valor: 91.0', 'Data: 2022-09-03 16:26:28.564400', 'Vendido: 1']\n"
     ]
    }
   ],
   "source": [
    "# Inserir linha/observação\n",
    "\n",
    "Query = \"INSERT INTO random_table VALUES(21, 'CPU', 91.0, '2022-09-03 16:26:28.564400',1)\"\n",
    "\n",
    "# É necessário alternar entre aspas e aspas duplas para que o interpretador não encerre a string\n",
    "# Mesmo a Primary Key tendo autoincremento, ele deve ser dado\n",
    "# Se este comando foi executado uma segunda vez, um erro ocorre por tentar adicionar um ID que já existe.\n",
    "\n",
    "Execute_and_Commit(Query,arquivo,tabela)"
   ]
  },
  {
   "cell_type": "code",
   "execution_count": null,
   "metadata": {},
   "outputs": [
    {
     "name": "stdout",
     "output_type": "stream",
     "text": [
      "Colunas ['ID', 'Produto', 'Valor', 'Data', 'Vendido']\n",
      "['ID: 1', 'Produto: Mouse', 'Valor: 71.0', 'Data: 2022-09-06 15:39:46.805269', 'Vendido: 1']\n",
      "['ID: 2', 'Produto: Mouse', 'Valor: 69.0', 'Data: 2022-09-06 15:39:46.811259', 'Vendido: 1']\n",
      "['ID: 3', 'Produto: Mouse', 'Valor: 76.0', 'Data: 2022-09-06 15:39:46.821255', 'Vendido: 0']\n",
      "['ID: 4', 'Produto: Monitor', 'Valor: 65.0', 'Data: 2022-09-06 15:39:46.839249', 'Vendido: 1']\n",
      "['ID: 5', 'Produto: Teclado', 'Valor: 88.0', 'Data: 2022-09-06 15:39:46.851235', 'Vendido: 0']\n",
      "['ID: 6', 'Produto: Teclado', 'Valor: 51.0', 'Data: 2022-09-06 15:39:46.858231', 'Vendido: 1']\n",
      "['ID: 7', 'Produto: CPU', 'Valor: 93.0', 'Data: 2022-09-06 15:39:46.868224', 'Vendido: 0']\n",
      "['ID: 8', 'Produto: Mouse', 'Valor: 80.0', 'Data: 2022-09-06 15:39:46.876219', 'Vendido: 1']\n",
      "['ID: 9', 'Produto: Monitor', 'Valor: 82.0', 'Data: 2022-09-06 15:39:46.892208', 'Vendido: 1']\n",
      "['ID: 10', 'Produto: Teclado', 'Valor: 76.0', 'Data: 2022-09-06 15:39:46.909199', 'Vendido: 1']\n",
      "['ID: 11', 'Produto: Teclado', 'Valor: 98.0', 'Data: 2022-09-06 15:39:46.918193', 'Vendido: 1']\n",
      "['ID: 12', 'Produto: Teclado', 'Valor: 67.0', 'Data: 2022-09-06 15:39:46.926188', 'Vendido: 0']\n",
      "['ID: 13', 'Produto: Monitor', 'Valor: 66.0', 'Data: 2022-09-06 15:39:46.954172', 'Vendido: 0']\n",
      "['ID: 14', 'Produto: CPU', 'Valor: 82.0', 'Data: 2022-09-06 15:39:46.972162', 'Vendido: 0']\n",
      "['ID: 15', 'Produto: CPU', 'Valor: 62.0', 'Data: 2022-09-06 15:39:46.981156', 'Vendido: 1']\n",
      "['ID: 16', 'Produto: Teclado', 'Valor: 50.0', 'Data: 2022-09-06 15:39:46.993147', 'Vendido: 1']\n",
      "['ID: 17', 'Produto: Mouse', 'Valor: 64.0', 'Data: 2022-09-06 15:39:47.002143', 'Vendido: 0']\n",
      "['ID: 18', 'Produto: Teclado', 'Valor: 94.0', 'Data: 2022-09-06 15:39:47.011137', 'Vendido: 1']\n",
      "['ID: 19', 'Produto: Mouse', 'Valor: 87.0', 'Data: 2022-09-06 15:39:47.020138', 'Vendido: 1']\n",
      "['ID: 20', 'Produto: CPU', 'Valor: 67.0', 'Data: 2022-09-06 15:39:47.029126', 'Vendido: 0']\n",
      "['ID: 21', 'Produto: CPU', 'Valor: 91.0', 'Data: 2022-09-03 16:26:28.564400', 'Vendido: 1']\n",
      "['ID: 22', 'Produto: CPU', 'Valor: 120.0', 'Data: 2022-09-03 16:26:28.564400', 'Vendido: 0']\n"
     ]
    }
   ],
   "source": [
    "# Inserir definindo valor e coluna\n",
    "# \"INSERT INTO tabela ('coluna', 'coluna', 'coluna') VALUES ('valor', 'valor', 'valor')\"\n",
    "\n",
    "Query = \"INSERT INTO random_table('Produto','Valor','Data','Vendido') VALUES('CPU', 120.0, '2022-09-03 16:26:28.564400',0)\"\n",
    "\n",
    "Execute_and_Commit(Query,arquivo,tabela)"
   ]
  },
  {
   "cell_type": "code",
   "execution_count": null,
   "metadata": {},
   "outputs": [
    {
     "name": "stdout",
     "output_type": "stream",
     "text": [
      "Colunas ['ID', 'Produto', 'Valor', 'Data', 'Vendido']\n",
      "['ID: 1', 'Produto: Mouse', 'Valor: 71.0', 'Data: 2022-09-06 15:39:46.805269', 'Vendido: 1']\n",
      "['ID: 2', 'Produto: Mouse', 'Valor: 69.0', 'Data: 2022-09-06 15:39:46.811259', 'Vendido: 1']\n",
      "['ID: 3', 'Produto: Mouse', 'Valor: 76.0', 'Data: 2022-09-06 15:39:46.821255', 'Vendido: 0']\n",
      "['ID: 4', 'Produto: Monitor', 'Valor: 65.0', 'Data: 2022-09-06 15:39:46.839249', 'Vendido: 1']\n",
      "['ID: 5', 'Produto: Teclado', 'Valor: 88.0', 'Data: 2022-09-06 15:39:46.851235', 'Vendido: 0']\n",
      "['ID: 6', 'Produto: Teclado', 'Valor: 51.0', 'Data: 2022-09-06 15:39:46.858231', 'Vendido: 1']\n",
      "['ID: 7', 'Produto: CPU', 'Valor: 93.0', 'Data: 2022-09-06 15:39:46.868224', 'Vendido: 0']\n",
      "['ID: 8', 'Produto: Mouse', 'Valor: 80.0', 'Data: 2022-09-06 15:39:46.876219', 'Vendido: 1']\n",
      "['ID: 9', 'Produto: Monitor', 'Valor: 82.0', 'Data: 2022-09-06 15:39:46.892208', 'Vendido: 1']\n",
      "['ID: 10', 'Produto: Teclado', 'Valor: 76.0', 'Data: 2022-09-06 15:39:46.909199', 'Vendido: 1']\n",
      "['ID: 11', 'Produto: Teclado', 'Valor: 98.0', 'Data: 2022-09-06 15:39:46.918193', 'Vendido: 1']\n",
      "['ID: 12', 'Produto: Teclado', 'Valor: 67.0', 'Data: 2022-09-06 15:39:46.926188', 'Vendido: 0']\n",
      "['ID: 13', 'Produto: Monitor', 'Valor: 66.0', 'Data: 2022-09-06 15:39:46.954172', 'Vendido: 0']\n",
      "['ID: 14', 'Produto: CPU', 'Valor: 82.0', 'Data: 2022-09-06 15:39:46.972162', 'Vendido: 0']\n",
      "['ID: 15', 'Produto: CPU', 'Valor: 62.0', 'Data: 2022-09-06 15:39:46.981156', 'Vendido: 1']\n",
      "['ID: 16', 'Produto: Teclado', 'Valor: 50.0', 'Data: 2022-09-06 15:39:46.993147', 'Vendido: 1']\n",
      "['ID: 17', 'Produto: Mouse', 'Valor: 64.0', 'Data: 2022-09-06 15:39:47.002143', 'Vendido: 0']\n",
      "['ID: 18', 'Produto: Teclado', 'Valor: 94.0', 'Data: 2022-09-06 15:39:47.011137', 'Vendido: 1']\n",
      "['ID: 19', 'Produto: Mouse', 'Valor: 87.0', 'Data: 2022-09-06 15:39:47.020138', 'Vendido: 1']\n",
      "['ID: 20', 'Produto: CPU', 'Valor: 67.0', 'Data: 2022-09-06 15:39:47.029126', 'Vendido: 0']\n",
      "['ID: 21', 'Produto: CPU', 'Valor: 91.0', 'Data: 2022-09-03 16:26:28.564400', 'Vendido: 1']\n",
      "['ID: 22', 'Produto: CPU', 'Valor: 120.0', 'Data: 2022-09-03 16:26:28.564400', 'Vendido: 0']\n",
      "['ID: 23', 'Produto: Câmera', 'Valor: 66.0', 'Data: 2022-09-06 15:39:50.365444', 'Vendido: 0']\n"
     ]
    }
   ],
   "source": [
    "# Inserir com o auxílio de uma tupla ou lista.\n",
    "\n",
    "# A execução muda\n",
    "\n",
    "Query = \"INSERT INTO random_table('Produto','Valor','Data','Vendido') VALUES(?, ?, ?,?)\"\n",
    "\n",
    "Observação = ['Câmera',66,datetime.datetime.now(),0]\n",
    "\n",
    "\n",
    "Conn = sqlite3.connect(arquivo)\n",
    "Cursor = Conn.cursor()\n",
    "\n",
    "Cursor.execute(Query,Observação)\n",
    "\n",
    "Conn.commit()\n",
    "Cursor.close()\n",
    "Conn.close()\n",
    "\n",
    "showall(arquivo,tabela)\n"
   ]
  },
  {
   "cell_type": "code",
   "execution_count": null,
   "metadata": {},
   "outputs": [
    {
     "name": "stdout",
     "output_type": "stream",
     "text": [
      "Colunas ['ID', 'Produto', 'Valor', 'Data', 'Vendido']\n",
      "['ID: 1', 'Produto: Mouse', 'Valor: 71.0', 'Data: 2022-09-06 15:39:46.805269', 'Vendido: 1']\n",
      "['ID: 2', 'Produto: Mouse', 'Valor: 69.0', 'Data: 2022-09-06 15:39:46.811259', 'Vendido: 1']\n",
      "['ID: 3', 'Produto: Mouse', 'Valor: 76.0', 'Data: 2022-09-06 15:39:46.821255', 'Vendido: 0']\n",
      "['ID: 4', 'Produto: Monitor', 'Valor: 65.0', 'Data: 2022-09-06 15:39:46.839249', 'Vendido: 1']\n",
      "['ID: 5', 'Produto: Teclado', 'Valor: 88.0', 'Data: 2022-09-06 15:39:46.851235', 'Vendido: 0']\n",
      "['ID: 6', 'Produto: Teclado', 'Valor: 51.0', 'Data: 2022-09-06 15:39:46.858231', 'Vendido: 1']\n",
      "['ID: 7', 'Produto: CPU', 'Valor: 93.0', 'Data: 2022-09-06 15:39:46.868224', 'Vendido: 0']\n",
      "['ID: 8', 'Produto: Mouse', 'Valor: 80.0', 'Data: 2022-09-06 15:39:46.876219', 'Vendido: 1']\n",
      "['ID: 9', 'Produto: Monitor', 'Valor: 82.0', 'Data: 2022-09-06 15:39:46.892208', 'Vendido: 1']\n",
      "['ID: 10', 'Produto: Teclado', 'Valor: 76.0', 'Data: 2022-09-06 15:39:46.909199', 'Vendido: 1']\n",
      "['ID: 11', 'Produto: Teclado', 'Valor: 98.0', 'Data: 2022-09-06 15:39:46.918193', 'Vendido: 1']\n",
      "['ID: 12', 'Produto: Teclado', 'Valor: 67.0', 'Data: 2022-09-06 15:39:46.926188', 'Vendido: 0']\n",
      "['ID: 13', 'Produto: Monitor', 'Valor: 66.0', 'Data: 2022-09-06 15:39:46.954172', 'Vendido: 0']\n",
      "['ID: 14', 'Produto: CPU', 'Valor: 82.0', 'Data: 2022-09-06 15:39:46.972162', 'Vendido: 0']\n",
      "['ID: 15', 'Produto: CPU', 'Valor: 62.0', 'Data: 2022-09-06 15:39:46.981156', 'Vendido: 1']\n",
      "['ID: 16', 'Produto: Teclado', 'Valor: 50.0', 'Data: 2022-09-06 15:39:46.993147', 'Vendido: 1']\n",
      "['ID: 17', 'Produto: Mouse', 'Valor: 64.0', 'Data: 2022-09-06 15:39:47.002143', 'Vendido: 0']\n",
      "['ID: 18', 'Produto: Teclado', 'Valor: 94.0', 'Data: 2022-09-06 15:39:47.011137', 'Vendido: 1']\n",
      "['ID: 19', 'Produto: Mouse', 'Valor: 87.0', 'Data: 2022-09-06 15:39:47.020138', 'Vendido: 1']\n",
      "['ID: 20', 'Produto: CPU', 'Valor: 67.0', 'Data: 2022-09-06 15:39:47.029126', 'Vendido: 0']\n",
      "['ID: 21', 'Produto: CPU', 'Valor: 91.0', 'Data: 2022-09-03 16:26:28.564400', 'Vendido: 1']\n",
      "['ID: 22', 'Produto: CPU', 'Valor: 120.0', 'Data: 2022-09-03 16:26:28.564400', 'Vendido: 0']\n",
      "['ID: 23', 'Produto: Câmera', 'Valor: 66.0', 'Data: 2022-09-06 15:39:50.365444', 'Vendido: 0']\n",
      "['ID: 24', 'Produto: Pendrive', 'Valor: 15.0', 'Data: 2022-09-06 15:39:50.559324', 'Vendido: 0']\n",
      "['ID: 25', 'Produto: Pendrive', 'Valor: 15.0', 'Data: 2022-09-06 15:39:50.559324', 'Vendido: 1']\n",
      "['ID: 26', 'Produto: Pendrive', 'Valor: 20.0', 'Data: 2022-09-06 15:39:50.559324', 'Vendido: 0']\n",
      "['ID: 27', 'Produto: Pendrive', 'Valor: 17.0', 'Data: 2022-09-06 15:39:50.559324', 'Vendido: 1']\n"
     ]
    }
   ],
   "source": [
    "# Executemany\n",
    "# Permite adicionar várias inserções sem um loop.\n",
    "# As observações precisam ser iteráveis dentro de iteráveis.\n",
    "\n",
    "Query = \"INSERT INTO random_table('Produto','Valor','Data','Vendido') VALUES(?, ?, ?,?)\"\n",
    "\n",
    "Observações = (('Pendrive',15,datetime.datetime.now(),0),('Pendrive',15,datetime.datetime.now(),1),('Pendrive',20,datetime.datetime.now(),0),('Pendrive',17,datetime.datetime.now(),1))\n",
    "\n",
    "\n",
    "Conn = sqlite3.connect(arquivo)\n",
    "Cursor = Conn.cursor()\n",
    "\n",
    "Cursor.executemany(Query,Observações)\n",
    "\n",
    "Conn.commit()\n",
    "Cursor.close()\n",
    "Conn.close()\n",
    "\n",
    "showall(arquivo,tabela)"
   ]
  },
  {
   "cell_type": "code",
   "execution_count": null,
   "metadata": {},
   "outputs": [
    {
     "name": "stdout",
     "output_type": "stream",
     "text": [
      "Colunas ['ID', 'Produto', 'Valor', 'Data', 'Vendido']\n",
      "['ID: 1', 'Produto: Mouse', 'Valor: 71.0', 'Data: 2022-09-06 15:39:46.805269', 'Vendido: 1']\n",
      "['ID: 2', 'Produto: Mouse', 'Valor: 69.0', 'Data: 2022-09-06 15:39:46.811259', 'Vendido: 1']\n",
      "['ID: 3', 'Produto: Mouse', 'Valor: 76.0', 'Data: 2022-09-06 15:39:46.821255', 'Vendido: 0']\n",
      "['ID: 4', 'Produto: Monitor', 'Valor: 65.0', 'Data: 2022-09-06 15:39:46.839249', 'Vendido: 1']\n",
      "['ID: 5', 'Produto: Teclado', 'Valor: 88.0', 'Data: 2022-09-06 15:39:46.851235', 'Vendido: 0']\n",
      "['ID: 7', 'Produto: CPU', 'Valor: 93.0', 'Data: 2022-09-06 15:39:46.868224', 'Vendido: 0']\n",
      "['ID: 8', 'Produto: Mouse', 'Valor: 80.0', 'Data: 2022-09-06 15:39:46.876219', 'Vendido: 1']\n",
      "['ID: 9', 'Produto: Monitor', 'Valor: 82.0', 'Data: 2022-09-06 15:39:46.892208', 'Vendido: 1']\n",
      "['ID: 10', 'Produto: Teclado', 'Valor: 76.0', 'Data: 2022-09-06 15:39:46.909199', 'Vendido: 1']\n",
      "['ID: 11', 'Produto: Teclado', 'Valor: 98.0', 'Data: 2022-09-06 15:39:46.918193', 'Vendido: 1']\n",
      "['ID: 12', 'Produto: Teclado', 'Valor: 67.0', 'Data: 2022-09-06 15:39:46.926188', 'Vendido: 0']\n",
      "['ID: 13', 'Produto: Monitor', 'Valor: 66.0', 'Data: 2022-09-06 15:39:46.954172', 'Vendido: 0']\n",
      "['ID: 14', 'Produto: CPU', 'Valor: 82.0', 'Data: 2022-09-06 15:39:46.972162', 'Vendido: 0']\n",
      "['ID: 15', 'Produto: CPU', 'Valor: 62.0', 'Data: 2022-09-06 15:39:46.981156', 'Vendido: 1']\n",
      "['ID: 17', 'Produto: Mouse', 'Valor: 64.0', 'Data: 2022-09-06 15:39:47.002143', 'Vendido: 0']\n",
      "['ID: 18', 'Produto: Teclado', 'Valor: 94.0', 'Data: 2022-09-06 15:39:47.011137', 'Vendido: 1']\n",
      "['ID: 19', 'Produto: Mouse', 'Valor: 87.0', 'Data: 2022-09-06 15:39:47.020138', 'Vendido: 1']\n",
      "['ID: 20', 'Produto: CPU', 'Valor: 67.0', 'Data: 2022-09-06 15:39:47.029126', 'Vendido: 0']\n",
      "['ID: 21', 'Produto: CPU', 'Valor: 91.0', 'Data: 2022-09-03 16:26:28.564400', 'Vendido: 1']\n",
      "['ID: 22', 'Produto: CPU', 'Valor: 120.0', 'Data: 2022-09-03 16:26:28.564400', 'Vendido: 0']\n",
      "['ID: 23', 'Produto: Câmera', 'Valor: 66.0', 'Data: 2022-09-06 15:39:50.365444', 'Vendido: 0']\n"
     ]
    }
   ],
   "source": [
    "# Deletar dado\n",
    "# Sem filtro, deleta todos os dados.\n",
    "\n",
    "Query = \"DELETE FROM random_table WHERE Valor < 60\"\n",
    "\n",
    "Execute_and_Commit(Query,arquivo,tabela)"
   ]
  },
  {
   "cell_type": "code",
   "execution_count": null,
   "metadata": {},
   "outputs": [
    {
     "name": "stdout",
     "output_type": "stream",
     "text": [
      "Colunas ['ID', 'Produto', 'Valor', 'Data', 'Vendido']\n",
      "['ID: 1', 'Produto: Mouse', 'Valor: 71.0', 'Data: 2022-09-06 15:39:46.805269', 'Vendido: 1']\n",
      "['ID: 3', 'Produto: Mouse', 'Valor: 76.0', 'Data: 2022-09-06 15:39:46.821255', 'Vendido: 0']\n",
      "['ID: 4', 'Produto: Monitor', 'Valor: 65.0', 'Data: 2022-09-06 15:39:46.839249', 'Vendido: 1']\n",
      "['ID: 5', 'Produto: Teclado', 'Valor: 88.0', 'Data: 2022-09-06 15:39:46.851235', 'Vendido: 0']\n",
      "['ID: 7', 'Produto: CPU', 'Valor: 93.0', 'Data: 2022-09-06 15:39:46.868224', 'Vendido: 0']\n",
      "['ID: 8', 'Produto: Mouse', 'Valor: 80.0', 'Data: 2022-09-06 15:39:46.876219', 'Vendido: 1']\n",
      "['ID: 9', 'Produto: Monitor', 'Valor: 82.0', 'Data: 2022-09-06 15:39:46.892208', 'Vendido: 1']\n",
      "['ID: 10', 'Produto: Teclado', 'Valor: 76.0', 'Data: 2022-09-06 15:39:46.909199', 'Vendido: 1']\n",
      "['ID: 11', 'Produto: Teclado', 'Valor: 98.0', 'Data: 2022-09-06 15:39:46.918193', 'Vendido: 1']\n",
      "['ID: 12', 'Produto: Teclado', 'Valor: 67.0', 'Data: 2022-09-06 15:39:46.926188', 'Vendido: 0']\n",
      "['ID: 13', 'Produto: Monitor', 'Valor: 66.0', 'Data: 2022-09-06 15:39:46.954172', 'Vendido: 0']\n",
      "['ID: 14', 'Produto: CPU', 'Valor: 82.0', 'Data: 2022-09-06 15:39:46.972162', 'Vendido: 0']\n",
      "['ID: 15', 'Produto: CPU', 'Valor: 62.0', 'Data: 2022-09-06 15:39:46.981156', 'Vendido: 1']\n",
      "['ID: 17', 'Produto: Mouse', 'Valor: 64.0', 'Data: 2022-09-06 15:39:47.002143', 'Vendido: 0']\n",
      "['ID: 18', 'Produto: Teclado', 'Valor: 94.0', 'Data: 2022-09-06 15:39:47.011137', 'Vendido: 1']\n",
      "['ID: 19', 'Produto: Mouse', 'Valor: 87.0', 'Data: 2022-09-06 15:39:47.020138', 'Vendido: 1']\n",
      "['ID: 20', 'Produto: CPU', 'Valor: 67.0', 'Data: 2022-09-06 15:39:47.029126', 'Vendido: 0']\n",
      "['ID: 21', 'Produto: CPU', 'Valor: 91.0', 'Data: 2022-09-03 16:26:28.564400', 'Vendido: 1']\n",
      "['ID: 22', 'Produto: CPU', 'Valor: 120.0', 'Data: 2022-09-03 16:26:28.564400', 'Vendido: 0']\n",
      "['ID: 28', 'Produto: None', 'Valor: 120.0', 'Data: 2022-09-03 16:26:28.564400', 'Vendido: 0']\n",
      "['ID: 29', 'Produto: None', 'Valor: 120.0', 'Data: 2022-09-03 16:26:28.564400', 'Vendido: 0']\n"
     ]
    }
   ],
   "source": [
    "# Valores NULL\n",
    "\n",
    "Query = \"INSERT INTO random_table('Valor','Data','Vendido') VALUES(120.0, '2022-09-03 16:26:28.564400',0)\"\n",
    "\n",
    "Execute_and_Commit(Query,arquivo,tabela)\n",
    "\n",
    "# Em Python é apresentado como None\n",
    "# Como o ID tem Autoincremento, esse valor não fica nulo.\n",
    "# O tratamento de variáveis nulas é demonstrada em \"Filtros e Operadores Lógicos\""
   ]
  },
  {
   "cell_type": "markdown",
   "metadata": {},
   "source": [
    "### Alteração\n",
    "<a id='Alteração'></a>"
   ]
  },
  {
   "cell_type": "code",
   "execution_count": null,
   "metadata": {},
   "outputs": [
    {
     "name": "stdout",
     "output_type": "stream",
     "text": [
      "Colunas ['ID', 'Produto', 'Valor', 'Data', 'Vendido']\n",
      "['ID: 1', 'Produto: Mouse', 'Valor: 71.0', 'Data: 2022-09-06 15:39:46.805269', 'Vendido: 1']\n",
      "['ID: 2', 'Produto: Cabos', 'Valor: 69.0', 'Data: 2022-09-06 15:39:46.811259', 'Vendido: 1']\n",
      "['ID: 3', 'Produto: Mouse', 'Valor: 76.0', 'Data: 2022-09-06 15:39:46.821255', 'Vendido: 0']\n",
      "['ID: 4', 'Produto: Monitor', 'Valor: 65.0', 'Data: 2022-09-06 15:39:46.839249', 'Vendido: 1']\n",
      "['ID: 5', 'Produto: Teclado', 'Valor: 88.0', 'Data: 2022-09-06 15:39:46.851235', 'Vendido: 0']\n",
      "['ID: 7', 'Produto: CPU', 'Valor: 93.0', 'Data: 2022-09-06 15:39:46.868224', 'Vendido: 0']\n",
      "['ID: 8', 'Produto: Mouse', 'Valor: 80.0', 'Data: 2022-09-06 15:39:46.876219', 'Vendido: 1']\n",
      "['ID: 9', 'Produto: Monitor', 'Valor: 82.0', 'Data: 2022-09-06 15:39:46.892208', 'Vendido: 1']\n",
      "['ID: 10', 'Produto: Teclado', 'Valor: 76.0', 'Data: 2022-09-06 15:39:46.909199', 'Vendido: 1']\n",
      "['ID: 11', 'Produto: Teclado', 'Valor: 98.0', 'Data: 2022-09-06 15:39:46.918193', 'Vendido: 1']\n",
      "['ID: 12', 'Produto: Teclado', 'Valor: 67.0', 'Data: 2022-09-06 15:39:46.926188', 'Vendido: 0']\n",
      "['ID: 13', 'Produto: Monitor', 'Valor: 66.0', 'Data: 2022-09-06 15:39:46.954172', 'Vendido: 0']\n",
      "['ID: 14', 'Produto: CPU', 'Valor: 82.0', 'Data: 2022-09-06 15:39:46.972162', 'Vendido: 0']\n",
      "['ID: 15', 'Produto: CPU', 'Valor: 62.0', 'Data: 2022-09-06 15:39:46.981156', 'Vendido: 1']\n",
      "['ID: 17', 'Produto: Mouse', 'Valor: 64.0', 'Data: 2022-09-06 15:39:47.002143', 'Vendido: 0']\n",
      "['ID: 18', 'Produto: Teclado', 'Valor: 94.0', 'Data: 2022-09-06 15:39:47.011137', 'Vendido: 1']\n",
      "['ID: 19', 'Produto: Mouse', 'Valor: 87.0', 'Data: 2022-09-06 15:39:47.020138', 'Vendido: 1']\n",
      "['ID: 20', 'Produto: CPU', 'Valor: 67.0', 'Data: 2022-09-06 15:39:47.029126', 'Vendido: 0']\n",
      "['ID: 21', 'Produto: CPU', 'Valor: 91.0', 'Data: 2022-09-03 16:26:28.564400', 'Vendido: 1']\n",
      "['ID: 22', 'Produto: CPU', 'Valor: 120.0', 'Data: 2022-09-03 16:26:28.564400', 'Vendido: 0']\n",
      "['ID: 23', 'Produto: Câmera', 'Valor: 66.0', 'Data: 2022-09-06 15:39:50.365444', 'Vendido: 0']\n"
     ]
    }
   ],
   "source": [
    "# Mudança de valor\n",
    "# UPDATE/SET\n",
    "# Sem filtro, altera todos os dados.\n",
    "\n",
    "Query = \"UPDATE random_table SET Produto = 'Cabos' WHERE id = 2\"\n",
    "\n",
    "Execute_and_Commit(Query,arquivo,tabela)"
   ]
  },
  {
   "cell_type": "markdown",
   "metadata": {},
   "source": [
    "### Filtros e Operadores Lógicos\n",
    "<a id='Filtros e Operadores Lógicos'></a>"
   ]
  },
  {
   "cell_type": "code",
   "execution_count": null,
   "metadata": {},
   "outputs": [
    {
     "name": "stdout",
     "output_type": "stream",
     "text": [
      "('Produto', None, None, None, None, None, None)\n",
      "('Valor', None, None, None, None, None, None)\n",
      "('Monitor', 65.0)\n",
      "('CPU', 93.0)\n",
      "('Monitor', 82.0)\n",
      "('Monitor', 66.0)\n",
      "('CPU', 91.0)\n",
      "('CPU', 120.0)\n"
     ]
    }
   ],
   "source": [
    "# WHERE filtra os dados considerados\n",
    "# Se o filtro é aplicado duas vezes a uma mesma coluna, ele deve ser demonstrado duas vezes\n",
    "\n",
    "Query = \"SELECT Produto, Valor FROM random_table WHERE Produto = 'Monitor' OR Produto = 'CPU' AND Valor > 90\"\n",
    "\n",
    "# Desta forma, apenas CPU é filtrada acima de 90. Monitores não foram filtrados\n",
    "\n",
    "Execute_and_Show(Query,arquivo)"
   ]
  },
  {
   "cell_type": "code",
   "execution_count": null,
   "metadata": {},
   "outputs": [
    {
     "name": "stdout",
     "output_type": "stream",
     "text": [
      "('Produto', None, None, None, None, None, None)\n",
      "('Valor', None, None, None, None, None, None)\n",
      "('CPU', 93.0)\n",
      "('CPU', 91.0)\n",
      "('CPU', 120.0)\n"
     ]
    }
   ],
   "source": [
    "# Assim, o filtro é aplicado a ambos os tipos de produtos\n",
    "\n",
    "Query = \"SELECT Produto, Valor FROM random_table WHERE (Produto = 'Monitor' OR Produto = 'CPU') AND Valor > 90\"\n",
    "\n",
    "Execute_and_Show(Query,arquivo)"
   ]
  },
  {
   "cell_type": "code",
   "execution_count": null,
   "metadata": {},
   "outputs": [
    {
     "name": "stdout",
     "output_type": "stream",
     "text": [
      "('ID', None, None, None, None, None, None)\n",
      "('Produto', None, None, None, None, None, None)\n",
      "('Valor', None, None, None, None, None, None)\n",
      "('Data', None, None, None, None, None, None)\n",
      "('Vendido', None, None, None, None, None, None)\n",
      "(1, 'Mouse', 71.0, '2022-09-06 15:39:46.805269', 1)\n",
      "(8, 'Mouse', 80.0, '2022-09-06 15:39:46.876219', 1)\n",
      "(10, 'Teclado', 76.0, '2022-09-06 15:39:46.909199', 1)\n",
      "(11, 'Teclado', 98.0, '2022-09-06 15:39:46.918193', 1)\n",
      "(15, 'CPU', 62.0, '2022-09-06 15:39:46.981156', 1)\n",
      "(18, 'Teclado', 94.0, '2022-09-06 15:39:47.011137', 1)\n",
      "(19, 'Mouse', 87.0, '2022-09-06 15:39:47.020138', 1)\n",
      "(21, 'CPU', 91.0, '2022-09-03 16:26:28.564400', 1)\n"
     ]
    }
   ],
   "source": [
    "# NOT\n",
    "# Deve ser usado antes da condição\n",
    "\n",
    "Query = \"SELECT * FROM random_table WHERE NOT Produto = 'Monitor' AND NOT Vendido = 0\"\n",
    "\n",
    "Execute_and_Show(Query,arquivo)"
   ]
  },
  {
   "cell_type": "code",
   "execution_count": null,
   "metadata": {},
   "outputs": [
    {
     "name": "stdout",
     "output_type": "stream",
     "text": [
      "('ID', None, None, None, None, None, None)\n",
      "('Produto', None, None, None, None, None, None)\n",
      "('Valor', None, None, None, None, None, None)\n",
      "('Data', None, None, None, None, None, None)\n",
      "('Vendido', None, None, None, None, None, None)\n",
      "(28, None, 120.0, '2022-09-03 16:26:28.564400', 0)\n",
      "(29, None, 120.0, '2022-09-03 16:26:28.564400', 0)\n"
     ]
    }
   ],
   "source": [
    "# Variável SE"
   ]
  },
  {
   "cell_type": "code",
   "execution_count": null,
   "metadata": {},
   "outputs": [
    {
     "name": "stdout",
     "output_type": "stream",
     "text": [
      "('name', None, None, None, None, None, None)\n",
      "\n",
      "('name', None, None, None, None, None, None)\n",
      "('random_table',)\n"
     ]
    }
   ],
   "source": [
    "# Verificação se determinada tabela existe\n",
    "\n",
    "Query1 = 'SELECT name from sqlite_master WHERE type = \"table\" AND name = \"Exemplo\"'\n",
    "Query2 = 'SELECT name from sqlite_master WHERE type = \"table\" AND name = \"random_table\"'\n",
    "\n",
    "Execute_and_Show(Query1,arquivo)\n",
    "print()\n",
    "Execute_and_Show(Query2,arquivo)\n",
    "\n",
    "# Se a tabela não existe, nome nenhum é apresentado."
   ]
  },
  {
   "cell_type": "code",
   "execution_count": null,
   "metadata": {},
   "outputs": [
    {
     "name": "stdout",
     "output_type": "stream",
     "text": [
      "('ID', None, None, None, None, None, None)\n",
      "('Produto', None, None, None, None, None, None)\n",
      "('Valor', None, None, None, None, None, None)\n",
      "('Data', None, None, None, None, None, None)\n",
      "('Vendido', None, None, None, None, None, None)\n",
      "(28, None, 120.0, '2022-09-03 16:26:28.564400', 0)\n",
      "(29, None, 120.0, '2022-09-03 16:26:28.564400', 0)\n"
     ]
    }
   ],
   "source": [
    "# Tratamendo de valores nulos\n",
    "# IS NULL | IS NOT NULL\n",
    "\n",
    "Query = \"SELECT * FROM random_table WHERE Produto IS NULL\"\n",
    "\n",
    "Execute_and_Show(Query,arquivo)"
   ]
  },
  {
   "cell_type": "code",
   "execution_count": null,
   "metadata": {},
   "outputs": [],
   "source": [
    "# LIKE e Wildcards (coringas)\n",
    "# LIKE é usado emm substituição do sinal '=', quando o que segue é uma wildcard.\n",
    "# Wildcards se parecem com variáveis Regex\n",
    "    # "
   ]
  },
  {
   "cell_type": "markdown",
   "metadata": {},
   "source": [
    "### Valores Únicos"
   ]
  },
  {
   "cell_type": "code",
   "execution_count": null,
   "metadata": {},
   "outputs": [
    {
     "name": "stdout",
     "output_type": "stream",
     "text": [
      "('COUNT (DISTINCT Produto)', None, None, None, None, None, None)\n",
      "(4,)\n",
      "\n",
      "('COUNT (*)', None, None, None, None, None, None)\n",
      "(8,)\n"
     ]
    }
   ],
   "source": [
    "# Contagem\n",
    "# Mais utilizado com DISTINCT\n",
    "\n",
    "Query = \"SELECT COUNT (DISTINCT Produto) FROM random_table\"\n",
    "\n",
    "Execute_and_Show(Query,arquivo)\n",
    "\n",
    "\n",
    "print()     ###     ###     ###     ###     ###     ###     ###     ###     ###     ###     ###     ###     ###\n",
    "\n",
    "\n",
    "# Para contar uma distinção com duas colunas, é preciso contar tudo de uma seleção com o filtro de distinção\n",
    "\n",
    "Query = 'SELECT COUNT (*) FROM (SELECT DISTINCT Produto, Vendido FROM random_table)'\n",
    "\n",
    "Execute_and_Show(Query,arquivo)"
   ]
  },
  {
   "cell_type": "code",
   "execution_count": 28,
   "metadata": {},
   "outputs": [
    {
     "name": "stdout",
     "output_type": "stream",
     "text": [
      "('MIN (Valor)', None, None, None, None, None, None)\n",
      "\n",
      "(50.0,)\n"
     ]
    }
   ],
   "source": [
    "# Mínimo e Máximo\n",
    "# MIN | MAX\n",
    "\n",
    "Query = \"SELECT MIN (Valor) FROM random_table\"\n",
    "\n",
    "Execute_and_Show(Query,arquivo)"
   ]
  },
  {
   "cell_type": "code",
   "execution_count": 29,
   "metadata": {},
   "outputs": [
    {
     "name": "stdout",
     "output_type": "stream",
     "text": [
      "('AVG (Valor)', None, None, None, None, None, None)\n",
      "\n",
      "(71.15,)\n"
     ]
    }
   ],
   "source": [
    "# Média\n",
    "# AVG\n",
    "\n",
    "Query = \"SELECT AVG (Valor) FROM random_table\"\n",
    "\n",
    "Execute_and_Show(Query,arquivo)"
   ]
  },
  {
   "cell_type": "code",
   "execution_count": 30,
   "metadata": {},
   "outputs": [
    {
     "name": "stdout",
     "output_type": "stream",
     "text": [
      "('SUM (Valor)', None, None, None, None, None, None)\n",
      "\n",
      "(1423.0,)\n"
     ]
    }
   ],
   "source": [
    "# Soma\n",
    "# SUM\n",
    "\n",
    "Query = \"SELECT SUM (Valor) FROM random_table\"\n",
    "\n",
    "Execute_and_Show(Query,arquivo)"
   ]
  },
  {
   "cell_type": "markdown",
   "metadata": {},
   "source": [
    "## Sobre o SQLite3"
   ]
  },
  {
   "cell_type": "markdown",
   "metadata": {},
   "source": [
    "Conexão com a memória."
   ]
  },
  {
   "cell_type": "code",
   "execution_count": null,
   "metadata": {},
   "outputs": [],
   "source": [
    "con_mem = sqlite3.connect(':memory:')\n",
    "\n",
    "###\n",
    "\n",
    "con_mem.close()"
   ]
  },
  {
   "cell_type": "markdown",
   "metadata": {},
   "source": [
    "Contagem de linhas afetadas"
   ]
  },
  {
   "cell_type": "code",
   "execution_count": null,
   "metadata": {},
   "outputs": [
    {
     "name": "stdout",
     "output_type": "stream",
     "text": [
      "2\n",
      "\n",
      "Colunas ['ID', 'Produto', 'Valor', 'Data', 'Vendido']\n",
      "['ID: 1', 'Produto: Mouse', 'Valor: 71.0', 'Data: 2022-09-06 15:39:46.805269', 'Vendido: 1']\n",
      "['ID: 3', 'Produto: Mouse', 'Valor: 76.0', 'Data: 2022-09-06 15:39:46.821255', 'Vendido: 0']\n",
      "['ID: 4', 'Produto: Monitor', 'Valor: 65.0', 'Data: 2022-09-06 15:39:46.839249', 'Vendido: 1']\n",
      "['ID: 5', 'Produto: Teclado', 'Valor: 88.0', 'Data: 2022-09-06 15:39:46.851235', 'Vendido: 0']\n",
      "['ID: 7', 'Produto: CPU', 'Valor: 93.0', 'Data: 2022-09-06 15:39:46.868224', 'Vendido: 0']\n",
      "['ID: 8', 'Produto: Mouse', 'Valor: 80.0', 'Data: 2022-09-06 15:39:46.876219', 'Vendido: 1']\n",
      "['ID: 9', 'Produto: Monitor', 'Valor: 82.0', 'Data: 2022-09-06 15:39:46.892208', 'Vendido: 1']\n",
      "['ID: 10', 'Produto: Teclado', 'Valor: 76.0', 'Data: 2022-09-06 15:39:46.909199', 'Vendido: 1']\n",
      "['ID: 11', 'Produto: Teclado', 'Valor: 98.0', 'Data: 2022-09-06 15:39:46.918193', 'Vendido: 1']\n",
      "['ID: 12', 'Produto: Teclado', 'Valor: 67.0', 'Data: 2022-09-06 15:39:46.926188', 'Vendido: 0']\n",
      "['ID: 13', 'Produto: Monitor', 'Valor: 66.0', 'Data: 2022-09-06 15:39:46.954172', 'Vendido: 0']\n",
      "['ID: 14', 'Produto: CPU', 'Valor: 82.0', 'Data: 2022-09-06 15:39:46.972162', 'Vendido: 0']\n",
      "['ID: 15', 'Produto: CPU', 'Valor: 62.0', 'Data: 2022-09-06 15:39:46.981156', 'Vendido: 1']\n",
      "['ID: 17', 'Produto: Mouse', 'Valor: 64.0', 'Data: 2022-09-06 15:39:47.002143', 'Vendido: 0']\n",
      "['ID: 18', 'Produto: Teclado', 'Valor: 94.0', 'Data: 2022-09-06 15:39:47.011137', 'Vendido: 1']\n",
      "['ID: 19', 'Produto: Mouse', 'Valor: 87.0', 'Data: 2022-09-06 15:39:47.020138', 'Vendido: 1']\n",
      "['ID: 20', 'Produto: CPU', 'Valor: 67.0', 'Data: 2022-09-06 15:39:47.029126', 'Vendido: 0']\n",
      "['ID: 21', 'Produto: CPU', 'Valor: 91.0', 'Data: 2022-09-03 16:26:28.564400', 'Vendido: 1']\n",
      "['ID: 22', 'Produto: CPU', 'Valor: 120.0', 'Data: 2022-09-03 16:26:28.564400', 'Vendido: 0']\n"
     ]
    }
   ],
   "source": [
    "Query = 'DELETE FROM random_table WHERE Produto = \"Câmera\" OR Produto = \"Cabos\"'\n",
    "\n",
    "Conn = sqlite3.connect(arquivo)\n",
    "Cursor = Conn.cursor()\n",
    "\n",
    "# Isso não só deleta como conta quantas alterações foram feitas.\n",
    "print(Cursor.execute(Query).rowcount)\n",
    "\n",
    "Conn.commit()\n",
    "Cursor.close()\n",
    "Conn.close()\n",
    "\n",
    "print()\n",
    "\n",
    "showall(arquivo,tabela)"
   ]
  },
  {
   "cell_type": "markdown",
   "metadata": {},
   "source": [
    "Características do comando .fetchall()"
   ]
  },
  {
   "cell_type": "code",
   "execution_count": null,
   "metadata": {},
   "outputs": [
    {
     "name": "stdout",
     "output_type": "stream",
     "text": [
      "Empty Fetched Data: []\n",
      "Stored Fetched Data: [(1, 'Mouse', 71.0, '2022-09-06 15:39:46.805269', 1), (3, 'Mouse', 76.0, '2022-09-06 15:39:46.821255', 0), (4, 'Monitor', 65.0, '2022-09-06 15:39:46.839249', 1)]\n"
     ]
    }
   ],
   "source": [
    "# O comando .fetchall é descartável. Depois de executado, torna-se uma lista vazia.\n",
    "\n",
    "Query = \"SELECT * FROM random_table LIMIT 3\"\n",
    "\n",
    "curs = sqlite3.connect(arquivo).cursor()\n",
    "curs.execute(Query)\n",
    "\n",
    "Stored_Data = curs.fetchall()                         # Aqui o Fetchall é utilizado, armazenando a lista numa variável.\n",
    "\n",
    "print('Empty Fetched Data:',curs.fetchall())          # Aqui ele é impresso como uma lista vazi\n",
    "\n",
    "\n",
    "print('Stored Fetched Data:',Stored_Data)\n",
    "\n",
    "\n",
    "curs.close()"
   ]
  },
  {
   "cell_type": "markdown",
   "metadata": {},
   "source": [
    "### Erros e Exceções"
   ]
  },
  {
   "cell_type": "markdown",
   "metadata": {},
   "source": [
    "* *DatabaseError*\n",
    "   * Qualquer erro relacionado ao banco de dados."
   ]
  },
  {
   "cell_type": "markdown",
   "metadata": {},
   "source": [
    "* *IntegrityError*\n",
    "  * É uma subclasse de _DatabaseError_ e surge quando há problema de integridade de dados. Por exemplo, dados extrangeiros não estão atualizados em todas as tabelas resultando na inconsistência dos dados."
   ]
  },
  {
   "cell_type": "markdown",
   "metadata": {},
   "source": [
    "* *ProgrammingError*\n",
    "  * Surge quando há erro de sintaxe, ou a tabela não é encontrada, ou a função é evocada com o número errado de parâmetros/argumentos."
   ]
  },
  {
   "cell_type": "markdown",
   "metadata": {},
   "source": [
    "* *OperationalError*\n",
    "   * Esta exceção surge quando as operações do banco de dados falham; por exemplo, desconexão não usual. Não é culpa do programador."
   ]
  },
  {
   "cell_type": "markdown",
   "metadata": {},
   "source": [
    "* *NotSupportedError*\n",
    "   * Quando você usa algum método que não está definido ou não é suportado pelo banco de dados."
   ]
  }
 ],
 "metadata": {
  "kernelspec": {
   "display_name": "Python 3.10.6 64-bit (microsoft store)",
   "language": "python",
   "name": "python3"
  },
  "language_info": {
   "codemirror_mode": {
    "name": "ipython",
    "version": 3
   },
   "file_extension": ".py",
   "mimetype": "text/x-python",
   "name": "python",
   "nbconvert_exporter": "python",
   "pygments_lexer": "ipython3",
   "version": "3.10.6"
  },
  "orig_nbformat": 4,
  "vscode": {
   "interpreter": {
    "hash": "91b18657112df8a6dc2946b9dfe3559ddfc8e1e2117c2c8071424b5e043bd8e1"
   }
  }
 },
 "nbformat": 4,
 "nbformat_minor": 2
}

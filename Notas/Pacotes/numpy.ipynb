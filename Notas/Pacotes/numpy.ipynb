{
 "cells": [
  {
   "cell_type": "markdown",
   "id": "6b86fc90",
   "metadata": {},
   "source": [
    "\"Numerical Python\" é usado para trabalhar com arrays para álgebra linear, transformação de fourier e matrizes.\n",
    "\n",
    "NumPy foca em dispor um objeto array que é até 50 vezes mais rápido que a tradicional lista do Python.\n",
    "\n",
    "Arrays do NumPy são estocados em um local contínuo na memória diferente das listas, então os processos podem acessá-las e manipulá-las muito eficientemente."
   ]
  },
  {
   "cell_type": "markdown",
   "id": "2f70cda0",
   "metadata": {},
   "source": [
    "https://www.w3schools.com/python/numpy/default.asp"
   ]
  },
  {
   "cell_type": "code",
   "execution_count": 5,
   "id": "875e2346",
   "metadata": {},
   "outputs": [
    {
     "name": "stderr",
     "output_type": "stream",
     "text": [
      "  WARNING: The script f2py.exe is installed in 'C:\\Users\\fnsb.DESKTOP-7T10APS\\AppData\\Local\\Packages\\PythonSoftwareFoundation.Python.3.10_qbz5n2kfra8p0\\LocalCache\\local-packages\\Python310\\Scripts' which is not on PATH.\n",
      "  Consider adding this directory to PATH or, if you prefer to suppress this warning, use --no-warn-script-location.\n",
      "\n",
      "[notice] A new release of pip available: 22.2.1 -> 22.2.2\n",
      "[notice] To update, run: C:\\Users\\fnsb.DESKTOP-7T10APS\\AppData\\Local\\Microsoft\\WindowsApps\\PythonSoftwareFoundation.Python.3.10_qbz5n2kfra8p0\\python.exe -m pip install --upgrade pip\n"
     ]
    },
    {
     "name": "stdout",
     "output_type": "stream",
     "text": [
      "Collecting numpy\n",
      "  Downloading numpy-1.23.2-cp310-cp310-win_amd64.whl (14.6 MB)\n",
      "     ---------------------------------------- 14.6/14.6 MB 5.6 MB/s eta 0:00:00\n",
      "Installing collected packages: numpy\n",
      "Successfully installed numpy-1.23.2\n"
     ]
    }
   ],
   "source": [
    "!pip3 install numpy\n",
    "import numpy"
   ]
  }
 ],
 "metadata": {
  "kernelspec": {
   "display_name": "Python 3.10.6 64-bit (windows store)",
   "language": "python",
   "name": "python3"
  },
  "language_info": {
   "codemirror_mode": {
    "name": "ipython",
    "version": 3
   },
   "file_extension": ".py",
   "mimetype": "text/x-python",
   "name": "python",
   "nbconvert_exporter": "python",
   "pygments_lexer": "ipython3",
   "version": "3.10.6"
  },
  "vscode": {
   "interpreter": {
    "hash": "91b18657112df8a6dc2946b9dfe3559ddfc8e1e2117c2c8071424b5e043bd8e1"
   }
  }
 },
 "nbformat": 4,
 "nbformat_minor": 5
}

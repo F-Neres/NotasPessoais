{
 "cells": [
  {
   "cell_type": "markdown",
   "metadata": {},
   "source": [
    "# Pymongo"
   ]
  },
  {
   "cell_type": "markdown",
   "metadata": {},
   "source": [
    "Este é um pacote que possibilita utilizar o SGBD MongoDB integrado ao Python.  \n",
    "MongoDB é um sistema de gerenciamente do bancos de dados não relacionais baseados em documentos."
   ]
  },
  {
   "cell_type": "code",
   "execution_count": null,
   "metadata": {},
   "outputs": [],
   "source": [
    "! pip install pymongo"
   ]
  },
  {
   "cell_type": "code",
   "execution_count": null,
   "metadata": {},
   "outputs": [],
   "source": [
    "from pymongo import MongoClient"
   ]
  },
  {
   "cell_type": "code",
   "execution_count": null,
   "metadata": {},
   "outputs": [],
   "source": [
    "# Criando um cliente, Estabelecimento de uma conexão com o MondoDB\n",
    "\n",
    "Client_A = MongoClient(\"mongodb://localhost:27017/\")\n",
    "\n",
    "# O \"localhost\" é padrão.\n",
    "\n",
    "Client = MongoClient(\"localhost\",27017)\n",
    "# Outra forma de criar conexão.\n",
    "# O primeiro parâmetro diz onde estão os bancos de dados a serem acessados. Neste caso, localhost é esta própria máquina.\n",
    "# O segundo parâmetro indica a porta de acesso.\n",
    "\n",
    "print(type(Client))"
   ]
  },
  {
   "cell_type": "markdown",
   "metadata": {},
   "source": [
    "No MongoDB, um banco de dados só é criado quando há dados nele.  \n",
    "Mesmo que um banco de dados seja criado, ele só constará como existe se houver registros."
   ]
  },
  {
   "cell_type": "code",
   "execution_count": null,
   "metadata": {},
   "outputs": [],
   "source": [
    "# Criação de banco de dados:\n",
    "\n",
    "ExampleDB_A = Client_A[\"ExampleDBName_A\"]\n",
    "print(type(ExampleDB_A))\n",
    "\n",
    "ExampleDB = Client.ExampleDBName\n",
    "print(type(ExampleDB))"
   ]
  },
  {
   "cell_type": "code",
   "execution_count": null,
   "metadata": {},
   "outputs": [],
   "source": [
    "# Lista de bancos de dados:\n",
    "\n",
    "print(Client.list_database_names())\n",
    "\n",
    "print('\\n',type(Client.list_database_names()))"
   ]
  },
  {
   "cell_type": "code",
   "execution_count": null,
   "metadata": {},
   "outputs": [],
   "source": [
    "# Criação de uma coleção (correlativo a uma tabela)\n",
    "\n",
    "ExampleCol_A = ExampleDB_A[\"ExampleCol_A\"]\n",
    "print(type(ExampleCol))\n",
    "\n",
    "ExampleCol = ExampleDB.ExampleCol\n",
    "print(type(ExampleCol))\n"
   ]
  },
  {
   "cell_type": "code",
   "execution_count": null,
   "metadata": {},
   "outputs": [],
   "source": [
    "?(ExampleCol_A)"
   ]
  },
  {
   "cell_type": "code",
   "execution_count": null,
   "metadata": {},
   "outputs": [],
   "source": [
    "# Lista de coleções no DB.\n",
    "\n",
    "print(ExampleCol_A.list_collection_names())\n",
    "\n",
    "\n",
    "print('\\n',type(ExampleCol_A.list_collection_names()))"
   ]
  },
  {
   "cell_type": "code",
   "execution_count": 35,
   "metadata": {},
   "outputs": [
    {
     "name": "stdout",
     "output_type": "stream",
     "text": [
      "{'id_jogo': 683, 'nm_jogo': 'De Vulgari Eloquentia', 'thumb': 'https:\\\\/\\\\/storage.googleapis.com\\\\/ludopedia-capas\\\\/683_t.jpg', 'tp_jogo': 'b', 'link': 'https:\\\\/\\\\/ludopedia.com.br\\\\/jogo\\\\/de-vulgari-eloquentia', 'ano_publicacao': 2010, 'ano_nacional': False, 'qt_jogadores_min': 2, 'qt_jogadores_max': 5, 'mecanicas': [{'id_mecanica': '31', 'nm_mecanica': 'Movimento de Área'}, {'id_mecanica': '22', 'nm_mecanica': 'Sistema de Pontos de Ação'}], 'categorias': [], 'temas': [{'id_tema': '21', 'nm_tema': 'Medieval'}], 'artistas': [{'id_profissional': '888', 'nm_profissional': 'Lamberto Azzariti'}, {'id_profissional': '443', 'nm_profissional': 'Guido Favaro'}, {'id_profissional': '1268', 'nm_profissional': 'Eva Villa'}], 'designers': [{'id_profissional': '1245', 'nm_profissional': 'Mario Papini'}], 'vl_tempo_jogo': 120, 'idade_minima': 14, 'qt_tem': 68, 'qt_teve': 34, 'qt_favorito': 5, 'qt_quer': 100, 'qt_jogou': 103}\n"
     ]
    }
   ],
   "source": [
    "# Criando um dicionário como exemplo\n",
    "De_Vulgari_Eloquentia = {\n",
    "    \"id_jogo\":683,\"nm_jogo\":\"De Vulgari Eloquentia\",\n",
    "    \"thumb\":\"https:\\/\\/storage.googleapis.com\\/ludopedia-capas\\/683_t.jpg\",\n",
    "    \"tp_jogo\":\"b\",\n",
    "    \"link\":\"https:\\/\\/ludopedia.com.br\\/jogo\\/de-vulgari-eloquentia\",\n",
    "    \"ano_publicacao\":2010,\n",
    "    \"ano_nacional\":False,\n",
    "    \"qt_jogadores_min\":2,\n",
    "    \"qt_jogadores_max\":5,\n",
    "    \"mecanicas\":[\n",
    "        {\n",
    "            \"id_mecanica\":\"31\",\n",
    "            \"nm_mecanica\":\"Movimento de Área\"},\n",
    "        {\n",
    "            \"id_mecanica\":\"22\",\n",
    "            \"nm_mecanica\":\"Sistema de Pontos de Ação\"}],\n",
    "    \"categorias\":[],\n",
    "    \"temas\":[\n",
    "        {\n",
    "            \"id_tema\":\"21\",\n",
    "            \"nm_tema\":\"Medieval\"}],\n",
    "    \"artistas\":[\n",
    "        {\n",
    "            \"id_profissional\":\"888\",\n",
    "            \"nm_profissional\":\"Lamberto Azzariti\"},\n",
    "        {\n",
    "            \"id_profissional\":\"443\",\n",
    "            \"nm_profissional\":\"Guido Favaro\"},\n",
    "        {\n",
    "            \"id_profissional\":\"1268\",\n",
    "            \"nm_profissional\":\"Eva Villa\"}],\n",
    "    \"designers\":[\n",
    "        {\n",
    "            \"id_profissional\":\"1245\",\n",
    "            \"nm_profissional\":\"Mario Papini\"}],\n",
    "    \"vl_tempo_jogo\":120,\n",
    "    \"idade_minima\":14,\n",
    "    \"qt_tem\":68,\n",
    "    \"qt_teve\":34,\n",
    "    \"qt_favorito\":5,\n",
    "    \"qt_quer\":100,\n",
    "    \"qt_jogou\":103}\n",
    "\n",
    "print(De_Vulgari_Eloquentia)"
   ]
  },
  {
   "cell_type": "code",
   "execution_count": 37,
   "metadata": {},
   "outputs": [
    {
     "name": "stdout",
     "output_type": "stream",
     "text": [
      "<pymongo.results.InsertOneResult object at 0x0000023638FAB0A0>\n",
      "6330dc364571c8ffc75eff5b\n",
      "<class 'pymongo.results.InsertOneResult'>\n"
     ]
    }
   ],
   "source": [
    "# Inserir documento (equivalente à tabela)\n",
    "# Todo documento pode ser visto como um arquivo JSON ou como um dicionário.\n",
    "# O objeto criado abaixo é o registro da inserção.\n",
    "\n",
    "Inserção = ExampleCol.insert_one(De_Vulgari_Eloquentia)\n",
    "print(Inserção)\n",
    "print(Inserção.inserted_id)\n",
    "print(type(Inserção))"
   ]
  }
 ],
 "metadata": {
  "kernelspec": {
   "display_name": "Python 3.10.7 64-bit (microsoft store)",
   "language": "python",
   "name": "python3"
  },
  "language_info": {
   "codemirror_mode": {
    "name": "ipython",
    "version": 3
   },
   "file_extension": ".py",
   "mimetype": "text/x-python",
   "name": "python",
   "nbconvert_exporter": "python",
   "pygments_lexer": "ipython3",
   "version": "3.10.7"
  },
  "orig_nbformat": 4,
  "vscode": {
   "interpreter": {
    "hash": "91b18657112df8a6dc2946b9dfe3559ddfc8e1e2117c2c8071424b5e043bd8e1"
   }
  }
 },
 "nbformat": 4,
 "nbformat_minor": 2
}

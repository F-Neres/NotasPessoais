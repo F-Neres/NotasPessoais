{
 "cells": [
  {
   "cell_type": "markdown",
   "metadata": {},
   "source": [
    "# Guia de Comandos SQL Aplicados em Python"
   ]
  },
  {
   "cell_type": "markdown",
   "metadata": {},
   "source": [
    "* [Demonstração](#Demo)\n",
    "* Criação\n",
    "* Adição e Remoção\n",
    "* Alteração\n",
    "* Filtros e Operadores Lógicos"
   ]
  },
  {
   "cell_type": "markdown",
   "metadata": {},
   "source": [
    "Pacotes:"
   ]
  },
  {
   "cell_type": "code",
   "execution_count": 1,
   "metadata": {},
   "outputs": [],
   "source": [
    "import os\n",
    "import sqlite3"
   ]
  },
  {
   "cell_type": "markdown",
   "metadata": {},
   "source": [
    "## Criando um exemplo com funções"
   ]
  },
  {
   "cell_type": "code",
   "execution_count": 2,
   "metadata": {},
   "outputs": [],
   "source": [
    "import random\n",
    "import time\n",
    "import datetime"
   ]
  },
  {
   "cell_type": "code",
   "execution_count": 3,
   "metadata": {},
   "outputs": [],
   "source": [
    "#Database e tabela padrões\n",
    "\n",
    "arquivo = r'../ArquivosParalelos/random_tables.db'\n",
    "tabela = 'random_table'"
   ]
  },
  {
   "cell_type": "code",
   "execution_count": 4,
   "metadata": {},
   "outputs": [],
   "source": [
    "# Função para criar um arquivo e a tabela\n",
    "\n",
    "# todas as variáveis são dadas como strings\n",
    "# \"arquivo\" é o diretório e o nome o arquivo db a ser criado\n",
    "# \"tabela\" é o nome da tabela dentro do db\n",
    "# \"colunas\" recebe os nomes das colunas juntamente com suas diretrizes.\n",
    "\n",
    "\n",
    "def create_table(arquivo,tabela,*colunas_parametros):\n",
    "    c = sqlite3.connect(arquivo).cursor() #Cria o arquivo, se ele já não existe, com a conexão e o cursor.\n",
    "    Colunas = ''\n",
    "    for i in colunas_parametros:\n",
    "        Colunas = Colunas+i+', '\n",
    "    Colunas = Colunas[0:-2] #Remove a vírgula e o espaço no final\n",
    "    c.execute(f'CREATE TABLE IF NOT EXISTS {tabela}({Colunas})')\n",
    "    c.close()"
   ]
  },
  {
   "cell_type": "code",
   "execution_count": 5,
   "metadata": {},
   "outputs": [],
   "source": [
    "# Função para inserir dados.\n",
    "\n",
    "# \"arquivo\" é uma sring com o diretório e o nome do DB\n",
    "# \"tabela\" é uma string contendo o nome da tabela\n",
    "# \"colunas\" é uma lista ou tupla com strings contendo os nomes das colunas.\n",
    "# \"valores\" é uma lista ou tupla contendo os valores a serem acrescentados, na ordem das colunas\n",
    "\n",
    "def data_insert_var(arquivo,tabela,colunas,valores):\n",
    "    conn = sqlite3.connect(arquivo)\n",
    "    c = conn.cursor()\n",
    "\n",
    "    Colunas = ''\n",
    "    for i in colunas:\n",
    "        Colunas = Colunas+i+', '\n",
    "    Colunas = Colunas[0:-2]\n",
    "    print(Colunas)\n",
    "\n",
    "    n = ''\n",
    "    for i in range(len(colunas)):\n",
    "        n = n+'?, '\n",
    "    n = n[0:-2]\n",
    "    print(n)\n",
    "\n",
    "    print('')\n",
    "    print(f\"INSERT INTO {tabela} ({Colunas}) VALUES ({n})\")\n",
    "    print(valores)\n",
    "\n",
    "    c.execute(f\"INSERT INTO {tabela} ({Colunas}) VALUES ({n})\", valores)\n",
    "    conn.commit()\n",
    "    c.close()\n",
    "    conn.close()"
   ]
  },
  {
   "cell_type": "code",
   "execution_count": 6,
   "metadata": {},
   "outputs": [],
   "source": [
    "# Função de leitura\n",
    "\n",
    "def showall(arquivo,tabela):\n",
    "    c = sqlite3.connect(arquivo).cursor()\n",
    "    c.execute(f'select * from {tabela}')\n",
    "    data = c.fetchall()\n",
    "\n",
    "    Colunas = [i[0] for i in c.execute(f'select * from {tabela}').description ]\n",
    "    print(\"Colunas\",Colunas)\n",
    "\n",
    "    for i in data:\n",
    "        linha = []\n",
    "        for j,k in zip(Colunas,i):\n",
    "            linha.append(f\"{j}: {k}\")\n",
    "        print(linha)\n",
    "\n",
    "    c.close()"
   ]
  },
  {
   "cell_type": "code",
   "execution_count": 7,
   "metadata": {},
   "outputs": [
    {
     "name": "stdout",
     "output_type": "stream",
     "text": [
      "Produto, Valor, Data, Vendido\n",
      "?, ?, ?, ?\n",
      "\n",
      "INSERT INTO random_table (Produto, Valor, Data, Vendido) VALUES (?, ?, ?, ?)\n",
      "('CPU', 63, datetime.datetime(2022, 9, 13, 20, 31, 38, 756116), 1)\n",
      "Produto, Valor, Data, Vendido\n",
      "?, ?, ?, ?\n",
      "\n",
      "INSERT INTO random_table (Produto, Valor, Data, Vendido) VALUES (?, ?, ?, ?)\n",
      "('Teclado', 64, datetime.datetime(2022, 9, 13, 20, 31, 38, 763111), 0)\n",
      "Produto, Valor, Data, Vendido\n",
      "?, ?, ?, ?\n",
      "\n",
      "INSERT INTO random_table (Produto, Valor, Data, Vendido) VALUES (?, ?, ?, ?)\n",
      "('Monitor', 65, datetime.datetime(2022, 9, 13, 20, 31, 38, 778102), 0)\n",
      "Produto, Valor, Data, Vendido\n",
      "?, ?, ?, ?\n",
      "\n",
      "INSERT INTO random_table (Produto, Valor, Data, Vendido) VALUES (?, ?, ?, ?)\n",
      "('CPU', 56, datetime.datetime(2022, 9, 13, 20, 31, 38, 788095), 0)\n",
      "Produto, Valor, Data, Vendido\n",
      "?, ?, ?, ?\n",
      "\n",
      "INSERT INTO random_table (Produto, Valor, Data, Vendido) VALUES (?, ?, ?, ?)\n",
      "('Mouse', 61, datetime.datetime(2022, 9, 13, 20, 31, 38, 802088), 1)\n",
      "Produto, Valor, Data, Vendido\n",
      "?, ?, ?, ?\n",
      "\n",
      "INSERT INTO random_table (Produto, Valor, Data, Vendido) VALUES (?, ?, ?, ?)\n",
      "('Monitor', 66, datetime.datetime(2022, 9, 13, 20, 31, 38, 819076), 1)\n",
      "Produto, Valor, Data, Vendido\n",
      "?, ?, ?, ?\n",
      "\n",
      "INSERT INTO random_table (Produto, Valor, Data, Vendido) VALUES (?, ?, ?, ?)\n",
      "('Monitor', 53, datetime.datetime(2022, 9, 13, 20, 31, 38, 828073), 0)\n",
      "Produto, Valor, Data, Vendido\n",
      "?, ?, ?, ?\n",
      "\n",
      "INSERT INTO random_table (Produto, Valor, Data, Vendido) VALUES (?, ?, ?, ?)\n",
      "('CPU', 54, datetime.datetime(2022, 9, 13, 20, 31, 38, 846060), 0)\n",
      "Produto, Valor, Data, Vendido\n",
      "?, ?, ?, ?\n",
      "\n",
      "INSERT INTO random_table (Produto, Valor, Data, Vendido) VALUES (?, ?, ?, ?)\n",
      "('Monitor', 76, datetime.datetime(2022, 9, 13, 20, 31, 38, 860070), 1)\n",
      "Produto, Valor, Data, Vendido\n",
      "?, ?, ?, ?\n",
      "\n",
      "INSERT INTO random_table (Produto, Valor, Data, Vendido) VALUES (?, ?, ?, ?)\n",
      "('Teclado', 97, datetime.datetime(2022, 9, 13, 20, 31, 38, 877050), 1)\n",
      "Produto, Valor, Data, Vendido\n",
      "?, ?, ?, ?\n",
      "\n",
      "INSERT INTO random_table (Produto, Valor, Data, Vendido) VALUES (?, ?, ?, ?)\n",
      "('Mouse', 52, datetime.datetime(2022, 9, 13, 20, 31, 38, 922013), 0)\n",
      "Produto, Valor, Data, Vendido\n",
      "?, ?, ?, ?\n",
      "\n",
      "INSERT INTO random_table (Produto, Valor, Data, Vendido) VALUES (?, ?, ?, ?)\n",
      "('CPU', 63, datetime.datetime(2022, 9, 13, 20, 31, 38, 935004), 1)\n",
      "Produto, Valor, Data, Vendido\n",
      "?, ?, ?, ?\n",
      "\n",
      "INSERT INTO random_table (Produto, Valor, Data, Vendido) VALUES (?, ?, ?, ?)\n",
      "('CPU', 99, datetime.datetime(2022, 9, 13, 20, 31, 38, 949994), 1)\n",
      "Produto, Valor, Data, Vendido\n",
      "?, ?, ?, ?\n",
      "\n",
      "INSERT INTO random_table (Produto, Valor, Data, Vendido) VALUES (?, ?, ?, ?)\n",
      "('CPU', 61, datetime.datetime(2022, 9, 13, 20, 31, 39, 2962), 1)\n",
      "Produto, Valor, Data, Vendido\n",
      "?, ?, ?, ?\n",
      "\n",
      "INSERT INTO random_table (Produto, Valor, Data, Vendido) VALUES (?, ?, ?, ?)\n",
      "('Teclado', 77, datetime.datetime(2022, 9, 13, 20, 31, 39, 13956), 1)\n",
      "Produto, Valor, Data, Vendido\n",
      "?, ?, ?, ?\n",
      "\n",
      "INSERT INTO random_table (Produto, Valor, Data, Vendido) VALUES (?, ?, ?, ?)\n",
      "('Monitor', 61, datetime.datetime(2022, 9, 13, 20, 31, 39, 20427), 0)\n",
      "Produto, Valor, Data, Vendido\n",
      "?, ?, ?, ?\n",
      "\n",
      "INSERT INTO random_table (Produto, Valor, Data, Vendido) VALUES (?, ?, ?, ?)\n",
      "('Mouse', 71, datetime.datetime(2022, 9, 13, 20, 31, 39, 28423), 1)\n",
      "Produto, Valor, Data, Vendido\n",
      "?, ?, ?, ?\n",
      "\n",
      "INSERT INTO random_table (Produto, Valor, Data, Vendido) VALUES (?, ?, ?, ?)\n",
      "('CPU', 70, datetime.datetime(2022, 9, 13, 20, 31, 39, 39415), 1)\n",
      "Produto, Valor, Data, Vendido\n",
      "?, ?, ?, ?\n",
      "\n",
      "INSERT INTO random_table (Produto, Valor, Data, Vendido) VALUES (?, ?, ?, ?)\n",
      "('Monitor', 80, datetime.datetime(2022, 9, 13, 20, 31, 39, 50408), 1)\n",
      "Produto, Valor, Data, Vendido\n",
      "?, ?, ?, ?\n",
      "\n",
      "INSERT INTO random_table (Produto, Valor, Data, Vendido) VALUES (?, ?, ?, ?)\n",
      "('CPU', 95, datetime.datetime(2022, 9, 13, 20, 31, 39, 57403), 0)\n"
     ]
    }
   ],
   "source": [
    "# Criando uma tabela-pai aletória\n",
    "\n",
    "os.remove(r'../ArquivosParalelos/random_tables.db') if os.path.exists(r'../ArquivosParalelos/random_tables.db') else None\n",
    "\n",
    "n = 20 #Número de observações\n",
    "\n",
    "create_table(arquivo,tabela,\"ID INTEGER PRIMARY KEY AUTOINCREMENT NOT NULL\",\"Produto TEXT\",\"Valor REAL\",\"Data DATE\",\"Vendido BIT NOT NULL\")\n",
    "#create_table(arquivo,tabela,\"ID INTEGER PRIMARY KEY NOT NULL\",\"Produto TEXT\",\"Valor REAL\",\"Data TEXT\")\n",
    "\n",
    "for i in range(n): #cria n itens na lista.\n",
    "    new_date = datetime.datetime.now() #cria um objeto contendo a data e a hora atuais.\n",
    "    new_prod_name = random.choice(['Monitor', 'CPU', 'Teclado','Mouse']) #Escolhe um item na lista.\n",
    "    new_value = random.randrange(50,100) #Escolhe um preço para ser um valor do item.\n",
    "    new_bool = random.choice([0,1]) #Escolhe um valor bit aleatório\n",
    "\n",
    "    valores = (new_prod_name,new_value,new_date,new_bool)\n",
    "\n",
    "    data_insert_var(arquivo,tabela,('Produto','Valor','Data','Vendido'),valores)\n",
    "\n",
    "    time.sleep(0) #aguarda."
   ]
  },
  {
   "cell_type": "code",
   "execution_count": 8,
   "metadata": {},
   "outputs": [
    {
     "name": "stdout",
     "output_type": "stream",
     "text": [
      "[('CPU',), ('Teclado',), ('Monitor',), ('CPU',), ('Mouse',), ('Monitor',), ('Monitor',), ('CPU',), ('Monitor',), ('Teclado',), ('Mouse',), ('CPU',), ('CPU',), ('CPU',), ('Teclado',), ('Monitor',), ('Mouse',), ('CPU',), ('Monitor',), ('CPU',)]\n"
     ]
    }
   ],
   "source": [
    "Query = \"SELECT Produto FROM random_table\"\n",
    "\n",
    "print(sqlite3.connect(arquivo).cursor().execute(Query).fetchall())"
   ]
  },
  {
   "cell_type": "code",
   "execution_count": 9,
   "metadata": {},
   "outputs": [
    {
     "name": "stdout",
     "output_type": "stream",
     "text": [
      "[1, 2, 3, 4, 5, 6, 7, 8, 9, 10, 11, 12, 13, 14, 15, 16, 17, 18, 19, 20]\n",
      "Desconto, Data, ProdutoID\n",
      "?, ?, ?\n",
      "\n",
      "INSERT INTO child_table (Desconto, Data, ProdutoID) VALUES (?, ?, ?)\n",
      "(19, datetime.datetime(2022, 9, 13, 20, 31, 41, 552253), 16)\n",
      "Desconto, Data, ProdutoID\n",
      "?, ?, ?\n",
      "\n",
      "INSERT INTO child_table (Desconto, Data, ProdutoID) VALUES (?, ?, ?)\n",
      "(6, datetime.datetime(2022, 9, 13, 20, 31, 41, 559247), 2)\n",
      "Desconto, Data, ProdutoID\n",
      "?, ?, ?\n",
      "\n",
      "INSERT INTO child_table (Desconto, Data, ProdutoID) VALUES (?, ?, ?)\n",
      "(0, datetime.datetime(2022, 9, 13, 20, 31, 41, 567242), 6)\n",
      "Desconto, Data, ProdutoID\n",
      "?, ?, ?\n",
      "\n",
      "INSERT INTO child_table (Desconto, Data, ProdutoID) VALUES (?, ?, ?)\n",
      "(1, datetime.datetime(2022, 9, 13, 20, 31, 41, 656185), 9)\n",
      "Desconto, Data, ProdutoID\n",
      "?, ?, ?\n",
      "\n",
      "INSERT INTO child_table (Desconto, Data, ProdutoID) VALUES (?, ?, ?)\n",
      "(16, datetime.datetime(2022, 9, 13, 20, 31, 41, 666180), 12)\n",
      "Desconto, Data, ProdutoID\n",
      "?, ?, ?\n",
      "\n",
      "INSERT INTO child_table (Desconto, Data, ProdutoID) VALUES (?, ?, ?)\n",
      "(19, datetime.datetime(2022, 9, 13, 20, 31, 41, 676173), 1)\n",
      "Desconto, Data, ProdutoID\n",
      "?, ?, ?\n",
      "\n",
      "INSERT INTO child_table (Desconto, Data, ProdutoID) VALUES (?, ?, ?)\n",
      "(24, datetime.datetime(2022, 9, 13, 20, 31, 41, 686168), 20)\n",
      "Desconto, Data, ProdutoID\n",
      "?, ?, ?\n",
      "\n",
      "INSERT INTO child_table (Desconto, Data, ProdutoID) VALUES (?, ?, ?)\n",
      "(5, datetime.datetime(2022, 9, 13, 20, 31, 41, 698160), 4)\n",
      "Desconto, Data, ProdutoID\n",
      "?, ?, ?\n",
      "\n",
      "INSERT INTO child_table (Desconto, Data, ProdutoID) VALUES (?, ?, ?)\n",
      "(22, datetime.datetime(2022, 9, 13, 20, 31, 41, 709153), 8)\n",
      "Desconto, Data, ProdutoID\n",
      "?, ?, ?\n",
      "\n",
      "INSERT INTO child_table (Desconto, Data, ProdutoID) VALUES (?, ?, ?)\n",
      "(1, datetime.datetime(2022, 9, 13, 20, 31, 41, 739135), 20)\n",
      "Desconto, Data, ProdutoID\n",
      "?, ?, ?\n",
      "\n",
      "INSERT INTO child_table (Desconto, Data, ProdutoID) VALUES (?, ?, ?)\n",
      "(4, datetime.datetime(2022, 9, 13, 20, 31, 41, 752127), 18)\n",
      "Desconto, Data, ProdutoID\n",
      "?, ?, ?\n",
      "\n",
      "INSERT INTO child_table (Desconto, Data, ProdutoID) VALUES (?, ?, ?)\n",
      "(24, datetime.datetime(2022, 9, 13, 20, 31, 41, 760121), 2)\n",
      "Desconto, Data, ProdutoID\n",
      "?, ?, ?\n",
      "\n",
      "INSERT INTO child_table (Desconto, Data, ProdutoID) VALUES (?, ?, ?)\n",
      "(14, datetime.datetime(2022, 9, 13, 20, 31, 41, 790106), 4)\n",
      "Desconto, Data, ProdutoID\n",
      "?, ?, ?\n",
      "\n",
      "INSERT INTO child_table (Desconto, Data, ProdutoID) VALUES (?, ?, ?)\n",
      "(2, datetime.datetime(2022, 9, 13, 20, 31, 41, 798098), 1)\n",
      "Desconto, Data, ProdutoID\n",
      "?, ?, ?\n",
      "\n",
      "INSERT INTO child_table (Desconto, Data, ProdutoID) VALUES (?, ?, ?)\n",
      "(18, datetime.datetime(2022, 9, 13, 20, 31, 41, 808094), 15)\n",
      "Desconto, Data, ProdutoID\n",
      "?, ?, ?\n",
      "\n",
      "INSERT INTO child_table (Desconto, Data, ProdutoID) VALUES (?, ?, ?)\n",
      "(11, datetime.datetime(2022, 9, 13, 20, 31, 41, 816088), 13)\n",
      "Desconto, Data, ProdutoID\n",
      "?, ?, ?\n",
      "\n",
      "INSERT INTO child_table (Desconto, Data, ProdutoID) VALUES (?, ?, ?)\n",
      "(15, datetime.datetime(2022, 9, 13, 20, 31, 41, 827080), 18)\n",
      "Desconto, Data, ProdutoID\n",
      "?, ?, ?\n",
      "\n",
      "INSERT INTO child_table (Desconto, Data, ProdutoID) VALUES (?, ?, ?)\n",
      "(14, datetime.datetime(2022, 9, 13, 20, 31, 41, 846069), 8)\n",
      "Desconto, Data, ProdutoID\n",
      "?, ?, ?\n",
      "\n",
      "INSERT INTO child_table (Desconto, Data, ProdutoID) VALUES (?, ?, ?)\n",
      "(18, datetime.datetime(2022, 9, 13, 20, 31, 41, 859061), 12)\n",
      "Desconto, Data, ProdutoID\n",
      "?, ?, ?\n",
      "\n",
      "INSERT INTO child_table (Desconto, Data, ProdutoID) VALUES (?, ?, ?)\n",
      "(10, datetime.datetime(2022, 9, 13, 20, 31, 41, 887044), 20)\n",
      "Desconto, Data, ProdutoID\n",
      "?, ?, ?\n",
      "\n",
      "INSERT INTO child_table (Desconto, Data, ProdutoID) VALUES (?, ?, ?)\n",
      "(6, datetime.datetime(2022, 9, 13, 20, 31, 41, 912028), 2)\n",
      "Desconto, Data, ProdutoID\n",
      "?, ?, ?\n",
      "\n",
      "INSERT INTO child_table (Desconto, Data, ProdutoID) VALUES (?, ?, ?)\n",
      "(6, datetime.datetime(2022, 9, 13, 20, 31, 41, 922022), 20)\n",
      "Desconto, Data, ProdutoID\n",
      "?, ?, ?\n",
      "\n",
      "INSERT INTO child_table (Desconto, Data, ProdutoID) VALUES (?, ?, ?)\n",
      "(13, datetime.datetime(2022, 9, 13, 20, 31, 41, 937012), 2)\n",
      "Desconto, Data, ProdutoID\n",
      "?, ?, ?\n",
      "\n",
      "INSERT INTO child_table (Desconto, Data, ProdutoID) VALUES (?, ?, ?)\n",
      "(8, datetime.datetime(2022, 9, 13, 20, 31, 41, 976987), 13)\n",
      "Desconto, Data, ProdutoID\n",
      "?, ?, ?\n",
      "\n",
      "INSERT INTO child_table (Desconto, Data, ProdutoID) VALUES (?, ?, ?)\n",
      "(15, datetime.datetime(2022, 9, 13, 20, 31, 42, 101910), 8)\n",
      "Desconto, Data, ProdutoID\n",
      "?, ?, ?\n",
      "\n",
      "INSERT INTO child_table (Desconto, Data, ProdutoID) VALUES (?, ?, ?)\n",
      "(1, datetime.datetime(2022, 9, 13, 20, 31, 42, 158873), 4)\n",
      "Desconto, Data, ProdutoID\n",
      "?, ?, ?\n",
      "\n",
      "INSERT INTO child_table (Desconto, Data, ProdutoID) VALUES (?, ?, ?)\n",
      "(2, datetime.datetime(2022, 9, 13, 20, 31, 42, 169868), 19)\n",
      "Desconto, Data, ProdutoID\n",
      "?, ?, ?\n",
      "\n",
      "INSERT INTO child_table (Desconto, Data, ProdutoID) VALUES (?, ?, ?)\n",
      "(8, datetime.datetime(2022, 9, 13, 20, 31, 42, 179861), 8)\n",
      "Desconto, Data, ProdutoID\n",
      "?, ?, ?\n",
      "\n",
      "INSERT INTO child_table (Desconto, Data, ProdutoID) VALUES (?, ?, ?)\n",
      "(3, datetime.datetime(2022, 9, 13, 20, 31, 42, 188855), 14)\n",
      "Desconto, Data, ProdutoID\n",
      "?, ?, ?\n",
      "\n",
      "INSERT INTO child_table (Desconto, Data, ProdutoID) VALUES (?, ?, ?)\n",
      "(18, datetime.datetime(2022, 9, 13, 20, 31, 42, 215839), 8)\n"
     ]
    }
   ],
   "source": [
    "# Criando uma tabela-filha aletória\n",
    "\n",
    "Produtos = sqlite3.connect(arquivo).cursor().execute(\"SELECT ID FROM random_table\").fetchall()\n",
    "ProdID = [i[0] for i in Produtos]\n",
    "#for i in Produtos:\n",
    "#    ProdID.append(i[0])\n",
    "print(ProdID)\n",
    "\n",
    "Query = \"CREATE TABLE IF NOT EXISTS child_table (ID INTEGER PRIMARY KEY AUTOINCREMENT NOT NULL, Desconto REAL, Data DATE, ProdutoID INTEGER NOT NULL, FOREIGN KEY (ProdutoID) REFERENCES random_table(ID))\"\n",
    "\n",
    "conn = sqlite3.connect(arquivo)\n",
    "curs = conn.cursor()\n",
    "curs.execute(Query)\n",
    "conn.commit()\n",
    "curs.close()\n",
    "conn.close()\n",
    "\n",
    "n=30\n",
    "for i in range(n): #cria n itens na lista.\n",
    "    new_date = datetime.datetime.now() #cria um objeto contendo a data e a hora atuais.\n",
    "    new_value = random.randrange(0,25) #Escolhe um preço para ser um valor do item.\n",
    "    new_from_list = random.choice(ProdID) #Escolhe um valor bit aleatório\n",
    "\n",
    "    valores = (new_value,new_date,new_from_list)\n",
    "\n",
    "    data_insert_var(arquivo,'child_table',('Desconto','Data','ProdutoID'),valores)"
   ]
  },
  {
   "cell_type": "code",
   "execution_count": 10,
   "metadata": {},
   "outputs": [
    {
     "name": "stdout",
     "output_type": "stream",
     "text": [
      "Colunas ['ID', 'Produto', 'Valor', 'Data', 'Vendido']\n",
      "['ID: 1', 'Produto: CPU', 'Valor: 63.0', 'Data: 2022-09-13 20:31:38.756116', 'Vendido: 1']\n",
      "['ID: 2', 'Produto: Teclado', 'Valor: 64.0', 'Data: 2022-09-13 20:31:38.763111', 'Vendido: 0']\n",
      "['ID: 3', 'Produto: Monitor', 'Valor: 65.0', 'Data: 2022-09-13 20:31:38.778102', 'Vendido: 0']\n",
      "['ID: 4', 'Produto: CPU', 'Valor: 56.0', 'Data: 2022-09-13 20:31:38.788095', 'Vendido: 0']\n",
      "['ID: 5', 'Produto: Mouse', 'Valor: 61.0', 'Data: 2022-09-13 20:31:38.802088', 'Vendido: 1']\n",
      "['ID: 6', 'Produto: Monitor', 'Valor: 66.0', 'Data: 2022-09-13 20:31:38.819076', 'Vendido: 1']\n",
      "['ID: 7', 'Produto: Monitor', 'Valor: 53.0', 'Data: 2022-09-13 20:31:38.828073', 'Vendido: 0']\n",
      "['ID: 8', 'Produto: CPU', 'Valor: 54.0', 'Data: 2022-09-13 20:31:38.846060', 'Vendido: 0']\n",
      "['ID: 9', 'Produto: Monitor', 'Valor: 76.0', 'Data: 2022-09-13 20:31:38.860070', 'Vendido: 1']\n",
      "['ID: 10', 'Produto: Teclado', 'Valor: 97.0', 'Data: 2022-09-13 20:31:38.877050', 'Vendido: 1']\n",
      "['ID: 11', 'Produto: Mouse', 'Valor: 52.0', 'Data: 2022-09-13 20:31:38.922013', 'Vendido: 0']\n",
      "['ID: 12', 'Produto: CPU', 'Valor: 63.0', 'Data: 2022-09-13 20:31:38.935004', 'Vendido: 1']\n",
      "['ID: 13', 'Produto: CPU', 'Valor: 99.0', 'Data: 2022-09-13 20:31:38.949994', 'Vendido: 1']\n",
      "['ID: 14', 'Produto: CPU', 'Valor: 61.0', 'Data: 2022-09-13 20:31:39.002962', 'Vendido: 1']\n",
      "['ID: 15', 'Produto: Teclado', 'Valor: 77.0', 'Data: 2022-09-13 20:31:39.013956', 'Vendido: 1']\n",
      "['ID: 16', 'Produto: Monitor', 'Valor: 61.0', 'Data: 2022-09-13 20:31:39.020427', 'Vendido: 0']\n",
      "['ID: 17', 'Produto: Mouse', 'Valor: 71.0', 'Data: 2022-09-13 20:31:39.028423', 'Vendido: 1']\n",
      "['ID: 18', 'Produto: CPU', 'Valor: 70.0', 'Data: 2022-09-13 20:31:39.039415', 'Vendido: 1']\n",
      "['ID: 19', 'Produto: Monitor', 'Valor: 80.0', 'Data: 2022-09-13 20:31:39.050408', 'Vendido: 1']\n",
      "['ID: 20', 'Produto: CPU', 'Valor: 95.0', 'Data: 2022-09-13 20:31:39.057403', 'Vendido: 0']\n"
     ]
    }
   ],
   "source": [
    "# Vendo a tabela.\n",
    "\n",
    "showall(arquivo,tabela)"
   ]
  },
  {
   "cell_type": "code",
   "execution_count": 11,
   "metadata": {},
   "outputs": [
    {
     "name": "stdout",
     "output_type": "stream",
     "text": [
      "Colunas ['ID', 'Desconto', 'Data', 'ProdutoID']\n",
      "['ID: 1', 'Desconto: 19.0', 'Data: 2022-09-13 20:31:41.552253', 'ProdutoID: 16']\n",
      "['ID: 2', 'Desconto: 6.0', 'Data: 2022-09-13 20:31:41.559247', 'ProdutoID: 2']\n",
      "['ID: 3', 'Desconto: 0.0', 'Data: 2022-09-13 20:31:41.567242', 'ProdutoID: 6']\n",
      "['ID: 4', 'Desconto: 1.0', 'Data: 2022-09-13 20:31:41.656185', 'ProdutoID: 9']\n",
      "['ID: 5', 'Desconto: 16.0', 'Data: 2022-09-13 20:31:41.666180', 'ProdutoID: 12']\n",
      "['ID: 6', 'Desconto: 19.0', 'Data: 2022-09-13 20:31:41.676173', 'ProdutoID: 1']\n",
      "['ID: 7', 'Desconto: 24.0', 'Data: 2022-09-13 20:31:41.686168', 'ProdutoID: 20']\n",
      "['ID: 8', 'Desconto: 5.0', 'Data: 2022-09-13 20:31:41.698160', 'ProdutoID: 4']\n",
      "['ID: 9', 'Desconto: 22.0', 'Data: 2022-09-13 20:31:41.709153', 'ProdutoID: 8']\n",
      "['ID: 10', 'Desconto: 1.0', 'Data: 2022-09-13 20:31:41.739135', 'ProdutoID: 20']\n",
      "['ID: 11', 'Desconto: 4.0', 'Data: 2022-09-13 20:31:41.752127', 'ProdutoID: 18']\n",
      "['ID: 12', 'Desconto: 24.0', 'Data: 2022-09-13 20:31:41.760121', 'ProdutoID: 2']\n",
      "['ID: 13', 'Desconto: 14.0', 'Data: 2022-09-13 20:31:41.790106', 'ProdutoID: 4']\n",
      "['ID: 14', 'Desconto: 2.0', 'Data: 2022-09-13 20:31:41.798098', 'ProdutoID: 1']\n",
      "['ID: 15', 'Desconto: 18.0', 'Data: 2022-09-13 20:31:41.808094', 'ProdutoID: 15']\n",
      "['ID: 16', 'Desconto: 11.0', 'Data: 2022-09-13 20:31:41.816088', 'ProdutoID: 13']\n",
      "['ID: 17', 'Desconto: 15.0', 'Data: 2022-09-13 20:31:41.827080', 'ProdutoID: 18']\n",
      "['ID: 18', 'Desconto: 14.0', 'Data: 2022-09-13 20:31:41.846069', 'ProdutoID: 8']\n",
      "['ID: 19', 'Desconto: 18.0', 'Data: 2022-09-13 20:31:41.859061', 'ProdutoID: 12']\n",
      "['ID: 20', 'Desconto: 10.0', 'Data: 2022-09-13 20:31:41.887044', 'ProdutoID: 20']\n",
      "['ID: 21', 'Desconto: 6.0', 'Data: 2022-09-13 20:31:41.912028', 'ProdutoID: 2']\n",
      "['ID: 22', 'Desconto: 6.0', 'Data: 2022-09-13 20:31:41.922022', 'ProdutoID: 20']\n",
      "['ID: 23', 'Desconto: 13.0', 'Data: 2022-09-13 20:31:41.937012', 'ProdutoID: 2']\n",
      "['ID: 24', 'Desconto: 8.0', 'Data: 2022-09-13 20:31:41.976987', 'ProdutoID: 13']\n",
      "['ID: 25', 'Desconto: 15.0', 'Data: 2022-09-13 20:31:42.101910', 'ProdutoID: 8']\n",
      "['ID: 26', 'Desconto: 1.0', 'Data: 2022-09-13 20:31:42.158873', 'ProdutoID: 4']\n",
      "['ID: 27', 'Desconto: 2.0', 'Data: 2022-09-13 20:31:42.169868', 'ProdutoID: 19']\n",
      "['ID: 28', 'Desconto: 8.0', 'Data: 2022-09-13 20:31:42.179861', 'ProdutoID: 8']\n",
      "['ID: 29', 'Desconto: 3.0', 'Data: 2022-09-13 20:31:42.188855', 'ProdutoID: 14']\n",
      "['ID: 30', 'Desconto: 18.0', 'Data: 2022-09-13 20:31:42.215839', 'ProdutoID: 8']\n"
     ]
    }
   ],
   "source": [
    "showall(arquivo,'child_table')"
   ]
  },
  {
   "cell_type": "code",
   "execution_count": 12,
   "metadata": {},
   "outputs": [],
   "source": [
    "# Função para mostrar apenas o Fetchall\n",
    "\n",
    "def Execute_and_Show(Query,arquivo):\n",
    "    Cursor = sqlite3.connect(arquivo).cursor()\n",
    "    Cursor.execute(Query)\n",
    "    for i in Cursor.execute(Query).description:\n",
    "        print(i)\n",
    "    print()\n",
    "    for i in Cursor.fetchall():\n",
    "        print(i)\n",
    "    Cursor.close()"
   ]
  },
  {
   "cell_type": "code",
   "execution_count": 13,
   "metadata": {},
   "outputs": [],
   "source": [
    "# Função para executar e enviar ao DB.\n",
    "\n",
    "def Execute_and_Commit(Query,arquivo,tabela):\n",
    "    Conn = sqlite3.connect(arquivo)\n",
    "    Cursor = Conn.cursor()\n",
    "    Cursor.execute(Query)\n",
    "    Conn.commit()\n",
    "    Cursor.close()\n",
    "    Conn.close()\n",
    "    showall(arquivo,tabela)"
   ]
  },
  {
   "cell_type": "markdown",
   "metadata": {},
   "source": [
    "## Queries"
   ]
  },
  {
   "cell_type": "markdown",
   "metadata": {},
   "source": [
    "<a id='Demo'></a>\n",
    "### Demonstração"
   ]
  },
  {
   "cell_type": "code",
   "execution_count": 14,
   "metadata": {},
   "outputs": [
    {
     "name": "stdout",
     "output_type": "stream",
     "text": [
      "('ID', None, None, None, None, None, None)\n",
      "('Produto', None, None, None, None, None, None)\n",
      "('Valor', None, None, None, None, None, None)\n",
      "('Data', None, None, None, None, None, None)\n",
      "('Vendido', None, None, None, None, None, None)\n",
      "\n",
      "(1, 'CPU', 63.0, '2022-09-13 20:31:38.756116', 1)\n",
      "(2, 'Teclado', 64.0, '2022-09-13 20:31:38.763111', 0)\n",
      "(3, 'Monitor', 65.0, '2022-09-13 20:31:38.778102', 0)\n",
      "(4, 'CPU', 56.0, '2022-09-13 20:31:38.788095', 0)\n",
      "(5, 'Mouse', 61.0, '2022-09-13 20:31:38.802088', 1)\n",
      "(6, 'Monitor', 66.0, '2022-09-13 20:31:38.819076', 1)\n",
      "(7, 'Monitor', 53.0, '2022-09-13 20:31:38.828073', 0)\n",
      "(8, 'CPU', 54.0, '2022-09-13 20:31:38.846060', 0)\n",
      "(9, 'Monitor', 76.0, '2022-09-13 20:31:38.860070', 1)\n",
      "(10, 'Teclado', 97.0, '2022-09-13 20:31:38.877050', 1)\n",
      "(11, 'Mouse', 52.0, '2022-09-13 20:31:38.922013', 0)\n",
      "(12, 'CPU', 63.0, '2022-09-13 20:31:38.935004', 1)\n",
      "(13, 'CPU', 99.0, '2022-09-13 20:31:38.949994', 1)\n",
      "(14, 'CPU', 61.0, '2022-09-13 20:31:39.002962', 1)\n",
      "(15, 'Teclado', 77.0, '2022-09-13 20:31:39.013956', 1)\n",
      "(16, 'Monitor', 61.0, '2022-09-13 20:31:39.020427', 0)\n",
      "(17, 'Mouse', 71.0, '2022-09-13 20:31:39.028423', 1)\n",
      "(18, 'CPU', 70.0, '2022-09-13 20:31:39.039415', 1)\n",
      "(19, 'Monitor', 80.0, '2022-09-13 20:31:39.050408', 1)\n",
      "(20, 'CPU', 95.0, '2022-09-13 20:31:39.057403', 0)\n"
     ]
    }
   ],
   "source": [
    "# Mostrar todos os dados\n",
    "\n",
    "Query = \"SELECT * FROM random_table\"\n",
    "\n",
    "Execute_and_Show(Query,arquivo)"
   ]
  },
  {
   "cell_type": "code",
   "execution_count": 15,
   "metadata": {},
   "outputs": [
    {
     "name": "stdout",
     "output_type": "stream",
     "text": [
      "('Produto', None, None, None, None, None, None)\n",
      "('Valor', None, None, None, None, None, None)\n",
      "\n",
      "('CPU', 63.0)\n",
      "('Teclado', 64.0)\n",
      "('Monitor', 65.0)\n",
      "('CPU', 56.0)\n",
      "('Mouse', 61.0)\n",
      "('Monitor', 66.0)\n",
      "('Monitor', 53.0)\n",
      "('CPU', 54.0)\n",
      "('Monitor', 76.0)\n",
      "('Teclado', 97.0)\n",
      "('Mouse', 52.0)\n",
      "('CPU', 63.0)\n",
      "('CPU', 99.0)\n",
      "('CPU', 61.0)\n",
      "('Teclado', 77.0)\n",
      "('Monitor', 61.0)\n",
      "('Mouse', 71.0)\n",
      "('CPU', 70.0)\n",
      "('Monitor', 80.0)\n",
      "('CPU', 95.0)\n"
     ]
    }
   ],
   "source": [
    "# Mostrar algumas colunas\n",
    "\n",
    "Query = \"SELECT Produto, Valor FROM random_table\"\n",
    "\n",
    "Execute_and_Show(Query,arquivo)"
   ]
  },
  {
   "cell_type": "code",
   "execution_count": 16,
   "metadata": {},
   "outputs": [
    {
     "name": "stdout",
     "output_type": "stream",
     "text": [
      "('Produto', None, None, None, None, None, None)\n",
      "('Valor', None, None, None, None, None, None)\n",
      "\n",
      "('CPU', 63.0)\n",
      "('Monitor', 65.0)\n",
      "('CPU', 56.0)\n",
      "('Monitor', 66.0)\n",
      "('Monitor', 53.0)\n",
      "('CPU', 54.0)\n",
      "('Monitor', 76.0)\n",
      "('CPU', 63.0)\n",
      "('CPU', 99.0)\n",
      "('CPU', 61.0)\n",
      "('Monitor', 61.0)\n",
      "('CPU', 70.0)\n",
      "('Monitor', 80.0)\n",
      "('CPU', 95.0)\n"
     ]
    }
   ],
   "source": [
    "# Mostrar dados que correspondam a determinados valores\n",
    "# Usando operadores lógicos\n",
    "\n",
    "Query = \"SELECT Produto, Valor FROM random_table WHERE Produto = 'Monitor' OR Produto = 'CPU'\"\n",
    "\n",
    "Execute_and_Show(Query,arquivo)"
   ]
  },
  {
   "cell_type": "code",
   "execution_count": 17,
   "metadata": {},
   "outputs": [
    {
     "name": "stdout",
     "output_type": "stream",
     "text": [
      "('name', None, None, None, None, None, None)\n",
      "\n",
      "('random_table',)\n",
      "('sqlite_sequence',)\n",
      "('child_table',)\n"
     ]
    }
   ],
   "source": [
    "# Selecionar os nomes das tabelas da tabela \"sqlite_master\"\n",
    "\n",
    "Query = 'SELECT name FROM sqlite_master WHERE type = \"table\"'\n",
    "\n",
    "Execute_and_Show(Query,arquivo)"
   ]
  },
  {
   "cell_type": "code",
   "execution_count": 18,
   "metadata": {},
   "outputs": [
    {
     "name": "stdout",
     "output_type": "stream",
     "text": [
      "('Produto', None, None, None, None, None, None)\n",
      "('Vendido', None, None, None, None, None, None)\n",
      "\n",
      "('CPU', 1)\n",
      "('Teclado', 0)\n",
      "('Monitor', 0)\n",
      "('CPU', 0)\n",
      "('Mouse', 1)\n",
      "('Monitor', 1)\n",
      "('Teclado', 1)\n",
      "('Mouse', 0)\n"
     ]
    }
   ],
   "source": [
    "# DISTINCT\n",
    "# Filtra os dados repetidos\n",
    "# É filtrado apenas as combinações repetidas\n",
    "\n",
    "Query = \"SELECT DISTINCT Produto, Vendido FROM random_table\"\n",
    "\n",
    "Execute_and_Show(Query,arquivo)"
   ]
  },
  {
   "cell_type": "code",
   "execution_count": 19,
   "metadata": {},
   "outputs": [
    {
     "name": "stdout",
     "output_type": "stream",
     "text": [
      "('ID', None, None, None, None, None, None)\n",
      "('Produto', None, None, None, None, None, None)\n",
      "('Valor', None, None, None, None, None, None)\n",
      "('Data', None, None, None, None, None, None)\n",
      "('Vendido', None, None, None, None, None, None)\n",
      "\n",
      "(1, 'CPU', 63.0, '2022-09-13 20:31:38.756116', 1)\n",
      "(4, 'CPU', 56.0, '2022-09-13 20:31:38.788095', 0)\n",
      "(8, 'CPU', 54.0, '2022-09-13 20:31:38.846060', 0)\n",
      "(12, 'CPU', 63.0, '2022-09-13 20:31:38.935004', 1)\n",
      "(13, 'CPU', 99.0, '2022-09-13 20:31:38.949994', 1)\n",
      "(14, 'CPU', 61.0, '2022-09-13 20:31:39.002962', 1)\n",
      "(18, 'CPU', 70.0, '2022-09-13 20:31:39.039415', 1)\n",
      "(20, 'CPU', 95.0, '2022-09-13 20:31:39.057403', 0)\n",
      "(3, 'Monitor', 65.0, '2022-09-13 20:31:38.778102', 0)\n",
      "(6, 'Monitor', 66.0, '2022-09-13 20:31:38.819076', 1)\n",
      "(7, 'Monitor', 53.0, '2022-09-13 20:31:38.828073', 0)\n",
      "(9, 'Monitor', 76.0, '2022-09-13 20:31:38.860070', 1)\n",
      "(16, 'Monitor', 61.0, '2022-09-13 20:31:39.020427', 0)\n",
      "(19, 'Monitor', 80.0, '2022-09-13 20:31:39.050408', 1)\n",
      "(5, 'Mouse', 61.0, '2022-09-13 20:31:38.802088', 1)\n",
      "(11, 'Mouse', 52.0, '2022-09-13 20:31:38.922013', 0)\n",
      "(17, 'Mouse', 71.0, '2022-09-13 20:31:39.028423', 1)\n",
      "(2, 'Teclado', 64.0, '2022-09-13 20:31:38.763111', 0)\n",
      "(10, 'Teclado', 97.0, '2022-09-13 20:31:38.877050', 1)\n",
      "(15, 'Teclado', 77.0, '2022-09-13 20:31:39.013956', 1)\n"
     ]
    }
   ],
   "source": [
    "# Ordenar / Organizar\n",
    "# ORDER BY\n",
    "# A ordem não precisa ser guiada por uma das colunas selecionadas.\n",
    "\n",
    "Query = \"SELECT * FROM random_table ORDER BY Produto\"\n",
    "\n",
    "Execute_and_Show(Query,arquivo)"
   ]
  },
  {
   "cell_type": "code",
   "execution_count": 20,
   "metadata": {},
   "outputs": [
    {
     "name": "stdout",
     "output_type": "stream",
     "text": [
      "('Produto', None, None, None, None, None, None)\n",
      "\n",
      "('Teclado',)\n",
      "('Mouse',)\n",
      "('Monitor',)\n",
      "('CPU',)\n"
     ]
    }
   ],
   "source": [
    "# Ordem decrescente\n",
    "# DESC | ASC\n",
    "\n",
    "Query = \"SELECT DISTINCT Produto FROM random_table ORDER BY Produto DESC\"\n",
    "\n",
    "Execute_and_Show(Query,arquivo)"
   ]
  },
  {
   "cell_type": "code",
   "execution_count": 21,
   "metadata": {},
   "outputs": [
    {
     "name": "stdout",
     "output_type": "stream",
     "text": [
      "('ID', None, None, None, None, None, None)\n",
      "('Produto', None, None, None, None, None, None)\n",
      "('Valor', None, None, None, None, None, None)\n",
      "('Data', None, None, None, None, None, None)\n",
      "('Vendido', None, None, None, None, None, None)\n",
      "\n",
      "(1, 'CPU', 63.0, '2022-09-13 20:31:38.756116', 1)\n",
      "(2, 'Teclado', 64.0, '2022-09-13 20:31:38.763111', 0)\n",
      "(3, 'Monitor', 65.0, '2022-09-13 20:31:38.778102', 0)\n",
      "(4, 'CPU', 56.0, '2022-09-13 20:31:38.788095', 0)\n",
      "(5, 'Mouse', 61.0, '2022-09-13 20:31:38.802088', 1)\n",
      "(6, 'Monitor', 66.0, '2022-09-13 20:31:38.819076', 1)\n"
     ]
    }
   ],
   "source": [
    "# Limitar o número e resultados\n",
    "# Apenas os X primeiros resultados são revelados.\n",
    "\n",
    "Query = \"SELECT * FROM random_table LIMIT 6\"\n",
    "\n",
    "Execute_and_Show(Query,arquivo)"
   ]
  },
  {
   "cell_type": "code",
   "execution_count": 22,
   "metadata": {},
   "outputs": [
    {
     "name": "stdout",
     "output_type": "stream",
     "text": [
      "('Nome do Produto', None, None, None, None, None, None)\n",
      "\n",
      "('CPU',)\n",
      "('Teclado',)\n",
      "('Monitor',)\n",
      "('CPU',)\n",
      "('Mouse',)\n",
      "('Monitor',)\n",
      "('Monitor',)\n",
      "('CPU',)\n",
      "('Monitor',)\n",
      "('Teclado',)\n",
      "('Mouse',)\n",
      "('CPU',)\n",
      "('CPU',)\n",
      "('CPU',)\n",
      "('Teclado',)\n",
      "('Monitor',)\n",
      "('Mouse',)\n",
      "('CPU',)\n",
      "('Monitor',)\n",
      "('CPU',)\n"
     ]
    }
   ],
   "source": [
    "# Alias\n",
    "# São mudanças dos nomes de colunas e tabelas.\n",
    "# Utiliza-se aspas quando o aliás tem espaço.\n",
    "\n",
    "Query = \"SELECT Produto AS 'Nome do Produto' FROM random_table AS Produtos\"\n",
    "\n",
    "Execute_and_Show(Query,arquivo)"
   ]
  },
  {
   "cell_type": "markdown",
   "metadata": {},
   "source": [
    "Join"
   ]
  },
  {
   "cell_type": "markdown",
   "metadata": {},
   "source": [
    "![](../ArquivosParalelos/Join_types.png)"
   ]
  },
  {
   "cell_type": "markdown",
   "metadata": {},
   "source": [
    "Different Types of SQL JOINs\n",
    "\n",
    "* (INNER) JOIN: _Retorna registros compatíveis com ambas as tabelas;_\n",
    "* LEFT (OUTER) JOIN: _Retorna todos os registros da tabela à esquerda, e os registros compatíveis da tabela à direita;_\n",
    "* RIGHT (OUTER) JOIN: _Retorna todos os registros da tabela à direita, e os registros compatíveis da tabela à esquerda;_\n",
    "* FULL (OUTER) JOIN: _Retorna todos os registros quando há compatibilidade em qualquer tabela._"
   ]
  },
  {
   "cell_type": "code",
   "execution_count": 23,
   "metadata": {},
   "outputs": [
    {
     "name": "stdout",
     "output_type": "stream",
     "text": [
      "('Desconto', None, None, None, None, None, None)\n",
      "('Data', None, None, None, None, None, None)\n",
      "('Produto', None, None, None, None, None, None)\n",
      "\n",
      "(19.0, '2022-09-13 20:31:41.552253', 'Monitor')\n",
      "(6.0, '2022-09-13 20:31:41.559247', 'Teclado')\n",
      "(0.0, '2022-09-13 20:31:41.567242', 'Monitor')\n",
      "(1.0, '2022-09-13 20:31:41.656185', 'Monitor')\n",
      "(16.0, '2022-09-13 20:31:41.666180', 'CPU')\n",
      "(19.0, '2022-09-13 20:31:41.676173', 'CPU')\n",
      "(24.0, '2022-09-13 20:31:41.686168', 'CPU')\n",
      "(5.0, '2022-09-13 20:31:41.698160', 'CPU')\n",
      "(22.0, '2022-09-13 20:31:41.709153', 'CPU')\n",
      "(1.0, '2022-09-13 20:31:41.739135', 'CPU')\n",
      "(4.0, '2022-09-13 20:31:41.752127', 'CPU')\n",
      "(24.0, '2022-09-13 20:31:41.760121', 'Teclado')\n",
      "(14.0, '2022-09-13 20:31:41.790106', 'CPU')\n",
      "(2.0, '2022-09-13 20:31:41.798098', 'CPU')\n",
      "(18.0, '2022-09-13 20:31:41.808094', 'Teclado')\n",
      "(11.0, '2022-09-13 20:31:41.816088', 'CPU')\n",
      "(15.0, '2022-09-13 20:31:41.827080', 'CPU')\n",
      "(14.0, '2022-09-13 20:31:41.846069', 'CPU')\n",
      "(18.0, '2022-09-13 20:31:41.859061', 'CPU')\n",
      "(10.0, '2022-09-13 20:31:41.887044', 'CPU')\n",
      "(6.0, '2022-09-13 20:31:41.912028', 'Teclado')\n",
      "(6.0, '2022-09-13 20:31:41.922022', 'CPU')\n",
      "(13.0, '2022-09-13 20:31:41.937012', 'Teclado')\n",
      "(8.0, '2022-09-13 20:31:41.976987', 'CPU')\n",
      "(15.0, '2022-09-13 20:31:42.101910', 'CPU')\n",
      "(1.0, '2022-09-13 20:31:42.158873', 'CPU')\n",
      "(2.0, '2022-09-13 20:31:42.169868', 'Monitor')\n",
      "(8.0, '2022-09-13 20:31:42.179861', 'CPU')\n",
      "(3.0, '2022-09-13 20:31:42.188855', 'CPU')\n",
      "(18.0, '2022-09-13 20:31:42.215839', 'CPU')\n"
     ]
    }
   ],
   "source": [
    "Query = '''\n",
    "    SELECT \n",
    "    child_table.Desconto, child_table.Data, random_table.Produto \n",
    "    FROM child_table JOIN random_table \n",
    "    ON child_table.ProdutoID = random_table.ID\n",
    "    '''\n",
    "\n",
    "\n",
    "Execute_and_Show(Query,arquivo)"
   ]
  },
  {
   "cell_type": "code",
   "execution_count": 24,
   "metadata": {},
   "outputs": [],
   "source": [
    "# Como todos os registros na tabela child_table possuem valores para a coluna ProdutoID que correspondem a algum valor na tabela random_table, o LEfT JOIN presentaria o mesmo resultado do INNER JOIN."
   ]
  },
  {
   "cell_type": "code",
   "execution_count": 25,
   "metadata": {},
   "outputs": [
    {
     "name": "stdout",
     "output_type": "stream",
     "text": [
      "('Desconto', None, None, None, None, None, None)\n",
      "('Data', None, None, None, None, None, None)\n",
      "('Produto', None, None, None, None, None, None)\n",
      "\n",
      "(2.0, '2022-09-13 20:31:41.798098', 'CPU')\n",
      "(19.0, '2022-09-13 20:31:41.676173', 'CPU')\n",
      "(6.0, '2022-09-13 20:31:41.559247', 'Teclado')\n",
      "(6.0, '2022-09-13 20:31:41.912028', 'Teclado')\n",
      "(13.0, '2022-09-13 20:31:41.937012', 'Teclado')\n",
      "(24.0, '2022-09-13 20:31:41.760121', 'Teclado')\n",
      "(None, None, 'Monitor')\n",
      "(1.0, '2022-09-13 20:31:42.158873', 'CPU')\n",
      "(5.0, '2022-09-13 20:31:41.698160', 'CPU')\n",
      "(14.0, '2022-09-13 20:31:41.790106', 'CPU')\n",
      "(None, None, 'Mouse')\n",
      "(0.0, '2022-09-13 20:31:41.567242', 'Monitor')\n",
      "(None, None, 'Monitor')\n",
      "(8.0, '2022-09-13 20:31:42.179861', 'CPU')\n",
      "(14.0, '2022-09-13 20:31:41.846069', 'CPU')\n",
      "(15.0, '2022-09-13 20:31:42.101910', 'CPU')\n",
      "(18.0, '2022-09-13 20:31:42.215839', 'CPU')\n",
      "(22.0, '2022-09-13 20:31:41.709153', 'CPU')\n",
      "(1.0, '2022-09-13 20:31:41.656185', 'Monitor')\n",
      "(None, None, 'Teclado')\n",
      "(None, None, 'Mouse')\n",
      "(16.0, '2022-09-13 20:31:41.666180', 'CPU')\n",
      "(18.0, '2022-09-13 20:31:41.859061', 'CPU')\n",
      "(8.0, '2022-09-13 20:31:41.976987', 'CPU')\n",
      "(11.0, '2022-09-13 20:31:41.816088', 'CPU')\n",
      "(3.0, '2022-09-13 20:31:42.188855', 'CPU')\n",
      "(18.0, '2022-09-13 20:31:41.808094', 'Teclado')\n",
      "(19.0, '2022-09-13 20:31:41.552253', 'Monitor')\n",
      "(None, None, 'Mouse')\n",
      "(4.0, '2022-09-13 20:31:41.752127', 'CPU')\n",
      "(15.0, '2022-09-13 20:31:41.827080', 'CPU')\n",
      "(2.0, '2022-09-13 20:31:42.169868', 'Monitor')\n",
      "(1.0, '2022-09-13 20:31:41.739135', 'CPU')\n",
      "(6.0, '2022-09-13 20:31:41.922022', 'CPU')\n",
      "(10.0, '2022-09-13 20:31:41.887044', 'CPU')\n",
      "(24.0, '2022-09-13 20:31:41.686168', 'CPU')\n"
     ]
    }
   ],
   "source": [
    "# RIGH JOIN\n",
    "\n",
    "Query = '''\n",
    "    SELECT \n",
    "    child_table.Desconto, child_table.Data, random_table.Produto \n",
    "    FROM random_table LEFT JOIN child_table \n",
    "    ON child_table.ProdutoID = random_table.ID\n",
    "    '''\n",
    "    \n",
    "Execute_and_Show(Query,arquivo)\n",
    "\n",
    "# Os valores None mostrados são registros em random_table que não possuem correspondência em child_table."
   ]
  },
  {
   "cell_type": "markdown",
   "metadata": {},
   "source": [
    "LEFT e OUTHER JOIN não são suportados no SQLite3"
   ]
  },
  {
   "cell_type": "code",
   "execution_count": 26,
   "metadata": {},
   "outputs": [
    {
     "name": "stdout",
     "output_type": "stream",
     "text": [
      "('Desconto', None, None, None, None, None, None)\n",
      "\n",
      "(0.0,)\n",
      "(1.0,)\n",
      "(2.0,)\n",
      "(3.0,)\n",
      "(4.0,)\n",
      "(5.0,)\n",
      "(6.0,)\n",
      "(8.0,)\n",
      "(10.0,)\n",
      "(11.0,)\n",
      "(13.0,)\n",
      "(14.0,)\n",
      "(15.0,)\n",
      "(16.0,)\n",
      "(18.0,)\n",
      "(19.0,)\n",
      "(22.0,)\n",
      "(24.0,)\n",
      "(52.0,)\n",
      "(53.0,)\n",
      "(54.0,)\n",
      "(56.0,)\n",
      "(61.0,)\n",
      "(63.0,)\n",
      "(64.0,)\n",
      "(65.0,)\n",
      "(66.0,)\n",
      "(70.0,)\n",
      "(71.0,)\n",
      "(76.0,)\n",
      "(77.0,)\n",
      "(80.0,)\n",
      "(95.0,)\n",
      "(97.0,)\n",
      "(99.0,)\n"
     ]
    }
   ],
   "source": [
    "#UNION\n",
    "# Uma forma de juntar dois SELECT Queries de forma concatenada.\n",
    "# Ambos as seleções precisam ter o mesmo tipo de dados.\n",
    "\n",
    "\n",
    "Query = '''\n",
    "    SELECT Desconto FROM child_table\n",
    "    UNION\n",
    "    SELECT Valor FROM random_table\n",
    "    '''\n",
    "    \n",
    "Execute_and_Show(Query,arquivo)\n",
    "\n",
    "## UNION não retorna valores duplicados, mas UNION ALL sim."
   ]
  },
  {
   "cell_type": "code",
   "execution_count": 27,
   "metadata": {},
   "outputs": [
    {
     "name": "stdout",
     "output_type": "stream",
     "text": [
      "('ID', None, None, None, None, None, None)\n",
      "('Produto', None, None, None, None, None, None)\n",
      "('Valor', None, None, None, None, None, None)\n",
      "('Data', None, None, None, None, None, None)\n",
      "('Vendido', None, None, None, None, None, None)\n",
      "\n",
      "(1, 'CPU', 63.0, '2022-09-13 20:31:38.756116', 1)\n",
      "(3, 'Monitor', 65.0, '2022-09-13 20:31:38.778102', 0)\n",
      "(5, 'Mouse', 61.0, '2022-09-13 20:31:38.802088', 1)\n",
      "(2, 'Teclado', 64.0, '2022-09-13 20:31:38.763111', 0)\n",
      "('Produto', None, None, None, None, None, None)\n",
      "('Quantidade', None, None, None, None, None, None)\n",
      "('Média', None, None, None, None, None, None)\n",
      "\n",
      "('CPU', 8, 70.125)\n",
      "('Monitor', 6, 66.83333333333333)\n",
      "('Mouse', 3, 61.333333333333336)\n",
      "('Teclado', 3, 79.33333333333333)\n"
     ]
    }
   ],
   "source": [
    "# GROUP BY\n",
    "# Usado para agrupar em apenas valores distintos\n",
    "# Mostra apenas o primeiro valor de cada incidência\n",
    "\n",
    "\n",
    "Query = 'SELECT * FROM random_table GROUP BY Produto'\n",
    "\n",
    "Execute_and_Show(Query,arquivo)\n",
    "\n",
    "# Quando selecionado um agregador (contagem, soma, média), gera uma coluna que considera várias entradas na mesma instância.\n",
    "# No exemplo abaixo, mostra quantos registros e a média de valor de cada tipo de produto na tabela.\n",
    "\n",
    "Query = 'SELECT Produto, COUNT(*) AS \"Quantidade\", AVG(Valor) AS \"Média\" FROM random_table GROUP BY Produto'\n",
    "Execute_and_Show(Query,arquivo)"
   ]
  },
  {
   "cell_type": "code",
   "execution_count": 28,
   "metadata": {},
   "outputs": [
    {
     "name": "stdout",
     "output_type": "stream",
     "text": [
      "('Produto', None, None, None, None, None, None)\n",
      "('Quantidade', None, None, None, None, None, None)\n",
      "('Média', None, None, None, None, None, None)\n",
      "\n"
     ]
    }
   ],
   "source": [
    "# HAVING\n",
    "# Ao agrupar, se um dos agregadores for usado como filtro.\n",
    "# Similar ao WHERE\n",
    "\n",
    "Query = '''\n",
    "        SELECT \n",
    "        Produto, \n",
    "        COUNT(*) AS \"Quantidade\", \n",
    "        AVG(Valor) AS \"Média\" \n",
    "        FROM random_table \n",
    "        GROUP BY Produto\n",
    "        HAVING AVG(Valor) > 80\n",
    "        '''\n",
    "Execute_and_Show(Query,arquivo)"
   ]
  },
  {
   "cell_type": "markdown",
   "metadata": {},
   "source": [
    "### Criação e Queda\n",
    "<a id='Criação'></a>"
   ]
  },
  {
   "cell_type": "code",
   "execution_count": 29,
   "metadata": {},
   "outputs": [
    {
     "name": "stdout",
     "output_type": "stream",
     "text": [
      "Colunas ['id', 'name']\n"
     ]
    }
   ],
   "source": [
    "# Criar tabela nova\n",
    "\n",
    "Query = \"CREATE TABLE Exemplo(id integer, name text)\"\n",
    "\n",
    "Execute_and_Commit(Query,arquivo,'Exemplo')\n",
    "\n",
    "#Se a tabela já existe, ocorre um erro explícito."
   ]
  },
  {
   "cell_type": "code",
   "execution_count": 30,
   "metadata": {},
   "outputs": [
    {
     "name": "stdout",
     "output_type": "stream",
     "text": [
      "Colunas ['id', 'name']\n"
     ]
    }
   ],
   "source": [
    "# Criar tabela nova se não existir\n",
    "\n",
    "Query = \"CREATE TABLE IF NOT EXISTS Exemplo(id integer, name text)\"\n",
    "\n",
    "Execute_and_Commit(Query,arquivo,'Exemplo')"
   ]
  },
  {
   "cell_type": "code",
   "execution_count": 31,
   "metadata": {},
   "outputs": [
    {
     "name": "stdout",
     "output_type": "stream",
     "text": [
      "Colunas ['type', 'name', 'tbl_name', 'rootpage', 'sql']\n",
      "['type: table', 'name: random_table', 'tbl_name: random_table', 'rootpage: 2', 'sql: CREATE TABLE random_table(ID INTEGER PRIMARY KEY AUTOINCREMENT NOT NULL, Produto TEXT, Valor REAL, Data DATE, Vendido BIT NOT NULL)']\n",
      "['type: table', 'name: sqlite_sequence', 'tbl_name: sqlite_sequence', 'rootpage: 3', 'sql: CREATE TABLE sqlite_sequence(name,seq)']\n",
      "['type: table', 'name: child_table', 'tbl_name: child_table', 'rootpage: 4', 'sql: CREATE TABLE child_table (ID INTEGER PRIMARY KEY AUTOINCREMENT NOT NULL, Desconto REAL, Data DATE, ProdutoID INTEGER NOT NULL, FOREIGN KEY (ProdutoID) REFERENCES random_table(ID))']\n",
      "['type: table', 'name: Exemplo', 'tbl_name: Exemplo', 'rootpage: 5', 'sql: CREATE TABLE Exemplo(id integer, name text)']\n",
      "\n",
      "Colunas ['type', 'name', 'tbl_name', 'rootpage', 'sql']\n",
      "['type: table', 'name: random_table', 'tbl_name: random_table', 'rootpage: 2', 'sql: CREATE TABLE random_table(ID INTEGER PRIMARY KEY AUTOINCREMENT NOT NULL, Produto TEXT, Valor REAL, Data DATE, Vendido BIT NOT NULL)']\n",
      "['type: table', 'name: sqlite_sequence', 'tbl_name: sqlite_sequence', 'rootpage: 3', 'sql: CREATE TABLE sqlite_sequence(name,seq)']\n",
      "['type: table', 'name: child_table', 'tbl_name: child_table', 'rootpage: 4', 'sql: CREATE TABLE child_table (ID INTEGER PRIMARY KEY AUTOINCREMENT NOT NULL, Desconto REAL, Data DATE, ProdutoID INTEGER NOT NULL, FOREIGN KEY (ProdutoID) REFERENCES random_table(ID))']\n"
     ]
    }
   ],
   "source": [
    "# Criar tabela nova se não existir\n",
    "\n",
    "showall(arquivo,'sqlite_master')\n",
    "print()\n",
    "\n",
    "Query = \"DROP TABLE IF EXISTS Exemplo\"\n",
    "\n",
    "Execute_and_Commit(Query,arquivo,'sqlite_master')"
   ]
  },
  {
   "cell_type": "markdown",
   "metadata": {},
   "source": [
    "### Adição e Remoção\n",
    "<a id='Adição'></a>"
   ]
  },
  {
   "cell_type": "code",
   "execution_count": 32,
   "metadata": {},
   "outputs": [
    {
     "name": "stdout",
     "output_type": "stream",
     "text": [
      "Colunas ['ID', 'Produto', 'Valor', 'Data', 'Vendido']\n",
      "['ID: 1', 'Produto: CPU', 'Valor: 63.0', 'Data: 2022-09-13 20:31:38.756116', 'Vendido: 1']\n",
      "['ID: 2', 'Produto: Teclado', 'Valor: 64.0', 'Data: 2022-09-13 20:31:38.763111', 'Vendido: 0']\n",
      "['ID: 3', 'Produto: Monitor', 'Valor: 65.0', 'Data: 2022-09-13 20:31:38.778102', 'Vendido: 0']\n",
      "['ID: 4', 'Produto: CPU', 'Valor: 56.0', 'Data: 2022-09-13 20:31:38.788095', 'Vendido: 0']\n",
      "['ID: 5', 'Produto: Mouse', 'Valor: 61.0', 'Data: 2022-09-13 20:31:38.802088', 'Vendido: 1']\n",
      "['ID: 6', 'Produto: Monitor', 'Valor: 66.0', 'Data: 2022-09-13 20:31:38.819076', 'Vendido: 1']\n",
      "['ID: 7', 'Produto: Monitor', 'Valor: 53.0', 'Data: 2022-09-13 20:31:38.828073', 'Vendido: 0']\n",
      "['ID: 8', 'Produto: CPU', 'Valor: 54.0', 'Data: 2022-09-13 20:31:38.846060', 'Vendido: 0']\n",
      "['ID: 9', 'Produto: Monitor', 'Valor: 76.0', 'Data: 2022-09-13 20:31:38.860070', 'Vendido: 1']\n",
      "['ID: 10', 'Produto: Teclado', 'Valor: 97.0', 'Data: 2022-09-13 20:31:38.877050', 'Vendido: 1']\n",
      "['ID: 11', 'Produto: Mouse', 'Valor: 52.0', 'Data: 2022-09-13 20:31:38.922013', 'Vendido: 0']\n",
      "['ID: 12', 'Produto: CPU', 'Valor: 63.0', 'Data: 2022-09-13 20:31:38.935004', 'Vendido: 1']\n",
      "['ID: 13', 'Produto: CPU', 'Valor: 99.0', 'Data: 2022-09-13 20:31:38.949994', 'Vendido: 1']\n",
      "['ID: 14', 'Produto: CPU', 'Valor: 61.0', 'Data: 2022-09-13 20:31:39.002962', 'Vendido: 1']\n",
      "['ID: 15', 'Produto: Teclado', 'Valor: 77.0', 'Data: 2022-09-13 20:31:39.013956', 'Vendido: 1']\n",
      "['ID: 16', 'Produto: Monitor', 'Valor: 61.0', 'Data: 2022-09-13 20:31:39.020427', 'Vendido: 0']\n",
      "['ID: 17', 'Produto: Mouse', 'Valor: 71.0', 'Data: 2022-09-13 20:31:39.028423', 'Vendido: 1']\n",
      "['ID: 18', 'Produto: CPU', 'Valor: 70.0', 'Data: 2022-09-13 20:31:39.039415', 'Vendido: 1']\n",
      "['ID: 19', 'Produto: Monitor', 'Valor: 80.0', 'Data: 2022-09-13 20:31:39.050408', 'Vendido: 1']\n",
      "['ID: 20', 'Produto: CPU', 'Valor: 95.0', 'Data: 2022-09-13 20:31:39.057403', 'Vendido: 0']\n",
      "['ID: 21', 'Produto: CPU', 'Valor: 91.0', 'Data: 2022-09-03 16:26:28.564400', 'Vendido: 1']\n"
     ]
    }
   ],
   "source": [
    "# Inserir linha/observação\n",
    "\n",
    "Query = \"INSERT INTO random_table VALUES(21, 'CPU', 91.0, '2022-09-03 16:26:28.564400',1)\"\n",
    "\n",
    "# É necessário alternar entre aspas e aspas duplas para que o interpretador não encerre a string\n",
    "# Mesmo a Primary Key tendo autoincremento, ele deve ser dado\n",
    "# Se este comando foi executado uma segunda vez, um erro ocorre por tentar adicionar um ID que já existe.\n",
    "\n",
    "Execute_and_Commit(Query,arquivo,tabela)"
   ]
  },
  {
   "cell_type": "code",
   "execution_count": 33,
   "metadata": {},
   "outputs": [
    {
     "name": "stdout",
     "output_type": "stream",
     "text": [
      "Colunas ['ID', 'Produto', 'Valor', 'Data', 'Vendido']\n",
      "['ID: 1', 'Produto: CPU', 'Valor: 63.0', 'Data: 2022-09-13 20:31:38.756116', 'Vendido: 1']\n",
      "['ID: 2', 'Produto: Teclado', 'Valor: 64.0', 'Data: 2022-09-13 20:31:38.763111', 'Vendido: 0']\n",
      "['ID: 3', 'Produto: Monitor', 'Valor: 65.0', 'Data: 2022-09-13 20:31:38.778102', 'Vendido: 0']\n",
      "['ID: 4', 'Produto: CPU', 'Valor: 56.0', 'Data: 2022-09-13 20:31:38.788095', 'Vendido: 0']\n",
      "['ID: 5', 'Produto: Mouse', 'Valor: 61.0', 'Data: 2022-09-13 20:31:38.802088', 'Vendido: 1']\n",
      "['ID: 6', 'Produto: Monitor', 'Valor: 66.0', 'Data: 2022-09-13 20:31:38.819076', 'Vendido: 1']\n",
      "['ID: 7', 'Produto: Monitor', 'Valor: 53.0', 'Data: 2022-09-13 20:31:38.828073', 'Vendido: 0']\n",
      "['ID: 8', 'Produto: CPU', 'Valor: 54.0', 'Data: 2022-09-13 20:31:38.846060', 'Vendido: 0']\n",
      "['ID: 9', 'Produto: Monitor', 'Valor: 76.0', 'Data: 2022-09-13 20:31:38.860070', 'Vendido: 1']\n",
      "['ID: 10', 'Produto: Teclado', 'Valor: 97.0', 'Data: 2022-09-13 20:31:38.877050', 'Vendido: 1']\n",
      "['ID: 11', 'Produto: Mouse', 'Valor: 52.0', 'Data: 2022-09-13 20:31:38.922013', 'Vendido: 0']\n",
      "['ID: 12', 'Produto: CPU', 'Valor: 63.0', 'Data: 2022-09-13 20:31:38.935004', 'Vendido: 1']\n",
      "['ID: 13', 'Produto: CPU', 'Valor: 99.0', 'Data: 2022-09-13 20:31:38.949994', 'Vendido: 1']\n",
      "['ID: 14', 'Produto: CPU', 'Valor: 61.0', 'Data: 2022-09-13 20:31:39.002962', 'Vendido: 1']\n",
      "['ID: 15', 'Produto: Teclado', 'Valor: 77.0', 'Data: 2022-09-13 20:31:39.013956', 'Vendido: 1']\n",
      "['ID: 16', 'Produto: Monitor', 'Valor: 61.0', 'Data: 2022-09-13 20:31:39.020427', 'Vendido: 0']\n",
      "['ID: 17', 'Produto: Mouse', 'Valor: 71.0', 'Data: 2022-09-13 20:31:39.028423', 'Vendido: 1']\n",
      "['ID: 18', 'Produto: CPU', 'Valor: 70.0', 'Data: 2022-09-13 20:31:39.039415', 'Vendido: 1']\n",
      "['ID: 19', 'Produto: Monitor', 'Valor: 80.0', 'Data: 2022-09-13 20:31:39.050408', 'Vendido: 1']\n",
      "['ID: 20', 'Produto: CPU', 'Valor: 95.0', 'Data: 2022-09-13 20:31:39.057403', 'Vendido: 0']\n",
      "['ID: 21', 'Produto: CPU', 'Valor: 91.0', 'Data: 2022-09-03 16:26:28.564400', 'Vendido: 1']\n",
      "['ID: 22', 'Produto: CPU', 'Valor: 120.0', 'Data: 2022-09-03 16:26:28.564400', 'Vendido: 0']\n"
     ]
    }
   ],
   "source": [
    "# Inserir definindo valor e coluna\n",
    "# \"INSERT INTO tabela ('coluna', 'coluna', 'coluna') VALUES ('valor', 'valor', 'valor')\"\n",
    "\n",
    "Query = \"INSERT INTO random_table('Produto','Valor','Data','Vendido') VALUES('CPU', 120.0, '2022-09-03 16:26:28.564400',0)\"\n",
    "\n",
    "Execute_and_Commit(Query,arquivo,tabela)"
   ]
  },
  {
   "cell_type": "code",
   "execution_count": 34,
   "metadata": {},
   "outputs": [
    {
     "name": "stdout",
     "output_type": "stream",
     "text": [
      "Colunas ['ID', 'Produto', 'Valor', 'Data', 'Vendido']\n",
      "['ID: 1', 'Produto: CPU', 'Valor: 63.0', 'Data: 2022-09-13 20:31:38.756116', 'Vendido: 1']\n",
      "['ID: 2', 'Produto: Teclado', 'Valor: 64.0', 'Data: 2022-09-13 20:31:38.763111', 'Vendido: 0']\n",
      "['ID: 3', 'Produto: Monitor', 'Valor: 65.0', 'Data: 2022-09-13 20:31:38.778102', 'Vendido: 0']\n",
      "['ID: 4', 'Produto: CPU', 'Valor: 56.0', 'Data: 2022-09-13 20:31:38.788095', 'Vendido: 0']\n",
      "['ID: 5', 'Produto: Mouse', 'Valor: 61.0', 'Data: 2022-09-13 20:31:38.802088', 'Vendido: 1']\n",
      "['ID: 6', 'Produto: Monitor', 'Valor: 66.0', 'Data: 2022-09-13 20:31:38.819076', 'Vendido: 1']\n",
      "['ID: 7', 'Produto: Monitor', 'Valor: 53.0', 'Data: 2022-09-13 20:31:38.828073', 'Vendido: 0']\n",
      "['ID: 8', 'Produto: CPU', 'Valor: 54.0', 'Data: 2022-09-13 20:31:38.846060', 'Vendido: 0']\n",
      "['ID: 9', 'Produto: Monitor', 'Valor: 76.0', 'Data: 2022-09-13 20:31:38.860070', 'Vendido: 1']\n",
      "['ID: 10', 'Produto: Teclado', 'Valor: 97.0', 'Data: 2022-09-13 20:31:38.877050', 'Vendido: 1']\n",
      "['ID: 11', 'Produto: Mouse', 'Valor: 52.0', 'Data: 2022-09-13 20:31:38.922013', 'Vendido: 0']\n",
      "['ID: 12', 'Produto: CPU', 'Valor: 63.0', 'Data: 2022-09-13 20:31:38.935004', 'Vendido: 1']\n",
      "['ID: 13', 'Produto: CPU', 'Valor: 99.0', 'Data: 2022-09-13 20:31:38.949994', 'Vendido: 1']\n",
      "['ID: 14', 'Produto: CPU', 'Valor: 61.0', 'Data: 2022-09-13 20:31:39.002962', 'Vendido: 1']\n",
      "['ID: 15', 'Produto: Teclado', 'Valor: 77.0', 'Data: 2022-09-13 20:31:39.013956', 'Vendido: 1']\n",
      "['ID: 16', 'Produto: Monitor', 'Valor: 61.0', 'Data: 2022-09-13 20:31:39.020427', 'Vendido: 0']\n",
      "['ID: 17', 'Produto: Mouse', 'Valor: 71.0', 'Data: 2022-09-13 20:31:39.028423', 'Vendido: 1']\n",
      "['ID: 18', 'Produto: CPU', 'Valor: 70.0', 'Data: 2022-09-13 20:31:39.039415', 'Vendido: 1']\n",
      "['ID: 19', 'Produto: Monitor', 'Valor: 80.0', 'Data: 2022-09-13 20:31:39.050408', 'Vendido: 1']\n",
      "['ID: 20', 'Produto: CPU', 'Valor: 95.0', 'Data: 2022-09-13 20:31:39.057403', 'Vendido: 0']\n",
      "['ID: 21', 'Produto: CPU', 'Valor: 91.0', 'Data: 2022-09-03 16:26:28.564400', 'Vendido: 1']\n",
      "['ID: 22', 'Produto: CPU', 'Valor: 120.0', 'Data: 2022-09-03 16:26:28.564400', 'Vendido: 0']\n",
      "['ID: 23', 'Produto: Câmera', 'Valor: 66.0', 'Data: 2022-09-13 20:31:46.151743', 'Vendido: 0']\n"
     ]
    }
   ],
   "source": [
    "# Inserir com o auxílio de uma tupla ou lista.\n",
    "\n",
    "# A execução muda\n",
    "\n",
    "Query = \"INSERT INTO random_table('Produto','Valor','Data','Vendido') VALUES(?, ?, ?,?)\"\n",
    "\n",
    "Observação = ['Câmera',66,datetime.datetime.now(),0]\n",
    "\n",
    "\n",
    "Conn = sqlite3.connect(arquivo)\n",
    "Cursor = Conn.cursor()\n",
    "\n",
    "Cursor.execute(Query,Observação)\n",
    "\n",
    "Conn.commit()\n",
    "Cursor.close()\n",
    "Conn.close()\n",
    "\n",
    "showall(arquivo,tabela)\n"
   ]
  },
  {
   "cell_type": "code",
   "execution_count": 35,
   "metadata": {},
   "outputs": [
    {
     "name": "stdout",
     "output_type": "stream",
     "text": [
      "Colunas ['ID', 'Produto', 'Valor', 'Data', 'Vendido']\n",
      "['ID: 1', 'Produto: CPU', 'Valor: 63.0', 'Data: 2022-09-13 20:31:38.756116', 'Vendido: 1']\n",
      "['ID: 2', 'Produto: Teclado', 'Valor: 64.0', 'Data: 2022-09-13 20:31:38.763111', 'Vendido: 0']\n",
      "['ID: 3', 'Produto: Monitor', 'Valor: 65.0', 'Data: 2022-09-13 20:31:38.778102', 'Vendido: 0']\n",
      "['ID: 4', 'Produto: CPU', 'Valor: 56.0', 'Data: 2022-09-13 20:31:38.788095', 'Vendido: 0']\n",
      "['ID: 5', 'Produto: Mouse', 'Valor: 61.0', 'Data: 2022-09-13 20:31:38.802088', 'Vendido: 1']\n",
      "['ID: 6', 'Produto: Monitor', 'Valor: 66.0', 'Data: 2022-09-13 20:31:38.819076', 'Vendido: 1']\n",
      "['ID: 7', 'Produto: Monitor', 'Valor: 53.0', 'Data: 2022-09-13 20:31:38.828073', 'Vendido: 0']\n",
      "['ID: 8', 'Produto: CPU', 'Valor: 54.0', 'Data: 2022-09-13 20:31:38.846060', 'Vendido: 0']\n",
      "['ID: 9', 'Produto: Monitor', 'Valor: 76.0', 'Data: 2022-09-13 20:31:38.860070', 'Vendido: 1']\n",
      "['ID: 10', 'Produto: Teclado', 'Valor: 97.0', 'Data: 2022-09-13 20:31:38.877050', 'Vendido: 1']\n",
      "['ID: 11', 'Produto: Mouse', 'Valor: 52.0', 'Data: 2022-09-13 20:31:38.922013', 'Vendido: 0']\n",
      "['ID: 12', 'Produto: CPU', 'Valor: 63.0', 'Data: 2022-09-13 20:31:38.935004', 'Vendido: 1']\n",
      "['ID: 13', 'Produto: CPU', 'Valor: 99.0', 'Data: 2022-09-13 20:31:38.949994', 'Vendido: 1']\n",
      "['ID: 14', 'Produto: CPU', 'Valor: 61.0', 'Data: 2022-09-13 20:31:39.002962', 'Vendido: 1']\n",
      "['ID: 15', 'Produto: Teclado', 'Valor: 77.0', 'Data: 2022-09-13 20:31:39.013956', 'Vendido: 1']\n",
      "['ID: 16', 'Produto: Monitor', 'Valor: 61.0', 'Data: 2022-09-13 20:31:39.020427', 'Vendido: 0']\n",
      "['ID: 17', 'Produto: Mouse', 'Valor: 71.0', 'Data: 2022-09-13 20:31:39.028423', 'Vendido: 1']\n",
      "['ID: 18', 'Produto: CPU', 'Valor: 70.0', 'Data: 2022-09-13 20:31:39.039415', 'Vendido: 1']\n",
      "['ID: 19', 'Produto: Monitor', 'Valor: 80.0', 'Data: 2022-09-13 20:31:39.050408', 'Vendido: 1']\n",
      "['ID: 20', 'Produto: CPU', 'Valor: 95.0', 'Data: 2022-09-13 20:31:39.057403', 'Vendido: 0']\n",
      "['ID: 21', 'Produto: CPU', 'Valor: 91.0', 'Data: 2022-09-03 16:26:28.564400', 'Vendido: 1']\n",
      "['ID: 22', 'Produto: CPU', 'Valor: 120.0', 'Data: 2022-09-03 16:26:28.564400', 'Vendido: 0']\n",
      "['ID: 23', 'Produto: Câmera', 'Valor: 66.0', 'Data: 2022-09-13 20:31:46.151743', 'Vendido: 0']\n",
      "['ID: 24', 'Produto: Pendrive', 'Valor: 15.0', 'Data: 2022-09-13 20:31:46.294666', 'Vendido: 0']\n",
      "['ID: 25', 'Produto: Pendrive', 'Valor: 15.0', 'Data: 2022-09-13 20:31:46.294666', 'Vendido: 1']\n",
      "['ID: 26', 'Produto: Pendrive', 'Valor: 20.0', 'Data: 2022-09-13 20:31:46.294666', 'Vendido: 0']\n",
      "['ID: 27', 'Produto: Pendrive', 'Valor: 17.0', 'Data: 2022-09-13 20:31:46.294666', 'Vendido: 1']\n"
     ]
    }
   ],
   "source": [
    "# Executemany\n",
    "# Permite adicionar várias inserções sem um loop.\n",
    "# As observações precisam ser iteráveis dentro de iteráveis.\n",
    "\n",
    "Query = \"INSERT INTO random_table('Produto','Valor','Data','Vendido') VALUES(?, ?, ?,?)\"\n",
    "\n",
    "Observações = (('Pendrive',15,datetime.datetime.now(),0),('Pendrive',15,datetime.datetime.now(),1),('Pendrive',20,datetime.datetime.now(),0),('Pendrive',17,datetime.datetime.now(),1))\n",
    "\n",
    "\n",
    "Conn = sqlite3.connect(arquivo)\n",
    "Cursor = Conn.cursor()\n",
    "\n",
    "Cursor.executemany(Query,Observações)\n",
    "\n",
    "Conn.commit()\n",
    "Cursor.close()\n",
    "Conn.close()\n",
    "\n",
    "showall(arquivo,tabela)"
   ]
  },
  {
   "cell_type": "code",
   "execution_count": 36,
   "metadata": {},
   "outputs": [
    {
     "name": "stdout",
     "output_type": "stream",
     "text": [
      "Colunas ['ID', 'Produto', 'Valor', 'Data', 'Vendido']\n",
      "['ID: 1', 'Produto: CPU', 'Valor: 63.0', 'Data: 2022-09-13 20:31:38.756116', 'Vendido: 1']\n",
      "['ID: 2', 'Produto: Teclado', 'Valor: 64.0', 'Data: 2022-09-13 20:31:38.763111', 'Vendido: 0']\n",
      "['ID: 3', 'Produto: Monitor', 'Valor: 65.0', 'Data: 2022-09-13 20:31:38.778102', 'Vendido: 0']\n",
      "['ID: 5', 'Produto: Mouse', 'Valor: 61.0', 'Data: 2022-09-13 20:31:38.802088', 'Vendido: 1']\n",
      "['ID: 6', 'Produto: Monitor', 'Valor: 66.0', 'Data: 2022-09-13 20:31:38.819076', 'Vendido: 1']\n",
      "['ID: 9', 'Produto: Monitor', 'Valor: 76.0', 'Data: 2022-09-13 20:31:38.860070', 'Vendido: 1']\n",
      "['ID: 10', 'Produto: Teclado', 'Valor: 97.0', 'Data: 2022-09-13 20:31:38.877050', 'Vendido: 1']\n",
      "['ID: 12', 'Produto: CPU', 'Valor: 63.0', 'Data: 2022-09-13 20:31:38.935004', 'Vendido: 1']\n",
      "['ID: 13', 'Produto: CPU', 'Valor: 99.0', 'Data: 2022-09-13 20:31:38.949994', 'Vendido: 1']\n",
      "['ID: 14', 'Produto: CPU', 'Valor: 61.0', 'Data: 2022-09-13 20:31:39.002962', 'Vendido: 1']\n",
      "['ID: 15', 'Produto: Teclado', 'Valor: 77.0', 'Data: 2022-09-13 20:31:39.013956', 'Vendido: 1']\n",
      "['ID: 16', 'Produto: Monitor', 'Valor: 61.0', 'Data: 2022-09-13 20:31:39.020427', 'Vendido: 0']\n",
      "['ID: 17', 'Produto: Mouse', 'Valor: 71.0', 'Data: 2022-09-13 20:31:39.028423', 'Vendido: 1']\n",
      "['ID: 18', 'Produto: CPU', 'Valor: 70.0', 'Data: 2022-09-13 20:31:39.039415', 'Vendido: 1']\n",
      "['ID: 19', 'Produto: Monitor', 'Valor: 80.0', 'Data: 2022-09-13 20:31:39.050408', 'Vendido: 1']\n",
      "['ID: 20', 'Produto: CPU', 'Valor: 95.0', 'Data: 2022-09-13 20:31:39.057403', 'Vendido: 0']\n",
      "['ID: 21', 'Produto: CPU', 'Valor: 91.0', 'Data: 2022-09-03 16:26:28.564400', 'Vendido: 1']\n",
      "['ID: 22', 'Produto: CPU', 'Valor: 120.0', 'Data: 2022-09-03 16:26:28.564400', 'Vendido: 0']\n",
      "['ID: 23', 'Produto: Câmera', 'Valor: 66.0', 'Data: 2022-09-13 20:31:46.151743', 'Vendido: 0']\n"
     ]
    }
   ],
   "source": [
    "# Deletar dado\n",
    "# Sem filtro, deleta todos os dados.\n",
    "\n",
    "Query = \"DELETE FROM random_table WHERE Valor < 60\"\n",
    "\n",
    "Execute_and_Commit(Query,arquivo,tabela)"
   ]
  },
  {
   "cell_type": "code",
   "execution_count": 37,
   "metadata": {},
   "outputs": [
    {
     "name": "stdout",
     "output_type": "stream",
     "text": [
      "Colunas ['ID', 'Produto', 'Valor', 'Data', 'Vendido']\n",
      "['ID: 1', 'Produto: CPU', 'Valor: 63.0', 'Data: 2022-09-13 20:31:38.756116', 'Vendido: 1']\n",
      "['ID: 2', 'Produto: Teclado', 'Valor: 64.0', 'Data: 2022-09-13 20:31:38.763111', 'Vendido: 0']\n",
      "['ID: 3', 'Produto: Monitor', 'Valor: 65.0', 'Data: 2022-09-13 20:31:38.778102', 'Vendido: 0']\n",
      "['ID: 5', 'Produto: Mouse', 'Valor: 61.0', 'Data: 2022-09-13 20:31:38.802088', 'Vendido: 1']\n",
      "['ID: 6', 'Produto: Monitor', 'Valor: 66.0', 'Data: 2022-09-13 20:31:38.819076', 'Vendido: 1']\n",
      "['ID: 9', 'Produto: Monitor', 'Valor: 76.0', 'Data: 2022-09-13 20:31:38.860070', 'Vendido: 1']\n",
      "['ID: 10', 'Produto: Teclado', 'Valor: 97.0', 'Data: 2022-09-13 20:31:38.877050', 'Vendido: 1']\n",
      "['ID: 12', 'Produto: CPU', 'Valor: 63.0', 'Data: 2022-09-13 20:31:38.935004', 'Vendido: 1']\n",
      "['ID: 13', 'Produto: CPU', 'Valor: 99.0', 'Data: 2022-09-13 20:31:38.949994', 'Vendido: 1']\n",
      "['ID: 14', 'Produto: CPU', 'Valor: 61.0', 'Data: 2022-09-13 20:31:39.002962', 'Vendido: 1']\n",
      "['ID: 15', 'Produto: Teclado', 'Valor: 77.0', 'Data: 2022-09-13 20:31:39.013956', 'Vendido: 1']\n",
      "['ID: 16', 'Produto: Monitor', 'Valor: 61.0', 'Data: 2022-09-13 20:31:39.020427', 'Vendido: 0']\n",
      "['ID: 17', 'Produto: Mouse', 'Valor: 71.0', 'Data: 2022-09-13 20:31:39.028423', 'Vendido: 1']\n",
      "['ID: 18', 'Produto: CPU', 'Valor: 70.0', 'Data: 2022-09-13 20:31:39.039415', 'Vendido: 1']\n",
      "['ID: 19', 'Produto: Monitor', 'Valor: 80.0', 'Data: 2022-09-13 20:31:39.050408', 'Vendido: 1']\n",
      "['ID: 20', 'Produto: CPU', 'Valor: 95.0', 'Data: 2022-09-13 20:31:39.057403', 'Vendido: 0']\n",
      "['ID: 21', 'Produto: CPU', 'Valor: 91.0', 'Data: 2022-09-03 16:26:28.564400', 'Vendido: 1']\n",
      "['ID: 22', 'Produto: CPU', 'Valor: 120.0', 'Data: 2022-09-03 16:26:28.564400', 'Vendido: 0']\n",
      "['ID: 23', 'Produto: Câmera', 'Valor: 66.0', 'Data: 2022-09-13 20:31:46.151743', 'Vendido: 0']\n",
      "['ID: 28', 'Produto: None', 'Valor: 120.0', 'Data: 2022-09-03 16:26:28.564400', 'Vendido: 0']\n"
     ]
    }
   ],
   "source": [
    "# Valores NULL\n",
    "\n",
    "Query = \"INSERT INTO random_table('Valor','Data','Vendido') VALUES(120.0, '2022-09-03 16:26:28.564400',0)\"\n",
    "\n",
    "Execute_and_Commit(Query,arquivo,tabela)\n",
    "\n",
    "# Em Python é apresentado como None\n",
    "# Como o ID tem Autoincremento, esse valor não fica nulo.\n",
    "# O tratamento de variáveis nulas é demonstrada em \"Filtros e Operadores Lógicos\""
   ]
  },
  {
   "cell_type": "markdown",
   "metadata": {},
   "source": [
    "### Alteração\n",
    "<a id='Alteração'></a>"
   ]
  },
  {
   "cell_type": "code",
   "execution_count": 38,
   "metadata": {},
   "outputs": [
    {
     "name": "stdout",
     "output_type": "stream",
     "text": [
      "Colunas ['ID', 'Produto', 'Valor', 'Data', 'Vendido']\n",
      "['ID: 1', 'Produto: CPU', 'Valor: 63.0', 'Data: 2022-09-13 20:31:38.756116', 'Vendido: 1']\n",
      "['ID: 2', 'Produto: Cabos', 'Valor: 64.0', 'Data: 2022-09-13 20:31:38.763111', 'Vendido: 0']\n",
      "['ID: 3', 'Produto: Monitor', 'Valor: 65.0', 'Data: 2022-09-13 20:31:38.778102', 'Vendido: 0']\n",
      "['ID: 5', 'Produto: Mouse', 'Valor: 61.0', 'Data: 2022-09-13 20:31:38.802088', 'Vendido: 1']\n",
      "['ID: 6', 'Produto: Monitor', 'Valor: 66.0', 'Data: 2022-09-13 20:31:38.819076', 'Vendido: 1']\n",
      "['ID: 9', 'Produto: Monitor', 'Valor: 76.0', 'Data: 2022-09-13 20:31:38.860070', 'Vendido: 1']\n",
      "['ID: 10', 'Produto: Teclado', 'Valor: 97.0', 'Data: 2022-09-13 20:31:38.877050', 'Vendido: 1']\n",
      "['ID: 12', 'Produto: CPU', 'Valor: 63.0', 'Data: 2022-09-13 20:31:38.935004', 'Vendido: 1']\n",
      "['ID: 13', 'Produto: CPU', 'Valor: 99.0', 'Data: 2022-09-13 20:31:38.949994', 'Vendido: 1']\n",
      "['ID: 14', 'Produto: CPU', 'Valor: 61.0', 'Data: 2022-09-13 20:31:39.002962', 'Vendido: 1']\n",
      "['ID: 15', 'Produto: Teclado', 'Valor: 77.0', 'Data: 2022-09-13 20:31:39.013956', 'Vendido: 1']\n",
      "['ID: 16', 'Produto: Monitor', 'Valor: 61.0', 'Data: 2022-09-13 20:31:39.020427', 'Vendido: 0']\n",
      "['ID: 17', 'Produto: Mouse', 'Valor: 71.0', 'Data: 2022-09-13 20:31:39.028423', 'Vendido: 1']\n",
      "['ID: 18', 'Produto: CPU', 'Valor: 70.0', 'Data: 2022-09-13 20:31:39.039415', 'Vendido: 1']\n",
      "['ID: 19', 'Produto: Monitor', 'Valor: 80.0', 'Data: 2022-09-13 20:31:39.050408', 'Vendido: 1']\n",
      "['ID: 20', 'Produto: CPU', 'Valor: 95.0', 'Data: 2022-09-13 20:31:39.057403', 'Vendido: 0']\n",
      "['ID: 21', 'Produto: CPU', 'Valor: 91.0', 'Data: 2022-09-03 16:26:28.564400', 'Vendido: 1']\n",
      "['ID: 22', 'Produto: CPU', 'Valor: 120.0', 'Data: 2022-09-03 16:26:28.564400', 'Vendido: 0']\n",
      "['ID: 23', 'Produto: Câmera', 'Valor: 66.0', 'Data: 2022-09-13 20:31:46.151743', 'Vendido: 0']\n",
      "['ID: 28', 'Produto: None', 'Valor: 120.0', 'Data: 2022-09-03 16:26:28.564400', 'Vendido: 0']\n"
     ]
    }
   ],
   "source": [
    "# Mudança de valor\n",
    "# UPDATE/SET\n",
    "# Sem filtro, altera todos os dados.\n",
    "\n",
    "Query = \"UPDATE random_table SET Produto = 'Cabos' WHERE id = 2\"\n",
    "\n",
    "Execute_and_Commit(Query,arquivo,tabela)"
   ]
  },
  {
   "cell_type": "markdown",
   "metadata": {},
   "source": [
    "### Filtros e Operadores Lógicos\n",
    "<a id='Filtros e Operadores Lógicos'></a>"
   ]
  },
  {
   "cell_type": "code",
   "execution_count": 39,
   "metadata": {},
   "outputs": [
    {
     "name": "stdout",
     "output_type": "stream",
     "text": [
      "('Produto', None, None, None, None, None, None)\n",
      "('Valor', None, None, None, None, None, None)\n",
      "\n",
      "('Monitor', 65.0)\n",
      "('Monitor', 66.0)\n",
      "('Monitor', 76.0)\n",
      "('CPU', 99.0)\n",
      "('Monitor', 61.0)\n",
      "('Monitor', 80.0)\n",
      "('CPU', 95.0)\n",
      "('CPU', 91.0)\n",
      "('CPU', 120.0)\n"
     ]
    }
   ],
   "source": [
    "# WHERE filtra os dados considerados\n",
    "# Se o filtro é aplicado duas vezes a uma mesma coluna, ele deve ser demonstrado duas vezes\n",
    "\n",
    "Query = \"SELECT Produto, Valor FROM random_table WHERE Produto = 'Monitor' OR Produto = 'CPU' AND Valor > 90\"\n",
    "\n",
    "# Desta forma, apenas CPU é filtrada acima de 90. Monitores não foram filtrados\n",
    "\n",
    "Execute_and_Show(Query,arquivo)"
   ]
  },
  {
   "cell_type": "code",
   "execution_count": 40,
   "metadata": {},
   "outputs": [
    {
     "name": "stdout",
     "output_type": "stream",
     "text": [
      "('Produto', None, None, None, None, None, None)\n",
      "('Valor', None, None, None, None, None, None)\n",
      "\n",
      "('CPU', 99.0)\n",
      "('CPU', 95.0)\n",
      "('CPU', 91.0)\n",
      "('CPU', 120.0)\n"
     ]
    }
   ],
   "source": [
    "# Assim, o filtro é aplicado a ambos os tipos de produtos\n",
    "\n",
    "Query = \"SELECT Produto, Valor FROM random_table WHERE (Produto = 'Monitor' OR Produto = 'CPU') AND Valor > 90\"\n",
    "\n",
    "Execute_and_Show(Query,arquivo)"
   ]
  },
  {
   "cell_type": "code",
   "execution_count": 41,
   "metadata": {},
   "outputs": [
    {
     "name": "stdout",
     "output_type": "stream",
     "text": [
      "('ID', None, None, None, None, None, None)\n",
      "('Produto', None, None, None, None, None, None)\n",
      "('Valor', None, None, None, None, None, None)\n",
      "('Data', None, None, None, None, None, None)\n",
      "('Vendido', None, None, None, None, None, None)\n",
      "\n",
      "(1, 'CPU', 63.0, '2022-09-13 20:31:38.756116', 1)\n",
      "(5, 'Mouse', 61.0, '2022-09-13 20:31:38.802088', 1)\n",
      "(10, 'Teclado', 97.0, '2022-09-13 20:31:38.877050', 1)\n",
      "(12, 'CPU', 63.0, '2022-09-13 20:31:38.935004', 1)\n",
      "(13, 'CPU', 99.0, '2022-09-13 20:31:38.949994', 1)\n",
      "(14, 'CPU', 61.0, '2022-09-13 20:31:39.002962', 1)\n",
      "(15, 'Teclado', 77.0, '2022-09-13 20:31:39.013956', 1)\n",
      "(17, 'Mouse', 71.0, '2022-09-13 20:31:39.028423', 1)\n",
      "(18, 'CPU', 70.0, '2022-09-13 20:31:39.039415', 1)\n",
      "(21, 'CPU', 91.0, '2022-09-03 16:26:28.564400', 1)\n"
     ]
    }
   ],
   "source": [
    "# NOT\n",
    "# Deve ser usado antes da condição\n",
    "\n",
    "Query = \"SELECT * FROM random_table WHERE NOT Produto = 'Monitor' AND NOT Vendido = 0\"\n",
    "\n",
    "Execute_and_Show(Query,arquivo)"
   ]
  },
  {
   "cell_type": "code",
   "execution_count": 43,
   "metadata": {},
   "outputs": [
    {
     "name": "stdout",
     "output_type": "stream",
     "text": [
      "('name', None, None, None, None, None, None)\n",
      "\n",
      "\n",
      "('name', None, None, None, None, None, None)\n",
      "\n",
      "('random_table',)\n"
     ]
    }
   ],
   "source": [
    "# Verificação se determinada tabela existe\n",
    "\n",
    "Query1 = 'SELECT name from sqlite_master WHERE type = \"table\" AND name = \"Exemplo\"'\n",
    "Query2 = 'SELECT name from sqlite_master WHERE type = \"table\" AND name = \"random_table\"'\n",
    "\n",
    "Execute_and_Show(Query1,arquivo)\n",
    "print()\n",
    "Execute_and_Show(Query2,arquivo)\n",
    "\n",
    "# Se a tabela não existe, nome nenhum é apresentado."
   ]
  },
  {
   "cell_type": "code",
   "execution_count": 44,
   "metadata": {},
   "outputs": [
    {
     "name": "stdout",
     "output_type": "stream",
     "text": [
      "('ID', None, None, None, None, None, None)\n",
      "('Produto', None, None, None, None, None, None)\n",
      "('Valor', None, None, None, None, None, None)\n",
      "('Data', None, None, None, None, None, None)\n",
      "('Vendido', None, None, None, None, None, None)\n",
      "\n",
      "(28, None, 120.0, '2022-09-03 16:26:28.564400', 0)\n"
     ]
    }
   ],
   "source": [
    "# Tratamendo de valores nulos\n",
    "# IS NULL | IS NOT NULL\n",
    "\n",
    "Query = \"SELECT * FROM random_table WHERE Produto IS NULL\"\n",
    "\n",
    "Execute_and_Show(Query,arquivo)"
   ]
  },
  {
   "cell_type": "code",
   "execution_count": 45,
   "metadata": {},
   "outputs": [
    {
     "name": "stdout",
     "output_type": "stream",
     "text": [
      "('Produto', None, None, None, None, None, None)\n",
      "('Valor', None, None, None, None, None, None)\n",
      "\n",
      "('Monitor', 65.0)\n",
      "('Mouse', 61.0)\n",
      "('Monitor', 66.0)\n",
      "('Monitor', 76.0)\n",
      "('Monitor', 61.0)\n",
      "('Mouse', 71.0)\n",
      "('Monitor', 80.0)\n"
     ]
    }
   ],
   "source": [
    "# LIKE e Wildcards (coringas)\n",
    "# LIKE, em filtros WHERE, é usado em substituição do sinal '=', quando o que segue é uma wildcard.\n",
    "# Wildcards se parecem com variáveis Regex\n",
    "    # '%' representa/substitui qualquer número de quaisquer caracteres.\n",
    "    # '_' representa/substitui exatamente um caractere qualquer.\n",
    "\n",
    "Query = \"SELECT Produto, Valor FROM random_table WHERE Produto LIKE '_o%'\"\n",
    "# Filtra linhas cujos valores na coluna \"Produto\" têm a letra \"o\" como segunda letra\n",
    "\n",
    "Execute_and_Show(Query,arquivo)"
   ]
  },
  {
   "cell_type": "code",
   "execution_count": 46,
   "metadata": {},
   "outputs": [
    {
     "name": "stdout",
     "output_type": "stream",
     "text": [
      "('ID', None, None, None, None, None, None)\n",
      "('Produto', None, None, None, None, None, None)\n",
      "('Valor', None, None, None, None, None, None)\n",
      "('Data', None, None, None, None, None, None)\n",
      "('Vendido', None, None, None, None, None, None)\n",
      "\n",
      "(1, 'CPU', 63.0, '2022-09-13 20:31:38.756116', 1)\n",
      "(2, 'Cabos', 64.0, '2022-09-13 20:31:38.763111', 0)\n",
      "(3, 'Monitor', 65.0, '2022-09-13 20:31:38.778102', 0)\n",
      "(5, 'Mouse', 61.0, '2022-09-13 20:31:38.802088', 1)\n",
      "(6, 'Monitor', 66.0, '2022-09-13 20:31:38.819076', 1)\n",
      "(9, 'Monitor', 76.0, '2022-09-13 20:31:38.860070', 1)\n",
      "(10, 'Teclado', 97.0, '2022-09-13 20:31:38.877050', 1)\n",
      "(12, 'CPU', 63.0, '2022-09-13 20:31:38.935004', 1)\n",
      "(13, 'CPU', 99.0, '2022-09-13 20:31:38.949994', 1)\n",
      "(14, 'CPU', 61.0, '2022-09-13 20:31:39.002962', 1)\n",
      "(15, 'Teclado', 77.0, '2022-09-13 20:31:39.013956', 1)\n",
      "(16, 'Monitor', 61.0, '2022-09-13 20:31:39.020427', 0)\n",
      "(17, 'Mouse', 71.0, '2022-09-13 20:31:39.028423', 1)\n",
      "(18, 'CPU', 70.0, '2022-09-13 20:31:39.039415', 1)\n",
      "(19, 'Monitor', 80.0, '2022-09-13 20:31:39.050408', 1)\n",
      "(20, 'CPU', 95.0, '2022-09-13 20:31:39.057403', 0)\n",
      "(21, 'CPU', 91.0, '2022-09-03 16:26:28.564400', 1)\n",
      "(22, 'CPU', 120.0, '2022-09-03 16:26:28.564400', 0)\n",
      "(23, 'Câmera', 66.0, '2022-09-13 20:31:46.151743', 0)\n"
     ]
    }
   ],
   "source": [
    "# IN É usado em substituição ao sinal '=' em cláusulas que usam WHERE.\n",
    "# É exigido quando vários valores são pssíveis, ou qundo uma declaração é dada como comparação.\n",
    "\n",
    "Query = \"SELECT * FROM random_table WHERE Produto IN (SELECT Produto FROM random_table)\"\n",
    "# Como NULL não é um valor, ele não pode ser usado como critério para filtrar os dados.\n",
    "\n",
    "Execute_and_Show(Query,arquivo)"
   ]
  },
  {
   "cell_type": "code",
   "execution_count": 47,
   "metadata": {},
   "outputs": [
    {
     "name": "stdout",
     "output_type": "stream",
     "text": [
      "('ID', None, None, None, None, None, None)\n",
      "('Produto', None, None, None, None, None, None)\n",
      "('Valor', None, None, None, None, None, None)\n",
      "('Data', None, None, None, None, None, None)\n",
      "('Vendido', None, None, None, None, None, None)\n",
      "\n",
      "(9, 'Monitor', 76.0, '2022-09-13 20:31:38.860070', 1)\n",
      "(15, 'Teclado', 77.0, '2022-09-13 20:31:39.013956', 1)\n",
      "(17, 'Mouse', 71.0, '2022-09-13 20:31:39.028423', 1)\n",
      "(18, 'CPU', 70.0, '2022-09-13 20:31:39.039415', 1)\n",
      "(19, 'Monitor', 80.0, '2022-09-13 20:31:39.050408', 1)\n",
      "\n",
      "('ID', None, None, None, None, None, None)\n",
      "('Produto', None, None, None, None, None, None)\n",
      "('Valor', None, None, None, None, None, None)\n",
      "('Data', None, None, None, None, None, None)\n",
      "('Vendido', None, None, None, None, None, None)\n",
      "\n",
      "(1, 'CPU', 63.0, '2022-09-13 20:31:38.756116', 1)\n",
      "(2, 'Cabos', 64.0, '2022-09-13 20:31:38.763111', 0)\n",
      "(3, 'Monitor', 65.0, '2022-09-13 20:31:38.778102', 0)\n",
      "(5, 'Mouse', 61.0, '2022-09-13 20:31:38.802088', 1)\n",
      "(6, 'Monitor', 66.0, '2022-09-13 20:31:38.819076', 1)\n",
      "(10, 'Teclado', 97.0, '2022-09-13 20:31:38.877050', 1)\n",
      "(12, 'CPU', 63.0, '2022-09-13 20:31:38.935004', 1)\n",
      "(13, 'CPU', 99.0, '2022-09-13 20:31:38.949994', 1)\n",
      "(14, 'CPU', 61.0, '2022-09-13 20:31:39.002962', 1)\n",
      "(16, 'Monitor', 61.0, '2022-09-13 20:31:39.020427', 0)\n",
      "(20, 'CPU', 95.0, '2022-09-13 20:31:39.057403', 0)\n",
      "(21, 'CPU', 91.0, '2022-09-03 16:26:28.564400', 1)\n",
      "(22, 'CPU', 120.0, '2022-09-03 16:26:28.564400', 0)\n",
      "(23, 'Câmera', 66.0, '2022-09-13 20:31:46.151743', 0)\n",
      "(28, None, 120.0, '2022-09-03 16:26:28.564400', 0)\n"
     ]
    }
   ],
   "source": [
    "# Filtrando valores dentro de uma faixa.\n",
    "# BETWEEN AND\n",
    "\n",
    "Query = \"SELECT * FROM random_table WHERE Valor BETWEEN 67 AND 90\"\n",
    "\n",
    "Execute_and_Show(Query,arquivo)\n",
    "\n",
    "print()\n",
    "\n",
    "\n",
    "Query = \"SELECT * FROM random_table WHERE Valor NOT BETWEEN 67 AND 90\"\n",
    "\n",
    "Execute_and_Show(Query,arquivo)"
   ]
  },
  {
   "cell_type": "code",
   "execution_count": 48,
   "metadata": {},
   "outputs": [
    {
     "name": "stdout",
     "output_type": "stream",
     "text": [
      "('ID', None, None, None, None, None, None)\n",
      "('Produto', None, None, None, None, None, None)\n",
      "('Valor', None, None, None, None, None, None)\n",
      "('Data', None, None, None, None, None, None)\n",
      "('Vendido', None, None, None, None, None, None)\n",
      "\n",
      "/n/n\n",
      "('ID', None, None, None, None, None, None)\n",
      "('Produto', None, None, None, None, None, None)\n",
      "('Valor', None, None, None, None, None, None)\n",
      "('Data', None, None, None, None, None, None)\n",
      "('Vendido', None, None, None, None, None, None)\n",
      "\n",
      "(1, 'CPU', 63.0, '2022-09-13 20:31:38.756116', 1)\n",
      "(2, 'Cabos', 64.0, '2022-09-13 20:31:38.763111', 0)\n",
      "(3, 'Monitor', 65.0, '2022-09-13 20:31:38.778102', 0)\n",
      "(5, 'Mouse', 61.0, '2022-09-13 20:31:38.802088', 1)\n",
      "(6, 'Monitor', 66.0, '2022-09-13 20:31:38.819076', 1)\n",
      "(9, 'Monitor', 76.0, '2022-09-13 20:31:38.860070', 1)\n",
      "(10, 'Teclado', 97.0, '2022-09-13 20:31:38.877050', 1)\n",
      "(12, 'CPU', 63.0, '2022-09-13 20:31:38.935004', 1)\n",
      "(13, 'CPU', 99.0, '2022-09-13 20:31:38.949994', 1)\n",
      "(14, 'CPU', 61.0, '2022-09-13 20:31:39.002962', 1)\n",
      "(15, 'Teclado', 77.0, '2022-09-13 20:31:39.013956', 1)\n",
      "(16, 'Monitor', 61.0, '2022-09-13 20:31:39.020427', 0)\n",
      "(17, 'Mouse', 71.0, '2022-09-13 20:31:39.028423', 1)\n",
      "(18, 'CPU', 70.0, '2022-09-13 20:31:39.039415', 1)\n",
      "(19, 'Monitor', 80.0, '2022-09-13 20:31:39.050408', 1)\n",
      "(20, 'CPU', 95.0, '2022-09-13 20:31:39.057403', 0)\n",
      "(21, 'CPU', 91.0, '2022-09-03 16:26:28.564400', 1)\n",
      "(22, 'CPU', 120.0, '2022-09-03 16:26:28.564400', 0)\n",
      "(23, 'Câmera', 66.0, '2022-09-13 20:31:46.151743', 0)\n",
      "(28, None, 120.0, '2022-09-03 16:26:28.564400', 0)\n"
     ]
    }
   ],
   "source": [
    "# EXISTS\n",
    "# Testa se algum valor é encontrado em certa seleção. Retornará \"True\" desde que haja ao menos um valor\n",
    "\n",
    "Query = 'select * from random_table WHERE EXISTS (select * from random_table where valor < 40)'\n",
    "\n",
    "Execute_and_Show(Query,arquivo)\n",
    "print('/n/n')\n",
    "\n",
    "# NOT EXISTS\n",
    "# Testa se algum valor é encontrado em certa seleção. Retornará \"True\" desde que  não haja qualquer registro retornado.\n",
    "\n",
    "Query = 'select * from random_table WHERE NOT EXISTS (select * from random_table where valor < 40)'\n",
    "\n",
    "Execute_and_Show(Query,arquivo)"
   ]
  },
  {
   "cell_type": "code",
   "execution_count": 64,
   "metadata": {},
   "outputs": [
    {
     "ename": "OperationalError",
     "evalue": "near \"SELECT\": syntax error",
     "output_type": "error",
     "traceback": [
      "\u001b[1;31m---------------------------------------------------------------------------\u001b[0m",
      "\u001b[1;31mOperationalError\u001b[0m                          Traceback (most recent call last)",
      "\u001b[1;32mc:\\Users\\fnsb.DESKTOP-7T10APS\\Documents\\MeusProjetos\\Python\\NotasPessoais-Python\\Notas\\Pacotes\\sql-guide.ipynb Célula: 62\u001b[0m in \u001b[0;36m<cell line: 6>\u001b[1;34m()\u001b[0m\n\u001b[0;32m      <a href='vscode-notebook-cell:/c%3A/Users/fnsb.DESKTOP-7T10APS/Documents/MeusProjetos/Python/NotasPessoais-Python/Notas/Pacotes/sql-guide.ipynb#Y143sZmlsZQ%3D%3D?line=0'>1</a>\u001b[0m \u001b[39m# ANY e ALL\u001b[39;00m\n\u001b[0;32m      <a href='vscode-notebook-cell:/c%3A/Users/fnsb.DESKTOP-7T10APS/Documents/MeusProjetos/Python/NotasPessoais-Python/Notas/Pacotes/sql-guide.ipynb#Y143sZmlsZQ%3D%3D?line=1'>2</a>\u001b[0m \u001b[39m# procedem um operador lógico e comportam uma query de seleção\u001b[39;00m\n\u001b[0;32m      <a href='vscode-notebook-cell:/c%3A/Users/fnsb.DESKTOP-7T10APS/Documents/MeusProjetos/Python/NotasPessoais-Python/Notas/Pacotes/sql-guide.ipynb#Y143sZmlsZQ%3D%3D?line=3'>4</a>\u001b[0m Query \u001b[39m=\u001b[39m \u001b[39m'\u001b[39m\u001b[39mSELECT ID from random_table where ID = ANY (SELECT ProdutoID FROM child_table WHERE Desconto < 10)\u001b[39m\u001b[39m'\u001b[39m\n\u001b[1;32m----> <a href='vscode-notebook-cell:/c%3A/Users/fnsb.DESKTOP-7T10APS/Documents/MeusProjetos/Python/NotasPessoais-Python/Notas/Pacotes/sql-guide.ipynb#Y143sZmlsZQ%3D%3D?line=5'>6</a>\u001b[0m Execute_and_Show(Query,arquivo)\n\u001b[0;32m      <a href='vscode-notebook-cell:/c%3A/Users/fnsb.DESKTOP-7T10APS/Documents/MeusProjetos/Python/NotasPessoais-Python/Notas/Pacotes/sql-guide.ipynb#Y143sZmlsZQ%3D%3D?line=8'>9</a>\u001b[0m Query \u001b[39m=\u001b[39m \u001b[39m'\u001b[39m\u001b[39mSELECT * from random_table where ID = ALL (SELECT ProdutoID FROM child_table WHERE Desconto < 10)\u001b[39m\u001b[39m'\u001b[39m\n",
      "\u001b[1;32mc:\\Users\\fnsb.DESKTOP-7T10APS\\Documents\\MeusProjetos\\Python\\NotasPessoais-Python\\Notas\\Pacotes\\sql-guide.ipynb Célula: 62\u001b[0m in \u001b[0;36mExecute_and_Show\u001b[1;34m(Query, arquivo)\u001b[0m\n\u001b[0;32m      <a href='vscode-notebook-cell:/c%3A/Users/fnsb.DESKTOP-7T10APS/Documents/MeusProjetos/Python/NotasPessoais-Python/Notas/Pacotes/sql-guide.ipynb#Y143sZmlsZQ%3D%3D?line=2'>3</a>\u001b[0m \u001b[39mdef\u001b[39;00m \u001b[39mExecute_and_Show\u001b[39m(Query,arquivo):\n\u001b[0;32m      <a href='vscode-notebook-cell:/c%3A/Users/fnsb.DESKTOP-7T10APS/Documents/MeusProjetos/Python/NotasPessoais-Python/Notas/Pacotes/sql-guide.ipynb#Y143sZmlsZQ%3D%3D?line=3'>4</a>\u001b[0m     Cursor \u001b[39m=\u001b[39m sqlite3\u001b[39m.\u001b[39mconnect(arquivo)\u001b[39m.\u001b[39mcursor()\n\u001b[1;32m----> <a href='vscode-notebook-cell:/c%3A/Users/fnsb.DESKTOP-7T10APS/Documents/MeusProjetos/Python/NotasPessoais-Python/Notas/Pacotes/sql-guide.ipynb#Y143sZmlsZQ%3D%3D?line=4'>5</a>\u001b[0m     Cursor\u001b[39m.\u001b[39;49mexecute(Query)\n\u001b[0;32m      <a href='vscode-notebook-cell:/c%3A/Users/fnsb.DESKTOP-7T10APS/Documents/MeusProjetos/Python/NotasPessoais-Python/Notas/Pacotes/sql-guide.ipynb#Y143sZmlsZQ%3D%3D?line=5'>6</a>\u001b[0m     \u001b[39mfor\u001b[39;00m i \u001b[39min\u001b[39;00m Cursor\u001b[39m.\u001b[39mexecute(Query)\u001b[39m.\u001b[39mdescription:\n\u001b[0;32m      <a href='vscode-notebook-cell:/c%3A/Users/fnsb.DESKTOP-7T10APS/Documents/MeusProjetos/Python/NotasPessoais-Python/Notas/Pacotes/sql-guide.ipynb#Y143sZmlsZQ%3D%3D?line=6'>7</a>\u001b[0m         \u001b[39mprint\u001b[39m(i)\n",
      "\u001b[1;31mOperationalError\u001b[0m: near \"SELECT\": syntax error"
     ]
    }
   ],
   "source": [
    "# ANY e ALL\n",
    "# procedem um operador lógico e comportam uma query de seleção\n",
    "\n",
    "Query = 'SELECT ID from random_table where ID = ANY (SELECT ProdutoID FROM child_table WHERE Desconto < 10)'\n",
    "\n",
    "#Execute_and_Show(Query,arquivo)\n",
    "\n",
    "\n",
    "Query = 'SELECT * from random_table where ID = ALL (SELECT ProdutoID FROM child_table WHERE Desconto < 10)'\n",
    "\n",
    "#Execute_and_Show(Query,arquivo)"
   ]
  },
  {
   "cell_type": "code",
   "execution_count": null,
   "metadata": {},
   "outputs": [],
   "source": []
  },
  {
   "cell_type": "markdown",
   "metadata": {},
   "source": [
    "### Valores Únicos / Agregadores"
   ]
  },
  {
   "cell_type": "code",
   "execution_count": 49,
   "metadata": {},
   "outputs": [
    {
     "name": "stdout",
     "output_type": "stream",
     "text": [
      "('COUNT (DISTINCT Produto)', None, None, None, None, None, None)\n",
      "\n",
      "(6,)\n",
      "\n",
      "('COUNT (*)', None, None, None, None, None, None)\n",
      "\n",
      "(9,)\n"
     ]
    }
   ],
   "source": [
    "# Contagem\n",
    "# Mais utilizado com DISTINCT\n",
    "\n",
    "Query = \"SELECT COUNT (DISTINCT Produto) FROM random_table\"\n",
    "\n",
    "Execute_and_Show(Query,arquivo)\n",
    "\n",
    "\n",
    "print()     ###     ###     ###     ###     ###     ###     ###     ###     ###     ###     ###     ###     ###\n",
    "\n",
    "\n",
    "# Para contar uma distinção com duas colunas, é preciso contar tudo de uma seleção com o filtro de distinção\n",
    "\n",
    "Query = 'SELECT COUNT (*) FROM (SELECT DISTINCT Produto, Vendido FROM random_table)'\n",
    "\n",
    "Execute_and_Show(Query,arquivo)"
   ]
  },
  {
   "cell_type": "code",
   "execution_count": 50,
   "metadata": {},
   "outputs": [
    {
     "name": "stdout",
     "output_type": "stream",
     "text": [
      "('MIN (Valor)', None, None, None, None, None, None)\n",
      "\n",
      "(61.0,)\n"
     ]
    }
   ],
   "source": [
    "# Mínimo e Máximo\n",
    "# MIN | MAX\n",
    "\n",
    "Query = \"SELECT MIN (Valor) FROM random_table\"\n",
    "\n",
    "Execute_and_Show(Query,arquivo)"
   ]
  },
  {
   "cell_type": "code",
   "execution_count": 51,
   "metadata": {},
   "outputs": [
    {
     "name": "stdout",
     "output_type": "stream",
     "text": [
      "('AVG (Valor)', None, None, None, None, None, None)\n",
      "\n",
      "(78.3,)\n"
     ]
    }
   ],
   "source": [
    "# Média\n",
    "# AVG\n",
    "\n",
    "Query = \"SELECT AVG (Valor) FROM random_table\"\n",
    "\n",
    "Execute_and_Show(Query,arquivo)"
   ]
  },
  {
   "cell_type": "code",
   "execution_count": 52,
   "metadata": {},
   "outputs": [
    {
     "name": "stdout",
     "output_type": "stream",
     "text": [
      "('SUM (Valor)', None, None, None, None, None, None)\n",
      "\n",
      "(1566.0,)\n"
     ]
    }
   ],
   "source": [
    "# Soma\n",
    "# SUM\n",
    "\n",
    "Query = \"SELECT SUM (Valor) FROM random_table\"\n",
    "\n",
    "Execute_and_Show(Query,arquivo)"
   ]
  },
  {
   "cell_type": "markdown",
   "metadata": {},
   "source": [
    "## Sobre o SQLite3"
   ]
  },
  {
   "cell_type": "markdown",
   "metadata": {},
   "source": [
    "Conexão com a memória."
   ]
  },
  {
   "cell_type": "code",
   "execution_count": 53,
   "metadata": {},
   "outputs": [],
   "source": [
    "con_mem = sqlite3.connect(':memory:')\n",
    "\n",
    "###\n",
    "\n",
    "con_mem.close()"
   ]
  },
  {
   "cell_type": "markdown",
   "metadata": {},
   "source": [
    "Contagem de linhas afetadas"
   ]
  },
  {
   "cell_type": "code",
   "execution_count": 54,
   "metadata": {},
   "outputs": [
    {
     "name": "stdout",
     "output_type": "stream",
     "text": [
      "2\n",
      "\n",
      "Colunas ['ID', 'Produto', 'Valor', 'Data', 'Vendido']\n",
      "['ID: 1', 'Produto: CPU', 'Valor: 63.0', 'Data: 2022-09-13 20:31:38.756116', 'Vendido: 1']\n",
      "['ID: 3', 'Produto: Monitor', 'Valor: 65.0', 'Data: 2022-09-13 20:31:38.778102', 'Vendido: 0']\n",
      "['ID: 5', 'Produto: Mouse', 'Valor: 61.0', 'Data: 2022-09-13 20:31:38.802088', 'Vendido: 1']\n",
      "['ID: 6', 'Produto: Monitor', 'Valor: 66.0', 'Data: 2022-09-13 20:31:38.819076', 'Vendido: 1']\n",
      "['ID: 9', 'Produto: Monitor', 'Valor: 76.0', 'Data: 2022-09-13 20:31:38.860070', 'Vendido: 1']\n",
      "['ID: 10', 'Produto: Teclado', 'Valor: 97.0', 'Data: 2022-09-13 20:31:38.877050', 'Vendido: 1']\n",
      "['ID: 12', 'Produto: CPU', 'Valor: 63.0', 'Data: 2022-09-13 20:31:38.935004', 'Vendido: 1']\n",
      "['ID: 13', 'Produto: CPU', 'Valor: 99.0', 'Data: 2022-09-13 20:31:38.949994', 'Vendido: 1']\n",
      "['ID: 14', 'Produto: CPU', 'Valor: 61.0', 'Data: 2022-09-13 20:31:39.002962', 'Vendido: 1']\n",
      "['ID: 15', 'Produto: Teclado', 'Valor: 77.0', 'Data: 2022-09-13 20:31:39.013956', 'Vendido: 1']\n",
      "['ID: 16', 'Produto: Monitor', 'Valor: 61.0', 'Data: 2022-09-13 20:31:39.020427', 'Vendido: 0']\n",
      "['ID: 17', 'Produto: Mouse', 'Valor: 71.0', 'Data: 2022-09-13 20:31:39.028423', 'Vendido: 1']\n",
      "['ID: 18', 'Produto: CPU', 'Valor: 70.0', 'Data: 2022-09-13 20:31:39.039415', 'Vendido: 1']\n",
      "['ID: 19', 'Produto: Monitor', 'Valor: 80.0', 'Data: 2022-09-13 20:31:39.050408', 'Vendido: 1']\n",
      "['ID: 20', 'Produto: CPU', 'Valor: 95.0', 'Data: 2022-09-13 20:31:39.057403', 'Vendido: 0']\n",
      "['ID: 21', 'Produto: CPU', 'Valor: 91.0', 'Data: 2022-09-03 16:26:28.564400', 'Vendido: 1']\n",
      "['ID: 22', 'Produto: CPU', 'Valor: 120.0', 'Data: 2022-09-03 16:26:28.564400', 'Vendido: 0']\n",
      "['ID: 28', 'Produto: None', 'Valor: 120.0', 'Data: 2022-09-03 16:26:28.564400', 'Vendido: 0']\n"
     ]
    }
   ],
   "source": [
    "Query = 'DELETE FROM random_table WHERE Produto = \"Câmera\" OR Produto = \"Cabos\"'\n",
    "\n",
    "Conn = sqlite3.connect(arquivo)\n",
    "Cursor = Conn.cursor()\n",
    "\n",
    "# Isso não só deleta como conta quantas alterações foram feitas.\n",
    "print(Cursor.execute(Query).rowcount)\n",
    "\n",
    "Conn.commit()\n",
    "Cursor.close()\n",
    "Conn.close()\n",
    "\n",
    "print()\n",
    "\n",
    "showall(arquivo,tabela)"
   ]
  },
  {
   "cell_type": "markdown",
   "metadata": {},
   "source": [
    "Características do comando .fetchall()"
   ]
  },
  {
   "cell_type": "code",
   "execution_count": 55,
   "metadata": {},
   "outputs": [
    {
     "name": "stdout",
     "output_type": "stream",
     "text": [
      "Empty Fetched Data: []\n",
      "Stored Fetched Data: [(1, 'CPU', 63.0, '2022-09-13 20:31:38.756116', 1), (3, 'Monitor', 65.0, '2022-09-13 20:31:38.778102', 0), (5, 'Mouse', 61.0, '2022-09-13 20:31:38.802088', 1)]\n"
     ]
    }
   ],
   "source": [
    "# O comando .fetchall é descartável. Depois de executado, torna-se uma lista vazia.\n",
    "\n",
    "Query = \"SELECT * FROM random_table LIMIT 3\"\n",
    "\n",
    "curs = sqlite3.connect(arquivo).cursor()\n",
    "curs.execute(Query)\n",
    "\n",
    "Stored_Data = curs.fetchall()                         # Aqui o Fetchall é utilizado, armazenando a lista numa variável.\n",
    "\n",
    "print('Empty Fetched Data:',curs.fetchall())          # Aqui ele é impresso como uma lista vazi\n",
    "\n",
    "\n",
    "print('Stored Fetched Data:',Stored_Data)\n",
    "\n",
    "\n",
    "curs.close()"
   ]
  },
  {
   "cell_type": "markdown",
   "metadata": {},
   "source": [
    "### Erros e Exceções"
   ]
  },
  {
   "cell_type": "markdown",
   "metadata": {},
   "source": [
    "* *DatabaseError*\n",
    "   * Qualquer erro relacionado ao banco de dados."
   ]
  },
  {
   "cell_type": "markdown",
   "metadata": {},
   "source": [
    "* *IntegrityError*\n",
    "  * É uma subclasse de _DatabaseError_ e surge quando há problema de integridade de dados. Por exemplo, dados extrangeiros não estão atualizados em todas as tabelas resultando na inconsistência dos dados."
   ]
  },
  {
   "cell_type": "markdown",
   "metadata": {},
   "source": [
    "* *ProgrammingError*\n",
    "  * Surge quando há erro de sintaxe, ou a tabela não é encontrada, ou a função é evocada com o número errado de parâmetros/argumentos."
   ]
  },
  {
   "cell_type": "markdown",
   "metadata": {},
   "source": [
    "* *OperationalError*\n",
    "   * Esta exceção surge quando as operações do banco de dados falham; por exemplo, desconexão não usual. Não é culpa do programador."
   ]
  },
  {
   "cell_type": "markdown",
   "metadata": {},
   "source": [
    "* *NotSupportedError*\n",
    "   * Quando você usa algum método que não está definido ou não é suportado pelo banco de dados."
   ]
  }
 ],
 "metadata": {
  "kernelspec": {
   "display_name": "Python 3.10.6 64-bit (microsoft store)",
   "language": "python",
   "name": "python3"
  },
  "language_info": {
   "codemirror_mode": {
    "name": "ipython",
    "version": 3
   },
   "file_extension": ".py",
   "mimetype": "text/x-python",
   "name": "python",
   "nbconvert_exporter": "python",
   "pygments_lexer": "ipython3",
   "version": "3.10.7"
  },
  "orig_nbformat": 4,
  "vscode": {
   "interpreter": {
    "hash": "91b18657112df8a6dc2946b9dfe3559ddfc8e1e2117c2c8071424b5e043bd8e1"
   }
  }
 },
 "nbformat": 4,
 "nbformat_minor": 2
}

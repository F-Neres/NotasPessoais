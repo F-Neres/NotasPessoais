{
 "cells": [
  {
   "cell_type": "markdown",
   "metadata": {},
   "source": [
    "# Guia de Comandos SQL Aplicados em Python"
   ]
  },
  {
   "cell_type": "markdown",
   "metadata": {},
   "source": [
    "* [Demonstração](#Demo)\n",
    "* Criação\n",
    "* Adição e Remoção\n",
    "* Alteração\n",
    "* Filtros e Operadores Lógicos"
   ]
  },
  {
   "cell_type": "markdown",
   "metadata": {},
   "source": [
    "Pacotes:"
   ]
  },
  {
   "cell_type": "code",
   "execution_count": 1,
   "metadata": {},
   "outputs": [],
   "source": [
    "import os\n",
    "import sqlite3"
   ]
  },
  {
   "cell_type": "markdown",
   "metadata": {},
   "source": [
    "## Criando um exemplo com funções"
   ]
  },
  {
   "cell_type": "code",
   "execution_count": 2,
   "metadata": {},
   "outputs": [],
   "source": [
    "import random\n",
    "import time\n",
    "import datetime"
   ]
  },
  {
   "cell_type": "code",
   "execution_count": 3,
   "metadata": {},
   "outputs": [],
   "source": [
    "#Database e tabela padrões\n",
    "\n",
    "arquivo = r'../ArquivosParalelos/random_tables.db'\n",
    "tabela = 'random_table'"
   ]
  },
  {
   "cell_type": "code",
   "execution_count": 4,
   "metadata": {},
   "outputs": [],
   "source": [
    "# Função para criar um arquivo e a tabela\n",
    "\n",
    "# todas as variáveis são dadas como strings\n",
    "# \"arquivo\" é o diretório e o nome o arquivo db a ser criado\n",
    "# \"tabela\" é o nome da tabela dentro do db\n",
    "# \"colunas\" recebe os nomes das colunas juntamente com suas diretrizes.\n",
    "\n",
    "\n",
    "def create_table(arquivo,tabela,*colunas_parametros):\n",
    "    c = sqlite3.connect(arquivo).cursor() #Cria o arquivo, se ele já não existe, com a conexão e o cursor.\n",
    "    Colunas = ''\n",
    "    for i in colunas_parametros:\n",
    "        Colunas = Colunas+i+', '\n",
    "    Colunas = Colunas[0:-2] #Remove a vírgula e o espaço no final\n",
    "    c.execute(f'CREATE TABLE IF NOT EXISTS {tabela}({Colunas})')\n",
    "    c.close()"
   ]
  },
  {
   "cell_type": "code",
   "execution_count": 5,
   "metadata": {},
   "outputs": [],
   "source": [
    "# Função para inserir dados.\n",
    "\n",
    "# \"arquivo\" é uma sring com o diretório e o nome do DB\n",
    "# \"tabela\" é uma string contendo o nome da tabela\n",
    "# \"colunas\" é uma lista ou tupla com strings contendo os nomes das colunas.\n",
    "# \"valores\" é uma lista ou tupla contendo os valores a serem acrescentados, na ordem das colunas\n",
    "\n",
    "def data_insert_var(arquivo,tabela,colunas,valores):\n",
    "    conn = sqlite3.connect(arquivo)\n",
    "    c = conn.cursor()\n",
    "\n",
    "    Colunas = ''\n",
    "    for i in colunas:\n",
    "        Colunas = Colunas+i+', '\n",
    "    Colunas = Colunas[0:-2]\n",
    "    print(Colunas)\n",
    "\n",
    "    n = ''\n",
    "    for i in range(len(colunas)):\n",
    "        n = n+'?, '\n",
    "    n = n[0:-2]\n",
    "    print(n)\n",
    "\n",
    "    print('')\n",
    "    print(f\"INSERT INTO {tabela} ({Colunas}) VALUES ({n})\")\n",
    "    print(valores)\n",
    "\n",
    "    c.execute(f\"INSERT INTO {tabela} ({Colunas}) VALUES ({n})\", valores)\n",
    "    conn.commit()\n",
    "    c.close()\n",
    "    conn.close()"
   ]
  },
  {
   "cell_type": "code",
   "execution_count": 6,
   "metadata": {},
   "outputs": [],
   "source": [
    "# Função de leitura\n",
    "\n",
    "def showall(arquivo,tabela):\n",
    "    c = sqlite3.connect(arquivo).cursor()\n",
    "    c.execute(f'select * from {tabela}')\n",
    "    data = c.fetchall()\n",
    "\n",
    "    Colunas = [i[0] for i in c.execute(f'select * from {tabela}').description ]\n",
    "    print(\"Colunas\",Colunas)\n",
    "\n",
    "    for i in data:\n",
    "        linha = []\n",
    "        for j,k in zip(Colunas,i):\n",
    "            linha.append(f\"{j}: {k}\")\n",
    "        print(linha)\n",
    "\n",
    "    c.close()"
   ]
  },
  {
   "cell_type": "code",
   "execution_count": 7,
   "metadata": {},
   "outputs": [
    {
     "name": "stdout",
     "output_type": "stream",
     "text": [
      "Produto, Valor, Data\n",
      "?, ?, ?\n",
      "\n",
      "INSERT INTO random_table (Produto, Valor, Data) VALUES (?, ?, ?)\n",
      "('Monitor', 57, datetime.datetime(2022, 9, 4, 16, 49, 14, 751662))\n",
      "Produto, Valor, Data\n",
      "?, ?, ?\n",
      "\n",
      "INSERT INTO random_table (Produto, Valor, Data) VALUES (?, ?, ?)\n",
      "('Monitor', 76, datetime.datetime(2022, 9, 4, 16, 49, 14, 757658))\n",
      "Produto, Valor, Data\n",
      "?, ?, ?\n",
      "\n",
      "INSERT INTO random_table (Produto, Valor, Data) VALUES (?, ?, ?)\n",
      "('CPU', 89, datetime.datetime(2022, 9, 4, 16, 49, 14, 763654))\n",
      "Produto, Valor, Data\n",
      "?, ?, ?\n",
      "\n",
      "INSERT INTO random_table (Produto, Valor, Data) VALUES (?, ?, ?)\n",
      "('Monitor', 97, datetime.datetime(2022, 9, 4, 16, 49, 14, 769650))\n",
      "Produto, Valor, Data\n",
      "?, ?, ?\n",
      "\n",
      "INSERT INTO random_table (Produto, Valor, Data) VALUES (?, ?, ?)\n",
      "('CPU', 90, datetime.datetime(2022, 9, 4, 16, 49, 14, 776647))\n",
      "Produto, Valor, Data\n",
      "?, ?, ?\n",
      "\n",
      "INSERT INTO random_table (Produto, Valor, Data) VALUES (?, ?, ?)\n",
      "('Mouse', 74, datetime.datetime(2022, 9, 4, 16, 49, 14, 782643))\n",
      "Produto, Valor, Data\n",
      "?, ?, ?\n",
      "\n",
      "INSERT INTO random_table (Produto, Valor, Data) VALUES (?, ?, ?)\n",
      "('Teclado', 97, datetime.datetime(2022, 9, 4, 16, 49, 14, 787639))\n",
      "Produto, Valor, Data\n",
      "?, ?, ?\n",
      "\n",
      "INSERT INTO random_table (Produto, Valor, Data) VALUES (?, ?, ?)\n",
      "('CPU', 80, datetime.datetime(2022, 9, 4, 16, 49, 14, 793636))\n",
      "Produto, Valor, Data\n",
      "?, ?, ?\n",
      "\n",
      "INSERT INTO random_table (Produto, Valor, Data) VALUES (?, ?, ?)\n",
      "('Mouse', 88, datetime.datetime(2022, 9, 4, 16, 49, 14, 801631))\n",
      "Produto, Valor, Data\n",
      "?, ?, ?\n",
      "\n",
      "INSERT INTO random_table (Produto, Valor, Data) VALUES (?, ?, ?)\n",
      "('Monitor', 69, datetime.datetime(2022, 9, 4, 16, 49, 14, 812624))\n",
      "Produto, Valor, Data\n",
      "?, ?, ?\n",
      "\n",
      "INSERT INTO random_table (Produto, Valor, Data) VALUES (?, ?, ?)\n",
      "('Monitor', 70, datetime.datetime(2022, 9, 4, 16, 49, 14, 819620))\n",
      "Produto, Valor, Data\n",
      "?, ?, ?\n",
      "\n",
      "INSERT INTO random_table (Produto, Valor, Data) VALUES (?, ?, ?)\n",
      "('Mouse', 86, datetime.datetime(2022, 9, 4, 16, 49, 14, 829616))\n",
      "Produto, Valor, Data\n",
      "?, ?, ?\n",
      "\n",
      "INSERT INTO random_table (Produto, Valor, Data) VALUES (?, ?, ?)\n",
      "('Teclado', 72, datetime.datetime(2022, 9, 4, 16, 49, 14, 835610))\n",
      "Produto, Valor, Data\n",
      "?, ?, ?\n",
      "\n",
      "INSERT INTO random_table (Produto, Valor, Data) VALUES (?, ?, ?)\n",
      "('Teclado', 83, datetime.datetime(2022, 9, 4, 16, 49, 14, 840606))\n",
      "Produto, Valor, Data\n",
      "?, ?, ?\n",
      "\n",
      "INSERT INTO random_table (Produto, Valor, Data) VALUES (?, ?, ?)\n",
      "('Mouse', 58, datetime.datetime(2022, 9, 4, 16, 49, 14, 848602))\n",
      "Produto, Valor, Data\n",
      "?, ?, ?\n",
      "\n",
      "INSERT INTO random_table (Produto, Valor, Data) VALUES (?, ?, ?)\n",
      "('Monitor', 81, datetime.datetime(2022, 9, 4, 16, 49, 14, 853599))\n",
      "Produto, Valor, Data\n",
      "?, ?, ?\n",
      "\n",
      "INSERT INTO random_table (Produto, Valor, Data) VALUES (?, ?, ?)\n",
      "('Mouse', 70, datetime.datetime(2022, 9, 4, 16, 49, 14, 860603))\n",
      "Produto, Valor, Data\n",
      "?, ?, ?\n",
      "\n",
      "INSERT INTO random_table (Produto, Valor, Data) VALUES (?, ?, ?)\n",
      "('Monitor', 72, datetime.datetime(2022, 9, 4, 16, 49, 14, 869591))\n",
      "Produto, Valor, Data\n",
      "?, ?, ?\n",
      "\n",
      "INSERT INTO random_table (Produto, Valor, Data) VALUES (?, ?, ?)\n",
      "('CPU', 50, datetime.datetime(2022, 9, 4, 16, 49, 14, 876593))\n",
      "Produto, Valor, Data\n",
      "?, ?, ?\n",
      "\n",
      "INSERT INTO random_table (Produto, Valor, Data) VALUES (?, ?, ?)\n",
      "('CPU', 74, datetime.datetime(2022, 9, 4, 16, 49, 14, 881582))\n"
     ]
    }
   ],
   "source": [
    "# Criando uma tabela aletória\n",
    "\n",
    "os.remove(r'../ArquivosParalelos/random_tables.db') if os.path.exists(r'../ArquivosParalelos/random_tables.db') else None\n",
    "\n",
    "n = 20 #Número de observações\n",
    "\n",
    "create_table(arquivo,tabela,\"ID INTEGER PRIMARY KEY AUTOINCREMENT NOT NULL\",\"Produto TEXT\",\"Valor REAL\",\"Data TEXT\")\n",
    "#create_table(arquivo,tabela,\"ID INTEGER PRIMARY KEY NOT NULL\",\"Produto TEXT\",\"Valor REAL\",\"Data TEXT\")\n",
    "\n",
    "for i in range(n): #cria n itens na lista.\n",
    "    new_date = datetime.datetime.now() #cria um objeto contendo a data e a hora atuais.\n",
    "    new_prod_name = random.choice(['Monitor', 'CPU', 'Teclado','Mouse']) #Escolhe um item na lista.\n",
    "    new_value = random.randrange(50,100) #Escolhe um preço para ser um valor do item.\n",
    "\n",
    "    valores = (new_prod_name,new_value,new_date)\n",
    "\n",
    "    data_insert_var(arquivo,tabela,('Produto','Valor','Data'),valores)\n",
    "\n",
    "    time.sleep(0) #aguarda."
   ]
  },
  {
   "cell_type": "code",
   "execution_count": 8,
   "metadata": {},
   "outputs": [
    {
     "name": "stdout",
     "output_type": "stream",
     "text": [
      "Colunas ['ID', 'Produto', 'Valor', 'Data']\n",
      "['ID: 1', 'Produto: Monitor', 'Valor: 57.0', 'Data: 2022-09-04 16:49:14.751662']\n",
      "['ID: 2', 'Produto: Monitor', 'Valor: 76.0', 'Data: 2022-09-04 16:49:14.757658']\n",
      "['ID: 3', 'Produto: CPU', 'Valor: 89.0', 'Data: 2022-09-04 16:49:14.763654']\n",
      "['ID: 4', 'Produto: Monitor', 'Valor: 97.0', 'Data: 2022-09-04 16:49:14.769650']\n",
      "['ID: 5', 'Produto: CPU', 'Valor: 90.0', 'Data: 2022-09-04 16:49:14.776647']\n",
      "['ID: 6', 'Produto: Mouse', 'Valor: 74.0', 'Data: 2022-09-04 16:49:14.782643']\n",
      "['ID: 7', 'Produto: Teclado', 'Valor: 97.0', 'Data: 2022-09-04 16:49:14.787639']\n",
      "['ID: 8', 'Produto: CPU', 'Valor: 80.0', 'Data: 2022-09-04 16:49:14.793636']\n",
      "['ID: 9', 'Produto: Mouse', 'Valor: 88.0', 'Data: 2022-09-04 16:49:14.801631']\n",
      "['ID: 10', 'Produto: Monitor', 'Valor: 69.0', 'Data: 2022-09-04 16:49:14.812624']\n",
      "['ID: 11', 'Produto: Monitor', 'Valor: 70.0', 'Data: 2022-09-04 16:49:14.819620']\n",
      "['ID: 12', 'Produto: Mouse', 'Valor: 86.0', 'Data: 2022-09-04 16:49:14.829616']\n",
      "['ID: 13', 'Produto: Teclado', 'Valor: 72.0', 'Data: 2022-09-04 16:49:14.835610']\n",
      "['ID: 14', 'Produto: Teclado', 'Valor: 83.0', 'Data: 2022-09-04 16:49:14.840606']\n",
      "['ID: 15', 'Produto: Mouse', 'Valor: 58.0', 'Data: 2022-09-04 16:49:14.848602']\n",
      "['ID: 16', 'Produto: Monitor', 'Valor: 81.0', 'Data: 2022-09-04 16:49:14.853599']\n",
      "['ID: 17', 'Produto: Mouse', 'Valor: 70.0', 'Data: 2022-09-04 16:49:14.860603']\n",
      "['ID: 18', 'Produto: Monitor', 'Valor: 72.0', 'Data: 2022-09-04 16:49:14.869591']\n",
      "['ID: 19', 'Produto: CPU', 'Valor: 50.0', 'Data: 2022-09-04 16:49:14.876593']\n",
      "['ID: 20', 'Produto: CPU', 'Valor: 74.0', 'Data: 2022-09-04 16:49:14.881582']\n"
     ]
    }
   ],
   "source": [
    "# Vendo a tabela.\n",
    "\n",
    "showall(arquivo,tabela)"
   ]
  },
  {
   "cell_type": "code",
   "execution_count": 9,
   "metadata": {},
   "outputs": [],
   "source": [
    "# Função para mostrar apenas o Fetchall\n",
    "\n",
    "def Execute_and_Show(Query,arquivo):\n",
    "    Cursor = sqlite3.connect(arquivo).cursor()\n",
    "    Cursor.execute(Query)\n",
    "    for i in Cursor.execute(Query).description:\n",
    "        print(i)\n",
    "    for i in Cursor.fetchall():\n",
    "        print(i)\n",
    "    Cursor.close()"
   ]
  },
  {
   "cell_type": "code",
   "execution_count": 10,
   "metadata": {},
   "outputs": [],
   "source": [
    "# Função para executar e enviar ao DB.\n",
    "\n",
    "def Execute_and_Commit(Query,arquivo,tabela):\n",
    "    Conn = sqlite3.connect(arquivo)\n",
    "    Cursor = Conn.cursor()\n",
    "    Cursor.execute(Query)\n",
    "    Conn.commit()\n",
    "    Cursor.close()\n",
    "    Conn.close()\n",
    "    showall(arquivo,tabela)"
   ]
  },
  {
   "cell_type": "markdown",
   "metadata": {},
   "source": [
    "## Queries"
   ]
  },
  {
   "cell_type": "markdown",
   "metadata": {},
   "source": [
    "<a id='Demo'></a>\n",
    "### Demonstração"
   ]
  },
  {
   "cell_type": "code",
   "execution_count": 11,
   "metadata": {},
   "outputs": [
    {
     "name": "stdout",
     "output_type": "stream",
     "text": [
      "('ID', None, None, None, None, None, None)\n",
      "('Produto', None, None, None, None, None, None)\n",
      "('Valor', None, None, None, None, None, None)\n",
      "('Data', None, None, None, None, None, None)\n",
      "(1, 'Monitor', 57.0, '2022-09-04 16:49:14.751662')\n",
      "(2, 'Monitor', 76.0, '2022-09-04 16:49:14.757658')\n",
      "(3, 'CPU', 89.0, '2022-09-04 16:49:14.763654')\n",
      "(4, 'Monitor', 97.0, '2022-09-04 16:49:14.769650')\n",
      "(5, 'CPU', 90.0, '2022-09-04 16:49:14.776647')\n",
      "(6, 'Mouse', 74.0, '2022-09-04 16:49:14.782643')\n",
      "(7, 'Teclado', 97.0, '2022-09-04 16:49:14.787639')\n",
      "(8, 'CPU', 80.0, '2022-09-04 16:49:14.793636')\n",
      "(9, 'Mouse', 88.0, '2022-09-04 16:49:14.801631')\n",
      "(10, 'Monitor', 69.0, '2022-09-04 16:49:14.812624')\n",
      "(11, 'Monitor', 70.0, '2022-09-04 16:49:14.819620')\n",
      "(12, 'Mouse', 86.0, '2022-09-04 16:49:14.829616')\n",
      "(13, 'Teclado', 72.0, '2022-09-04 16:49:14.835610')\n",
      "(14, 'Teclado', 83.0, '2022-09-04 16:49:14.840606')\n",
      "(15, 'Mouse', 58.0, '2022-09-04 16:49:14.848602')\n",
      "(16, 'Monitor', 81.0, '2022-09-04 16:49:14.853599')\n",
      "(17, 'Mouse', 70.0, '2022-09-04 16:49:14.860603')\n",
      "(18, 'Monitor', 72.0, '2022-09-04 16:49:14.869591')\n",
      "(19, 'CPU', 50.0, '2022-09-04 16:49:14.876593')\n",
      "(20, 'CPU', 74.0, '2022-09-04 16:49:14.881582')\n"
     ]
    }
   ],
   "source": [
    "# Mostrar todos os dados\n",
    "\n",
    "Query = \"SELECT * FROM random_table\"\n",
    "\n",
    "Execute_and_Show(Query,arquivo)"
   ]
  },
  {
   "cell_type": "code",
   "execution_count": 12,
   "metadata": {},
   "outputs": [
    {
     "name": "stdout",
     "output_type": "stream",
     "text": [
      "('Produto', None, None, None, None, None, None)\n",
      "('Valor', None, None, None, None, None, None)\n",
      "('Monitor', 57.0)\n",
      "('Monitor', 76.0)\n",
      "('CPU', 89.0)\n",
      "('Monitor', 97.0)\n",
      "('CPU', 90.0)\n",
      "('Mouse', 74.0)\n",
      "('Teclado', 97.0)\n",
      "('CPU', 80.0)\n",
      "('Mouse', 88.0)\n",
      "('Monitor', 69.0)\n",
      "('Monitor', 70.0)\n",
      "('Mouse', 86.0)\n",
      "('Teclado', 72.0)\n",
      "('Teclado', 83.0)\n",
      "('Mouse', 58.0)\n",
      "('Monitor', 81.0)\n",
      "('Mouse', 70.0)\n",
      "('Monitor', 72.0)\n",
      "('CPU', 50.0)\n",
      "('CPU', 74.0)\n"
     ]
    }
   ],
   "source": [
    "# Mostrar algumas colunas\n",
    "\n",
    "Query = \"SELECT Produto, Valor FROM random_table\"\n",
    "\n",
    "Execute_and_Show(Query,arquivo)"
   ]
  },
  {
   "cell_type": "code",
   "execution_count": 13,
   "metadata": {},
   "outputs": [
    {
     "name": "stdout",
     "output_type": "stream",
     "text": [
      "('Produto', None, None, None, None, None, None)\n",
      "('Valor', None, None, None, None, None, None)\n",
      "('Monitor', 57.0)\n",
      "('Monitor', 76.0)\n",
      "('CPU', 89.0)\n",
      "('Monitor', 97.0)\n",
      "('CPU', 90.0)\n",
      "('CPU', 80.0)\n",
      "('Monitor', 69.0)\n",
      "('Monitor', 70.0)\n",
      "('Monitor', 81.0)\n",
      "('Monitor', 72.0)\n",
      "('CPU', 50.0)\n",
      "('CPU', 74.0)\n"
     ]
    }
   ],
   "source": [
    "# Mostrar dados que correspondam a determinados valores\n",
    "# Usando operadores lógicos\n",
    "\n",
    "Query = \"SELECT Produto, Valor FROM random_table WHERE Produto = 'Monitor' OR Produto = 'CPU'\"\n",
    "\n",
    "Execute_and_Show(Query,arquivo)"
   ]
  },
  {
   "cell_type": "code",
   "execution_count": 14,
   "metadata": {},
   "outputs": [
    {
     "name": "stdout",
     "output_type": "stream",
     "text": [
      "('name', None, None, None, None, None, None)\n",
      "('random_table',)\n",
      "('sqlite_sequence',)\n"
     ]
    }
   ],
   "source": [
    "# Selecionaros nomes das tabelas da tabela \"sqlite_master\"\n",
    "\n",
    "Query = 'SELECT name FROM sqlite_master WHERE type = \"table\"'\n",
    "\n",
    "Execute_and_Show(Query,arquivo)"
   ]
  },
  {
   "cell_type": "code",
   "execution_count": 15,
   "metadata": {},
   "outputs": [
    {
     "name": "stdout",
     "output_type": "stream",
     "text": [
      "('name', None, None, None, None, None, None)\n",
      "('seq', None, None, None, None, None, None)\n",
      "('random_table', 20)\n"
     ]
    }
   ],
   "source": [
    "\n",
    "\n",
    "Query = 'SELECT * FROM sqlite_sequence'\n",
    "\n",
    "Execute_and_Show(Query,arquivo)"
   ]
  },
  {
   "cell_type": "markdown",
   "metadata": {},
   "source": [
    "### Criação e Queda\n",
    "<a id='Criação'></a>"
   ]
  },
  {
   "cell_type": "code",
   "execution_count": 16,
   "metadata": {},
   "outputs": [
    {
     "name": "stdout",
     "output_type": "stream",
     "text": [
      "Colunas ['id', 'name']\n"
     ]
    }
   ],
   "source": [
    "# Criar tabela nova\n",
    "\n",
    "Query = \"CREATE TABLE Exemplo(id integer, name text)\"\n",
    "\n",
    "Execute_and_Commit(Query,arquivo,'Exemplo')\n",
    "\n",
    "#Se a tabela já existe, ocorre um erro explícito."
   ]
  },
  {
   "cell_type": "code",
   "execution_count": 17,
   "metadata": {},
   "outputs": [
    {
     "name": "stdout",
     "output_type": "stream",
     "text": [
      "Colunas ['id', 'name']\n"
     ]
    }
   ],
   "source": [
    "# Criar tabela nova se não existir\n",
    "\n",
    "Query = \"CREATE TABLE IF NOT EXISTS Exemplo(id integer, name text)\"\n",
    "\n",
    "Execute_and_Commit(Query,arquivo,'Exemplo')"
   ]
  },
  {
   "cell_type": "code",
   "execution_count": 18,
   "metadata": {},
   "outputs": [
    {
     "name": "stdout",
     "output_type": "stream",
     "text": [
      "Colunas ['type', 'name', 'tbl_name', 'rootpage', 'sql']\n",
      "['type: table', 'name: random_table', 'tbl_name: random_table', 'rootpage: 2', 'sql: CREATE TABLE random_table(ID INTEGER PRIMARY KEY AUTOINCREMENT NOT NULL, Produto TEXT, Valor REAL, Data TEXT)']\n",
      "['type: table', 'name: sqlite_sequence', 'tbl_name: sqlite_sequence', 'rootpage: 3', 'sql: CREATE TABLE sqlite_sequence(name,seq)']\n",
      "['type: table', 'name: Exemplo', 'tbl_name: Exemplo', 'rootpage: 4', 'sql: CREATE TABLE Exemplo(id integer, name text)']\n",
      "\n",
      "Colunas ['type', 'name', 'tbl_name', 'rootpage', 'sql']\n",
      "['type: table', 'name: random_table', 'tbl_name: random_table', 'rootpage: 2', 'sql: CREATE TABLE random_table(ID INTEGER PRIMARY KEY AUTOINCREMENT NOT NULL, Produto TEXT, Valor REAL, Data TEXT)']\n",
      "['type: table', 'name: sqlite_sequence', 'tbl_name: sqlite_sequence', 'rootpage: 3', 'sql: CREATE TABLE sqlite_sequence(name,seq)']\n"
     ]
    }
   ],
   "source": [
    "# Criar tabela nova se não existir\n",
    "\n",
    "showall(arquivo,'sqlite_master')\n",
    "\n",
    "print()\n",
    "\n",
    "Query = \"DROP TABLE IF EXISTS Exemplo\"\n",
    "\n",
    "Execute_and_Commit(Query,arquivo,'sqlite_master')"
   ]
  },
  {
   "cell_type": "markdown",
   "metadata": {},
   "source": [
    "### Adição e Remoção\n",
    "<a id='Adição'></a>"
   ]
  },
  {
   "cell_type": "code",
   "execution_count": 19,
   "metadata": {},
   "outputs": [
    {
     "name": "stdout",
     "output_type": "stream",
     "text": [
      "Colunas ['ID', 'Produto', 'Valor', 'Data']\n",
      "['ID: 1', 'Produto: Monitor', 'Valor: 57.0', 'Data: 2022-09-04 16:49:14.751662']\n",
      "['ID: 2', 'Produto: Monitor', 'Valor: 76.0', 'Data: 2022-09-04 16:49:14.757658']\n",
      "['ID: 3', 'Produto: CPU', 'Valor: 89.0', 'Data: 2022-09-04 16:49:14.763654']\n",
      "['ID: 4', 'Produto: Monitor', 'Valor: 97.0', 'Data: 2022-09-04 16:49:14.769650']\n",
      "['ID: 5', 'Produto: CPU', 'Valor: 90.0', 'Data: 2022-09-04 16:49:14.776647']\n",
      "['ID: 6', 'Produto: Mouse', 'Valor: 74.0', 'Data: 2022-09-04 16:49:14.782643']\n",
      "['ID: 7', 'Produto: Teclado', 'Valor: 97.0', 'Data: 2022-09-04 16:49:14.787639']\n",
      "['ID: 8', 'Produto: CPU', 'Valor: 80.0', 'Data: 2022-09-04 16:49:14.793636']\n",
      "['ID: 9', 'Produto: Mouse', 'Valor: 88.0', 'Data: 2022-09-04 16:49:14.801631']\n",
      "['ID: 10', 'Produto: Monitor', 'Valor: 69.0', 'Data: 2022-09-04 16:49:14.812624']\n",
      "['ID: 11', 'Produto: Monitor', 'Valor: 70.0', 'Data: 2022-09-04 16:49:14.819620']\n",
      "['ID: 12', 'Produto: Mouse', 'Valor: 86.0', 'Data: 2022-09-04 16:49:14.829616']\n",
      "['ID: 13', 'Produto: Teclado', 'Valor: 72.0', 'Data: 2022-09-04 16:49:14.835610']\n",
      "['ID: 14', 'Produto: Teclado', 'Valor: 83.0', 'Data: 2022-09-04 16:49:14.840606']\n",
      "['ID: 15', 'Produto: Mouse', 'Valor: 58.0', 'Data: 2022-09-04 16:49:14.848602']\n",
      "['ID: 16', 'Produto: Monitor', 'Valor: 81.0', 'Data: 2022-09-04 16:49:14.853599']\n",
      "['ID: 17', 'Produto: Mouse', 'Valor: 70.0', 'Data: 2022-09-04 16:49:14.860603']\n",
      "['ID: 18', 'Produto: Monitor', 'Valor: 72.0', 'Data: 2022-09-04 16:49:14.869591']\n",
      "['ID: 19', 'Produto: CPU', 'Valor: 50.0', 'Data: 2022-09-04 16:49:14.876593']\n",
      "['ID: 20', 'Produto: CPU', 'Valor: 74.0', 'Data: 2022-09-04 16:49:14.881582']\n",
      "['ID: 21', 'Produto: CPU', 'Valor: 91.0', 'Data: 2022-09-03 16:26:28.564400']\n"
     ]
    }
   ],
   "source": [
    "# Inserir linha/observação\n",
    "\n",
    "Query = \"INSERT INTO random_table VALUES(21, 'CPU', 91.0, '2022-09-03 16:26:28.564400')\"\n",
    "\n",
    "# É necessário alternar entre aspas e aspas duplas para que o interpretador não encerre a string\n",
    "# Mesmo a Primary Key tendo autoincremento, ele deve ser dado\n",
    "# Se este comando foi executado uma segunda vez, um erro ocorre por tentar adicionar um ID que já existe.\n",
    "\n",
    "Execute_and_Commit(Query,arquivo,tabela)"
   ]
  },
  {
   "cell_type": "code",
   "execution_count": 20,
   "metadata": {},
   "outputs": [
    {
     "name": "stdout",
     "output_type": "stream",
     "text": [
      "Colunas ['ID', 'Produto', 'Valor', 'Data']\n",
      "['ID: 1', 'Produto: Monitor', 'Valor: 57.0', 'Data: 2022-09-04 16:49:14.751662']\n",
      "['ID: 2', 'Produto: Monitor', 'Valor: 76.0', 'Data: 2022-09-04 16:49:14.757658']\n",
      "['ID: 3', 'Produto: CPU', 'Valor: 89.0', 'Data: 2022-09-04 16:49:14.763654']\n",
      "['ID: 4', 'Produto: Monitor', 'Valor: 97.0', 'Data: 2022-09-04 16:49:14.769650']\n",
      "['ID: 5', 'Produto: CPU', 'Valor: 90.0', 'Data: 2022-09-04 16:49:14.776647']\n",
      "['ID: 6', 'Produto: Mouse', 'Valor: 74.0', 'Data: 2022-09-04 16:49:14.782643']\n",
      "['ID: 7', 'Produto: Teclado', 'Valor: 97.0', 'Data: 2022-09-04 16:49:14.787639']\n",
      "['ID: 8', 'Produto: CPU', 'Valor: 80.0', 'Data: 2022-09-04 16:49:14.793636']\n",
      "['ID: 9', 'Produto: Mouse', 'Valor: 88.0', 'Data: 2022-09-04 16:49:14.801631']\n",
      "['ID: 10', 'Produto: Monitor', 'Valor: 69.0', 'Data: 2022-09-04 16:49:14.812624']\n",
      "['ID: 11', 'Produto: Monitor', 'Valor: 70.0', 'Data: 2022-09-04 16:49:14.819620']\n",
      "['ID: 12', 'Produto: Mouse', 'Valor: 86.0', 'Data: 2022-09-04 16:49:14.829616']\n",
      "['ID: 13', 'Produto: Teclado', 'Valor: 72.0', 'Data: 2022-09-04 16:49:14.835610']\n",
      "['ID: 14', 'Produto: Teclado', 'Valor: 83.0', 'Data: 2022-09-04 16:49:14.840606']\n",
      "['ID: 15', 'Produto: Mouse', 'Valor: 58.0', 'Data: 2022-09-04 16:49:14.848602']\n",
      "['ID: 16', 'Produto: Monitor', 'Valor: 81.0', 'Data: 2022-09-04 16:49:14.853599']\n",
      "['ID: 17', 'Produto: Mouse', 'Valor: 70.0', 'Data: 2022-09-04 16:49:14.860603']\n",
      "['ID: 18', 'Produto: Monitor', 'Valor: 72.0', 'Data: 2022-09-04 16:49:14.869591']\n",
      "['ID: 19', 'Produto: CPU', 'Valor: 50.0', 'Data: 2022-09-04 16:49:14.876593']\n",
      "['ID: 20', 'Produto: CPU', 'Valor: 74.0', 'Data: 2022-09-04 16:49:14.881582']\n",
      "['ID: 21', 'Produto: CPU', 'Valor: 91.0', 'Data: 2022-09-03 16:26:28.564400']\n",
      "['ID: 22', 'Produto: CPU', 'Valor: 120.0', 'Data: 2022-09-03 16:26:28.564400']\n"
     ]
    }
   ],
   "source": [
    "# Inserir definindo valor e coluna\n",
    "\n",
    "Query = \"INSERT INTO random_table('Produto','Valor','Data') VALUES('CPU', 120.0, '2022-09-03 16:26:28.564400')\"\n",
    "\n",
    "Execute_and_Commit(Query,arquivo,tabela)"
   ]
  },
  {
   "cell_type": "code",
   "execution_count": 21,
   "metadata": {},
   "outputs": [],
   "source": [
    "# Inserir com o auxílio de uma tupla ou lista.\n",
    "\n",
    "# A execução muda\n",
    "\n",
    "Query = \"INSERT INTO random_table('Produto','Valor','Data') VALUES(?, ?, ?)\"\n",
    "\n",
    "Observação = ['Câmera',66,datetime.datetime.now()]\n",
    "\n",
    "\n",
    "Conn = sqlite3.connect(arquivo)\n",
    "Cursor = Conn.cursor()\n",
    "\n",
    "Cursor.execute(Query,Observação)\n",
    "\n",
    "Conn.commit()\n",
    "Cursor.close()\n",
    "Conn.close()\n"
   ]
  },
  {
   "cell_type": "code",
   "execution_count": 22,
   "metadata": {},
   "outputs": [
    {
     "name": "stdout",
     "output_type": "stream",
     "text": [
      "Colunas ['ID', 'Produto', 'Valor', 'Data']\n",
      "['ID: 2', 'Produto: Monitor', 'Valor: 76.0', 'Data: 2022-09-04 16:49:14.757658']\n",
      "['ID: 3', 'Produto: CPU', 'Valor: 89.0', 'Data: 2022-09-04 16:49:14.763654']\n",
      "['ID: 4', 'Produto: Monitor', 'Valor: 97.0', 'Data: 2022-09-04 16:49:14.769650']\n",
      "['ID: 5', 'Produto: CPU', 'Valor: 90.0', 'Data: 2022-09-04 16:49:14.776647']\n",
      "['ID: 6', 'Produto: Mouse', 'Valor: 74.0', 'Data: 2022-09-04 16:49:14.782643']\n",
      "['ID: 7', 'Produto: Teclado', 'Valor: 97.0', 'Data: 2022-09-04 16:49:14.787639']\n",
      "['ID: 8', 'Produto: CPU', 'Valor: 80.0', 'Data: 2022-09-04 16:49:14.793636']\n",
      "['ID: 9', 'Produto: Mouse', 'Valor: 88.0', 'Data: 2022-09-04 16:49:14.801631']\n",
      "['ID: 10', 'Produto: Monitor', 'Valor: 69.0', 'Data: 2022-09-04 16:49:14.812624']\n",
      "['ID: 11', 'Produto: Monitor', 'Valor: 70.0', 'Data: 2022-09-04 16:49:14.819620']\n",
      "['ID: 12', 'Produto: Mouse', 'Valor: 86.0', 'Data: 2022-09-04 16:49:14.829616']\n",
      "['ID: 13', 'Produto: Teclado', 'Valor: 72.0', 'Data: 2022-09-04 16:49:14.835610']\n",
      "['ID: 14', 'Produto: Teclado', 'Valor: 83.0', 'Data: 2022-09-04 16:49:14.840606']\n",
      "['ID: 16', 'Produto: Monitor', 'Valor: 81.0', 'Data: 2022-09-04 16:49:14.853599']\n",
      "['ID: 17', 'Produto: Mouse', 'Valor: 70.0', 'Data: 2022-09-04 16:49:14.860603']\n",
      "['ID: 18', 'Produto: Monitor', 'Valor: 72.0', 'Data: 2022-09-04 16:49:14.869591']\n",
      "['ID: 20', 'Produto: CPU', 'Valor: 74.0', 'Data: 2022-09-04 16:49:14.881582']\n",
      "['ID: 21', 'Produto: CPU', 'Valor: 91.0', 'Data: 2022-09-03 16:26:28.564400']\n",
      "['ID: 22', 'Produto: CPU', 'Valor: 120.0', 'Data: 2022-09-03 16:26:28.564400']\n",
      "['ID: 23', 'Produto: Câmera', 'Valor: 66.0', 'Data: 2022-09-04 16:49:16.459827']\n"
     ]
    }
   ],
   "source": [
    "# Deletar dado\n",
    "\n",
    "Query = \"DELETE FROM random_table WHERE Valor < 60\"\n",
    "\n",
    "Execute_and_Commit(Query,arquivo,tabela)"
   ]
  },
  {
   "cell_type": "markdown",
   "metadata": {},
   "source": [
    "### Alteração\n",
    "<a id='Alteração'></a>"
   ]
  },
  {
   "cell_type": "code",
   "execution_count": 23,
   "metadata": {},
   "outputs": [
    {
     "name": "stdout",
     "output_type": "stream",
     "text": [
      "Colunas ['ID', 'Produto', 'Valor', 'Data']\n",
      "['ID: 2', 'Produto: Cabos', 'Valor: 76.0', 'Data: 2022-09-04 16:49:14.757658']\n",
      "['ID: 3', 'Produto: CPU', 'Valor: 89.0', 'Data: 2022-09-04 16:49:14.763654']\n",
      "['ID: 4', 'Produto: Monitor', 'Valor: 97.0', 'Data: 2022-09-04 16:49:14.769650']\n",
      "['ID: 5', 'Produto: CPU', 'Valor: 90.0', 'Data: 2022-09-04 16:49:14.776647']\n",
      "['ID: 6', 'Produto: Mouse', 'Valor: 74.0', 'Data: 2022-09-04 16:49:14.782643']\n",
      "['ID: 7', 'Produto: Teclado', 'Valor: 97.0', 'Data: 2022-09-04 16:49:14.787639']\n",
      "['ID: 8', 'Produto: CPU', 'Valor: 80.0', 'Data: 2022-09-04 16:49:14.793636']\n",
      "['ID: 9', 'Produto: Mouse', 'Valor: 88.0', 'Data: 2022-09-04 16:49:14.801631']\n",
      "['ID: 10', 'Produto: Monitor', 'Valor: 69.0', 'Data: 2022-09-04 16:49:14.812624']\n",
      "['ID: 11', 'Produto: Monitor', 'Valor: 70.0', 'Data: 2022-09-04 16:49:14.819620']\n",
      "['ID: 12', 'Produto: Mouse', 'Valor: 86.0', 'Data: 2022-09-04 16:49:14.829616']\n",
      "['ID: 13', 'Produto: Teclado', 'Valor: 72.0', 'Data: 2022-09-04 16:49:14.835610']\n",
      "['ID: 14', 'Produto: Teclado', 'Valor: 83.0', 'Data: 2022-09-04 16:49:14.840606']\n",
      "['ID: 16', 'Produto: Monitor', 'Valor: 81.0', 'Data: 2022-09-04 16:49:14.853599']\n",
      "['ID: 17', 'Produto: Mouse', 'Valor: 70.0', 'Data: 2022-09-04 16:49:14.860603']\n",
      "['ID: 18', 'Produto: Monitor', 'Valor: 72.0', 'Data: 2022-09-04 16:49:14.869591']\n",
      "['ID: 20', 'Produto: CPU', 'Valor: 74.0', 'Data: 2022-09-04 16:49:14.881582']\n",
      "['ID: 21', 'Produto: CPU', 'Valor: 91.0', 'Data: 2022-09-03 16:26:28.564400']\n",
      "['ID: 22', 'Produto: CPU', 'Valor: 120.0', 'Data: 2022-09-03 16:26:28.564400']\n",
      "['ID: 23', 'Produto: Câmera', 'Valor: 66.0', 'Data: 2022-09-04 16:49:16.459827']\n"
     ]
    }
   ],
   "source": [
    "# Mudança de valor\n",
    "\n",
    "Query = \"UPDATE random_table SET Produto = 'Cabos' WHERE id = 2\"\n",
    "\n",
    "Execute_and_Commit(Query,arquivo,tabela)"
   ]
  },
  {
   "cell_type": "code",
   "execution_count": 24,
   "metadata": {},
   "outputs": [
    {
     "data": {
      "text/plain": [
       "\"UPDATE random_table SET Produto = 'Cabos' WHERE id = 2\""
      ]
     },
     "execution_count": 24,
     "metadata": {},
     "output_type": "execute_result"
    }
   ],
   "source": [
    "# Remover linha\n",
    "\n",
    "Query"
   ]
  },
  {
   "cell_type": "markdown",
   "metadata": {},
   "source": [
    "### Filtros e Operadores Lógicos\n",
    "<a id='Filtros e Operadores Lógicos'></a>"
   ]
  },
  {
   "cell_type": "code",
   "execution_count": 25,
   "metadata": {},
   "outputs": [
    {
     "name": "stdout",
     "output_type": "stream",
     "text": [
      "('Produto', None, None, None, None, None, None)\n",
      "('Valor', None, None, None, None, None, None)\n",
      "('Monitor', 97.0)\n",
      "('Monitor', 69.0)\n",
      "('Monitor', 70.0)\n",
      "('Monitor', 81.0)\n",
      "('Monitor', 72.0)\n",
      "('CPU', 91.0)\n",
      "('CPU', 120.0)\n"
     ]
    }
   ],
   "source": [
    "# WHERE filtra os dados considerados\n",
    "# Se o filtro é aplicado duas vezes a uma mesma coluna, ele deve ser demonstrado duas vezes\n",
    "\n",
    "Query = \"SELECT Produto, Valor FROM random_table WHERE Produto = 'Monitor' OR Produto = 'CPU' AND Valor > 90\"\n",
    "\n",
    "# Desta forma, apenas CPU é filtrada acima de 90. Monitores não foram filtrados\n",
    "\n",
    "Execute_and_Show(Query,arquivo)"
   ]
  },
  {
   "cell_type": "code",
   "execution_count": 26,
   "metadata": {},
   "outputs": [
    {
     "name": "stdout",
     "output_type": "stream",
     "text": [
      "('Produto', None, None, None, None, None, None)\n",
      "('Valor', None, None, None, None, None, None)\n",
      "('Monitor', 97.0)\n",
      "('CPU', 91.0)\n",
      "('CPU', 120.0)\n"
     ]
    }
   ],
   "source": [
    "# Assim, o filtro é aplicado a ambos os tipos de produtos\n",
    "\n",
    "Query = \"SELECT Produto, Valor FROM random_table WHERE (Produto = 'Monitor' OR Produto = 'CPU') AND Valor > 90\"\n",
    "\n",
    "Execute_and_Show(Query,arquivo)"
   ]
  },
  {
   "cell_type": "code",
   "execution_count": 29,
   "metadata": {},
   "outputs": [
    {
     "name": "stdout",
     "output_type": "stream",
     "text": [
      "('name', None, None, None, None, None, None)\n",
      "\n",
      "('name', None, None, None, None, None, None)\n",
      "('random_table',)\n"
     ]
    }
   ],
   "source": [
    "# Variável SE\n",
    "# Verificação se determinada tabela existe\n",
    "\n",
    "Query1 = 'SELECT name from sqlite_master WHERE type = \"table\" AND name = \"Exemplo\"'\n",
    "Query2 = 'SELECT name from sqlite_master WHERE type = \"table\" AND name = \"random_table\"'\n",
    "\n",
    "Execute_and_Show(Query1,arquivo)\n",
    "print()\n",
    "Execute_and_Show(Query2,arquivo)"
   ]
  },
  {
   "cell_type": "markdown",
   "metadata": {},
   "source": [
    "## Sobre o SQLite3"
   ]
  },
  {
   "cell_type": "markdown",
   "metadata": {},
   "source": [
    "Conexão com a memória."
   ]
  },
  {
   "cell_type": "code",
   "execution_count": 27,
   "metadata": {},
   "outputs": [],
   "source": [
    "con_mem = sqlite3.connect(':memory:')\n",
    "\n",
    "###\n",
    "\n",
    "con_mem.close()"
   ]
  },
  {
   "cell_type": "markdown",
   "metadata": {},
   "source": [
    "Contagem de linhas afetadas"
   ]
  },
  {
   "cell_type": "code",
   "execution_count": 28,
   "metadata": {},
   "outputs": [
    {
     "name": "stdout",
     "output_type": "stream",
     "text": [
      "2\n",
      "\n",
      "Colunas ['ID', 'Produto', 'Valor', 'Data']\n",
      "['ID: 3', 'Produto: CPU', 'Valor: 89.0', 'Data: 2022-09-04 16:49:14.763654']\n",
      "['ID: 4', 'Produto: Monitor', 'Valor: 97.0', 'Data: 2022-09-04 16:49:14.769650']\n",
      "['ID: 5', 'Produto: CPU', 'Valor: 90.0', 'Data: 2022-09-04 16:49:14.776647']\n",
      "['ID: 6', 'Produto: Mouse', 'Valor: 74.0', 'Data: 2022-09-04 16:49:14.782643']\n",
      "['ID: 7', 'Produto: Teclado', 'Valor: 97.0', 'Data: 2022-09-04 16:49:14.787639']\n",
      "['ID: 8', 'Produto: CPU', 'Valor: 80.0', 'Data: 2022-09-04 16:49:14.793636']\n",
      "['ID: 9', 'Produto: Mouse', 'Valor: 88.0', 'Data: 2022-09-04 16:49:14.801631']\n",
      "['ID: 10', 'Produto: Monitor', 'Valor: 69.0', 'Data: 2022-09-04 16:49:14.812624']\n",
      "['ID: 11', 'Produto: Monitor', 'Valor: 70.0', 'Data: 2022-09-04 16:49:14.819620']\n",
      "['ID: 12', 'Produto: Mouse', 'Valor: 86.0', 'Data: 2022-09-04 16:49:14.829616']\n",
      "['ID: 13', 'Produto: Teclado', 'Valor: 72.0', 'Data: 2022-09-04 16:49:14.835610']\n",
      "['ID: 14', 'Produto: Teclado', 'Valor: 83.0', 'Data: 2022-09-04 16:49:14.840606']\n",
      "['ID: 16', 'Produto: Monitor', 'Valor: 81.0', 'Data: 2022-09-04 16:49:14.853599']\n",
      "['ID: 17', 'Produto: Mouse', 'Valor: 70.0', 'Data: 2022-09-04 16:49:14.860603']\n",
      "['ID: 18', 'Produto: Monitor', 'Valor: 72.0', 'Data: 2022-09-04 16:49:14.869591']\n",
      "['ID: 20', 'Produto: CPU', 'Valor: 74.0', 'Data: 2022-09-04 16:49:14.881582']\n",
      "['ID: 21', 'Produto: CPU', 'Valor: 91.0', 'Data: 2022-09-03 16:26:28.564400']\n",
      "['ID: 22', 'Produto: CPU', 'Valor: 120.0', 'Data: 2022-09-03 16:26:28.564400']\n"
     ]
    }
   ],
   "source": [
    "Query = 'DELETE FROM random_table WHERE Produto = \"Câmera\" OR Produto = \"Cabos\"'\n",
    "\n",
    "Conn = sqlite3.connect(arquivo)\n",
    "Cursor = Conn.cursor()\n",
    "\n",
    "# Isso não só deleta como conta quantas alterações foram feitas.\n",
    "print(Cursor.execute(Query).rowcount)\n",
    "\n",
    "Conn.commit()\n",
    "Cursor.close()\n",
    "Conn.close()\n",
    "\n",
    "print()\n",
    "\n",
    "showall(arquivo,tabela)"
   ]
  },
  {
   "cell_type": "markdown",
   "metadata": {},
   "source": [
    "### Erros"
   ]
  }
 ],
 "metadata": {
  "kernelspec": {
   "display_name": "Python 3.10.6 64-bit (microsoft store)",
   "language": "python",
   "name": "python3"
  },
  "language_info": {
   "codemirror_mode": {
    "name": "ipython",
    "version": 3
   },
   "file_extension": ".py",
   "mimetype": "text/x-python",
   "name": "python",
   "nbconvert_exporter": "python",
   "pygments_lexer": "ipython3",
   "version": "3.10.6"
  },
  "orig_nbformat": 4,
  "vscode": {
   "interpreter": {
    "hash": "91b18657112df8a6dc2946b9dfe3559ddfc8e1e2117c2c8071424b5e043bd8e1"
   }
  }
 },
 "nbformat": 4,
 "nbformat_minor": 2
}

{
 "cells": [
  {
   "cell_type": "markdown",
   "metadata": {},
   "source": [
    "# Coleções"
   ]
  },
  {
   "cell_type": "markdown",
   "metadata": {},
   "source": [
    "São objetos iteráveis: contém outros objetos, com os quais é possível contar e, a cada contagem, executar determinada ação.  \n",
    "São essenciais para algoritmos de laço (loop)."
   ]
  },
  {
   "cell_type": "markdown",
   "metadata": {},
   "source": [
    "**Tipos de coleções:**  \n",
    "*  Lista\n",
    "*  Tupla\n",
    "*  Dicionário\n",
    "*  String\n",
    "*  Set"
   ]
  },
  {
   "cell_type": "markdown",
   "metadata": {},
   "source": [
    "Alguns pacotes proveem seus próprios objetos iteráveis, como o *numpy*, com seu array e o *pandas*, que dispõe séries e dataframes."
   ]
  },
  {
   "cell_type": "markdown",
   "metadata": {},
   "source": [
    "## Listas"
   ]
  },
  {
   "cell_type": "code",
   "execution_count": 9,
   "metadata": {},
   "outputs": [],
   "source": [
    "lista = ['a','b','c','d','e','f','g','h']\n"
   ]
  },
  {
   "cell_type": "code",
   "execution_count": 23,
   "metadata": {},
   "outputs": [
    {
     "name": "stdout",
     "output_type": "stream",
     "text": [
      "(0, 'a')\n",
      "<class 'tuple'>\n",
      "     > 0\n",
      "     > <class 'int'>\n",
      "     > a\n",
      "     > <class 'str'>\n",
      "\n",
      "(1, 'b')\n",
      "<class 'tuple'>\n",
      "     > 1\n",
      "     > <class 'int'>\n",
      "     > b\n",
      "     > <class 'str'>\n",
      "\n",
      "(2, 'c')\n",
      "<class 'tuple'>\n",
      "     > 2\n",
      "     > <class 'int'>\n",
      "     > c\n",
      "     > <class 'str'>\n",
      "\n",
      "----------------------\n",
      "0 a\n",
      "1 b\n",
      "2 c\n"
     ]
    }
   ],
   "source": [
    "# enumerate altera a iteração entre as listas, onde cada item passa a ser uma tupla composta de índice e valor daquela lista\n",
    "\n",
    "Lista_Curta = ['a','b','c']\n",
    "\n",
    "for i in enumerate(Lista_Curta):\n",
    "    print(i)\n",
    "    print(type(i))\n",
    "    for j in i:\n",
    "        print('     >',j)\n",
    "        print('     >',type(j))\n",
    "    print()\n",
    "\n",
    "print('----------------------')\n",
    "\n",
    "for i,j in enumerate(Lista_Curta):\n",
    "    print(i,j)\n",
    "\n"
   ]
  },
  {
   "cell_type": "code",
   "execution_count": 26,
   "metadata": {},
   "outputs": [
    {
     "name": "stdout",
     "output_type": "stream",
     "text": [
      "('a', 'd', 'g')\n",
      "('b', 'e', 'h')\n"
     ]
    }
   ],
   "source": [
    "# Zip une listas em uma iteração, retornando, em cada item, uma tupla composta dos valores de ambas as listas para o mesmo índice\n",
    "# O número de itens resultantes será igual ao comprimeito da menor dentre as listas.\n",
    "\n",
    "Lista1 = ['a','b','c','i']\n",
    "Lista2 = ['d','e','f']\n",
    "Lista3 = ['g','h']\n",
    "\n",
    "for i in zip(Lista1,Lista2,Lista3):\n",
    "    print(i)"
   ]
  },
  {
   "cell_type": "markdown",
   "metadata": {},
   "source": [
    "## Tupla"
   ]
  },
  {
   "cell_type": "code",
   "execution_count": 10,
   "metadata": {},
   "outputs": [],
   "source": [
    "Tupla = ('a','b','c','d','e','f','g','h')"
   ]
  },
  {
   "cell_type": "markdown",
   "metadata": {},
   "source": [
    "## Dicionário"
   ]
  },
  {
   "cell_type": "code",
   "execution_count": 11,
   "metadata": {},
   "outputs": [
    {
     "name": "stdout",
     "output_type": "stream",
     "text": [
      "{0: 'a', 1: 'b', 2: 'c', 3: 'd', 4: 'e', 5: 'f', 6: 'g', 7: 'h'}\n"
     ]
    }
   ],
   "source": [
    "#Transformando uma lista em um dicionário.\n",
    "#As chaves serão os índices.\n",
    "\n",
    "lista = ['a','b','c','d','e','f','g','h']\n",
    "\n",
    "dict_da_lista = {i:j for i,j in enumerate(lista)}\n",
    "print(dict_da_lista)"
   ]
  },
  {
   "cell_type": "markdown",
   "metadata": {},
   "source": [
    "## String"
   ]
  },
  {
   "cell_type": "code",
   "execution_count": 3,
   "metadata": {},
   "outputs": [
    {
     "name": "stdout",
     "output_type": "stream",
     "text": [
      "True\n"
     ]
    }
   ],
   "source": [
    "# Transformando em lista\n",
    "\n",
    "String_to_List = list('ABCD')\n",
    "\n",
    "Tuple_to_List = list(('A', 'B', 'C', 'D'))\n",
    "\n",
    "print(String_to_List == Tuple_to_List)"
   ]
  },
  {
   "cell_type": "markdown",
   "metadata": {},
   "source": [
    "## Set"
   ]
  },
  {
   "cell_type": "code",
   "execution_count": null,
   "metadata": {},
   "outputs": [],
   "source": []
  },
  {
   "cell_type": "code",
   "execution_count": null,
   "metadata": {},
   "outputs": [],
   "source": []
  }
 ],
 "metadata": {
  "kernelspec": {
   "display_name": "Python 3.10.8 64-bit (microsoft store)",
   "language": "python",
   "name": "python3"
  },
  "language_info": {
   "codemirror_mode": {
    "name": "ipython",
    "version": 3
   },
   "file_extension": ".py",
   "mimetype": "text/x-python",
   "name": "python",
   "nbconvert_exporter": "python",
   "pygments_lexer": "ipython3",
   "version": "3.10.8"
  },
  "orig_nbformat": 4,
  "vscode": {
   "interpreter": {
    "hash": "91b18657112df8a6dc2946b9dfe3559ddfc8e1e2117c2c8071424b5e043bd8e1"
   }
  }
 },
 "nbformat": 4,
 "nbformat_minor": 2
}

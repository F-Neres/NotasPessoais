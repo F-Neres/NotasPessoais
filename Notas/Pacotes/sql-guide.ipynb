{
 "cells": [
  {
   "cell_type": "markdown",
   "metadata": {},
   "source": [
    "# Guia de Comandos SQL Aplicados em Python"
   ]
  },
  {
   "cell_type": "markdown",
   "metadata": {},
   "source": [
    "* [Demonstração](#Demo)\n",
    "* Criação\n",
    "* Adição\n",
    "* Alteração\n",
    "* Filtros e Operadores Lógicos"
   ]
  },
  {
   "cell_type": "markdown",
   "metadata": {},
   "source": [
    "Pacotes:"
   ]
  },
  {
   "cell_type": "code",
   "execution_count": 1,
   "metadata": {},
   "outputs": [],
   "source": [
    "import os\n",
    "import sqlite3"
   ]
  },
  {
   "cell_type": "markdown",
   "metadata": {},
   "source": [
    "## Criando um exemplo com funções"
   ]
  },
  {
   "cell_type": "code",
   "execution_count": 2,
   "metadata": {},
   "outputs": [],
   "source": [
    "import random\n",
    "import time\n",
    "import datetime"
   ]
  },
  {
   "cell_type": "code",
   "execution_count": 3,
   "metadata": {},
   "outputs": [],
   "source": [
    "#Database e tabela padrões\n",
    "\n",
    "arquivo = r'../ArquivosParalelos/random_tables.db'\n",
    "tabela = 'random_table'"
   ]
  },
  {
   "cell_type": "code",
   "execution_count": 4,
   "metadata": {},
   "outputs": [],
   "source": [
    "# Função para criar um arquivo e a tabela\n",
    "\n",
    "# todas as variáveis são dadas como strings\n",
    "# \"arquivo\" é o diretório e o nome o arquivo db a ser criado\n",
    "# \"tabela\" é o nome da tabela dentro do db\n",
    "# \"colunas\" recebe os nomes das colunas juntamente com suas diretrizes.\n",
    "\n",
    "\n",
    "def create_table(arquivo,tabela,*colunas_parametros):\n",
    "    c = sqlite3.connect(arquivo).cursor() #Cria o arquivo, se ele já não existe, com a conexão e o cursor.\n",
    "    Colunas = ''\n",
    "    for i in colunas_parametros:\n",
    "        Colunas = Colunas+i+', '\n",
    "    Colunas = Colunas[0:-2] #Remove a vírgula e o espaço no final\n",
    "    c.execute(f'CREATE TABLE IF NOT EXISTS {tabela}({Colunas})')\n",
    "    c.close()"
   ]
  },
  {
   "cell_type": "code",
   "execution_count": 5,
   "metadata": {},
   "outputs": [],
   "source": [
    "# Função para inserir dados.\n",
    "\n",
    "# \"arquivo\" é uma sring com o diretório e o nome do DB\n",
    "# \"tabela\" é uma string contendo o nome da tabela\n",
    "# \"colunas\" é uma lista ou tupla com strings contendo os nomes das colunas.\n",
    "# \"valores\" é uma lista ou tupla contendo os valores a serem acrescentados, na ordem das colunas\n",
    "\n",
    "def data_insert_var(arquivo,tabela,colunas,valores):\n",
    "    conn = sqlite3.connect(arquivo)\n",
    "    c = conn.cursor()\n",
    "\n",
    "    Colunas = ''\n",
    "    for i in colunas:\n",
    "        Colunas = Colunas+i+', '\n",
    "    Colunas = Colunas[0:-2]\n",
    "    print(Colunas)\n",
    "\n",
    "    n = ''\n",
    "    for i in range(len(colunas)):\n",
    "        n = n+'?, '\n",
    "    n = n[0:-2]\n",
    "    print(n)\n",
    "\n",
    "    print('')\n",
    "    print(f\"INSERT INTO {tabela} ({Colunas}) VALUES ({n})\")\n",
    "    print(valores)\n",
    "\n",
    "    c.execute(f\"INSERT INTO {tabela} ({Colunas}) VALUES ({n})\", valores)\n",
    "    conn.commit()\n",
    "    c.close()\n",
    "    conn.close()"
   ]
  },
  {
   "cell_type": "code",
   "execution_count": 6,
   "metadata": {},
   "outputs": [],
   "source": [
    "# Função de leitura\n",
    "\n",
    "def showall(arquivo,tabela):\n",
    "    c = sqlite3.connect(arquivo).cursor()\n",
    "    c.execute(f'select * from {tabela}')\n",
    "    data = c.fetchall()\n",
    "\n",
    "    Colunas = [i[0] for i in c.execute(f'select * from {tabela}').description ]\n",
    "    print(\"Colunas\",Colunas)\n",
    "\n",
    "    for i in data:\n",
    "        linha = []\n",
    "        for j,k in zip(Colunas,i):\n",
    "            linha.append(f\"{j}: {k}\")\n",
    "        print(linha)\n",
    "\n",
    "    c.close()"
   ]
  },
  {
   "cell_type": "code",
   "execution_count": 7,
   "metadata": {},
   "outputs": [
    {
     "name": "stdout",
     "output_type": "stream",
     "text": [
      "Produto, Valor, Data\n",
      "?, ?, ?\n",
      "\n",
      "INSERT INTO random_table (Produto, Valor, Data) VALUES (?, ?, ?)\n",
      "('Mouse', 93, datetime.datetime(2022, 9, 3, 18, 57, 32, 153261))\n",
      "Produto, Valor, Data\n",
      "?, ?, ?\n",
      "\n",
      "INSERT INTO random_table (Produto, Valor, Data) VALUES (?, ?, ?)\n",
      "('Monitor', 56, datetime.datetime(2022, 9, 3, 18, 57, 32, 160257))\n",
      "Produto, Valor, Data\n",
      "?, ?, ?\n",
      "\n",
      "INSERT INTO random_table (Produto, Valor, Data) VALUES (?, ?, ?)\n",
      "('CPU', 73, datetime.datetime(2022, 9, 3, 18, 57, 32, 183244))\n",
      "Produto, Valor, Data\n",
      "?, ?, ?\n",
      "\n",
      "INSERT INTO random_table (Produto, Valor, Data) VALUES (?, ?, ?)\n",
      "('Monitor', 52, datetime.datetime(2022, 9, 3, 18, 57, 32, 225216))\n",
      "Produto, Valor, Data\n",
      "?, ?, ?\n",
      "\n",
      "INSERT INTO random_table (Produto, Valor, Data) VALUES (?, ?, ?)\n",
      "('CPU', 94, datetime.datetime(2022, 9, 3, 18, 57, 32, 240207))\n",
      "Produto, Valor, Data\n",
      "?, ?, ?\n",
      "\n",
      "INSERT INTO random_table (Produto, Valor, Data) VALUES (?, ?, ?)\n",
      "('Monitor', 65, datetime.datetime(2022, 9, 3, 18, 57, 32, 263195))\n",
      "Produto, Valor, Data\n",
      "?, ?, ?\n",
      "\n",
      "INSERT INTO random_table (Produto, Valor, Data) VALUES (?, ?, ?)\n",
      "('Mouse', 69, datetime.datetime(2022, 9, 3, 18, 57, 32, 299171))\n",
      "Produto, Valor, Data\n",
      "?, ?, ?\n",
      "\n",
      "INSERT INTO random_table (Produto, Valor, Data) VALUES (?, ?, ?)\n",
      "('Monitor', 96, datetime.datetime(2022, 9, 3, 18, 57, 32, 325162))\n",
      "Produto, Valor, Data\n",
      "?, ?, ?\n",
      "\n",
      "INSERT INTO random_table (Produto, Valor, Data) VALUES (?, ?, ?)\n",
      "('Teclado', 76, datetime.datetime(2022, 9, 3, 18, 57, 32, 333151))\n",
      "Produto, Valor, Data\n",
      "?, ?, ?\n",
      "\n",
      "INSERT INTO random_table (Produto, Valor, Data) VALUES (?, ?, ?)\n",
      "('Monitor', 91, datetime.datetime(2022, 9, 3, 18, 57, 32, 337147))\n",
      "Produto, Valor, Data\n",
      "?, ?, ?\n",
      "\n",
      "INSERT INTO random_table (Produto, Valor, Data) VALUES (?, ?, ?)\n",
      "('Monitor', 58, datetime.datetime(2022, 9, 3, 18, 57, 32, 344143))\n",
      "Produto, Valor, Data\n",
      "?, ?, ?\n",
      "\n",
      "INSERT INTO random_table (Produto, Valor, Data) VALUES (?, ?, ?)\n",
      "('Mouse', 63, datetime.datetime(2022, 9, 3, 18, 57, 32, 363133))\n",
      "Produto, Valor, Data\n",
      "?, ?, ?\n",
      "\n",
      "INSERT INTO random_table (Produto, Valor, Data) VALUES (?, ?, ?)\n",
      "('Mouse', 75, datetime.datetime(2022, 9, 3, 18, 57, 32, 382119))\n",
      "Produto, Valor, Data\n",
      "?, ?, ?\n",
      "\n",
      "INSERT INTO random_table (Produto, Valor, Data) VALUES (?, ?, ?)\n",
      "('Teclado', 99, datetime.datetime(2022, 9, 3, 18, 57, 32, 386712))\n",
      "Produto, Valor, Data\n",
      "?, ?, ?\n",
      "\n",
      "INSERT INTO random_table (Produto, Valor, Data) VALUES (?, ?, ?)\n",
      "('Mouse', 76, datetime.datetime(2022, 9, 3, 18, 57, 32, 394707))\n",
      "Produto, Valor, Data\n",
      "?, ?, ?\n",
      "\n",
      "INSERT INTO random_table (Produto, Valor, Data) VALUES (?, ?, ?)\n",
      "('CPU', 79, datetime.datetime(2022, 9, 3, 18, 57, 32, 399482))\n",
      "Produto, Valor, Data\n",
      "?, ?, ?\n",
      "\n",
      "INSERT INTO random_table (Produto, Valor, Data) VALUES (?, ?, ?)\n",
      "('CPU', 59, datetime.datetime(2022, 9, 3, 18, 57, 32, 403483))\n",
      "Produto, Valor, Data\n",
      "?, ?, ?\n",
      "\n",
      "INSERT INTO random_table (Produto, Valor, Data) VALUES (?, ?, ?)\n",
      "('Monitor', 69, datetime.datetime(2022, 9, 3, 18, 57, 32, 408367))\n",
      "Produto, Valor, Data\n",
      "?, ?, ?\n",
      "\n",
      "INSERT INTO random_table (Produto, Valor, Data) VALUES (?, ?, ?)\n",
      "('Mouse', 67, datetime.datetime(2022, 9, 3, 18, 57, 32, 412664))\n",
      "Produto, Valor, Data\n",
      "?, ?, ?\n",
      "\n",
      "INSERT INTO random_table (Produto, Valor, Data) VALUES (?, ?, ?)\n",
      "('Teclado', 76, datetime.datetime(2022, 9, 3, 18, 57, 32, 416891))\n"
     ]
    }
   ],
   "source": [
    "# Criando uma tabela aletória\n",
    "\n",
    "os.remove(r'../ArquivosParalelos/random_tables.db') if os.path.exists(r'../ArquivosParalelos/random_tables.db') else None\n",
    "\n",
    "n = 20 #Número de observações\n",
    "\n",
    "create_table(arquivo,tabela,\"ID INTEGER PRIMARY KEY AUTOINCREMENT NOT NULL\",\"Produto TEXT\",\"Valor REAL\",\"Data TEXT\")\n",
    "#create_table(arquivo,tabela,\"ID INTEGER PRIMARY KEY NOT NULL\",\"Produto TEXT\",\"Valor REAL\",\"Data TEXT\")\n",
    "\n",
    "for i in range(n): #cria n itens na lista.\n",
    "    new_date = datetime.datetime.now() #cria um objeto contendo a data e a hora atuais.\n",
    "    new_prod_name = random.choice(['Monitor', 'CPU', 'Teclado','Mouse']) #Escolhe um item na lista.\n",
    "    new_value = random.randrange(50,100) #Escolhe um preço para ser um valor do item.\n",
    "\n",
    "    valores = (new_prod_name,new_value,new_date)\n",
    "\n",
    "    data_insert_var(arquivo,tabela,('Produto','Valor','Data'),valores)\n",
    "\n",
    "    time.sleep(0) #aguarda."
   ]
  },
  {
   "cell_type": "code",
   "execution_count": 8,
   "metadata": {},
   "outputs": [
    {
     "name": "stdout",
     "output_type": "stream",
     "text": [
      "Colunas ['ID', 'Produto', 'Valor', 'Data']\n",
      "['ID: 1', 'Produto: Mouse', 'Valor: 93.0', 'Data: 2022-09-03 18:57:32.153261']\n",
      "['ID: 2', 'Produto: Monitor', 'Valor: 56.0', 'Data: 2022-09-03 18:57:32.160257']\n",
      "['ID: 3', 'Produto: CPU', 'Valor: 73.0', 'Data: 2022-09-03 18:57:32.183244']\n",
      "['ID: 4', 'Produto: Monitor', 'Valor: 52.0', 'Data: 2022-09-03 18:57:32.225216']\n",
      "['ID: 5', 'Produto: CPU', 'Valor: 94.0', 'Data: 2022-09-03 18:57:32.240207']\n",
      "['ID: 6', 'Produto: Monitor', 'Valor: 65.0', 'Data: 2022-09-03 18:57:32.263195']\n",
      "['ID: 7', 'Produto: Mouse', 'Valor: 69.0', 'Data: 2022-09-03 18:57:32.299171']\n",
      "['ID: 8', 'Produto: Monitor', 'Valor: 96.0', 'Data: 2022-09-03 18:57:32.325162']\n",
      "['ID: 9', 'Produto: Teclado', 'Valor: 76.0', 'Data: 2022-09-03 18:57:32.333151']\n",
      "['ID: 10', 'Produto: Monitor', 'Valor: 91.0', 'Data: 2022-09-03 18:57:32.337147']\n",
      "['ID: 11', 'Produto: Monitor', 'Valor: 58.0', 'Data: 2022-09-03 18:57:32.344143']\n",
      "['ID: 12', 'Produto: Mouse', 'Valor: 63.0', 'Data: 2022-09-03 18:57:32.363133']\n",
      "['ID: 13', 'Produto: Mouse', 'Valor: 75.0', 'Data: 2022-09-03 18:57:32.382119']\n",
      "['ID: 14', 'Produto: Teclado', 'Valor: 99.0', 'Data: 2022-09-03 18:57:32.386712']\n",
      "['ID: 15', 'Produto: Mouse', 'Valor: 76.0', 'Data: 2022-09-03 18:57:32.394707']\n",
      "['ID: 16', 'Produto: CPU', 'Valor: 79.0', 'Data: 2022-09-03 18:57:32.399482']\n",
      "['ID: 17', 'Produto: CPU', 'Valor: 59.0', 'Data: 2022-09-03 18:57:32.403483']\n",
      "['ID: 18', 'Produto: Monitor', 'Valor: 69.0', 'Data: 2022-09-03 18:57:32.408367']\n",
      "['ID: 19', 'Produto: Mouse', 'Valor: 67.0', 'Data: 2022-09-03 18:57:32.412664']\n",
      "['ID: 20', 'Produto: Teclado', 'Valor: 76.0', 'Data: 2022-09-03 18:57:32.416891']\n"
     ]
    }
   ],
   "source": [
    "# Vendo a tabela.\n",
    "\n",
    "showall(arquivo,tabela)"
   ]
  },
  {
   "cell_type": "code",
   "execution_count": 9,
   "metadata": {},
   "outputs": [],
   "source": [
    "# Função para mostrar apenas o Fetchall\n",
    "\n",
    "def Execute_and_Show(Query,arquivo):\n",
    "    Cursor = sqlite3.connect(arquivo).cursor()\n",
    "    Cursor.execute(Query)\n",
    "    for i in Cursor.execute(Query).description:\n",
    "        print(i)\n",
    "    for i in Cursor.fetchall():\n",
    "        print(i)\n",
    "    Cursor.close()"
   ]
  },
  {
   "cell_type": "code",
   "execution_count": 10,
   "metadata": {},
   "outputs": [],
   "source": [
    "# Função para executar e enviar ao DB.\n",
    "\n",
    "def Execute_and_Commit(Query,arquivo):\n",
    "    Conn = sqlite3.connect(arquivo)\n",
    "    Cursor = Conn.cursor()\n",
    "    Cursor.execute(Query)\n",
    "    Conn.commit()\n",
    "    Cursor.close()\n",
    "    Conn.close()"
   ]
  },
  {
   "cell_type": "markdown",
   "metadata": {},
   "source": [
    "## Sobre o SQLite3"
   ]
  },
  {
   "cell_type": "markdown",
   "metadata": {},
   "source": [
    "Conexão com a memória."
   ]
  },
  {
   "cell_type": "code",
   "execution_count": 11,
   "metadata": {},
   "outputs": [],
   "source": [
    "con_mem = sqlite3.connect(':memory:')\n",
    "\n",
    "###\n",
    "\n",
    "con_mem.close()"
   ]
  },
  {
   "cell_type": "markdown",
   "metadata": {},
   "source": [
    "## Queries"
   ]
  },
  {
   "cell_type": "markdown",
   "metadata": {},
   "source": [
    "<a id='Demo'></a>\n",
    "### Demonstração"
   ]
  },
  {
   "cell_type": "code",
   "execution_count": 12,
   "metadata": {},
   "outputs": [
    {
     "name": "stdout",
     "output_type": "stream",
     "text": [
      "('ID', None, None, None, None, None, None)\n",
      "('Produto', None, None, None, None, None, None)\n",
      "('Valor', None, None, None, None, None, None)\n",
      "('Data', None, None, None, None, None, None)\n",
      "(1, 'Mouse', 93.0, '2022-09-03 18:57:32.153261')\n",
      "(2, 'Monitor', 56.0, '2022-09-03 18:57:32.160257')\n",
      "(3, 'CPU', 73.0, '2022-09-03 18:57:32.183244')\n",
      "(4, 'Monitor', 52.0, '2022-09-03 18:57:32.225216')\n",
      "(5, 'CPU', 94.0, '2022-09-03 18:57:32.240207')\n",
      "(6, 'Monitor', 65.0, '2022-09-03 18:57:32.263195')\n",
      "(7, 'Mouse', 69.0, '2022-09-03 18:57:32.299171')\n",
      "(8, 'Monitor', 96.0, '2022-09-03 18:57:32.325162')\n",
      "(9, 'Teclado', 76.0, '2022-09-03 18:57:32.333151')\n",
      "(10, 'Monitor', 91.0, '2022-09-03 18:57:32.337147')\n",
      "(11, 'Monitor', 58.0, '2022-09-03 18:57:32.344143')\n",
      "(12, 'Mouse', 63.0, '2022-09-03 18:57:32.363133')\n",
      "(13, 'Mouse', 75.0, '2022-09-03 18:57:32.382119')\n",
      "(14, 'Teclado', 99.0, '2022-09-03 18:57:32.386712')\n",
      "(15, 'Mouse', 76.0, '2022-09-03 18:57:32.394707')\n",
      "(16, 'CPU', 79.0, '2022-09-03 18:57:32.399482')\n",
      "(17, 'CPU', 59.0, '2022-09-03 18:57:32.403483')\n",
      "(18, 'Monitor', 69.0, '2022-09-03 18:57:32.408367')\n",
      "(19, 'Mouse', 67.0, '2022-09-03 18:57:32.412664')\n",
      "(20, 'Teclado', 76.0, '2022-09-03 18:57:32.416891')\n"
     ]
    }
   ],
   "source": [
    "# Mostrar todos os dados\n",
    "\n",
    "Query = \"SELECT * FROM random_table\"\n",
    "\n",
    "Execute_and_Show(Query,arquivo)"
   ]
  },
  {
   "cell_type": "code",
   "execution_count": 19,
   "metadata": {},
   "outputs": [
    {
     "name": "stdout",
     "output_type": "stream",
     "text": [
      "('Produto', None, None, None, None, None, None)\n",
      "('Valor', None, None, None, None, None, None)\n",
      "('Mouse', 93.0)\n",
      "('Cabos', 56.0)\n",
      "('CPU', 73.0)\n",
      "('Monitor', 52.0)\n",
      "('CPU', 94.0)\n",
      "('Monitor', 65.0)\n",
      "('Mouse', 69.0)\n",
      "('Monitor', 96.0)\n",
      "('Teclado', 76.0)\n",
      "('Monitor', 91.0)\n",
      "('Monitor', 58.0)\n",
      "('Mouse', 63.0)\n",
      "('Mouse', 75.0)\n",
      "('Teclado', 99.0)\n",
      "('Mouse', 76.0)\n",
      "('CPU', 79.0)\n",
      "('CPU', 59.0)\n",
      "('Monitor', 69.0)\n",
      "('Mouse', 67.0)\n",
      "('Teclado', 76.0)\n",
      "('CPU', 91.0)\n",
      "('CPU', 120.0)\n",
      "('Câmera', 66.0)\n"
     ]
    }
   ],
   "source": [
    "# Mostrar algumas colunas\n",
    "\n",
    "Query = \"SELECT Produto, Valor FROM random_table\"\n",
    "\n",
    "Execute_and_Show(Query,arquivo)"
   ]
  },
  {
   "cell_type": "code",
   "execution_count": 20,
   "metadata": {},
   "outputs": [
    {
     "name": "stdout",
     "output_type": "stream",
     "text": [
      "('Produto', None, None, None, None, None, None)\n",
      "('Valor', None, None, None, None, None, None)\n",
      "('CPU', 73.0)\n",
      "('Monitor', 52.0)\n",
      "('CPU', 94.0)\n",
      "('Monitor', 65.0)\n",
      "('Monitor', 96.0)\n",
      "('Monitor', 91.0)\n",
      "('Monitor', 58.0)\n",
      "('CPU', 79.0)\n",
      "('CPU', 59.0)\n",
      "('Monitor', 69.0)\n",
      "('CPU', 91.0)\n",
      "('CPU', 120.0)\n"
     ]
    }
   ],
   "source": [
    "# Mostrar dados que correspondam a determinados valores\n",
    "# Usando operadores lógicos\n",
    "\n",
    "Query = \"SELECT Produto, Valor FROM random_table WHERE Produto = 'Monitor' OR Produto = 'CPU'\"\n",
    "\n",
    "Execute_and_Show(Query,arquivo)"
   ]
  },
  {
   "cell_type": "markdown",
   "metadata": {},
   "source": [
    "### Criação\n",
    "<a id='Criação'></a>"
   ]
  },
  {
   "cell_type": "code",
   "execution_count": null,
   "metadata": {},
   "outputs": [],
   "source": []
  },
  {
   "cell_type": "markdown",
   "metadata": {},
   "source": [
    "### Adição\n",
    "<a id='Adição'></a>"
   ]
  },
  {
   "cell_type": "code",
   "execution_count": 13,
   "metadata": {},
   "outputs": [],
   "source": [
    "# Inserir linha/observação\n",
    "\n",
    "Query = \"INSERT INTO random_table VALUES(21, 'CPU', 91.0, '2022-09-03 16:26:28.564400')\"\n",
    "\n",
    "# É necessário alternar entre aspas e aspas duplas para que o interpretador não encerre a string\n",
    "# Mesmo a Primary Key tendo autoincremento, ele deve ser dado\n",
    "# Se este comando foi executado uma segunda vez, um erro ocorre por tentar adicionar um ID que já existe.\n",
    "\n",
    "Execute_and_Commit(Query,arquivo)"
   ]
  },
  {
   "cell_type": "code",
   "execution_count": 14,
   "metadata": {},
   "outputs": [],
   "source": [
    "# Inserir definindo valor e coluna\n",
    "\n",
    "Query = \"INSERT INTO random_table('Produto','Valor','Data') VALUES('CPU', 120.0, '2022-09-03 16:26:28.564400')\"\n",
    "\n",
    "Execute_and_Commit(Query,arquivo)"
   ]
  },
  {
   "cell_type": "code",
   "execution_count": 15,
   "metadata": {},
   "outputs": [],
   "source": [
    "# Inserir com o auxílio de uma tupla ou lista.\n",
    "\n",
    "# A execução muda\n",
    "\n",
    "Query = \"INSERT INTO random_table('Produto','Valor','Data') VALUES(?, ?, ?)\"\n",
    "\n",
    "Observação = ['Câmera',66,datetime.datetime.now()]\n",
    "\n",
    "\n",
    "Conn = sqlite3.connect(arquivo)\n",
    "Cursor = Conn.cursor()\n",
    "\n",
    "Cursor.execute(Query,Observação)\n",
    "\n",
    "Conn.commit()\n",
    "Cursor.close()\n",
    "Conn.close()\n"
   ]
  },
  {
   "cell_type": "code",
   "execution_count": 16,
   "metadata": {},
   "outputs": [
    {
     "name": "stdout",
     "output_type": "stream",
     "text": [
      "Colunas ['ID', 'Produto', 'Valor', 'Data']\n",
      "['ID: 1', 'Produto: Mouse', 'Valor: 93.0', 'Data: 2022-09-03 18:57:32.153261']\n",
      "['ID: 2', 'Produto: Monitor', 'Valor: 56.0', 'Data: 2022-09-03 18:57:32.160257']\n",
      "['ID: 3', 'Produto: CPU', 'Valor: 73.0', 'Data: 2022-09-03 18:57:32.183244']\n",
      "['ID: 4', 'Produto: Monitor', 'Valor: 52.0', 'Data: 2022-09-03 18:57:32.225216']\n",
      "['ID: 5', 'Produto: CPU', 'Valor: 94.0', 'Data: 2022-09-03 18:57:32.240207']\n",
      "['ID: 6', 'Produto: Monitor', 'Valor: 65.0', 'Data: 2022-09-03 18:57:32.263195']\n",
      "['ID: 7', 'Produto: Mouse', 'Valor: 69.0', 'Data: 2022-09-03 18:57:32.299171']\n",
      "['ID: 8', 'Produto: Monitor', 'Valor: 96.0', 'Data: 2022-09-03 18:57:32.325162']\n",
      "['ID: 9', 'Produto: Teclado', 'Valor: 76.0', 'Data: 2022-09-03 18:57:32.333151']\n",
      "['ID: 10', 'Produto: Monitor', 'Valor: 91.0', 'Data: 2022-09-03 18:57:32.337147']\n",
      "['ID: 11', 'Produto: Monitor', 'Valor: 58.0', 'Data: 2022-09-03 18:57:32.344143']\n",
      "['ID: 12', 'Produto: Mouse', 'Valor: 63.0', 'Data: 2022-09-03 18:57:32.363133']\n",
      "['ID: 13', 'Produto: Mouse', 'Valor: 75.0', 'Data: 2022-09-03 18:57:32.382119']\n",
      "['ID: 14', 'Produto: Teclado', 'Valor: 99.0', 'Data: 2022-09-03 18:57:32.386712']\n",
      "['ID: 15', 'Produto: Mouse', 'Valor: 76.0', 'Data: 2022-09-03 18:57:32.394707']\n",
      "['ID: 16', 'Produto: CPU', 'Valor: 79.0', 'Data: 2022-09-03 18:57:32.399482']\n",
      "['ID: 17', 'Produto: CPU', 'Valor: 59.0', 'Data: 2022-09-03 18:57:32.403483']\n",
      "['ID: 18', 'Produto: Monitor', 'Valor: 69.0', 'Data: 2022-09-03 18:57:32.408367']\n",
      "['ID: 19', 'Produto: Mouse', 'Valor: 67.0', 'Data: 2022-09-03 18:57:32.412664']\n",
      "['ID: 20', 'Produto: Teclado', 'Valor: 76.0', 'Data: 2022-09-03 18:57:32.416891']\n",
      "['ID: 21', 'Produto: CPU', 'Valor: 91.0', 'Data: 2022-09-03 16:26:28.564400']\n",
      "['ID: 22', 'Produto: CPU', 'Valor: 120.0', 'Data: 2022-09-03 16:26:28.564400']\n",
      "['ID: 23', 'Produto: Câmera', 'Valor: 66.0', 'Data: 2022-09-03 18:57:33.165034']\n"
     ]
    }
   ],
   "source": [
    "showall(arquivo,tabela)"
   ]
  },
  {
   "cell_type": "markdown",
   "metadata": {},
   "source": [
    "### Alteração\n",
    "<a id='Alteração'></a>"
   ]
  },
  {
   "cell_type": "code",
   "execution_count": 17,
   "metadata": {},
   "outputs": [],
   "source": [
    "Query = \"UPDATE random_table SET produto = 'Cabos' where id = 2\"\n",
    "\n",
    "Execute_and_Commit(Query,arquivo)"
   ]
  },
  {
   "cell_type": "code",
   "execution_count": 18,
   "metadata": {},
   "outputs": [
    {
     "name": "stdout",
     "output_type": "stream",
     "text": [
      "Colunas ['ID', 'Produto', 'Valor', 'Data']\n",
      "['ID: 1', 'Produto: Mouse', 'Valor: 93.0', 'Data: 2022-09-03 18:57:32.153261']\n",
      "['ID: 2', 'Produto: Cabos', 'Valor: 56.0', 'Data: 2022-09-03 18:57:32.160257']\n",
      "['ID: 3', 'Produto: CPU', 'Valor: 73.0', 'Data: 2022-09-03 18:57:32.183244']\n",
      "['ID: 4', 'Produto: Monitor', 'Valor: 52.0', 'Data: 2022-09-03 18:57:32.225216']\n",
      "['ID: 5', 'Produto: CPU', 'Valor: 94.0', 'Data: 2022-09-03 18:57:32.240207']\n",
      "['ID: 6', 'Produto: Monitor', 'Valor: 65.0', 'Data: 2022-09-03 18:57:32.263195']\n",
      "['ID: 7', 'Produto: Mouse', 'Valor: 69.0', 'Data: 2022-09-03 18:57:32.299171']\n",
      "['ID: 8', 'Produto: Monitor', 'Valor: 96.0', 'Data: 2022-09-03 18:57:32.325162']\n",
      "['ID: 9', 'Produto: Teclado', 'Valor: 76.0', 'Data: 2022-09-03 18:57:32.333151']\n",
      "['ID: 10', 'Produto: Monitor', 'Valor: 91.0', 'Data: 2022-09-03 18:57:32.337147']\n",
      "['ID: 11', 'Produto: Monitor', 'Valor: 58.0', 'Data: 2022-09-03 18:57:32.344143']\n",
      "['ID: 12', 'Produto: Mouse', 'Valor: 63.0', 'Data: 2022-09-03 18:57:32.363133']\n",
      "['ID: 13', 'Produto: Mouse', 'Valor: 75.0', 'Data: 2022-09-03 18:57:32.382119']\n",
      "['ID: 14', 'Produto: Teclado', 'Valor: 99.0', 'Data: 2022-09-03 18:57:32.386712']\n",
      "['ID: 15', 'Produto: Mouse', 'Valor: 76.0', 'Data: 2022-09-03 18:57:32.394707']\n",
      "['ID: 16', 'Produto: CPU', 'Valor: 79.0', 'Data: 2022-09-03 18:57:32.399482']\n",
      "['ID: 17', 'Produto: CPU', 'Valor: 59.0', 'Data: 2022-09-03 18:57:32.403483']\n",
      "['ID: 18', 'Produto: Monitor', 'Valor: 69.0', 'Data: 2022-09-03 18:57:32.408367']\n",
      "['ID: 19', 'Produto: Mouse', 'Valor: 67.0', 'Data: 2022-09-03 18:57:32.412664']\n",
      "['ID: 20', 'Produto: Teclado', 'Valor: 76.0', 'Data: 2022-09-03 18:57:32.416891']\n",
      "['ID: 21', 'Produto: CPU', 'Valor: 91.0', 'Data: 2022-09-03 16:26:28.564400']\n",
      "['ID: 22', 'Produto: CPU', 'Valor: 120.0', 'Data: 2022-09-03 16:26:28.564400']\n",
      "['ID: 23', 'Produto: Câmera', 'Valor: 66.0', 'Data: 2022-09-03 18:57:33.165034']\n"
     ]
    }
   ],
   "source": [
    "showall(arquivo,tabela)"
   ]
  },
  {
   "cell_type": "markdown",
   "metadata": {},
   "source": [
    "### Filtros e Operadores Lógicos\n",
    "<a id='Filtros e Operadores Lógicos'></a>"
   ]
  },
  {
   "cell_type": "code",
   "execution_count": 25,
   "metadata": {},
   "outputs": [
    {
     "name": "stdout",
     "output_type": "stream",
     "text": [
      "('Produto', None, None, None, None, None, None)\n",
      "('Valor', None, None, None, None, None, None)\n",
      "('Monitor', 52.0)\n",
      "('CPU', 94.0)\n",
      "('Monitor', 65.0)\n",
      "('Monitor', 96.0)\n",
      "('Monitor', 91.0)\n",
      "('Monitor', 58.0)\n",
      "('Monitor', 69.0)\n",
      "('CPU', 91.0)\n",
      "('CPU', 120.0)\n"
     ]
    }
   ],
   "source": [
    "# WHERE filtra os dados considerados\n",
    "# Se o filtro é aplicado duas vezes a uma mesma coluna, ele deve ser demonstrado duas vezes\n",
    "\n",
    "Query = \"SELECT Produto, Valor FROM random_table WHERE Produto = 'Monitor' OR Produto = 'CPU' AND Valor > 90\"\n",
    "\n",
    "# Desta forma, apenas CPU é filtrada acima de 90. Monitores não foram filtrados\n",
    "\n",
    "Execute_and_Show(Query,arquivo)"
   ]
  },
  {
   "cell_type": "code",
   "execution_count": 27,
   "metadata": {},
   "outputs": [
    {
     "name": "stdout",
     "output_type": "stream",
     "text": [
      "('Produto', None, None, None, None, None, None)\n",
      "('Valor', None, None, None, None, None, None)\n",
      "('CPU', 94.0)\n",
      "('Monitor', 96.0)\n",
      "('Monitor', 91.0)\n",
      "('CPU', 91.0)\n",
      "('CPU', 120.0)\n"
     ]
    }
   ],
   "source": [
    "# Assim, o filtro é aplicado a ambos os tipos de produtos\n",
    "\n",
    "Query = \"SELECT Produto, Valor FROM random_table WHERE (Produto = 'Monitor' OR Produto = 'CPU') AND Valor > 90\"\n",
    "\n",
    "Execute_and_Show(Query,arquivo)"
   ]
  },
  {
   "cell_type": "code",
   "execution_count": null,
   "metadata": {},
   "outputs": [],
   "source": []
  }
 ],
 "metadata": {
  "kernelspec": {
   "display_name": "Python 3.10.6 64-bit (microsoft store)",
   "language": "python",
   "name": "python3"
  },
  "language_info": {
   "codemirror_mode": {
    "name": "ipython",
    "version": 3
   },
   "file_extension": ".py",
   "mimetype": "text/x-python",
   "name": "python",
   "nbconvert_exporter": "python",
   "pygments_lexer": "ipython3",
   "version": "3.10.6"
  },
  "orig_nbformat": 4,
  "vscode": {
   "interpreter": {
    "hash": "91b18657112df8a6dc2946b9dfe3559ddfc8e1e2117c2c8071424b5e043bd8e1"
   }
  }
 },
 "nbformat": 4,
 "nbformat_minor": 2
}

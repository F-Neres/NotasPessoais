{
 "cells": [
  {
   "cell_type": "markdown",
   "metadata": {},
   "source": [
    "# Guia de Comandos SQL Aplicados em Python"
   ]
  },
  {
   "cell_type": "markdown",
   "metadata": {},
   "source": []
  },
  {
   "cell_type": "markdown",
   "metadata": {},
   "source": [
    "Pacotes:"
   ]
  },
  {
   "cell_type": "code",
   "execution_count": 1,
   "metadata": {},
   "outputs": [],
   "source": [
    "import os\n",
    "import sqlite3"
   ]
  },
  {
   "cell_type": "markdown",
   "metadata": {},
   "source": [
    "## Criando um exemplo com funções"
   ]
  },
  {
   "cell_type": "code",
   "execution_count": 2,
   "metadata": {},
   "outputs": [],
   "source": [
    "import random\n",
    "import time\n",
    "import datetime"
   ]
  },
  {
   "cell_type": "code",
   "execution_count": 3,
   "metadata": {},
   "outputs": [],
   "source": [
    "# Função para criar um arquivo e a tabela\n",
    "\n",
    "# todas as variáveis são dadas como strings\n",
    "# \"arquivo\" é o diretório e o nome o arquivo db a ser criado\n",
    "# \"tabela\" é o nome da tabela dentro do db\n",
    "# \"colunas\" recebe os nomes das colunas juntamente com suas diretrizes.\n",
    "\n",
    "\n",
    "def create_table(arquivo,tabela,*colunas_parametros):\n",
    "    c = sqlite3.connect(arquivo).cursor() #Cria o arquivo, se ele já não existe, com a conexão e o cursor.\n",
    "    Colunas = ''\n",
    "    for i in colunas_parametros:\n",
    "        Colunas = Colunas+i+', '\n",
    "    Colunas = Colunas[0:-2] #Remove a vírgula e o espaço no final\n",
    "    c.execute(f'CREATE TABLE IF NOT EXISTS {tabela}({Colunas})')\n",
    "    c.close()"
   ]
  },
  {
   "cell_type": "code",
   "execution_count": 4,
   "metadata": {},
   "outputs": [],
   "source": [
    "# Função para inserir dados.\n",
    "\n",
    "# \"arquivo\" é uma sring com o diretório e o nome do DB\n",
    "# \"tabela\" é uma string contendo o nome da tabela\n",
    "# \"colunas\" é uma lista ou tupla com strings contendo os nomes das colunas.\n",
    "# \"valores\" é uma lista ou tupla contendo os valores a serem acrescentados, na ordem das colunas\n",
    "\n",
    "def data_insert_var(arquivo,tabela,colunas,valores):\n",
    "    conn = sqlite3.connect(arquivo)\n",
    "    c = conn.cursor()\n",
    "\n",
    "    Colunas = ''\n",
    "    for i in colunas:\n",
    "        Colunas = Colunas+i+', '\n",
    "    Colunas = Colunas[0:-2]\n",
    "    print(Colunas)\n",
    "\n",
    "    n = ''\n",
    "    for i in range(len(colunas)):\n",
    "        n = n+'?, '\n",
    "    n = n[0:-2]\n",
    "    print(n)\n",
    "\n",
    "    print('')\n",
    "    print(f\"INSERT INTO {tabela} ({Colunas}) VALUES ({n})\")\n",
    "    print(valores)\n",
    "\n",
    "    c.execute(f\"INSERT INTO {tabela} ({Colunas}) VALUES ({n})\", valores)\n",
    "    conn.commit()\n",
    "    c.close()\n",
    "    conn.close()"
   ]
  },
  {
   "cell_type": "code",
   "execution_count": 5,
   "metadata": {},
   "outputs": [],
   "source": [
    "# Função de leitura\n",
    "\n",
    "def showall(arquivo,tabela):\n",
    "    c = sqlite3.connect(arquivo).cursor()\n",
    "    c.execute(f'select * from {tabela}')\n",
    "    data = c.fetchall()\n",
    "\n",
    "    Colunas = [i[0] for i in c.execute(f'select * from {tabela}').description ]\n",
    "    print(\"Colunas\",Colunas)\n",
    "\n",
    "    for i in data:\n",
    "        linha = []\n",
    "        for j,k in zip(Colunas,i):\n",
    "            linha.append(f\"{j}: {k}\")\n",
    "        print(linha)\n",
    "\n",
    "    c.close()"
   ]
  },
  {
   "cell_type": "code",
   "execution_count": 6,
   "metadata": {},
   "outputs": [
    {
     "name": "stdout",
     "output_type": "stream",
     "text": [
      "Produto, Valor, Data\n",
      "?, ?, ?\n",
      "\n",
      "INSERT INTO random_table (Produto, Valor, Data) VALUES (?, ?, ?)\n",
      "('Monitor', 94, datetime.datetime(2022, 9, 3, 16, 0, 29, 352289))\n",
      "Produto, Valor, Data\n",
      "?, ?, ?\n",
      "\n",
      "INSERT INTO random_table (Produto, Valor, Data) VALUES (?, ?, ?)\n",
      "('Teclado', 73, datetime.datetime(2022, 9, 3, 16, 0, 29, 357286))\n",
      "Produto, Valor, Data\n",
      "?, ?, ?\n",
      "\n",
      "INSERT INTO random_table (Produto, Valor, Data) VALUES (?, ?, ?)\n",
      "('Monitor', 64, datetime.datetime(2022, 9, 3, 16, 0, 29, 365281))\n",
      "Produto, Valor, Data\n",
      "?, ?, ?\n",
      "\n",
      "INSERT INTO random_table (Produto, Valor, Data) VALUES (?, ?, ?)\n",
      "('CPU', 61, datetime.datetime(2022, 9, 3, 16, 0, 29, 373278))\n",
      "Produto, Valor, Data\n",
      "?, ?, ?\n",
      "\n",
      "INSERT INTO random_table (Produto, Valor, Data) VALUES (?, ?, ?)\n",
      "('Mouse', 91, datetime.datetime(2022, 9, 3, 16, 0, 29, 383271))\n",
      "Produto, Valor, Data\n",
      "?, ?, ?\n",
      "\n",
      "INSERT INTO random_table (Produto, Valor, Data) VALUES (?, ?, ?)\n",
      "('Teclado', 94, datetime.datetime(2022, 9, 3, 16, 0, 29, 388267))\n",
      "Produto, Valor, Data\n",
      "?, ?, ?\n",
      "\n",
      "INSERT INTO random_table (Produto, Valor, Data) VALUES (?, ?, ?)\n",
      "('Monitor', 99, datetime.datetime(2022, 9, 3, 16, 0, 29, 394264))\n",
      "Produto, Valor, Data\n",
      "?, ?, ?\n",
      "\n",
      "INSERT INTO random_table (Produto, Valor, Data) VALUES (?, ?, ?)\n",
      "('CPU', 91, datetime.datetime(2022, 9, 3, 16, 0, 29, 403258))\n",
      "Produto, Valor, Data\n",
      "?, ?, ?\n",
      "\n",
      "INSERT INTO random_table (Produto, Valor, Data) VALUES (?, ?, ?)\n",
      "('Teclado', 87, datetime.datetime(2022, 9, 3, 16, 0, 29, 408254))\n",
      "Produto, Valor, Data\n",
      "?, ?, ?\n",
      "\n",
      "INSERT INTO random_table (Produto, Valor, Data) VALUES (?, ?, ?)\n",
      "('Teclado', 52, datetime.datetime(2022, 9, 3, 16, 0, 29, 415251))\n",
      "Produto, Valor, Data\n",
      "?, ?, ?\n",
      "\n",
      "INSERT INTO random_table (Produto, Valor, Data) VALUES (?, ?, ?)\n",
      "('Monitor', 59, datetime.datetime(2022, 9, 3, 16, 0, 29, 420247))\n",
      "Produto, Valor, Data\n",
      "?, ?, ?\n",
      "\n",
      "INSERT INTO random_table (Produto, Valor, Data) VALUES (?, ?, ?)\n",
      "('CPU', 52, datetime.datetime(2022, 9, 3, 16, 0, 29, 425244))\n",
      "Produto, Valor, Data\n",
      "?, ?, ?\n",
      "\n",
      "INSERT INTO random_table (Produto, Valor, Data) VALUES (?, ?, ?)\n",
      "('CPU', 65, datetime.datetime(2022, 9, 3, 16, 0, 29, 437237))\n",
      "Produto, Valor, Data\n",
      "?, ?, ?\n",
      "\n",
      "INSERT INTO random_table (Produto, Valor, Data) VALUES (?, ?, ?)\n",
      "('Teclado', 83, datetime.datetime(2022, 9, 3, 16, 0, 29, 442235))\n",
      "Produto, Valor, Data\n",
      "?, ?, ?\n",
      "\n",
      "INSERT INTO random_table (Produto, Valor, Data) VALUES (?, ?, ?)\n",
      "('Teclado', 69, datetime.datetime(2022, 9, 3, 16, 0, 29, 449229))\n",
      "Produto, Valor, Data\n",
      "?, ?, ?\n",
      "\n",
      "INSERT INTO random_table (Produto, Valor, Data) VALUES (?, ?, ?)\n",
      "('Teclado', 57, datetime.datetime(2022, 9, 3, 16, 0, 29, 457225))\n",
      "Produto, Valor, Data\n",
      "?, ?, ?\n",
      "\n",
      "INSERT INTO random_table (Produto, Valor, Data) VALUES (?, ?, ?)\n",
      "('Monitor', 82, datetime.datetime(2022, 9, 3, 16, 0, 29, 465220))\n",
      "Produto, Valor, Data\n",
      "?, ?, ?\n",
      "\n",
      "INSERT INTO random_table (Produto, Valor, Data) VALUES (?, ?, ?)\n",
      "('Mouse', 75, datetime.datetime(2022, 9, 3, 16, 0, 29, 473215))\n",
      "Produto, Valor, Data\n",
      "?, ?, ?\n",
      "\n",
      "INSERT INTO random_table (Produto, Valor, Data) VALUES (?, ?, ?)\n",
      "('CPU', 66, datetime.datetime(2022, 9, 3, 16, 0, 29, 483208))\n",
      "Produto, Valor, Data\n",
      "?, ?, ?\n",
      "\n",
      "INSERT INTO random_table (Produto, Valor, Data) VALUES (?, ?, ?)\n",
      "('CPU', 85, datetime.datetime(2022, 9, 3, 16, 0, 29, 491203))\n"
     ]
    }
   ],
   "source": [
    "# Criando uma tabela aletória\n",
    "\n",
    "os.remove(r'../ArquivosParalelos/random_tables.db') if os.path.exists(r'../ArquivosParalelos/random_tables.db') else None\n",
    "\n",
    "n = 20 #Número de observações\n",
    "\n",
    "arquivo = r'../ArquivosParalelos/random_tables.db'\n",
    "tabela = 'random_table'\n",
    "\n",
    "create_table(arquivo,tabela,\"ID INTEGER PRIMARY KEY AUTOINCREMENT NOT NULL\",\"Produto TEXT\",\"Valor REAL\",\"Data TEXT\")\n",
    "\n",
    "for i in range(n): #cria n itens na lista.\n",
    "    new_date = datetime.datetime.now() #cria um objeto contendo a data e a hora atuais.\n",
    "    new_prod_name = random.choice(['Monitor', 'CPU', 'Teclado','Mouse']) #Escolhe um item na lista.\n",
    "    new_value = random.randrange(50,100) #Escolhe um preço para ser um valor do item.\n",
    "\n",
    "    valores = (new_prod_name,new_value,new_date)\n",
    "\n",
    "    data_insert_var(arquivo,tabela,('Produto','Valor','Data'),valores)\n",
    "\n",
    "    time.sleep(0) #aguarda."
   ]
  },
  {
   "cell_type": "code",
   "execution_count": 7,
   "metadata": {},
   "outputs": [
    {
     "name": "stdout",
     "output_type": "stream",
     "text": [
      "Colunas ['ID', 'Produto', 'Valor', 'Data']\n",
      "['ID: 1', 'Produto: Monitor', 'Valor: 94.0', 'Data: 2022-09-03 16:00:29.352289']\n",
      "['ID: 2', 'Produto: Teclado', 'Valor: 73.0', 'Data: 2022-09-03 16:00:29.357286']\n",
      "['ID: 3', 'Produto: Monitor', 'Valor: 64.0', 'Data: 2022-09-03 16:00:29.365281']\n",
      "['ID: 4', 'Produto: CPU', 'Valor: 61.0', 'Data: 2022-09-03 16:00:29.373278']\n",
      "['ID: 5', 'Produto: Mouse', 'Valor: 91.0', 'Data: 2022-09-03 16:00:29.383271']\n",
      "['ID: 6', 'Produto: Teclado', 'Valor: 94.0', 'Data: 2022-09-03 16:00:29.388267']\n",
      "['ID: 7', 'Produto: Monitor', 'Valor: 99.0', 'Data: 2022-09-03 16:00:29.394264']\n",
      "['ID: 8', 'Produto: CPU', 'Valor: 91.0', 'Data: 2022-09-03 16:00:29.403258']\n",
      "['ID: 9', 'Produto: Teclado', 'Valor: 87.0', 'Data: 2022-09-03 16:00:29.408254']\n",
      "['ID: 10', 'Produto: Teclado', 'Valor: 52.0', 'Data: 2022-09-03 16:00:29.415251']\n",
      "['ID: 11', 'Produto: Monitor', 'Valor: 59.0', 'Data: 2022-09-03 16:00:29.420247']\n",
      "['ID: 12', 'Produto: CPU', 'Valor: 52.0', 'Data: 2022-09-03 16:00:29.425244']\n",
      "['ID: 13', 'Produto: CPU', 'Valor: 65.0', 'Data: 2022-09-03 16:00:29.437237']\n",
      "['ID: 14', 'Produto: Teclado', 'Valor: 83.0', 'Data: 2022-09-03 16:00:29.442235']\n",
      "['ID: 15', 'Produto: Teclado', 'Valor: 69.0', 'Data: 2022-09-03 16:00:29.449229']\n",
      "['ID: 16', 'Produto: Teclado', 'Valor: 57.0', 'Data: 2022-09-03 16:00:29.457225']\n",
      "['ID: 17', 'Produto: Monitor', 'Valor: 82.0', 'Data: 2022-09-03 16:00:29.465220']\n",
      "['ID: 18', 'Produto: Mouse', 'Valor: 75.0', 'Data: 2022-09-03 16:00:29.473215']\n",
      "['ID: 19', 'Produto: CPU', 'Valor: 66.0', 'Data: 2022-09-03 16:00:29.483208']\n",
      "['ID: 20', 'Produto: CPU', 'Valor: 85.0', 'Data: 2022-09-03 16:00:29.491203']\n"
     ]
    }
   ],
   "source": [
    "# Vendo a tabela.\n",
    "\n",
    "showall(arquivo,tabela)"
   ]
  },
  {
   "cell_type": "code",
   "execution_count": 15,
   "metadata": {},
   "outputs": [],
   "source": [
    "# Função para mostrar apenas o Fetchall\n",
    "\n",
    "def Execute_and_Show(Query,Cursor):\n",
    "    Cursor.execute(Query)\n",
    "    for i in Cursor.execute(Query).description:\n",
    "        print(i)\n",
    "    for i in Cursor.fetchall():\n",
    "        print(i)"
   ]
  },
  {
   "cell_type": "markdown",
   "metadata": {},
   "source": [
    "## Queries"
   ]
  },
  {
   "cell_type": "code",
   "execution_count": 9,
   "metadata": {},
   "outputs": [],
   "source": [
    "conn = sqlite3.connect(r'../ArquivosParalelos/random_tables.db')\n",
    "c = conn.cursor()"
   ]
  },
  {
   "cell_type": "code",
   "execution_count": 16,
   "metadata": {},
   "outputs": [
    {
     "name": "stdout",
     "output_type": "stream",
     "text": [
      "('ID', None, None, None, None, None, None)\n",
      "('Produto', None, None, None, None, None, None)\n",
      "('Valor', None, None, None, None, None, None)\n",
      "('Data', None, None, None, None, None, None)\n",
      "(1, 'Monitor', 94.0, '2022-09-03 16:00:29.352289')\n",
      "(2, 'Teclado', 73.0, '2022-09-03 16:00:29.357286')\n",
      "(3, 'Monitor', 64.0, '2022-09-03 16:00:29.365281')\n",
      "(4, 'CPU', 61.0, '2022-09-03 16:00:29.373278')\n",
      "(5, 'Mouse', 91.0, '2022-09-03 16:00:29.383271')\n",
      "(6, 'Teclado', 94.0, '2022-09-03 16:00:29.388267')\n",
      "(7, 'Monitor', 99.0, '2022-09-03 16:00:29.394264')\n",
      "(8, 'CPU', 91.0, '2022-09-03 16:00:29.403258')\n",
      "(9, 'Teclado', 87.0, '2022-09-03 16:00:29.408254')\n",
      "(10, 'Teclado', 52.0, '2022-09-03 16:00:29.415251')\n",
      "(11, 'Monitor', 59.0, '2022-09-03 16:00:29.420247')\n",
      "(12, 'CPU', 52.0, '2022-09-03 16:00:29.425244')\n",
      "(13, 'CPU', 65.0, '2022-09-03 16:00:29.437237')\n",
      "(14, 'Teclado', 83.0, '2022-09-03 16:00:29.442235')\n",
      "(15, 'Teclado', 69.0, '2022-09-03 16:00:29.449229')\n",
      "(16, 'Teclado', 57.0, '2022-09-03 16:00:29.457225')\n",
      "(17, 'Monitor', 82.0, '2022-09-03 16:00:29.465220')\n",
      "(18, 'Mouse', 75.0, '2022-09-03 16:00:29.473215')\n",
      "(19, 'CPU', 66.0, '2022-09-03 16:00:29.483208')\n",
      "(20, 'CPU', 85.0, '2022-09-03 16:00:29.491203')\n"
     ]
    }
   ],
   "source": [
    "# Mostrar todos os dados\n",
    "\n",
    "MostrarTudo = \"SELECT * FROM random_table\"\n",
    "\n",
    "Execute_and_Show(MostrarTudo,c)"
   ]
  },
  {
   "cell_type": "code",
   "execution_count": null,
   "metadata": {},
   "outputs": [],
   "source": []
  }
 ],
 "metadata": {
  "kernelspec": {
   "display_name": "Python 3.10.6 64-bit (microsoft store)",
   "language": "python",
   "name": "python3"
  },
  "language_info": {
   "codemirror_mode": {
    "name": "ipython",
    "version": 3
   },
   "file_extension": ".py",
   "mimetype": "text/x-python",
   "name": "python",
   "nbconvert_exporter": "python",
   "pygments_lexer": "ipython3",
   "version": "3.10.6"
  },
  "orig_nbformat": 4,
  "vscode": {
   "interpreter": {
    "hash": "91b18657112df8a6dc2946b9dfe3559ddfc8e1e2117c2c8071424b5e043bd8e1"
   }
  }
 },
 "nbformat": 4,
 "nbformat_minor": 2
}

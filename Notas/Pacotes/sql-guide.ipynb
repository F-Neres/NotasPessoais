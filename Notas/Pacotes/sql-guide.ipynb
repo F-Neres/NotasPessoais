{
 "cells": [
  {
   "cell_type": "markdown",
   "metadata": {},
   "source": [
    "# Guia de Comandos SQL Aplicados em Python"
   ]
  },
  {
   "cell_type": "markdown",
   "metadata": {},
   "source": [
    "* [Demonstração](#Demo)\n",
    "* Criação\n",
    "* Adição e Remoção\n",
    "* Alteração\n",
    "* Filtros e Operadores Lógicos"
   ]
  },
  {
   "cell_type": "markdown",
   "metadata": {},
   "source": [
    "Pacotes:"
   ]
  },
  {
   "cell_type": "code",
   "execution_count": 1,
   "metadata": {},
   "outputs": [],
   "source": [
    "import os\n",
    "import sqlite3"
   ]
  },
  {
   "cell_type": "markdown",
   "metadata": {},
   "source": [
    "## Criando um exemplo com funções"
   ]
  },
  {
   "cell_type": "code",
   "execution_count": 2,
   "metadata": {},
   "outputs": [],
   "source": [
    "import random\n",
    "import time\n",
    "import datetime"
   ]
  },
  {
   "cell_type": "code",
   "execution_count": 3,
   "metadata": {},
   "outputs": [],
   "source": [
    "#Database e tabela padrões\n",
    "\n",
    "arquivo = r'../ArquivosParalelos/random_tables.db'\n",
    "tabela = 'random_table'"
   ]
  },
  {
   "cell_type": "code",
   "execution_count": 4,
   "metadata": {},
   "outputs": [],
   "source": [
    "# Função para criar um arquivo e a tabela\n",
    "\n",
    "# todas as variáveis são dadas como strings\n",
    "# \"arquivo\" é o diretório e o nome o arquivo db a ser criado\n",
    "# \"tabela\" é o nome da tabela dentro do db\n",
    "# \"colunas\" recebe os nomes das colunas juntamente com suas diretrizes.\n",
    "\n",
    "\n",
    "def create_table(arquivo,tabela,*colunas_parametros):\n",
    "    c = sqlite3.connect(arquivo).cursor() #Cria o arquivo, se ele já não existe, com a conexão e o cursor.\n",
    "    Colunas = ''\n",
    "    for i in colunas_parametros:\n",
    "        Colunas = Colunas+i+', '\n",
    "    Colunas = Colunas[0:-2] #Remove a vírgula e o espaço no final\n",
    "    c.execute(f'CREATE TABLE IF NOT EXISTS {tabela}({Colunas})')\n",
    "    c.close()"
   ]
  },
  {
   "cell_type": "code",
   "execution_count": 5,
   "metadata": {},
   "outputs": [],
   "source": [
    "# Função para inserir dados.\n",
    "\n",
    "# \"arquivo\" é uma sring com o diretório e o nome do DB\n",
    "# \"tabela\" é uma string contendo o nome da tabela\n",
    "# \"colunas\" é uma lista ou tupla com strings contendo os nomes das colunas.\n",
    "# \"valores\" é uma lista ou tupla contendo os valores a serem acrescentados, na ordem das colunas\n",
    "\n",
    "def data_insert_var(arquivo,tabela,colunas,valores):\n",
    "    conn = sqlite3.connect(arquivo)\n",
    "    c = conn.cursor()\n",
    "\n",
    "    Colunas = ''\n",
    "    for i in colunas:\n",
    "        Colunas = Colunas+i+', '\n",
    "    Colunas = Colunas[0:-2]\n",
    "    print(Colunas)\n",
    "\n",
    "    n = ''\n",
    "    for i in range(len(colunas)):\n",
    "        n = n+'?, '\n",
    "    n = n[0:-2]\n",
    "    print(n)\n",
    "\n",
    "    print('')\n",
    "    print(f\"INSERT INTO {tabela} ({Colunas}) VALUES ({n})\")\n",
    "    print(valores)\n",
    "\n",
    "    c.execute(f\"INSERT INTO {tabela} ({Colunas}) VALUES ({n})\", valores)\n",
    "    conn.commit()\n",
    "    c.close()\n",
    "    conn.close()"
   ]
  },
  {
   "cell_type": "code",
   "execution_count": 6,
   "metadata": {},
   "outputs": [],
   "source": [
    "# Função de leitura\n",
    "\n",
    "def showall(arquivo,tabela):\n",
    "    c = sqlite3.connect(arquivo).cursor()\n",
    "    c.execute(f'select * from {tabela}')\n",
    "    data = c.fetchall()\n",
    "\n",
    "    Colunas = [i[0] for i in c.execute(f'select * from {tabela}').description ]\n",
    "    print(\"Colunas\",Colunas)\n",
    "\n",
    "    for i in data:\n",
    "        linha = []\n",
    "        for j,k in zip(Colunas,i):\n",
    "            linha.append(f\"{j}: {k}\")\n",
    "        print(linha)\n",
    "\n",
    "    c.close()"
   ]
  },
  {
   "cell_type": "code",
   "execution_count": 7,
   "metadata": {},
   "outputs": [
    {
     "name": "stdout",
     "output_type": "stream",
     "text": [
      "Produto, Valor, Data, Vendido\n",
      "?, ?, ?, ?\n",
      "\n",
      "INSERT INTO random_table (Produto, Valor, Data, Vendido) VALUES (?, ?, ?, ?)\n",
      "('Teclado', 78, datetime.datetime(2022, 9, 17, 22, 4, 8, 742129), 1)\n",
      "Produto, Valor, Data, Vendido\n",
      "?, ?, ?, ?\n",
      "\n",
      "INSERT INTO random_table (Produto, Valor, Data, Vendido) VALUES (?, ?, ?, ?)\n",
      "('CPU', 88, datetime.datetime(2022, 9, 17, 22, 4, 8, 749123), 1)\n",
      "Produto, Valor, Data, Vendido\n",
      "?, ?, ?, ?\n",
      "\n",
      "INSERT INTO random_table (Produto, Valor, Data, Vendido) VALUES (?, ?, ?, ?)\n",
      "('Mouse', 65, datetime.datetime(2022, 9, 17, 22, 4, 8, 788099), 0)\n",
      "Produto, Valor, Data, Vendido\n",
      "?, ?, ?, ?\n",
      "\n",
      "INSERT INTO random_table (Produto, Valor, Data, Vendido) VALUES (?, ?, ?, ?)\n",
      "('Teclado', 51, datetime.datetime(2022, 9, 17, 22, 4, 8, 839069), 1)\n",
      "Produto, Valor, Data, Vendido\n",
      "?, ?, ?, ?\n",
      "\n",
      "INSERT INTO random_table (Produto, Valor, Data, Vendido) VALUES (?, ?, ?, ?)\n",
      "('Monitor', 92, datetime.datetime(2022, 9, 17, 22, 4, 8, 851063), 1)\n",
      "Produto, Valor, Data, Vendido\n",
      "?, ?, ?, ?\n",
      "\n",
      "INSERT INTO random_table (Produto, Valor, Data, Vendido) VALUES (?, ?, ?, ?)\n",
      "('CPU', 83, datetime.datetime(2022, 9, 17, 22, 4, 8, 861054), 1)\n",
      "Produto, Valor, Data, Vendido\n",
      "?, ?, ?, ?\n",
      "\n",
      "INSERT INTO random_table (Produto, Valor, Data, Vendido) VALUES (?, ?, ?, ?)\n",
      "('Monitor', 72, datetime.datetime(2022, 9, 17, 22, 4, 8, 870049), 1)\n",
      "Produto, Valor, Data, Vendido\n",
      "?, ?, ?, ?\n",
      "\n",
      "INSERT INTO random_table (Produto, Valor, Data, Vendido) VALUES (?, ?, ?, ?)\n",
      "('CPU', 72, datetime.datetime(2022, 9, 17, 22, 4, 8, 879044), 1)\n",
      "Produto, Valor, Data, Vendido\n",
      "?, ?, ?, ?\n",
      "\n",
      "INSERT INTO random_table (Produto, Valor, Data, Vendido) VALUES (?, ?, ?, ?)\n",
      "('Monitor', 87, datetime.datetime(2022, 9, 17, 22, 4, 8, 887038), 0)\n",
      "Produto, Valor, Data, Vendido\n",
      "?, ?, ?, ?\n",
      "\n",
      "INSERT INTO random_table (Produto, Valor, Data, Vendido) VALUES (?, ?, ?, ?)\n",
      "('Mouse', 74, datetime.datetime(2022, 9, 17, 22, 4, 8, 897032), 0)\n",
      "Produto, Valor, Data, Vendido\n",
      "?, ?, ?, ?\n",
      "\n",
      "INSERT INTO random_table (Produto, Valor, Data, Vendido) VALUES (?, ?, ?, ?)\n",
      "('Monitor', 67, datetime.datetime(2022, 9, 17, 22, 4, 8, 918019), 1)\n",
      "Produto, Valor, Data, Vendido\n",
      "?, ?, ?, ?\n",
      "\n",
      "INSERT INTO random_table (Produto, Valor, Data, Vendido) VALUES (?, ?, ?, ?)\n",
      "('Teclado', 74, datetime.datetime(2022, 9, 17, 22, 4, 8, 929012), 0)\n",
      "Produto, Valor, Data, Vendido\n",
      "?, ?, ?, ?\n",
      "\n",
      "INSERT INTO random_table (Produto, Valor, Data, Vendido) VALUES (?, ?, ?, ?)\n",
      "('CPU', 90, datetime.datetime(2022, 9, 17, 22, 4, 8, 936008), 1)\n",
      "Produto, Valor, Data, Vendido\n",
      "?, ?, ?, ?\n",
      "\n",
      "INSERT INTO random_table (Produto, Valor, Data, Vendido) VALUES (?, ?, ?, ?)\n",
      "('Monitor', 83, datetime.datetime(2022, 9, 17, 22, 4, 8, 947000), 1)\n",
      "Produto, Valor, Data, Vendido\n",
      "?, ?, ?, ?\n",
      "\n",
      "INSERT INTO random_table (Produto, Valor, Data, Vendido) VALUES (?, ?, ?, ?)\n",
      "('Mouse', 72, datetime.datetime(2022, 9, 17, 22, 4, 8, 964989), 1)\n",
      "Produto, Valor, Data, Vendido\n",
      "?, ?, ?, ?\n",
      "\n",
      "INSERT INTO random_table (Produto, Valor, Data, Vendido) VALUES (?, ?, ?, ?)\n",
      "('Monitor', 87, datetime.datetime(2022, 9, 17, 22, 4, 8, 976983), 1)\n",
      "Produto, Valor, Data, Vendido\n",
      "?, ?, ?, ?\n",
      "\n",
      "INSERT INTO random_table (Produto, Valor, Data, Vendido) VALUES (?, ?, ?, ?)\n",
      "('CPU', 71, datetime.datetime(2022, 9, 17, 22, 4, 8, 985976), 0)\n",
      "Produto, Valor, Data, Vendido\n",
      "?, ?, ?, ?\n",
      "\n",
      "INSERT INTO random_table (Produto, Valor, Data, Vendido) VALUES (?, ?, ?, ?)\n",
      "('CPU', 97, datetime.datetime(2022, 9, 17, 22, 4, 8, 998970), 0)\n",
      "Produto, Valor, Data, Vendido\n",
      "?, ?, ?, ?\n",
      "\n",
      "INSERT INTO random_table (Produto, Valor, Data, Vendido) VALUES (?, ?, ?, ?)\n",
      "('Mouse', 50, datetime.datetime(2022, 9, 17, 22, 4, 9, 12961), 1)\n",
      "Produto, Valor, Data, Vendido\n",
      "?, ?, ?, ?\n",
      "\n",
      "INSERT INTO random_table (Produto, Valor, Data, Vendido) VALUES (?, ?, ?, ?)\n",
      "('Teclado', 82, datetime.datetime(2022, 9, 17, 22, 4, 9, 20954), 1)\n"
     ]
    }
   ],
   "source": [
    "# Criando uma tabela-pai aletória\n",
    "\n",
    "os.remove(r'../ArquivosParalelos/random_tables.db') if os.path.exists(r'../ArquivosParalelos/random_tables.db') else None\n",
    "\n",
    "n = 20 #Número de observações\n",
    "\n",
    "create_table(arquivo,tabela,\"ID INTEGER PRIMARY KEY AUTOINCREMENT NOT NULL\",\"Produto TEXT\",\"Valor REAL\",\"Data DATE\",\"Vendido BIT NOT NULL\")\n",
    "\n",
    "for i in range(n): #cria n itens na lista.\n",
    "    new_date = datetime.datetime.now() #cria um objeto contendo a data e a hora atuais.\n",
    "    new_prod_name = random.choice(['Monitor', 'CPU', 'Teclado','Mouse']) #Escolhe um item na lista.\n",
    "    new_value = random.randrange(50,100) #Escolhe um preço para ser um valor do item.\n",
    "    new_bool = random.choice([0,1]) #Escolhe um valor bit aleatório\n",
    "\n",
    "    valores = (new_prod_name,new_value,new_date,new_bool)\n",
    "\n",
    "    data_insert_var(arquivo,tabela,('Produto','Valor','Data','Vendido'),valores)\n",
    "\n",
    "    time.sleep(0) #aguarda."
   ]
  },
  {
   "cell_type": "code",
   "execution_count": 8,
   "metadata": {},
   "outputs": [
    {
     "name": "stdout",
     "output_type": "stream",
     "text": [
      "[('Teclado',), ('CPU',), ('Mouse',), ('Teclado',), ('Monitor',), ('CPU',), ('Monitor',), ('CPU',), ('Monitor',), ('Mouse',), ('Monitor',), ('Teclado',), ('CPU',), ('Monitor',), ('Mouse',), ('Monitor',), ('CPU',), ('CPU',), ('Mouse',), ('Teclado',)]\n"
     ]
    }
   ],
   "source": [
    "Query = \"SELECT Produto FROM random_table\"\n",
    "\n",
    "print(sqlite3.connect(arquivo).cursor().execute(Query).fetchall())"
   ]
  },
  {
   "cell_type": "code",
   "execution_count": 9,
   "metadata": {},
   "outputs": [
    {
     "name": "stdout",
     "output_type": "stream",
     "text": [
      "[1, 2, 3, 4, 5, 6, 7, 8, 9, 10, 11, 12, 13, 14, 15, 16, 17, 18, 19, 20]\n",
      "Desconto, Data, ProdutoID\n",
      "?, ?, ?\n",
      "\n",
      "INSERT INTO child_table (Desconto, Data, ProdutoID) VALUES (?, ?, ?)\n",
      "(22, datetime.datetime(2022, 9, 17, 22, 5, 26, 829330), 10)\n",
      "Desconto, Data, ProdutoID\n",
      "?, ?, ?\n",
      "\n",
      "INSERT INTO child_table (Desconto, Data, ProdutoID) VALUES (?, ?, ?)\n",
      "(24, datetime.datetime(2022, 9, 17, 22, 5, 26, 841322), 4)\n",
      "Desconto, Data, ProdutoID\n",
      "?, ?, ?\n",
      "\n",
      "INSERT INTO child_table (Desconto, Data, ProdutoID) VALUES (?, ?, ?)\n",
      "(16, datetime.datetime(2022, 9, 17, 22, 5, 26, 854314), 1)\n",
      "Desconto, Data, ProdutoID\n",
      "?, ?, ?\n",
      "\n",
      "INSERT INTO child_table (Desconto, Data, ProdutoID) VALUES (?, ?, ?)\n",
      "(21, datetime.datetime(2022, 9, 17, 22, 5, 26, 864308), 15)\n",
      "Desconto, Data, ProdutoID\n",
      "?, ?, ?\n",
      "\n",
      "INSERT INTO child_table (Desconto, Data, ProdutoID) VALUES (?, ?, ?)\n",
      "(8, datetime.datetime(2022, 9, 17, 22, 5, 26, 873302), 3)\n",
      "Desconto, Data, ProdutoID\n",
      "?, ?, ?\n",
      "\n",
      "INSERT INTO child_table (Desconto, Data, ProdutoID) VALUES (?, ?, ?)\n",
      "(10, datetime.datetime(2022, 9, 17, 22, 5, 26, 908283), 8)\n",
      "Desconto, Data, ProdutoID\n",
      "?, ?, ?\n",
      "\n",
      "INSERT INTO child_table (Desconto, Data, ProdutoID) VALUES (?, ?, ?)\n",
      "(8, datetime.datetime(2022, 9, 17, 22, 5, 26, 919275), 16)\n",
      "Desconto, Data, ProdutoID\n",
      "?, ?, ?\n",
      "\n",
      "INSERT INTO child_table (Desconto, Data, ProdutoID) VALUES (?, ?, ?)\n",
      "(6, datetime.datetime(2022, 9, 17, 22, 5, 26, 932265), 8)\n",
      "Desconto, Data, ProdutoID\n",
      "?, ?, ?\n",
      "\n",
      "INSERT INTO child_table (Desconto, Data, ProdutoID) VALUES (?, ?, ?)\n",
      "(19, datetime.datetime(2022, 9, 17, 22, 5, 26, 944258), 6)\n",
      "Desconto, Data, ProdutoID\n",
      "?, ?, ?\n",
      "\n",
      "INSERT INTO child_table (Desconto, Data, ProdutoID) VALUES (?, ?, ?)\n",
      "(23, datetime.datetime(2022, 9, 17, 22, 5, 26, 956250), 4)\n",
      "Desconto, Data, ProdutoID\n",
      "?, ?, ?\n",
      "\n",
      "INSERT INTO child_table (Desconto, Data, ProdutoID) VALUES (?, ?, ?)\n",
      "(18, datetime.datetime(2022, 9, 17, 22, 5, 26, 968243), 4)\n",
      "Desconto, Data, ProdutoID\n",
      "?, ?, ?\n",
      "\n",
      "INSERT INTO child_table (Desconto, Data, ProdutoID) VALUES (?, ?, ?)\n",
      "(1, datetime.datetime(2022, 9, 17, 22, 5, 26, 978237), 5)\n",
      "Desconto, Data, ProdutoID\n",
      "?, ?, ?\n",
      "\n",
      "INSERT INTO child_table (Desconto, Data, ProdutoID) VALUES (?, ?, ?)\n",
      "(13, datetime.datetime(2022, 9, 17, 22, 5, 26, 988231), 1)\n",
      "Desconto, Data, ProdutoID\n",
      "?, ?, ?\n",
      "\n",
      "INSERT INTO child_table (Desconto, Data, ProdutoID) VALUES (?, ?, ?)\n",
      "(1, datetime.datetime(2022, 9, 17, 22, 5, 26, 996226), 18)\n",
      "Desconto, Data, ProdutoID\n",
      "?, ?, ?\n",
      "\n",
      "INSERT INTO child_table (Desconto, Data, ProdutoID) VALUES (?, ?, ?)\n",
      "(9, datetime.datetime(2022, 9, 17, 22, 5, 27, 11218), 15)\n",
      "Desconto, Data, ProdutoID\n",
      "?, ?, ?\n",
      "\n",
      "INSERT INTO child_table (Desconto, Data, ProdutoID) VALUES (?, ?, ?)\n",
      "(15, datetime.datetime(2022, 9, 17, 22, 5, 27, 18212), 6)\n",
      "Desconto, Data, ProdutoID\n",
      "?, ?, ?\n",
      "\n",
      "INSERT INTO child_table (Desconto, Data, ProdutoID) VALUES (?, ?, ?)\n",
      "(9, datetime.datetime(2022, 9, 17, 22, 5, 27, 24209), 14)\n",
      "Desconto, Data, ProdutoID\n",
      "?, ?, ?\n",
      "\n",
      "INSERT INTO child_table (Desconto, Data, ProdutoID) VALUES (?, ?, ?)\n",
      "(12, datetime.datetime(2022, 9, 17, 22, 5, 27, 40199), 18)\n",
      "Desconto, Data, ProdutoID\n",
      "?, ?, ?\n",
      "\n",
      "INSERT INTO child_table (Desconto, Data, ProdutoID) VALUES (?, ?, ?)\n",
      "(2, datetime.datetime(2022, 9, 17, 22, 5, 27, 66183), 10)\n",
      "Desconto, Data, ProdutoID\n",
      "?, ?, ?\n",
      "\n",
      "INSERT INTO child_table (Desconto, Data, ProdutoID) VALUES (?, ?, ?)\n",
      "(16, datetime.datetime(2022, 9, 17, 22, 5, 27, 71179), 3)\n",
      "Desconto, Data, ProdutoID\n",
      "?, ?, ?\n",
      "\n",
      "INSERT INTO child_table (Desconto, Data, ProdutoID) VALUES (?, ?, ?)\n",
      "(11, datetime.datetime(2022, 9, 17, 22, 5, 27, 77175), 13)\n",
      "Desconto, Data, ProdutoID\n",
      "?, ?, ?\n",
      "\n",
      "INSERT INTO child_table (Desconto, Data, ProdutoID) VALUES (?, ?, ?)\n",
      "(19, datetime.datetime(2022, 9, 17, 22, 5, 27, 83172), 2)\n",
      "Desconto, Data, ProdutoID\n",
      "?, ?, ?\n",
      "\n",
      "INSERT INTO child_table (Desconto, Data, ProdutoID) VALUES (?, ?, ?)\n",
      "(2, datetime.datetime(2022, 9, 17, 22, 5, 27, 89168), 15)\n",
      "Desconto, Data, ProdutoID\n",
      "?, ?, ?\n",
      "\n",
      "INSERT INTO child_table (Desconto, Data, ProdutoID) VALUES (?, ?, ?)\n",
      "(13, datetime.datetime(2022, 9, 17, 22, 5, 27, 95165), 8)\n",
      "Desconto, Data, ProdutoID\n",
      "?, ?, ?\n",
      "\n",
      "INSERT INTO child_table (Desconto, Data, ProdutoID) VALUES (?, ?, ?)\n",
      "(8, datetime.datetime(2022, 9, 17, 22, 5, 27, 106158), 15)\n",
      "Desconto, Data, ProdutoID\n",
      "?, ?, ?\n",
      "\n",
      "INSERT INTO child_table (Desconto, Data, ProdutoID) VALUES (?, ?, ?)\n",
      "(9, datetime.datetime(2022, 9, 17, 22, 5, 27, 112155), 9)\n",
      "Desconto, Data, ProdutoID\n",
      "?, ?, ?\n",
      "\n",
      "INSERT INTO child_table (Desconto, Data, ProdutoID) VALUES (?, ?, ?)\n",
      "(18, datetime.datetime(2022, 9, 17, 22, 5, 27, 118151), 10)\n",
      "Desconto, Data, ProdutoID\n",
      "?, ?, ?\n",
      "\n",
      "INSERT INTO child_table (Desconto, Data, ProdutoID) VALUES (?, ?, ?)\n",
      "(20, datetime.datetime(2022, 9, 17, 22, 5, 27, 124146), 3)\n",
      "Desconto, Data, ProdutoID\n",
      "?, ?, ?\n",
      "\n",
      "INSERT INTO child_table (Desconto, Data, ProdutoID) VALUES (?, ?, ?)\n",
      "(17, datetime.datetime(2022, 9, 17, 22, 5, 27, 143135), 2)\n",
      "Desconto, Data, ProdutoID\n",
      "?, ?, ?\n",
      "\n",
      "INSERT INTO child_table (Desconto, Data, ProdutoID) VALUES (?, ?, ?)\n",
      "(2, datetime.datetime(2022, 9, 17, 22, 5, 27, 150131), 20)\n"
     ]
    }
   ],
   "source": [
    "# Criando uma tabela-filha aletória\n",
    "\n",
    "Produtos = sqlite3.connect(arquivo).cursor().execute(\"SELECT ID FROM random_table\").fetchall()\n",
    "ProdID = [i[0] for i in Produtos]\n",
    "#for i in Produtos:\n",
    "#    ProdID.append(i[0])\n",
    "print(ProdID)\n",
    "\n",
    "Query = \"CREATE TABLE IF NOT EXISTS child_table (ID INTEGER PRIMARY KEY AUTOINCREMENT NOT NULL, Desconto REAL, Data DATE, ProdutoID INTEGER NOT NULL, FOREIGN KEY (ProdutoID) REFERENCES random_table(ID))\"\n",
    "\n",
    "conn = sqlite3.connect(arquivo)\n",
    "curs = conn.cursor()\n",
    "curs.execute(Query)\n",
    "conn.commit()\n",
    "curs.close()\n",
    "conn.close()\n",
    "\n",
    "n=30\n",
    "for i in range(n): #cria n itens na lista.\n",
    "    new_date = datetime.datetime.now() #cria um objeto contendo a data e a hora atuais.\n",
    "    new_value = random.randrange(0,25) #Escolhe um preço para ser um valor do item.\n",
    "    new_from_list = random.choice(ProdID) #Escolhe um valor bit aleatório\n",
    "\n",
    "    valores = (new_value,new_date,new_from_list)\n",
    "\n",
    "    data_insert_var(arquivo,'child_table',('Desconto','Data','ProdutoID'),valores)"
   ]
  },
  {
   "cell_type": "code",
   "execution_count": 10,
   "metadata": {},
   "outputs": [
    {
     "name": "stdout",
     "output_type": "stream",
     "text": [
      "Colunas ['ID', 'Produto', 'Valor', 'Data', 'Vendido']\n",
      "['ID: 1', 'Produto: Teclado', 'Valor: 78.0', 'Data: 2022-09-17 22:04:08.742129', 'Vendido: 1']\n",
      "['ID: 2', 'Produto: CPU', 'Valor: 88.0', 'Data: 2022-09-17 22:04:08.749123', 'Vendido: 1']\n",
      "['ID: 3', 'Produto: Mouse', 'Valor: 65.0', 'Data: 2022-09-17 22:04:08.788099', 'Vendido: 0']\n",
      "['ID: 4', 'Produto: Teclado', 'Valor: 51.0', 'Data: 2022-09-17 22:04:08.839069', 'Vendido: 1']\n",
      "['ID: 5', 'Produto: Monitor', 'Valor: 92.0', 'Data: 2022-09-17 22:04:08.851063', 'Vendido: 1']\n",
      "['ID: 6', 'Produto: CPU', 'Valor: 83.0', 'Data: 2022-09-17 22:04:08.861054', 'Vendido: 1']\n",
      "['ID: 7', 'Produto: Monitor', 'Valor: 72.0', 'Data: 2022-09-17 22:04:08.870049', 'Vendido: 1']\n",
      "['ID: 8', 'Produto: CPU', 'Valor: 72.0', 'Data: 2022-09-17 22:04:08.879044', 'Vendido: 1']\n",
      "['ID: 9', 'Produto: Monitor', 'Valor: 87.0', 'Data: 2022-09-17 22:04:08.887038', 'Vendido: 0']\n",
      "['ID: 10', 'Produto: Mouse', 'Valor: 74.0', 'Data: 2022-09-17 22:04:08.897032', 'Vendido: 0']\n",
      "['ID: 11', 'Produto: Monitor', 'Valor: 67.0', 'Data: 2022-09-17 22:04:08.918019', 'Vendido: 1']\n",
      "['ID: 12', 'Produto: Teclado', 'Valor: 74.0', 'Data: 2022-09-17 22:04:08.929012', 'Vendido: 0']\n",
      "['ID: 13', 'Produto: CPU', 'Valor: 90.0', 'Data: 2022-09-17 22:04:08.936008', 'Vendido: 1']\n",
      "['ID: 14', 'Produto: Monitor', 'Valor: 83.0', 'Data: 2022-09-17 22:04:08.947000', 'Vendido: 1']\n",
      "['ID: 15', 'Produto: Mouse', 'Valor: 72.0', 'Data: 2022-09-17 22:04:08.964989', 'Vendido: 1']\n",
      "['ID: 16', 'Produto: Monitor', 'Valor: 87.0', 'Data: 2022-09-17 22:04:08.976983', 'Vendido: 1']\n",
      "['ID: 17', 'Produto: CPU', 'Valor: 71.0', 'Data: 2022-09-17 22:04:08.985976', 'Vendido: 0']\n",
      "['ID: 18', 'Produto: CPU', 'Valor: 97.0', 'Data: 2022-09-17 22:04:08.998970', 'Vendido: 0']\n",
      "['ID: 19', 'Produto: Mouse', 'Valor: 50.0', 'Data: 2022-09-17 22:04:09.012961', 'Vendido: 1']\n",
      "['ID: 20', 'Produto: Teclado', 'Valor: 82.0', 'Data: 2022-09-17 22:04:09.020954', 'Vendido: 1']\n"
     ]
    }
   ],
   "source": [
    "# Vendo a tabela.\n",
    "\n",
    "showall(arquivo,tabela)"
   ]
  },
  {
   "cell_type": "code",
   "execution_count": 11,
   "metadata": {},
   "outputs": [
    {
     "name": "stdout",
     "output_type": "stream",
     "text": [
      "Colunas ['ID', 'Desconto', 'Data', 'ProdutoID']\n",
      "['ID: 1', 'Desconto: 22.0', 'Data: 2022-09-17 22:05:26.829330', 'ProdutoID: 10']\n",
      "['ID: 2', 'Desconto: 24.0', 'Data: 2022-09-17 22:05:26.841322', 'ProdutoID: 4']\n",
      "['ID: 3', 'Desconto: 16.0', 'Data: 2022-09-17 22:05:26.854314', 'ProdutoID: 1']\n",
      "['ID: 4', 'Desconto: 21.0', 'Data: 2022-09-17 22:05:26.864308', 'ProdutoID: 15']\n",
      "['ID: 5', 'Desconto: 8.0', 'Data: 2022-09-17 22:05:26.873302', 'ProdutoID: 3']\n",
      "['ID: 6', 'Desconto: 10.0', 'Data: 2022-09-17 22:05:26.908283', 'ProdutoID: 8']\n",
      "['ID: 7', 'Desconto: 8.0', 'Data: 2022-09-17 22:05:26.919275', 'ProdutoID: 16']\n",
      "['ID: 8', 'Desconto: 6.0', 'Data: 2022-09-17 22:05:26.932265', 'ProdutoID: 8']\n",
      "['ID: 9', 'Desconto: 19.0', 'Data: 2022-09-17 22:05:26.944258', 'ProdutoID: 6']\n",
      "['ID: 10', 'Desconto: 23.0', 'Data: 2022-09-17 22:05:26.956250', 'ProdutoID: 4']\n",
      "['ID: 11', 'Desconto: 18.0', 'Data: 2022-09-17 22:05:26.968243', 'ProdutoID: 4']\n",
      "['ID: 12', 'Desconto: 1.0', 'Data: 2022-09-17 22:05:26.978237', 'ProdutoID: 5']\n",
      "['ID: 13', 'Desconto: 13.0', 'Data: 2022-09-17 22:05:26.988231', 'ProdutoID: 1']\n",
      "['ID: 14', 'Desconto: 1.0', 'Data: 2022-09-17 22:05:26.996226', 'ProdutoID: 18']\n",
      "['ID: 15', 'Desconto: 9.0', 'Data: 2022-09-17 22:05:27.011218', 'ProdutoID: 15']\n",
      "['ID: 16', 'Desconto: 15.0', 'Data: 2022-09-17 22:05:27.018212', 'ProdutoID: 6']\n",
      "['ID: 17', 'Desconto: 9.0', 'Data: 2022-09-17 22:05:27.024209', 'ProdutoID: 14']\n",
      "['ID: 18', 'Desconto: 12.0', 'Data: 2022-09-17 22:05:27.040199', 'ProdutoID: 18']\n",
      "['ID: 19', 'Desconto: 2.0', 'Data: 2022-09-17 22:05:27.066183', 'ProdutoID: 10']\n",
      "['ID: 20', 'Desconto: 16.0', 'Data: 2022-09-17 22:05:27.071179', 'ProdutoID: 3']\n",
      "['ID: 21', 'Desconto: 11.0', 'Data: 2022-09-17 22:05:27.077175', 'ProdutoID: 13']\n",
      "['ID: 22', 'Desconto: 19.0', 'Data: 2022-09-17 22:05:27.083172', 'ProdutoID: 2']\n",
      "['ID: 23', 'Desconto: 2.0', 'Data: 2022-09-17 22:05:27.089168', 'ProdutoID: 15']\n",
      "['ID: 24', 'Desconto: 13.0', 'Data: 2022-09-17 22:05:27.095165', 'ProdutoID: 8']\n",
      "['ID: 25', 'Desconto: 8.0', 'Data: 2022-09-17 22:05:27.106158', 'ProdutoID: 15']\n",
      "['ID: 26', 'Desconto: 9.0', 'Data: 2022-09-17 22:05:27.112155', 'ProdutoID: 9']\n",
      "['ID: 27', 'Desconto: 18.0', 'Data: 2022-09-17 22:05:27.118151', 'ProdutoID: 10']\n",
      "['ID: 28', 'Desconto: 20.0', 'Data: 2022-09-17 22:05:27.124146', 'ProdutoID: 3']\n",
      "['ID: 29', 'Desconto: 17.0', 'Data: 2022-09-17 22:05:27.143135', 'ProdutoID: 2']\n",
      "['ID: 30', 'Desconto: 2.0', 'Data: 2022-09-17 22:05:27.150131', 'ProdutoID: 20']\n"
     ]
    }
   ],
   "source": [
    "showall(arquivo,'child_table')"
   ]
  },
  {
   "cell_type": "code",
   "execution_count": 12,
   "metadata": {},
   "outputs": [],
   "source": [
    "# Função para mostrar apenas o Fetchall\n",
    "\n",
    "def Execute_and_Show(Query,arquivo):\n",
    "    Cursor = sqlite3.connect(arquivo).cursor()\n",
    "    Cursor.execute(Query)\n",
    "    for i in Cursor.execute(Query).description:\n",
    "        print(i)\n",
    "    print()\n",
    "    for i in Cursor.fetchall():\n",
    "        print(i)\n",
    "    Cursor.close()"
   ]
  },
  {
   "cell_type": "code",
   "execution_count": 13,
   "metadata": {},
   "outputs": [],
   "source": [
    "# Função para executar e enviar ao DB.\n",
    "\n",
    "def Execute_and_Commit(Query,arquivo,tabela):\n",
    "    Conn = sqlite3.connect(arquivo)\n",
    "    Cursor = Conn.cursor()\n",
    "    Cursor.execute(Query)\n",
    "    Conn.commit()\n",
    "    Cursor.close()\n",
    "    Conn.close()\n",
    "    showall(arquivo,tabela)"
   ]
  },
  {
   "cell_type": "markdown",
   "metadata": {},
   "source": [
    "## Queries"
   ]
  },
  {
   "cell_type": "markdown",
   "metadata": {},
   "source": [
    "<a id='Demo'></a>\n",
    "### Demonstração"
   ]
  },
  {
   "cell_type": "code",
   "execution_count": 14,
   "metadata": {},
   "outputs": [
    {
     "name": "stdout",
     "output_type": "stream",
     "text": [
      "('ID', None, None, None, None, None, None)\n",
      "('Produto', None, None, None, None, None, None)\n",
      "('Valor', None, None, None, None, None, None)\n",
      "('Data', None, None, None, None, None, None)\n",
      "('Vendido', None, None, None, None, None, None)\n",
      "\n",
      "(1, 'Teclado', 78.0, '2022-09-17 22:04:08.742129', 1)\n",
      "(2, 'CPU', 88.0, '2022-09-17 22:04:08.749123', 1)\n",
      "(3, 'Mouse', 65.0, '2022-09-17 22:04:08.788099', 0)\n",
      "(4, 'Teclado', 51.0, '2022-09-17 22:04:08.839069', 1)\n",
      "(5, 'Monitor', 92.0, '2022-09-17 22:04:08.851063', 1)\n",
      "(6, 'CPU', 83.0, '2022-09-17 22:04:08.861054', 1)\n",
      "(7, 'Monitor', 72.0, '2022-09-17 22:04:08.870049', 1)\n",
      "(8, 'CPU', 72.0, '2022-09-17 22:04:08.879044', 1)\n",
      "(9, 'Monitor', 87.0, '2022-09-17 22:04:08.887038', 0)\n",
      "(10, 'Mouse', 74.0, '2022-09-17 22:04:08.897032', 0)\n",
      "(11, 'Monitor', 67.0, '2022-09-17 22:04:08.918019', 1)\n",
      "(12, 'Teclado', 74.0, '2022-09-17 22:04:08.929012', 0)\n",
      "(13, 'CPU', 90.0, '2022-09-17 22:04:08.936008', 1)\n",
      "(14, 'Monitor', 83.0, '2022-09-17 22:04:08.947000', 1)\n",
      "(15, 'Mouse', 72.0, '2022-09-17 22:04:08.964989', 1)\n",
      "(16, 'Monitor', 87.0, '2022-09-17 22:04:08.976983', 1)\n",
      "(17, 'CPU', 71.0, '2022-09-17 22:04:08.985976', 0)\n",
      "(18, 'CPU', 97.0, '2022-09-17 22:04:08.998970', 0)\n",
      "(19, 'Mouse', 50.0, '2022-09-17 22:04:09.012961', 1)\n",
      "(20, 'Teclado', 82.0, '2022-09-17 22:04:09.020954', 1)\n"
     ]
    }
   ],
   "source": [
    "# Mostrar todos os dados\n",
    "\n",
    "Query = \"SELECT * FROM random_table\"\n",
    "\n",
    "Execute_and_Show(Query,arquivo)"
   ]
  },
  {
   "cell_type": "code",
   "execution_count": 15,
   "metadata": {},
   "outputs": [
    {
     "name": "stdout",
     "output_type": "stream",
     "text": [
      "('Produto', None, None, None, None, None, None)\n",
      "('Valor', None, None, None, None, None, None)\n",
      "\n",
      "('Teclado', 78.0)\n",
      "('CPU', 88.0)\n",
      "('Mouse', 65.0)\n",
      "('Teclado', 51.0)\n",
      "('Monitor', 92.0)\n",
      "('CPU', 83.0)\n",
      "('Monitor', 72.0)\n",
      "('CPU', 72.0)\n",
      "('Monitor', 87.0)\n",
      "('Mouse', 74.0)\n",
      "('Monitor', 67.0)\n",
      "('Teclado', 74.0)\n",
      "('CPU', 90.0)\n",
      "('Monitor', 83.0)\n",
      "('Mouse', 72.0)\n",
      "('Monitor', 87.0)\n",
      "('CPU', 71.0)\n",
      "('CPU', 97.0)\n",
      "('Mouse', 50.0)\n",
      "('Teclado', 82.0)\n"
     ]
    }
   ],
   "source": [
    "# Mostrar algumas colunas\n",
    "\n",
    "Query = \"SELECT Produto, Valor FROM random_table\"\n",
    "\n",
    "Execute_and_Show(Query,arquivo)"
   ]
  },
  {
   "cell_type": "code",
   "execution_count": 16,
   "metadata": {},
   "outputs": [
    {
     "name": "stdout",
     "output_type": "stream",
     "text": [
      "('Produto', None, None, None, None, None, None)\n",
      "('Valor', None, None, None, None, None, None)\n",
      "\n",
      "('CPU', 88.0)\n",
      "('Monitor', 92.0)\n",
      "('CPU', 83.0)\n",
      "('Monitor', 72.0)\n",
      "('CPU', 72.0)\n",
      "('Monitor', 87.0)\n",
      "('Monitor', 67.0)\n",
      "('CPU', 90.0)\n",
      "('Monitor', 83.0)\n",
      "('Monitor', 87.0)\n",
      "('CPU', 71.0)\n",
      "('CPU', 97.0)\n"
     ]
    }
   ],
   "source": [
    "# Mostrar dados que correspondam a determinados valores\n",
    "# Usando operadores lógicos\n",
    "\n",
    "Query = \"SELECT Produto, Valor FROM random_table WHERE Produto = 'Monitor' OR Produto = 'CPU'\"\n",
    "\n",
    "Execute_and_Show(Query,arquivo)"
   ]
  },
  {
   "cell_type": "code",
   "execution_count": 17,
   "metadata": {},
   "outputs": [
    {
     "name": "stdout",
     "output_type": "stream",
     "text": [
      "('name', None, None, None, None, None, None)\n",
      "\n",
      "('random_table',)\n",
      "('sqlite_sequence',)\n",
      "('child_table',)\n"
     ]
    }
   ],
   "source": [
    "# Selecionar os nomes das tabelas da tabela \"sqlite_master\"\n",
    "\n",
    "Query = 'SELECT name FROM sqlite_master WHERE type = \"table\"'\n",
    "\n",
    "Execute_and_Show(Query,arquivo)"
   ]
  },
  {
   "cell_type": "code",
   "execution_count": 18,
   "metadata": {},
   "outputs": [
    {
     "name": "stdout",
     "output_type": "stream",
     "text": [
      "('Produto', None, None, None, None, None, None)\n",
      "('Vendido', None, None, None, None, None, None)\n",
      "\n",
      "('Teclado', 1)\n",
      "('CPU', 1)\n",
      "('Mouse', 0)\n",
      "('Monitor', 1)\n",
      "('Monitor', 0)\n",
      "('Teclado', 0)\n",
      "('Mouse', 1)\n",
      "('CPU', 0)\n"
     ]
    }
   ],
   "source": [
    "# DISTINCT\n",
    "# Filtra os dados repetidos\n",
    "# É filtrado apenas as combinações repetidas\n",
    "\n",
    "Query = \"SELECT DISTINCT Produto, Vendido FROM random_table\"\n",
    "\n",
    "Execute_and_Show(Query,arquivo)"
   ]
  },
  {
   "cell_type": "code",
   "execution_count": 19,
   "metadata": {},
   "outputs": [
    {
     "name": "stdout",
     "output_type": "stream",
     "text": [
      "('ID', None, None, None, None, None, None)\n",
      "('Produto', None, None, None, None, None, None)\n",
      "('Valor', None, None, None, None, None, None)\n",
      "('Data', None, None, None, None, None, None)\n",
      "('Vendido', None, None, None, None, None, None)\n",
      "\n",
      "(2, 'CPU', 88.0, '2022-09-17 22:04:08.749123', 1)\n",
      "(6, 'CPU', 83.0, '2022-09-17 22:04:08.861054', 1)\n",
      "(8, 'CPU', 72.0, '2022-09-17 22:04:08.879044', 1)\n",
      "(13, 'CPU', 90.0, '2022-09-17 22:04:08.936008', 1)\n",
      "(17, 'CPU', 71.0, '2022-09-17 22:04:08.985976', 0)\n",
      "(18, 'CPU', 97.0, '2022-09-17 22:04:08.998970', 0)\n",
      "(5, 'Monitor', 92.0, '2022-09-17 22:04:08.851063', 1)\n",
      "(7, 'Monitor', 72.0, '2022-09-17 22:04:08.870049', 1)\n",
      "(9, 'Monitor', 87.0, '2022-09-17 22:04:08.887038', 0)\n",
      "(11, 'Monitor', 67.0, '2022-09-17 22:04:08.918019', 1)\n",
      "(14, 'Monitor', 83.0, '2022-09-17 22:04:08.947000', 1)\n",
      "(16, 'Monitor', 87.0, '2022-09-17 22:04:08.976983', 1)\n",
      "(3, 'Mouse', 65.0, '2022-09-17 22:04:08.788099', 0)\n",
      "(10, 'Mouse', 74.0, '2022-09-17 22:04:08.897032', 0)\n",
      "(15, 'Mouse', 72.0, '2022-09-17 22:04:08.964989', 1)\n",
      "(19, 'Mouse', 50.0, '2022-09-17 22:04:09.012961', 1)\n",
      "(1, 'Teclado', 78.0, '2022-09-17 22:04:08.742129', 1)\n",
      "(4, 'Teclado', 51.0, '2022-09-17 22:04:08.839069', 1)\n",
      "(12, 'Teclado', 74.0, '2022-09-17 22:04:08.929012', 0)\n",
      "(20, 'Teclado', 82.0, '2022-09-17 22:04:09.020954', 1)\n"
     ]
    }
   ],
   "source": [
    "# Ordenar / Organizar\n",
    "# ORDER BY\n",
    "# A ordem não precisa ser guiada por uma das colunas selecionadas.\n",
    "\n",
    "Query = \"SELECT * FROM random_table ORDER BY Produto\"\n",
    "\n",
    "Execute_and_Show(Query,arquivo)"
   ]
  },
  {
   "cell_type": "code",
   "execution_count": 20,
   "metadata": {},
   "outputs": [
    {
     "name": "stdout",
     "output_type": "stream",
     "text": [
      "('Produto', None, None, None, None, None, None)\n",
      "\n",
      "('Teclado',)\n",
      "('Mouse',)\n",
      "('Monitor',)\n",
      "('CPU',)\n"
     ]
    }
   ],
   "source": [
    "# Ordem decrescente\n",
    "# DESC | ASC\n",
    "\n",
    "Query = \"SELECT DISTINCT Produto FROM random_table ORDER BY Produto DESC\"\n",
    "\n",
    "Execute_and_Show(Query,arquivo)"
   ]
  },
  {
   "cell_type": "code",
   "execution_count": 21,
   "metadata": {},
   "outputs": [
    {
     "name": "stdout",
     "output_type": "stream",
     "text": [
      "('ID', None, None, None, None, None, None)\n",
      "('Produto', None, None, None, None, None, None)\n",
      "('Valor', None, None, None, None, None, None)\n",
      "('Data', None, None, None, None, None, None)\n",
      "('Vendido', None, None, None, None, None, None)\n",
      "\n",
      "(1, 'Teclado', 78.0, '2022-09-17 22:04:08.742129', 1)\n",
      "(2, 'CPU', 88.0, '2022-09-17 22:04:08.749123', 1)\n",
      "(3, 'Mouse', 65.0, '2022-09-17 22:04:08.788099', 0)\n",
      "(4, 'Teclado', 51.0, '2022-09-17 22:04:08.839069', 1)\n",
      "(5, 'Monitor', 92.0, '2022-09-17 22:04:08.851063', 1)\n",
      "(6, 'CPU', 83.0, '2022-09-17 22:04:08.861054', 1)\n"
     ]
    }
   ],
   "source": [
    "# Limitar o número e resultados\n",
    "# Apenas os X primeiros resultados são revelados.\n",
    "\n",
    "Query = \"SELECT * FROM random_table LIMIT 6\"\n",
    "\n",
    "Execute_and_Show(Query,arquivo)"
   ]
  },
  {
   "cell_type": "code",
   "execution_count": 22,
   "metadata": {},
   "outputs": [
    {
     "name": "stdout",
     "output_type": "stream",
     "text": [
      "('Nome do Produto', None, None, None, None, None, None)\n",
      "\n",
      "('Teclado',)\n",
      "('CPU',)\n",
      "('Mouse',)\n",
      "('Teclado',)\n",
      "('Monitor',)\n",
      "('CPU',)\n",
      "('Monitor',)\n",
      "('CPU',)\n",
      "('Monitor',)\n",
      "('Mouse',)\n",
      "('Monitor',)\n",
      "('Teclado',)\n",
      "('CPU',)\n",
      "('Monitor',)\n",
      "('Mouse',)\n",
      "('Monitor',)\n",
      "('CPU',)\n",
      "('CPU',)\n",
      "('Mouse',)\n",
      "('Teclado',)\n"
     ]
    }
   ],
   "source": [
    "# Alias\n",
    "# São mudanças dos nomes de colunas e tabelas.\n",
    "# Utiliza-se aspas quando o aliás tem espaço.\n",
    "\n",
    "Query = \"SELECT Produto AS 'Nome do Produto' FROM random_table AS Produtos\"\n",
    "\n",
    "Execute_and_Show(Query,arquivo)"
   ]
  },
  {
   "cell_type": "markdown",
   "metadata": {},
   "source": [
    "Join"
   ]
  },
  {
   "cell_type": "markdown",
   "metadata": {},
   "source": [
    "![](../ArquivosParalelos/Join_types.png)"
   ]
  },
  {
   "cell_type": "markdown",
   "metadata": {},
   "source": [
    "Different Types of SQL JOINs\n",
    "\n",
    "* (INNER) JOIN: _Retorna registros compatíveis com ambas as tabelas;_\n",
    "* LEFT (OUTER) JOIN: _Retorna todos os registros da tabela à esquerda, e os registros compatíveis da tabela à direita;_\n",
    "* RIGHT (OUTER) JOIN: _Retorna todos os registros da tabela à direita, e os registros compatíveis da tabela à esquerda;_\n",
    "* FULL (OUTER) JOIN: _Retorna todos os registros quando há compatibilidade em qualquer tabela._"
   ]
  },
  {
   "cell_type": "code",
   "execution_count": 23,
   "metadata": {},
   "outputs": [
    {
     "name": "stdout",
     "output_type": "stream",
     "text": [
      "('Desconto', None, None, None, None, None, None)\n",
      "('Data', None, None, None, None, None, None)\n",
      "('Produto', None, None, None, None, None, None)\n",
      "\n",
      "(22.0, '2022-09-17 22:05:26.829330', 'Mouse')\n",
      "(24.0, '2022-09-17 22:05:26.841322', 'Teclado')\n",
      "(16.0, '2022-09-17 22:05:26.854314', 'Teclado')\n",
      "(21.0, '2022-09-17 22:05:26.864308', 'Mouse')\n",
      "(8.0, '2022-09-17 22:05:26.873302', 'Mouse')\n",
      "(10.0, '2022-09-17 22:05:26.908283', 'CPU')\n",
      "(8.0, '2022-09-17 22:05:26.919275', 'Monitor')\n",
      "(6.0, '2022-09-17 22:05:26.932265', 'CPU')\n",
      "(19.0, '2022-09-17 22:05:26.944258', 'CPU')\n",
      "(23.0, '2022-09-17 22:05:26.956250', 'Teclado')\n",
      "(18.0, '2022-09-17 22:05:26.968243', 'Teclado')\n",
      "(1.0, '2022-09-17 22:05:26.978237', 'Monitor')\n",
      "(13.0, '2022-09-17 22:05:26.988231', 'Teclado')\n",
      "(1.0, '2022-09-17 22:05:26.996226', 'CPU')\n",
      "(9.0, '2022-09-17 22:05:27.011218', 'Mouse')\n",
      "(15.0, '2022-09-17 22:05:27.018212', 'CPU')\n",
      "(9.0, '2022-09-17 22:05:27.024209', 'Monitor')\n",
      "(12.0, '2022-09-17 22:05:27.040199', 'CPU')\n",
      "(2.0, '2022-09-17 22:05:27.066183', 'Mouse')\n",
      "(16.0, '2022-09-17 22:05:27.071179', 'Mouse')\n",
      "(11.0, '2022-09-17 22:05:27.077175', 'CPU')\n",
      "(19.0, '2022-09-17 22:05:27.083172', 'CPU')\n",
      "(2.0, '2022-09-17 22:05:27.089168', 'Mouse')\n",
      "(13.0, '2022-09-17 22:05:27.095165', 'CPU')\n",
      "(8.0, '2022-09-17 22:05:27.106158', 'Mouse')\n",
      "(9.0, '2022-09-17 22:05:27.112155', 'Monitor')\n",
      "(18.0, '2022-09-17 22:05:27.118151', 'Mouse')\n",
      "(20.0, '2022-09-17 22:05:27.124146', 'Mouse')\n",
      "(17.0, '2022-09-17 22:05:27.143135', 'CPU')\n",
      "(2.0, '2022-09-17 22:05:27.150131', 'Teclado')\n"
     ]
    }
   ],
   "source": [
    "Query = '''\n",
    "    SELECT \n",
    "    child_table.Desconto, child_table.Data, random_table.Produto \n",
    "    FROM child_table JOIN random_table \n",
    "    ON child_table.ProdutoID = random_table.ID\n",
    "    '''\n",
    "\n",
    "\n",
    "Execute_and_Show(Query,arquivo)"
   ]
  },
  {
   "cell_type": "code",
   "execution_count": 24,
   "metadata": {},
   "outputs": [],
   "source": [
    "# Como todos os registros na tabela child_table possuem valores para a coluna ProdutoID que correspondem a algum valor na tabela random_table, o LEfT JOIN presentaria o mesmo resultado do INNER JOIN."
   ]
  },
  {
   "cell_type": "code",
   "execution_count": 25,
   "metadata": {},
   "outputs": [
    {
     "name": "stdout",
     "output_type": "stream",
     "text": [
      "('Desconto', None, None, None, None, None, None)\n",
      "('Data', None, None, None, None, None, None)\n",
      "('Produto', None, None, None, None, None, None)\n",
      "\n",
      "(13.0, '2022-09-17 22:05:26.988231', 'Teclado')\n",
      "(16.0, '2022-09-17 22:05:26.854314', 'Teclado')\n",
      "(17.0, '2022-09-17 22:05:27.143135', 'CPU')\n",
      "(19.0, '2022-09-17 22:05:27.083172', 'CPU')\n",
      "(8.0, '2022-09-17 22:05:26.873302', 'Mouse')\n",
      "(16.0, '2022-09-17 22:05:27.071179', 'Mouse')\n",
      "(20.0, '2022-09-17 22:05:27.124146', 'Mouse')\n",
      "(18.0, '2022-09-17 22:05:26.968243', 'Teclado')\n",
      "(23.0, '2022-09-17 22:05:26.956250', 'Teclado')\n",
      "(24.0, '2022-09-17 22:05:26.841322', 'Teclado')\n",
      "(1.0, '2022-09-17 22:05:26.978237', 'Monitor')\n",
      "(15.0, '2022-09-17 22:05:27.018212', 'CPU')\n",
      "(19.0, '2022-09-17 22:05:26.944258', 'CPU')\n",
      "(None, None, 'Monitor')\n",
      "(6.0, '2022-09-17 22:05:26.932265', 'CPU')\n",
      "(10.0, '2022-09-17 22:05:26.908283', 'CPU')\n",
      "(13.0, '2022-09-17 22:05:27.095165', 'CPU')\n",
      "(9.0, '2022-09-17 22:05:27.112155', 'Monitor')\n",
      "(2.0, '2022-09-17 22:05:27.066183', 'Mouse')\n",
      "(18.0, '2022-09-17 22:05:27.118151', 'Mouse')\n",
      "(22.0, '2022-09-17 22:05:26.829330', 'Mouse')\n",
      "(None, None, 'Monitor')\n",
      "(None, None, 'Teclado')\n",
      "(11.0, '2022-09-17 22:05:27.077175', 'CPU')\n",
      "(9.0, '2022-09-17 22:05:27.024209', 'Monitor')\n",
      "(2.0, '2022-09-17 22:05:27.089168', 'Mouse')\n",
      "(8.0, '2022-09-17 22:05:27.106158', 'Mouse')\n",
      "(9.0, '2022-09-17 22:05:27.011218', 'Mouse')\n",
      "(21.0, '2022-09-17 22:05:26.864308', 'Mouse')\n",
      "(8.0, '2022-09-17 22:05:26.919275', 'Monitor')\n",
      "(None, None, 'CPU')\n",
      "(1.0, '2022-09-17 22:05:26.996226', 'CPU')\n",
      "(12.0, '2022-09-17 22:05:27.040199', 'CPU')\n",
      "(None, None, 'Mouse')\n",
      "(2.0, '2022-09-17 22:05:27.150131', 'Teclado')\n"
     ]
    }
   ],
   "source": [
    "# RIGH JOIN\n",
    "\n",
    "Query = '''\n",
    "    SELECT \n",
    "    child_table.Desconto, child_table.Data, random_table.Produto \n",
    "    FROM random_table LEFT JOIN child_table \n",
    "    ON child_table.ProdutoID = random_table.ID\n",
    "    '''\n",
    "    \n",
    "Execute_and_Show(Query,arquivo)\n",
    "\n",
    "# Os valores None mostrados são registros em random_table que não possuem correspondência em child_table."
   ]
  },
  {
   "cell_type": "markdown",
   "metadata": {},
   "source": [
    "LEFT e OUTHER JOIN não são suportados no SQLite3"
   ]
  },
  {
   "cell_type": "code",
   "execution_count": 26,
   "metadata": {},
   "outputs": [
    {
     "name": "stdout",
     "output_type": "stream",
     "text": [
      "('Desconto', None, None, None, None, None, None)\n",
      "\n",
      "(1.0,)\n",
      "(2.0,)\n",
      "(6.0,)\n",
      "(8.0,)\n",
      "(9.0,)\n",
      "(10.0,)\n",
      "(11.0,)\n",
      "(12.0,)\n",
      "(13.0,)\n",
      "(15.0,)\n",
      "(16.0,)\n",
      "(17.0,)\n",
      "(18.0,)\n",
      "(19.0,)\n",
      "(20.0,)\n",
      "(21.0,)\n",
      "(22.0,)\n",
      "(23.0,)\n",
      "(24.0,)\n",
      "(50.0,)\n",
      "(51.0,)\n",
      "(65.0,)\n",
      "(67.0,)\n",
      "(71.0,)\n",
      "(72.0,)\n",
      "(74.0,)\n",
      "(78.0,)\n",
      "(82.0,)\n",
      "(83.0,)\n",
      "(87.0,)\n",
      "(88.0,)\n",
      "(90.0,)\n",
      "(92.0,)\n",
      "(97.0,)\n"
     ]
    }
   ],
   "source": [
    "#UNION\n",
    "# Uma forma de juntar dois SELECT Queries de forma concatenada.\n",
    "# Ambos as seleções precisam ter o mesmo tipo de dados.\n",
    "\n",
    "\n",
    "Query = '''\n",
    "    SELECT Desconto FROM child_table\n",
    "    UNION\n",
    "    SELECT Valor FROM random_table\n",
    "    '''\n",
    "    \n",
    "Execute_and_Show(Query,arquivo)\n",
    "\n",
    "## UNION não retorna valores duplicados, mas UNION ALL sim."
   ]
  },
  {
   "cell_type": "code",
   "execution_count": 27,
   "metadata": {},
   "outputs": [
    {
     "name": "stdout",
     "output_type": "stream",
     "text": [
      "('ID', None, None, None, None, None, None)\n",
      "('Produto', None, None, None, None, None, None)\n",
      "('Valor', None, None, None, None, None, None)\n",
      "('Data', None, None, None, None, None, None)\n",
      "('Vendido', None, None, None, None, None, None)\n",
      "\n",
      "(2, 'CPU', 88.0, '2022-09-17 22:04:08.749123', 1)\n",
      "(5, 'Monitor', 92.0, '2022-09-17 22:04:08.851063', 1)\n",
      "(3, 'Mouse', 65.0, '2022-09-17 22:04:08.788099', 0)\n",
      "(1, 'Teclado', 78.0, '2022-09-17 22:04:08.742129', 1)\n",
      "('Produto', None, None, None, None, None, None)\n",
      "('Quantidade', None, None, None, None, None, None)\n",
      "('Média', None, None, None, None, None, None)\n",
      "\n",
      "('CPU', 6, 83.5)\n",
      "('Monitor', 6, 81.33333333333333)\n",
      "('Mouse', 4, 65.25)\n",
      "('Teclado', 4, 71.25)\n"
     ]
    }
   ],
   "source": [
    "# GROUP BY\n",
    "# Usado para agrupar em apenas valores distintos\n",
    "# Mostra apenas o primeiro valor de cada incidência\n",
    "\n",
    "\n",
    "Query = 'SELECT * FROM random_table GROUP BY Produto'\n",
    "\n",
    "Execute_and_Show(Query,arquivo)\n",
    "\n",
    "# Quando selecionado um agregador (contagem, soma, média), gera uma coluna que considera várias entradas na mesma instância.\n",
    "# No exemplo abaixo, mostra quantos registros e a média de valor de cada tipo de produto na tabela.\n",
    "\n",
    "Query = 'SELECT Produto, COUNT(*) AS \"Quantidade\", AVG(Valor) AS \"Média\" FROM random_table GROUP BY Produto'\n",
    "Execute_and_Show(Query,arquivo)"
   ]
  },
  {
   "cell_type": "code",
   "execution_count": 28,
   "metadata": {},
   "outputs": [
    {
     "name": "stdout",
     "output_type": "stream",
     "text": [
      "('Produto', None, None, None, None, None, None)\n",
      "('Quantidade', None, None, None, None, None, None)\n",
      "('Média', None, None, None, None, None, None)\n",
      "\n",
      "('CPU', 6, 83.5)\n",
      "('Monitor', 6, 81.33333333333333)\n",
      "('Mouse', 4, 65.25)\n",
      "('Teclado', 4, 71.25)\n"
     ]
    }
   ],
   "source": [
    "# HAVING\n",
    "# Ao agrupar, se um dos agregadores for usado como filtro.\n",
    "# Similar ao WHERE\n",
    "\n",
    "Query = '''\n",
    "        SELECT \n",
    "        Produto, \n",
    "        COUNT(*) AS \"Quantidade\", \n",
    "        AVG(Valor) AS \"Média\" \n",
    "        FROM random_table \n",
    "        GROUP BY Produto\n",
    "        HAVING AVG(Valor) > 60\n",
    "        '''\n",
    "Execute_and_Show(Query,arquivo)"
   ]
  },
  {
   "cell_type": "markdown",
   "metadata": {},
   "source": [
    "### Criação e Queda\n",
    "<a id='Criação'></a>"
   ]
  },
  {
   "cell_type": "code",
   "execution_count": 29,
   "metadata": {},
   "outputs": [
    {
     "ename": "OperationalError",
     "evalue": "near \"=\": syntax error",
     "output_type": "error",
     "traceback": [
      "\u001b[1;31m---------------------------------------------------------------------------\u001b[0m",
      "\u001b[1;31mOperationalError\u001b[0m                          Traceback (most recent call last)",
      "\u001b[1;32mc:\\Users\\fnsb.DESKTOP-7T10APS\\Documents\\MeusProjetos\\Python\\NotasPessoais-Python\\Notas\\Pacotes\\sql-guide.ipynb Célula: 40\u001b[0m in \u001b[0;36m<cell line: 6>\u001b[1;34m()\u001b[0m\n\u001b[0;32m      <a href='vscode-notebook-cell:/c%3A/Users/fnsb.DESKTOP-7T10APS/Documents/MeusProjetos/Python/NotasPessoais-Python/Notas/Pacotes/sql-guide.ipynb#X54sZmlsZQ%3D%3D?line=0'>1</a>\u001b[0m \u001b[39m# Criar tabela nova\u001b[39;00m\n\u001b[0;32m      <a href='vscode-notebook-cell:/c%3A/Users/fnsb.DESKTOP-7T10APS/Documents/MeusProjetos/Python/NotasPessoais-Python/Notas/Pacotes/sql-guide.ipynb#X54sZmlsZQ%3D%3D?line=1'>2</a>\u001b[0m \u001b[39m#\u001b[39;00m\n\u001b[0;32m      <a href='vscode-notebook-cell:/c%3A/Users/fnsb.DESKTOP-7T10APS/Documents/MeusProjetos/Python/NotasPessoais-Python/Notas/Pacotes/sql-guide.ipynb#X54sZmlsZQ%3D%3D?line=3'>4</a>\u001b[0m Query \u001b[39m=\u001b[39m \u001b[39m\"\u001b[39m\u001b[39mCREATE TABLE Exemplo(id integer PRIMARY KEY AUTOINCREMENT=3, name text DEFAULT \u001b[39m\u001b[39m'\u001b[39m\u001b[39mHELENA\u001b[39m\u001b[39m'\u001b[39m\u001b[39m, number interger, CHECK (number>0))\u001b[39m\u001b[39m\"\u001b[39m\n\u001b[1;32m----> <a href='vscode-notebook-cell:/c%3A/Users/fnsb.DESKTOP-7T10APS/Documents/MeusProjetos/Python/NotasPessoais-Python/Notas/Pacotes/sql-guide.ipynb#X54sZmlsZQ%3D%3D?line=5'>6</a>\u001b[0m Execute_and_Commit(Query,arquivo,\u001b[39m'\u001b[39;49m\u001b[39mExemplo\u001b[39;49m\u001b[39m'\u001b[39;49m)\n",
      "\u001b[1;32mc:\\Users\\fnsb.DESKTOP-7T10APS\\Documents\\MeusProjetos\\Python\\NotasPessoais-Python\\Notas\\Pacotes\\sql-guide.ipynb Célula: 40\u001b[0m in \u001b[0;36mExecute_and_Commit\u001b[1;34m(Query, arquivo, tabela)\u001b[0m\n\u001b[0;32m      <a href='vscode-notebook-cell:/c%3A/Users/fnsb.DESKTOP-7T10APS/Documents/MeusProjetos/Python/NotasPessoais-Python/Notas/Pacotes/sql-guide.ipynb#X54sZmlsZQ%3D%3D?line=3'>4</a>\u001b[0m Conn \u001b[39m=\u001b[39m sqlite3\u001b[39m.\u001b[39mconnect(arquivo)\n\u001b[0;32m      <a href='vscode-notebook-cell:/c%3A/Users/fnsb.DESKTOP-7T10APS/Documents/MeusProjetos/Python/NotasPessoais-Python/Notas/Pacotes/sql-guide.ipynb#X54sZmlsZQ%3D%3D?line=4'>5</a>\u001b[0m Cursor \u001b[39m=\u001b[39m Conn\u001b[39m.\u001b[39mcursor()\n\u001b[1;32m----> <a href='vscode-notebook-cell:/c%3A/Users/fnsb.DESKTOP-7T10APS/Documents/MeusProjetos/Python/NotasPessoais-Python/Notas/Pacotes/sql-guide.ipynb#X54sZmlsZQ%3D%3D?line=5'>6</a>\u001b[0m Cursor\u001b[39m.\u001b[39;49mexecute(Query)\n\u001b[0;32m      <a href='vscode-notebook-cell:/c%3A/Users/fnsb.DESKTOP-7T10APS/Documents/MeusProjetos/Python/NotasPessoais-Python/Notas/Pacotes/sql-guide.ipynb#X54sZmlsZQ%3D%3D?line=6'>7</a>\u001b[0m Conn\u001b[39m.\u001b[39mcommit()\n\u001b[0;32m      <a href='vscode-notebook-cell:/c%3A/Users/fnsb.DESKTOP-7T10APS/Documents/MeusProjetos/Python/NotasPessoais-Python/Notas/Pacotes/sql-guide.ipynb#X54sZmlsZQ%3D%3D?line=7'>8</a>\u001b[0m Cursor\u001b[39m.\u001b[39mclose()\n",
      "\u001b[1;31mOperationalError\u001b[0m: near \"=\": syntax error"
     ]
    }
   ],
   "source": [
    "# Criar tabela nova\n",
    "#\n",
    "\n",
    "Query = \"CREATE TABLE Exemplo(id integer PRIMARY KEY AUTOINCREMENT, name text DEFAULT 'HELENA', number interger, CHECK (number>0))\"\n",
    "\n",
    "Execute_and_Commit(Query,arquivo,'Exemplo')\n",
    "\n",
    "#Se a tabela já existe, ocorre um erro explícito."
   ]
  },
  {
   "cell_type": "markdown",
   "metadata": {},
   "source": [
    "\n",
    "CRIE TABELA nome (colunaA tipo parâmetro parâmetro, colunaB tipo parâmetro parâmetro, colunaC tipo parâmetro parâmetro, FOREIGN KEY (colunaC) REFERENCES outra_tabela(colunaID)"
   ]
  },
  {
   "cell_type": "markdown",
   "metadata": {},
   "source": [
    "* _Constraints_ (parâmetros para as colunas):\n",
    "   * NOT NULL - Garante que a coluna não pode ter valores NULOS;\n",
    "   * UNIQUE - Garante que todos os valores na coluna são diferentes;\n",
    "   * PRIMARY KEY - Uma combinação de UNIQUE e NOT NULL. Identica cada linha em uma tabela (endereço de cada registro);\n",
    "   * FOREIGN KEY - Previne ações que possam destruir ligações (links) entre duas tabelas, referindo à Primary Key de outra tabela;\n",
    "   * CHECK - Garante que os valores em uma coluna satisfaçam uma condição específica;\n",
    "   * DEFAULT - Estabelece um valor predefinido para a coluna se nenhum valor é especificado;\n",
    "   * AUTOINCREMENT - Caso um valor para a coluna não seja fornecido, é acrescentado um valor automaticamente, a partir de uma contagem (por padrão, incrementa 1 a cada adição);\n",
    "   * CREATE INDEX - Usado para criar e recuperar dados de um banco de dados muito rapidamente."
   ]
  },
  {
   "cell_type": "markdown",
   "metadata": {},
   "source": [
    "Se você definir um parâmetro CHECK em uma coluna, isso peritirá apenas certos valores para essa coluna.  \n",
    "Se você define um parâmetro CHECK em uma tabela, ela poderá limitar os valores em certas colunas baseado em valores em outra coluna na linha.  \n",
    "Precisa ser adicionado não como parâmetro da coluna, mas da tabela."
   ]
  },
  {
   "cell_type": "code",
   "execution_count": null,
   "metadata": {},
   "outputs": [
    {
     "name": "stdout",
     "output_type": "stream",
     "text": [
      "Colunas ['id', 'name', 'number']\n"
     ]
    }
   ],
   "source": [
    "# Criar tabela nova se não existir\n",
    "\n",
    "Query = \"CREATE TABLE IF NOT EXISTS Exemplo(id integer PRIMARY KEY AUTOINCREMENT, name text DEFAULT 'HELENA', number interger, CHECK (number>0))\"\n",
    "\n",
    "Execute_and_Commit(Query,arquivo,'Exemplo')"
   ]
  },
  {
   "cell_type": "markdown",
   "metadata": {},
   "source": [
    "* Tipos de Variáveis   \n",
    "   * ?\n",
    "   * ?\n",
    "   * ?\n",
    "   * ?\n",
    "   * ?\n",
    "   * ?\n",
    "   * ?\n",
    "   * ?\n",
    "   * ?\n",
    "   * ?\n",
    "   * ?\n",
    "   * ?\n",
    "   * ?\n",
    "   * ?"
   ]
  },
  {
   "cell_type": "code",
   "execution_count": null,
   "metadata": {},
   "outputs": [
    {
     "name": "stdout",
     "output_type": "stream",
     "text": [
      "Colunas ['type', 'name', 'tbl_name', 'rootpage', 'sql']\n",
      "['type: table', 'name: random_table', 'tbl_name: random_table', 'rootpage: 2', 'sql: CREATE TABLE random_table(ID INTEGER PRIMARY KEY AUTOINCREMENT NOT NULL, Produto TEXT, Valor REAL, Data DATE, Vendido BIT NOT NULL)']\n",
      "['type: table', 'name: sqlite_sequence', 'tbl_name: sqlite_sequence', 'rootpage: 3', 'sql: CREATE TABLE sqlite_sequence(name,seq)']\n",
      "['type: table', 'name: child_table', 'tbl_name: child_table', 'rootpage: 4', 'sql: CREATE TABLE child_table (ID INTEGER PRIMARY KEY AUTOINCREMENT NOT NULL, Desconto REAL, Data DATE, ProdutoID INTEGER NOT NULL, FOREIGN KEY (ProdutoID) REFERENCES random_table(ID))']\n",
      "['type: table', 'name: Exemplo', 'tbl_name: Exemplo', 'rootpage: 5', \"sql: CREATE TABLE Exemplo(id integer PRIMARY KEY AUTOINCREMENT, name text DEFAULT 'HELENA', number interger, CHECK (number>0))\"]\n",
      "\n",
      "Colunas ['type', 'name', 'tbl_name', 'rootpage', 'sql']\n",
      "['type: table', 'name: random_table', 'tbl_name: random_table', 'rootpage: 2', 'sql: CREATE TABLE random_table(ID INTEGER PRIMARY KEY AUTOINCREMENT NOT NULL, Produto TEXT, Valor REAL, Data DATE, Vendido BIT NOT NULL)']\n",
      "['type: table', 'name: sqlite_sequence', 'tbl_name: sqlite_sequence', 'rootpage: 3', 'sql: CREATE TABLE sqlite_sequence(name,seq)']\n",
      "['type: table', 'name: child_table', 'tbl_name: child_table', 'rootpage: 4', 'sql: CREATE TABLE child_table (ID INTEGER PRIMARY KEY AUTOINCREMENT NOT NULL, Desconto REAL, Data DATE, ProdutoID INTEGER NOT NULL, FOREIGN KEY (ProdutoID) REFERENCES random_table(ID))']\n"
     ]
    }
   ],
   "source": [
    "# Elimina tabela se não existir\n",
    "\n",
    "showall(arquivo,'sqlite_master')\n",
    "print()\n",
    "\n",
    "Query = \"DROP TABLE IF EXISTS Exemplo\"\n",
    "\n",
    "Execute_and_Commit(Query,arquivo,'sqlite_master')"
   ]
  },
  {
   "cell_type": "code",
   "execution_count": null,
   "metadata": {},
   "outputs": [
    {
     "name": "stdout",
     "output_type": "stream",
     "text": [
      "Colunas ['ID', 'Produto', 'Valor', 'Data', 'Vendido']\n",
      "['ID: 1', 'Produto: Teclado', 'Valor: 94.0', 'Data: 2022-09-17 19:19:52.735882', 'Vendido: 0']\n",
      "['ID: 2', 'Produto: Teclado', 'Valor: 68.0', 'Data: 2022-09-17 19:19:52.740877', 'Vendido: 0']\n",
      "['ID: 3', 'Produto: Monitor', 'Valor: 50.0', 'Data: 2022-09-17 19:19:52.785850', 'Vendido: 1']\n",
      "['ID: 4', 'Produto: Mouse', 'Valor: 62.0', 'Data: 2022-09-17 19:19:52.848811', 'Vendido: 0']\n",
      "['ID: 5', 'Produto: Monitor', 'Valor: 74.0', 'Data: 2022-09-17 19:19:52.858805', 'Vendido: 1']\n",
      "['ID: 6', 'Produto: Mouse', 'Valor: 63.0', 'Data: 2022-09-17 19:19:52.869798', 'Vendido: 0']\n",
      "['ID: 7', 'Produto: CPU', 'Valor: 96.0', 'Data: 2022-09-17 19:19:52.879792', 'Vendido: 0']\n",
      "['ID: 8', 'Produto: Mouse', 'Valor: 91.0', 'Data: 2022-09-17 19:19:52.888786', 'Vendido: 0']\n",
      "['ID: 9', 'Produto: CPU', 'Valor: 55.0', 'Data: 2022-09-17 19:19:52.899780', 'Vendido: 0']\n",
      "['ID: 10', 'Produto: CPU', 'Valor: 64.0', 'Data: 2022-09-17 19:19:52.909773', 'Vendido: 1']\n",
      "['ID: 11', 'Produto: Teclado', 'Valor: 97.0', 'Data: 2022-09-17 19:19:52.924764', 'Vendido: 1']\n",
      "['ID: 12', 'Produto: Mouse', 'Valor: 89.0', 'Data: 2022-09-17 19:19:52.932760', 'Vendido: 0']\n",
      "['ID: 13', 'Produto: Teclado', 'Valor: 51.0', 'Data: 2022-09-17 19:19:52.938754', 'Vendido: 0']\n",
      "['ID: 14', 'Produto: Teclado', 'Valor: 96.0', 'Data: 2022-09-17 19:19:52.943751', 'Vendido: 0']\n",
      "['ID: 15', 'Produto: CPU', 'Valor: 65.0', 'Data: 2022-09-17 19:19:52.952746', 'Vendido: 1']\n",
      "['ID: 16', 'Produto: CPU', 'Valor: 77.0', 'Data: 2022-09-17 19:19:52.958742', 'Vendido: 0']\n",
      "['ID: 17', 'Produto: Mouse', 'Valor: 85.0', 'Data: 2022-09-17 19:19:52.966737', 'Vendido: 1']\n",
      "['ID: 18', 'Produto: Mouse', 'Valor: 78.0', 'Data: 2022-09-17 19:19:52.977730', 'Vendido: 1']\n",
      "['ID: 19', 'Produto: Monitor', 'Valor: 71.0', 'Data: 2022-09-17 19:19:52.991722', 'Vendido: 1']\n",
      "['ID: 20', 'Produto: Teclado', 'Valor: 79.0', 'Data: 2022-09-17 19:19:52.999717', 'Vendido: 0']\n"
     ]
    }
   ],
   "source": [
    "# CREATE TABLE AS SELECT\n",
    "# Cria tabela igual a outra tabela\n",
    "\n",
    "Query = 'CREATE TABLE IF NOT EXISTS copy_table AS SELECT * FROM random_table'\n",
    "\n",
    "Execute_and_Commit(Query,arquivo,'copy_table')\n",
    "\n",
    "# O autoincrement não foi atribuído à coluna ID da nova tabela, como pode ser visto na célula a seguir."
   ]
  },
  {
   "cell_type": "code",
   "execution_count": null,
   "metadata": {},
   "outputs": [
    {
     "name": "stdout",
     "output_type": "stream",
     "text": [
      "Colunas ['ID', 'Produto', 'Valor', 'Data', 'Vendido', 'Coluna_Nova']\n",
      "['ID: 1', 'Produto: Teclado', 'Valor: 94.0', 'Data: 2022-09-17 19:19:52.735882', 'Vendido: 0', 'Coluna_Nova: None']\n",
      "['ID: 2', 'Produto: Teclado', 'Valor: 68.0', 'Data: 2022-09-17 19:19:52.740877', 'Vendido: 0', 'Coluna_Nova: None']\n",
      "['ID: 3', 'Produto: Monitor', 'Valor: 50.0', 'Data: 2022-09-17 19:19:52.785850', 'Vendido: 1', 'Coluna_Nova: None']\n",
      "['ID: 4', 'Produto: Mouse', 'Valor: 62.0', 'Data: 2022-09-17 19:19:52.848811', 'Vendido: 0', 'Coluna_Nova: None']\n",
      "['ID: 5', 'Produto: Monitor', 'Valor: 74.0', 'Data: 2022-09-17 19:19:52.858805', 'Vendido: 1', 'Coluna_Nova: None']\n",
      "['ID: 6', 'Produto: Mouse', 'Valor: 63.0', 'Data: 2022-09-17 19:19:52.869798', 'Vendido: 0', 'Coluna_Nova: None']\n",
      "['ID: 7', 'Produto: CPU', 'Valor: 96.0', 'Data: 2022-09-17 19:19:52.879792', 'Vendido: 0', 'Coluna_Nova: None']\n",
      "['ID: 8', 'Produto: Mouse', 'Valor: 91.0', 'Data: 2022-09-17 19:19:52.888786', 'Vendido: 0', 'Coluna_Nova: None']\n",
      "['ID: 9', 'Produto: CPU', 'Valor: 55.0', 'Data: 2022-09-17 19:19:52.899780', 'Vendido: 0', 'Coluna_Nova: None']\n",
      "['ID: 10', 'Produto: CPU', 'Valor: 64.0', 'Data: 2022-09-17 19:19:52.909773', 'Vendido: 1', 'Coluna_Nova: None']\n",
      "['ID: 11', 'Produto: Teclado', 'Valor: 97.0', 'Data: 2022-09-17 19:19:52.924764', 'Vendido: 1', 'Coluna_Nova: None']\n",
      "['ID: 12', 'Produto: Mouse', 'Valor: 89.0', 'Data: 2022-09-17 19:19:52.932760', 'Vendido: 0', 'Coluna_Nova: None']\n",
      "['ID: 13', 'Produto: Teclado', 'Valor: 51.0', 'Data: 2022-09-17 19:19:52.938754', 'Vendido: 0', 'Coluna_Nova: None']\n",
      "['ID: 14', 'Produto: Teclado', 'Valor: 96.0', 'Data: 2022-09-17 19:19:52.943751', 'Vendido: 0', 'Coluna_Nova: None']\n",
      "['ID: 15', 'Produto: CPU', 'Valor: 65.0', 'Data: 2022-09-17 19:19:52.952746', 'Vendido: 1', 'Coluna_Nova: None']\n",
      "['ID: 16', 'Produto: CPU', 'Valor: 77.0', 'Data: 2022-09-17 19:19:52.958742', 'Vendido: 0', 'Coluna_Nova: None']\n",
      "['ID: 17', 'Produto: Mouse', 'Valor: 85.0', 'Data: 2022-09-17 19:19:52.966737', 'Vendido: 1', 'Coluna_Nova: None']\n",
      "['ID: 18', 'Produto: Mouse', 'Valor: 78.0', 'Data: 2022-09-17 19:19:52.977730', 'Vendido: 1', 'Coluna_Nova: None']\n",
      "['ID: 19', 'Produto: Monitor', 'Valor: 71.0', 'Data: 2022-09-17 19:19:52.991722', 'Vendido: 1', 'Coluna_Nova: None']\n",
      "['ID: 20', 'Produto: Teclado', 'Valor: 79.0', 'Data: 2022-09-17 19:19:52.999717', 'Vendido: 0', 'Coluna_Nova: None']\n",
      "Colunas ['ID', 'Produto', 'Valor', 'Data', 'Vendido']\n",
      "['ID: 1', 'Produto: Teclado', 'Valor: 94.0', 'Data: 2022-09-17 19:19:52.735882', 'Vendido: 0']\n",
      "['ID: 2', 'Produto: Teclado', 'Valor: 68.0', 'Data: 2022-09-17 19:19:52.740877', 'Vendido: 0']\n",
      "['ID: 3', 'Produto: Monitor', 'Valor: 50.0', 'Data: 2022-09-17 19:19:52.785850', 'Vendido: 1']\n",
      "['ID: 4', 'Produto: Mouse', 'Valor: 62.0', 'Data: 2022-09-17 19:19:52.848811', 'Vendido: 0']\n",
      "['ID: 5', 'Produto: Monitor', 'Valor: 74.0', 'Data: 2022-09-17 19:19:52.858805', 'Vendido: 1']\n",
      "['ID: 6', 'Produto: Mouse', 'Valor: 63.0', 'Data: 2022-09-17 19:19:52.869798', 'Vendido: 0']\n",
      "['ID: 7', 'Produto: CPU', 'Valor: 96.0', 'Data: 2022-09-17 19:19:52.879792', 'Vendido: 0']\n",
      "['ID: 8', 'Produto: Mouse', 'Valor: 91.0', 'Data: 2022-09-17 19:19:52.888786', 'Vendido: 0']\n",
      "['ID: 9', 'Produto: CPU', 'Valor: 55.0', 'Data: 2022-09-17 19:19:52.899780', 'Vendido: 0']\n",
      "['ID: 10', 'Produto: CPU', 'Valor: 64.0', 'Data: 2022-09-17 19:19:52.909773', 'Vendido: 1']\n",
      "['ID: 11', 'Produto: Teclado', 'Valor: 97.0', 'Data: 2022-09-17 19:19:52.924764', 'Vendido: 1']\n",
      "['ID: 12', 'Produto: Mouse', 'Valor: 89.0', 'Data: 2022-09-17 19:19:52.932760', 'Vendido: 0']\n",
      "['ID: 13', 'Produto: Teclado', 'Valor: 51.0', 'Data: 2022-09-17 19:19:52.938754', 'Vendido: 0']\n",
      "['ID: 14', 'Produto: Teclado', 'Valor: 96.0', 'Data: 2022-09-17 19:19:52.943751', 'Vendido: 0']\n",
      "['ID: 15', 'Produto: CPU', 'Valor: 65.0', 'Data: 2022-09-17 19:19:52.952746', 'Vendido: 1']\n",
      "['ID: 16', 'Produto: CPU', 'Valor: 77.0', 'Data: 2022-09-17 19:19:52.958742', 'Vendido: 0']\n",
      "['ID: 17', 'Produto: Mouse', 'Valor: 85.0', 'Data: 2022-09-17 19:19:52.966737', 'Vendido: 1']\n",
      "['ID: 18', 'Produto: Mouse', 'Valor: 78.0', 'Data: 2022-09-17 19:19:52.977730', 'Vendido: 1']\n",
      "['ID: 19', 'Produto: Monitor', 'Valor: 71.0', 'Data: 2022-09-17 19:19:52.991722', 'Vendido: 1']\n",
      "['ID: 20', 'Produto: Teclado', 'Valor: 79.0', 'Data: 2022-09-17 19:19:52.999717', 'Vendido: 0']\n"
     ]
    }
   ],
   "source": [
    "# Modificar as colunas de uma tabela\n",
    "\n",
    "Query = 'ALTER TABLE copy_table ADD Coluna_Nova TEXT'\n",
    "\n",
    "Execute_and_Commit(Query,arquivo,'copy_table')\n",
    "\n",
    "\n",
    "\n",
    "Query = 'ALTER TABLE copy_table DROP Coluna_Nova'\n",
    "\n",
    "Execute_and_Commit(Query,arquivo,'copy_table')\n"
   ]
  },
  {
   "cell_type": "markdown",
   "metadata": {},
   "source": [
    "Não é possível alterar uma coluna com uma query. É preciso renomear a tabela, criar uma nova tabela como desejado com o nome anterior, então adicionar os dados de uma tabela para outra, conforme a célula abaixo:"
   ]
  },
  {
   "cell_type": "code",
   "execution_count": null,
   "metadata": {},
   "outputs": [],
   "source": [
    "Queries = (\n",
    "    'ALTER TABLE copy_table RENAME TO old_table',\n",
    "    '''CREATE TABLE copy_table (\n",
    "        ID INTEGER PRIMARY KEY AUTOINCREMENT NOT NULL,\n",
    "        Produto TEXT,\n",
    "        Valor REAL,\n",
    "        Data DATE,\n",
    "        Vendido BIT NOT NULL)''',\n",
    "    'INSERT INTO copy_table (Produto, Valor, Data, Vendido) SELECT Produto, Valor, Data, IFNULL(Vendido,0) FROM old_table'\n",
    "    'DROP old_table'\n",
    ")\n",
    "\n",
    "con= sqlite3.connect(arquivo)\n",
    "curs = con.cursor()\n",
    "\n",
    "for query in Queries:\n",
    "    curs.execute(query)\n",
    "\n",
    "con.commit()\n",
    "curs.close()\n",
    "con.close()\n"
   ]
  },
  {
   "cell_type": "code",
   "execution_count": null,
   "metadata": {},
   "outputs": [
    {
     "name": "stdout",
     "output_type": "stream",
     "text": [
      "Colunas ['ID', 'Produto', 'Valor', 'Data', 'Vendido']\n",
      "['ID: 1', 'Produto: Teclado', 'Valor: 94.0', 'Data: 2022-09-17 19:19:52.735882', 'Vendido: 0']\n",
      "['ID: 2', 'Produto: Teclado', 'Valor: 68.0', 'Data: 2022-09-17 19:19:52.740877', 'Vendido: 0']\n",
      "['ID: 3', 'Produto: Monitor', 'Valor: 50.0', 'Data: 2022-09-17 19:19:52.785850', 'Vendido: 1']\n",
      "['ID: 4', 'Produto: Mouse', 'Valor: 62.0', 'Data: 2022-09-17 19:19:52.848811', 'Vendido: 0']\n",
      "['ID: 5', 'Produto: Monitor', 'Valor: 74.0', 'Data: 2022-09-17 19:19:52.858805', 'Vendido: 1']\n",
      "['ID: 6', 'Produto: Mouse', 'Valor: 63.0', 'Data: 2022-09-17 19:19:52.869798', 'Vendido: 0']\n",
      "['ID: 7', 'Produto: CPU', 'Valor: 96.0', 'Data: 2022-09-17 19:19:52.879792', 'Vendido: 0']\n",
      "['ID: 8', 'Produto: Mouse', 'Valor: 91.0', 'Data: 2022-09-17 19:19:52.888786', 'Vendido: 0']\n",
      "['ID: 9', 'Produto: CPU', 'Valor: 55.0', 'Data: 2022-09-17 19:19:52.899780', 'Vendido: 0']\n",
      "['ID: 10', 'Produto: CPU', 'Valor: 64.0', 'Data: 2022-09-17 19:19:52.909773', 'Vendido: 1']\n",
      "['ID: 11', 'Produto: Teclado', 'Valor: 97.0', 'Data: 2022-09-17 19:19:52.924764', 'Vendido: 1']\n",
      "['ID: 12', 'Produto: Mouse', 'Valor: 89.0', 'Data: 2022-09-17 19:19:52.932760', 'Vendido: 0']\n",
      "['ID: 13', 'Produto: Teclado', 'Valor: 51.0', 'Data: 2022-09-17 19:19:52.938754', 'Vendido: 0']\n",
      "['ID: 14', 'Produto: Teclado', 'Valor: 96.0', 'Data: 2022-09-17 19:19:52.943751', 'Vendido: 0']\n",
      "['ID: 15', 'Produto: CPU', 'Valor: 65.0', 'Data: 2022-09-17 19:19:52.952746', 'Vendido: 1']\n",
      "['ID: 16', 'Produto: CPU', 'Valor: 77.0', 'Data: 2022-09-17 19:19:52.958742', 'Vendido: 0']\n",
      "['ID: 17', 'Produto: Mouse', 'Valor: 85.0', 'Data: 2022-09-17 19:19:52.966737', 'Vendido: 1']\n",
      "['ID: 18', 'Produto: Mouse', 'Valor: 78.0', 'Data: 2022-09-17 19:19:52.977730', 'Vendido: 1']\n",
      "['ID: 19', 'Produto: Monitor', 'Valor: 71.0', 'Data: 2022-09-17 19:19:52.991722', 'Vendido: 1']\n",
      "['ID: 20', 'Produto: Teclado', 'Valor: 79.0', 'Data: 2022-09-17 19:19:52.999717', 'Vendido: 0']\n",
      "['ID: 21', 'Produto: None', 'Valor: 94.0', 'Data: 2022-09-17 19:19:52.735882', 'Vendido: 0']\n",
      "['ID: 22', 'Produto: None', 'Valor: 68.0', 'Data: 2022-09-17 19:19:52.740877', 'Vendido: 0']\n",
      "['ID: 23', 'Produto: None', 'Valor: 62.0', 'Data: 2022-09-17 19:19:52.848811', 'Vendido: 0']\n",
      "['ID: 24', 'Produto: None', 'Valor: 63.0', 'Data: 2022-09-17 19:19:52.869798', 'Vendido: 0']\n",
      "['ID: 25', 'Produto: None', 'Valor: 96.0', 'Data: 2022-09-17 19:19:52.879792', 'Vendido: 0']\n",
      "['ID: 26', 'Produto: None', 'Valor: 91.0', 'Data: 2022-09-17 19:19:52.888786', 'Vendido: 0']\n",
      "['ID: 27', 'Produto: None', 'Valor: 55.0', 'Data: 2022-09-17 19:19:52.899780', 'Vendido: 0']\n",
      "['ID: 28', 'Produto: None', 'Valor: 64.0', 'Data: 2022-09-17 19:19:52.909773', 'Vendido: 1']\n",
      "['ID: 29', 'Produto: None', 'Valor: 97.0', 'Data: 2022-09-17 19:19:52.924764', 'Vendido: 1']\n",
      "['ID: 30', 'Produto: None', 'Valor: 89.0', 'Data: 2022-09-17 19:19:52.932760', 'Vendido: 0']\n",
      "['ID: 31', 'Produto: None', 'Valor: 51.0', 'Data: 2022-09-17 19:19:52.938754', 'Vendido: 0']\n",
      "['ID: 32', 'Produto: None', 'Valor: 96.0', 'Data: 2022-09-17 19:19:52.943751', 'Vendido: 0']\n",
      "['ID: 33', 'Produto: None', 'Valor: 65.0', 'Data: 2022-09-17 19:19:52.952746', 'Vendido: 1']\n",
      "['ID: 34', 'Produto: None', 'Valor: 77.0', 'Data: 2022-09-17 19:19:52.958742', 'Vendido: 0']\n",
      "['ID: 35', 'Produto: None', 'Valor: 85.0', 'Data: 2022-09-17 19:19:52.966737', 'Vendido: 1']\n",
      "['ID: 36', 'Produto: None', 'Valor: 78.0', 'Data: 2022-09-17 19:19:52.977730', 'Vendido: 1']\n",
      "['ID: 37', 'Produto: None', 'Valor: 79.0', 'Data: 2022-09-17 19:19:52.999717', 'Vendido: 0']\n"
     ]
    }
   ],
   "source": [
    "# INSERT INTO SELECT\n",
    "# Copia dados de uma tabela e insere em outra tabela\n",
    "\n",
    "Query = 'INSERT INTO copy_table (Data, Valor, Vendido) SELECT Data, Valor, Vendido FROM random_table WHERE Produto != \"Monitor\"'\n",
    "\n",
    "Execute_and_Commit(Query,arquivo,'copy_table')\n",
    "\n",
    "#Utilizando este método, o AUTOINCREMENT não funciona."
   ]
  },
  {
   "cell_type": "code",
   "execution_count": null,
   "metadata": {},
   "outputs": [],
   "source": [
    "### NOT IMPLEMENTED ###\n",
    "\n",
    "# SELECT INTO\n",
    "\n",
    "# Cria uma nova tabela no banco de dados a partir de uma seleção.\n",
    "\n",
    "Query = '''\n",
    "        SELECT ID as ProdutoID, Valor, Data  \n",
    "        INTO copy_table\n",
    "        FROM random_table\n",
    "        '''\n",
    "\n",
    "\n",
    "#Execute_and_Commit(Query,arquivo,'sqlite_master')"
   ]
  },
  {
   "cell_type": "markdown",
   "metadata": {},
   "source": [
    "**ÍNDICES**  \n",
    "  \n",
    "Índices são criados para colunas, com o propósito de acelerar a consulta aos dados."
   ]
  },
  {
   "cell_type": "code",
   "execution_count": null,
   "metadata": {},
   "outputs": [
    {
     "ename": "OperationalError",
     "evalue": "index idx_Data already exists",
     "output_type": "error",
     "traceback": [
      "\u001b[1;31m---------------------------------------------------------------------------\u001b[0m",
      "\u001b[1;31mOperationalError\u001b[0m                          Traceback (most recent call last)",
      "\u001b[1;32mc:\\Users\\fnsb.DESKTOP-7T10APS\\Documents\\MeusProjetos\\Python\\NotasPessoais-Python\\Notas\\Pacotes\\sql-guide.ipynb Célula: 54\u001b[0m in \u001b[0;36m<cell line: 5>\u001b[1;34m()\u001b[0m\n\u001b[0;32m      <a href='vscode-notebook-cell:/c%3A/Users/fnsb.DESKTOP-7T10APS/Documents/MeusProjetos/Python/NotasPessoais-Python/Notas/Pacotes/sql-guide.ipynb#Y204sZmlsZQ%3D%3D?line=0'>1</a>\u001b[0m \u001b[39m# CREATE INDEX\u001b[39;00m\n\u001b[0;32m      <a href='vscode-notebook-cell:/c%3A/Users/fnsb.DESKTOP-7T10APS/Documents/MeusProjetos/Python/NotasPessoais-Python/Notas/Pacotes/sql-guide.ipynb#Y204sZmlsZQ%3D%3D?line=2'>3</a>\u001b[0m Query \u001b[39m=\u001b[39m \u001b[39m'\u001b[39m\u001b[39mCREATE INDEX idx_Data ON random_table(Data)\u001b[39m\u001b[39m'\u001b[39m\n\u001b[1;32m----> <a href='vscode-notebook-cell:/c%3A/Users/fnsb.DESKTOP-7T10APS/Documents/MeusProjetos/Python/NotasPessoais-Python/Notas/Pacotes/sql-guide.ipynb#Y204sZmlsZQ%3D%3D?line=4'>5</a>\u001b[0m Execute_and_Commit(Query,arquivo,\u001b[39m'\u001b[39;49m\u001b[39msqlite_master\u001b[39;49m\u001b[39m'\u001b[39;49m)\n",
      "\u001b[1;32mc:\\Users\\fnsb.DESKTOP-7T10APS\\Documents\\MeusProjetos\\Python\\NotasPessoais-Python\\Notas\\Pacotes\\sql-guide.ipynb Célula: 54\u001b[0m in \u001b[0;36mExecute_and_Commit\u001b[1;34m(Query, arquivo, tabela)\u001b[0m\n\u001b[0;32m      <a href='vscode-notebook-cell:/c%3A/Users/fnsb.DESKTOP-7T10APS/Documents/MeusProjetos/Python/NotasPessoais-Python/Notas/Pacotes/sql-guide.ipynb#Y204sZmlsZQ%3D%3D?line=3'>4</a>\u001b[0m Conn \u001b[39m=\u001b[39m sqlite3\u001b[39m.\u001b[39mconnect(arquivo)\n\u001b[0;32m      <a href='vscode-notebook-cell:/c%3A/Users/fnsb.DESKTOP-7T10APS/Documents/MeusProjetos/Python/NotasPessoais-Python/Notas/Pacotes/sql-guide.ipynb#Y204sZmlsZQ%3D%3D?line=4'>5</a>\u001b[0m Cursor \u001b[39m=\u001b[39m Conn\u001b[39m.\u001b[39mcursor()\n\u001b[1;32m----> <a href='vscode-notebook-cell:/c%3A/Users/fnsb.DESKTOP-7T10APS/Documents/MeusProjetos/Python/NotasPessoais-Python/Notas/Pacotes/sql-guide.ipynb#Y204sZmlsZQ%3D%3D?line=5'>6</a>\u001b[0m Cursor\u001b[39m.\u001b[39;49mexecute(Query)\n\u001b[0;32m      <a href='vscode-notebook-cell:/c%3A/Users/fnsb.DESKTOP-7T10APS/Documents/MeusProjetos/Python/NotasPessoais-Python/Notas/Pacotes/sql-guide.ipynb#Y204sZmlsZQ%3D%3D?line=6'>7</a>\u001b[0m Conn\u001b[39m.\u001b[39mcommit()\n\u001b[0;32m      <a href='vscode-notebook-cell:/c%3A/Users/fnsb.DESKTOP-7T10APS/Documents/MeusProjetos/Python/NotasPessoais-Python/Notas/Pacotes/sql-guide.ipynb#Y204sZmlsZQ%3D%3D?line=7'>8</a>\u001b[0m Cursor\u001b[39m.\u001b[39mclose()\n",
      "\u001b[1;31mOperationalError\u001b[0m: index idx_Data already exists"
     ]
    }
   ],
   "source": [
    "# CREATE INDEX\n",
    "\n",
    "Query = 'CREATE INDEX idx_Data ON random_table(Data)'\n",
    "\n",
    "Execute_and_Commit(Query,arquivo,'sqlite_master')\n",
    "\n",
    "# O índice aparece como um objeto com a mesma hierarquia de uma tabela."
   ]
  },
  {
   "cell_type": "code",
   "execution_count": null,
   "metadata": {},
   "outputs": [
    {
     "name": "stdout",
     "output_type": "stream",
     "text": [
      "Colunas ['type', 'name', 'tbl_name', 'rootpage', 'sql']\n",
      "['type: table', 'name: random_table', 'tbl_name: random_table', 'rootpage: 2', 'sql: CREATE TABLE random_table(ID INTEGER PRIMARY KEY AUTOINCREMENT NOT NULL, Produto TEXT, Valor REAL, Data DATE, Vendido BIT NOT NULL)']\n",
      "['type: table', 'name: sqlite_sequence', 'tbl_name: sqlite_sequence', 'rootpage: 3', 'sql: CREATE TABLE sqlite_sequence(name,seq)']\n",
      "['type: table', 'name: child_table', 'tbl_name: child_table', 'rootpage: 4', 'sql: CREATE TABLE child_table (ID INTEGER PRIMARY KEY AUTOINCREMENT NOT NULL, Desconto REAL, Data DATE, ProdutoID INTEGER NOT NULL, FOREIGN KEY (ProdutoID) REFERENCES random_table(ID))']\n",
      "['type: table', 'name: old_table', 'tbl_name: old_table', 'rootpage: 5', 'sql: CREATE TABLE \"old_table\"(\\n  ID INT,\\n  Produto TEXT,\\n  Valor REAL,\\n  Data NUM,\\n  Vendido NUM\\n)']\n",
      "['type: table', 'name: copy_table', 'tbl_name: copy_table', 'rootpage: 6', 'sql: CREATE TABLE copy_table (\\n        ID INTEGER PRIMARY KEY AUTOINCREMENT NOT NULL,\\n        Produto TEXT,\\n        Valor REAL,\\n        Data DATE,\\n        Vendido BIT NOT NULL)']\n"
     ]
    }
   ],
   "source": [
    "# DROP INDEX\n",
    "\n",
    "Query = 'DROP INDEX idx_Data'\n",
    "\n",
    "Execute_and_Commit(Query,arquivo,'sqlite_master')"
   ]
  },
  {
   "cell_type": "markdown",
   "metadata": {},
   "source": [
    "### Adição e Remoção\n",
    "<a id='Adição'></a>"
   ]
  },
  {
   "cell_type": "code",
   "execution_count": null,
   "metadata": {},
   "outputs": [
    {
     "name": "stdout",
     "output_type": "stream",
     "text": [
      "Colunas ['ID', 'Produto', 'Valor', 'Data', 'Vendido']\n",
      "['ID: 1', 'Produto: Teclado', 'Valor: 94.0', 'Data: 2022-09-17 19:19:52.735882', 'Vendido: 0']\n",
      "['ID: 2', 'Produto: Teclado', 'Valor: 68.0', 'Data: 2022-09-17 19:19:52.740877', 'Vendido: 0']\n",
      "['ID: 3', 'Produto: Monitor', 'Valor: 50.0', 'Data: 2022-09-17 19:19:52.785850', 'Vendido: 1']\n",
      "['ID: 4', 'Produto: Mouse', 'Valor: 62.0', 'Data: 2022-09-17 19:19:52.848811', 'Vendido: 0']\n",
      "['ID: 5', 'Produto: Monitor', 'Valor: 74.0', 'Data: 2022-09-17 19:19:52.858805', 'Vendido: 1']\n",
      "['ID: 6', 'Produto: Mouse', 'Valor: 63.0', 'Data: 2022-09-17 19:19:52.869798', 'Vendido: 0']\n",
      "['ID: 7', 'Produto: CPU', 'Valor: 96.0', 'Data: 2022-09-17 19:19:52.879792', 'Vendido: 0']\n",
      "['ID: 8', 'Produto: Mouse', 'Valor: 91.0', 'Data: 2022-09-17 19:19:52.888786', 'Vendido: 0']\n",
      "['ID: 9', 'Produto: CPU', 'Valor: 55.0', 'Data: 2022-09-17 19:19:52.899780', 'Vendido: 0']\n",
      "['ID: 10', 'Produto: CPU', 'Valor: 64.0', 'Data: 2022-09-17 19:19:52.909773', 'Vendido: 1']\n",
      "['ID: 11', 'Produto: Teclado', 'Valor: 97.0', 'Data: 2022-09-17 19:19:52.924764', 'Vendido: 1']\n",
      "['ID: 12', 'Produto: Mouse', 'Valor: 89.0', 'Data: 2022-09-17 19:19:52.932760', 'Vendido: 0']\n",
      "['ID: 13', 'Produto: Teclado', 'Valor: 51.0', 'Data: 2022-09-17 19:19:52.938754', 'Vendido: 0']\n",
      "['ID: 14', 'Produto: Teclado', 'Valor: 96.0', 'Data: 2022-09-17 19:19:52.943751', 'Vendido: 0']\n",
      "['ID: 15', 'Produto: CPU', 'Valor: 65.0', 'Data: 2022-09-17 19:19:52.952746', 'Vendido: 1']\n",
      "['ID: 16', 'Produto: CPU', 'Valor: 77.0', 'Data: 2022-09-17 19:19:52.958742', 'Vendido: 0']\n",
      "['ID: 17', 'Produto: Mouse', 'Valor: 85.0', 'Data: 2022-09-17 19:19:52.966737', 'Vendido: 1']\n",
      "['ID: 18', 'Produto: Mouse', 'Valor: 78.0', 'Data: 2022-09-17 19:19:52.977730', 'Vendido: 1']\n",
      "['ID: 19', 'Produto: Monitor', 'Valor: 71.0', 'Data: 2022-09-17 19:19:52.991722', 'Vendido: 1']\n",
      "['ID: 20', 'Produto: Teclado', 'Valor: 79.0', 'Data: 2022-09-17 19:19:52.999717', 'Vendido: 0']\n",
      "['ID: 21', 'Produto: CPU', 'Valor: 91.0', 'Data: 2022-09-03 16:26:28.564400', 'Vendido: 1']\n"
     ]
    }
   ],
   "source": [
    "# Inserir linha/observação\n",
    "\n",
    "Query = \"INSERT INTO random_table VALUES(21, 'CPU', 91.0, '2022-09-03 16:26:28.564400',1)\"\n",
    "\n",
    "# É necessário alternar entre aspas e aspas duplas para que o interpretador não encerre a string\n",
    "# Mesmo a Primary Key tendo autoincremento, ele deve ser dado\n",
    "# Se este comando foi executado uma segunda vez, um erro ocorre por tentar adicionar um ID que já existe.\n",
    "\n",
    "Execute_and_Commit(Query,arquivo,tabela)"
   ]
  },
  {
   "cell_type": "code",
   "execution_count": null,
   "metadata": {},
   "outputs": [
    {
     "name": "stdout",
     "output_type": "stream",
     "text": [
      "Colunas ['ID', 'Produto', 'Valor', 'Data', 'Vendido']\n",
      "['ID: 1', 'Produto: Teclado', 'Valor: 94.0', 'Data: 2022-09-17 19:19:52.735882', 'Vendido: 0']\n",
      "['ID: 2', 'Produto: Teclado', 'Valor: 68.0', 'Data: 2022-09-17 19:19:52.740877', 'Vendido: 0']\n",
      "['ID: 3', 'Produto: Monitor', 'Valor: 50.0', 'Data: 2022-09-17 19:19:52.785850', 'Vendido: 1']\n",
      "['ID: 4', 'Produto: Mouse', 'Valor: 62.0', 'Data: 2022-09-17 19:19:52.848811', 'Vendido: 0']\n",
      "['ID: 5', 'Produto: Monitor', 'Valor: 74.0', 'Data: 2022-09-17 19:19:52.858805', 'Vendido: 1']\n",
      "['ID: 6', 'Produto: Mouse', 'Valor: 63.0', 'Data: 2022-09-17 19:19:52.869798', 'Vendido: 0']\n",
      "['ID: 7', 'Produto: CPU', 'Valor: 96.0', 'Data: 2022-09-17 19:19:52.879792', 'Vendido: 0']\n",
      "['ID: 8', 'Produto: Mouse', 'Valor: 91.0', 'Data: 2022-09-17 19:19:52.888786', 'Vendido: 0']\n",
      "['ID: 9', 'Produto: CPU', 'Valor: 55.0', 'Data: 2022-09-17 19:19:52.899780', 'Vendido: 0']\n",
      "['ID: 10', 'Produto: CPU', 'Valor: 64.0', 'Data: 2022-09-17 19:19:52.909773', 'Vendido: 1']\n",
      "['ID: 11', 'Produto: Teclado', 'Valor: 97.0', 'Data: 2022-09-17 19:19:52.924764', 'Vendido: 1']\n",
      "['ID: 12', 'Produto: Mouse', 'Valor: 89.0', 'Data: 2022-09-17 19:19:52.932760', 'Vendido: 0']\n",
      "['ID: 13', 'Produto: Teclado', 'Valor: 51.0', 'Data: 2022-09-17 19:19:52.938754', 'Vendido: 0']\n",
      "['ID: 14', 'Produto: Teclado', 'Valor: 96.0', 'Data: 2022-09-17 19:19:52.943751', 'Vendido: 0']\n",
      "['ID: 15', 'Produto: CPU', 'Valor: 65.0', 'Data: 2022-09-17 19:19:52.952746', 'Vendido: 1']\n",
      "['ID: 16', 'Produto: CPU', 'Valor: 77.0', 'Data: 2022-09-17 19:19:52.958742', 'Vendido: 0']\n",
      "['ID: 17', 'Produto: Mouse', 'Valor: 85.0', 'Data: 2022-09-17 19:19:52.966737', 'Vendido: 1']\n",
      "['ID: 18', 'Produto: Mouse', 'Valor: 78.0', 'Data: 2022-09-17 19:19:52.977730', 'Vendido: 1']\n",
      "['ID: 19', 'Produto: Monitor', 'Valor: 71.0', 'Data: 2022-09-17 19:19:52.991722', 'Vendido: 1']\n",
      "['ID: 20', 'Produto: Teclado', 'Valor: 79.0', 'Data: 2022-09-17 19:19:52.999717', 'Vendido: 0']\n",
      "['ID: 21', 'Produto: CPU', 'Valor: 91.0', 'Data: 2022-09-03 16:26:28.564400', 'Vendido: 1']\n",
      "['ID: 22', 'Produto: CPU', 'Valor: 120.0', 'Data: 2022-09-03 16:26:28.564400', 'Vendido: 0']\n"
     ]
    }
   ],
   "source": [
    "# Inserir definindo valor e coluna\n",
    "# \"INSERT INTO tabela ('coluna', 'coluna', 'coluna') VALUES ('valor', 'valor', 'valor')\"\n",
    "\n",
    "Query = \"INSERT INTO random_table('Produto','Valor','Data','Vendido') VALUES('CPU', 120.0, '2022-09-03 16:26:28.564400',0)\"\n",
    "\n",
    "Execute_and_Commit(Query,arquivo,tabela)"
   ]
  },
  {
   "cell_type": "code",
   "execution_count": null,
   "metadata": {},
   "outputs": [
    {
     "name": "stdout",
     "output_type": "stream",
     "text": [
      "Colunas ['ID', 'Produto', 'Valor', 'Data', 'Vendido']\n",
      "['ID: 1', 'Produto: Teclado', 'Valor: 94.0', 'Data: 2022-09-17 19:19:52.735882', 'Vendido: 0']\n",
      "['ID: 2', 'Produto: Teclado', 'Valor: 68.0', 'Data: 2022-09-17 19:19:52.740877', 'Vendido: 0']\n",
      "['ID: 3', 'Produto: Monitor', 'Valor: 50.0', 'Data: 2022-09-17 19:19:52.785850', 'Vendido: 1']\n",
      "['ID: 4', 'Produto: Mouse', 'Valor: 62.0', 'Data: 2022-09-17 19:19:52.848811', 'Vendido: 0']\n",
      "['ID: 5', 'Produto: Monitor', 'Valor: 74.0', 'Data: 2022-09-17 19:19:52.858805', 'Vendido: 1']\n",
      "['ID: 6', 'Produto: Mouse', 'Valor: 63.0', 'Data: 2022-09-17 19:19:52.869798', 'Vendido: 0']\n",
      "['ID: 7', 'Produto: CPU', 'Valor: 96.0', 'Data: 2022-09-17 19:19:52.879792', 'Vendido: 0']\n",
      "['ID: 8', 'Produto: Mouse', 'Valor: 91.0', 'Data: 2022-09-17 19:19:52.888786', 'Vendido: 0']\n",
      "['ID: 9', 'Produto: CPU', 'Valor: 55.0', 'Data: 2022-09-17 19:19:52.899780', 'Vendido: 0']\n",
      "['ID: 10', 'Produto: CPU', 'Valor: 64.0', 'Data: 2022-09-17 19:19:52.909773', 'Vendido: 1']\n",
      "['ID: 11', 'Produto: Teclado', 'Valor: 97.0', 'Data: 2022-09-17 19:19:52.924764', 'Vendido: 1']\n",
      "['ID: 12', 'Produto: Mouse', 'Valor: 89.0', 'Data: 2022-09-17 19:19:52.932760', 'Vendido: 0']\n",
      "['ID: 13', 'Produto: Teclado', 'Valor: 51.0', 'Data: 2022-09-17 19:19:52.938754', 'Vendido: 0']\n",
      "['ID: 14', 'Produto: Teclado', 'Valor: 96.0', 'Data: 2022-09-17 19:19:52.943751', 'Vendido: 0']\n",
      "['ID: 15', 'Produto: CPU', 'Valor: 65.0', 'Data: 2022-09-17 19:19:52.952746', 'Vendido: 1']\n",
      "['ID: 16', 'Produto: CPU', 'Valor: 77.0', 'Data: 2022-09-17 19:19:52.958742', 'Vendido: 0']\n",
      "['ID: 17', 'Produto: Mouse', 'Valor: 85.0', 'Data: 2022-09-17 19:19:52.966737', 'Vendido: 1']\n",
      "['ID: 18', 'Produto: Mouse', 'Valor: 78.0', 'Data: 2022-09-17 19:19:52.977730', 'Vendido: 1']\n",
      "['ID: 19', 'Produto: Monitor', 'Valor: 71.0', 'Data: 2022-09-17 19:19:52.991722', 'Vendido: 1']\n",
      "['ID: 20', 'Produto: Teclado', 'Valor: 79.0', 'Data: 2022-09-17 19:19:52.999717', 'Vendido: 0']\n",
      "['ID: 21', 'Produto: CPU', 'Valor: 91.0', 'Data: 2022-09-03 16:26:28.564400', 'Vendido: 1']\n",
      "['ID: 22', 'Produto: CPU', 'Valor: 120.0', 'Data: 2022-09-03 16:26:28.564400', 'Vendido: 0']\n",
      "['ID: 23', 'Produto: Câmera', 'Valor: 66.0', 'Data: 2022-09-17 19:23:24.030086', 'Vendido: 0']\n"
     ]
    }
   ],
   "source": [
    "# Inserir com o auxílio de uma tupla ou lista.\n",
    "\n",
    "# A execução muda\n",
    "\n",
    "Query = \"INSERT INTO random_table('Produto','Valor','Data','Vendido') VALUES(?, ?, ?,?)\"\n",
    "\n",
    "Observação = ['Câmera',66,datetime.datetime.now(),0]\n",
    "\n",
    "\n",
    "Conn = sqlite3.connect(arquivo)\n",
    "Cursor = Conn.cursor()\n",
    "\n",
    "Cursor.execute(Query,Observação)\n",
    "\n",
    "Conn.commit()\n",
    "Cursor.close()\n",
    "Conn.close()\n",
    "\n",
    "showall(arquivo,tabela)\n"
   ]
  },
  {
   "cell_type": "code",
   "execution_count": null,
   "metadata": {},
   "outputs": [
    {
     "name": "stdout",
     "output_type": "stream",
     "text": [
      "Colunas ['ID', 'Produto', 'Valor', 'Data', 'Vendido']\n",
      "['ID: 1', 'Produto: Teclado', 'Valor: 94.0', 'Data: 2022-09-17 19:19:52.735882', 'Vendido: 0']\n",
      "['ID: 2', 'Produto: Teclado', 'Valor: 68.0', 'Data: 2022-09-17 19:19:52.740877', 'Vendido: 0']\n",
      "['ID: 3', 'Produto: Monitor', 'Valor: 50.0', 'Data: 2022-09-17 19:19:52.785850', 'Vendido: 1']\n",
      "['ID: 4', 'Produto: Mouse', 'Valor: 62.0', 'Data: 2022-09-17 19:19:52.848811', 'Vendido: 0']\n",
      "['ID: 5', 'Produto: Monitor', 'Valor: 74.0', 'Data: 2022-09-17 19:19:52.858805', 'Vendido: 1']\n",
      "['ID: 6', 'Produto: Mouse', 'Valor: 63.0', 'Data: 2022-09-17 19:19:52.869798', 'Vendido: 0']\n",
      "['ID: 7', 'Produto: CPU', 'Valor: 96.0', 'Data: 2022-09-17 19:19:52.879792', 'Vendido: 0']\n",
      "['ID: 8', 'Produto: Mouse', 'Valor: 91.0', 'Data: 2022-09-17 19:19:52.888786', 'Vendido: 0']\n",
      "['ID: 9', 'Produto: CPU', 'Valor: 55.0', 'Data: 2022-09-17 19:19:52.899780', 'Vendido: 0']\n",
      "['ID: 10', 'Produto: CPU', 'Valor: 64.0', 'Data: 2022-09-17 19:19:52.909773', 'Vendido: 1']\n",
      "['ID: 11', 'Produto: Teclado', 'Valor: 97.0', 'Data: 2022-09-17 19:19:52.924764', 'Vendido: 1']\n",
      "['ID: 12', 'Produto: Mouse', 'Valor: 89.0', 'Data: 2022-09-17 19:19:52.932760', 'Vendido: 0']\n",
      "['ID: 13', 'Produto: Teclado', 'Valor: 51.0', 'Data: 2022-09-17 19:19:52.938754', 'Vendido: 0']\n",
      "['ID: 14', 'Produto: Teclado', 'Valor: 96.0', 'Data: 2022-09-17 19:19:52.943751', 'Vendido: 0']\n",
      "['ID: 15', 'Produto: CPU', 'Valor: 65.0', 'Data: 2022-09-17 19:19:52.952746', 'Vendido: 1']\n",
      "['ID: 16', 'Produto: CPU', 'Valor: 77.0', 'Data: 2022-09-17 19:19:52.958742', 'Vendido: 0']\n",
      "['ID: 17', 'Produto: Mouse', 'Valor: 85.0', 'Data: 2022-09-17 19:19:52.966737', 'Vendido: 1']\n",
      "['ID: 18', 'Produto: Mouse', 'Valor: 78.0', 'Data: 2022-09-17 19:19:52.977730', 'Vendido: 1']\n",
      "['ID: 19', 'Produto: Monitor', 'Valor: 71.0', 'Data: 2022-09-17 19:19:52.991722', 'Vendido: 1']\n",
      "['ID: 20', 'Produto: Teclado', 'Valor: 79.0', 'Data: 2022-09-17 19:19:52.999717', 'Vendido: 0']\n",
      "['ID: 21', 'Produto: CPU', 'Valor: 91.0', 'Data: 2022-09-03 16:26:28.564400', 'Vendido: 1']\n",
      "['ID: 22', 'Produto: CPU', 'Valor: 120.0', 'Data: 2022-09-03 16:26:28.564400', 'Vendido: 0']\n",
      "['ID: 23', 'Produto: Câmera', 'Valor: 66.0', 'Data: 2022-09-17 19:23:24.030086', 'Vendido: 0']\n",
      "['ID: 24', 'Produto: Pendrive', 'Valor: 15.0', 'Data: 2022-09-17 19:23:25.576370', 'Vendido: 0']\n",
      "['ID: 25', 'Produto: Pendrive', 'Valor: 15.0', 'Data: 2022-09-17 19:23:25.576370', 'Vendido: 1']\n",
      "['ID: 26', 'Produto: Pendrive', 'Valor: 20.0', 'Data: 2022-09-17 19:23:25.576370', 'Vendido: 0']\n",
      "['ID: 27', 'Produto: Pendrive', 'Valor: 17.0', 'Data: 2022-09-17 19:23:25.576370', 'Vendido: 1']\n"
     ]
    }
   ],
   "source": [
    "# executemany\n",
    "# Permite adicionar várias inserções sem um loop.\n",
    "# As observações precisam ser iteráveis dentro de iteráveis.\n",
    "\n",
    "Query = \"INSERT INTO random_table('Produto','Valor','Data','Vendido') VALUES(?, ?, ?,?)\"\n",
    "\n",
    "Observações = (('Pendrive',15,datetime.datetime.now(),0),('Pendrive',15,datetime.datetime.now(),1),('Pendrive',20,datetime.datetime.now(),0),('Pendrive',17,datetime.datetime.now(),1))\n",
    "\n",
    "\n",
    "Conn = sqlite3.connect(arquivo)\n",
    "Cursor = Conn.cursor()\n",
    "\n",
    "Cursor.executemany(Query,Observações)\n",
    "\n",
    "Conn.commit()\n",
    "Cursor.close()\n",
    "Conn.close()\n",
    "\n",
    "showall(arquivo,tabela)"
   ]
  },
  {
   "cell_type": "code",
   "execution_count": null,
   "metadata": {},
   "outputs": [
    {
     "name": "stdout",
     "output_type": "stream",
     "text": [
      "Colunas ['ID', 'Produto', 'Valor', 'Data', 'Vendido']\n",
      "['ID: 1', 'Produto: Teclado', 'Valor: 94.0', 'Data: 2022-09-17 19:19:52.735882', 'Vendido: 0']\n",
      "['ID: 2', 'Produto: Teclado', 'Valor: 68.0', 'Data: 2022-09-17 19:19:52.740877', 'Vendido: 0']\n",
      "['ID: 4', 'Produto: Mouse', 'Valor: 62.0', 'Data: 2022-09-17 19:19:52.848811', 'Vendido: 0']\n",
      "['ID: 5', 'Produto: Monitor', 'Valor: 74.0', 'Data: 2022-09-17 19:19:52.858805', 'Vendido: 1']\n",
      "['ID: 6', 'Produto: Mouse', 'Valor: 63.0', 'Data: 2022-09-17 19:19:52.869798', 'Vendido: 0']\n",
      "['ID: 7', 'Produto: CPU', 'Valor: 96.0', 'Data: 2022-09-17 19:19:52.879792', 'Vendido: 0']\n",
      "['ID: 8', 'Produto: Mouse', 'Valor: 91.0', 'Data: 2022-09-17 19:19:52.888786', 'Vendido: 0']\n",
      "['ID: 10', 'Produto: CPU', 'Valor: 64.0', 'Data: 2022-09-17 19:19:52.909773', 'Vendido: 1']\n",
      "['ID: 11', 'Produto: Teclado', 'Valor: 97.0', 'Data: 2022-09-17 19:19:52.924764', 'Vendido: 1']\n",
      "['ID: 12', 'Produto: Mouse', 'Valor: 89.0', 'Data: 2022-09-17 19:19:52.932760', 'Vendido: 0']\n",
      "['ID: 14', 'Produto: Teclado', 'Valor: 96.0', 'Data: 2022-09-17 19:19:52.943751', 'Vendido: 0']\n",
      "['ID: 15', 'Produto: CPU', 'Valor: 65.0', 'Data: 2022-09-17 19:19:52.952746', 'Vendido: 1']\n",
      "['ID: 16', 'Produto: CPU', 'Valor: 77.0', 'Data: 2022-09-17 19:19:52.958742', 'Vendido: 0']\n",
      "['ID: 17', 'Produto: Mouse', 'Valor: 85.0', 'Data: 2022-09-17 19:19:52.966737', 'Vendido: 1']\n",
      "['ID: 18', 'Produto: Mouse', 'Valor: 78.0', 'Data: 2022-09-17 19:19:52.977730', 'Vendido: 1']\n",
      "['ID: 19', 'Produto: Monitor', 'Valor: 71.0', 'Data: 2022-09-17 19:19:52.991722', 'Vendido: 1']\n",
      "['ID: 20', 'Produto: Teclado', 'Valor: 79.0', 'Data: 2022-09-17 19:19:52.999717', 'Vendido: 0']\n",
      "['ID: 21', 'Produto: CPU', 'Valor: 91.0', 'Data: 2022-09-03 16:26:28.564400', 'Vendido: 1']\n",
      "['ID: 22', 'Produto: CPU', 'Valor: 120.0', 'Data: 2022-09-03 16:26:28.564400', 'Vendido: 0']\n",
      "['ID: 23', 'Produto: Câmera', 'Valor: 66.0', 'Data: 2022-09-17 19:23:24.030086', 'Vendido: 0']\n"
     ]
    }
   ],
   "source": [
    "# Deletar dado\n",
    "# Sem filtro, deleta todos os dados.\n",
    "\n",
    "Query = \"DELETE FROM random_table WHERE Valor < 60\"\n",
    "\n",
    "Execute_and_Commit(Query,arquivo,tabela)"
   ]
  },
  {
   "cell_type": "code",
   "execution_count": null,
   "metadata": {},
   "outputs": [
    {
     "name": "stdout",
     "output_type": "stream",
     "text": [
      "Colunas ['ID', 'Produto', 'Valor', 'Data', 'Vendido']\n",
      "['ID: 1', 'Produto: Teclado', 'Valor: 94.0', 'Data: 2022-09-17 19:19:52.735882', 'Vendido: 0']\n",
      "['ID: 2', 'Produto: Teclado', 'Valor: 68.0', 'Data: 2022-09-17 19:19:52.740877', 'Vendido: 0']\n",
      "['ID: 4', 'Produto: Mouse', 'Valor: 62.0', 'Data: 2022-09-17 19:19:52.848811', 'Vendido: 0']\n",
      "['ID: 5', 'Produto: Monitor', 'Valor: 74.0', 'Data: 2022-09-17 19:19:52.858805', 'Vendido: 1']\n",
      "['ID: 6', 'Produto: Mouse', 'Valor: 63.0', 'Data: 2022-09-17 19:19:52.869798', 'Vendido: 0']\n",
      "['ID: 7', 'Produto: CPU', 'Valor: 96.0', 'Data: 2022-09-17 19:19:52.879792', 'Vendido: 0']\n",
      "['ID: 8', 'Produto: Mouse', 'Valor: 91.0', 'Data: 2022-09-17 19:19:52.888786', 'Vendido: 0']\n",
      "['ID: 10', 'Produto: CPU', 'Valor: 64.0', 'Data: 2022-09-17 19:19:52.909773', 'Vendido: 1']\n",
      "['ID: 11', 'Produto: Teclado', 'Valor: 97.0', 'Data: 2022-09-17 19:19:52.924764', 'Vendido: 1']\n",
      "['ID: 12', 'Produto: Mouse', 'Valor: 89.0', 'Data: 2022-09-17 19:19:52.932760', 'Vendido: 0']\n",
      "['ID: 14', 'Produto: Teclado', 'Valor: 96.0', 'Data: 2022-09-17 19:19:52.943751', 'Vendido: 0']\n",
      "['ID: 15', 'Produto: CPU', 'Valor: 65.0', 'Data: 2022-09-17 19:19:52.952746', 'Vendido: 1']\n",
      "['ID: 16', 'Produto: CPU', 'Valor: 77.0', 'Data: 2022-09-17 19:19:52.958742', 'Vendido: 0']\n",
      "['ID: 17', 'Produto: Mouse', 'Valor: 85.0', 'Data: 2022-09-17 19:19:52.966737', 'Vendido: 1']\n",
      "['ID: 18', 'Produto: Mouse', 'Valor: 78.0', 'Data: 2022-09-17 19:19:52.977730', 'Vendido: 1']\n",
      "['ID: 19', 'Produto: Monitor', 'Valor: 71.0', 'Data: 2022-09-17 19:19:52.991722', 'Vendido: 1']\n",
      "['ID: 20', 'Produto: Teclado', 'Valor: 79.0', 'Data: 2022-09-17 19:19:52.999717', 'Vendido: 0']\n",
      "['ID: 21', 'Produto: CPU', 'Valor: 91.0', 'Data: 2022-09-03 16:26:28.564400', 'Vendido: 1']\n",
      "['ID: 22', 'Produto: CPU', 'Valor: 120.0', 'Data: 2022-09-03 16:26:28.564400', 'Vendido: 0']\n",
      "['ID: 23', 'Produto: Câmera', 'Valor: 66.0', 'Data: 2022-09-17 19:23:24.030086', 'Vendido: 0']\n",
      "['ID: 28', 'Produto: None', 'Valor: 120.0', 'Data: 2022-09-03 16:26:28.564400', 'Vendido: 0']\n"
     ]
    }
   ],
   "source": [
    "# Valores NULL\n",
    "\n",
    "Query = \"INSERT INTO random_table('Valor','Data','Vendido') VALUES(120.0, '2022-09-03 16:26:28.564400',0)\"\n",
    "\n",
    "Execute_and_Commit(Query,arquivo,tabela)\n",
    "\n",
    "# Em Python é apresentado como None\n",
    "# Como o ID tem Autoincremento, esse valor não fica nulo.\n",
    "# O tratamento de variáveis nulas é demonstrada em \"Filtros e Operadores Lógicos\""
   ]
  },
  {
   "cell_type": "markdown",
   "metadata": {},
   "source": [
    "### Alteração\n",
    "<a id='Alteração'></a>"
   ]
  },
  {
   "cell_type": "code",
   "execution_count": null,
   "metadata": {},
   "outputs": [
    {
     "name": "stdout",
     "output_type": "stream",
     "text": [
      "Colunas ['ID', 'Produto', 'Valor', 'Data', 'Vendido']\n",
      "['ID: 1', 'Produto: Teclado', 'Valor: 94.0', 'Data: 2022-09-17 19:19:52.735882', 'Vendido: 0']\n",
      "['ID: 2', 'Produto: Cabos', 'Valor: 68.0', 'Data: 2022-09-17 19:19:52.740877', 'Vendido: 0']\n",
      "['ID: 4', 'Produto: Mouse', 'Valor: 62.0', 'Data: 2022-09-17 19:19:52.848811', 'Vendido: 0']\n",
      "['ID: 5', 'Produto: Monitor', 'Valor: 74.0', 'Data: 2022-09-17 19:19:52.858805', 'Vendido: 1']\n",
      "['ID: 6', 'Produto: Mouse', 'Valor: 63.0', 'Data: 2022-09-17 19:19:52.869798', 'Vendido: 0']\n",
      "['ID: 7', 'Produto: CPU', 'Valor: 96.0', 'Data: 2022-09-17 19:19:52.879792', 'Vendido: 0']\n",
      "['ID: 8', 'Produto: Mouse', 'Valor: 91.0', 'Data: 2022-09-17 19:19:52.888786', 'Vendido: 0']\n",
      "['ID: 10', 'Produto: CPU', 'Valor: 64.0', 'Data: 2022-09-17 19:19:52.909773', 'Vendido: 1']\n",
      "['ID: 11', 'Produto: Teclado', 'Valor: 97.0', 'Data: 2022-09-17 19:19:52.924764', 'Vendido: 1']\n",
      "['ID: 12', 'Produto: Mouse', 'Valor: 89.0', 'Data: 2022-09-17 19:19:52.932760', 'Vendido: 0']\n",
      "['ID: 14', 'Produto: Teclado', 'Valor: 96.0', 'Data: 2022-09-17 19:19:52.943751', 'Vendido: 0']\n",
      "['ID: 15', 'Produto: CPU', 'Valor: 65.0', 'Data: 2022-09-17 19:19:52.952746', 'Vendido: 1']\n",
      "['ID: 16', 'Produto: CPU', 'Valor: 77.0', 'Data: 2022-09-17 19:19:52.958742', 'Vendido: 0']\n",
      "['ID: 17', 'Produto: Mouse', 'Valor: 85.0', 'Data: 2022-09-17 19:19:52.966737', 'Vendido: 1']\n",
      "['ID: 18', 'Produto: Mouse', 'Valor: 78.0', 'Data: 2022-09-17 19:19:52.977730', 'Vendido: 1']\n",
      "['ID: 19', 'Produto: Monitor', 'Valor: 71.0', 'Data: 2022-09-17 19:19:52.991722', 'Vendido: 1']\n",
      "['ID: 20', 'Produto: Teclado', 'Valor: 79.0', 'Data: 2022-09-17 19:19:52.999717', 'Vendido: 0']\n",
      "['ID: 21', 'Produto: CPU', 'Valor: 91.0', 'Data: 2022-09-03 16:26:28.564400', 'Vendido: 1']\n",
      "['ID: 22', 'Produto: CPU', 'Valor: 120.0', 'Data: 2022-09-03 16:26:28.564400', 'Vendido: 0']\n",
      "['ID: 23', 'Produto: Câmera', 'Valor: 66.0', 'Data: 2022-09-17 19:23:24.030086', 'Vendido: 0']\n",
      "['ID: 28', 'Produto: None', 'Valor: 120.0', 'Data: 2022-09-03 16:26:28.564400', 'Vendido: 0']\n"
     ]
    }
   ],
   "source": [
    "# Mudança de valor\n",
    "# UPDATE/SET\n",
    "# Sem filtro, altera todos os dados.\n",
    "\n",
    "Query = \"UPDATE random_table SET Produto = 'Cabos' WHERE id = 2\"\n",
    "\n",
    "Execute_and_Commit(Query,arquivo,tabela)"
   ]
  },
  {
   "cell_type": "markdown",
   "metadata": {},
   "source": [
    "### Filtros e Operadores Lógicos\n",
    "<a id='Filtros e Operadores Lógicos'></a>"
   ]
  },
  {
   "cell_type": "code",
   "execution_count": null,
   "metadata": {},
   "outputs": [
    {
     "name": "stdout",
     "output_type": "stream",
     "text": [
      "('Produto', None, None, None, None, None, None)\n",
      "('Valor', None, None, None, None, None, None)\n",
      "\n",
      "('Monitor', 74.0)\n",
      "('CPU', 96.0)\n",
      "('Monitor', 71.0)\n",
      "('CPU', 91.0)\n",
      "('CPU', 120.0)\n"
     ]
    }
   ],
   "source": [
    "# WHERE filtra os dados considerados\n",
    "# Se o filtro é aplicado duas vezes a uma mesma coluna, ele deve ser demonstrado duas vezes\n",
    "\n",
    "Query = \"SELECT Produto, Valor FROM random_table WHERE Produto = 'Monitor' OR Produto = 'CPU' AND Valor > 90\"\n",
    "\n",
    "# Desta forma, apenas CPU é filtrada acima de 90. Monitores não foram filtrados\n",
    "\n",
    "Execute_and_Show(Query,arquivo)"
   ]
  },
  {
   "cell_type": "code",
   "execution_count": null,
   "metadata": {},
   "outputs": [
    {
     "name": "stdout",
     "output_type": "stream",
     "text": [
      "('Produto', None, None, None, None, None, None)\n",
      "('Valor', None, None, None, None, None, None)\n",
      "\n",
      "('CPU', 96.0)\n",
      "('CPU', 91.0)\n",
      "('CPU', 120.0)\n"
     ]
    }
   ],
   "source": [
    "# Assim, o filtro é aplicado a ambos os tipos de produtos\n",
    "\n",
    "Query = \"SELECT Produto, Valor FROM random_table WHERE (Produto = 'Monitor' OR Produto = 'CPU') AND Valor > 90\"\n",
    "\n",
    "Execute_and_Show(Query,arquivo)"
   ]
  },
  {
   "cell_type": "code",
   "execution_count": null,
   "metadata": {},
   "outputs": [
    {
     "name": "stdout",
     "output_type": "stream",
     "text": [
      "('ID', None, None, None, None, None, None)\n",
      "('Produto', None, None, None, None, None, None)\n",
      "('Valor', None, None, None, None, None, None)\n",
      "('Data', None, None, None, None, None, None)\n",
      "('Vendido', None, None, None, None, None, None)\n",
      "\n",
      "(10, 'CPU', 64.0, '2022-09-17 19:19:52.909773', 1)\n",
      "(11, 'Teclado', 97.0, '2022-09-17 19:19:52.924764', 1)\n",
      "(15, 'CPU', 65.0, '2022-09-17 19:19:52.952746', 1)\n",
      "(17, 'Mouse', 85.0, '2022-09-17 19:19:52.966737', 1)\n",
      "(18, 'Mouse', 78.0, '2022-09-17 19:19:52.977730', 1)\n",
      "(21, 'CPU', 91.0, '2022-09-03 16:26:28.564400', 1)\n"
     ]
    }
   ],
   "source": [
    "# NOT\n",
    "# Deve ser usado antes da condição\n",
    "\n",
    "Query = \"SELECT * FROM random_table WHERE NOT Produto = 'Monitor' AND NOT Vendido = 0\"\n",
    "\n",
    "Execute_and_Show(Query,arquivo)"
   ]
  },
  {
   "cell_type": "code",
   "execution_count": null,
   "metadata": {},
   "outputs": [
    {
     "name": "stdout",
     "output_type": "stream",
     "text": [
      "('name', None, None, None, None, None, None)\n",
      "\n",
      "\n",
      "('name', None, None, None, None, None, None)\n",
      "\n",
      "('random_table',)\n"
     ]
    }
   ],
   "source": [
    "# Verificação se determinada tabela existe\n",
    "\n",
    "Query1 = 'SELECT name from sqlite_master WHERE type = \"table\" AND name = \"Exemplo\"'\n",
    "Query2 = 'SELECT name from sqlite_master WHERE type = \"table\" AND name = \"random_table\"'\n",
    "\n",
    "Execute_and_Show(Query1,arquivo)\n",
    "print()\n",
    "Execute_and_Show(Query2,arquivo)\n",
    "\n",
    "# Se a tabela não existe, nome nenhum é apresentado."
   ]
  },
  {
   "cell_type": "code",
   "execution_count": null,
   "metadata": {},
   "outputs": [
    {
     "name": "stdout",
     "output_type": "stream",
     "text": [
      "('ID', None, None, None, None, None, None)\n",
      "('Produto', None, None, None, None, None, None)\n",
      "('Valor', None, None, None, None, None, None)\n",
      "('Data', None, None, None, None, None, None)\n",
      "('Vendido', None, None, None, None, None, None)\n",
      "\n",
      "(28, None, 120.0, '2022-09-03 16:26:28.564400', 0)\n"
     ]
    }
   ],
   "source": [
    "# Tratamendo de valores nulos\n",
    "# IS NULL | IS NOT NULL\n",
    "\n",
    "Query = \"SELECT * FROM random_table WHERE Produto IS NULL\"\n",
    "\n",
    "Execute_and_Show(Query,arquivo)"
   ]
  },
  {
   "cell_type": "code",
   "execution_count": null,
   "metadata": {},
   "outputs": [
    {
     "name": "stdout",
     "output_type": "stream",
     "text": [
      "('Produto', None, None, None, None, None, None)\n",
      "('Valor', None, None, None, None, None, None)\n",
      "\n",
      "('Mouse', 62.0)\n",
      "('Monitor', 74.0)\n",
      "('Mouse', 63.0)\n",
      "('Mouse', 91.0)\n",
      "('Mouse', 89.0)\n",
      "('Mouse', 85.0)\n",
      "('Mouse', 78.0)\n",
      "('Monitor', 71.0)\n"
     ]
    }
   ],
   "source": [
    "# LIKE e Wildcards (coringas)\n",
    "# LIKE, em filtros WHERE, é usado em substituição do sinal '=', quando o que segue é uma wildcard.\n",
    "# Wildcards se parecem com variáveis Regex\n",
    "    # '%' representa/substitui qualquer número de quaisquer caracteres.\n",
    "    # '_' representa/substitui exatamente um caractere qualquer.\n",
    "\n",
    "Query = \"SELECT Produto, Valor FROM random_table WHERE Produto LIKE '_o%'\"\n",
    "# Filtra linhas cujos valores na coluna \"Produto\" têm a letra \"o\" como segunda letra\n",
    "\n",
    "Execute_and_Show(Query,arquivo)"
   ]
  },
  {
   "cell_type": "code",
   "execution_count": null,
   "metadata": {},
   "outputs": [
    {
     "name": "stdout",
     "output_type": "stream",
     "text": [
      "('ID', None, None, None, None, None, None)\n",
      "('Produto', None, None, None, None, None, None)\n",
      "('Valor', None, None, None, None, None, None)\n",
      "('Data', None, None, None, None, None, None)\n",
      "('Vendido', None, None, None, None, None, None)\n",
      "\n",
      "(1, 'Teclado', 94.0, '2022-09-17 19:19:52.735882', 0)\n",
      "(2, 'Cabos', 68.0, '2022-09-17 19:19:52.740877', 0)\n",
      "(4, 'Mouse', 62.0, '2022-09-17 19:19:52.848811', 0)\n",
      "(5, 'Monitor', 74.0, '2022-09-17 19:19:52.858805', 1)\n",
      "(6, 'Mouse', 63.0, '2022-09-17 19:19:52.869798', 0)\n",
      "(7, 'CPU', 96.0, '2022-09-17 19:19:52.879792', 0)\n",
      "(8, 'Mouse', 91.0, '2022-09-17 19:19:52.888786', 0)\n",
      "(10, 'CPU', 64.0, '2022-09-17 19:19:52.909773', 1)\n",
      "(11, 'Teclado', 97.0, '2022-09-17 19:19:52.924764', 1)\n",
      "(12, 'Mouse', 89.0, '2022-09-17 19:19:52.932760', 0)\n",
      "(14, 'Teclado', 96.0, '2022-09-17 19:19:52.943751', 0)\n",
      "(15, 'CPU', 65.0, '2022-09-17 19:19:52.952746', 1)\n",
      "(16, 'CPU', 77.0, '2022-09-17 19:19:52.958742', 0)\n",
      "(17, 'Mouse', 85.0, '2022-09-17 19:19:52.966737', 1)\n",
      "(18, 'Mouse', 78.0, '2022-09-17 19:19:52.977730', 1)\n",
      "(19, 'Monitor', 71.0, '2022-09-17 19:19:52.991722', 1)\n",
      "(20, 'Teclado', 79.0, '2022-09-17 19:19:52.999717', 0)\n",
      "(21, 'CPU', 91.0, '2022-09-03 16:26:28.564400', 1)\n",
      "(22, 'CPU', 120.0, '2022-09-03 16:26:28.564400', 0)\n",
      "(23, 'Câmera', 66.0, '2022-09-17 19:23:24.030086', 0)\n"
     ]
    }
   ],
   "source": [
    "# IN É usado em substituição ao sinal '=' em cláusulas que usam WHERE.\n",
    "# É exigido quando vários valores são pssíveis, ou qundo uma declaração é dada como comparação.\n",
    "\n",
    "Query = \"SELECT * FROM random_table WHERE Produto IN (SELECT Produto FROM random_table)\"\n",
    "# Como NULL não é um valor, ele não pode ser usado como critério para filtrar os dados.\n",
    "\n",
    "Execute_and_Show(Query,arquivo)"
   ]
  },
  {
   "cell_type": "code",
   "execution_count": null,
   "metadata": {},
   "outputs": [
    {
     "name": "stdout",
     "output_type": "stream",
     "text": [
      "('ID', None, None, None, None, None, None)\n",
      "('Produto', None, None, None, None, None, None)\n",
      "('Valor', None, None, None, None, None, None)\n",
      "('Data', None, None, None, None, None, None)\n",
      "('Vendido', None, None, None, None, None, None)\n",
      "\n",
      "(2, 'Cabos', 68.0, '2022-09-17 19:19:52.740877', 0)\n",
      "(5, 'Monitor', 74.0, '2022-09-17 19:19:52.858805', 1)\n",
      "(12, 'Mouse', 89.0, '2022-09-17 19:19:52.932760', 0)\n",
      "(16, 'CPU', 77.0, '2022-09-17 19:19:52.958742', 0)\n",
      "(17, 'Mouse', 85.0, '2022-09-17 19:19:52.966737', 1)\n",
      "(18, 'Mouse', 78.0, '2022-09-17 19:19:52.977730', 1)\n",
      "(19, 'Monitor', 71.0, '2022-09-17 19:19:52.991722', 1)\n",
      "(20, 'Teclado', 79.0, '2022-09-17 19:19:52.999717', 0)\n",
      "\n",
      "('ID', None, None, None, None, None, None)\n",
      "('Produto', None, None, None, None, None, None)\n",
      "('Valor', None, None, None, None, None, None)\n",
      "('Data', None, None, None, None, None, None)\n",
      "('Vendido', None, None, None, None, None, None)\n",
      "\n",
      "(1, 'Teclado', 94.0, '2022-09-17 19:19:52.735882', 0)\n",
      "(4, 'Mouse', 62.0, '2022-09-17 19:19:52.848811', 0)\n",
      "(6, 'Mouse', 63.0, '2022-09-17 19:19:52.869798', 0)\n",
      "(7, 'CPU', 96.0, '2022-09-17 19:19:52.879792', 0)\n",
      "(8, 'Mouse', 91.0, '2022-09-17 19:19:52.888786', 0)\n",
      "(10, 'CPU', 64.0, '2022-09-17 19:19:52.909773', 1)\n",
      "(11, 'Teclado', 97.0, '2022-09-17 19:19:52.924764', 1)\n",
      "(14, 'Teclado', 96.0, '2022-09-17 19:19:52.943751', 0)\n",
      "(15, 'CPU', 65.0, '2022-09-17 19:19:52.952746', 1)\n",
      "(21, 'CPU', 91.0, '2022-09-03 16:26:28.564400', 1)\n",
      "(22, 'CPU', 120.0, '2022-09-03 16:26:28.564400', 0)\n",
      "(23, 'Câmera', 66.0, '2022-09-17 19:23:24.030086', 0)\n",
      "(28, None, 120.0, '2022-09-03 16:26:28.564400', 0)\n"
     ]
    }
   ],
   "source": [
    "# Filtrando valores dentro de uma faixa.\n",
    "# BETWEEN AND\n",
    "\n",
    "Query = \"SELECT * FROM random_table WHERE Valor BETWEEN 67 AND 90\"\n",
    "\n",
    "Execute_and_Show(Query,arquivo)\n",
    "\n",
    "print()\n",
    "\n",
    "\n",
    "Query = \"SELECT * FROM random_table WHERE Valor NOT BETWEEN 67 AND 90\"\n",
    "\n",
    "Execute_and_Show(Query,arquivo)"
   ]
  },
  {
   "cell_type": "code",
   "execution_count": null,
   "metadata": {},
   "outputs": [
    {
     "name": "stdout",
     "output_type": "stream",
     "text": [
      "('ID', None, None, None, None, None, None)\n",
      "('Produto', None, None, None, None, None, None)\n",
      "('Valor', None, None, None, None, None, None)\n",
      "('Data', None, None, None, None, None, None)\n",
      "('Vendido', None, None, None, None, None, None)\n",
      "\n",
      "/n/n\n",
      "('ID', None, None, None, None, None, None)\n",
      "('Produto', None, None, None, None, None, None)\n",
      "('Valor', None, None, None, None, None, None)\n",
      "('Data', None, None, None, None, None, None)\n",
      "('Vendido', None, None, None, None, None, None)\n",
      "\n",
      "(1, 'Teclado', 94.0, '2022-09-17 19:19:52.735882', 0)\n",
      "(2, 'Cabos', 68.0, '2022-09-17 19:19:52.740877', 0)\n",
      "(4, 'Mouse', 62.0, '2022-09-17 19:19:52.848811', 0)\n",
      "(5, 'Monitor', 74.0, '2022-09-17 19:19:52.858805', 1)\n",
      "(6, 'Mouse', 63.0, '2022-09-17 19:19:52.869798', 0)\n",
      "(7, 'CPU', 96.0, '2022-09-17 19:19:52.879792', 0)\n",
      "(8, 'Mouse', 91.0, '2022-09-17 19:19:52.888786', 0)\n",
      "(10, 'CPU', 64.0, '2022-09-17 19:19:52.909773', 1)\n",
      "(11, 'Teclado', 97.0, '2022-09-17 19:19:52.924764', 1)\n",
      "(12, 'Mouse', 89.0, '2022-09-17 19:19:52.932760', 0)\n",
      "(14, 'Teclado', 96.0, '2022-09-17 19:19:52.943751', 0)\n",
      "(15, 'CPU', 65.0, '2022-09-17 19:19:52.952746', 1)\n",
      "(16, 'CPU', 77.0, '2022-09-17 19:19:52.958742', 0)\n",
      "(17, 'Mouse', 85.0, '2022-09-17 19:19:52.966737', 1)\n",
      "(18, 'Mouse', 78.0, '2022-09-17 19:19:52.977730', 1)\n",
      "(19, 'Monitor', 71.0, '2022-09-17 19:19:52.991722', 1)\n",
      "(20, 'Teclado', 79.0, '2022-09-17 19:19:52.999717', 0)\n",
      "(21, 'CPU', 91.0, '2022-09-03 16:26:28.564400', 1)\n",
      "(22, 'CPU', 120.0, '2022-09-03 16:26:28.564400', 0)\n",
      "(23, 'Câmera', 66.0, '2022-09-17 19:23:24.030086', 0)\n",
      "(28, None, 120.0, '2022-09-03 16:26:28.564400', 0)\n"
     ]
    }
   ],
   "source": [
    "# EXISTS\n",
    "# Testa se algum valor é encontrado em certa seleção. Retornará \"True\" desde que haja ao menos um valor\n",
    "\n",
    "Query = 'select * from random_table WHERE EXISTS (select * from random_table where valor < 40)'\n",
    "\n",
    "Execute_and_Show(Query,arquivo)\n",
    "print('/n/n')\n",
    "\n",
    "# NOT EXISTS\n",
    "# Testa se algum valor é encontrado em certa seleção. Retornará \"True\" desde que  não haja qualquer registro retornado.\n",
    "\n",
    "Query = 'select * from random_table WHERE NOT EXISTS (select * from random_table where valor < 40)'\n",
    "\n",
    "Execute_and_Show(Query,arquivo)"
   ]
  },
  {
   "cell_type": "code",
   "execution_count": null,
   "metadata": {},
   "outputs": [],
   "source": [
    "### BUG\n",
    "\n",
    "# ANY e ALL\n",
    "# procedem um operador lógico e comportam uma query de seleção\n",
    "\n",
    "Query = 'SELECT ID from random_table where ID = ANY (SELECT ProdutoID FROM child_table WHERE Desconto < 10)'\n",
    "\n",
    "#Execute_and_Show(Query,arquivo)\n",
    "\n",
    "\n",
    "Query = 'SELECT * from random_table where ID = ALL (SELECT ProdutoID FROM child_table WHERE Desconto < 10)'\n",
    "\n",
    "#Execute_and_Show(Query,arquivo)"
   ]
  },
  {
   "cell_type": "markdown",
   "metadata": {},
   "source": [
    "Case"
   ]
  },
  {
   "cell_type": "code",
   "execution_count": null,
   "metadata": {},
   "outputs": [
    {
     "name": "stdout",
     "output_type": "stream",
     "text": [
      "('Produto', None, None, None, None, None, None)\n",
      "('Valor', None, None, None, None, None, None)\n",
      "('Avaliação', None, None, None, None, None, None)\n",
      "\n",
      "('Teclado', 94.0, 'Caro')\n",
      "('Cabos', 68.0, 'Barato')\n",
      "('Mouse', 62.0, 'Barato')\n",
      "('Monitor', 74.0, 'Barato')\n",
      "('Mouse', 63.0, 'Barato')\n",
      "('CPU', 96.0, 'Caro')\n",
      "('Mouse', 91.0, 'Caro')\n",
      "('CPU', 64.0, 'Barato')\n",
      "('Teclado', 97.0, 'Caro')\n",
      "('Mouse', 89.0, 'Caro')\n",
      "('Teclado', 96.0, 'Caro')\n",
      "('CPU', 65.0, 'Barato')\n",
      "('CPU', 77.0, 'Barato')\n",
      "('Mouse', 85.0, 'Caro')\n",
      "('Mouse', 78.0, 'Barato')\n",
      "('Monitor', 71.0, 'Barato')\n",
      "('Teclado', 79.0, 'Barato')\n",
      "('CPU', 91.0, 'Caro')\n",
      "('CPU', 120.0, 'Caro')\n",
      "('Câmera', 66.0, 'Barato')\n",
      "(None, 120.0, 'Caro')\n"
     ]
    }
   ],
   "source": [
    "# [???] Está mostrando apenas um rgistro quando comparado com a média.\n",
    "# Pode ser utilizado para substituir colunas, preenchendo uma seleção.\n",
    "# CASE END AS\n",
    "\n",
    "Query = '''\n",
    "SELECT Produto, Valor, CASE \n",
    "    WHEN Valor < 80 THEN \"Barato\" \n",
    "    WHEN Valor = 80 THEN \"Na Média\"\n",
    "    ELSE \"Caro\" \n",
    "END AS Avaliação\n",
    "FROM random_table\n",
    "'''\n",
    "\n",
    "Execute_and_Show(Query,arquivo)\n",
    "\n",
    "# Pode ser usado para cambiar entre qualquer variável em verificação lógica também."
   ]
  },
  {
   "cell_type": "code",
   "execution_count": null,
   "metadata": {},
   "outputs": [
    {
     "name": "stdout",
     "output_type": "stream",
     "text": [
      "('Produto', None, None, None, None, None, None)\n",
      "('Valor Subtraído', None, None, None, None, None, None)\n",
      "\n",
      "('Teclado', 93.0)\n",
      "('Teclado', 66.0)\n",
      "('Monitor', 47.0)\n",
      "('Mouse', 58.0)\n",
      "('Monitor', 69.0)\n",
      "('Mouse', 57.0)\n",
      "('CPU', 89.0)\n",
      "('Mouse', 83.0)\n",
      "('CPU', 46.0)\n",
      "('CPU', 54.0)\n",
      "('Teclado', 86.0)\n",
      "('Mouse', 77.0)\n",
      "('Teclado', 38.0)\n",
      "('Teclado', 82.0)\n",
      "('CPU', 50.0)\n",
      "('CPU', 61.0)\n",
      "('Mouse', 68.0)\n",
      "('Mouse', 60.0)\n",
      "('Monitor', 52.0)\n",
      "('Teclado', 59.0)\n",
      "(None, 73.0)\n",
      "(None, 46.0)\n",
      "(None, 39.0)\n",
      "(None, 39.0)\n",
      "(None, 71.0)\n",
      "(None, 65.0)\n",
      "(None, 28.0)\n",
      "(None, 36.0)\n",
      "(None, 68.0)\n",
      "(None, 59.0)\n",
      "(None, 20.0)\n",
      "(None, 64.0)\n",
      "(None, 32.0)\n",
      "(None, 43.0)\n",
      "(None, 50.0)\n",
      "(None, 42.0)\n",
      "(None, 42.0)\n",
      "('Produto', None, None, None, None, None, None)\n",
      "('Valor Subtraído', None, None, None, None, None, None)\n",
      "\n",
      "('Teclado', 93.0)\n",
      "('Teclado', 66.0)\n",
      "('Monitor', 47.0)\n",
      "('Mouse', 58.0)\n",
      "('Monitor', 69.0)\n",
      "('Mouse', 57.0)\n",
      "('CPU', 89.0)\n",
      "('Mouse', 83.0)\n",
      "('CPU', 46.0)\n",
      "('CPU', 54.0)\n",
      "('Teclado', 86.0)\n",
      "('Mouse', 77.0)\n",
      "('Teclado', 38.0)\n",
      "('Teclado', 82.0)\n",
      "('CPU', 50.0)\n",
      "('CPU', 61.0)\n",
      "('Mouse', 68.0)\n",
      "('Mouse', 60.0)\n",
      "('Monitor', 52.0)\n",
      "('Teclado', 59.0)\n",
      "(None, 73.0)\n",
      "(None, 46.0)\n",
      "(None, 39.0)\n",
      "(None, 39.0)\n",
      "(None, 71.0)\n",
      "(None, 65.0)\n",
      "(None, 28.0)\n",
      "(None, 36.0)\n",
      "(None, 68.0)\n",
      "(None, 59.0)\n",
      "(None, 20.0)\n",
      "(None, 64.0)\n",
      "(None, 32.0)\n",
      "(None, 43.0)\n",
      "(None, 50.0)\n",
      "(None, 42.0)\n",
      "(None, 42.0)\n"
     ]
    }
   ],
   "source": [
    "# IFNULL\n",
    "# Operar com um valor nulo retornará um valor nulo.\n",
    "# Utilizando a função IFNULL, o segundo valor dado é usado caso o primeiro seja NULL.\n",
    "# Utilizando COALESCE, o primeiro valor listado não-nulo é utilizado.\n",
    "\n",
    "Query = 'SELECT Produto, Valor-ID AS \"Valor Subtraído\" FROM copy_table'\n",
    "Execute_and_Show(Query,arquivo)\n",
    "\n",
    "\n",
    "Query = 'SELECT Produto, Valor-IFNULL(ID, 0) AS \"Valor Subtraído\" FROM copy_table'\n",
    "Execute_and_Show(Query,arquivo)\n"
   ]
  },
  {
   "cell_type": "markdown",
   "metadata": {},
   "source": [
    "### Valores Únicos / Agregadores"
   ]
  },
  {
   "cell_type": "code",
   "execution_count": null,
   "metadata": {},
   "outputs": [
    {
     "name": "stdout",
     "output_type": "stream",
     "text": [
      "('COUNT (DISTINCT Produto)', None, None, None, None, None, None)\n",
      "\n",
      "(6,)\n",
      "\n",
      "('COUNT (*)', None, None, None, None, None, None)\n",
      "\n",
      "(10,)\n"
     ]
    }
   ],
   "source": [
    "# Contagem\n",
    "# Mais utilizado com DISTINCT\n",
    "\n",
    "Query = \"SELECT COUNT (DISTINCT Produto) FROM random_table\"\n",
    "\n",
    "Execute_and_Show(Query,arquivo)\n",
    "\n",
    "\n",
    "print()     ###     ###     ###     ###     ###     ###     ###     ###     ###     ###     ###     ###     ###\n",
    "\n",
    "\n",
    "# Para contar uma distinção com duas colunas, é preciso contar tudo de uma seleção com o filtro de distinção\n",
    "\n",
    "Query = 'SELECT COUNT (*) FROM (SELECT DISTINCT Produto, Vendido FROM random_table)'\n",
    "\n",
    "Execute_and_Show(Query,arquivo)"
   ]
  },
  {
   "cell_type": "code",
   "execution_count": null,
   "metadata": {},
   "outputs": [
    {
     "name": "stdout",
     "output_type": "stream",
     "text": [
      "('MIN (Valor)', None, None, None, None, None, None)\n",
      "\n",
      "(62.0,)\n"
     ]
    }
   ],
   "source": [
    "# Mínimo e Máximo\n",
    "# MIN | MAX\n",
    "\n",
    "Query = \"SELECT MIN (Valor) FROM random_table\"\n",
    "\n",
    "Execute_and_Show(Query,arquivo)"
   ]
  },
  {
   "cell_type": "code",
   "execution_count": null,
   "metadata": {},
   "outputs": [
    {
     "name": "stdout",
     "output_type": "stream",
     "text": [
      "('AVG (Valor)', None, None, None, None, None, None)\n",
      "\n",
      "(83.14285714285714,)\n"
     ]
    }
   ],
   "source": [
    "# Média\n",
    "# AVG\n",
    "\n",
    "Query = \"SELECT AVG (Valor) FROM random_table\"\n",
    "\n",
    "Execute_and_Show(Query,arquivo)"
   ]
  },
  {
   "cell_type": "code",
   "execution_count": null,
   "metadata": {},
   "outputs": [
    {
     "name": "stdout",
     "output_type": "stream",
     "text": [
      "('SUM (Valor)', None, None, None, None, None, None)\n",
      "\n",
      "(1746.0,)\n"
     ]
    }
   ],
   "source": [
    "# Soma\n",
    "# SUM\n",
    "\n",
    "Query = \"SELECT SUM (Valor) FROM random_table\"\n",
    "\n",
    "Execute_and_Show(Query,arquivo)"
   ]
  },
  {
   "cell_type": "markdown",
   "metadata": {},
   "source": [
    "## Sobre o SQLite3"
   ]
  },
  {
   "cell_type": "markdown",
   "metadata": {},
   "source": [
    "Conexão com a memória."
   ]
  },
  {
   "cell_type": "code",
   "execution_count": null,
   "metadata": {},
   "outputs": [],
   "source": [
    "con_mem = sqlite3.connect(':memory:')\n",
    "\n",
    "###\n",
    "\n",
    "con_mem.close()"
   ]
  },
  {
   "cell_type": "markdown",
   "metadata": {},
   "source": [
    "Contagem de linhas afetadas"
   ]
  },
  {
   "cell_type": "code",
   "execution_count": null,
   "metadata": {},
   "outputs": [
    {
     "name": "stdout",
     "output_type": "stream",
     "text": [
      "2\n",
      "\n",
      "Colunas ['ID', 'Produto', 'Valor', 'Data', 'Vendido']\n",
      "['ID: 1', 'Produto: Teclado', 'Valor: 94.0', 'Data: 2022-09-17 19:19:52.735882', 'Vendido: 0']\n",
      "['ID: 4', 'Produto: Mouse', 'Valor: 62.0', 'Data: 2022-09-17 19:19:52.848811', 'Vendido: 0']\n",
      "['ID: 5', 'Produto: Monitor', 'Valor: 74.0', 'Data: 2022-09-17 19:19:52.858805', 'Vendido: 1']\n",
      "['ID: 6', 'Produto: Mouse', 'Valor: 63.0', 'Data: 2022-09-17 19:19:52.869798', 'Vendido: 0']\n",
      "['ID: 7', 'Produto: CPU', 'Valor: 96.0', 'Data: 2022-09-17 19:19:52.879792', 'Vendido: 0']\n",
      "['ID: 8', 'Produto: Mouse', 'Valor: 91.0', 'Data: 2022-09-17 19:19:52.888786', 'Vendido: 0']\n",
      "['ID: 10', 'Produto: CPU', 'Valor: 64.0', 'Data: 2022-09-17 19:19:52.909773', 'Vendido: 1']\n",
      "['ID: 11', 'Produto: Teclado', 'Valor: 97.0', 'Data: 2022-09-17 19:19:52.924764', 'Vendido: 1']\n",
      "['ID: 12', 'Produto: Mouse', 'Valor: 89.0', 'Data: 2022-09-17 19:19:52.932760', 'Vendido: 0']\n",
      "['ID: 14', 'Produto: Teclado', 'Valor: 96.0', 'Data: 2022-09-17 19:19:52.943751', 'Vendido: 0']\n",
      "['ID: 15', 'Produto: CPU', 'Valor: 65.0', 'Data: 2022-09-17 19:19:52.952746', 'Vendido: 1']\n",
      "['ID: 16', 'Produto: CPU', 'Valor: 77.0', 'Data: 2022-09-17 19:19:52.958742', 'Vendido: 0']\n",
      "['ID: 17', 'Produto: Mouse', 'Valor: 85.0', 'Data: 2022-09-17 19:19:52.966737', 'Vendido: 1']\n",
      "['ID: 18', 'Produto: Mouse', 'Valor: 78.0', 'Data: 2022-09-17 19:19:52.977730', 'Vendido: 1']\n",
      "['ID: 19', 'Produto: Monitor', 'Valor: 71.0', 'Data: 2022-09-17 19:19:52.991722', 'Vendido: 1']\n",
      "['ID: 20', 'Produto: Teclado', 'Valor: 79.0', 'Data: 2022-09-17 19:19:52.999717', 'Vendido: 0']\n",
      "['ID: 21', 'Produto: CPU', 'Valor: 91.0', 'Data: 2022-09-03 16:26:28.564400', 'Vendido: 1']\n",
      "['ID: 22', 'Produto: CPU', 'Valor: 120.0', 'Data: 2022-09-03 16:26:28.564400', 'Vendido: 0']\n",
      "['ID: 28', 'Produto: None', 'Valor: 120.0', 'Data: 2022-09-03 16:26:28.564400', 'Vendido: 0']\n"
     ]
    }
   ],
   "source": [
    "Query = 'DELETE FROM random_table WHERE Produto = \"Câmera\" OR Produto = \"Cabos\"'\n",
    "\n",
    "Conn = sqlite3.connect(arquivo)\n",
    "Cursor = Conn.cursor()\n",
    "\n",
    "# Isso não só deleta como conta quantas alterações foram feitas.\n",
    "print(Cursor.execute(Query).rowcount)\n",
    "\n",
    "Conn.commit()\n",
    "Cursor.close()\n",
    "Conn.close()\n",
    "\n",
    "print()\n",
    "\n",
    "showall(arquivo,tabela)"
   ]
  },
  {
   "cell_type": "markdown",
   "metadata": {},
   "source": [
    "Características do comando .fetchall()"
   ]
  },
  {
   "cell_type": "code",
   "execution_count": null,
   "metadata": {},
   "outputs": [
    {
     "name": "stdout",
     "output_type": "stream",
     "text": [
      "Empty Fetched Data: []\n",
      "Stored Fetched Data: [(1, 'Teclado', 94.0, '2022-09-17 19:19:52.735882', 0), (4, 'Mouse', 62.0, '2022-09-17 19:19:52.848811', 0), (5, 'Monitor', 74.0, '2022-09-17 19:19:52.858805', 1)]\n"
     ]
    }
   ],
   "source": [
    "# O comando .fetchall é descartável. Depois de executado, torna-se uma lista vazia.\n",
    "\n",
    "Query = \"SELECT * FROM random_table LIMIT 3\"\n",
    "\n",
    "curs = sqlite3.connect(arquivo).cursor()\n",
    "curs.execute(Query)\n",
    "\n",
    "Stored_Data = curs.fetchall()                         # Aqui o Fetchall é utilizado, armazenando a lista numa variável.\n",
    "\n",
    "print('Empty Fetched Data:',curs.fetchall())          # Aqui ele é impresso como uma lista vazi\n",
    "\n",
    "\n",
    "print('Stored Fetched Data:',Stored_Data)\n",
    "\n",
    "\n",
    "curs.close()"
   ]
  },
  {
   "cell_type": "markdown",
   "metadata": {},
   "source": [
    "Não há suporte para \"CREATE PROCEDURE GO | EXEC\".  \n",
    "Um backup pode ser feito como segue:"
   ]
  },
  {
   "cell_type": "code",
   "execution_count": null,
   "metadata": {},
   "outputs": [],
   "source": [
    "# Backup criando dump no formato .sql\n",
    "# A Query para criar backup não tem suporte no SQLite3\n",
    "# Utiliza-se o pacote os\n",
    "\n",
    "con = sqlite3.connect(arquivo)\n",
    "with open(r'../ArquivosParalelos/dump.sql', 'w') as f:\n",
    "    for line in con.iterdump():     # interdump chama os dados de dump da conexão.\n",
    "        f.write('%s\\n' % line)\n",
    "con.close()"
   ]
  },
  {
   "cell_type": "markdown",
   "metadata": {},
   "source": [
    "Não é possível executar várias queries com um mesmo execute(). É preciso iterar entre as queries"
   ]
  },
  {
   "cell_type": "markdown",
   "metadata": {},
   "source": [
    "### Erros e Exceções"
   ]
  },
  {
   "cell_type": "markdown",
   "metadata": {},
   "source": [
    "* *DatabaseError*\n",
    "   * Qualquer erro relacionado ao banco de dados."
   ]
  },
  {
   "cell_type": "markdown",
   "metadata": {},
   "source": [
    "* *IntegrityError*\n",
    "  * É uma subclasse de _DatabaseError_ e surge quando há problema de integridade de dados. Por exemplo, dados extrangeiros não estão atualizados em todas as tabelas resultando na inconsistência dos dados."
   ]
  },
  {
   "cell_type": "markdown",
   "metadata": {},
   "source": [
    "* *ProgrammingError*\n",
    "  * Surge quando há erro de sintaxe, ou a tabela não é encontrada, ou a função é evocada com o número errado de parâmetros/argumentos."
   ]
  },
  {
   "cell_type": "markdown",
   "metadata": {},
   "source": [
    "* *OperationalError*\n",
    "   * Esta exceção surge quando as operações do banco de dados falham; por exemplo, desconexão não usual. Não é culpa do programador."
   ]
  },
  {
   "cell_type": "markdown",
   "metadata": {},
   "source": [
    "* *NotSupportedError*\n",
    "   * Quando você usa algum método que não está definido ou não é suportado pelo banco de dados."
   ]
  }
 ],
 "metadata": {
  "kernelspec": {
   "display_name": "Python 3.10.6 64-bit (microsoft store)",
   "language": "python",
   "name": "python3"
  },
  "language_info": {
   "codemirror_mode": {
    "name": "ipython",
    "version": 3
   },
   "file_extension": ".py",
   "mimetype": "text/x-python",
   "name": "python",
   "nbconvert_exporter": "python",
   "pygments_lexer": "ipython3",
   "version": "3.10.7"
  },
  "orig_nbformat": 4,
  "vscode": {
   "interpreter": {
    "hash": "91b18657112df8a6dc2946b9dfe3559ddfc8e1e2117c2c8071424b5e043bd8e1"
   }
  }
 },
 "nbformat": 4,
 "nbformat_minor": 2
}

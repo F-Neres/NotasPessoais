{
 "cells": [
  {
   "cell_type": "markdown",
   "metadata": {},
   "source": [
    "# Pandas"
   ]
  },
  {
   "cell_type": "markdown",
   "metadata": {},
   "source": [
    "Pacote destinado a tratamento de dados em matrizes. "
   ]
  },
  {
   "cell_type": "markdown",
   "metadata": {},
   "source": [
    "Este pacote já está incluso no Anaconda Python."
   ]
  },
  {
   "cell_type": "code",
   "execution_count": 2,
   "metadata": {},
   "outputs": [],
   "source": [
    "import pandas"
   ]
  },
  {
   "cell_type": "code",
   "execution_count": 3,
   "metadata": {},
   "outputs": [
    {
     "data": {
      "text/plain": [
       "'1.5.0'"
      ]
     },
     "execution_count": 3,
     "metadata": {},
     "output_type": "execute_result"
    }
   ],
   "source": [
    "#Verificação da versão importada\n",
    "pandas.__version__"
   ]
  },
  {
   "cell_type": "markdown",
   "metadata": {},
   "source": [
    "## Séries"
   ]
  },
  {
   "cell_type": "markdown",
   "metadata": {},
   "source": [
    "Séries são como colunas de uma tabela, são arrays unidimensionais."
   ]
  },
  {
   "cell_type": "code",
   "execution_count": 4,
   "metadata": {},
   "outputs": [
    {
     "name": "stdout",
     "output_type": "stream",
     "text": [
      "0    1\n",
      "1    2\n",
      "2    3\n",
      "3    4\n",
      "4    5\n",
      "5    6\n",
      "6    7\n",
      "7    8\n",
      "8    9\n",
      "dtype: int64\n",
      "<class 'pandas.core.series.Series'>\n"
     ]
    }
   ],
   "source": [
    "Lista = [1,2,3,4,5,6,7,8,9]\n",
    "\n",
    "Série1 = pandas.Series(Lista)\n",
    "\n",
    "print(Série1)\n",
    "print(type(Série1))\n",
    "\n",
    "# O índice para cada valor é criado automaticamente."
   ]
  },
  {
   "cell_type": "code",
   "execution_count": 5,
   "metadata": {},
   "outputs": [
    {
     "name": "stdout",
     "output_type": "stream",
     "text": [
      "[1 2 3 4 5 6 7 8 9]\n",
      "RangeIndex(start=0, stop=9, step=1)\n"
     ]
    }
   ],
   "source": [
    "# Outras informações sobre as séries\n",
    "\n",
    "print(Série1.values)\n",
    "\n",
    "print(Série1.index)"
   ]
  },
  {
   "cell_type": "code",
   "execution_count": 6,
   "metadata": {},
   "outputs": [
    {
     "name": "stdout",
     "output_type": "stream",
     "text": [
      "a    1\n",
      "b    2\n",
      "c    3\n",
      "d    4\n",
      "e    5\n",
      "f    6\n",
      "g    7\n",
      "h    8\n",
      "i    9\n",
      "dtype: int64\n",
      "<class 'pandas.core.series.Series'>\n",
      "Index(['a', 'b', 'c', 'd', 'e', 'f', 'g', 'h', 'i'], dtype='object')\n"
     ]
    }
   ],
   "source": [
    "# Criando uma série e definindo o índice\n",
    "\n",
    "Lista = [1,2,3,4,5,6,7,8,9]\n",
    "Índices = ['a','b','c','d','e','f','g','h','i']\n",
    "\n",
    "Série2 = pandas.Series(Lista, index = Índices)\n",
    "\n",
    "print(Série2)\n",
    "print(type(Série2))\n",
    "\n",
    "print(Série2.index)"
   ]
  },
  {
   "cell_type": "code",
   "execution_count": 20,
   "metadata": {},
   "outputs": [
    {
     "name": "stdout",
     "output_type": "stream",
     "text": [
      "a    1\n",
      "b    2\n",
      "c    3\n",
      "d    4\n",
      "e    5\n",
      "f    6\n",
      "g    7\n",
      "h    8\n",
      "i    9\n",
      "dtype: int64\n",
      "<class 'pandas.core.series.Series'>\n"
     ]
    }
   ],
   "source": [
    "# Criação de série a partir de um dicionário\n",
    "\n",
    "Dicionário = {'a':1,'b':2,'c':3,'d':4,'e':5,'f':6,'g':7,'h':8,'i':9}\n",
    "\n",
    "Série3 = pandas.Series(Dicionário)\n",
    "\n",
    "\n",
    "print(Série3)\n",
    "print(type(Série3))"
   ]
  },
  {
   "cell_type": "code",
   "execution_count": 24,
   "metadata": {},
   "outputs": [
    {
     "name": "stdout",
     "output_type": "stream",
     "text": [
      "a    1\n",
      "a    1\n",
      "a    1\n",
      "a    1\n",
      "a    1\n",
      "a    1\n",
      "a    1\n",
      "a    1\n",
      "a    1\n",
      "a    1\n",
      "dtype: int64 \n",
      "\n",
      "a    1\n",
      "a    1\n",
      "a    1\n",
      "a    1\n",
      "a    1\n",
      "a    1\n",
      "a    1\n",
      "a    1\n",
      "a    1\n",
      "a    1\n",
      "dtype: int64 \n",
      "\n",
      "a    2.0\n",
      "b    2.0\n",
      "c    3.0\n",
      "d    4.0\n",
      "e    5.0\n",
      "f    6.0\n",
      "g    7.0\n",
      "h    8.0\n",
      "i    9.0\n",
      "j    NaN\n",
      "k    NaN\n",
      "l    NaN\n",
      "m    NaN\n",
      "n    NaN\n",
      "dtype: float64 \n",
      "\n"
     ]
    }
   ],
   "source": [
    "# Para um mesmo índice, um mesmo valor\n",
    "\n",
    "Outro_Índice = ['a','a','a','a','a','a','a','a','a','a']\n",
    "\n",
    "Série4 = pandas.Series(Dicionário, index = Outro_Índice)\n",
    "\n",
    "\n",
    "print(Série4,'\\n')\n",
    "\n",
    "# Mudar o dicionário não muda a série. Eles estão desvinculados\n",
    "\n",
    "Dicionário['a'] = 2\n",
    "\n",
    "print(Série4,'\\n')\n",
    "\n",
    "# Para novos índices, não há valor\n",
    "\n",
    "Outro_Índice = ['a','b','c','d','e','f','g','h','i','j','k','l','m','n']\n",
    "\n",
    "Série4 = pandas.Series(Dicionário, index = Outro_Índice)\n",
    "\n",
    "\n",
    "print(Série4,'\\n')"
   ]
  },
  {
   "cell_type": "code",
   "execution_count": 7,
   "metadata": {},
   "outputs": [
    {
     "data": {
      "text/plain": [
       "d    4\n",
       "e    5\n",
       "f    6\n",
       "g    7\n",
       "h    8\n",
       "i    9\n",
       "dtype: int64"
      ]
     },
     "execution_count": 7,
     "metadata": {},
     "output_type": "execute_result"
    }
   ],
   "source": [
    "# Slicing\n",
    "\n",
    "Série2[Série2>3]"
   ]
  },
  {
   "cell_type": "code",
   "execution_count": 8,
   "metadata": {},
   "outputs": [
    {
     "data": {
      "text/plain": [
       "4"
      ]
     },
     "execution_count": 8,
     "metadata": {},
     "output_type": "execute_result"
    }
   ],
   "source": [
    "# Valor de certo índice\n",
    "\n",
    "Série2['d']"
   ]
  },
  {
   "cell_type": "code",
   "execution_count": 15,
   "metadata": {},
   "outputs": [
    {
     "name": "stdout",
     "output_type": "stream",
     "text": [
      "True\n",
      "True\n",
      "False\n",
      "True\n"
     ]
    }
   ],
   "source": [
    "# resposta booleana para verificação de continência\n",
    "\n",
    "print('d' in Série2)\n",
    "\n",
    "print('d' in Série2.index)\n",
    "\n",
    "print(3 in Série2)\n",
    "\n",
    "print(3 in Série2.values)"
   ]
  },
  {
   "cell_type": "code",
   "execution_count": 27,
   "metadata": {},
   "outputs": [
    {
     "name": "stdout",
     "output_type": "stream",
     "text": [
      "a    False\n",
      "b    False\n",
      "c    False\n",
      "d    False\n",
      "e    False\n",
      "f    False\n",
      "g    False\n",
      "h    False\n",
      "i    False\n",
      "j     True\n",
      "k     True\n",
      "l     True\n",
      "m     True\n",
      "n     True\n",
      "dtype: bool \n",
      "\n",
      "a    False\n",
      "b    False\n",
      "c    False\n",
      "d    False\n",
      "e    False\n",
      "f    False\n",
      "g    False\n",
      "h    False\n",
      "i    False\n",
      "j     True\n",
      "k     True\n",
      "l     True\n",
      "m     True\n",
      "n     True\n",
      "dtype: bool\n"
     ]
    }
   ],
   "source": [
    "# Verificação de valores nulos\n",
    "\n",
    "print(pandas.isnull(Série4),'\\n')\n",
    "\n",
    "print(Série4.isnull())"
   ]
  },
  {
   "cell_type": "code",
   "execution_count": 28,
   "metadata": {},
   "outputs": [
    {
     "name": "stdout",
     "output_type": "stream",
     "text": [
      "a     True\n",
      "b     True\n",
      "c     True\n",
      "d     True\n",
      "e     True\n",
      "f     True\n",
      "g     True\n",
      "h     True\n",
      "i     True\n",
      "j    False\n",
      "k    False\n",
      "l    False\n",
      "m    False\n",
      "n    False\n",
      "dtype: bool \n",
      "\n",
      "a     True\n",
      "b     True\n",
      "c     True\n",
      "d     True\n",
      "e     True\n",
      "f     True\n",
      "g     True\n",
      "h     True\n",
      "i     True\n",
      "j    False\n",
      "k    False\n",
      "l    False\n",
      "m    False\n",
      "n    False\n",
      "dtype: bool\n"
     ]
    }
   ],
   "source": [
    "# Verificação de valores não-nulos\n",
    "\n",
    "print(pandas.notnull(Série4),'\\n')\n",
    "\n",
    "print(Série4.notnull())"
   ]
  },
  {
   "cell_type": "code",
   "execution_count": 29,
   "metadata": {},
   "outputs": [
    {
     "name": "stdout",
     "output_type": "stream",
     "text": [
      "a    False\n",
      "b    False\n",
      "c    False\n",
      "d    False\n",
      "e    False\n",
      "f     True\n",
      "g     True\n",
      "h     True\n",
      "i     True\n",
      "j    False\n",
      "k    False\n",
      "l    False\n",
      "m    False\n",
      "n    False\n",
      "dtype: bool\n"
     ]
    }
   ],
   "source": [
    "# Verificação condicional\n",
    "\n",
    "print(Série4 > 5)"
   ]
  },
  {
   "cell_type": "code",
   "execution_count": 32,
   "metadata": {},
   "outputs": [
    {
     "name": "stdout",
     "output_type": "stream",
     "text": [
      "a     3.0\n",
      "b     4.0\n",
      "c     6.0\n",
      "d     8.0\n",
      "e    10.0\n",
      "f    12.0\n",
      "g    14.0\n",
      "h    16.0\n",
      "i    18.0\n",
      "j     NaN\n",
      "k     NaN\n",
      "l     NaN\n",
      "m     NaN\n",
      "n     NaN\n",
      "dtype: float64\n"
     ]
    }
   ],
   "source": [
    "# Soma/concatenação entre séries\n",
    "\n",
    "print(Série3 + Série4)"
   ]
  },
  {
   "cell_type": "code",
   "execution_count": 38,
   "metadata": {},
   "outputs": [
    {
     "name": "stdout",
     "output_type": "stream",
     "text": [
      "0   NaN\n",
      "1   NaN\n",
      "2   NaN\n",
      "3   NaN\n",
      "4   NaN\n",
      "5   NaN\n",
      "6   NaN\n",
      "7   NaN\n",
      "8   NaN\n",
      "a   NaN\n",
      "b   NaN\n",
      "c   NaN\n",
      "d   NaN\n",
      "e   NaN\n",
      "f   NaN\n",
      "g   NaN\n",
      "h   NaN\n",
      "i   NaN\n",
      "dtype: float64\n"
     ]
    }
   ],
   "source": [
    "# Valores NaN permanecem dessa forma depois de passar por uma operação matemática.\n",
    "\n",
    "print(Série1 + Série3)"
   ]
  },
  {
   "cell_type": "code",
   "execution_count": 42,
   "metadata": {},
   "outputs": [
    {
     "name": "stdout",
     "output_type": "stream",
     "text": [
      "Letra\n",
      "a    2.0\n",
      "b    2.0\n",
      "c    3.0\n",
      "d    4.0\n",
      "e    5.0\n",
      "f    6.0\n",
      "g    7.0\n",
      "h    8.0\n",
      "i    9.0\n",
      "j    NaN\n",
      "k    NaN\n",
      "l    NaN\n",
      "m    NaN\n",
      "n    NaN\n",
      "Name: Exemplo, dtype: float64\n"
     ]
    }
   ],
   "source": [
    "# Determinando a característica \"nome\".\n",
    "\n",
    "Série4.name = 'Exemplo' # nome do objeto\n",
    "\n",
    "Série4.index.name = 'Letra' # Nome do índice\n",
    "\n",
    "print(Série4)"
   ]
  },
  {
   "cell_type": "markdown",
   "metadata": {},
   "source": [
    "## Dataframe"
   ]
  },
  {
   "cell_type": "markdown",
   "metadata": {},
   "source": [
    "São como tabelas"
   ]
  },
  {
   "cell_type": "code",
   "execution_count": 44,
   "metadata": {},
   "outputs": [],
   "source": [
    "# Dataframes podem ser criados a partir de dicionários compostos de um nome da coluna como chave e uma lista de informações como valor.\n",
    "\n",
    "Dados = {\n",
    "    'Estado':[\n",
    "        'Acre',\n",
    "        'Alagoas',\n",
    "        'Amapá',\n",
    "        'Amazonas',\n",
    "        'Bahia',\n",
    "        'Ceará',\n",
    "        'Distrito Federal',\n",
    "        'Espírito Santo',\n",
    "        'Goiás',\n",
    "        'Maranhão',\n",
    "        'Mato Grosso',\n",
    "        'Mato Grosso do Sul',\n",
    "        'Minas Gerais',\n",
    "        'Pará',\n",
    "        'Paraíba',\n",
    "        'Paraná',\n",
    "        'Pernambuco',\n",
    "        'Piauí',\n",
    "        'Rio de Janeiro',\n",
    "        'Rio Grande do Norte',\n",
    "        'Rio Grande do Sul',\n",
    "        'Rondônia','Roraima',\n",
    "        'Santa Catarina',\n",
    "        'São Paulo',\n",
    "        'Sergipe',\n",
    "        'Tocantins'],\n",
    "    'População':[\n",
    "        906876,\n",
    "        3365351,\n",
    "        877613,\n",
    "        4269995,\n",
    "        14985284,\n",
    "        9240580,\n",
    "        3094325,\n",
    "        4108508,\n",
    "        7206589,\n",
    "        7153262,\n",
    "        3567234,\n",
    "        2839188,\n",
    "        21411923,\n",
    "        8777124,\n",
    "        4059905,\n",
    "        11597484,\n",
    "        9674793,\n",
    "        3289290,\n",
    "        17463349,\n",
    "        3560903,\n",
    "        11466630,\n",
    "        1815278,\n",
    "        652713,\n",
    "        7338473,\n",
    "        46649132,\n",
    "        2338474,\n",
    "        1607363],\n",
    "    'PIB':[\n",
    "        15630,\n",
    "        58964,\n",
    "        17497,\n",
    "        108181,\n",
    "        293241,\n",
    "        163575,\n",
    "        273614,\n",
    "        137346,\n",
    "        208672,\n",
    "        97340,\n",
    "        142122,\n",
    "        106943,\n",
    "        651873,\n",
    "        466377,\n",
    "        67986,\n",
    "        178377,\n",
    "        197853,\n",
    "        52781,\n",
    "        779928,\n",
    "        71337,\n",
    "        482464,\n",
    "        47091,\n",
    "        14292,\n",
    "        323264,\n",
    "        44689,\n",
    "        2348338,\n",
    "        39356]}"
   ]
  },
  {
   "cell_type": "code",
   "execution_count": 45,
   "metadata": {},
   "outputs": [],
   "source": [
    "Tabela1 = pandas.DataFrame(Dados)"
   ]
  },
  {
   "cell_type": "code",
   "execution_count": 46,
   "metadata": {},
   "outputs": [
    {
     "data": {
      "text/html": [
       "<div>\n",
       "<style scoped>\n",
       "    .dataframe tbody tr th:only-of-type {\n",
       "        vertical-align: middle;\n",
       "    }\n",
       "\n",
       "    .dataframe tbody tr th {\n",
       "        vertical-align: top;\n",
       "    }\n",
       "\n",
       "    .dataframe thead th {\n",
       "        text-align: right;\n",
       "    }\n",
       "</style>\n",
       "<table border=\"1\" class=\"dataframe\">\n",
       "  <thead>\n",
       "    <tr style=\"text-align: right;\">\n",
       "      <th></th>\n",
       "      <th>Estado</th>\n",
       "      <th>População</th>\n",
       "      <th>PIB</th>\n",
       "    </tr>\n",
       "  </thead>\n",
       "  <tbody>\n",
       "    <tr>\n",
       "      <th>0</th>\n",
       "      <td>Acre</td>\n",
       "      <td>906876</td>\n",
       "      <td>15630</td>\n",
       "    </tr>\n",
       "    <tr>\n",
       "      <th>1</th>\n",
       "      <td>Alagoas</td>\n",
       "      <td>3365351</td>\n",
       "      <td>58964</td>\n",
       "    </tr>\n",
       "    <tr>\n",
       "      <th>2</th>\n",
       "      <td>Amapá</td>\n",
       "      <td>877613</td>\n",
       "      <td>17497</td>\n",
       "    </tr>\n",
       "    <tr>\n",
       "      <th>3</th>\n",
       "      <td>Amazonas</td>\n",
       "      <td>4269995</td>\n",
       "      <td>108181</td>\n",
       "    </tr>\n",
       "    <tr>\n",
       "      <th>4</th>\n",
       "      <td>Bahia</td>\n",
       "      <td>14985284</td>\n",
       "      <td>293241</td>\n",
       "    </tr>\n",
       "    <tr>\n",
       "      <th>5</th>\n",
       "      <td>Ceará</td>\n",
       "      <td>9240580</td>\n",
       "      <td>163575</td>\n",
       "    </tr>\n",
       "    <tr>\n",
       "      <th>6</th>\n",
       "      <td>Distrito Federal</td>\n",
       "      <td>3094325</td>\n",
       "      <td>273614</td>\n",
       "    </tr>\n",
       "    <tr>\n",
       "      <th>7</th>\n",
       "      <td>Espírito Santo</td>\n",
       "      <td>4108508</td>\n",
       "      <td>137346</td>\n",
       "    </tr>\n",
       "    <tr>\n",
       "      <th>8</th>\n",
       "      <td>Goiás</td>\n",
       "      <td>7206589</td>\n",
       "      <td>208672</td>\n",
       "    </tr>\n",
       "    <tr>\n",
       "      <th>9</th>\n",
       "      <td>Maranhão</td>\n",
       "      <td>7153262</td>\n",
       "      <td>97340</td>\n",
       "    </tr>\n",
       "    <tr>\n",
       "      <th>10</th>\n",
       "      <td>Mato Grosso</td>\n",
       "      <td>3567234</td>\n",
       "      <td>142122</td>\n",
       "    </tr>\n",
       "    <tr>\n",
       "      <th>11</th>\n",
       "      <td>Mato Grosso do Sul</td>\n",
       "      <td>2839188</td>\n",
       "      <td>106943</td>\n",
       "    </tr>\n",
       "    <tr>\n",
       "      <th>12</th>\n",
       "      <td>Minas Gerais</td>\n",
       "      <td>21411923</td>\n",
       "      <td>651873</td>\n",
       "    </tr>\n",
       "    <tr>\n",
       "      <th>13</th>\n",
       "      <td>Pará</td>\n",
       "      <td>8777124</td>\n",
       "      <td>466377</td>\n",
       "    </tr>\n",
       "    <tr>\n",
       "      <th>14</th>\n",
       "      <td>Paraíba</td>\n",
       "      <td>4059905</td>\n",
       "      <td>67986</td>\n",
       "    </tr>\n",
       "    <tr>\n",
       "      <th>15</th>\n",
       "      <td>Paraná</td>\n",
       "      <td>11597484</td>\n",
       "      <td>178377</td>\n",
       "    </tr>\n",
       "    <tr>\n",
       "      <th>16</th>\n",
       "      <td>Pernambuco</td>\n",
       "      <td>9674793</td>\n",
       "      <td>197853</td>\n",
       "    </tr>\n",
       "    <tr>\n",
       "      <th>17</th>\n",
       "      <td>Piauí</td>\n",
       "      <td>3289290</td>\n",
       "      <td>52781</td>\n",
       "    </tr>\n",
       "    <tr>\n",
       "      <th>18</th>\n",
       "      <td>Rio de Janeiro</td>\n",
       "      <td>17463349</td>\n",
       "      <td>779928</td>\n",
       "    </tr>\n",
       "    <tr>\n",
       "      <th>19</th>\n",
       "      <td>Rio Grande do Norte</td>\n",
       "      <td>3560903</td>\n",
       "      <td>71337</td>\n",
       "    </tr>\n",
       "    <tr>\n",
       "      <th>20</th>\n",
       "      <td>Rio Grande do Sul</td>\n",
       "      <td>11466630</td>\n",
       "      <td>482464</td>\n",
       "    </tr>\n",
       "    <tr>\n",
       "      <th>21</th>\n",
       "      <td>Rondônia</td>\n",
       "      <td>1815278</td>\n",
       "      <td>47091</td>\n",
       "    </tr>\n",
       "    <tr>\n",
       "      <th>22</th>\n",
       "      <td>Roraima</td>\n",
       "      <td>652713</td>\n",
       "      <td>14292</td>\n",
       "    </tr>\n",
       "    <tr>\n",
       "      <th>23</th>\n",
       "      <td>Santa Catarina</td>\n",
       "      <td>7338473</td>\n",
       "      <td>323264</td>\n",
       "    </tr>\n",
       "    <tr>\n",
       "      <th>24</th>\n",
       "      <td>São Paulo</td>\n",
       "      <td>46649132</td>\n",
       "      <td>44689</td>\n",
       "    </tr>\n",
       "    <tr>\n",
       "      <th>25</th>\n",
       "      <td>Sergipe</td>\n",
       "      <td>2338474</td>\n",
       "      <td>2348338</td>\n",
       "    </tr>\n",
       "    <tr>\n",
       "      <th>26</th>\n",
       "      <td>Tocantins</td>\n",
       "      <td>1607363</td>\n",
       "      <td>39356</td>\n",
       "    </tr>\n",
       "  </tbody>\n",
       "</table>\n",
       "</div>"
      ],
      "text/plain": [
       "                 Estado  População      PIB\n",
       "0                  Acre     906876    15630\n",
       "1               Alagoas    3365351    58964\n",
       "2                 Amapá     877613    17497\n",
       "3              Amazonas    4269995   108181\n",
       "4                 Bahia   14985284   293241\n",
       "5                 Ceará    9240580   163575\n",
       "6      Distrito Federal    3094325   273614\n",
       "7        Espírito Santo    4108508   137346\n",
       "8                 Goiás    7206589   208672\n",
       "9              Maranhão    7153262    97340\n",
       "10          Mato Grosso    3567234   142122\n",
       "11   Mato Grosso do Sul    2839188   106943\n",
       "12         Minas Gerais   21411923   651873\n",
       "13                 Pará    8777124   466377\n",
       "14              Paraíba    4059905    67986\n",
       "15               Paraná   11597484   178377\n",
       "16           Pernambuco    9674793   197853\n",
       "17                Piauí    3289290    52781\n",
       "18       Rio de Janeiro   17463349   779928\n",
       "19  Rio Grande do Norte    3560903    71337\n",
       "20    Rio Grande do Sul   11466630   482464\n",
       "21             Rondônia    1815278    47091\n",
       "22              Roraima     652713    14292\n",
       "23       Santa Catarina    7338473   323264\n",
       "24            São Paulo   46649132    44689\n",
       "25              Sergipe    2338474  2348338\n",
       "26            Tocantins    1607363    39356"
      ]
     },
     "execution_count": 46,
     "metadata": {},
     "output_type": "execute_result"
    }
   ],
   "source": [
    "Tabela1"
   ]
  },
  {
   "cell_type": "code",
   "execution_count": 48,
   "metadata": {},
   "outputs": [
    {
     "data": {
      "text/plain": [
       "pandas.core.frame.DataFrame"
      ]
     },
     "execution_count": 48,
     "metadata": {},
     "output_type": "execute_result"
    }
   ],
   "source": [
    "type(Tabela1)"
   ]
  },
  {
   "cell_type": "code",
   "execution_count": null,
   "metadata": {},
   "outputs": [],
   "source": [
    "# Outra forma de criar um dataframe é informando listas aninhadas, onde cada lista é um registro (não uma coluna)\n",
    "\n",
    "Dados = [\n",
    "    [\n",
    "        'Acre',\n",
    "        'Alagoas',\n",
    "        'Amapá',\n",
    "        'Amazonas',\n",
    "        'Bahia',\n",
    "        'Ceará',\n",
    "        'Distrito Federal',\n",
    "        'Espírito Santo',\n",
    "        'Goiás',\n",
    "        'Maranhão',\n",
    "        'Mato Grosso',\n",
    "        'Mato Grosso do Sul',\n",
    "        'Minas Gerais',\n",
    "        'Pará',\n",
    "        'Paraíba',\n",
    "        'Paraná',\n",
    "        'Pernambuco',\n",
    "        'Piauí',\n",
    "        'Rio de Janeiro',\n",
    "        'Rio Grande do Norte',\n",
    "        'Rio Grande do Sul',\n",
    "        'Rondônia','Roraima',\n",
    "        'Santa Catarina',\n",
    "        'São Paulo',\n",
    "        'Sergipe',\n",
    "        'Tocantins'],\n",
    "    [\n",
    "        906876,\n",
    "        3365351,\n",
    "        877613,\n",
    "        4269995,\n",
    "        14985284,\n",
    "        9240580,\n",
    "        3094325,\n",
    "        4108508,\n",
    "        7206589,\n",
    "        7153262,\n",
    "        3567234,\n",
    "        2839188,\n",
    "        21411923,\n",
    "        8777124,\n",
    "        4059905,\n",
    "        11597484,\n",
    "        9674793,\n",
    "        3289290,\n",
    "        17463349,\n",
    "        3560903,\n",
    "        11466630,\n",
    "        1815278,\n",
    "        652713,\n",
    "        7338473,\n",
    "        46649132,\n",
    "        2338474,\n",
    "        1607363],\n",
    "    [\n",
    "        15630,\n",
    "        58964,\n",
    "        17497,\n",
    "        108181,\n",
    "        293241,\n",
    "        163575,\n",
    "        273614,\n",
    "        137346,\n",
    "        208672,\n",
    "        97340,\n",
    "        142122,\n",
    "        106943,\n",
    "        651873,\n",
    "        466377,\n",
    "        67986,\n",
    "        178377,\n",
    "        197853,\n",
    "        52781,\n",
    "        779928,\n",
    "        71337,\n",
    "        482464,\n",
    "        47091,\n",
    "        14292,\n",
    "        323264,\n",
    "        44689,\n",
    "        2348338,\n",
    "        39356]]\n"
   ]
  },
  {
   "cell_type": "code",
   "execution_count": 57,
   "metadata": {},
   "outputs": [
    {
     "name": "stdout",
     "output_type": "stream",
     "text": [
      "                 Estado  População      PIB\n",
      "0                  Acre     906876    15630\n",
      "1               Alagoas    3365351    58964\n",
      "2                 Amapá     877613    17497\n",
      "3              Amazonas    4269995   108181\n",
      "4                 Bahia   14985284   293241\n",
      "5                 Ceará    9240580   163575\n",
      "6      Distrito Federal    3094325   273614\n",
      "7        Espírito Santo    4108508   137346\n",
      "8                 Goiás    7206589   208672\n",
      "9              Maranhão    7153262    97340\n",
      "10          Mato Grosso    3567234   142122\n",
      "11   Mato Grosso do Sul    2839188   106943\n",
      "12         Minas Gerais   21411923   651873\n",
      "13                 Pará    8777124   466377\n",
      "14              Paraíba    4059905    67986\n",
      "15               Paraná   11597484   178377\n",
      "16           Pernambuco    9674793   197853\n",
      "17                Piauí    3289290    52781\n",
      "18       Rio de Janeiro   17463349   779928\n",
      "19  Rio Grande do Norte    3560903    71337\n",
      "20    Rio Grande do Sul   11466630   482464\n",
      "21             Rondônia    1815278    47091\n",
      "22              Roraima     652713    14292\n",
      "23       Santa Catarina    7338473   323264\n",
      "24            São Paulo   46649132    44689\n",
      "25              Sergipe    2338474  2348338\n",
      "26            Tocantins    1607363    39356\n"
     ]
    }
   ],
   "source": [
    "# Dataframe a partir de registros, ao invés de colunas\n",
    "# O índice sempre pode ser definido\n",
    "# Se for informado títulos de colunas além do número de informações para cada registro, a coluna será criada com valores NaN.\n",
    "\n",
    "Dados = [\n",
    "    ['Acre',906876,15630],\n",
    "\t['Alagoas',3365351,58964],\n",
    "\t['Amapá',877613,17497],\n",
    "\t['Amazonas',4269995,108181],\n",
    "\t['Bahia',14985284,293241],\n",
    "\t['Ceará',9240580,163575],\n",
    "\t['Distrito Federal',3094325,273614],\n",
    "\t['Espírito Santo',4108508,137346],\n",
    "\t['Goiás',7206589,208672],\n",
    "\t['Maranhão',7153262,97340],\n",
    "\t['Mato Grosso',3567234,142122],\n",
    "\t['Mato Grosso do Sul',2839188,106943],\n",
    "\t['Minas Gerais',21411923,651873],\n",
    "\t['Pará',8777124,466377],\n",
    "\t['Paraíba',4059905,67986],\n",
    "\t['Paraná',11597484,178377],\n",
    "\t['Pernambuco',9674793,197853],\n",
    "\t['Piauí',3289290,52781],\n",
    "\t['Rio de Janeiro',17463349,779928],\n",
    "\t['Rio Grande do Norte',3560903,71337],\n",
    "\t['Rio Grande do Sul',11466630,482464],\n",
    "\t['Rondônia',1815278,47091],\n",
    "\t['Roraima',652713,14292],\n",
    "\t['Santa Catarina',7338473,323264],\n",
    "\t['São Paulo',46649132,44689],\n",
    "\t['Sergipe',2338474,2348338],\n",
    "\t['Tocantins',1607363,39356]]\n",
    "\n",
    "Tabela2 = pandas.DataFrame(Dados, columns = ['Estado','População','PIB'])\n",
    "print(Tabela2)"
   ]
  },
  {
   "cell_type": "code",
   "execution_count": 58,
   "metadata": {},
   "outputs": [
    {
     "data": {
      "text/plain": [
       "0                    Acre\n",
       "1                 Alagoas\n",
       "2                   Amapá\n",
       "3                Amazonas\n",
       "4                   Bahia\n",
       "5                   Ceará\n",
       "6        Distrito Federal\n",
       "7          Espírito Santo\n",
       "8                   Goiás\n",
       "9                Maranhão\n",
       "10            Mato Grosso\n",
       "11     Mato Grosso do Sul\n",
       "12           Minas Gerais\n",
       "13                   Pará\n",
       "14                Paraíba\n",
       "15                 Paraná\n",
       "16             Pernambuco\n",
       "17                  Piauí\n",
       "18         Rio de Janeiro\n",
       "19    Rio Grande do Norte\n",
       "20      Rio Grande do Sul\n",
       "21               Rondônia\n",
       "22                Roraima\n",
       "23         Santa Catarina\n",
       "24              São Paulo\n",
       "25                Sergipe\n",
       "26              Tocantins\n",
       "Name: Estado, dtype: object"
      ]
     },
     "execution_count": 58,
     "metadata": {},
     "output_type": "execute_result"
    }
   ],
   "source": [
    "# Fatiamento\n",
    "\n",
    "print(Tabela1['Estado'])"
   ]
  },
  {
   "cell_type": "code",
   "execution_count": 71,
   "metadata": {},
   "outputs": [
    {
     "data": {
      "text/plain": [
       "0                    Acre\n",
       "1                 Alagoas\n",
       "2                   Amapá\n",
       "3                Amazonas\n",
       "4                   Bahia\n",
       "5                   Ceará\n",
       "6        Distrito Federal\n",
       "7          Espírito Santo\n",
       "8                   Goiás\n",
       "9                Maranhão\n",
       "10            Mato Grosso\n",
       "11     Mato Grosso do Sul\n",
       "12           Minas Gerais\n",
       "13                   Pará\n",
       "14                Paraíba\n",
       "15                 Paraná\n",
       "16             Pernambuco\n",
       "17                  Piauí\n",
       "18         Rio de Janeiro\n",
       "19    Rio Grande do Norte\n",
       "20      Rio Grande do Sul\n",
       "21               Rondônia\n",
       "22                Roraima\n",
       "23         Santa Catarina\n",
       "24              São Paulo\n",
       "25                Sergipe\n",
       "26              Tocantins\n",
       "Name: Estado, dtype: object"
      ]
     },
     "execution_count": 71,
     "metadata": {},
     "output_type": "execute_result"
    }
   ],
   "source": [
    "# Os índices também são atributos dos objetos\n",
    "\n",
    "Tabela1.Estado"
   ]
  },
  {
   "cell_type": "code",
   "execution_count": 72,
   "metadata": {},
   "outputs": [
    {
     "data": {
      "text/html": [
       "<div>\n",
       "<style scoped>\n",
       "    .dataframe tbody tr th:only-of-type {\n",
       "        vertical-align: middle;\n",
       "    }\n",
       "\n",
       "    .dataframe tbody tr th {\n",
       "        vertical-align: top;\n",
       "    }\n",
       "\n",
       "    .dataframe thead th {\n",
       "        text-align: right;\n",
       "    }\n",
       "</style>\n",
       "<table border=\"1\" class=\"dataframe\">\n",
       "  <thead>\n",
       "    <tr style=\"text-align: right;\">\n",
       "      <th></th>\n",
       "      <th>Estado</th>\n",
       "      <th>População</th>\n",
       "      <th>PIB</th>\n",
       "    </tr>\n",
       "  </thead>\n",
       "  <tbody>\n",
       "    <tr>\n",
       "      <th>0</th>\n",
       "      <td>Acre</td>\n",
       "      <td>906876</td>\n",
       "      <td>15630</td>\n",
       "    </tr>\n",
       "    <tr>\n",
       "      <th>1</th>\n",
       "      <td>Alagoas</td>\n",
       "      <td>3365351</td>\n",
       "      <td>58964</td>\n",
       "    </tr>\n",
       "    <tr>\n",
       "      <th>2</th>\n",
       "      <td>Amapá</td>\n",
       "      <td>877613</td>\n",
       "      <td>17497</td>\n",
       "    </tr>\n",
       "    <tr>\n",
       "      <th>3</th>\n",
       "      <td>Amazonas</td>\n",
       "      <td>4269995</td>\n",
       "      <td>108181</td>\n",
       "    </tr>\n",
       "    <tr>\n",
       "      <th>4</th>\n",
       "      <td>Bahia</td>\n",
       "      <td>14985284</td>\n",
       "      <td>293241</td>\n",
       "    </tr>\n",
       "    <tr>\n",
       "      <th>5</th>\n",
       "      <td>Ceará</td>\n",
       "      <td>9240580</td>\n",
       "      <td>163575</td>\n",
       "    </tr>\n",
       "    <tr>\n",
       "      <th>6</th>\n",
       "      <td>Distrito Federal</td>\n",
       "      <td>3094325</td>\n",
       "      <td>273614</td>\n",
       "    </tr>\n",
       "    <tr>\n",
       "      <th>7</th>\n",
       "      <td>Espírito Santo</td>\n",
       "      <td>4108508</td>\n",
       "      <td>137346</td>\n",
       "    </tr>\n",
       "    <tr>\n",
       "      <th>8</th>\n",
       "      <td>Goiás</td>\n",
       "      <td>7206589</td>\n",
       "      <td>208672</td>\n",
       "    </tr>\n",
       "    <tr>\n",
       "      <th>9</th>\n",
       "      <td>Maranhão</td>\n",
       "      <td>7153262</td>\n",
       "      <td>97340</td>\n",
       "    </tr>\n",
       "  </tbody>\n",
       "</table>\n",
       "</div>"
      ],
      "text/plain": [
       "             Estado  População     PIB\n",
       "0              Acre     906876   15630\n",
       "1           Alagoas    3365351   58964\n",
       "2             Amapá     877613   17497\n",
       "3          Amazonas    4269995  108181\n",
       "4             Bahia   14985284  293241\n",
       "5             Ceará    9240580  163575\n",
       "6  Distrito Federal    3094325  273614\n",
       "7    Espírito Santo    4108508  137346\n",
       "8             Goiás    7206589  208672\n",
       "9          Maranhão    7153262   97340"
      ]
     },
     "execution_count": 72,
     "metadata": {},
     "output_type": "execute_result"
    }
   ],
   "source": [
    "# Fatiamento por range\n",
    "\n",
    "Tabela1[:10] # Os 10 primeiros itens, de 0 a 9"
   ]
  },
  {
   "cell_type": "code",
   "execution_count": 62,
   "metadata": {},
   "outputs": [
    {
     "name": "stdout",
     "output_type": "stream",
     "text": [
      "Index(['Estado', 'População', 'PIB'], dtype='object')\n",
      "<class 'pandas.core.indexes.base.Index'>\n",
      "RangeIndex(start=0, stop=27, step=1)\n",
      "<class 'pandas.core.indexes.range.RangeIndex'>\n"
     ]
    }
   ],
   "source": [
    "# Índices das de colunas (bases)\n",
    "print(Tabela1.columns)\n",
    "print(type(Tabela1.columns))\n",
    "\n",
    "# Índices dos registros (range)\n",
    "print(Tabela1.index)\n",
    "print(type(Tabela1.index))"
   ]
  },
  {
   "cell_type": "code",
   "execution_count": 65,
   "metadata": {},
   "outputs": [
    {
     "name": "stdout",
     "output_type": "stream",
     "text": [
      "[['Acre' 906876 15630]\n",
      " ['Alagoas' 3365351 58964]\n",
      " ['Amapá' 877613 17497]\n",
      " ['Amazonas' 4269995 108181]\n",
      " ['Bahia' 14985284 293241]\n",
      " ['Ceará' 9240580 163575]\n",
      " ['Distrito Federal' 3094325 273614]\n",
      " ['Espírito Santo' 4108508 137346]\n",
      " ['Goiás' 7206589 208672]\n",
      " ['Maranhão' 7153262 97340]\n",
      " ['Mato Grosso' 3567234 142122]\n",
      " ['Mato Grosso do Sul' 2839188 106943]\n",
      " ['Minas Gerais' 21411923 651873]\n",
      " ['Pará' 8777124 466377]\n",
      " ['Paraíba' 4059905 67986]\n",
      " ['Paraná' 11597484 178377]\n",
      " ['Pernambuco' 9674793 197853]\n",
      " ['Piauí' 3289290 52781]\n",
      " ['Rio de Janeiro' 17463349 779928]\n",
      " ['Rio Grande do Norte' 3560903 71337]\n",
      " ['Rio Grande do Sul' 11466630 482464]\n",
      " ['Rondônia' 1815278 47091]\n",
      " ['Roraima' 652713 14292]\n",
      " ['Santa Catarina' 7338473 323264]\n",
      " ['São Paulo' 46649132 44689]\n",
      " ['Sergipe' 2338474 2348338]\n",
      " ['Tocantins' 1607363 39356]]\n",
      "<class 'numpy.ndarray'>\n"
     ]
    }
   ],
   "source": [
    "# Apenas os valores\n",
    "\n",
    "print(Tabela2.values)\n",
    "print(type(Tabela2.values))\n",
    "\n",
    "# Os valores são um array 2D do Numpy."
   ]
  },
  {
   "cell_type": "code",
   "execution_count": 70,
   "metadata": {},
   "outputs": [
    {
     "data": {
      "text/plain": [
       "Estado       object\n",
       "População     int64\n",
       "PIB           int64\n",
       "dtype: object"
      ]
     },
     "execution_count": 70,
     "metadata": {},
     "output_type": "execute_result"
    }
   ],
   "source": [
    "# Os tipos dos dados por coluna\n",
    "\n",
    "Tabela1.dtypes"
   ]
  },
  {
   "cell_type": "markdown",
   "metadata": {},
   "source": [
    "## Arquivos"
   ]
  },
  {
   "cell_type": "code",
   "execution_count": 10,
   "metadata": {
    "scrolled": false
   },
   "outputs": [],
   "source": [
    "#Entregando um arquivo csv a uma variável:\n",
    "tabela = pandas.read_csv('..\\ArquivosParalelos\\IrisForTest.csv')"
   ]
  },
  {
   "cell_type": "code",
   "execution_count": 11,
   "metadata": {},
   "outputs": [
    {
     "data": {
      "text/html": [
       "<div>\n",
       "<style scoped>\n",
       "    .dataframe tbody tr th:only-of-type {\n",
       "        vertical-align: middle;\n",
       "    }\n",
       "\n",
       "    .dataframe tbody tr th {\n",
       "        vertical-align: top;\n",
       "    }\n",
       "\n",
       "    .dataframe thead th {\n",
       "        text-align: right;\n",
       "    }\n",
       "</style>\n",
       "<table border=\"1\" class=\"dataframe\">\n",
       "  <thead>\n",
       "    <tr style=\"text-align: right;\">\n",
       "      <th></th>\n",
       "      <th>sepal_length</th>\n",
       "      <th>sepal_width</th>\n",
       "      <th>petal_length</th>\n",
       "      <th>petal_width</th>\n",
       "      <th>species</th>\n",
       "    </tr>\n",
       "  </thead>\n",
       "  <tbody>\n",
       "    <tr>\n",
       "      <th>0</th>\n",
       "      <td>5.1</td>\n",
       "      <td>3.5</td>\n",
       "      <td>1.4</td>\n",
       "      <td>0.2</td>\n",
       "      <td>setosa</td>\n",
       "    </tr>\n",
       "    <tr>\n",
       "      <th>1</th>\n",
       "      <td>4.9</td>\n",
       "      <td>3.0</td>\n",
       "      <td>1.4</td>\n",
       "      <td>0.2</td>\n",
       "      <td>setosa</td>\n",
       "    </tr>\n",
       "    <tr>\n",
       "      <th>2</th>\n",
       "      <td>4.7</td>\n",
       "      <td>3.2</td>\n",
       "      <td>1.3</td>\n",
       "      <td>0.2</td>\n",
       "      <td>setosa</td>\n",
       "    </tr>\n",
       "    <tr>\n",
       "      <th>3</th>\n",
       "      <td>4.6</td>\n",
       "      <td>3.1</td>\n",
       "      <td>1.5</td>\n",
       "      <td>0.2</td>\n",
       "      <td>setosa</td>\n",
       "    </tr>\n",
       "    <tr>\n",
       "      <th>4</th>\n",
       "      <td>5.0</td>\n",
       "      <td>3.6</td>\n",
       "      <td>1.4</td>\n",
       "      <td>0.2</td>\n",
       "      <td>setosa</td>\n",
       "    </tr>\n",
       "    <tr>\n",
       "      <th>5</th>\n",
       "      <td>5.4</td>\n",
       "      <td>3.9</td>\n",
       "      <td>1.7</td>\n",
       "      <td>0.4</td>\n",
       "      <td>setosa</td>\n",
       "    </tr>\n",
       "    <tr>\n",
       "      <th>6</th>\n",
       "      <td>4.6</td>\n",
       "      <td>3.4</td>\n",
       "      <td>1.4</td>\n",
       "      <td>0.3</td>\n",
       "      <td>setosa</td>\n",
       "    </tr>\n",
       "    <tr>\n",
       "      <th>7</th>\n",
       "      <td>5.0</td>\n",
       "      <td>3.4</td>\n",
       "      <td>1.5</td>\n",
       "      <td>0.2</td>\n",
       "      <td>setosa</td>\n",
       "    </tr>\n",
       "    <tr>\n",
       "      <th>8</th>\n",
       "      <td>4.4</td>\n",
       "      <td>2.9</td>\n",
       "      <td>1.4</td>\n",
       "      <td>0.2</td>\n",
       "      <td>setosa</td>\n",
       "    </tr>\n",
       "  </tbody>\n",
       "</table>\n",
       "</div>"
      ],
      "text/plain": [
       "   sepal_length  sepal_width  petal_length  petal_width species\n",
       "0           5.1          3.5           1.4          0.2  setosa\n",
       "1           4.9          3.0           1.4          0.2  setosa\n",
       "2           4.7          3.2           1.3          0.2  setosa\n",
       "3           4.6          3.1           1.5          0.2  setosa\n",
       "4           5.0          3.6           1.4          0.2  setosa\n",
       "5           5.4          3.9           1.7          0.4  setosa\n",
       "6           4.6          3.4           1.4          0.3  setosa\n",
       "7           5.0          3.4           1.5          0.2  setosa\n",
       "8           4.4          2.9           1.4          0.2  setosa"
      ]
     },
     "execution_count": 11,
     "metadata": {},
     "output_type": "execute_result"
    }
   ],
   "source": [
    "#O começo da tabela:\n",
    "tabela.head(9)"
   ]
  },
  {
   "cell_type": "code",
   "execution_count": null,
   "metadata": {},
   "outputs": [],
   "source": []
  }
 ],
 "metadata": {
  "kernelspec": {
   "display_name": "Python 3.10.7 64-bit (microsoft store)",
   "language": "python",
   "name": "python3"
  },
  "language_info": {
   "codemirror_mode": {
    "name": "ipython",
    "version": 3
   },
   "file_extension": ".py",
   "mimetype": "text/x-python",
   "name": "python",
   "nbconvert_exporter": "python",
   "pygments_lexer": "ipython3",
   "version": "3.10.8"
  },
  "vscode": {
   "interpreter": {
    "hash": "91b18657112df8a6dc2946b9dfe3559ddfc8e1e2117c2c8071424b5e043bd8e1"
   }
  }
 },
 "nbformat": 4,
 "nbformat_minor": 4
}

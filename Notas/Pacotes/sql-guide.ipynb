{
 "cells": [
  {
   "cell_type": "markdown",
   "metadata": {},
   "source": [
    "# Guia de Comandos SQL Aplicados em Python"
   ]
  },
  {
   "cell_type": "markdown",
   "metadata": {},
   "source": [
    "* [Demonstração](#Demo)\n",
    "* Criação\n",
    "* Adição\n",
    "* Alteração\n",
    "* Filtros e Operadores Lógicos"
   ]
  },
  {
   "cell_type": "markdown",
   "metadata": {},
   "source": [
    "Pacotes:"
   ]
  },
  {
   "cell_type": "code",
   "execution_count": 1,
   "metadata": {},
   "outputs": [],
   "source": [
    "import os\n",
    "import sqlite3"
   ]
  },
  {
   "cell_type": "markdown",
   "metadata": {},
   "source": [
    "## Criando um exemplo com funções"
   ]
  },
  {
   "cell_type": "code",
   "execution_count": 2,
   "metadata": {},
   "outputs": [],
   "source": [
    "import random\n",
    "import time\n",
    "import datetime"
   ]
  },
  {
   "cell_type": "code",
   "execution_count": 3,
   "metadata": {},
   "outputs": [],
   "source": [
    "#Database e tabela padrões\n",
    "\n",
    "arquivo = r'../ArquivosParalelos/random_tables.db'\n",
    "tabela = 'random_table'"
   ]
  },
  {
   "cell_type": "code",
   "execution_count": 4,
   "metadata": {},
   "outputs": [],
   "source": [
    "# Função para criar um arquivo e a tabela\n",
    "\n",
    "# todas as variáveis são dadas como strings\n",
    "# \"arquivo\" é o diretório e o nome o arquivo db a ser criado\n",
    "# \"tabela\" é o nome da tabela dentro do db\n",
    "# \"colunas\" recebe os nomes das colunas juntamente com suas diretrizes.\n",
    "\n",
    "\n",
    "def create_table(arquivo,tabela,*colunas_parametros):\n",
    "    c = sqlite3.connect(arquivo).cursor() #Cria o arquivo, se ele já não existe, com a conexão e o cursor.\n",
    "    Colunas = ''\n",
    "    for i in colunas_parametros:\n",
    "        Colunas = Colunas+i+', '\n",
    "    Colunas = Colunas[0:-2] #Remove a vírgula e o espaço no final\n",
    "    c.execute(f'CREATE TABLE IF NOT EXISTS {tabela}({Colunas})')\n",
    "    c.close()"
   ]
  },
  {
   "cell_type": "code",
   "execution_count": 5,
   "metadata": {},
   "outputs": [],
   "source": [
    "# Função para inserir dados.\n",
    "\n",
    "# \"arquivo\" é uma sring com o diretório e o nome do DB\n",
    "# \"tabela\" é uma string contendo o nome da tabela\n",
    "# \"colunas\" é uma lista ou tupla com strings contendo os nomes das colunas.\n",
    "# \"valores\" é uma lista ou tupla contendo os valores a serem acrescentados, na ordem das colunas\n",
    "\n",
    "def data_insert_var(arquivo,tabela,colunas,valores):\n",
    "    conn = sqlite3.connect(arquivo)\n",
    "    c = conn.cursor()\n",
    "\n",
    "    Colunas = ''\n",
    "    for i in colunas:\n",
    "        Colunas = Colunas+i+', '\n",
    "    Colunas = Colunas[0:-2]\n",
    "    print(Colunas)\n",
    "\n",
    "    n = ''\n",
    "    for i in range(len(colunas)):\n",
    "        n = n+'?, '\n",
    "    n = n[0:-2]\n",
    "    print(n)\n",
    "\n",
    "    print('')\n",
    "    print(f\"INSERT INTO {tabela} ({Colunas}) VALUES ({n})\")\n",
    "    print(valores)\n",
    "\n",
    "    c.execute(f\"INSERT INTO {tabela} ({Colunas}) VALUES ({n})\", valores)\n",
    "    conn.commit()\n",
    "    c.close()\n",
    "    conn.close()"
   ]
  },
  {
   "cell_type": "code",
   "execution_count": 6,
   "metadata": {},
   "outputs": [],
   "source": [
    "# Função de leitura\n",
    "\n",
    "def showall(arquivo,tabela):\n",
    "    c = sqlite3.connect(arquivo).cursor()\n",
    "    c.execute(f'select * from {tabela}')\n",
    "    data = c.fetchall()\n",
    "\n",
    "    Colunas = [i[0] for i in c.execute(f'select * from {tabela}').description ]\n",
    "    print(\"Colunas\",Colunas)\n",
    "\n",
    "    for i in data:\n",
    "        linha = []\n",
    "        for j,k in zip(Colunas,i):\n",
    "            linha.append(f\"{j}: {k}\")\n",
    "        print(linha)\n",
    "\n",
    "    c.close()"
   ]
  },
  {
   "cell_type": "code",
   "execution_count": 7,
   "metadata": {},
   "outputs": [
    {
     "name": "stdout",
     "output_type": "stream",
     "text": [
      "Produto, Valor, Data\n",
      "?, ?, ?\n",
      "\n",
      "INSERT INTO random_table (Produto, Valor, Data) VALUES (?, ?, ?)\n",
      "('CPU', 62, datetime.datetime(2022, 9, 3, 21, 0, 4, 379955))\n",
      "Produto, Valor, Data\n",
      "?, ?, ?\n",
      "\n",
      "INSERT INTO random_table (Produto, Valor, Data) VALUES (?, ?, ?)\n",
      "('Teclado', 73, datetime.datetime(2022, 9, 3, 21, 0, 4, 387941))\n",
      "Produto, Valor, Data\n",
      "?, ?, ?\n",
      "\n",
      "INSERT INTO random_table (Produto, Valor, Data) VALUES (?, ?, ?)\n",
      "('Monitor', 90, datetime.datetime(2022, 9, 3, 21, 0, 4, 393935))\n",
      "Produto, Valor, Data\n",
      "?, ?, ?\n",
      "\n",
      "INSERT INTO random_table (Produto, Valor, Data) VALUES (?, ?, ?)\n",
      "('CPU', 54, datetime.datetime(2022, 9, 3, 21, 0, 4, 399932))\n",
      "Produto, Valor, Data\n",
      "?, ?, ?\n",
      "\n",
      "INSERT INTO random_table (Produto, Valor, Data) VALUES (?, ?, ?)\n",
      "('CPU', 79, datetime.datetime(2022, 9, 3, 21, 0, 4, 405927))\n",
      "Produto, Valor, Data\n",
      "?, ?, ?\n",
      "\n",
      "INSERT INTO random_table (Produto, Valor, Data) VALUES (?, ?, ?)\n",
      "('Teclado', 58, datetime.datetime(2022, 9, 3, 21, 0, 4, 410924))\n",
      "Produto, Valor, Data\n",
      "?, ?, ?\n",
      "\n",
      "INSERT INTO random_table (Produto, Valor, Data) VALUES (?, ?, ?)\n",
      "('Teclado', 81, datetime.datetime(2022, 9, 3, 21, 0, 4, 421919))\n",
      "Produto, Valor, Data\n",
      "?, ?, ?\n",
      "\n",
      "INSERT INTO random_table (Produto, Valor, Data) VALUES (?, ?, ?)\n",
      "('Teclado', 81, datetime.datetime(2022, 9, 3, 21, 0, 4, 426915))\n",
      "Produto, Valor, Data\n",
      "?, ?, ?\n",
      "\n",
      "INSERT INTO random_table (Produto, Valor, Data) VALUES (?, ?, ?)\n",
      "('CPU', 56, datetime.datetime(2022, 9, 3, 21, 0, 4, 434912))\n",
      "Produto, Valor, Data\n",
      "?, ?, ?\n",
      "\n",
      "INSERT INTO random_table (Produto, Valor, Data) VALUES (?, ?, ?)\n",
      "('CPU', 96, datetime.datetime(2022, 9, 3, 21, 0, 4, 439906))\n",
      "Produto, Valor, Data\n",
      "?, ?, ?\n",
      "\n",
      "INSERT INTO random_table (Produto, Valor, Data) VALUES (?, ?, ?)\n",
      "('Mouse', 97, datetime.datetime(2022, 9, 3, 21, 0, 4, 444904))\n",
      "Produto, Valor, Data\n",
      "?, ?, ?\n",
      "\n",
      "INSERT INTO random_table (Produto, Valor, Data) VALUES (?, ?, ?)\n",
      "('CPU', 73, datetime.datetime(2022, 9, 3, 21, 0, 4, 451899))\n",
      "Produto, Valor, Data\n",
      "?, ?, ?\n",
      "\n",
      "INSERT INTO random_table (Produto, Valor, Data) VALUES (?, ?, ?)\n",
      "('Mouse', 72, datetime.datetime(2022, 9, 3, 21, 0, 4, 456897))\n",
      "Produto, Valor, Data\n",
      "?, ?, ?\n",
      "\n",
      "INSERT INTO random_table (Produto, Valor, Data) VALUES (?, ?, ?)\n",
      "('Mouse', 86, datetime.datetime(2022, 9, 3, 21, 0, 4, 463892))\n",
      "Produto, Valor, Data\n",
      "?, ?, ?\n",
      "\n",
      "INSERT INTO random_table (Produto, Valor, Data) VALUES (?, ?, ?)\n",
      "('Mouse', 87, datetime.datetime(2022, 9, 3, 21, 0, 4, 469888))\n",
      "Produto, Valor, Data\n",
      "?, ?, ?\n",
      "\n",
      "INSERT INTO random_table (Produto, Valor, Data) VALUES (?, ?, ?)\n",
      "('Monitor', 92, datetime.datetime(2022, 9, 3, 21, 0, 4, 474885))\n",
      "Produto, Valor, Data\n",
      "?, ?, ?\n",
      "\n",
      "INSERT INTO random_table (Produto, Valor, Data) VALUES (?, ?, ?)\n",
      "('Monitor', 87, datetime.datetime(2022, 9, 3, 21, 0, 4, 485884))\n",
      "Produto, Valor, Data\n",
      "?, ?, ?\n",
      "\n",
      "INSERT INTO random_table (Produto, Valor, Data) VALUES (?, ?, ?)\n",
      "('CPU', 64, datetime.datetime(2022, 9, 3, 21, 0, 4, 491955))\n",
      "Produto, Valor, Data\n",
      "?, ?, ?\n",
      "\n",
      "INSERT INTO random_table (Produto, Valor, Data) VALUES (?, ?, ?)\n",
      "('Mouse', 51, datetime.datetime(2022, 9, 3, 21, 0, 4, 498957))\n",
      "Produto, Valor, Data\n",
      "?, ?, ?\n",
      "\n",
      "INSERT INTO random_table (Produto, Valor, Data) VALUES (?, ?, ?)\n",
      "('CPU', 91, datetime.datetime(2022, 9, 3, 21, 0, 4, 503982))\n"
     ]
    }
   ],
   "source": [
    "# Criando uma tabela aletória\n",
    "\n",
    "os.remove(r'../ArquivosParalelos/random_tables.db') if os.path.exists(r'../ArquivosParalelos/random_tables.db') else None\n",
    "\n",
    "n = 20 #Número de observações\n",
    "\n",
    "create_table(arquivo,tabela,\"ID INTEGER PRIMARY KEY AUTOINCREMENT NOT NULL\",\"Produto TEXT\",\"Valor REAL\",\"Data TEXT\")\n",
    "#create_table(arquivo,tabela,\"ID INTEGER PRIMARY KEY NOT NULL\",\"Produto TEXT\",\"Valor REAL\",\"Data TEXT\")\n",
    "\n",
    "for i in range(n): #cria n itens na lista.\n",
    "    new_date = datetime.datetime.now() #cria um objeto contendo a data e a hora atuais.\n",
    "    new_prod_name = random.choice(['Monitor', 'CPU', 'Teclado','Mouse']) #Escolhe um item na lista.\n",
    "    new_value = random.randrange(50,100) #Escolhe um preço para ser um valor do item.\n",
    "\n",
    "    valores = (new_prod_name,new_value,new_date)\n",
    "\n",
    "    data_insert_var(arquivo,tabela,('Produto','Valor','Data'),valores)\n",
    "\n",
    "    time.sleep(0) #aguarda."
   ]
  },
  {
   "cell_type": "code",
   "execution_count": 8,
   "metadata": {},
   "outputs": [
    {
     "name": "stdout",
     "output_type": "stream",
     "text": [
      "Colunas ['ID', 'Produto', 'Valor', 'Data']\n",
      "['ID: 1', 'Produto: CPU', 'Valor: 62.0', 'Data: 2022-09-03 21:00:04.379955']\n",
      "['ID: 2', 'Produto: Teclado', 'Valor: 73.0', 'Data: 2022-09-03 21:00:04.387941']\n",
      "['ID: 3', 'Produto: Monitor', 'Valor: 90.0', 'Data: 2022-09-03 21:00:04.393935']\n",
      "['ID: 4', 'Produto: CPU', 'Valor: 54.0', 'Data: 2022-09-03 21:00:04.399932']\n",
      "['ID: 5', 'Produto: CPU', 'Valor: 79.0', 'Data: 2022-09-03 21:00:04.405927']\n",
      "['ID: 6', 'Produto: Teclado', 'Valor: 58.0', 'Data: 2022-09-03 21:00:04.410924']\n",
      "['ID: 7', 'Produto: Teclado', 'Valor: 81.0', 'Data: 2022-09-03 21:00:04.421919']\n",
      "['ID: 8', 'Produto: Teclado', 'Valor: 81.0', 'Data: 2022-09-03 21:00:04.426915']\n",
      "['ID: 9', 'Produto: CPU', 'Valor: 56.0', 'Data: 2022-09-03 21:00:04.434912']\n",
      "['ID: 10', 'Produto: CPU', 'Valor: 96.0', 'Data: 2022-09-03 21:00:04.439906']\n",
      "['ID: 11', 'Produto: Mouse', 'Valor: 97.0', 'Data: 2022-09-03 21:00:04.444904']\n",
      "['ID: 12', 'Produto: CPU', 'Valor: 73.0', 'Data: 2022-09-03 21:00:04.451899']\n",
      "['ID: 13', 'Produto: Mouse', 'Valor: 72.0', 'Data: 2022-09-03 21:00:04.456897']\n",
      "['ID: 14', 'Produto: Mouse', 'Valor: 86.0', 'Data: 2022-09-03 21:00:04.463892']\n",
      "['ID: 15', 'Produto: Mouse', 'Valor: 87.0', 'Data: 2022-09-03 21:00:04.469888']\n",
      "['ID: 16', 'Produto: Monitor', 'Valor: 92.0', 'Data: 2022-09-03 21:00:04.474885']\n",
      "['ID: 17', 'Produto: Monitor', 'Valor: 87.0', 'Data: 2022-09-03 21:00:04.485884']\n",
      "['ID: 18', 'Produto: CPU', 'Valor: 64.0', 'Data: 2022-09-03 21:00:04.491955']\n",
      "['ID: 19', 'Produto: Mouse', 'Valor: 51.0', 'Data: 2022-09-03 21:00:04.498957']\n",
      "['ID: 20', 'Produto: CPU', 'Valor: 91.0', 'Data: 2022-09-03 21:00:04.503982']\n"
     ]
    }
   ],
   "source": [
    "# Vendo a tabela.\n",
    "\n",
    "showall(arquivo,tabela)"
   ]
  },
  {
   "cell_type": "code",
   "execution_count": 9,
   "metadata": {},
   "outputs": [],
   "source": [
    "# Função para mostrar apenas o Fetchall\n",
    "\n",
    "def Execute_and_Show(Query,arquivo):\n",
    "    Cursor = sqlite3.connect(arquivo).cursor()\n",
    "    Cursor.execute(Query)\n",
    "    for i in Cursor.execute(Query).description:\n",
    "        print(i)\n",
    "    for i in Cursor.fetchall():\n",
    "        print(i)\n",
    "    Cursor.close()"
   ]
  },
  {
   "cell_type": "code",
   "execution_count": 10,
   "metadata": {},
   "outputs": [],
   "source": [
    "# Função para executar e enviar ao DB.\n",
    "\n",
    "def Execute_and_Commit(Query,arquivo):\n",
    "    Conn = sqlite3.connect(arquivo)\n",
    "    Cursor = Conn.cursor()\n",
    "    Cursor.execute(Query)\n",
    "    Conn.commit()\n",
    "    Cursor.close()\n",
    "    Conn.close()"
   ]
  },
  {
   "cell_type": "markdown",
   "metadata": {},
   "source": [
    "## Queries"
   ]
  },
  {
   "cell_type": "markdown",
   "metadata": {},
   "source": [
    "<a id='Demo'></a>\n",
    "### Demonstração"
   ]
  },
  {
   "cell_type": "code",
   "execution_count": 11,
   "metadata": {},
   "outputs": [
    {
     "name": "stdout",
     "output_type": "stream",
     "text": [
      "('ID', None, None, None, None, None, None)\n",
      "('Produto', None, None, None, None, None, None)\n",
      "('Valor', None, None, None, None, None, None)\n",
      "('Data', None, None, None, None, None, None)\n",
      "(1, 'CPU', 62.0, '2022-09-03 21:00:04.379955')\n",
      "(2, 'Teclado', 73.0, '2022-09-03 21:00:04.387941')\n",
      "(3, 'Monitor', 90.0, '2022-09-03 21:00:04.393935')\n",
      "(4, 'CPU', 54.0, '2022-09-03 21:00:04.399932')\n",
      "(5, 'CPU', 79.0, '2022-09-03 21:00:04.405927')\n",
      "(6, 'Teclado', 58.0, '2022-09-03 21:00:04.410924')\n",
      "(7, 'Teclado', 81.0, '2022-09-03 21:00:04.421919')\n",
      "(8, 'Teclado', 81.0, '2022-09-03 21:00:04.426915')\n",
      "(9, 'CPU', 56.0, '2022-09-03 21:00:04.434912')\n",
      "(10, 'CPU', 96.0, '2022-09-03 21:00:04.439906')\n",
      "(11, 'Mouse', 97.0, '2022-09-03 21:00:04.444904')\n",
      "(12, 'CPU', 73.0, '2022-09-03 21:00:04.451899')\n",
      "(13, 'Mouse', 72.0, '2022-09-03 21:00:04.456897')\n",
      "(14, 'Mouse', 86.0, '2022-09-03 21:00:04.463892')\n",
      "(15, 'Mouse', 87.0, '2022-09-03 21:00:04.469888')\n",
      "(16, 'Monitor', 92.0, '2022-09-03 21:00:04.474885')\n",
      "(17, 'Monitor', 87.0, '2022-09-03 21:00:04.485884')\n",
      "(18, 'CPU', 64.0, '2022-09-03 21:00:04.491955')\n",
      "(19, 'Mouse', 51.0, '2022-09-03 21:00:04.498957')\n",
      "(20, 'CPU', 91.0, '2022-09-03 21:00:04.503982')\n"
     ]
    }
   ],
   "source": [
    "# Mostrar todos os dados\n",
    "\n",
    "Query = \"SELECT * FROM random_table\"\n",
    "\n",
    "Execute_and_Show(Query,arquivo)"
   ]
  },
  {
   "cell_type": "code",
   "execution_count": 12,
   "metadata": {},
   "outputs": [
    {
     "name": "stdout",
     "output_type": "stream",
     "text": [
      "('Produto', None, None, None, None, None, None)\n",
      "('Valor', None, None, None, None, None, None)\n",
      "('CPU', 62.0)\n",
      "('Teclado', 73.0)\n",
      "('Monitor', 90.0)\n",
      "('CPU', 54.0)\n",
      "('CPU', 79.0)\n",
      "('Teclado', 58.0)\n",
      "('Teclado', 81.0)\n",
      "('Teclado', 81.0)\n",
      "('CPU', 56.0)\n",
      "('CPU', 96.0)\n",
      "('Mouse', 97.0)\n",
      "('CPU', 73.0)\n",
      "('Mouse', 72.0)\n",
      "('Mouse', 86.0)\n",
      "('Mouse', 87.0)\n",
      "('Monitor', 92.0)\n",
      "('Monitor', 87.0)\n",
      "('CPU', 64.0)\n",
      "('Mouse', 51.0)\n",
      "('CPU', 91.0)\n"
     ]
    }
   ],
   "source": [
    "# Mostrar algumas colunas\n",
    "\n",
    "Query = \"SELECT Produto, Valor FROM random_table\"\n",
    "\n",
    "Execute_and_Show(Query,arquivo)"
   ]
  },
  {
   "cell_type": "code",
   "execution_count": 13,
   "metadata": {},
   "outputs": [
    {
     "name": "stdout",
     "output_type": "stream",
     "text": [
      "('Produto', None, None, None, None, None, None)\n",
      "('Valor', None, None, None, None, None, None)\n",
      "('CPU', 62.0)\n",
      "('Monitor', 90.0)\n",
      "('CPU', 54.0)\n",
      "('CPU', 79.0)\n",
      "('CPU', 56.0)\n",
      "('CPU', 96.0)\n",
      "('CPU', 73.0)\n",
      "('Monitor', 92.0)\n",
      "('Monitor', 87.0)\n",
      "('CPU', 64.0)\n",
      "('CPU', 91.0)\n"
     ]
    }
   ],
   "source": [
    "# Mostrar dados que correspondam a determinados valores\n",
    "# Usando operadores lógicos\n",
    "\n",
    "Query = \"SELECT Produto, Valor FROM random_table WHERE Produto = 'Monitor' OR Produto = 'CPU'\"\n",
    "\n",
    "Execute_and_Show(Query,arquivo)"
   ]
  },
  {
   "cell_type": "code",
   "execution_count": 14,
   "metadata": {},
   "outputs": [
    {
     "name": "stdout",
     "output_type": "stream",
     "text": [
      "('name', None, None, None, None, None, None)\n",
      "('random_table',)\n",
      "('sqlite_sequence',)\n"
     ]
    }
   ],
   "source": [
    "# Selecionaros nomes das tabelas da tabela \"sqlite_master\"\n",
    "\n",
    "Query = 'SELECT name FROM sqlite_master WHERE type = \"table\"'\n",
    "\n",
    "Execute_and_Show(Query,arquivo)"
   ]
  },
  {
   "cell_type": "markdown",
   "metadata": {},
   "source": [
    "### Criação\n",
    "<a id='Criação'></a>"
   ]
  },
  {
   "cell_type": "code",
   "execution_count": null,
   "metadata": {},
   "outputs": [],
   "source": []
  },
  {
   "cell_type": "markdown",
   "metadata": {},
   "source": [
    "### Adição\n",
    "<a id='Adição'></a>"
   ]
  },
  {
   "cell_type": "code",
   "execution_count": 15,
   "metadata": {},
   "outputs": [],
   "source": [
    "# Inserir linha/observação\n",
    "\n",
    "Query = \"INSERT INTO random_table VALUES(21, 'CPU', 91.0, '2022-09-03 16:26:28.564400')\"\n",
    "\n",
    "# É necessário alternar entre aspas e aspas duplas para que o interpretador não encerre a string\n",
    "# Mesmo a Primary Key tendo autoincremento, ele deve ser dado\n",
    "# Se este comando foi executado uma segunda vez, um erro ocorre por tentar adicionar um ID que já existe.\n",
    "\n",
    "Execute_and_Commit(Query,arquivo)"
   ]
  },
  {
   "cell_type": "code",
   "execution_count": 16,
   "metadata": {},
   "outputs": [],
   "source": [
    "# Inserir definindo valor e coluna\n",
    "\n",
    "Query = \"INSERT INTO random_table('Produto','Valor','Data') VALUES('CPU', 120.0, '2022-09-03 16:26:28.564400')\"\n",
    "\n",
    "Execute_and_Commit(Query,arquivo)"
   ]
  },
  {
   "cell_type": "code",
   "execution_count": 17,
   "metadata": {},
   "outputs": [],
   "source": [
    "# Inserir com o auxílio de uma tupla ou lista.\n",
    "\n",
    "# A execução muda\n",
    "\n",
    "Query = \"INSERT INTO random_table('Produto','Valor','Data') VALUES(?, ?, ?)\"\n",
    "\n",
    "Observação = ['Câmera',66,datetime.datetime.now()]\n",
    "\n",
    "\n",
    "Conn = sqlite3.connect(arquivo)\n",
    "Cursor = Conn.cursor()\n",
    "\n",
    "Cursor.execute(Query,Observação)\n",
    "\n",
    "Conn.commit()\n",
    "Cursor.close()\n",
    "Conn.close()\n"
   ]
  },
  {
   "cell_type": "code",
   "execution_count": 18,
   "metadata": {},
   "outputs": [
    {
     "name": "stdout",
     "output_type": "stream",
     "text": [
      "Colunas ['ID', 'Produto', 'Valor', 'Data']\n",
      "['ID: 1', 'Produto: CPU', 'Valor: 62.0', 'Data: 2022-09-03 21:00:04.379955']\n",
      "['ID: 2', 'Produto: Teclado', 'Valor: 73.0', 'Data: 2022-09-03 21:00:04.387941']\n",
      "['ID: 3', 'Produto: Monitor', 'Valor: 90.0', 'Data: 2022-09-03 21:00:04.393935']\n",
      "['ID: 4', 'Produto: CPU', 'Valor: 54.0', 'Data: 2022-09-03 21:00:04.399932']\n",
      "['ID: 5', 'Produto: CPU', 'Valor: 79.0', 'Data: 2022-09-03 21:00:04.405927']\n",
      "['ID: 6', 'Produto: Teclado', 'Valor: 58.0', 'Data: 2022-09-03 21:00:04.410924']\n",
      "['ID: 7', 'Produto: Teclado', 'Valor: 81.0', 'Data: 2022-09-03 21:00:04.421919']\n",
      "['ID: 8', 'Produto: Teclado', 'Valor: 81.0', 'Data: 2022-09-03 21:00:04.426915']\n",
      "['ID: 9', 'Produto: CPU', 'Valor: 56.0', 'Data: 2022-09-03 21:00:04.434912']\n",
      "['ID: 10', 'Produto: CPU', 'Valor: 96.0', 'Data: 2022-09-03 21:00:04.439906']\n",
      "['ID: 11', 'Produto: Mouse', 'Valor: 97.0', 'Data: 2022-09-03 21:00:04.444904']\n",
      "['ID: 12', 'Produto: CPU', 'Valor: 73.0', 'Data: 2022-09-03 21:00:04.451899']\n",
      "['ID: 13', 'Produto: Mouse', 'Valor: 72.0', 'Data: 2022-09-03 21:00:04.456897']\n",
      "['ID: 14', 'Produto: Mouse', 'Valor: 86.0', 'Data: 2022-09-03 21:00:04.463892']\n",
      "['ID: 15', 'Produto: Mouse', 'Valor: 87.0', 'Data: 2022-09-03 21:00:04.469888']\n",
      "['ID: 16', 'Produto: Monitor', 'Valor: 92.0', 'Data: 2022-09-03 21:00:04.474885']\n",
      "['ID: 17', 'Produto: Monitor', 'Valor: 87.0', 'Data: 2022-09-03 21:00:04.485884']\n",
      "['ID: 18', 'Produto: CPU', 'Valor: 64.0', 'Data: 2022-09-03 21:00:04.491955']\n",
      "['ID: 19', 'Produto: Mouse', 'Valor: 51.0', 'Data: 2022-09-03 21:00:04.498957']\n",
      "['ID: 20', 'Produto: CPU', 'Valor: 91.0', 'Data: 2022-09-03 21:00:04.503982']\n",
      "['ID: 21', 'Produto: CPU', 'Valor: 91.0', 'Data: 2022-09-03 16:26:28.564400']\n",
      "['ID: 22', 'Produto: CPU', 'Valor: 120.0', 'Data: 2022-09-03 16:26:28.564400']\n",
      "['ID: 23', 'Produto: Câmera', 'Valor: 66.0', 'Data: 2022-09-03 21:00:05.220248']\n"
     ]
    }
   ],
   "source": [
    "showall(arquivo,tabela)"
   ]
  },
  {
   "cell_type": "markdown",
   "metadata": {},
   "source": [
    "### Alteração\n",
    "<a id='Alteração'></a>"
   ]
  },
  {
   "cell_type": "code",
   "execution_count": 19,
   "metadata": {},
   "outputs": [],
   "source": [
    "Query = \"UPDATE random_table SET produto = 'Cabos' where id = 2\"\n",
    "\n",
    "Execute_and_Commit(Query,arquivo)"
   ]
  },
  {
   "cell_type": "code",
   "execution_count": 20,
   "metadata": {},
   "outputs": [
    {
     "name": "stdout",
     "output_type": "stream",
     "text": [
      "Colunas ['ID', 'Produto', 'Valor', 'Data']\n",
      "['ID: 1', 'Produto: CPU', 'Valor: 62.0', 'Data: 2022-09-03 21:00:04.379955']\n",
      "['ID: 2', 'Produto: Cabos', 'Valor: 73.0', 'Data: 2022-09-03 21:00:04.387941']\n",
      "['ID: 3', 'Produto: Monitor', 'Valor: 90.0', 'Data: 2022-09-03 21:00:04.393935']\n",
      "['ID: 4', 'Produto: CPU', 'Valor: 54.0', 'Data: 2022-09-03 21:00:04.399932']\n",
      "['ID: 5', 'Produto: CPU', 'Valor: 79.0', 'Data: 2022-09-03 21:00:04.405927']\n",
      "['ID: 6', 'Produto: Teclado', 'Valor: 58.0', 'Data: 2022-09-03 21:00:04.410924']\n",
      "['ID: 7', 'Produto: Teclado', 'Valor: 81.0', 'Data: 2022-09-03 21:00:04.421919']\n",
      "['ID: 8', 'Produto: Teclado', 'Valor: 81.0', 'Data: 2022-09-03 21:00:04.426915']\n",
      "['ID: 9', 'Produto: CPU', 'Valor: 56.0', 'Data: 2022-09-03 21:00:04.434912']\n",
      "['ID: 10', 'Produto: CPU', 'Valor: 96.0', 'Data: 2022-09-03 21:00:04.439906']\n",
      "['ID: 11', 'Produto: Mouse', 'Valor: 97.0', 'Data: 2022-09-03 21:00:04.444904']\n",
      "['ID: 12', 'Produto: CPU', 'Valor: 73.0', 'Data: 2022-09-03 21:00:04.451899']\n",
      "['ID: 13', 'Produto: Mouse', 'Valor: 72.0', 'Data: 2022-09-03 21:00:04.456897']\n",
      "['ID: 14', 'Produto: Mouse', 'Valor: 86.0', 'Data: 2022-09-03 21:00:04.463892']\n",
      "['ID: 15', 'Produto: Mouse', 'Valor: 87.0', 'Data: 2022-09-03 21:00:04.469888']\n",
      "['ID: 16', 'Produto: Monitor', 'Valor: 92.0', 'Data: 2022-09-03 21:00:04.474885']\n",
      "['ID: 17', 'Produto: Monitor', 'Valor: 87.0', 'Data: 2022-09-03 21:00:04.485884']\n",
      "['ID: 18', 'Produto: CPU', 'Valor: 64.0', 'Data: 2022-09-03 21:00:04.491955']\n",
      "['ID: 19', 'Produto: Mouse', 'Valor: 51.0', 'Data: 2022-09-03 21:00:04.498957']\n",
      "['ID: 20', 'Produto: CPU', 'Valor: 91.0', 'Data: 2022-09-03 21:00:04.503982']\n",
      "['ID: 21', 'Produto: CPU', 'Valor: 91.0', 'Data: 2022-09-03 16:26:28.564400']\n",
      "['ID: 22', 'Produto: CPU', 'Valor: 120.0', 'Data: 2022-09-03 16:26:28.564400']\n",
      "['ID: 23', 'Produto: Câmera', 'Valor: 66.0', 'Data: 2022-09-03 21:00:05.220248']\n"
     ]
    }
   ],
   "source": [
    "showall(arquivo,tabela)"
   ]
  },
  {
   "cell_type": "markdown",
   "metadata": {},
   "source": [
    "### Filtros e Operadores Lógicos\n",
    "<a id='Filtros e Operadores Lógicos'></a>"
   ]
  },
  {
   "cell_type": "code",
   "execution_count": 21,
   "metadata": {},
   "outputs": [
    {
     "name": "stdout",
     "output_type": "stream",
     "text": [
      "('Produto', None, None, None, None, None, None)\n",
      "('Valor', None, None, None, None, None, None)\n",
      "('Monitor', 90.0)\n",
      "('CPU', 96.0)\n",
      "('Monitor', 92.0)\n",
      "('Monitor', 87.0)\n",
      "('CPU', 91.0)\n",
      "('CPU', 91.0)\n",
      "('CPU', 120.0)\n"
     ]
    }
   ],
   "source": [
    "# WHERE filtra os dados considerados\n",
    "# Se o filtro é aplicado duas vezes a uma mesma coluna, ele deve ser demonstrado duas vezes\n",
    "\n",
    "Query = \"SELECT Produto, Valor FROM random_table WHERE Produto = 'Monitor' OR Produto = 'CPU' AND Valor > 90\"\n",
    "\n",
    "# Desta forma, apenas CPU é filtrada acima de 90. Monitores não foram filtrados\n",
    "\n",
    "Execute_and_Show(Query,arquivo)"
   ]
  },
  {
   "cell_type": "code",
   "execution_count": 22,
   "metadata": {},
   "outputs": [
    {
     "name": "stdout",
     "output_type": "stream",
     "text": [
      "('Produto', None, None, None, None, None, None)\n",
      "('Valor', None, None, None, None, None, None)\n",
      "('CPU', 96.0)\n",
      "('Monitor', 92.0)\n",
      "('CPU', 91.0)\n",
      "('CPU', 91.0)\n",
      "('CPU', 120.0)\n"
     ]
    }
   ],
   "source": [
    "# Assim, o filtro é aplicado a ambos os tipos de produtos\n",
    "\n",
    "Query = \"SELECT Produto, Valor FROM random_table WHERE (Produto = 'Monitor' OR Produto = 'CPU') AND Valor > 90\"\n",
    "\n",
    "Execute_and_Show(Query,arquivo)"
   ]
  },
  {
   "cell_type": "code",
   "execution_count": null,
   "metadata": {},
   "outputs": [],
   "source": []
  },
  {
   "cell_type": "markdown",
   "metadata": {},
   "source": [
    "## Sobre o SQLite3"
   ]
  },
  {
   "cell_type": "markdown",
   "metadata": {},
   "source": [
    "Conexão com a memória."
   ]
  },
  {
   "cell_type": "code",
   "execution_count": 23,
   "metadata": {},
   "outputs": [],
   "source": [
    "con_mem = sqlite3.connect(':memory:')\n",
    "\n",
    "###\n",
    "\n",
    "con_mem.close()"
   ]
  },
  {
   "cell_type": "markdown",
   "metadata": {},
   "source": [
    "Contagem de linhas afetadas"
   ]
  },
  {
   "cell_type": "code",
   "execution_count": 24,
   "metadata": {},
   "outputs": [
    {
     "name": "stdout",
     "output_type": "stream",
     "text": [
      "2\n",
      "\n",
      "Colunas ['ID', 'Produto', 'Valor', 'Data']\n",
      "['ID: 1', 'Produto: CPU', 'Valor: 62.0', 'Data: 2022-09-03 21:00:04.379955']\n",
      "['ID: 3', 'Produto: Monitor', 'Valor: 90.0', 'Data: 2022-09-03 21:00:04.393935']\n",
      "['ID: 4', 'Produto: CPU', 'Valor: 54.0', 'Data: 2022-09-03 21:00:04.399932']\n",
      "['ID: 5', 'Produto: CPU', 'Valor: 79.0', 'Data: 2022-09-03 21:00:04.405927']\n",
      "['ID: 6', 'Produto: Teclado', 'Valor: 58.0', 'Data: 2022-09-03 21:00:04.410924']\n",
      "['ID: 7', 'Produto: Teclado', 'Valor: 81.0', 'Data: 2022-09-03 21:00:04.421919']\n",
      "['ID: 8', 'Produto: Teclado', 'Valor: 81.0', 'Data: 2022-09-03 21:00:04.426915']\n",
      "['ID: 9', 'Produto: CPU', 'Valor: 56.0', 'Data: 2022-09-03 21:00:04.434912']\n",
      "['ID: 10', 'Produto: CPU', 'Valor: 96.0', 'Data: 2022-09-03 21:00:04.439906']\n",
      "['ID: 11', 'Produto: Mouse', 'Valor: 97.0', 'Data: 2022-09-03 21:00:04.444904']\n",
      "['ID: 12', 'Produto: CPU', 'Valor: 73.0', 'Data: 2022-09-03 21:00:04.451899']\n",
      "['ID: 13', 'Produto: Mouse', 'Valor: 72.0', 'Data: 2022-09-03 21:00:04.456897']\n",
      "['ID: 14', 'Produto: Mouse', 'Valor: 86.0', 'Data: 2022-09-03 21:00:04.463892']\n",
      "['ID: 15', 'Produto: Mouse', 'Valor: 87.0', 'Data: 2022-09-03 21:00:04.469888']\n",
      "['ID: 16', 'Produto: Monitor', 'Valor: 92.0', 'Data: 2022-09-03 21:00:04.474885']\n",
      "['ID: 17', 'Produto: Monitor', 'Valor: 87.0', 'Data: 2022-09-03 21:00:04.485884']\n",
      "['ID: 18', 'Produto: CPU', 'Valor: 64.0', 'Data: 2022-09-03 21:00:04.491955']\n",
      "['ID: 19', 'Produto: Mouse', 'Valor: 51.0', 'Data: 2022-09-03 21:00:04.498957']\n",
      "['ID: 20', 'Produto: CPU', 'Valor: 91.0', 'Data: 2022-09-03 21:00:04.503982']\n",
      "['ID: 21', 'Produto: CPU', 'Valor: 91.0', 'Data: 2022-09-03 16:26:28.564400']\n",
      "['ID: 22', 'Produto: CPU', 'Valor: 120.0', 'Data: 2022-09-03 16:26:28.564400']\n"
     ]
    }
   ],
   "source": [
    "Query = 'DELETE FROM random_table WHERE Produto = \"Câmera\" OR Produto = \"Cabos\"'\n",
    "\n",
    "Conn = sqlite3.connect(arquivo)\n",
    "Cursor = Conn.cursor()\n",
    "\n",
    "# Isso não só deleta como conta quantas alterações foram feitas.\n",
    "print(Cursor.execute(Query).rowcount)\n",
    "\n",
    "Conn.commit()\n",
    "Cursor.close()\n",
    "Conn.close()\n",
    "\n",
    "print()\n",
    "\n",
    "showall(arquivo,tabela)"
   ]
  }
 ],
 "metadata": {
  "kernelspec": {
   "display_name": "Python 3.10.6 64-bit (microsoft store)",
   "language": "python",
   "name": "python3"
  },
  "language_info": {
   "codemirror_mode": {
    "name": "ipython",
    "version": 3
   },
   "file_extension": ".py",
   "mimetype": "text/x-python",
   "name": "python",
   "nbconvert_exporter": "python",
   "pygments_lexer": "ipython3",
   "version": "3.10.6"
  },
  "orig_nbformat": 4,
  "vscode": {
   "interpreter": {
    "hash": "91b18657112df8a6dc2946b9dfe3559ddfc8e1e2117c2c8071424b5e043bd8e1"
   }
  }
 },
 "nbformat": 4,
 "nbformat_minor": 2
}

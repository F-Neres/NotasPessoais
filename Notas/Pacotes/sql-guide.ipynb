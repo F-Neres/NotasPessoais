{
 "cells": [
  {
   "cell_type": "markdown",
   "metadata": {},
   "source": [
    "# Guia de Comandos SQL Aplicados em Python"
   ]
  },
  {
   "cell_type": "markdown",
   "metadata": {},
   "source": [
    "* [Demonstração](#Demo)\n",
    "* Criação\n",
    "* Adição e Remoção\n",
    "* Alteração\n",
    "* Filtros e Operadores Lógicos"
   ]
  },
  {
   "cell_type": "markdown",
   "metadata": {},
   "source": [
    "Pacotes:"
   ]
  },
  {
   "cell_type": "code",
   "execution_count": 1,
   "metadata": {},
   "outputs": [],
   "source": [
    "import os\n",
    "import sqlite3"
   ]
  },
  {
   "cell_type": "markdown",
   "metadata": {},
   "source": [
    "## Criando um exemplo com funções"
   ]
  },
  {
   "cell_type": "code",
   "execution_count": 2,
   "metadata": {},
   "outputs": [],
   "source": [
    "import random\n",
    "import time\n",
    "import datetime"
   ]
  },
  {
   "cell_type": "code",
   "execution_count": 3,
   "metadata": {},
   "outputs": [],
   "source": [
    "#Database e tabela padrões\n",
    "\n",
    "arquivo = r'../ArquivosParalelos/random_tables.db'\n",
    "tabela = 'random_table'"
   ]
  },
  {
   "cell_type": "code",
   "execution_count": 4,
   "metadata": {},
   "outputs": [],
   "source": [
    "# Função para criar um arquivo e a tabela\n",
    "\n",
    "# todas as variáveis são dadas como strings\n",
    "# \"arquivo\" é o diretório e o nome o arquivo db a ser criado\n",
    "# \"tabela\" é o nome da tabela dentro do db\n",
    "# \"colunas\" recebe os nomes das colunas juntamente com suas diretrizes.\n",
    "\n",
    "\n",
    "def create_table(arquivo,tabela,*colunas_parametros):\n",
    "    c = sqlite3.connect(arquivo).cursor() #Cria o arquivo, se ele já não existe, com a conexão e o cursor.\n",
    "    Colunas = ''\n",
    "    for i in colunas_parametros:\n",
    "        Colunas = Colunas+i+', '\n",
    "    Colunas = Colunas[0:-2] #Remove a vírgula e o espaço no final\n",
    "    c.execute(f'CREATE TABLE IF NOT EXISTS {tabela}({Colunas})')\n",
    "    c.close()"
   ]
  },
  {
   "cell_type": "code",
   "execution_count": 5,
   "metadata": {},
   "outputs": [],
   "source": [
    "# Função para inserir dados.\n",
    "\n",
    "# \"arquivo\" é uma sring com o diretório e o nome do DB\n",
    "# \"tabela\" é uma string contendo o nome da tabela\n",
    "# \"colunas\" é uma lista ou tupla com strings contendo os nomes das colunas.\n",
    "# \"valores\" é uma lista ou tupla contendo os valores a serem acrescentados, na ordem das colunas\n",
    "\n",
    "def data_insert_var(arquivo,tabela,colunas,valores):\n",
    "    conn = sqlite3.connect(arquivo)\n",
    "    c = conn.cursor()\n",
    "\n",
    "    Colunas = ''\n",
    "    for i in colunas:\n",
    "        Colunas = Colunas+i+', '\n",
    "    Colunas = Colunas[0:-2]\n",
    "    print(Colunas)\n",
    "\n",
    "    n = ''\n",
    "    for i in range(len(colunas)):\n",
    "        n = n+'?, '\n",
    "    n = n[0:-2]\n",
    "    print(n)\n",
    "\n",
    "    print('')\n",
    "    print(f\"INSERT INTO {tabela} ({Colunas}) VALUES ({n})\")\n",
    "    print(valores)\n",
    "\n",
    "    c.execute(f\"INSERT INTO {tabela} ({Colunas}) VALUES ({n})\", valores)\n",
    "    conn.commit()\n",
    "    c.close()\n",
    "    conn.close()"
   ]
  },
  {
   "cell_type": "code",
   "execution_count": 6,
   "metadata": {},
   "outputs": [],
   "source": [
    "# Função de leitura\n",
    "\n",
    "def showall(arquivo,tabela):\n",
    "    c = sqlite3.connect(arquivo).cursor()\n",
    "    c.execute(f'select * from {tabela}')\n",
    "    data = c.fetchall()\n",
    "\n",
    "    Colunas = [i[0] for i in c.execute(f'select * from {tabela}').description ]\n",
    "    print(\"Colunas\",Colunas)\n",
    "\n",
    "    for i in data:\n",
    "        linha = []\n",
    "        for j,k in zip(Colunas,i):\n",
    "            linha.append(f\"{j}: {k}\")\n",
    "        print(linha)\n",
    "\n",
    "    c.close()"
   ]
  },
  {
   "cell_type": "code",
   "execution_count": 7,
   "metadata": {},
   "outputs": [
    {
     "name": "stdout",
     "output_type": "stream",
     "text": [
      "Produto, Valor, Data, Vendido\n",
      "?, ?, ?, ?\n",
      "\n",
      "INSERT INTO random_table (Produto, Valor, Data, Vendido) VALUES (?, ?, ?, ?)\n",
      "('Monitor', 55, datetime.datetime(2022, 9, 4, 20, 11, 56, 723199), 0)\n",
      "Produto, Valor, Data, Vendido\n",
      "?, ?, ?, ?\n",
      "\n",
      "INSERT INTO random_table (Produto, Valor, Data, Vendido) VALUES (?, ?, ?, ?)\n",
      "('Monitor', 84, datetime.datetime(2022, 9, 4, 20, 11, 56, 729195), 1)\n",
      "Produto, Valor, Data, Vendido\n",
      "?, ?, ?, ?\n",
      "\n",
      "INSERT INTO random_table (Produto, Valor, Data, Vendido) VALUES (?, ?, ?, ?)\n",
      "('CPU', 72, datetime.datetime(2022, 9, 4, 20, 11, 56, 735191), 1)\n",
      "Produto, Valor, Data, Vendido\n",
      "?, ?, ?, ?\n",
      "\n",
      "INSERT INTO random_table (Produto, Valor, Data, Vendido) VALUES (?, ?, ?, ?)\n",
      "('Monitor', 54, datetime.datetime(2022, 9, 4, 20, 11, 56, 741189), 0)\n",
      "Produto, Valor, Data, Vendido\n",
      "?, ?, ?, ?\n",
      "\n",
      "INSERT INTO random_table (Produto, Valor, Data, Vendido) VALUES (?, ?, ?, ?)\n",
      "('CPU', 79, datetime.datetime(2022, 9, 4, 20, 11, 56, 747183), 0)\n",
      "Produto, Valor, Data, Vendido\n",
      "?, ?, ?, ?\n",
      "\n",
      "INSERT INTO random_table (Produto, Valor, Data, Vendido) VALUES (?, ?, ?, ?)\n",
      "('CPU', 76, datetime.datetime(2022, 9, 4, 20, 11, 56, 752180), 1)\n",
      "Produto, Valor, Data, Vendido\n",
      "?, ?, ?, ?\n",
      "\n",
      "INSERT INTO random_table (Produto, Valor, Data, Vendido) VALUES (?, ?, ?, ?)\n",
      "('Mouse', 99, datetime.datetime(2022, 9, 4, 20, 11, 56, 758177), 1)\n",
      "Produto, Valor, Data, Vendido\n",
      "?, ?, ?, ?\n",
      "\n",
      "INSERT INTO random_table (Produto, Valor, Data, Vendido) VALUES (?, ?, ?, ?)\n",
      "('Teclado', 91, datetime.datetime(2022, 9, 4, 20, 11, 56, 764173), 1)\n",
      "Produto, Valor, Data, Vendido\n",
      "?, ?, ?, ?\n",
      "\n",
      "INSERT INTO random_table (Produto, Valor, Data, Vendido) VALUES (?, ?, ?, ?)\n",
      "('CPU', 83, datetime.datetime(2022, 9, 4, 20, 11, 56, 769169), 0)\n",
      "Produto, Valor, Data, Vendido\n",
      "?, ?, ?, ?\n",
      "\n",
      "INSERT INTO random_table (Produto, Valor, Data, Vendido) VALUES (?, ?, ?, ?)\n",
      "('Mouse', 78, datetime.datetime(2022, 9, 4, 20, 11, 56, 776165), 0)\n",
      "Produto, Valor, Data, Vendido\n",
      "?, ?, ?, ?\n",
      "\n",
      "INSERT INTO random_table (Produto, Valor, Data, Vendido) VALUES (?, ?, ?, ?)\n",
      "('CPU', 67, datetime.datetime(2022, 9, 4, 20, 11, 56, 781162), 0)\n",
      "Produto, Valor, Data, Vendido\n",
      "?, ?, ?, ?\n",
      "\n",
      "INSERT INTO random_table (Produto, Valor, Data, Vendido) VALUES (?, ?, ?, ?)\n",
      "('CPU', 72, datetime.datetime(2022, 9, 4, 20, 11, 56, 786157), 0)\n",
      "Produto, Valor, Data, Vendido\n",
      "?, ?, ?, ?\n",
      "\n",
      "INSERT INTO random_table (Produto, Valor, Data, Vendido) VALUES (?, ?, ?, ?)\n",
      "('Mouse', 64, datetime.datetime(2022, 9, 4, 20, 11, 56, 793155), 0)\n",
      "Produto, Valor, Data, Vendido\n",
      "?, ?, ?, ?\n",
      "\n",
      "INSERT INTO random_table (Produto, Valor, Data, Vendido) VALUES (?, ?, ?, ?)\n",
      "('Monitor', 50, datetime.datetime(2022, 9, 4, 20, 11, 56, 799151), 1)\n",
      "Produto, Valor, Data, Vendido\n",
      "?, ?, ?, ?\n",
      "\n",
      "INSERT INTO random_table (Produto, Valor, Data, Vendido) VALUES (?, ?, ?, ?)\n",
      "('Monitor', 64, datetime.datetime(2022, 9, 4, 20, 11, 56, 804147), 0)\n",
      "Produto, Valor, Data, Vendido\n",
      "?, ?, ?, ?\n",
      "\n",
      "INSERT INTO random_table (Produto, Valor, Data, Vendido) VALUES (?, ?, ?, ?)\n",
      "('Mouse', 89, datetime.datetime(2022, 9, 4, 20, 11, 56, 810145), 0)\n",
      "Produto, Valor, Data, Vendido\n",
      "?, ?, ?, ?\n",
      "\n",
      "INSERT INTO random_table (Produto, Valor, Data, Vendido) VALUES (?, ?, ?, ?)\n",
      "('CPU', 84, datetime.datetime(2022, 9, 4, 20, 11, 56, 817139), 0)\n",
      "Produto, Valor, Data, Vendido\n",
      "?, ?, ?, ?\n",
      "\n",
      "INSERT INTO random_table (Produto, Valor, Data, Vendido) VALUES (?, ?, ?, ?)\n",
      "('Monitor', 74, datetime.datetime(2022, 9, 4, 20, 11, 56, 827134), 0)\n",
      "Produto, Valor, Data, Vendido\n",
      "?, ?, ?, ?\n",
      "\n",
      "INSERT INTO random_table (Produto, Valor, Data, Vendido) VALUES (?, ?, ?, ?)\n",
      "('Monitor', 86, datetime.datetime(2022, 9, 4, 20, 11, 56, 832130), 0)\n",
      "Produto, Valor, Data, Vendido\n",
      "?, ?, ?, ?\n",
      "\n",
      "INSERT INTO random_table (Produto, Valor, Data, Vendido) VALUES (?, ?, ?, ?)\n",
      "('CPU', 72, datetime.datetime(2022, 9, 4, 20, 11, 56, 839126), 0)\n"
     ]
    }
   ],
   "source": [
    "# Criando uma tabela aletória\n",
    "\n",
    "os.remove(r'../ArquivosParalelos/random_tables.db') if os.path.exists(r'../ArquivosParalelos/random_tables.db') else None\n",
    "\n",
    "n = 20 #Número de observações\n",
    "\n",
    "create_table(arquivo,tabela,\"ID INTEGER PRIMARY KEY AUTOINCREMENT NOT NULL\",\"Produto TEXT\",\"Valor REAL\",\"Data DATE\",\"Vendido BIT NOT NULL\")\n",
    "#create_table(arquivo,tabela,\"ID INTEGER PRIMARY KEY NOT NULL\",\"Produto TEXT\",\"Valor REAL\",\"Data TEXT\")\n",
    "\n",
    "for i in range(n): #cria n itens na lista.\n",
    "    new_date = datetime.datetime.now() #cria um objeto contendo a data e a hora atuais.\n",
    "    new_prod_name = random.choice(['Monitor', 'CPU', 'Teclado','Mouse']) #Escolhe um item na lista.\n",
    "    new_value = random.randrange(50,100) #Escolhe um preço para ser um valor do item.\n",
    "    new_bool = random.choice([0,1]) #Escolhe um valor bit aleatório\n",
    "\n",
    "    valores = (new_prod_name,new_value,new_date,new_bool)\n",
    "\n",
    "    data_insert_var(arquivo,tabela,('Produto','Valor','Data','Vendido'),valores)\n",
    "\n",
    "    time.sleep(0) #aguarda."
   ]
  },
  {
   "cell_type": "code",
   "execution_count": 8,
   "metadata": {},
   "outputs": [
    {
     "name": "stdout",
     "output_type": "stream",
     "text": [
      "Colunas ['ID', 'Produto', 'Valor', 'Data', 'Vendido']\n",
      "['ID: 1', 'Produto: Monitor', 'Valor: 55.0', 'Data: 2022-09-04 20:11:56.723199', 'Vendido: 0']\n",
      "['ID: 2', 'Produto: Monitor', 'Valor: 84.0', 'Data: 2022-09-04 20:11:56.729195', 'Vendido: 1']\n",
      "['ID: 3', 'Produto: CPU', 'Valor: 72.0', 'Data: 2022-09-04 20:11:56.735191', 'Vendido: 1']\n",
      "['ID: 4', 'Produto: Monitor', 'Valor: 54.0', 'Data: 2022-09-04 20:11:56.741189', 'Vendido: 0']\n",
      "['ID: 5', 'Produto: CPU', 'Valor: 79.0', 'Data: 2022-09-04 20:11:56.747183', 'Vendido: 0']\n",
      "['ID: 6', 'Produto: CPU', 'Valor: 76.0', 'Data: 2022-09-04 20:11:56.752180', 'Vendido: 1']\n",
      "['ID: 7', 'Produto: Mouse', 'Valor: 99.0', 'Data: 2022-09-04 20:11:56.758177', 'Vendido: 1']\n",
      "['ID: 8', 'Produto: Teclado', 'Valor: 91.0', 'Data: 2022-09-04 20:11:56.764173', 'Vendido: 1']\n",
      "['ID: 9', 'Produto: CPU', 'Valor: 83.0', 'Data: 2022-09-04 20:11:56.769169', 'Vendido: 0']\n",
      "['ID: 10', 'Produto: Mouse', 'Valor: 78.0', 'Data: 2022-09-04 20:11:56.776165', 'Vendido: 0']\n",
      "['ID: 11', 'Produto: CPU', 'Valor: 67.0', 'Data: 2022-09-04 20:11:56.781162', 'Vendido: 0']\n",
      "['ID: 12', 'Produto: CPU', 'Valor: 72.0', 'Data: 2022-09-04 20:11:56.786157', 'Vendido: 0']\n",
      "['ID: 13', 'Produto: Mouse', 'Valor: 64.0', 'Data: 2022-09-04 20:11:56.793155', 'Vendido: 0']\n",
      "['ID: 14', 'Produto: Monitor', 'Valor: 50.0', 'Data: 2022-09-04 20:11:56.799151', 'Vendido: 1']\n",
      "['ID: 15', 'Produto: Monitor', 'Valor: 64.0', 'Data: 2022-09-04 20:11:56.804147', 'Vendido: 0']\n",
      "['ID: 16', 'Produto: Mouse', 'Valor: 89.0', 'Data: 2022-09-04 20:11:56.810145', 'Vendido: 0']\n",
      "['ID: 17', 'Produto: CPU', 'Valor: 84.0', 'Data: 2022-09-04 20:11:56.817139', 'Vendido: 0']\n",
      "['ID: 18', 'Produto: Monitor', 'Valor: 74.0', 'Data: 2022-09-04 20:11:56.827134', 'Vendido: 0']\n",
      "['ID: 19', 'Produto: Monitor', 'Valor: 86.0', 'Data: 2022-09-04 20:11:56.832130', 'Vendido: 0']\n",
      "['ID: 20', 'Produto: CPU', 'Valor: 72.0', 'Data: 2022-09-04 20:11:56.839126', 'Vendido: 0']\n"
     ]
    }
   ],
   "source": [
    "# Vendo a tabela.\n",
    "\n",
    "showall(arquivo,tabela)"
   ]
  },
  {
   "cell_type": "code",
   "execution_count": 9,
   "metadata": {},
   "outputs": [],
   "source": [
    "# Função para mostrar apenas o Fetchall\n",
    "\n",
    "def Execute_and_Show(Query,arquivo):\n",
    "    Cursor = sqlite3.connect(arquivo).cursor()\n",
    "    Cursor.execute(Query)\n",
    "    for i in Cursor.execute(Query).description:\n",
    "        print(i)\n",
    "    for i in Cursor.fetchall():\n",
    "        print(i)\n",
    "    Cursor.close()"
   ]
  },
  {
   "cell_type": "code",
   "execution_count": 10,
   "metadata": {},
   "outputs": [],
   "source": [
    "# Função para executar e enviar ao DB.\n",
    "\n",
    "def Execute_and_Commit(Query,arquivo,tabela):\n",
    "    Conn = sqlite3.connect(arquivo)\n",
    "    Cursor = Conn.cursor()\n",
    "    Cursor.execute(Query)\n",
    "    Conn.commit()\n",
    "    Cursor.close()\n",
    "    Conn.close()\n",
    "    showall(arquivo,tabela)"
   ]
  },
  {
   "cell_type": "markdown",
   "metadata": {},
   "source": [
    "## Queries"
   ]
  },
  {
   "cell_type": "markdown",
   "metadata": {},
   "source": [
    "<a id='Demo'></a>\n",
    "### Demonstração"
   ]
  },
  {
   "cell_type": "code",
   "execution_count": 11,
   "metadata": {},
   "outputs": [
    {
     "name": "stdout",
     "output_type": "stream",
     "text": [
      "('ID', None, None, None, None, None, None)\n",
      "('Produto', None, None, None, None, None, None)\n",
      "('Valor', None, None, None, None, None, None)\n",
      "('Data', None, None, None, None, None, None)\n",
      "('Vendido', None, None, None, None, None, None)\n",
      "(1, 'Monitor', 55.0, '2022-09-04 20:11:56.723199', 0)\n",
      "(2, 'Monitor', 84.0, '2022-09-04 20:11:56.729195', 1)\n",
      "(3, 'CPU', 72.0, '2022-09-04 20:11:56.735191', 1)\n",
      "(4, 'Monitor', 54.0, '2022-09-04 20:11:56.741189', 0)\n",
      "(5, 'CPU', 79.0, '2022-09-04 20:11:56.747183', 0)\n",
      "(6, 'CPU', 76.0, '2022-09-04 20:11:56.752180', 1)\n",
      "(7, 'Mouse', 99.0, '2022-09-04 20:11:56.758177', 1)\n",
      "(8, 'Teclado', 91.0, '2022-09-04 20:11:56.764173', 1)\n",
      "(9, 'CPU', 83.0, '2022-09-04 20:11:56.769169', 0)\n",
      "(10, 'Mouse', 78.0, '2022-09-04 20:11:56.776165', 0)\n",
      "(11, 'CPU', 67.0, '2022-09-04 20:11:56.781162', 0)\n",
      "(12, 'CPU', 72.0, '2022-09-04 20:11:56.786157', 0)\n",
      "(13, 'Mouse', 64.0, '2022-09-04 20:11:56.793155', 0)\n",
      "(14, 'Monitor', 50.0, '2022-09-04 20:11:56.799151', 1)\n",
      "(15, 'Monitor', 64.0, '2022-09-04 20:11:56.804147', 0)\n",
      "(16, 'Mouse', 89.0, '2022-09-04 20:11:56.810145', 0)\n",
      "(17, 'CPU', 84.0, '2022-09-04 20:11:56.817139', 0)\n",
      "(18, 'Monitor', 74.0, '2022-09-04 20:11:56.827134', 0)\n",
      "(19, 'Monitor', 86.0, '2022-09-04 20:11:56.832130', 0)\n",
      "(20, 'CPU', 72.0, '2022-09-04 20:11:56.839126', 0)\n"
     ]
    }
   ],
   "source": [
    "# Mostrar todos os dados\n",
    "\n",
    "Query = \"SELECT * FROM random_table\"\n",
    "\n",
    "Execute_and_Show(Query,arquivo)"
   ]
  },
  {
   "cell_type": "code",
   "execution_count": 12,
   "metadata": {},
   "outputs": [
    {
     "name": "stdout",
     "output_type": "stream",
     "text": [
      "('Produto', None, None, None, None, None, None)\n",
      "('Valor', None, None, None, None, None, None)\n",
      "('Monitor', 55.0)\n",
      "('Monitor', 84.0)\n",
      "('CPU', 72.0)\n",
      "('Monitor', 54.0)\n",
      "('CPU', 79.0)\n",
      "('CPU', 76.0)\n",
      "('Mouse', 99.0)\n",
      "('Teclado', 91.0)\n",
      "('CPU', 83.0)\n",
      "('Mouse', 78.0)\n",
      "('CPU', 67.0)\n",
      "('CPU', 72.0)\n",
      "('Mouse', 64.0)\n",
      "('Monitor', 50.0)\n",
      "('Monitor', 64.0)\n",
      "('Mouse', 89.0)\n",
      "('CPU', 84.0)\n",
      "('Monitor', 74.0)\n",
      "('Monitor', 86.0)\n",
      "('CPU', 72.0)\n"
     ]
    }
   ],
   "source": [
    "# Mostrar algumas colunas\n",
    "\n",
    "Query = \"SELECT Produto, Valor FROM random_table\"\n",
    "\n",
    "Execute_and_Show(Query,arquivo)"
   ]
  },
  {
   "cell_type": "code",
   "execution_count": 13,
   "metadata": {},
   "outputs": [
    {
     "name": "stdout",
     "output_type": "stream",
     "text": [
      "('Produto', None, None, None, None, None, None)\n",
      "('Valor', None, None, None, None, None, None)\n",
      "('Monitor', 55.0)\n",
      "('Monitor', 84.0)\n",
      "('CPU', 72.0)\n",
      "('Monitor', 54.0)\n",
      "('CPU', 79.0)\n",
      "('CPU', 76.0)\n",
      "('CPU', 83.0)\n",
      "('CPU', 67.0)\n",
      "('CPU', 72.0)\n",
      "('Monitor', 50.0)\n",
      "('Monitor', 64.0)\n",
      "('CPU', 84.0)\n",
      "('Monitor', 74.0)\n",
      "('Monitor', 86.0)\n",
      "('CPU', 72.0)\n"
     ]
    }
   ],
   "source": [
    "# Mostrar dados que correspondam a determinados valores\n",
    "# Usando operadores lógicos\n",
    "\n",
    "Query = \"SELECT Produto, Valor FROM random_table WHERE Produto = 'Monitor' OR Produto = 'CPU'\"\n",
    "\n",
    "Execute_and_Show(Query,arquivo)"
   ]
  },
  {
   "cell_type": "code",
   "execution_count": 14,
   "metadata": {},
   "outputs": [
    {
     "name": "stdout",
     "output_type": "stream",
     "text": [
      "('name', None, None, None, None, None, None)\n",
      "('random_table',)\n",
      "('sqlite_sequence',)\n"
     ]
    }
   ],
   "source": [
    "# Selecionaros nomes das tabelas da tabela \"sqlite_master\"\n",
    "\n",
    "Query = 'SELECT name FROM sqlite_master WHERE type = \"table\"'\n",
    "\n",
    "Execute_and_Show(Query,arquivo)"
   ]
  },
  {
   "cell_type": "code",
   "execution_count": 15,
   "metadata": {},
   "outputs": [
    {
     "name": "stdout",
     "output_type": "stream",
     "text": [
      "('ID', None, None, None, None, None, None)\n",
      "('Produto', None, None, None, None, None, None)\n",
      "('Valor', None, None, None, None, None, None)\n",
      "('Data', None, None, None, None, None, None)\n",
      "('Vendido', None, None, None, None, None, None)\n",
      "(1, 'Monitor', 55.0, '2022-09-04 20:11:56.723199', 0)\n",
      "(2, 'Monitor', 84.0, '2022-09-04 20:11:56.729195', 1)\n",
      "(3, 'CPU', 72.0, '2022-09-04 20:11:56.735191', 1)\n",
      "(4, 'Monitor', 54.0, '2022-09-04 20:11:56.741189', 0)\n",
      "(5, 'CPU', 79.0, '2022-09-04 20:11:56.747183', 0)\n",
      "(6, 'CPU', 76.0, '2022-09-04 20:11:56.752180', 1)\n",
      "(7, 'Mouse', 99.0, '2022-09-04 20:11:56.758177', 1)\n",
      "(8, 'Teclado', 91.0, '2022-09-04 20:11:56.764173', 1)\n",
      "(9, 'CPU', 83.0, '2022-09-04 20:11:56.769169', 0)\n",
      "(10, 'Mouse', 78.0, '2022-09-04 20:11:56.776165', 0)\n",
      "(11, 'CPU', 67.0, '2022-09-04 20:11:56.781162', 0)\n",
      "(12, 'CPU', 72.0, '2022-09-04 20:11:56.786157', 0)\n",
      "(13, 'Mouse', 64.0, '2022-09-04 20:11:56.793155', 0)\n",
      "(14, 'Monitor', 50.0, '2022-09-04 20:11:56.799151', 1)\n",
      "(15, 'Monitor', 64.0, '2022-09-04 20:11:56.804147', 0)\n",
      "(16, 'Mouse', 89.0, '2022-09-04 20:11:56.810145', 0)\n",
      "(17, 'CPU', 84.0, '2022-09-04 20:11:56.817139', 0)\n",
      "(18, 'Monitor', 74.0, '2022-09-04 20:11:56.827134', 0)\n",
      "(19, 'Monitor', 86.0, '2022-09-04 20:11:56.832130', 0)\n",
      "(20, 'CPU', 72.0, '2022-09-04 20:11:56.839126', 0)\n"
     ]
    }
   ],
   "source": [
    "# Distinct\n",
    "# Filtra os dados repetidos\n",
    "\n",
    "Query = \"SELECT DISTINCT * FROM random_table\"\n",
    "Execute_and_Show(Query,arquivo)"
   ]
  },
  {
   "cell_type": "code",
   "execution_count": 16,
   "metadata": {},
   "outputs": [
    {
     "name": "stdout",
     "output_type": "stream",
     "text": [
      "('Produto', None, None, None, None, None, None)\n",
      "('Vendido', None, None, None, None, None, None)\n",
      "('Monitor', 0)\n",
      "('Monitor', 1)\n",
      "('CPU', 1)\n",
      "('CPU', 0)\n",
      "('Mouse', 1)\n",
      "('Teclado', 1)\n",
      "('Mouse', 0)\n"
     ]
    }
   ],
   "source": [
    "# É filtrado apenas as combinações repetidas\n",
    "\n",
    "Query = \"SELECT DISTINCT Produto, Vendido FROM random_table\"\n",
    "\n",
    "Execute_and_Show(Query,arquivo)"
   ]
  },
  {
   "cell_type": "code",
   "execution_count": 25,
   "metadata": {},
   "outputs": [
    {
     "ename": "OperationalError",
     "evalue": "wrong number of arguments to function COUNT()",
     "output_type": "error",
     "traceback": [
      "\u001b[1;31m---------------------------------------------------------------------------\u001b[0m",
      "\u001b[1;31mOperationalError\u001b[0m                          Traceback (most recent call last)",
      "\u001b[1;32mc:\\Users\\fnsb.DESKTOP-7T10APS\\Documents\\MeusProjetos\\Python\\NotasPessoais-Python\\Notas\\Pacotes\\sql-guide.ipynb Célula: 23\u001b[0m in \u001b[0;36m<cell line: 6>\u001b[1;34m()\u001b[0m\n\u001b[0;32m      <a href='vscode-notebook-cell:/c%3A/Users/fnsb.DESKTOP-7T10APS/Documents/MeusProjetos/Python/NotasPessoais-Python/Notas/Pacotes/sql-guide.ipynb#Y123sZmlsZQ%3D%3D?line=0'>1</a>\u001b[0m \u001b[39m# Contagem\u001b[39;00m\n\u001b[0;32m      <a href='vscode-notebook-cell:/c%3A/Users/fnsb.DESKTOP-7T10APS/Documents/MeusProjetos/Python/NotasPessoais-Python/Notas/Pacotes/sql-guide.ipynb#Y123sZmlsZQ%3D%3D?line=1'>2</a>\u001b[0m \u001b[39m# Mais utilizado com DISTINCT\u001b[39;00m\n\u001b[0;32m      <a href='vscode-notebook-cell:/c%3A/Users/fnsb.DESKTOP-7T10APS/Documents/MeusProjetos/Python/NotasPessoais-Python/Notas/Pacotes/sql-guide.ipynb#Y123sZmlsZQ%3D%3D?line=3'>4</a>\u001b[0m Query \u001b[39m=\u001b[39m \u001b[39m\"\u001b[39m\u001b[39mSELECT COUNT (DISTINCT Produto, Vendido) FROM random_table\u001b[39m\u001b[39m\"\u001b[39m\n\u001b[1;32m----> <a href='vscode-notebook-cell:/c%3A/Users/fnsb.DESKTOP-7T10APS/Documents/MeusProjetos/Python/NotasPessoais-Python/Notas/Pacotes/sql-guide.ipynb#Y123sZmlsZQ%3D%3D?line=5'>6</a>\u001b[0m Execute_and_Show(Query,arquivo)\n",
      "\u001b[1;32mc:\\Users\\fnsb.DESKTOP-7T10APS\\Documents\\MeusProjetos\\Python\\NotasPessoais-Python\\Notas\\Pacotes\\sql-guide.ipynb Célula: 23\u001b[0m in \u001b[0;36mExecute_and_Show\u001b[1;34m(Query, arquivo)\u001b[0m\n\u001b[0;32m      <a href='vscode-notebook-cell:/c%3A/Users/fnsb.DESKTOP-7T10APS/Documents/MeusProjetos/Python/NotasPessoais-Python/Notas/Pacotes/sql-guide.ipynb#Y123sZmlsZQ%3D%3D?line=2'>3</a>\u001b[0m \u001b[39mdef\u001b[39;00m \u001b[39mExecute_and_Show\u001b[39m(Query,arquivo):\n\u001b[0;32m      <a href='vscode-notebook-cell:/c%3A/Users/fnsb.DESKTOP-7T10APS/Documents/MeusProjetos/Python/NotasPessoais-Python/Notas/Pacotes/sql-guide.ipynb#Y123sZmlsZQ%3D%3D?line=3'>4</a>\u001b[0m     Cursor \u001b[39m=\u001b[39m sqlite3\u001b[39m.\u001b[39mconnect(arquivo)\u001b[39m.\u001b[39mcursor()\n\u001b[1;32m----> <a href='vscode-notebook-cell:/c%3A/Users/fnsb.DESKTOP-7T10APS/Documents/MeusProjetos/Python/NotasPessoais-Python/Notas/Pacotes/sql-guide.ipynb#Y123sZmlsZQ%3D%3D?line=4'>5</a>\u001b[0m     Cursor\u001b[39m.\u001b[39;49mexecute(Query)\n\u001b[0;32m      <a href='vscode-notebook-cell:/c%3A/Users/fnsb.DESKTOP-7T10APS/Documents/MeusProjetos/Python/NotasPessoais-Python/Notas/Pacotes/sql-guide.ipynb#Y123sZmlsZQ%3D%3D?line=5'>6</a>\u001b[0m     \u001b[39mfor\u001b[39;00m i \u001b[39min\u001b[39;00m Cursor\u001b[39m.\u001b[39mexecute(Query)\u001b[39m.\u001b[39mdescription:\n\u001b[0;32m      <a href='vscode-notebook-cell:/c%3A/Users/fnsb.DESKTOP-7T10APS/Documents/MeusProjetos/Python/NotasPessoais-Python/Notas/Pacotes/sql-guide.ipynb#Y123sZmlsZQ%3D%3D?line=6'>7</a>\u001b[0m         \u001b[39mprint\u001b[39m(i)\n",
      "\u001b[1;31mOperationalError\u001b[0m: wrong number of arguments to function COUNT()"
     ]
    }
   ],
   "source": [
    "# Contagem\n",
    "# Mais utilizado com DISTINCT\n",
    "\n",
    "Query = \"SELECT COUNT (DISTINCT Produto) FROM random_table\"\n",
    "\n",
    "Execute_and_Show(Query,arquivo)"
   ]
  },
  {
   "cell_type": "code",
   "execution_count": 26,
   "metadata": {},
   "outputs": [
    {
     "name": "stdout",
     "output_type": "stream",
     "text": [
      "('COUNT (*)', None, None, None, None, None, None)\n",
      "(7,)\n"
     ]
    }
   ],
   "source": [
    "# Para contar uma distinção com duas colunas, é preciso contar tudo de uma seleção com o filtro de distinção\n",
    "\n",
    "Query = 'SELECT COUNT (*) FROM (SELECT DISTINCT Produto, Vendido FROM random_table)'\n",
    "\n",
    "Execute_and_Show(Query,arquivo)"
   ]
  },
  {
   "cell_type": "markdown",
   "metadata": {},
   "source": [
    "### Criação e Queda\n",
    "<a id='Criação'></a>"
   ]
  },
  {
   "cell_type": "code",
   "execution_count": null,
   "metadata": {},
   "outputs": [
    {
     "name": "stdout",
     "output_type": "stream",
     "text": [
      "Colunas ['id', 'name']\n"
     ]
    }
   ],
   "source": [
    "# Criar tabela nova\n",
    "\n",
    "Query = \"CREATE TABLE Exemplo(id integer, name text)\"\n",
    "\n",
    "Execute_and_Commit(Query,arquivo,'Exemplo')\n",
    "\n",
    "#Se a tabela já existe, ocorre um erro explícito."
   ]
  },
  {
   "cell_type": "code",
   "execution_count": null,
   "metadata": {},
   "outputs": [
    {
     "name": "stdout",
     "output_type": "stream",
     "text": [
      "Colunas ['id', 'name']\n"
     ]
    }
   ],
   "source": [
    "# Criar tabela nova se não existir\n",
    "\n",
    "Query = \"CREATE TABLE IF NOT EXISTS Exemplo(id integer, name text)\"\n",
    "\n",
    "Execute_and_Commit(Query,arquivo,'Exemplo')"
   ]
  },
  {
   "cell_type": "code",
   "execution_count": null,
   "metadata": {},
   "outputs": [
    {
     "name": "stdout",
     "output_type": "stream",
     "text": [
      "Colunas ['type', 'name', 'tbl_name', 'rootpage', 'sql']\n",
      "['type: table', 'name: random_table', 'tbl_name: random_table', 'rootpage: 2', 'sql: CREATE TABLE random_table(ID INTEGER PRIMARY KEY AUTOINCREMENT NOT NULL, Produto TEXT, Valor REAL, Data DATE, Vendido BIT NOT NULL)']\n",
      "['type: table', 'name: sqlite_sequence', 'tbl_name: sqlite_sequence', 'rootpage: 3', 'sql: CREATE TABLE sqlite_sequence(name,seq)']\n",
      "['type: table', 'name: Exemplo', 'tbl_name: Exemplo', 'rootpage: 4', 'sql: CREATE TABLE Exemplo(id integer, name text)']\n",
      "\n",
      "Colunas ['type', 'name', 'tbl_name', 'rootpage', 'sql']\n",
      "['type: table', 'name: random_table', 'tbl_name: random_table', 'rootpage: 2', 'sql: CREATE TABLE random_table(ID INTEGER PRIMARY KEY AUTOINCREMENT NOT NULL, Produto TEXT, Valor REAL, Data DATE, Vendido BIT NOT NULL)']\n",
      "['type: table', 'name: sqlite_sequence', 'tbl_name: sqlite_sequence', 'rootpage: 3', 'sql: CREATE TABLE sqlite_sequence(name,seq)']\n"
     ]
    }
   ],
   "source": [
    "# Criar tabela nova se não existir\n",
    "\n",
    "showall(arquivo,'sqlite_master')\n",
    "print()\n",
    "\n",
    "Query = \"DROP TABLE IF EXISTS Exemplo\"\n",
    "\n",
    "Execute_and_Commit(Query,arquivo,'sqlite_master')"
   ]
  },
  {
   "cell_type": "markdown",
   "metadata": {},
   "source": [
    "### Adição e Remoção\n",
    "<a id='Adição'></a>"
   ]
  },
  {
   "cell_type": "code",
   "execution_count": null,
   "metadata": {},
   "outputs": [
    {
     "name": "stdout",
     "output_type": "stream",
     "text": [
      "Colunas ['ID', 'Produto', 'Valor', 'Data', 'Vendido']\n",
      "['ID: 1', 'Produto: Monitor', 'Valor: 59.0', 'Data: 2022-09-04 20:06:58.300931', 'Vendido: 1']\n",
      "['ID: 2', 'Produto: Mouse', 'Valor: 59.0', 'Data: 2022-09-04 20:06:58.306926', 'Vendido: 0']\n",
      "['ID: 3', 'Produto: Mouse', 'Valor: 50.0', 'Data: 2022-09-04 20:06:58.311924', 'Vendido: 1']\n",
      "['ID: 4', 'Produto: Monitor', 'Valor: 91.0', 'Data: 2022-09-04 20:06:58.318919', 'Vendido: 0']\n",
      "['ID: 5', 'Produto: CPU', 'Valor: 81.0', 'Data: 2022-09-04 20:06:58.324916', 'Vendido: 0']\n",
      "['ID: 6', 'Produto: Teclado', 'Valor: 93.0', 'Data: 2022-09-04 20:06:58.329913', 'Vendido: 1']\n",
      "['ID: 7', 'Produto: Mouse', 'Valor: 75.0', 'Data: 2022-09-04 20:06:58.336908', 'Vendido: 1']\n",
      "['ID: 8', 'Produto: Monitor', 'Valor: 58.0', 'Data: 2022-09-04 20:06:58.342903', 'Vendido: 1']\n",
      "['ID: 9', 'Produto: Monitor', 'Valor: 92.0', 'Data: 2022-09-04 20:06:58.347901', 'Vendido: 1']\n",
      "['ID: 10', 'Produto: Teclado', 'Valor: 58.0', 'Data: 2022-09-04 20:06:58.353898', 'Vendido: 0']\n",
      "['ID: 11', 'Produto: Mouse', 'Valor: 79.0', 'Data: 2022-09-04 20:06:58.359893', 'Vendido: 0']\n",
      "['ID: 12', 'Produto: Monitor', 'Valor: 79.0', 'Data: 2022-09-04 20:06:58.365889', 'Vendido: 1']\n",
      "['ID: 13', 'Produto: Monitor', 'Valor: 91.0', 'Data: 2022-09-04 20:06:58.370887', 'Vendido: 0']\n",
      "['ID: 14', 'Produto: CPU', 'Valor: 54.0', 'Data: 2022-09-04 20:06:58.376883', 'Vendido: 1']\n",
      "['ID: 15', 'Produto: Monitor', 'Valor: 75.0', 'Data: 2022-09-04 20:06:58.388884', 'Vendido: 0']\n",
      "['ID: 16', 'Produto: Teclado', 'Valor: 66.0', 'Data: 2022-09-04 20:06:58.398870', 'Vendido: 1']\n",
      "['ID: 17', 'Produto: CPU', 'Valor: 85.0', 'Data: 2022-09-04 20:06:58.407864', 'Vendido: 1']\n",
      "['ID: 18', 'Produto: CPU', 'Valor: 74.0', 'Data: 2022-09-04 20:06:58.411860', 'Vendido: 0']\n",
      "['ID: 19', 'Produto: Mouse', 'Valor: 90.0', 'Data: 2022-09-04 20:06:58.417857', 'Vendido: 0']\n",
      "['ID: 20', 'Produto: Mouse', 'Valor: 77.0', 'Data: 2022-09-04 20:06:58.423854', 'Vendido: 0']\n",
      "['ID: 21', 'Produto: CPU', 'Valor: 91.0', 'Data: 2022-09-03 16:26:28.564400', 'Vendido: 1']\n"
     ]
    }
   ],
   "source": [
    "# Inserir linha/observação\n",
    "\n",
    "Query = \"INSERT INTO random_table VALUES(21, 'CPU', 91.0, '2022-09-03 16:26:28.564400',1)\"\n",
    "\n",
    "# É necessário alternar entre aspas e aspas duplas para que o interpretador não encerre a string\n",
    "# Mesmo a Primary Key tendo autoincremento, ele deve ser dado\n",
    "# Se este comando foi executado uma segunda vez, um erro ocorre por tentar adicionar um ID que já existe.\n",
    "\n",
    "Execute_and_Commit(Query,arquivo,tabela)"
   ]
  },
  {
   "cell_type": "code",
   "execution_count": null,
   "metadata": {},
   "outputs": [
    {
     "name": "stdout",
     "output_type": "stream",
     "text": [
      "Colunas ['ID', 'Produto', 'Valor', 'Data', 'Vendido']\n",
      "['ID: 1', 'Produto: Monitor', 'Valor: 59.0', 'Data: 2022-09-04 20:06:58.300931', 'Vendido: 1']\n",
      "['ID: 2', 'Produto: Mouse', 'Valor: 59.0', 'Data: 2022-09-04 20:06:58.306926', 'Vendido: 0']\n",
      "['ID: 3', 'Produto: Mouse', 'Valor: 50.0', 'Data: 2022-09-04 20:06:58.311924', 'Vendido: 1']\n",
      "['ID: 4', 'Produto: Monitor', 'Valor: 91.0', 'Data: 2022-09-04 20:06:58.318919', 'Vendido: 0']\n",
      "['ID: 5', 'Produto: CPU', 'Valor: 81.0', 'Data: 2022-09-04 20:06:58.324916', 'Vendido: 0']\n",
      "['ID: 6', 'Produto: Teclado', 'Valor: 93.0', 'Data: 2022-09-04 20:06:58.329913', 'Vendido: 1']\n",
      "['ID: 7', 'Produto: Mouse', 'Valor: 75.0', 'Data: 2022-09-04 20:06:58.336908', 'Vendido: 1']\n",
      "['ID: 8', 'Produto: Monitor', 'Valor: 58.0', 'Data: 2022-09-04 20:06:58.342903', 'Vendido: 1']\n",
      "['ID: 9', 'Produto: Monitor', 'Valor: 92.0', 'Data: 2022-09-04 20:06:58.347901', 'Vendido: 1']\n",
      "['ID: 10', 'Produto: Teclado', 'Valor: 58.0', 'Data: 2022-09-04 20:06:58.353898', 'Vendido: 0']\n",
      "['ID: 11', 'Produto: Mouse', 'Valor: 79.0', 'Data: 2022-09-04 20:06:58.359893', 'Vendido: 0']\n",
      "['ID: 12', 'Produto: Monitor', 'Valor: 79.0', 'Data: 2022-09-04 20:06:58.365889', 'Vendido: 1']\n",
      "['ID: 13', 'Produto: Monitor', 'Valor: 91.0', 'Data: 2022-09-04 20:06:58.370887', 'Vendido: 0']\n",
      "['ID: 14', 'Produto: CPU', 'Valor: 54.0', 'Data: 2022-09-04 20:06:58.376883', 'Vendido: 1']\n",
      "['ID: 15', 'Produto: Monitor', 'Valor: 75.0', 'Data: 2022-09-04 20:06:58.388884', 'Vendido: 0']\n",
      "['ID: 16', 'Produto: Teclado', 'Valor: 66.0', 'Data: 2022-09-04 20:06:58.398870', 'Vendido: 1']\n",
      "['ID: 17', 'Produto: CPU', 'Valor: 85.0', 'Data: 2022-09-04 20:06:58.407864', 'Vendido: 1']\n",
      "['ID: 18', 'Produto: CPU', 'Valor: 74.0', 'Data: 2022-09-04 20:06:58.411860', 'Vendido: 0']\n",
      "['ID: 19', 'Produto: Mouse', 'Valor: 90.0', 'Data: 2022-09-04 20:06:58.417857', 'Vendido: 0']\n",
      "['ID: 20', 'Produto: Mouse', 'Valor: 77.0', 'Data: 2022-09-04 20:06:58.423854', 'Vendido: 0']\n",
      "['ID: 21', 'Produto: CPU', 'Valor: 91.0', 'Data: 2022-09-03 16:26:28.564400', 'Vendido: 1']\n",
      "['ID: 22', 'Produto: CPU', 'Valor: 120.0', 'Data: 2022-09-03 16:26:28.564400', 'Vendido: 0']\n"
     ]
    }
   ],
   "source": [
    "# Inserir definindo valor e coluna\n",
    "\n",
    "Query = \"INSERT INTO random_table('Produto','Valor','Data','Vendido') VALUES('CPU', 120.0, '2022-09-03 16:26:28.564400',0)\"\n",
    "\n",
    "Execute_and_Commit(Query,arquivo,tabela)"
   ]
  },
  {
   "cell_type": "code",
   "execution_count": null,
   "metadata": {},
   "outputs": [
    {
     "name": "stdout",
     "output_type": "stream",
     "text": [
      "Colunas ['ID', 'Produto', 'Valor', 'Data', 'Vendido']\n",
      "['ID: 1', 'Produto: Monitor', 'Valor: 59.0', 'Data: 2022-09-04 20:06:58.300931', 'Vendido: 1']\n",
      "['ID: 2', 'Produto: Mouse', 'Valor: 59.0', 'Data: 2022-09-04 20:06:58.306926', 'Vendido: 0']\n",
      "['ID: 3', 'Produto: Mouse', 'Valor: 50.0', 'Data: 2022-09-04 20:06:58.311924', 'Vendido: 1']\n",
      "['ID: 4', 'Produto: Monitor', 'Valor: 91.0', 'Data: 2022-09-04 20:06:58.318919', 'Vendido: 0']\n",
      "['ID: 5', 'Produto: CPU', 'Valor: 81.0', 'Data: 2022-09-04 20:06:58.324916', 'Vendido: 0']\n",
      "['ID: 6', 'Produto: Teclado', 'Valor: 93.0', 'Data: 2022-09-04 20:06:58.329913', 'Vendido: 1']\n",
      "['ID: 7', 'Produto: Mouse', 'Valor: 75.0', 'Data: 2022-09-04 20:06:58.336908', 'Vendido: 1']\n",
      "['ID: 8', 'Produto: Monitor', 'Valor: 58.0', 'Data: 2022-09-04 20:06:58.342903', 'Vendido: 1']\n",
      "['ID: 9', 'Produto: Monitor', 'Valor: 92.0', 'Data: 2022-09-04 20:06:58.347901', 'Vendido: 1']\n",
      "['ID: 10', 'Produto: Teclado', 'Valor: 58.0', 'Data: 2022-09-04 20:06:58.353898', 'Vendido: 0']\n",
      "['ID: 11', 'Produto: Mouse', 'Valor: 79.0', 'Data: 2022-09-04 20:06:58.359893', 'Vendido: 0']\n",
      "['ID: 12', 'Produto: Monitor', 'Valor: 79.0', 'Data: 2022-09-04 20:06:58.365889', 'Vendido: 1']\n",
      "['ID: 13', 'Produto: Monitor', 'Valor: 91.0', 'Data: 2022-09-04 20:06:58.370887', 'Vendido: 0']\n",
      "['ID: 14', 'Produto: CPU', 'Valor: 54.0', 'Data: 2022-09-04 20:06:58.376883', 'Vendido: 1']\n",
      "['ID: 15', 'Produto: Monitor', 'Valor: 75.0', 'Data: 2022-09-04 20:06:58.388884', 'Vendido: 0']\n",
      "['ID: 16', 'Produto: Teclado', 'Valor: 66.0', 'Data: 2022-09-04 20:06:58.398870', 'Vendido: 1']\n",
      "['ID: 17', 'Produto: CPU', 'Valor: 85.0', 'Data: 2022-09-04 20:06:58.407864', 'Vendido: 1']\n",
      "['ID: 18', 'Produto: CPU', 'Valor: 74.0', 'Data: 2022-09-04 20:06:58.411860', 'Vendido: 0']\n",
      "['ID: 19', 'Produto: Mouse', 'Valor: 90.0', 'Data: 2022-09-04 20:06:58.417857', 'Vendido: 0']\n",
      "['ID: 20', 'Produto: Mouse', 'Valor: 77.0', 'Data: 2022-09-04 20:06:58.423854', 'Vendido: 0']\n",
      "['ID: 21', 'Produto: CPU', 'Valor: 91.0', 'Data: 2022-09-03 16:26:28.564400', 'Vendido: 1']\n",
      "['ID: 22', 'Produto: CPU', 'Valor: 120.0', 'Data: 2022-09-03 16:26:28.564400', 'Vendido: 0']\n",
      "['ID: 23', 'Produto: Câmera', 'Valor: 66.0', 'Data: 2022-09-04 20:07:00.384756', 'Vendido: 0']\n"
     ]
    }
   ],
   "source": [
    "# Inserir com o auxílio de uma tupla ou lista.\n",
    "\n",
    "# A execução muda\n",
    "\n",
    "Query = \"INSERT INTO random_table('Produto','Valor','Data','Vendido') VALUES(?, ?, ?,?)\"\n",
    "\n",
    "Observação = ['Câmera',66,datetime.datetime.now(),0]\n",
    "\n",
    "\n",
    "Conn = sqlite3.connect(arquivo)\n",
    "Cursor = Conn.cursor()\n",
    "\n",
    "Cursor.execute(Query,Observação)\n",
    "\n",
    "Conn.commit()\n",
    "Cursor.close()\n",
    "Conn.close()\n",
    "\n",
    "showall(arquivo,tabela)\n"
   ]
  },
  {
   "cell_type": "code",
   "execution_count": null,
   "metadata": {},
   "outputs": [
    {
     "name": "stdout",
     "output_type": "stream",
     "text": [
      "Colunas ['ID', 'Produto', 'Valor', 'Data', 'Vendido']\n",
      "['ID: 1', 'Produto: Monitor', 'Valor: 59.0', 'Data: 2022-09-04 20:06:58.300931', 'Vendido: 1']\n",
      "['ID: 2', 'Produto: Mouse', 'Valor: 59.0', 'Data: 2022-09-04 20:06:58.306926', 'Vendido: 0']\n",
      "['ID: 3', 'Produto: Mouse', 'Valor: 50.0', 'Data: 2022-09-04 20:06:58.311924', 'Vendido: 1']\n",
      "['ID: 4', 'Produto: Monitor', 'Valor: 91.0', 'Data: 2022-09-04 20:06:58.318919', 'Vendido: 0']\n",
      "['ID: 5', 'Produto: CPU', 'Valor: 81.0', 'Data: 2022-09-04 20:06:58.324916', 'Vendido: 0']\n",
      "['ID: 6', 'Produto: Teclado', 'Valor: 93.0', 'Data: 2022-09-04 20:06:58.329913', 'Vendido: 1']\n",
      "['ID: 7', 'Produto: Mouse', 'Valor: 75.0', 'Data: 2022-09-04 20:06:58.336908', 'Vendido: 1']\n",
      "['ID: 8', 'Produto: Monitor', 'Valor: 58.0', 'Data: 2022-09-04 20:06:58.342903', 'Vendido: 1']\n",
      "['ID: 9', 'Produto: Monitor', 'Valor: 92.0', 'Data: 2022-09-04 20:06:58.347901', 'Vendido: 1']\n",
      "['ID: 10', 'Produto: Teclado', 'Valor: 58.0', 'Data: 2022-09-04 20:06:58.353898', 'Vendido: 0']\n",
      "['ID: 11', 'Produto: Mouse', 'Valor: 79.0', 'Data: 2022-09-04 20:06:58.359893', 'Vendido: 0']\n",
      "['ID: 12', 'Produto: Monitor', 'Valor: 79.0', 'Data: 2022-09-04 20:06:58.365889', 'Vendido: 1']\n",
      "['ID: 13', 'Produto: Monitor', 'Valor: 91.0', 'Data: 2022-09-04 20:06:58.370887', 'Vendido: 0']\n",
      "['ID: 14', 'Produto: CPU', 'Valor: 54.0', 'Data: 2022-09-04 20:06:58.376883', 'Vendido: 1']\n",
      "['ID: 15', 'Produto: Monitor', 'Valor: 75.0', 'Data: 2022-09-04 20:06:58.388884', 'Vendido: 0']\n",
      "['ID: 16', 'Produto: Teclado', 'Valor: 66.0', 'Data: 2022-09-04 20:06:58.398870', 'Vendido: 1']\n",
      "['ID: 17', 'Produto: CPU', 'Valor: 85.0', 'Data: 2022-09-04 20:06:58.407864', 'Vendido: 1']\n",
      "['ID: 18', 'Produto: CPU', 'Valor: 74.0', 'Data: 2022-09-04 20:06:58.411860', 'Vendido: 0']\n",
      "['ID: 19', 'Produto: Mouse', 'Valor: 90.0', 'Data: 2022-09-04 20:06:58.417857', 'Vendido: 0']\n",
      "['ID: 20', 'Produto: Mouse', 'Valor: 77.0', 'Data: 2022-09-04 20:06:58.423854', 'Vendido: 0']\n",
      "['ID: 21', 'Produto: CPU', 'Valor: 91.0', 'Data: 2022-09-03 16:26:28.564400', 'Vendido: 1']\n",
      "['ID: 22', 'Produto: CPU', 'Valor: 120.0', 'Data: 2022-09-03 16:26:28.564400', 'Vendido: 0']\n",
      "['ID: 23', 'Produto: Câmera', 'Valor: 66.0', 'Data: 2022-09-04 20:07:00.384756', 'Vendido: 0']\n",
      "['ID: 24', 'Produto: Pendrive', 'Valor: 15.0', 'Data: 2022-09-04 20:07:00.535661', 'Vendido: 0']\n",
      "['ID: 25', 'Produto: Pendrive', 'Valor: 15.0', 'Data: 2022-09-04 20:07:00.535661', 'Vendido: 1']\n",
      "['ID: 26', 'Produto: Pendrive', 'Valor: 20.0', 'Data: 2022-09-04 20:07:00.535661', 'Vendido: 0']\n",
      "['ID: 27', 'Produto: Pendrive', 'Valor: 17.0', 'Data: 2022-09-04 20:07:00.535661', 'Vendido: 1']\n"
     ]
    }
   ],
   "source": [
    "# Executemany\n",
    "# Permite adicionar várias inserções sem um loop.\n",
    "# As observações precisam ser iteráveis dentro de iteráveis.\n",
    "\n",
    "Query = \"INSERT INTO random_table('Produto','Valor','Data','Vendido') VALUES(?, ?, ?,?)\"\n",
    "\n",
    "Observações = (('Pendrive',15,datetime.datetime.now(),0),('Pendrive',15,datetime.datetime.now(),1),('Pendrive',20,datetime.datetime.now(),0),('Pendrive',17,datetime.datetime.now(),1))\n",
    "\n",
    "\n",
    "Conn = sqlite3.connect(arquivo)\n",
    "Cursor = Conn.cursor()\n",
    "\n",
    "Cursor.executemany(Query,Observações)\n",
    "\n",
    "Conn.commit()\n",
    "Cursor.close()\n",
    "Conn.close()\n",
    "\n",
    "showall(arquivo,tabela)"
   ]
  },
  {
   "cell_type": "code",
   "execution_count": null,
   "metadata": {},
   "outputs": [
    {
     "name": "stdout",
     "output_type": "stream",
     "text": [
      "Colunas ['ID', 'Produto', 'Valor', 'Data', 'Vendido']\n",
      "['ID: 4', 'Produto: Monitor', 'Valor: 91.0', 'Data: 2022-09-04 20:06:58.318919', 'Vendido: 0']\n",
      "['ID: 5', 'Produto: CPU', 'Valor: 81.0', 'Data: 2022-09-04 20:06:58.324916', 'Vendido: 0']\n",
      "['ID: 6', 'Produto: Teclado', 'Valor: 93.0', 'Data: 2022-09-04 20:06:58.329913', 'Vendido: 1']\n",
      "['ID: 7', 'Produto: Mouse', 'Valor: 75.0', 'Data: 2022-09-04 20:06:58.336908', 'Vendido: 1']\n",
      "['ID: 9', 'Produto: Monitor', 'Valor: 92.0', 'Data: 2022-09-04 20:06:58.347901', 'Vendido: 1']\n",
      "['ID: 11', 'Produto: Mouse', 'Valor: 79.0', 'Data: 2022-09-04 20:06:58.359893', 'Vendido: 0']\n",
      "['ID: 12', 'Produto: Monitor', 'Valor: 79.0', 'Data: 2022-09-04 20:06:58.365889', 'Vendido: 1']\n",
      "['ID: 13', 'Produto: Monitor', 'Valor: 91.0', 'Data: 2022-09-04 20:06:58.370887', 'Vendido: 0']\n",
      "['ID: 15', 'Produto: Monitor', 'Valor: 75.0', 'Data: 2022-09-04 20:06:58.388884', 'Vendido: 0']\n",
      "['ID: 16', 'Produto: Teclado', 'Valor: 66.0', 'Data: 2022-09-04 20:06:58.398870', 'Vendido: 1']\n",
      "['ID: 17', 'Produto: CPU', 'Valor: 85.0', 'Data: 2022-09-04 20:06:58.407864', 'Vendido: 1']\n",
      "['ID: 18', 'Produto: CPU', 'Valor: 74.0', 'Data: 2022-09-04 20:06:58.411860', 'Vendido: 0']\n",
      "['ID: 19', 'Produto: Mouse', 'Valor: 90.0', 'Data: 2022-09-04 20:06:58.417857', 'Vendido: 0']\n",
      "['ID: 20', 'Produto: Mouse', 'Valor: 77.0', 'Data: 2022-09-04 20:06:58.423854', 'Vendido: 0']\n",
      "['ID: 21', 'Produto: CPU', 'Valor: 91.0', 'Data: 2022-09-03 16:26:28.564400', 'Vendido: 1']\n",
      "['ID: 22', 'Produto: CPU', 'Valor: 120.0', 'Data: 2022-09-03 16:26:28.564400', 'Vendido: 0']\n",
      "['ID: 23', 'Produto: Câmera', 'Valor: 66.0', 'Data: 2022-09-04 20:07:00.384756', 'Vendido: 0']\n"
     ]
    }
   ],
   "source": [
    "# Deletar dado\n",
    "\n",
    "Query = \"DELETE FROM random_table WHERE Valor < 60\"\n",
    "\n",
    "Execute_and_Commit(Query,arquivo,tabela)"
   ]
  },
  {
   "cell_type": "markdown",
   "metadata": {},
   "source": [
    "### Alteração\n",
    "<a id='Alteração'></a>"
   ]
  },
  {
   "cell_type": "code",
   "execution_count": null,
   "metadata": {},
   "outputs": [
    {
     "name": "stdout",
     "output_type": "stream",
     "text": [
      "Colunas ['ID', 'Produto', 'Valor', 'Data', 'Vendido']\n",
      "['ID: 4', 'Produto: Monitor', 'Valor: 91.0', 'Data: 2022-09-04 20:06:58.318919', 'Vendido: 0']\n",
      "['ID: 5', 'Produto: CPU', 'Valor: 81.0', 'Data: 2022-09-04 20:06:58.324916', 'Vendido: 0']\n",
      "['ID: 6', 'Produto: Teclado', 'Valor: 93.0', 'Data: 2022-09-04 20:06:58.329913', 'Vendido: 1']\n",
      "['ID: 7', 'Produto: Mouse', 'Valor: 75.0', 'Data: 2022-09-04 20:06:58.336908', 'Vendido: 1']\n",
      "['ID: 9', 'Produto: Monitor', 'Valor: 92.0', 'Data: 2022-09-04 20:06:58.347901', 'Vendido: 1']\n",
      "['ID: 11', 'Produto: Mouse', 'Valor: 79.0', 'Data: 2022-09-04 20:06:58.359893', 'Vendido: 0']\n",
      "['ID: 12', 'Produto: Monitor', 'Valor: 79.0', 'Data: 2022-09-04 20:06:58.365889', 'Vendido: 1']\n",
      "['ID: 13', 'Produto: Monitor', 'Valor: 91.0', 'Data: 2022-09-04 20:06:58.370887', 'Vendido: 0']\n",
      "['ID: 15', 'Produto: Monitor', 'Valor: 75.0', 'Data: 2022-09-04 20:06:58.388884', 'Vendido: 0']\n",
      "['ID: 16', 'Produto: Teclado', 'Valor: 66.0', 'Data: 2022-09-04 20:06:58.398870', 'Vendido: 1']\n",
      "['ID: 17', 'Produto: CPU', 'Valor: 85.0', 'Data: 2022-09-04 20:06:58.407864', 'Vendido: 1']\n",
      "['ID: 18', 'Produto: CPU', 'Valor: 74.0', 'Data: 2022-09-04 20:06:58.411860', 'Vendido: 0']\n",
      "['ID: 19', 'Produto: Mouse', 'Valor: 90.0', 'Data: 2022-09-04 20:06:58.417857', 'Vendido: 0']\n",
      "['ID: 20', 'Produto: Mouse', 'Valor: 77.0', 'Data: 2022-09-04 20:06:58.423854', 'Vendido: 0']\n",
      "['ID: 21', 'Produto: CPU', 'Valor: 91.0', 'Data: 2022-09-03 16:26:28.564400', 'Vendido: 1']\n",
      "['ID: 22', 'Produto: CPU', 'Valor: 120.0', 'Data: 2022-09-03 16:26:28.564400', 'Vendido: 0']\n",
      "['ID: 23', 'Produto: Câmera', 'Valor: 66.0', 'Data: 2022-09-04 20:07:00.384756', 'Vendido: 0']\n"
     ]
    }
   ],
   "source": [
    "# Mudança de valor\n",
    "# UPDATE SET\n",
    "\n",
    "Query = \"UPDATE random_table SET Produto = 'Cabos' WHERE id = 2\"\n",
    "\n",
    "Execute_and_Commit(Query,arquivo,tabela)"
   ]
  },
  {
   "cell_type": "code",
   "execution_count": null,
   "metadata": {},
   "outputs": [
    {
     "data": {
      "text/plain": [
       "\"UPDATE random_table SET Produto = 'Cabos' WHERE id = 2\""
      ]
     },
     "execution_count": 26,
     "metadata": {},
     "output_type": "execute_result"
    }
   ],
   "source": [
    "# Remover linha\n",
    "\n",
    "Query"
   ]
  },
  {
   "cell_type": "markdown",
   "metadata": {},
   "source": [
    "### Filtros e Operadores Lógicos\n",
    "<a id='Filtros e Operadores Lógicos'></a>"
   ]
  },
  {
   "cell_type": "code",
   "execution_count": null,
   "metadata": {},
   "outputs": [
    {
     "name": "stdout",
     "output_type": "stream",
     "text": [
      "('Produto', None, None, None, None, None, None)\n",
      "('Valor', None, None, None, None, None, None)\n",
      "('Monitor', 91.0)\n",
      "('Monitor', 92.0)\n",
      "('Monitor', 79.0)\n",
      "('Monitor', 91.0)\n",
      "('Monitor', 75.0)\n",
      "('CPU', 91.0)\n",
      "('CPU', 120.0)\n"
     ]
    }
   ],
   "source": [
    "# WHERE filtra os dados considerados\n",
    "# Se o filtro é aplicado duas vezes a uma mesma coluna, ele deve ser demonstrado duas vezes\n",
    "\n",
    "Query = \"SELECT Produto, Valor FROM random_table WHERE Produto = 'Monitor' OR Produto = 'CPU' AND Valor > 90\"\n",
    "\n",
    "# Desta forma, apenas CPU é filtrada acima de 90. Monitores não foram filtrados\n",
    "\n",
    "Execute_and_Show(Query,arquivo)"
   ]
  },
  {
   "cell_type": "code",
   "execution_count": null,
   "metadata": {},
   "outputs": [
    {
     "name": "stdout",
     "output_type": "stream",
     "text": [
      "('Produto', None, None, None, None, None, None)\n",
      "('Valor', None, None, None, None, None, None)\n",
      "('Monitor', 91.0)\n",
      "('Monitor', 92.0)\n",
      "('Monitor', 91.0)\n",
      "('CPU', 91.0)\n",
      "('CPU', 120.0)\n"
     ]
    }
   ],
   "source": [
    "# Assim, o filtro é aplicado a ambos os tipos de produtos\n",
    "\n",
    "Query = \"SELECT Produto, Valor FROM random_table WHERE (Produto = 'Monitor' OR Produto = 'CPU') AND Valor > 90\"\n",
    "\n",
    "Execute_and_Show(Query,arquivo)"
   ]
  },
  {
   "cell_type": "code",
   "execution_count": null,
   "metadata": {},
   "outputs": [
    {
     "name": "stdout",
     "output_type": "stream",
     "text": [
      "('name', None, None, None, None, None, None)\n",
      "\n",
      "('name', None, None, None, None, None, None)\n",
      "('random_table',)\n"
     ]
    }
   ],
   "source": [
    "# Variável SE\n",
    "# Verificação se determinada tabela existe\n",
    "\n",
    "Query1 = 'SELECT name from sqlite_master WHERE type = \"table\" AND name = \"Exemplo\"'\n",
    "Query2 = 'SELECT name from sqlite_master WHERE type = \"table\" AND name = \"random_table\"'\n",
    "\n",
    "Execute_and_Show(Query1,arquivo)\n",
    "print()\n",
    "Execute_and_Show(Query2,arquivo)\n",
    "\n",
    "# Se a tabela não existe, nome nenhum é apresentado."
   ]
  },
  {
   "cell_type": "markdown",
   "metadata": {},
   "source": [
    "## Sobre o SQLite3"
   ]
  },
  {
   "cell_type": "markdown",
   "metadata": {},
   "source": [
    "Conexão com a memória."
   ]
  },
  {
   "cell_type": "code",
   "execution_count": null,
   "metadata": {},
   "outputs": [],
   "source": [
    "con_mem = sqlite3.connect(':memory:')\n",
    "\n",
    "###\n",
    "\n",
    "con_mem.close()"
   ]
  },
  {
   "cell_type": "markdown",
   "metadata": {},
   "source": [
    "Contagem de linhas afetadas"
   ]
  },
  {
   "cell_type": "code",
   "execution_count": null,
   "metadata": {},
   "outputs": [
    {
     "name": "stdout",
     "output_type": "stream",
     "text": [
      "1\n",
      "\n",
      "Colunas ['ID', 'Produto', 'Valor', 'Data', 'Vendido']\n",
      "['ID: 4', 'Produto: Monitor', 'Valor: 91.0', 'Data: 2022-09-04 20:06:58.318919', 'Vendido: 0']\n",
      "['ID: 5', 'Produto: CPU', 'Valor: 81.0', 'Data: 2022-09-04 20:06:58.324916', 'Vendido: 0']\n",
      "['ID: 6', 'Produto: Teclado', 'Valor: 93.0', 'Data: 2022-09-04 20:06:58.329913', 'Vendido: 1']\n",
      "['ID: 7', 'Produto: Mouse', 'Valor: 75.0', 'Data: 2022-09-04 20:06:58.336908', 'Vendido: 1']\n",
      "['ID: 9', 'Produto: Monitor', 'Valor: 92.0', 'Data: 2022-09-04 20:06:58.347901', 'Vendido: 1']\n",
      "['ID: 11', 'Produto: Mouse', 'Valor: 79.0', 'Data: 2022-09-04 20:06:58.359893', 'Vendido: 0']\n",
      "['ID: 12', 'Produto: Monitor', 'Valor: 79.0', 'Data: 2022-09-04 20:06:58.365889', 'Vendido: 1']\n",
      "['ID: 13', 'Produto: Monitor', 'Valor: 91.0', 'Data: 2022-09-04 20:06:58.370887', 'Vendido: 0']\n",
      "['ID: 15', 'Produto: Monitor', 'Valor: 75.0', 'Data: 2022-09-04 20:06:58.388884', 'Vendido: 0']\n",
      "['ID: 16', 'Produto: Teclado', 'Valor: 66.0', 'Data: 2022-09-04 20:06:58.398870', 'Vendido: 1']\n",
      "['ID: 17', 'Produto: CPU', 'Valor: 85.0', 'Data: 2022-09-04 20:06:58.407864', 'Vendido: 1']\n",
      "['ID: 18', 'Produto: CPU', 'Valor: 74.0', 'Data: 2022-09-04 20:06:58.411860', 'Vendido: 0']\n",
      "['ID: 19', 'Produto: Mouse', 'Valor: 90.0', 'Data: 2022-09-04 20:06:58.417857', 'Vendido: 0']\n",
      "['ID: 20', 'Produto: Mouse', 'Valor: 77.0', 'Data: 2022-09-04 20:06:58.423854', 'Vendido: 0']\n",
      "['ID: 21', 'Produto: CPU', 'Valor: 91.0', 'Data: 2022-09-03 16:26:28.564400', 'Vendido: 1']\n",
      "['ID: 22', 'Produto: CPU', 'Valor: 120.0', 'Data: 2022-09-03 16:26:28.564400', 'Vendido: 0']\n"
     ]
    }
   ],
   "source": [
    "Query = 'DELETE FROM random_table WHERE Produto = \"Câmera\" OR Produto = \"Cabos\"'\n",
    "\n",
    "Conn = sqlite3.connect(arquivo)\n",
    "Cursor = Conn.cursor()\n",
    "\n",
    "# Isso não só deleta como conta quantas alterações foram feitas.\n",
    "print(Cursor.execute(Query).rowcount)\n",
    "\n",
    "Conn.commit()\n",
    "Cursor.close()\n",
    "Conn.close()\n",
    "\n",
    "print()\n",
    "\n",
    "showall(arquivo,tabela)"
   ]
  },
  {
   "cell_type": "markdown",
   "metadata": {},
   "source": [
    "### Erros e Exceções"
   ]
  },
  {
   "cell_type": "markdown",
   "metadata": {},
   "source": [
    "* *DatabaseError*\n",
    "   * Any error related to the database raises the DatabaseError.\n",
    "\n",
    "* *IntegrityError*\n",
    "  * IntegrityError is a subclass of DatabaseError and is raised when there is a data integrity issue. For example, foreign data isn’t updated in all tables resulting in the inconsistency of the data.\n",
    "\n",
    "* *ProgrammingError*\n",
    "  * The exception ProgrammingError raises when there are syntax errors or table is not found or function is called with the wrong number of parameters/ arguments.\n",
    "\n",
    "* *OperationalError*\n",
    "   * This exception is raised when the database operations are failed, for example, unusual disconnection. This is not the fault of the programmers.\n",
    "\n",
    "* *NotSupportedError*\n",
    "   * When you use some methods that aren’t defined or supported by the database, that will raise the NotSupportedError exception."
   ]
  },
  {
   "cell_type": "markdown",
   "metadata": {},
   "source": []
  }
 ],
 "metadata": {
  "kernelspec": {
   "display_name": "Python 3.10.6 64-bit (microsoft store)",
   "language": "python",
   "name": "python3"
  },
  "language_info": {
   "codemirror_mode": {
    "name": "ipython",
    "version": 3
   },
   "file_extension": ".py",
   "mimetype": "text/x-python",
   "name": "python",
   "nbconvert_exporter": "python",
   "pygments_lexer": "ipython3",
   "version": "3.10.6"
  },
  "orig_nbformat": 4,
  "vscode": {
   "interpreter": {
    "hash": "91b18657112df8a6dc2946b9dfe3559ddfc8e1e2117c2c8071424b5e043bd8e1"
   }
  }
 },
 "nbformat": 4,
 "nbformat_minor": 2
}

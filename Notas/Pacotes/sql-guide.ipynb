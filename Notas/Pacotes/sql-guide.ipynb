{
 "cells": [
  {
   "cell_type": "markdown",
   "metadata": {},
   "source": [
    "# Guia de Comandos SQL Aplicados em Python"
   ]
  },
  {
   "cell_type": "markdown",
   "metadata": {},
   "source": []
  },
  {
   "cell_type": "markdown",
   "metadata": {},
   "source": [
    "Pacotes:"
   ]
  },
  {
   "cell_type": "code",
   "execution_count": 1,
   "metadata": {},
   "outputs": [],
   "source": [
    "import os\n",
    "import sqlite3"
   ]
  },
  {
   "cell_type": "markdown",
   "metadata": {},
   "source": [
    "## Criando um exemplo com funções"
   ]
  },
  {
   "cell_type": "code",
   "execution_count": 2,
   "metadata": {},
   "outputs": [],
   "source": [
    "import random\n",
    "import time\n",
    "import datetime"
   ]
  },
  {
   "cell_type": "code",
   "execution_count": 3,
   "metadata": {},
   "outputs": [],
   "source": [
    "#Database e tabela padrões\n",
    "\n",
    "arquivo = r'../ArquivosParalelos/random_tables.db'\n",
    "tabela = 'random_table'"
   ]
  },
  {
   "cell_type": "code",
   "execution_count": 4,
   "metadata": {},
   "outputs": [],
   "source": [
    "# Função para criar um arquivo e a tabela\n",
    "\n",
    "# todas as variáveis são dadas como strings\n",
    "# \"arquivo\" é o diretório e o nome o arquivo db a ser criado\n",
    "# \"tabela\" é o nome da tabela dentro do db\n",
    "# \"colunas\" recebe os nomes das colunas juntamente com suas diretrizes.\n",
    "\n",
    "\n",
    "def create_table(arquivo,tabela,*colunas_parametros):\n",
    "    c = sqlite3.connect(arquivo).cursor() #Cria o arquivo, se ele já não existe, com a conexão e o cursor.\n",
    "    Colunas = ''\n",
    "    for i in colunas_parametros:\n",
    "        Colunas = Colunas+i+', '\n",
    "    Colunas = Colunas[0:-2] #Remove a vírgula e o espaço no final\n",
    "    c.execute(f'CREATE TABLE IF NOT EXISTS {tabela}({Colunas})')\n",
    "    c.close()"
   ]
  },
  {
   "cell_type": "code",
   "execution_count": 5,
   "metadata": {},
   "outputs": [],
   "source": [
    "# Função para inserir dados.\n",
    "\n",
    "# \"arquivo\" é uma sring com o diretório e o nome do DB\n",
    "# \"tabela\" é uma string contendo o nome da tabela\n",
    "# \"colunas\" é uma lista ou tupla com strings contendo os nomes das colunas.\n",
    "# \"valores\" é uma lista ou tupla contendo os valores a serem acrescentados, na ordem das colunas\n",
    "\n",
    "def data_insert_var(arquivo,tabela,colunas,valores):\n",
    "    conn = sqlite3.connect(arquivo)\n",
    "    c = conn.cursor()\n",
    "\n",
    "    Colunas = ''\n",
    "    for i in colunas:\n",
    "        Colunas = Colunas+i+', '\n",
    "    Colunas = Colunas[0:-2]\n",
    "    print(Colunas)\n",
    "\n",
    "    n = ''\n",
    "    for i in range(len(colunas)):\n",
    "        n = n+'?, '\n",
    "    n = n[0:-2]\n",
    "    print(n)\n",
    "\n",
    "    print('')\n",
    "    print(f\"INSERT INTO {tabela} ({Colunas}) VALUES ({n})\")\n",
    "    print(valores)\n",
    "\n",
    "    c.execute(f\"INSERT INTO {tabela} ({Colunas}) VALUES ({n})\", valores)\n",
    "    conn.commit()\n",
    "    c.close()\n",
    "    conn.close()"
   ]
  },
  {
   "cell_type": "code",
   "execution_count": 6,
   "metadata": {},
   "outputs": [],
   "source": [
    "# Função de leitura\n",
    "\n",
    "def showall(arquivo,tabela):\n",
    "    c = sqlite3.connect(arquivo).cursor()\n",
    "    c.execute(f'select * from {tabela}')\n",
    "    data = c.fetchall()\n",
    "\n",
    "    Colunas = [i[0] for i in c.execute(f'select * from {tabela}').description ]\n",
    "    print(\"Colunas\",Colunas)\n",
    "\n",
    "    for i in data:\n",
    "        linha = []\n",
    "        for j,k in zip(Colunas,i):\n",
    "            linha.append(f\"{j}: {k}\")\n",
    "        print(linha)\n",
    "\n",
    "    c.close()"
   ]
  },
  {
   "cell_type": "code",
   "execution_count": 7,
   "metadata": {},
   "outputs": [
    {
     "name": "stdout",
     "output_type": "stream",
     "text": [
      "Produto, Valor, Data\n",
      "?, ?, ?\n",
      "\n",
      "INSERT INTO random_table (Produto, Valor, Data) VALUES (?, ?, ?)\n",
      "('CPU', 55, datetime.datetime(2022, 9, 3, 16, 26, 28, 444472))\n",
      "Produto, Valor, Data\n",
      "?, ?, ?\n",
      "\n",
      "INSERT INTO random_table (Produto, Valor, Data) VALUES (?, ?, ?)\n",
      "('Monitor', 75, datetime.datetime(2022, 9, 3, 16, 26, 28, 451474))\n",
      "Produto, Valor, Data\n",
      "?, ?, ?\n",
      "\n",
      "INSERT INTO random_table (Produto, Valor, Data) VALUES (?, ?, ?)\n",
      "('Teclado', 59, datetime.datetime(2022, 9, 3, 16, 26, 28, 457466))\n",
      "Produto, Valor, Data\n",
      "?, ?, ?\n",
      "\n",
      "INSERT INTO random_table (Produto, Valor, Data) VALUES (?, ?, ?)\n",
      "('Monitor', 87, datetime.datetime(2022, 9, 3, 16, 26, 28, 462462))\n",
      "Produto, Valor, Data\n",
      "?, ?, ?\n",
      "\n",
      "INSERT INTO random_table (Produto, Valor, Data) VALUES (?, ?, ?)\n",
      "('Monitor', 67, datetime.datetime(2022, 9, 3, 16, 26, 28, 469458))\n",
      "Produto, Valor, Data\n",
      "?, ?, ?\n",
      "\n",
      "INSERT INTO random_table (Produto, Valor, Data) VALUES (?, ?, ?)\n",
      "('CPU', 82, datetime.datetime(2022, 9, 3, 16, 26, 28, 478452))\n",
      "Produto, Valor, Data\n",
      "?, ?, ?\n",
      "\n",
      "INSERT INTO random_table (Produto, Valor, Data) VALUES (?, ?, ?)\n",
      "('CPU', 78, datetime.datetime(2022, 9, 3, 16, 26, 28, 489446))\n",
      "Produto, Valor, Data\n",
      "?, ?, ?\n",
      "\n",
      "INSERT INTO random_table (Produto, Valor, Data) VALUES (?, ?, ?)\n",
      "('Mouse', 57, datetime.datetime(2022, 9, 3, 16, 26, 28, 494443))\n",
      "Produto, Valor, Data\n",
      "?, ?, ?\n",
      "\n",
      "INSERT INTO random_table (Produto, Valor, Data) VALUES (?, ?, ?)\n",
      "('Monitor', 74, datetime.datetime(2022, 9, 3, 16, 26, 28, 502438))\n",
      "Produto, Valor, Data\n",
      "?, ?, ?\n",
      "\n",
      "INSERT INTO random_table (Produto, Valor, Data) VALUES (?, ?, ?)\n",
      "('Teclado', 67, datetime.datetime(2022, 9, 3, 16, 26, 28, 507434))\n",
      "Produto, Valor, Data\n",
      "?, ?, ?\n",
      "\n",
      "INSERT INTO random_table (Produto, Valor, Data) VALUES (?, ?, ?)\n",
      "('Mouse', 74, datetime.datetime(2022, 9, 3, 16, 26, 28, 511432))\n",
      "Produto, Valor, Data\n",
      "?, ?, ?\n",
      "\n",
      "INSERT INTO random_table (Produto, Valor, Data) VALUES (?, ?, ?)\n",
      "('CPU', 78, datetime.datetime(2022, 9, 3, 16, 26, 28, 517429))\n",
      "Produto, Valor, Data\n",
      "?, ?, ?\n",
      "\n",
      "INSERT INTO random_table (Produto, Valor, Data) VALUES (?, ?, ?)\n",
      "('Teclado', 76, datetime.datetime(2022, 9, 3, 16, 26, 28, 524424))\n",
      "Produto, Valor, Data\n",
      "?, ?, ?\n",
      "\n",
      "INSERT INTO random_table (Produto, Valor, Data) VALUES (?, ?, ?)\n",
      "('Monitor', 83, datetime.datetime(2022, 9, 3, 16, 26, 28, 531420))\n",
      "Produto, Valor, Data\n",
      "?, ?, ?\n",
      "\n",
      "INSERT INTO random_table (Produto, Valor, Data) VALUES (?, ?, ?)\n",
      "('Monitor', 97, datetime.datetime(2022, 9, 3, 16, 26, 28, 538414))\n",
      "Produto, Valor, Data\n",
      "?, ?, ?\n",
      "\n",
      "INSERT INTO random_table (Produto, Valor, Data) VALUES (?, ?, ?)\n",
      "('CPU', 87, datetime.datetime(2022, 9, 3, 16, 26, 28, 544412))\n",
      "Produto, Valor, Data\n",
      "?, ?, ?\n",
      "\n",
      "INSERT INTO random_table (Produto, Valor, Data) VALUES (?, ?, ?)\n",
      "('Monitor', 71, datetime.datetime(2022, 9, 3, 16, 26, 28, 549408))\n",
      "Produto, Valor, Data\n",
      "?, ?, ?\n",
      "\n",
      "INSERT INTO random_table (Produto, Valor, Data) VALUES (?, ?, ?)\n",
      "('CPU', 54, datetime.datetime(2022, 9, 3, 16, 26, 28, 555404))\n",
      "Produto, Valor, Data\n",
      "?, ?, ?\n",
      "\n",
      "INSERT INTO random_table (Produto, Valor, Data) VALUES (?, ?, ?)\n",
      "('CPU', 95, datetime.datetime(2022, 9, 3, 16, 26, 28, 560402))\n",
      "Produto, Valor, Data\n",
      "?, ?, ?\n",
      "\n",
      "INSERT INTO random_table (Produto, Valor, Data) VALUES (?, ?, ?)\n",
      "('CPU', 91, datetime.datetime(2022, 9, 3, 16, 26, 28, 564400))\n"
     ]
    }
   ],
   "source": [
    "# Criando uma tabela aletória\n",
    "\n",
    "os.remove(r'../ArquivosParalelos/random_tables.db') if os.path.exists(r'../ArquivosParalelos/random_tables.db') else None\n",
    "\n",
    "n = 20 #Número de observações\n",
    "\n",
    "create_table(arquivo,tabela,\"ID INTEGER PRIMARY KEY AUTOINCREMENT NOT NULL\",\"Produto TEXT\",\"Valor REAL\",\"Data TEXT\")\n",
    "\n",
    "for i in range(n): #cria n itens na lista.\n",
    "    new_date = datetime.datetime.now() #cria um objeto contendo a data e a hora atuais.\n",
    "    new_prod_name = random.choice(['Monitor', 'CPU', 'Teclado','Mouse']) #Escolhe um item na lista.\n",
    "    new_value = random.randrange(50,100) #Escolhe um preço para ser um valor do item.\n",
    "\n",
    "    valores = (new_prod_name,new_value,new_date)\n",
    "\n",
    "    data_insert_var(arquivo,tabela,('Produto','Valor','Data'),valores)\n",
    "\n",
    "    time.sleep(0) #aguarda."
   ]
  },
  {
   "cell_type": "code",
   "execution_count": 8,
   "metadata": {},
   "outputs": [
    {
     "name": "stdout",
     "output_type": "stream",
     "text": [
      "Colunas ['ID', 'Produto', 'Valor', 'Data']\n",
      "['ID: 1', 'Produto: CPU', 'Valor: 55.0', 'Data: 2022-09-03 16:26:28.444472']\n",
      "['ID: 2', 'Produto: Monitor', 'Valor: 75.0', 'Data: 2022-09-03 16:26:28.451474']\n",
      "['ID: 3', 'Produto: Teclado', 'Valor: 59.0', 'Data: 2022-09-03 16:26:28.457466']\n",
      "['ID: 4', 'Produto: Monitor', 'Valor: 87.0', 'Data: 2022-09-03 16:26:28.462462']\n",
      "['ID: 5', 'Produto: Monitor', 'Valor: 67.0', 'Data: 2022-09-03 16:26:28.469458']\n",
      "['ID: 6', 'Produto: CPU', 'Valor: 82.0', 'Data: 2022-09-03 16:26:28.478452']\n",
      "['ID: 7', 'Produto: CPU', 'Valor: 78.0', 'Data: 2022-09-03 16:26:28.489446']\n",
      "['ID: 8', 'Produto: Mouse', 'Valor: 57.0', 'Data: 2022-09-03 16:26:28.494443']\n",
      "['ID: 9', 'Produto: Monitor', 'Valor: 74.0', 'Data: 2022-09-03 16:26:28.502438']\n",
      "['ID: 10', 'Produto: Teclado', 'Valor: 67.0', 'Data: 2022-09-03 16:26:28.507434']\n",
      "['ID: 11', 'Produto: Mouse', 'Valor: 74.0', 'Data: 2022-09-03 16:26:28.511432']\n",
      "['ID: 12', 'Produto: CPU', 'Valor: 78.0', 'Data: 2022-09-03 16:26:28.517429']\n",
      "['ID: 13', 'Produto: Teclado', 'Valor: 76.0', 'Data: 2022-09-03 16:26:28.524424']\n",
      "['ID: 14', 'Produto: Monitor', 'Valor: 83.0', 'Data: 2022-09-03 16:26:28.531420']\n",
      "['ID: 15', 'Produto: Monitor', 'Valor: 97.0', 'Data: 2022-09-03 16:26:28.538414']\n",
      "['ID: 16', 'Produto: CPU', 'Valor: 87.0', 'Data: 2022-09-03 16:26:28.544412']\n",
      "['ID: 17', 'Produto: Monitor', 'Valor: 71.0', 'Data: 2022-09-03 16:26:28.549408']\n",
      "['ID: 18', 'Produto: CPU', 'Valor: 54.0', 'Data: 2022-09-03 16:26:28.555404']\n",
      "['ID: 19', 'Produto: CPU', 'Valor: 95.0', 'Data: 2022-09-03 16:26:28.560402']\n",
      "['ID: 20', 'Produto: CPU', 'Valor: 91.0', 'Data: 2022-09-03 16:26:28.564400']\n"
     ]
    }
   ],
   "source": [
    "# Vendo a tabela.\n",
    "\n",
    "showall(arquivo,tabela)"
   ]
  },
  {
   "cell_type": "code",
   "execution_count": 14,
   "metadata": {},
   "outputs": [],
   "source": [
    "# Função para mostrar apenas o Fetchall\n",
    "\n",
    "def Execute_and_Show(Query,arquivo):\n",
    "    Cursor = sqlite3.connect(arquivo).cursor()\n",
    "    Cursor.execute(Query)\n",
    "    for i in Cursor.execute(Query).description:\n",
    "        print(i)\n",
    "    for i in Cursor.fetchall():\n",
    "        print(i)\n",
    "    Cursor.close()"
   ]
  },
  {
   "cell_type": "code",
   "execution_count": 15,
   "metadata": {},
   "outputs": [],
   "source": [
    "# Função para executar e enviar ao DB.\n",
    "\n",
    "def Execute_and_Commit(Query,arquivo):\n",
    "    Conn = sqlite3.connect(arquivo)\n",
    "    Cursor = Conn.cursor()\n",
    "    Cursor.execute(Query)\n",
    "    Conn.commit()\n",
    "    Cursor.close()\n",
    "    Conn.close()"
   ]
  },
  {
   "cell_type": "markdown",
   "metadata": {},
   "source": [
    "## Sobre o SQLite3"
   ]
  },
  {
   "cell_type": "markdown",
   "metadata": {},
   "source": [
    "Conexão com a memória."
   ]
  },
  {
   "cell_type": "code",
   "execution_count": 10,
   "metadata": {},
   "outputs": [],
   "source": [
    "con_mem = sqlite3.connect(':memory:')\n",
    "\n",
    "###\n",
    "\n",
    "con_mem.close()"
   ]
  },
  {
   "cell_type": "markdown",
   "metadata": {},
   "source": [
    "## Queries"
   ]
  },
  {
   "cell_type": "markdown",
   "metadata": {},
   "source": [
    "### Demonstração"
   ]
  },
  {
   "cell_type": "code",
   "execution_count": 11,
   "metadata": {},
   "outputs": [],
   "source": [
    "conn = sqlite3.connect(r'../ArquivosParalelos/random_tables.db')\n",
    "c = conn.cursor()"
   ]
  },
  {
   "cell_type": "code",
   "execution_count": 13,
   "metadata": {},
   "outputs": [
    {
     "name": "stdout",
     "output_type": "stream",
     "text": [
      "('ID', None, None, None, None, None, None)\n",
      "('Produto', None, None, None, None, None, None)\n",
      "('Valor', None, None, None, None, None, None)\n",
      "('Data', None, None, None, None, None, None)\n",
      "(1, 'CPU', 55.0, '2022-09-03 16:26:28.444472')\n",
      "(2, 'Monitor', 75.0, '2022-09-03 16:26:28.451474')\n",
      "(3, 'Teclado', 59.0, '2022-09-03 16:26:28.457466')\n",
      "(4, 'Monitor', 87.0, '2022-09-03 16:26:28.462462')\n",
      "(5, 'Monitor', 67.0, '2022-09-03 16:26:28.469458')\n",
      "(6, 'CPU', 82.0, '2022-09-03 16:26:28.478452')\n",
      "(7, 'CPU', 78.0, '2022-09-03 16:26:28.489446')\n",
      "(8, 'Mouse', 57.0, '2022-09-03 16:26:28.494443')\n",
      "(9, 'Monitor', 74.0, '2022-09-03 16:26:28.502438')\n",
      "(10, 'Teclado', 67.0, '2022-09-03 16:26:28.507434')\n",
      "(11, 'Mouse', 74.0, '2022-09-03 16:26:28.511432')\n",
      "(12, 'CPU', 78.0, '2022-09-03 16:26:28.517429')\n",
      "(13, 'Teclado', 76.0, '2022-09-03 16:26:28.524424')\n",
      "(14, 'Monitor', 83.0, '2022-09-03 16:26:28.531420')\n",
      "(15, 'Monitor', 97.0, '2022-09-03 16:26:28.538414')\n",
      "(16, 'CPU', 87.0, '2022-09-03 16:26:28.544412')\n",
      "(17, 'Monitor', 71.0, '2022-09-03 16:26:28.549408')\n",
      "(18, 'CPU', 54.0, '2022-09-03 16:26:28.555404')\n",
      "(19, 'CPU', 95.0, '2022-09-03 16:26:28.560402')\n",
      "(20, 'CPU', 91.0, '2022-09-03 16:26:28.564400')\n"
     ]
    }
   ],
   "source": [
    "# Mostrar todos os dados\n",
    "\n",
    "Query = \"SELECT * FROM random_table\"\n",
    "\n",
    "Execute_and_Show(Query,arquivo)"
   ]
  },
  {
   "cell_type": "markdown",
   "metadata": {},
   "source": [
    "### Criação"
   ]
  },
  {
   "cell_type": "markdown",
   "metadata": {},
   "source": []
  },
  {
   "cell_type": "markdown",
   "metadata": {},
   "source": [
    "### Adição"
   ]
  },
  {
   "cell_type": "code",
   "execution_count": null,
   "metadata": {},
   "outputs": [],
   "source": [
    "\n",
    "\n",
    "Execute_and_Commit(Query,arquivo)"
   ]
  },
  {
   "cell_type": "markdown",
   "metadata": {},
   "source": [
    "### Alteração"
   ]
  },
  {
   "cell_type": "markdown",
   "metadata": {},
   "source": []
  }
 ],
 "metadata": {
  "kernelspec": {
   "display_name": "Python 3.10.6 64-bit (microsoft store)",
   "language": "python",
   "name": "python3"
  },
  "language_info": {
   "codemirror_mode": {
    "name": "ipython",
    "version": 3
   },
   "file_extension": ".py",
   "mimetype": "text/x-python",
   "name": "python",
   "nbconvert_exporter": "python",
   "pygments_lexer": "ipython3",
   "version": "3.10.6"
  },
  "orig_nbformat": 4,
  "vscode": {
   "interpreter": {
    "hash": "91b18657112df8a6dc2946b9dfe3559ddfc8e1e2117c2c8071424b5e043bd8e1"
   }
  }
 },
 "nbformat": 4,
 "nbformat_minor": 2
}

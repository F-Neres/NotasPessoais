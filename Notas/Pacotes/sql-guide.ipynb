{
 "cells": [
  {
   "cell_type": "markdown",
   "metadata": {},
   "source": [
    "# Guia de Comandos SQL Aplicados em Python"
   ]
  },
  {
   "cell_type": "markdown",
   "metadata": {},
   "source": [
    "* [Demonstração](#Demo)\n",
    "* Criação\n",
    "* Adição e Remoção\n",
    "* Alteração\n",
    "* Filtros e Operadores Lógicos"
   ]
  },
  {
   "cell_type": "markdown",
   "metadata": {},
   "source": [
    "Pacotes:"
   ]
  },
  {
   "cell_type": "code",
   "execution_count": 1,
   "metadata": {},
   "outputs": [],
   "source": [
    "import os\n",
    "import sqlite3"
   ]
  },
  {
   "cell_type": "markdown",
   "metadata": {},
   "source": [
    "## Criando um exemplo com funções"
   ]
  },
  {
   "cell_type": "code",
   "execution_count": 2,
   "metadata": {},
   "outputs": [],
   "source": [
    "import random\n",
    "import time\n",
    "import datetime"
   ]
  },
  {
   "cell_type": "code",
   "execution_count": 3,
   "metadata": {},
   "outputs": [],
   "source": [
    "#Database e tabela padrões\n",
    "\n",
    "arquivo = r'../ArquivosParalelos/random_tables.db'\n",
    "tabela = 'random_table'"
   ]
  },
  {
   "cell_type": "code",
   "execution_count": 4,
   "metadata": {},
   "outputs": [],
   "source": [
    "# Função para criar um arquivo e a tabela\n",
    "\n",
    "# todas as variáveis são dadas como strings\n",
    "# \"arquivo\" é o diretório e o nome o arquivo db a ser criado\n",
    "# \"tabela\" é o nome da tabela dentro do db\n",
    "# \"colunas\" recebe os nomes das colunas juntamente com suas diretrizes.\n",
    "\n",
    "\n",
    "def create_table(arquivo,tabela,*colunas_parametros):\n",
    "    c = sqlite3.connect(arquivo).cursor() #Cria o arquivo, se ele já não existe, com a conexão e o cursor.\n",
    "    Colunas = ''\n",
    "    for i in colunas_parametros:\n",
    "        Colunas = Colunas+i+', '\n",
    "    Colunas = Colunas[0:-2] #Remove a vírgula e o espaço no final\n",
    "    c.execute(f'CREATE TABLE IF NOT EXISTS {tabela}({Colunas})')\n",
    "    c.close()"
   ]
  },
  {
   "cell_type": "code",
   "execution_count": 5,
   "metadata": {},
   "outputs": [],
   "source": [
    "# Função para inserir dados.\n",
    "\n",
    "# \"arquivo\" é uma sring com o diretório e o nome do DB\n",
    "# \"tabela\" é uma string contendo o nome da tabela\n",
    "# \"colunas\" é uma lista ou tupla com strings contendo os nomes das colunas.\n",
    "# \"valores\" é uma lista ou tupla contendo os valores a serem acrescentados, na ordem das colunas\n",
    "\n",
    "def data_insert_var(arquivo,tabela,colunas,valores):\n",
    "    conn = sqlite3.connect(arquivo)\n",
    "    c = conn.cursor()\n",
    "\n",
    "    Colunas = ''\n",
    "    for i in colunas:\n",
    "        Colunas = Colunas+i+', '\n",
    "    Colunas = Colunas[0:-2]\n",
    "    print(Colunas)\n",
    "\n",
    "    n = ''\n",
    "    for i in range(len(colunas)):\n",
    "        n = n+'?, '\n",
    "    n = n[0:-2]\n",
    "    print(n)\n",
    "\n",
    "    print('')\n",
    "    print(f\"INSERT INTO {tabela} ({Colunas}) VALUES ({n})\")\n",
    "    print(valores)\n",
    "\n",
    "    c.execute(f\"INSERT INTO {tabela} ({Colunas}) VALUES ({n})\", valores)\n",
    "    conn.commit()\n",
    "    c.close()\n",
    "    conn.close()"
   ]
  },
  {
   "cell_type": "code",
   "execution_count": 6,
   "metadata": {},
   "outputs": [],
   "source": [
    "# Função de leitura\n",
    "\n",
    "def showall(arquivo,tabela):\n",
    "    c = sqlite3.connect(arquivo).cursor()\n",
    "    c.execute(f'select * from {tabela}')\n",
    "    data = c.fetchall()\n",
    "\n",
    "    Colunas = [i[0] for i in c.execute(f'select * from {tabela}').description ]\n",
    "    print(\"Colunas\",Colunas)\n",
    "\n",
    "    for i in data:\n",
    "        linha = []\n",
    "        for j,k in zip(Colunas,i):\n",
    "            linha.append(f\"{j}: {k}\")\n",
    "        print(linha)\n",
    "\n",
    "    c.close()"
   ]
  },
  {
   "cell_type": "code",
   "execution_count": 7,
   "metadata": {},
   "outputs": [
    {
     "name": "stdout",
     "output_type": "stream",
     "text": [
      "Produto, Valor, Data, Vendido\n",
      "?, ?, ?, ?\n",
      "\n",
      "INSERT INTO random_table (Produto, Valor, Data, Vendido) VALUES (?, ?, ?, ?)\n",
      "('Monitor', 71, datetime.datetime(2022, 9, 13, 16, 17, 59, 754015), 0)\n",
      "Produto, Valor, Data, Vendido\n",
      "?, ?, ?, ?\n",
      "\n",
      "INSERT INTO random_table (Produto, Valor, Data, Vendido) VALUES (?, ?, ?, ?)\n",
      "('Teclado', 73, datetime.datetime(2022, 9, 13, 16, 17, 59, 760010), 0)\n",
      "Produto, Valor, Data, Vendido\n",
      "?, ?, ?, ?\n",
      "\n",
      "INSERT INTO random_table (Produto, Valor, Data, Vendido) VALUES (?, ?, ?, ?)\n",
      "('Monitor', 86, datetime.datetime(2022, 9, 13, 16, 17, 59, 827968), 0)\n",
      "Produto, Valor, Data, Vendido\n",
      "?, ?, ?, ?\n",
      "\n",
      "INSERT INTO random_table (Produto, Valor, Data, Vendido) VALUES (?, ?, ?, ?)\n",
      "('CPU', 63, datetime.datetime(2022, 9, 13, 16, 17, 59, 986871), 1)\n",
      "Produto, Valor, Data, Vendido\n",
      "?, ?, ?, ?\n",
      "\n",
      "INSERT INTO random_table (Produto, Valor, Data, Vendido) VALUES (?, ?, ?, ?)\n",
      "('Teclado', 91, datetime.datetime(2022, 9, 13, 16, 18, 0, 44834), 1)\n",
      "Produto, Valor, Data, Vendido\n",
      "?, ?, ?, ?\n",
      "\n",
      "INSERT INTO random_table (Produto, Valor, Data, Vendido) VALUES (?, ?, ?, ?)\n",
      "('Monitor', 78, datetime.datetime(2022, 9, 13, 16, 18, 0, 84810), 0)\n",
      "Produto, Valor, Data, Vendido\n",
      "?, ?, ?, ?\n",
      "\n",
      "INSERT INTO random_table (Produto, Valor, Data, Vendido) VALUES (?, ?, ?, ?)\n",
      "('CPU', 90, datetime.datetime(2022, 9, 13, 16, 18, 0, 201738), 1)\n",
      "Produto, Valor, Data, Vendido\n",
      "?, ?, ?, ?\n",
      "\n",
      "INSERT INTO random_table (Produto, Valor, Data, Vendido) VALUES (?, ?, ?, ?)\n",
      "('CPU', 94, datetime.datetime(2022, 9, 13, 16, 18, 0, 246709), 1)\n",
      "Produto, Valor, Data, Vendido\n",
      "?, ?, ?, ?\n",
      "\n",
      "INSERT INTO random_table (Produto, Valor, Data, Vendido) VALUES (?, ?, ?, ?)\n",
      "('Teclado', 57, datetime.datetime(2022, 9, 13, 16, 18, 0, 270695), 1)\n",
      "Produto, Valor, Data, Vendido\n",
      "?, ?, ?, ?\n",
      "\n",
      "INSERT INTO random_table (Produto, Valor, Data, Vendido) VALUES (?, ?, ?, ?)\n",
      "('CPU', 50, datetime.datetime(2022, 9, 13, 16, 18, 0, 302675), 0)\n",
      "Produto, Valor, Data, Vendido\n",
      "?, ?, ?, ?\n",
      "\n",
      "INSERT INTO random_table (Produto, Valor, Data, Vendido) VALUES (?, ?, ?, ?)\n",
      "('Monitor', 59, datetime.datetime(2022, 9, 13, 16, 18, 0, 320664), 0)\n",
      "Produto, Valor, Data, Vendido\n",
      "?, ?, ?, ?\n",
      "\n",
      "INSERT INTO random_table (Produto, Valor, Data, Vendido) VALUES (?, ?, ?, ?)\n",
      "('Monitor', 58, datetime.datetime(2022, 9, 13, 16, 18, 0, 351644), 1)\n",
      "Produto, Valor, Data, Vendido\n",
      "?, ?, ?, ?\n",
      "\n",
      "INSERT INTO random_table (Produto, Valor, Data, Vendido) VALUES (?, ?, ?, ?)\n",
      "('Mouse', 74, datetime.datetime(2022, 9, 13, 16, 18, 0, 368634), 0)\n",
      "Produto, Valor, Data, Vendido\n",
      "?, ?, ?, ?\n",
      "\n",
      "INSERT INTO random_table (Produto, Valor, Data, Vendido) VALUES (?, ?, ?, ?)\n",
      "('Mouse', 80, datetime.datetime(2022, 9, 13, 16, 18, 0, 394619), 0)\n",
      "Produto, Valor, Data, Vendido\n",
      "?, ?, ?, ?\n",
      "\n",
      "INSERT INTO random_table (Produto, Valor, Data, Vendido) VALUES (?, ?, ?, ?)\n",
      "('Monitor', 56, datetime.datetime(2022, 9, 13, 16, 18, 0, 414607), 1)\n",
      "Produto, Valor, Data, Vendido\n",
      "?, ?, ?, ?\n",
      "\n",
      "INSERT INTO random_table (Produto, Valor, Data, Vendido) VALUES (?, ?, ?, ?)\n",
      "('Monitor', 75, datetime.datetime(2022, 9, 13, 16, 18, 0, 435593), 0)\n",
      "Produto, Valor, Data, Vendido\n",
      "?, ?, ?, ?\n",
      "\n",
      "INSERT INTO random_table (Produto, Valor, Data, Vendido) VALUES (?, ?, ?, ?)\n",
      "('Monitor', 67, datetime.datetime(2022, 9, 13, 16, 18, 0, 453581), 0)\n",
      "Produto, Valor, Data, Vendido\n",
      "?, ?, ?, ?\n",
      "\n",
      "INSERT INTO random_table (Produto, Valor, Data, Vendido) VALUES (?, ?, ?, ?)\n",
      "('Monitor', 80, datetime.datetime(2022, 9, 13, 16, 18, 0, 495555), 0)\n",
      "Produto, Valor, Data, Vendido\n",
      "?, ?, ?, ?\n",
      "\n",
      "INSERT INTO random_table (Produto, Valor, Data, Vendido) VALUES (?, ?, ?, ?)\n",
      "('Teclado', 67, datetime.datetime(2022, 9, 13, 16, 18, 0, 521540), 1)\n",
      "Produto, Valor, Data, Vendido\n",
      "?, ?, ?, ?\n",
      "\n",
      "INSERT INTO random_table (Produto, Valor, Data, Vendido) VALUES (?, ?, ?, ?)\n",
      "('Mouse', 91, datetime.datetime(2022, 9, 13, 16, 18, 0, 607487), 0)\n"
     ]
    }
   ],
   "source": [
    "# Criando uma tabela-pai aletória\n",
    "\n",
    "os.remove(r'../ArquivosParalelos/random_tables.db') if os.path.exists(r'../ArquivosParalelos/random_tables.db') else None\n",
    "\n",
    "n = 20 #Número de observações\n",
    "\n",
    "create_table(arquivo,tabela,\"ID INTEGER PRIMARY KEY AUTOINCREMENT NOT NULL\",\"Produto TEXT\",\"Valor REAL\",\"Data DATE\",\"Vendido BIT NOT NULL\")\n",
    "#create_table(arquivo,tabela,\"ID INTEGER PRIMARY KEY NOT NULL\",\"Produto TEXT\",\"Valor REAL\",\"Data TEXT\")\n",
    "\n",
    "for i in range(n): #cria n itens na lista.\n",
    "    new_date = datetime.datetime.now() #cria um objeto contendo a data e a hora atuais.\n",
    "    new_prod_name = random.choice(['Monitor', 'CPU', 'Teclado','Mouse']) #Escolhe um item na lista.\n",
    "    new_value = random.randrange(50,100) #Escolhe um preço para ser um valor do item.\n",
    "    new_bool = random.choice([0,1]) #Escolhe um valor bit aleatório\n",
    "\n",
    "    valores = (new_prod_name,new_value,new_date,new_bool)\n",
    "\n",
    "    data_insert_var(arquivo,tabela,('Produto','Valor','Data','Vendido'),valores)\n",
    "\n",
    "    time.sleep(0) #aguarda."
   ]
  },
  {
   "cell_type": "code",
   "execution_count": 8,
   "metadata": {},
   "outputs": [
    {
     "name": "stdout",
     "output_type": "stream",
     "text": [
      "[('Monitor',), ('Teclado',), ('Monitor',), ('CPU',), ('Teclado',), ('Monitor',), ('CPU',), ('CPU',), ('Teclado',), ('CPU',), ('Monitor',), ('Monitor',), ('Mouse',), ('Mouse',), ('Monitor',), ('Monitor',), ('Monitor',), ('Monitor',), ('Teclado',), ('Mouse',)]\n"
     ]
    }
   ],
   "source": [
    "Query = \"SELECT Produto FROM random_table\"\n",
    "\n",
    "print(sqlite3.connect(arquivo).cursor().execute(Query).fetchall())"
   ]
  },
  {
   "cell_type": "code",
   "execution_count": 9,
   "metadata": {},
   "outputs": [
    {
     "name": "stdout",
     "output_type": "stream",
     "text": [
      "[1, 2, 3, 4, 5, 6, 7, 8, 9, 10, 11, 12, 13, 14, 15, 16, 17, 18, 19, 20]\n",
      "Desconto, Data, ProdutoID\n",
      "?, ?, ?\n",
      "\n",
      "INSERT INTO child_table (Desconto, Data, ProdutoID) VALUES (?, ?, ?)\n",
      "(0, datetime.datetime(2022, 9, 13, 16, 22, 6, 378087), 5)\n",
      "Desconto, Data, ProdutoID\n",
      "?, ?, ?\n",
      "\n",
      "INSERT INTO child_table (Desconto, Data, ProdutoID) VALUES (?, ?, ?)\n",
      "(0, datetime.datetime(2022, 9, 13, 16, 22, 6, 384082), 20)\n",
      "Desconto, Data, ProdutoID\n",
      "?, ?, ?\n",
      "\n",
      "INSERT INTO child_table (Desconto, Data, ProdutoID) VALUES (?, ?, ?)\n",
      "(14, datetime.datetime(2022, 9, 13, 16, 22, 6, 390079), 14)\n",
      "Desconto, Data, ProdutoID\n",
      "?, ?, ?\n",
      "\n",
      "INSERT INTO child_table (Desconto, Data, ProdutoID) VALUES (?, ?, ?)\n",
      "(19, datetime.datetime(2022, 9, 13, 16, 22, 6, 397075), 20)\n",
      "Desconto, Data, ProdutoID\n",
      "?, ?, ?\n",
      "\n",
      "INSERT INTO child_table (Desconto, Data, ProdutoID) VALUES (?, ?, ?)\n",
      "(3, datetime.datetime(2022, 9, 13, 16, 22, 6, 403070), 6)\n",
      "Desconto, Data, ProdutoID\n",
      "?, ?, ?\n",
      "\n",
      "INSERT INTO child_table (Desconto, Data, ProdutoID) VALUES (?, ?, ?)\n",
      "(7, datetime.datetime(2022, 9, 13, 16, 22, 6, 409068), 12)\n",
      "Desconto, Data, ProdutoID\n",
      "?, ?, ?\n",
      "\n",
      "INSERT INTO child_table (Desconto, Data, ProdutoID) VALUES (?, ?, ?)\n",
      "(1, datetime.datetime(2022, 9, 13, 16, 22, 6, 416063), 2)\n",
      "Desconto, Data, ProdutoID\n",
      "?, ?, ?\n",
      "\n",
      "INSERT INTO child_table (Desconto, Data, ProdutoID) VALUES (?, ?, ?)\n",
      "(11, datetime.datetime(2022, 9, 13, 16, 22, 6, 423058), 11)\n",
      "Desconto, Data, ProdutoID\n",
      "?, ?, ?\n",
      "\n",
      "INSERT INTO child_table (Desconto, Data, ProdutoID) VALUES (?, ?, ?)\n",
      "(20, datetime.datetime(2022, 9, 13, 16, 22, 6, 429055), 15)\n",
      "Desconto, Data, ProdutoID\n",
      "?, ?, ?\n",
      "\n",
      "INSERT INTO child_table (Desconto, Data, ProdutoID) VALUES (?, ?, ?)\n",
      "(18, datetime.datetime(2022, 9, 13, 16, 22, 6, 436051), 16)\n",
      "Desconto, Data, ProdutoID\n",
      "?, ?, ?\n",
      "\n",
      "INSERT INTO child_table (Desconto, Data, ProdutoID) VALUES (?, ?, ?)\n",
      "(1, datetime.datetime(2022, 9, 13, 16, 22, 6, 446045), 11)\n",
      "Desconto, Data, ProdutoID\n",
      "?, ?, ?\n",
      "\n",
      "INSERT INTO child_table (Desconto, Data, ProdutoID) VALUES (?, ?, ?)\n",
      "(19, datetime.datetime(2022, 9, 13, 16, 22, 6, 452040), 19)\n",
      "Desconto, Data, ProdutoID\n",
      "?, ?, ?\n",
      "\n",
      "INSERT INTO child_table (Desconto, Data, ProdutoID) VALUES (?, ?, ?)\n",
      "(20, datetime.datetime(2022, 9, 13, 16, 22, 6, 459036), 18)\n",
      "Desconto, Data, ProdutoID\n",
      "?, ?, ?\n",
      "\n",
      "INSERT INTO child_table (Desconto, Data, ProdutoID) VALUES (?, ?, ?)\n",
      "(23, datetime.datetime(2022, 9, 13, 16, 22, 6, 466032), 4)\n",
      "Desconto, Data, ProdutoID\n",
      "?, ?, ?\n",
      "\n",
      "INSERT INTO child_table (Desconto, Data, ProdutoID) VALUES (?, ?, ?)\n",
      "(19, datetime.datetime(2022, 9, 13, 16, 22, 6, 474027), 12)\n",
      "Desconto, Data, ProdutoID\n",
      "?, ?, ?\n",
      "\n",
      "INSERT INTO child_table (Desconto, Data, ProdutoID) VALUES (?, ?, ?)\n",
      "(19, datetime.datetime(2022, 9, 13, 16, 22, 6, 480023), 1)\n",
      "Desconto, Data, ProdutoID\n",
      "?, ?, ?\n",
      "\n",
      "INSERT INTO child_table (Desconto, Data, ProdutoID) VALUES (?, ?, ?)\n",
      "(7, datetime.datetime(2022, 9, 13, 16, 22, 6, 486020), 5)\n",
      "Desconto, Data, ProdutoID\n",
      "?, ?, ?\n",
      "\n",
      "INSERT INTO child_table (Desconto, Data, ProdutoID) VALUES (?, ?, ?)\n",
      "(10, datetime.datetime(2022, 9, 13, 16, 22, 6, 492016), 9)\n",
      "Desconto, Data, ProdutoID\n",
      "?, ?, ?\n",
      "\n",
      "INSERT INTO child_table (Desconto, Data, ProdutoID) VALUES (?, ?, ?)\n",
      "(23, datetime.datetime(2022, 9, 13, 16, 22, 6, 499011), 15)\n",
      "Desconto, Data, ProdutoID\n",
      "?, ?, ?\n",
      "\n",
      "INSERT INTO child_table (Desconto, Data, ProdutoID) VALUES (?, ?, ?)\n",
      "(2, datetime.datetime(2022, 9, 13, 16, 22, 6, 506008), 7)\n",
      "Desconto, Data, ProdutoID\n",
      "?, ?, ?\n",
      "\n",
      "INSERT INTO child_table (Desconto, Data, ProdutoID) VALUES (?, ?, ?)\n",
      "(23, datetime.datetime(2022, 9, 13, 16, 22, 6, 513003), 11)\n",
      "Desconto, Data, ProdutoID\n",
      "?, ?, ?\n",
      "\n",
      "INSERT INTO child_table (Desconto, Data, ProdutoID) VALUES (?, ?, ?)\n",
      "(22, datetime.datetime(2022, 9, 13, 16, 22, 6, 519000), 15)\n",
      "Desconto, Data, ProdutoID\n",
      "?, ?, ?\n",
      "\n",
      "INSERT INTO child_table (Desconto, Data, ProdutoID) VALUES (?, ?, ?)\n",
      "(3, datetime.datetime(2022, 9, 13, 16, 22, 6, 524995), 10)\n",
      "Desconto, Data, ProdutoID\n",
      "?, ?, ?\n",
      "\n",
      "INSERT INTO child_table (Desconto, Data, ProdutoID) VALUES (?, ?, ?)\n",
      "(12, datetime.datetime(2022, 9, 13, 16, 22, 6, 533990), 1)\n",
      "Desconto, Data, ProdutoID\n",
      "?, ?, ?\n",
      "\n",
      "INSERT INTO child_table (Desconto, Data, ProdutoID) VALUES (?, ?, ?)\n",
      "(16, datetime.datetime(2022, 9, 13, 16, 22, 6, 540985), 15)\n",
      "Desconto, Data, ProdutoID\n",
      "?, ?, ?\n",
      "\n",
      "INSERT INTO child_table (Desconto, Data, ProdutoID) VALUES (?, ?, ?)\n",
      "(21, datetime.datetime(2022, 9, 13, 16, 22, 6, 574964), 15)\n",
      "Desconto, Data, ProdutoID\n",
      "?, ?, ?\n",
      "\n",
      "INSERT INTO child_table (Desconto, Data, ProdutoID) VALUES (?, ?, ?)\n",
      "(11, datetime.datetime(2022, 9, 13, 16, 22, 6, 608943), 3)\n",
      "Desconto, Data, ProdutoID\n",
      "?, ?, ?\n",
      "\n",
      "INSERT INTO child_table (Desconto, Data, ProdutoID) VALUES (?, ?, ?)\n",
      "(5, datetime.datetime(2022, 9, 13, 16, 22, 6, 615940), 13)\n",
      "Desconto, Data, ProdutoID\n",
      "?, ?, ?\n",
      "\n",
      "INSERT INTO child_table (Desconto, Data, ProdutoID) VALUES (?, ?, ?)\n",
      "(5, datetime.datetime(2022, 9, 13, 16, 22, 6, 620936), 20)\n",
      "Desconto, Data, ProdutoID\n",
      "?, ?, ?\n",
      "\n",
      "INSERT INTO child_table (Desconto, Data, ProdutoID) VALUES (?, ?, ?)\n",
      "(0, datetime.datetime(2022, 9, 13, 16, 22, 6, 627932), 6)\n"
     ]
    }
   ],
   "source": [
    "# Criando uma tabela-filha aletória\n",
    "\n",
    "Produtos = sqlite3.connect(arquivo).cursor().execute(\"SELECT ID FROM random_table\").fetchall()\n",
    "ProdID = [i[0] for i in Produtos]\n",
    "#for i in Produtos:\n",
    "#    ProdID.append(i[0])\n",
    "print(ProdID)\n",
    "\n",
    "Query = \"CREATE TABLE IF NOT EXISTS child_table (ID INTEGER PRIMARY KEY AUTOINCREMENT NOT NULL, Desconto REAL, Data DATE, ProdutoID INTEGER NOT NULL, FOREIGN KEY (ProdutoID) REFERENCES random_table(ID))\"\n",
    "\n",
    "conn = sqlite3.connect(arquivo)\n",
    "curs = conn.cursor()\n",
    "curs.execute(Query)\n",
    "conn.commit()\n",
    "curs.close()\n",
    "conn.close()\n",
    "\n",
    "n=30\n",
    "for i in range(n): #cria n itens na lista.\n",
    "    new_date = datetime.datetime.now() #cria um objeto contendo a data e a hora atuais.\n",
    "    new_value = random.randrange(0,25) #Escolhe um preço para ser um valor do item.\n",
    "    new_from_list = random.choice(ProdID) #Escolhe um valor bit aleatório\n",
    "\n",
    "    valores = (new_value,new_date,new_from_list)\n",
    "\n",
    "    data_insert_var(arquivo,'child_table',('Desconto','Data','ProdutoID'),valores)"
   ]
  },
  {
   "cell_type": "code",
   "execution_count": 10,
   "metadata": {},
   "outputs": [
    {
     "name": "stdout",
     "output_type": "stream",
     "text": [
      "Colunas ['ID', 'Produto', 'Valor', 'Data', 'Vendido']\n",
      "['ID: 1', 'Produto: Monitor', 'Valor: 71.0', 'Data: 2022-09-13 16:17:59.754015', 'Vendido: 0']\n",
      "['ID: 2', 'Produto: Teclado', 'Valor: 73.0', 'Data: 2022-09-13 16:17:59.760010', 'Vendido: 0']\n",
      "['ID: 3', 'Produto: Monitor', 'Valor: 86.0', 'Data: 2022-09-13 16:17:59.827968', 'Vendido: 0']\n",
      "['ID: 4', 'Produto: CPU', 'Valor: 63.0', 'Data: 2022-09-13 16:17:59.986871', 'Vendido: 1']\n",
      "['ID: 5', 'Produto: Teclado', 'Valor: 91.0', 'Data: 2022-09-13 16:18:00.044834', 'Vendido: 1']\n",
      "['ID: 6', 'Produto: Monitor', 'Valor: 78.0', 'Data: 2022-09-13 16:18:00.084810', 'Vendido: 0']\n",
      "['ID: 7', 'Produto: CPU', 'Valor: 90.0', 'Data: 2022-09-13 16:18:00.201738', 'Vendido: 1']\n",
      "['ID: 8', 'Produto: CPU', 'Valor: 94.0', 'Data: 2022-09-13 16:18:00.246709', 'Vendido: 1']\n",
      "['ID: 9', 'Produto: Teclado', 'Valor: 57.0', 'Data: 2022-09-13 16:18:00.270695', 'Vendido: 1']\n",
      "['ID: 10', 'Produto: CPU', 'Valor: 50.0', 'Data: 2022-09-13 16:18:00.302675', 'Vendido: 0']\n",
      "['ID: 11', 'Produto: Monitor', 'Valor: 59.0', 'Data: 2022-09-13 16:18:00.320664', 'Vendido: 0']\n",
      "['ID: 12', 'Produto: Monitor', 'Valor: 58.0', 'Data: 2022-09-13 16:18:00.351644', 'Vendido: 1']\n",
      "['ID: 13', 'Produto: Mouse', 'Valor: 74.0', 'Data: 2022-09-13 16:18:00.368634', 'Vendido: 0']\n",
      "['ID: 14', 'Produto: Mouse', 'Valor: 80.0', 'Data: 2022-09-13 16:18:00.394619', 'Vendido: 0']\n",
      "['ID: 15', 'Produto: Monitor', 'Valor: 56.0', 'Data: 2022-09-13 16:18:00.414607', 'Vendido: 1']\n",
      "['ID: 16', 'Produto: Monitor', 'Valor: 75.0', 'Data: 2022-09-13 16:18:00.435593', 'Vendido: 0']\n",
      "['ID: 17', 'Produto: Monitor', 'Valor: 67.0', 'Data: 2022-09-13 16:18:00.453581', 'Vendido: 0']\n",
      "['ID: 18', 'Produto: Monitor', 'Valor: 80.0', 'Data: 2022-09-13 16:18:00.495555', 'Vendido: 0']\n",
      "['ID: 19', 'Produto: Teclado', 'Valor: 67.0', 'Data: 2022-09-13 16:18:00.521540', 'Vendido: 1']\n",
      "['ID: 20', 'Produto: Mouse', 'Valor: 91.0', 'Data: 2022-09-13 16:18:00.607487', 'Vendido: 0']\n"
     ]
    }
   ],
   "source": [
    "# Vendo a tabela.\n",
    "\n",
    "showall(arquivo,tabela)"
   ]
  },
  {
   "cell_type": "code",
   "execution_count": 11,
   "metadata": {},
   "outputs": [
    {
     "name": "stdout",
     "output_type": "stream",
     "text": [
      "Colunas ['ID', 'Desconto', 'Data', 'ProdutoID']\n",
      "['ID: 1', 'Desconto: 0.0', 'Data: 2022-09-13 16:22:06.378087', 'ProdutoID: 5']\n",
      "['ID: 2', 'Desconto: 0.0', 'Data: 2022-09-13 16:22:06.384082', 'ProdutoID: 20']\n",
      "['ID: 3', 'Desconto: 14.0', 'Data: 2022-09-13 16:22:06.390079', 'ProdutoID: 14']\n",
      "['ID: 4', 'Desconto: 19.0', 'Data: 2022-09-13 16:22:06.397075', 'ProdutoID: 20']\n",
      "['ID: 5', 'Desconto: 3.0', 'Data: 2022-09-13 16:22:06.403070', 'ProdutoID: 6']\n",
      "['ID: 6', 'Desconto: 7.0', 'Data: 2022-09-13 16:22:06.409068', 'ProdutoID: 12']\n",
      "['ID: 7', 'Desconto: 1.0', 'Data: 2022-09-13 16:22:06.416063', 'ProdutoID: 2']\n",
      "['ID: 8', 'Desconto: 11.0', 'Data: 2022-09-13 16:22:06.423058', 'ProdutoID: 11']\n",
      "['ID: 9', 'Desconto: 20.0', 'Data: 2022-09-13 16:22:06.429055', 'ProdutoID: 15']\n",
      "['ID: 10', 'Desconto: 18.0', 'Data: 2022-09-13 16:22:06.436051', 'ProdutoID: 16']\n",
      "['ID: 11', 'Desconto: 1.0', 'Data: 2022-09-13 16:22:06.446045', 'ProdutoID: 11']\n",
      "['ID: 12', 'Desconto: 19.0', 'Data: 2022-09-13 16:22:06.452040', 'ProdutoID: 19']\n",
      "['ID: 13', 'Desconto: 20.0', 'Data: 2022-09-13 16:22:06.459036', 'ProdutoID: 18']\n",
      "['ID: 14', 'Desconto: 23.0', 'Data: 2022-09-13 16:22:06.466032', 'ProdutoID: 4']\n",
      "['ID: 15', 'Desconto: 19.0', 'Data: 2022-09-13 16:22:06.474027', 'ProdutoID: 12']\n",
      "['ID: 16', 'Desconto: 19.0', 'Data: 2022-09-13 16:22:06.480023', 'ProdutoID: 1']\n",
      "['ID: 17', 'Desconto: 7.0', 'Data: 2022-09-13 16:22:06.486020', 'ProdutoID: 5']\n",
      "['ID: 18', 'Desconto: 10.0', 'Data: 2022-09-13 16:22:06.492016', 'ProdutoID: 9']\n",
      "['ID: 19', 'Desconto: 23.0', 'Data: 2022-09-13 16:22:06.499011', 'ProdutoID: 15']\n",
      "['ID: 20', 'Desconto: 2.0', 'Data: 2022-09-13 16:22:06.506008', 'ProdutoID: 7']\n",
      "['ID: 21', 'Desconto: 23.0', 'Data: 2022-09-13 16:22:06.513003', 'ProdutoID: 11']\n",
      "['ID: 22', 'Desconto: 22.0', 'Data: 2022-09-13 16:22:06.519000', 'ProdutoID: 15']\n",
      "['ID: 23', 'Desconto: 3.0', 'Data: 2022-09-13 16:22:06.524995', 'ProdutoID: 10']\n",
      "['ID: 24', 'Desconto: 12.0', 'Data: 2022-09-13 16:22:06.533990', 'ProdutoID: 1']\n",
      "['ID: 25', 'Desconto: 16.0', 'Data: 2022-09-13 16:22:06.540985', 'ProdutoID: 15']\n",
      "['ID: 26', 'Desconto: 21.0', 'Data: 2022-09-13 16:22:06.574964', 'ProdutoID: 15']\n",
      "['ID: 27', 'Desconto: 11.0', 'Data: 2022-09-13 16:22:06.608943', 'ProdutoID: 3']\n",
      "['ID: 28', 'Desconto: 5.0', 'Data: 2022-09-13 16:22:06.615940', 'ProdutoID: 13']\n",
      "['ID: 29', 'Desconto: 5.0', 'Data: 2022-09-13 16:22:06.620936', 'ProdutoID: 20']\n",
      "['ID: 30', 'Desconto: 0.0', 'Data: 2022-09-13 16:22:06.627932', 'ProdutoID: 6']\n"
     ]
    }
   ],
   "source": [
    "showall(arquivo,'child_table')"
   ]
  },
  {
   "cell_type": "code",
   "execution_count": 12,
   "metadata": {},
   "outputs": [],
   "source": [
    "# Função para mostrar apenas o Fetchall\n",
    "\n",
    "def Execute_and_Show(Query,arquivo):\n",
    "    Cursor = sqlite3.connect(arquivo).cursor()\n",
    "    Cursor.execute(Query)\n",
    "    for i in Cursor.execute(Query).description:\n",
    "        print(i)\n",
    "    print()\n",
    "    for i in Cursor.fetchall():\n",
    "        print(i)\n",
    "    Cursor.close()"
   ]
  },
  {
   "cell_type": "code",
   "execution_count": 13,
   "metadata": {},
   "outputs": [],
   "source": [
    "# Função para executar e enviar ao DB.\n",
    "\n",
    "def Execute_and_Commit(Query,arquivo,tabela):\n",
    "    Conn = sqlite3.connect(arquivo)\n",
    "    Cursor = Conn.cursor()\n",
    "    Cursor.execute(Query)\n",
    "    Conn.commit()\n",
    "    Cursor.close()\n",
    "    Conn.close()\n",
    "    showall(arquivo,tabela)"
   ]
  },
  {
   "cell_type": "markdown",
   "metadata": {},
   "source": [
    "## Queries"
   ]
  },
  {
   "cell_type": "markdown",
   "metadata": {},
   "source": [
    "<a id='Demo'></a>\n",
    "### Demonstração"
   ]
  },
  {
   "cell_type": "code",
   "execution_count": 14,
   "metadata": {},
   "outputs": [
    {
     "name": "stdout",
     "output_type": "stream",
     "text": [
      "('ID', None, None, None, None, None, None)\n",
      "('Produto', None, None, None, None, None, None)\n",
      "('Valor', None, None, None, None, None, None)\n",
      "('Data', None, None, None, None, None, None)\n",
      "('Vendido', None, None, None, None, None, None)\n",
      "\n",
      "(1, 'Monitor', 71.0, '2022-09-13 16:17:59.754015', 0)\n",
      "(2, 'Teclado', 73.0, '2022-09-13 16:17:59.760010', 0)\n",
      "(3, 'Monitor', 86.0, '2022-09-13 16:17:59.827968', 0)\n",
      "(4, 'CPU', 63.0, '2022-09-13 16:17:59.986871', 1)\n",
      "(5, 'Teclado', 91.0, '2022-09-13 16:18:00.044834', 1)\n",
      "(6, 'Monitor', 78.0, '2022-09-13 16:18:00.084810', 0)\n",
      "(7, 'CPU', 90.0, '2022-09-13 16:18:00.201738', 1)\n",
      "(8, 'CPU', 94.0, '2022-09-13 16:18:00.246709', 1)\n",
      "(9, 'Teclado', 57.0, '2022-09-13 16:18:00.270695', 1)\n",
      "(10, 'CPU', 50.0, '2022-09-13 16:18:00.302675', 0)\n",
      "(11, 'Monitor', 59.0, '2022-09-13 16:18:00.320664', 0)\n",
      "(12, 'Monitor', 58.0, '2022-09-13 16:18:00.351644', 1)\n",
      "(13, 'Mouse', 74.0, '2022-09-13 16:18:00.368634', 0)\n",
      "(14, 'Mouse', 80.0, '2022-09-13 16:18:00.394619', 0)\n",
      "(15, 'Monitor', 56.0, '2022-09-13 16:18:00.414607', 1)\n",
      "(16, 'Monitor', 75.0, '2022-09-13 16:18:00.435593', 0)\n",
      "(17, 'Monitor', 67.0, '2022-09-13 16:18:00.453581', 0)\n",
      "(18, 'Monitor', 80.0, '2022-09-13 16:18:00.495555', 0)\n",
      "(19, 'Teclado', 67.0, '2022-09-13 16:18:00.521540', 1)\n",
      "(20, 'Mouse', 91.0, '2022-09-13 16:18:00.607487', 0)\n"
     ]
    }
   ],
   "source": [
    "# Mostrar todos os dados\n",
    "\n",
    "Query = \"SELECT * FROM random_table\"\n",
    "\n",
    "Execute_and_Show(Query,arquivo)"
   ]
  },
  {
   "cell_type": "code",
   "execution_count": 15,
   "metadata": {},
   "outputs": [
    {
     "name": "stdout",
     "output_type": "stream",
     "text": [
      "('Produto', None, None, None, None, None, None)\n",
      "('Valor', None, None, None, None, None, None)\n",
      "\n",
      "('Monitor', 71.0)\n",
      "('Teclado', 73.0)\n",
      "('Monitor', 86.0)\n",
      "('CPU', 63.0)\n",
      "('Teclado', 91.0)\n",
      "('Monitor', 78.0)\n",
      "('CPU', 90.0)\n",
      "('CPU', 94.0)\n",
      "('Teclado', 57.0)\n",
      "('CPU', 50.0)\n",
      "('Monitor', 59.0)\n",
      "('Monitor', 58.0)\n",
      "('Mouse', 74.0)\n",
      "('Mouse', 80.0)\n",
      "('Monitor', 56.0)\n",
      "('Monitor', 75.0)\n",
      "('Monitor', 67.0)\n",
      "('Monitor', 80.0)\n",
      "('Teclado', 67.0)\n",
      "('Mouse', 91.0)\n"
     ]
    }
   ],
   "source": [
    "# Mostrar algumas colunas\n",
    "\n",
    "Query = \"SELECT Produto, Valor FROM random_table\"\n",
    "\n",
    "Execute_and_Show(Query,arquivo)"
   ]
  },
  {
   "cell_type": "code",
   "execution_count": 16,
   "metadata": {},
   "outputs": [
    {
     "name": "stdout",
     "output_type": "stream",
     "text": [
      "('Produto', None, None, None, None, None, None)\n",
      "('Valor', None, None, None, None, None, None)\n",
      "\n",
      "('Monitor', 71.0)\n",
      "('Monitor', 86.0)\n",
      "('CPU', 63.0)\n",
      "('Monitor', 78.0)\n",
      "('CPU', 90.0)\n",
      "('CPU', 94.0)\n",
      "('CPU', 50.0)\n",
      "('Monitor', 59.0)\n",
      "('Monitor', 58.0)\n",
      "('Monitor', 56.0)\n",
      "('Monitor', 75.0)\n",
      "('Monitor', 67.0)\n",
      "('Monitor', 80.0)\n"
     ]
    }
   ],
   "source": [
    "# Mostrar dados que correspondam a determinados valores\n",
    "# Usando operadores lógicos\n",
    "\n",
    "Query = \"SELECT Produto, Valor FROM random_table WHERE Produto = 'Monitor' OR Produto = 'CPU'\"\n",
    "\n",
    "Execute_and_Show(Query,arquivo)"
   ]
  },
  {
   "cell_type": "code",
   "execution_count": 17,
   "metadata": {},
   "outputs": [
    {
     "name": "stdout",
     "output_type": "stream",
     "text": [
      "('name', None, None, None, None, None, None)\n",
      "\n",
      "('random_table',)\n",
      "('sqlite_sequence',)\n",
      "('child_table',)\n"
     ]
    }
   ],
   "source": [
    "# Selecionar os nomes das tabelas da tabela \"sqlite_master\"\n",
    "\n",
    "Query = 'SELECT name FROM sqlite_master WHERE type = \"table\"'\n",
    "\n",
    "Execute_and_Show(Query,arquivo)"
   ]
  },
  {
   "cell_type": "code",
   "execution_count": 18,
   "metadata": {},
   "outputs": [
    {
     "name": "stdout",
     "output_type": "stream",
     "text": [
      "('Produto', None, None, None, None, None, None)\n",
      "('Vendido', None, None, None, None, None, None)\n",
      "\n",
      "('Monitor', 0)\n",
      "('Teclado', 0)\n",
      "('CPU', 1)\n",
      "('Teclado', 1)\n",
      "('CPU', 0)\n",
      "('Monitor', 1)\n",
      "('Mouse', 0)\n"
     ]
    }
   ],
   "source": [
    "# DISTINCT\n",
    "# Filtra os dados repetidos\n",
    "# É filtrado apenas as combinações repetidas\n",
    "\n",
    "Query = \"SELECT DISTINCT Produto, Vendido FROM random_table\"\n",
    "\n",
    "Execute_and_Show(Query,arquivo)"
   ]
  },
  {
   "cell_type": "code",
   "execution_count": 19,
   "metadata": {},
   "outputs": [
    {
     "name": "stdout",
     "output_type": "stream",
     "text": [
      "('ID', None, None, None, None, None, None)\n",
      "('Produto', None, None, None, None, None, None)\n",
      "('Valor', None, None, None, None, None, None)\n",
      "('Data', None, None, None, None, None, None)\n",
      "('Vendido', None, None, None, None, None, None)\n",
      "\n",
      "(4, 'CPU', 63.0, '2022-09-13 16:17:59.986871', 1)\n",
      "(7, 'CPU', 90.0, '2022-09-13 16:18:00.201738', 1)\n",
      "(8, 'CPU', 94.0, '2022-09-13 16:18:00.246709', 1)\n",
      "(10, 'CPU', 50.0, '2022-09-13 16:18:00.302675', 0)\n",
      "(1, 'Monitor', 71.0, '2022-09-13 16:17:59.754015', 0)\n",
      "(3, 'Monitor', 86.0, '2022-09-13 16:17:59.827968', 0)\n",
      "(6, 'Monitor', 78.0, '2022-09-13 16:18:00.084810', 0)\n",
      "(11, 'Monitor', 59.0, '2022-09-13 16:18:00.320664', 0)\n",
      "(12, 'Monitor', 58.0, '2022-09-13 16:18:00.351644', 1)\n",
      "(15, 'Monitor', 56.0, '2022-09-13 16:18:00.414607', 1)\n",
      "(16, 'Monitor', 75.0, '2022-09-13 16:18:00.435593', 0)\n",
      "(17, 'Monitor', 67.0, '2022-09-13 16:18:00.453581', 0)\n",
      "(18, 'Monitor', 80.0, '2022-09-13 16:18:00.495555', 0)\n",
      "(13, 'Mouse', 74.0, '2022-09-13 16:18:00.368634', 0)\n",
      "(14, 'Mouse', 80.0, '2022-09-13 16:18:00.394619', 0)\n",
      "(20, 'Mouse', 91.0, '2022-09-13 16:18:00.607487', 0)\n",
      "(2, 'Teclado', 73.0, '2022-09-13 16:17:59.760010', 0)\n",
      "(5, 'Teclado', 91.0, '2022-09-13 16:18:00.044834', 1)\n",
      "(9, 'Teclado', 57.0, '2022-09-13 16:18:00.270695', 1)\n",
      "(19, 'Teclado', 67.0, '2022-09-13 16:18:00.521540', 1)\n"
     ]
    }
   ],
   "source": [
    "# Ordenar / Organizar\n",
    "# ORDER BY\n",
    "# A ordem não precisa ser guiada por uma das colunas selecionadas.\n",
    "\n",
    "Query = \"SELECT * FROM random_table ORDER BY Produto\"\n",
    "\n",
    "Execute_and_Show(Query,arquivo)"
   ]
  },
  {
   "cell_type": "code",
   "execution_count": 20,
   "metadata": {},
   "outputs": [
    {
     "name": "stdout",
     "output_type": "stream",
     "text": [
      "('Produto', None, None, None, None, None, None)\n",
      "\n",
      "('Teclado',)\n",
      "('Mouse',)\n",
      "('Monitor',)\n",
      "('CPU',)\n"
     ]
    }
   ],
   "source": [
    "# Ordem decrescente\n",
    "# DESC | ASC\n",
    "\n",
    "Query = \"SELECT DISTINCT Produto FROM random_table ORDER BY Produto DESC\"\n",
    "\n",
    "Execute_and_Show(Query,arquivo)"
   ]
  },
  {
   "cell_type": "code",
   "execution_count": 21,
   "metadata": {},
   "outputs": [
    {
     "name": "stdout",
     "output_type": "stream",
     "text": [
      "('ID', None, None, None, None, None, None)\n",
      "('Produto', None, None, None, None, None, None)\n",
      "('Valor', None, None, None, None, None, None)\n",
      "('Data', None, None, None, None, None, None)\n",
      "('Vendido', None, None, None, None, None, None)\n",
      "\n",
      "(1, 'Monitor', 71.0, '2022-09-13 16:17:59.754015', 0)\n",
      "(2, 'Teclado', 73.0, '2022-09-13 16:17:59.760010', 0)\n",
      "(3, 'Monitor', 86.0, '2022-09-13 16:17:59.827968', 0)\n",
      "(4, 'CPU', 63.0, '2022-09-13 16:17:59.986871', 1)\n",
      "(5, 'Teclado', 91.0, '2022-09-13 16:18:00.044834', 1)\n",
      "(6, 'Monitor', 78.0, '2022-09-13 16:18:00.084810', 0)\n"
     ]
    }
   ],
   "source": [
    "# Limitar o número e resultados\n",
    "# Apenas os X primeiros resultados são revelados.\n",
    "\n",
    "Query = \"SELECT * FROM random_table LIMIT 6\"\n",
    "\n",
    "Execute_and_Show(Query,arquivo)"
   ]
  },
  {
   "cell_type": "code",
   "execution_count": 22,
   "metadata": {},
   "outputs": [
    {
     "name": "stdout",
     "output_type": "stream",
     "text": [
      "('Nome do Produto', None, None, None, None, None, None)\n",
      "\n",
      "('Monitor',)\n",
      "('Teclado',)\n",
      "('Monitor',)\n",
      "('CPU',)\n",
      "('Teclado',)\n",
      "('Monitor',)\n",
      "('CPU',)\n",
      "('CPU',)\n",
      "('Teclado',)\n",
      "('CPU',)\n",
      "('Monitor',)\n",
      "('Monitor',)\n",
      "('Mouse',)\n",
      "('Mouse',)\n",
      "('Monitor',)\n",
      "('Monitor',)\n",
      "('Monitor',)\n",
      "('Monitor',)\n",
      "('Teclado',)\n",
      "('Mouse',)\n"
     ]
    }
   ],
   "source": [
    "# Alias\n",
    "# São mudanças dos nomes de colunas e tabelas.\n",
    "# Utiliza-se aspas quando o aliás tem espaço.\n",
    "\n",
    "Query = \"SELECT Produto AS 'Nome do Produto' FROM random_table AS Produtos\"\n",
    "\n",
    "Execute_and_Show(Query,arquivo)"
   ]
  },
  {
   "cell_type": "markdown",
   "metadata": {},
   "source": [
    "Join"
   ]
  },
  {
   "cell_type": "markdown",
   "metadata": {},
   "source": [
    "![](../ArquivosParalelos/Join_types.png)"
   ]
  },
  {
   "cell_type": "markdown",
   "metadata": {},
   "source": [
    "Different Types of SQL JOINs\n",
    "\n",
    "* (INNER) JOIN: _Retorna registros compatíveis com ambas as tabelas;_\n",
    "* LEFT (OUTER) JOIN: _Retorna todos os registros da tabela à esquerda, e os registros compatíveis da tabela à direita;_\n",
    "* RIGHT (OUTER) JOIN: _Retorna todos os registros da tabela à direita, e os registros compatíveis da tabela à esquerda;_\n",
    "* FULL (OUTER) JOIN: _Retorna todos os registros quando há compatibilidade em qualquer tabela._"
   ]
  },
  {
   "cell_type": "code",
   "execution_count": 23,
   "metadata": {},
   "outputs": [
    {
     "name": "stdout",
     "output_type": "stream",
     "text": [
      "('Desconto', None, None, None, None, None, None)\n",
      "('Data', None, None, None, None, None, None)\n",
      "('Produto', None, None, None, None, None, None)\n",
      "\n",
      "(0.0, '2022-09-13 16:22:06.378087', 'Teclado')\n",
      "(0.0, '2022-09-13 16:22:06.384082', 'Mouse')\n",
      "(14.0, '2022-09-13 16:22:06.390079', 'Mouse')\n",
      "(19.0, '2022-09-13 16:22:06.397075', 'Mouse')\n",
      "(3.0, '2022-09-13 16:22:06.403070', 'Monitor')\n",
      "(7.0, '2022-09-13 16:22:06.409068', 'Monitor')\n",
      "(1.0, '2022-09-13 16:22:06.416063', 'Teclado')\n",
      "(11.0, '2022-09-13 16:22:06.423058', 'Monitor')\n",
      "(20.0, '2022-09-13 16:22:06.429055', 'Monitor')\n",
      "(18.0, '2022-09-13 16:22:06.436051', 'Monitor')\n",
      "(1.0, '2022-09-13 16:22:06.446045', 'Monitor')\n",
      "(19.0, '2022-09-13 16:22:06.452040', 'Teclado')\n",
      "(20.0, '2022-09-13 16:22:06.459036', 'Monitor')\n",
      "(23.0, '2022-09-13 16:22:06.466032', 'CPU')\n",
      "(19.0, '2022-09-13 16:22:06.474027', 'Monitor')\n",
      "(19.0, '2022-09-13 16:22:06.480023', 'Monitor')\n",
      "(7.0, '2022-09-13 16:22:06.486020', 'Teclado')\n",
      "(10.0, '2022-09-13 16:22:06.492016', 'Teclado')\n",
      "(23.0, '2022-09-13 16:22:06.499011', 'Monitor')\n",
      "(2.0, '2022-09-13 16:22:06.506008', 'CPU')\n",
      "(23.0, '2022-09-13 16:22:06.513003', 'Monitor')\n",
      "(22.0, '2022-09-13 16:22:06.519000', 'Monitor')\n",
      "(3.0, '2022-09-13 16:22:06.524995', 'CPU')\n",
      "(12.0, '2022-09-13 16:22:06.533990', 'Monitor')\n",
      "(16.0, '2022-09-13 16:22:06.540985', 'Monitor')\n",
      "(21.0, '2022-09-13 16:22:06.574964', 'Monitor')\n",
      "(11.0, '2022-09-13 16:22:06.608943', 'Monitor')\n",
      "(5.0, '2022-09-13 16:22:06.615940', 'Mouse')\n",
      "(5.0, '2022-09-13 16:22:06.620936', 'Mouse')\n",
      "(0.0, '2022-09-13 16:22:06.627932', 'Monitor')\n"
     ]
    }
   ],
   "source": [
    "Query = '''\n",
    "    SELECT \n",
    "    child_table.Desconto, child_table.Data, random_table.Produto \n",
    "    FROM child_table JOIN random_table \n",
    "    ON child_table.ProdutoID = random_table.ID\n",
    "    '''\n",
    "\n",
    "\n",
    "Execute_and_Show(Query,arquivo)"
   ]
  },
  {
   "cell_type": "code",
   "execution_count": 24,
   "metadata": {},
   "outputs": [],
   "source": [
    "# Como todos os registros na tabela child_table possuem valores para a coluna ProdutoID que correspondem a algum valor na tabela random_table, o LEfT JOIN presentaria o mesmo resultado do INNER JOIN."
   ]
  },
  {
   "cell_type": "code",
   "execution_count": 25,
   "metadata": {},
   "outputs": [
    {
     "name": "stdout",
     "output_type": "stream",
     "text": [
      "('Desconto', None, None, None, None, None, None)\n",
      "('Data', None, None, None, None, None, None)\n",
      "('Produto', None, None, None, None, None, None)\n",
      "\n",
      "(12.0, '2022-09-13 16:22:06.533990', 'Monitor')\n",
      "(19.0, '2022-09-13 16:22:06.480023', 'Monitor')\n",
      "(1.0, '2022-09-13 16:22:06.416063', 'Teclado')\n",
      "(11.0, '2022-09-13 16:22:06.608943', 'Monitor')\n",
      "(23.0, '2022-09-13 16:22:06.466032', 'CPU')\n",
      "(0.0, '2022-09-13 16:22:06.378087', 'Teclado')\n",
      "(7.0, '2022-09-13 16:22:06.486020', 'Teclado')\n",
      "(0.0, '2022-09-13 16:22:06.627932', 'Monitor')\n",
      "(3.0, '2022-09-13 16:22:06.403070', 'Monitor')\n",
      "(2.0, '2022-09-13 16:22:06.506008', 'CPU')\n",
      "(None, None, 'CPU')\n",
      "(10.0, '2022-09-13 16:22:06.492016', 'Teclado')\n",
      "(3.0, '2022-09-13 16:22:06.524995', 'CPU')\n",
      "(1.0, '2022-09-13 16:22:06.446045', 'Monitor')\n",
      "(11.0, '2022-09-13 16:22:06.423058', 'Monitor')\n",
      "(23.0, '2022-09-13 16:22:06.513003', 'Monitor')\n",
      "(7.0, '2022-09-13 16:22:06.409068', 'Monitor')\n",
      "(19.0, '2022-09-13 16:22:06.474027', 'Monitor')\n",
      "(5.0, '2022-09-13 16:22:06.615940', 'Mouse')\n",
      "(14.0, '2022-09-13 16:22:06.390079', 'Mouse')\n",
      "(16.0, '2022-09-13 16:22:06.540985', 'Monitor')\n",
      "(20.0, '2022-09-13 16:22:06.429055', 'Monitor')\n",
      "(21.0, '2022-09-13 16:22:06.574964', 'Monitor')\n",
      "(22.0, '2022-09-13 16:22:06.519000', 'Monitor')\n",
      "(23.0, '2022-09-13 16:22:06.499011', 'Monitor')\n",
      "(18.0, '2022-09-13 16:22:06.436051', 'Monitor')\n",
      "(None, None, 'Monitor')\n",
      "(20.0, '2022-09-13 16:22:06.459036', 'Monitor')\n",
      "(19.0, '2022-09-13 16:22:06.452040', 'Teclado')\n",
      "(0.0, '2022-09-13 16:22:06.384082', 'Mouse')\n",
      "(5.0, '2022-09-13 16:22:06.620936', 'Mouse')\n",
      "(19.0, '2022-09-13 16:22:06.397075', 'Mouse')\n"
     ]
    }
   ],
   "source": [
    "# RIGH JOIN\n",
    "\n",
    "Query = '''\n",
    "    SELECT \n",
    "    child_table.Desconto, child_table.Data, random_table.Produto \n",
    "    FROM random_table LEFT JOIN child_table \n",
    "    ON child_table.ProdutoID = random_table.ID\n",
    "    '''\n",
    "    \n",
    "Execute_and_Show(Query,arquivo)\n",
    "\n",
    "# Os valores None mostrados são registros em random_table que não possuem correspondência em child_table."
   ]
  },
  {
   "cell_type": "markdown",
   "metadata": {},
   "source": [
    "LEFT e OUTHER JOIN não são suportados no SQLite3"
   ]
  },
  {
   "cell_type": "code",
   "execution_count": 64,
   "metadata": {},
   "outputs": [
    {
     "name": "stdout",
     "output_type": "stream",
     "text": [
      "('Desconto', None, None, None, None, None, None)\n",
      "\n",
      "(0.0,)\n",
      "(1.0,)\n",
      "(2.0,)\n",
      "(3.0,)\n",
      "(5.0,)\n",
      "(7.0,)\n",
      "(10.0,)\n",
      "(11.0,)\n",
      "(12.0,)\n",
      "(14.0,)\n",
      "(16.0,)\n",
      "(18.0,)\n",
      "(19.0,)\n",
      "(20.0,)\n",
      "(21.0,)\n",
      "(22.0,)\n",
      "(23.0,)\n",
      "(63.0,)\n",
      "(67.0,)\n",
      "(71.0,)\n",
      "(74.0,)\n",
      "(75.0,)\n",
      "(78.0,)\n",
      "(80.0,)\n",
      "(86.0,)\n",
      "(90.0,)\n",
      "(91.0,)\n",
      "(94.0,)\n",
      "(120.0,)\n"
     ]
    }
   ],
   "source": [
    "#UNION\n",
    "# Uma forma de juntar dois SELECT Queries de forma concatenada.\n",
    "# Ambos as seleções precisam ter o mesmo tipo de dados.\n",
    "\n",
    "\n",
    "Query = '''\n",
    "    SELECT Desconto FROM child_table\n",
    "    UNION\n",
    "    SELECT Valor FROM random_table\n",
    "    '''\n",
    "    \n",
    "Execute_and_Show(Query,arquivo)\n",
    "\n",
    "## UNION não retorna valores duplicados, mas UNION ALL sim."
   ]
  },
  {
   "cell_type": "code",
   "execution_count": 71,
   "metadata": {},
   "outputs": [
    {
     "name": "stdout",
     "output_type": "stream",
     "text": [
      "('ID', None, None, None, None, None, None)\n",
      "('Produto', None, None, None, None, None, None)\n",
      "('Valor', None, None, None, None, None, None)\n",
      "('Data', None, None, None, None, None, None)\n",
      "('Vendido', None, None, None, None, None, None)\n",
      "\n",
      "(28, None, 120.0, '2022-09-03 16:26:28.564400', 0)\n",
      "(4, 'CPU', 63.0, '2022-09-13 16:17:59.986871', 1)\n",
      "(1, 'Monitor', 71.0, '2022-09-13 16:17:59.754015', 0)\n",
      "(13, 'Mouse', 74.0, '2022-09-13 16:18:00.368634', 0)\n",
      "(5, 'Teclado', 91.0, '2022-09-13 16:18:00.044834', 1)\n",
      "('Produto', None, None, None, None, None, None)\n",
      "('Quantidade', None, None, None, None, None, None)\n",
      "('Média', None, None, None, None, None, None)\n",
      "\n",
      "(None, 1, 120.0)\n",
      "('CPU', 5, 91.6)\n",
      "('Monitor', 6, 76.16666666666667)\n",
      "('Mouse', 3, 81.66666666666667)\n",
      "('Teclado', 2, 79.0)\n"
     ]
    }
   ],
   "source": [
    "# GROUP BY\n",
    "# Usado para agrupar em apenas valores distintos\n",
    "# Mostra apenas o primeiro valor de cada incidência\n",
    "\n",
    "\n",
    "Query = 'SELECT * FROM random_table GROUP BY Produto'\n",
    "\n",
    "Execute_and_Show(Query,arquivo)\n",
    "\n",
    "# Quando selecionado um agregador (contagem, soma, média), gera uma coluna que considera várias entradas na mesma instância.\n",
    "# No exemplo abaixo, mostra quantos registros e a média de valor de cada tipo de produto na tabela.\n",
    "\n",
    "Query = 'SELECT Produto, COUNT(*) AS \"Quantidade\", AVG(Valor) AS \"Média\" FROM random_table GROUP BY Produto'\n",
    "Execute_and_Show(Query,arquivo)"
   ]
  },
  {
   "cell_type": "code",
   "execution_count": 73,
   "metadata": {},
   "outputs": [
    {
     "name": "stdout",
     "output_type": "stream",
     "text": [
      "('Produto', None, None, None, None, None, None)\n",
      "('Quantidade', None, None, None, None, None, None)\n",
      "('Média', None, None, None, None, None, None)\n",
      "\n",
      "(None, 1, 120.0)\n",
      "('CPU', 5, 91.6)\n",
      "('Mouse', 3, 81.66666666666667)\n"
     ]
    }
   ],
   "source": [
    "# HAVING\n",
    "# Ao agrupar, se um dos agregadores for usado como filtro.\n",
    "# Similar ao WHERE\n",
    "\n",
    "Query = '''\n",
    "        SELECT \n",
    "        Produto, \n",
    "        COUNT(*) AS \"Quantidade\", \n",
    "        AVG(Valor) AS \"Média\" \n",
    "        FROM random_table \n",
    "        GROUP BY Produto\n",
    "        HAVING AVG(Valor) > 80\n",
    "        '''\n",
    "Execute_and_Show(Query,arquivo)"
   ]
  },
  {
   "cell_type": "markdown",
   "metadata": {},
   "source": [
    "### Criação e Queda\n",
    "<a id='Criação'></a>"
   ]
  },
  {
   "cell_type": "code",
   "execution_count": 26,
   "metadata": {},
   "outputs": [
    {
     "name": "stdout",
     "output_type": "stream",
     "text": [
      "Colunas ['id', 'name']\n"
     ]
    }
   ],
   "source": [
    "# Criar tabela nova\n",
    "\n",
    "Query = \"CREATE TABLE Exemplo(id integer, name text)\"\n",
    "\n",
    "Execute_and_Commit(Query,arquivo,'Exemplo')\n",
    "\n",
    "#Se a tabela já existe, ocorre um erro explícito."
   ]
  },
  {
   "cell_type": "code",
   "execution_count": 27,
   "metadata": {},
   "outputs": [
    {
     "name": "stdout",
     "output_type": "stream",
     "text": [
      "Colunas ['id', 'name']\n"
     ]
    }
   ],
   "source": [
    "# Criar tabela nova se não existir\n",
    "\n",
    "Query = \"CREATE TABLE IF NOT EXISTS Exemplo(id integer, name text)\"\n",
    "\n",
    "Execute_and_Commit(Query,arquivo,'Exemplo')"
   ]
  },
  {
   "cell_type": "code",
   "execution_count": 28,
   "metadata": {},
   "outputs": [
    {
     "name": "stdout",
     "output_type": "stream",
     "text": [
      "Colunas ['type', 'name', 'tbl_name', 'rootpage', 'sql']\n",
      "['type: table', 'name: random_table', 'tbl_name: random_table', 'rootpage: 2', 'sql: CREATE TABLE random_table(ID INTEGER PRIMARY KEY AUTOINCREMENT NOT NULL, Produto TEXT, Valor REAL, Data DATE, Vendido BIT NOT NULL)']\n",
      "['type: table', 'name: sqlite_sequence', 'tbl_name: sqlite_sequence', 'rootpage: 3', 'sql: CREATE TABLE sqlite_sequence(name,seq)']\n",
      "['type: table', 'name: child_table', 'tbl_name: child_table', 'rootpage: 4', 'sql: CREATE TABLE child_table (ID INTEGER PRIMARY KEY AUTOINCREMENT NOT NULL, Desconto REAL, Data DATE, ProdutoID INTEGER NOT NULL, FOREIGN KEY (ProdutoID) REFERENCES random_table(ID))']\n",
      "['type: table', 'name: Exemplo', 'tbl_name: Exemplo', 'rootpage: 5', 'sql: CREATE TABLE Exemplo(id integer, name text)']\n",
      "\n",
      "Colunas ['type', 'name', 'tbl_name', 'rootpage', 'sql']\n",
      "['type: table', 'name: random_table', 'tbl_name: random_table', 'rootpage: 2', 'sql: CREATE TABLE random_table(ID INTEGER PRIMARY KEY AUTOINCREMENT NOT NULL, Produto TEXT, Valor REAL, Data DATE, Vendido BIT NOT NULL)']\n",
      "['type: table', 'name: sqlite_sequence', 'tbl_name: sqlite_sequence', 'rootpage: 3', 'sql: CREATE TABLE sqlite_sequence(name,seq)']\n",
      "['type: table', 'name: child_table', 'tbl_name: child_table', 'rootpage: 4', 'sql: CREATE TABLE child_table (ID INTEGER PRIMARY KEY AUTOINCREMENT NOT NULL, Desconto REAL, Data DATE, ProdutoID INTEGER NOT NULL, FOREIGN KEY (ProdutoID) REFERENCES random_table(ID))']\n"
     ]
    }
   ],
   "source": [
    "# Criar tabela nova se não existir\n",
    "\n",
    "showall(arquivo,'sqlite_master')\n",
    "print()\n",
    "\n",
    "Query = \"DROP TABLE IF EXISTS Exemplo\"\n",
    "\n",
    "Execute_and_Commit(Query,arquivo,'sqlite_master')"
   ]
  },
  {
   "cell_type": "markdown",
   "metadata": {},
   "source": [
    "### Adição e Remoção\n",
    "<a id='Adição'></a>"
   ]
  },
  {
   "cell_type": "code",
   "execution_count": 29,
   "metadata": {},
   "outputs": [
    {
     "name": "stdout",
     "output_type": "stream",
     "text": [
      "Colunas ['ID', 'Produto', 'Valor', 'Data', 'Vendido']\n",
      "['ID: 1', 'Produto: Monitor', 'Valor: 71.0', 'Data: 2022-09-13 16:17:59.754015', 'Vendido: 0']\n",
      "['ID: 2', 'Produto: Teclado', 'Valor: 73.0', 'Data: 2022-09-13 16:17:59.760010', 'Vendido: 0']\n",
      "['ID: 3', 'Produto: Monitor', 'Valor: 86.0', 'Data: 2022-09-13 16:17:59.827968', 'Vendido: 0']\n",
      "['ID: 4', 'Produto: CPU', 'Valor: 63.0', 'Data: 2022-09-13 16:17:59.986871', 'Vendido: 1']\n",
      "['ID: 5', 'Produto: Teclado', 'Valor: 91.0', 'Data: 2022-09-13 16:18:00.044834', 'Vendido: 1']\n",
      "['ID: 6', 'Produto: Monitor', 'Valor: 78.0', 'Data: 2022-09-13 16:18:00.084810', 'Vendido: 0']\n",
      "['ID: 7', 'Produto: CPU', 'Valor: 90.0', 'Data: 2022-09-13 16:18:00.201738', 'Vendido: 1']\n",
      "['ID: 8', 'Produto: CPU', 'Valor: 94.0', 'Data: 2022-09-13 16:18:00.246709', 'Vendido: 1']\n",
      "['ID: 9', 'Produto: Teclado', 'Valor: 57.0', 'Data: 2022-09-13 16:18:00.270695', 'Vendido: 1']\n",
      "['ID: 10', 'Produto: CPU', 'Valor: 50.0', 'Data: 2022-09-13 16:18:00.302675', 'Vendido: 0']\n",
      "['ID: 11', 'Produto: Monitor', 'Valor: 59.0', 'Data: 2022-09-13 16:18:00.320664', 'Vendido: 0']\n",
      "['ID: 12', 'Produto: Monitor', 'Valor: 58.0', 'Data: 2022-09-13 16:18:00.351644', 'Vendido: 1']\n",
      "['ID: 13', 'Produto: Mouse', 'Valor: 74.0', 'Data: 2022-09-13 16:18:00.368634', 'Vendido: 0']\n",
      "['ID: 14', 'Produto: Mouse', 'Valor: 80.0', 'Data: 2022-09-13 16:18:00.394619', 'Vendido: 0']\n",
      "['ID: 15', 'Produto: Monitor', 'Valor: 56.0', 'Data: 2022-09-13 16:18:00.414607', 'Vendido: 1']\n",
      "['ID: 16', 'Produto: Monitor', 'Valor: 75.0', 'Data: 2022-09-13 16:18:00.435593', 'Vendido: 0']\n",
      "['ID: 17', 'Produto: Monitor', 'Valor: 67.0', 'Data: 2022-09-13 16:18:00.453581', 'Vendido: 0']\n",
      "['ID: 18', 'Produto: Monitor', 'Valor: 80.0', 'Data: 2022-09-13 16:18:00.495555', 'Vendido: 0']\n",
      "['ID: 19', 'Produto: Teclado', 'Valor: 67.0', 'Data: 2022-09-13 16:18:00.521540', 'Vendido: 1']\n",
      "['ID: 20', 'Produto: Mouse', 'Valor: 91.0', 'Data: 2022-09-13 16:18:00.607487', 'Vendido: 0']\n",
      "['ID: 21', 'Produto: CPU', 'Valor: 91.0', 'Data: 2022-09-03 16:26:28.564400', 'Vendido: 1']\n"
     ]
    }
   ],
   "source": [
    "# Inserir linha/observação\n",
    "\n",
    "Query = \"INSERT INTO random_table VALUES(21, 'CPU', 91.0, '2022-09-03 16:26:28.564400',1)\"\n",
    "\n",
    "# É necessário alternar entre aspas e aspas duplas para que o interpretador não encerre a string\n",
    "# Mesmo a Primary Key tendo autoincremento, ele deve ser dado\n",
    "# Se este comando foi executado uma segunda vez, um erro ocorre por tentar adicionar um ID que já existe.\n",
    "\n",
    "Execute_and_Commit(Query,arquivo,tabela)"
   ]
  },
  {
   "cell_type": "code",
   "execution_count": 30,
   "metadata": {},
   "outputs": [
    {
     "name": "stdout",
     "output_type": "stream",
     "text": [
      "Colunas ['ID', 'Produto', 'Valor', 'Data', 'Vendido']\n",
      "['ID: 1', 'Produto: Monitor', 'Valor: 71.0', 'Data: 2022-09-13 16:17:59.754015', 'Vendido: 0']\n",
      "['ID: 2', 'Produto: Teclado', 'Valor: 73.0', 'Data: 2022-09-13 16:17:59.760010', 'Vendido: 0']\n",
      "['ID: 3', 'Produto: Monitor', 'Valor: 86.0', 'Data: 2022-09-13 16:17:59.827968', 'Vendido: 0']\n",
      "['ID: 4', 'Produto: CPU', 'Valor: 63.0', 'Data: 2022-09-13 16:17:59.986871', 'Vendido: 1']\n",
      "['ID: 5', 'Produto: Teclado', 'Valor: 91.0', 'Data: 2022-09-13 16:18:00.044834', 'Vendido: 1']\n",
      "['ID: 6', 'Produto: Monitor', 'Valor: 78.0', 'Data: 2022-09-13 16:18:00.084810', 'Vendido: 0']\n",
      "['ID: 7', 'Produto: CPU', 'Valor: 90.0', 'Data: 2022-09-13 16:18:00.201738', 'Vendido: 1']\n",
      "['ID: 8', 'Produto: CPU', 'Valor: 94.0', 'Data: 2022-09-13 16:18:00.246709', 'Vendido: 1']\n",
      "['ID: 9', 'Produto: Teclado', 'Valor: 57.0', 'Data: 2022-09-13 16:18:00.270695', 'Vendido: 1']\n",
      "['ID: 10', 'Produto: CPU', 'Valor: 50.0', 'Data: 2022-09-13 16:18:00.302675', 'Vendido: 0']\n",
      "['ID: 11', 'Produto: Monitor', 'Valor: 59.0', 'Data: 2022-09-13 16:18:00.320664', 'Vendido: 0']\n",
      "['ID: 12', 'Produto: Monitor', 'Valor: 58.0', 'Data: 2022-09-13 16:18:00.351644', 'Vendido: 1']\n",
      "['ID: 13', 'Produto: Mouse', 'Valor: 74.0', 'Data: 2022-09-13 16:18:00.368634', 'Vendido: 0']\n",
      "['ID: 14', 'Produto: Mouse', 'Valor: 80.0', 'Data: 2022-09-13 16:18:00.394619', 'Vendido: 0']\n",
      "['ID: 15', 'Produto: Monitor', 'Valor: 56.0', 'Data: 2022-09-13 16:18:00.414607', 'Vendido: 1']\n",
      "['ID: 16', 'Produto: Monitor', 'Valor: 75.0', 'Data: 2022-09-13 16:18:00.435593', 'Vendido: 0']\n",
      "['ID: 17', 'Produto: Monitor', 'Valor: 67.0', 'Data: 2022-09-13 16:18:00.453581', 'Vendido: 0']\n",
      "['ID: 18', 'Produto: Monitor', 'Valor: 80.0', 'Data: 2022-09-13 16:18:00.495555', 'Vendido: 0']\n",
      "['ID: 19', 'Produto: Teclado', 'Valor: 67.0', 'Data: 2022-09-13 16:18:00.521540', 'Vendido: 1']\n",
      "['ID: 20', 'Produto: Mouse', 'Valor: 91.0', 'Data: 2022-09-13 16:18:00.607487', 'Vendido: 0']\n",
      "['ID: 21', 'Produto: CPU', 'Valor: 91.0', 'Data: 2022-09-03 16:26:28.564400', 'Vendido: 1']\n",
      "['ID: 22', 'Produto: CPU', 'Valor: 120.0', 'Data: 2022-09-03 16:26:28.564400', 'Vendido: 0']\n"
     ]
    }
   ],
   "source": [
    "# Inserir definindo valor e coluna\n",
    "# \"INSERT INTO tabela ('coluna', 'coluna', 'coluna') VALUES ('valor', 'valor', 'valor')\"\n",
    "\n",
    "Query = \"INSERT INTO random_table('Produto','Valor','Data','Vendido') VALUES('CPU', 120.0, '2022-09-03 16:26:28.564400',0)\"\n",
    "\n",
    "Execute_and_Commit(Query,arquivo,tabela)"
   ]
  },
  {
   "cell_type": "code",
   "execution_count": 31,
   "metadata": {},
   "outputs": [
    {
     "name": "stdout",
     "output_type": "stream",
     "text": [
      "Colunas ['ID', 'Produto', 'Valor', 'Data', 'Vendido']\n",
      "['ID: 1', 'Produto: Monitor', 'Valor: 71.0', 'Data: 2022-09-13 16:17:59.754015', 'Vendido: 0']\n",
      "['ID: 2', 'Produto: Teclado', 'Valor: 73.0', 'Data: 2022-09-13 16:17:59.760010', 'Vendido: 0']\n",
      "['ID: 3', 'Produto: Monitor', 'Valor: 86.0', 'Data: 2022-09-13 16:17:59.827968', 'Vendido: 0']\n",
      "['ID: 4', 'Produto: CPU', 'Valor: 63.0', 'Data: 2022-09-13 16:17:59.986871', 'Vendido: 1']\n",
      "['ID: 5', 'Produto: Teclado', 'Valor: 91.0', 'Data: 2022-09-13 16:18:00.044834', 'Vendido: 1']\n",
      "['ID: 6', 'Produto: Monitor', 'Valor: 78.0', 'Data: 2022-09-13 16:18:00.084810', 'Vendido: 0']\n",
      "['ID: 7', 'Produto: CPU', 'Valor: 90.0', 'Data: 2022-09-13 16:18:00.201738', 'Vendido: 1']\n",
      "['ID: 8', 'Produto: CPU', 'Valor: 94.0', 'Data: 2022-09-13 16:18:00.246709', 'Vendido: 1']\n",
      "['ID: 9', 'Produto: Teclado', 'Valor: 57.0', 'Data: 2022-09-13 16:18:00.270695', 'Vendido: 1']\n",
      "['ID: 10', 'Produto: CPU', 'Valor: 50.0', 'Data: 2022-09-13 16:18:00.302675', 'Vendido: 0']\n",
      "['ID: 11', 'Produto: Monitor', 'Valor: 59.0', 'Data: 2022-09-13 16:18:00.320664', 'Vendido: 0']\n",
      "['ID: 12', 'Produto: Monitor', 'Valor: 58.0', 'Data: 2022-09-13 16:18:00.351644', 'Vendido: 1']\n",
      "['ID: 13', 'Produto: Mouse', 'Valor: 74.0', 'Data: 2022-09-13 16:18:00.368634', 'Vendido: 0']\n",
      "['ID: 14', 'Produto: Mouse', 'Valor: 80.0', 'Data: 2022-09-13 16:18:00.394619', 'Vendido: 0']\n",
      "['ID: 15', 'Produto: Monitor', 'Valor: 56.0', 'Data: 2022-09-13 16:18:00.414607', 'Vendido: 1']\n",
      "['ID: 16', 'Produto: Monitor', 'Valor: 75.0', 'Data: 2022-09-13 16:18:00.435593', 'Vendido: 0']\n",
      "['ID: 17', 'Produto: Monitor', 'Valor: 67.0', 'Data: 2022-09-13 16:18:00.453581', 'Vendido: 0']\n",
      "['ID: 18', 'Produto: Monitor', 'Valor: 80.0', 'Data: 2022-09-13 16:18:00.495555', 'Vendido: 0']\n",
      "['ID: 19', 'Produto: Teclado', 'Valor: 67.0', 'Data: 2022-09-13 16:18:00.521540', 'Vendido: 1']\n",
      "['ID: 20', 'Produto: Mouse', 'Valor: 91.0', 'Data: 2022-09-13 16:18:00.607487', 'Vendido: 0']\n",
      "['ID: 21', 'Produto: CPU', 'Valor: 91.0', 'Data: 2022-09-03 16:26:28.564400', 'Vendido: 1']\n",
      "['ID: 22', 'Produto: CPU', 'Valor: 120.0', 'Data: 2022-09-03 16:26:28.564400', 'Vendido: 0']\n",
      "['ID: 23', 'Produto: Câmera', 'Valor: 66.0', 'Data: 2022-09-13 16:27:15.370405', 'Vendido: 0']\n"
     ]
    }
   ],
   "source": [
    "# Inserir com o auxílio de uma tupla ou lista.\n",
    "\n",
    "# A execução muda\n",
    "\n",
    "Query = \"INSERT INTO random_table('Produto','Valor','Data','Vendido') VALUES(?, ?, ?,?)\"\n",
    "\n",
    "Observação = ['Câmera',66,datetime.datetime.now(),0]\n",
    "\n",
    "\n",
    "Conn = sqlite3.connect(arquivo)\n",
    "Cursor = Conn.cursor()\n",
    "\n",
    "Cursor.execute(Query,Observação)\n",
    "\n",
    "Conn.commit()\n",
    "Cursor.close()\n",
    "Conn.close()\n",
    "\n",
    "showall(arquivo,tabela)\n"
   ]
  },
  {
   "cell_type": "code",
   "execution_count": 32,
   "metadata": {},
   "outputs": [
    {
     "name": "stdout",
     "output_type": "stream",
     "text": [
      "Colunas ['ID', 'Produto', 'Valor', 'Data', 'Vendido']\n",
      "['ID: 1', 'Produto: Monitor', 'Valor: 71.0', 'Data: 2022-09-13 16:17:59.754015', 'Vendido: 0']\n",
      "['ID: 2', 'Produto: Teclado', 'Valor: 73.0', 'Data: 2022-09-13 16:17:59.760010', 'Vendido: 0']\n",
      "['ID: 3', 'Produto: Monitor', 'Valor: 86.0', 'Data: 2022-09-13 16:17:59.827968', 'Vendido: 0']\n",
      "['ID: 4', 'Produto: CPU', 'Valor: 63.0', 'Data: 2022-09-13 16:17:59.986871', 'Vendido: 1']\n",
      "['ID: 5', 'Produto: Teclado', 'Valor: 91.0', 'Data: 2022-09-13 16:18:00.044834', 'Vendido: 1']\n",
      "['ID: 6', 'Produto: Monitor', 'Valor: 78.0', 'Data: 2022-09-13 16:18:00.084810', 'Vendido: 0']\n",
      "['ID: 7', 'Produto: CPU', 'Valor: 90.0', 'Data: 2022-09-13 16:18:00.201738', 'Vendido: 1']\n",
      "['ID: 8', 'Produto: CPU', 'Valor: 94.0', 'Data: 2022-09-13 16:18:00.246709', 'Vendido: 1']\n",
      "['ID: 9', 'Produto: Teclado', 'Valor: 57.0', 'Data: 2022-09-13 16:18:00.270695', 'Vendido: 1']\n",
      "['ID: 10', 'Produto: CPU', 'Valor: 50.0', 'Data: 2022-09-13 16:18:00.302675', 'Vendido: 0']\n",
      "['ID: 11', 'Produto: Monitor', 'Valor: 59.0', 'Data: 2022-09-13 16:18:00.320664', 'Vendido: 0']\n",
      "['ID: 12', 'Produto: Monitor', 'Valor: 58.0', 'Data: 2022-09-13 16:18:00.351644', 'Vendido: 1']\n",
      "['ID: 13', 'Produto: Mouse', 'Valor: 74.0', 'Data: 2022-09-13 16:18:00.368634', 'Vendido: 0']\n",
      "['ID: 14', 'Produto: Mouse', 'Valor: 80.0', 'Data: 2022-09-13 16:18:00.394619', 'Vendido: 0']\n",
      "['ID: 15', 'Produto: Monitor', 'Valor: 56.0', 'Data: 2022-09-13 16:18:00.414607', 'Vendido: 1']\n",
      "['ID: 16', 'Produto: Monitor', 'Valor: 75.0', 'Data: 2022-09-13 16:18:00.435593', 'Vendido: 0']\n",
      "['ID: 17', 'Produto: Monitor', 'Valor: 67.0', 'Data: 2022-09-13 16:18:00.453581', 'Vendido: 0']\n",
      "['ID: 18', 'Produto: Monitor', 'Valor: 80.0', 'Data: 2022-09-13 16:18:00.495555', 'Vendido: 0']\n",
      "['ID: 19', 'Produto: Teclado', 'Valor: 67.0', 'Data: 2022-09-13 16:18:00.521540', 'Vendido: 1']\n",
      "['ID: 20', 'Produto: Mouse', 'Valor: 91.0', 'Data: 2022-09-13 16:18:00.607487', 'Vendido: 0']\n",
      "['ID: 21', 'Produto: CPU', 'Valor: 91.0', 'Data: 2022-09-03 16:26:28.564400', 'Vendido: 1']\n",
      "['ID: 22', 'Produto: CPU', 'Valor: 120.0', 'Data: 2022-09-03 16:26:28.564400', 'Vendido: 0']\n",
      "['ID: 23', 'Produto: Câmera', 'Valor: 66.0', 'Data: 2022-09-13 16:27:15.370405', 'Vendido: 0']\n",
      "['ID: 24', 'Produto: Pendrive', 'Valor: 15.0', 'Data: 2022-09-13 16:27:27.065169', 'Vendido: 0']\n",
      "['ID: 25', 'Produto: Pendrive', 'Valor: 15.0', 'Data: 2022-09-13 16:27:27.065169', 'Vendido: 1']\n",
      "['ID: 26', 'Produto: Pendrive', 'Valor: 20.0', 'Data: 2022-09-13 16:27:27.065169', 'Vendido: 0']\n",
      "['ID: 27', 'Produto: Pendrive', 'Valor: 17.0', 'Data: 2022-09-13 16:27:27.065169', 'Vendido: 1']\n"
     ]
    }
   ],
   "source": [
    "# Executemany\n",
    "# Permite adicionar várias inserções sem um loop.\n",
    "# As observações precisam ser iteráveis dentro de iteráveis.\n",
    "\n",
    "Query = \"INSERT INTO random_table('Produto','Valor','Data','Vendido') VALUES(?, ?, ?,?)\"\n",
    "\n",
    "Observações = (('Pendrive',15,datetime.datetime.now(),0),('Pendrive',15,datetime.datetime.now(),1),('Pendrive',20,datetime.datetime.now(),0),('Pendrive',17,datetime.datetime.now(),1))\n",
    "\n",
    "\n",
    "Conn = sqlite3.connect(arquivo)\n",
    "Cursor = Conn.cursor()\n",
    "\n",
    "Cursor.executemany(Query,Observações)\n",
    "\n",
    "Conn.commit()\n",
    "Cursor.close()\n",
    "Conn.close()\n",
    "\n",
    "showall(arquivo,tabela)"
   ]
  },
  {
   "cell_type": "code",
   "execution_count": 33,
   "metadata": {},
   "outputs": [
    {
     "name": "stdout",
     "output_type": "stream",
     "text": [
      "Colunas ['ID', 'Produto', 'Valor', 'Data', 'Vendido']\n",
      "['ID: 1', 'Produto: Monitor', 'Valor: 71.0', 'Data: 2022-09-13 16:17:59.754015', 'Vendido: 0']\n",
      "['ID: 2', 'Produto: Teclado', 'Valor: 73.0', 'Data: 2022-09-13 16:17:59.760010', 'Vendido: 0']\n",
      "['ID: 3', 'Produto: Monitor', 'Valor: 86.0', 'Data: 2022-09-13 16:17:59.827968', 'Vendido: 0']\n",
      "['ID: 4', 'Produto: CPU', 'Valor: 63.0', 'Data: 2022-09-13 16:17:59.986871', 'Vendido: 1']\n",
      "['ID: 5', 'Produto: Teclado', 'Valor: 91.0', 'Data: 2022-09-13 16:18:00.044834', 'Vendido: 1']\n",
      "['ID: 6', 'Produto: Monitor', 'Valor: 78.0', 'Data: 2022-09-13 16:18:00.084810', 'Vendido: 0']\n",
      "['ID: 7', 'Produto: CPU', 'Valor: 90.0', 'Data: 2022-09-13 16:18:00.201738', 'Vendido: 1']\n",
      "['ID: 8', 'Produto: CPU', 'Valor: 94.0', 'Data: 2022-09-13 16:18:00.246709', 'Vendido: 1']\n",
      "['ID: 13', 'Produto: Mouse', 'Valor: 74.0', 'Data: 2022-09-13 16:18:00.368634', 'Vendido: 0']\n",
      "['ID: 14', 'Produto: Mouse', 'Valor: 80.0', 'Data: 2022-09-13 16:18:00.394619', 'Vendido: 0']\n",
      "['ID: 16', 'Produto: Monitor', 'Valor: 75.0', 'Data: 2022-09-13 16:18:00.435593', 'Vendido: 0']\n",
      "['ID: 17', 'Produto: Monitor', 'Valor: 67.0', 'Data: 2022-09-13 16:18:00.453581', 'Vendido: 0']\n",
      "['ID: 18', 'Produto: Monitor', 'Valor: 80.0', 'Data: 2022-09-13 16:18:00.495555', 'Vendido: 0']\n",
      "['ID: 19', 'Produto: Teclado', 'Valor: 67.0', 'Data: 2022-09-13 16:18:00.521540', 'Vendido: 1']\n",
      "['ID: 20', 'Produto: Mouse', 'Valor: 91.0', 'Data: 2022-09-13 16:18:00.607487', 'Vendido: 0']\n",
      "['ID: 21', 'Produto: CPU', 'Valor: 91.0', 'Data: 2022-09-03 16:26:28.564400', 'Vendido: 1']\n",
      "['ID: 22', 'Produto: CPU', 'Valor: 120.0', 'Data: 2022-09-03 16:26:28.564400', 'Vendido: 0']\n",
      "['ID: 23', 'Produto: Câmera', 'Valor: 66.0', 'Data: 2022-09-13 16:27:15.370405', 'Vendido: 0']\n"
     ]
    }
   ],
   "source": [
    "# Deletar dado\n",
    "# Sem filtro, deleta todos os dados.\n",
    "\n",
    "Query = \"DELETE FROM random_table WHERE Valor < 60\"\n",
    "\n",
    "Execute_and_Commit(Query,arquivo,tabela)"
   ]
  },
  {
   "cell_type": "code",
   "execution_count": 34,
   "metadata": {},
   "outputs": [
    {
     "name": "stdout",
     "output_type": "stream",
     "text": [
      "Colunas ['ID', 'Produto', 'Valor', 'Data', 'Vendido']\n",
      "['ID: 1', 'Produto: Monitor', 'Valor: 71.0', 'Data: 2022-09-13 16:17:59.754015', 'Vendido: 0']\n",
      "['ID: 2', 'Produto: Teclado', 'Valor: 73.0', 'Data: 2022-09-13 16:17:59.760010', 'Vendido: 0']\n",
      "['ID: 3', 'Produto: Monitor', 'Valor: 86.0', 'Data: 2022-09-13 16:17:59.827968', 'Vendido: 0']\n",
      "['ID: 4', 'Produto: CPU', 'Valor: 63.0', 'Data: 2022-09-13 16:17:59.986871', 'Vendido: 1']\n",
      "['ID: 5', 'Produto: Teclado', 'Valor: 91.0', 'Data: 2022-09-13 16:18:00.044834', 'Vendido: 1']\n",
      "['ID: 6', 'Produto: Monitor', 'Valor: 78.0', 'Data: 2022-09-13 16:18:00.084810', 'Vendido: 0']\n",
      "['ID: 7', 'Produto: CPU', 'Valor: 90.0', 'Data: 2022-09-13 16:18:00.201738', 'Vendido: 1']\n",
      "['ID: 8', 'Produto: CPU', 'Valor: 94.0', 'Data: 2022-09-13 16:18:00.246709', 'Vendido: 1']\n",
      "['ID: 13', 'Produto: Mouse', 'Valor: 74.0', 'Data: 2022-09-13 16:18:00.368634', 'Vendido: 0']\n",
      "['ID: 14', 'Produto: Mouse', 'Valor: 80.0', 'Data: 2022-09-13 16:18:00.394619', 'Vendido: 0']\n",
      "['ID: 16', 'Produto: Monitor', 'Valor: 75.0', 'Data: 2022-09-13 16:18:00.435593', 'Vendido: 0']\n",
      "['ID: 17', 'Produto: Monitor', 'Valor: 67.0', 'Data: 2022-09-13 16:18:00.453581', 'Vendido: 0']\n",
      "['ID: 18', 'Produto: Monitor', 'Valor: 80.0', 'Data: 2022-09-13 16:18:00.495555', 'Vendido: 0']\n",
      "['ID: 19', 'Produto: Teclado', 'Valor: 67.0', 'Data: 2022-09-13 16:18:00.521540', 'Vendido: 1']\n",
      "['ID: 20', 'Produto: Mouse', 'Valor: 91.0', 'Data: 2022-09-13 16:18:00.607487', 'Vendido: 0']\n",
      "['ID: 21', 'Produto: CPU', 'Valor: 91.0', 'Data: 2022-09-03 16:26:28.564400', 'Vendido: 1']\n",
      "['ID: 22', 'Produto: CPU', 'Valor: 120.0', 'Data: 2022-09-03 16:26:28.564400', 'Vendido: 0']\n",
      "['ID: 23', 'Produto: Câmera', 'Valor: 66.0', 'Data: 2022-09-13 16:27:15.370405', 'Vendido: 0']\n",
      "['ID: 28', 'Produto: None', 'Valor: 120.0', 'Data: 2022-09-03 16:26:28.564400', 'Vendido: 0']\n"
     ]
    }
   ],
   "source": [
    "# Valores NULL\n",
    "\n",
    "Query = \"INSERT INTO random_table('Valor','Data','Vendido') VALUES(120.0, '2022-09-03 16:26:28.564400',0)\"\n",
    "\n",
    "Execute_and_Commit(Query,arquivo,tabela)\n",
    "\n",
    "# Em Python é apresentado como None\n",
    "# Como o ID tem Autoincremento, esse valor não fica nulo.\n",
    "# O tratamento de variáveis nulas é demonstrada em \"Filtros e Operadores Lógicos\""
   ]
  },
  {
   "cell_type": "markdown",
   "metadata": {},
   "source": [
    "### Alteração\n",
    "<a id='Alteração'></a>"
   ]
  },
  {
   "cell_type": "code",
   "execution_count": 35,
   "metadata": {},
   "outputs": [
    {
     "name": "stdout",
     "output_type": "stream",
     "text": [
      "Colunas ['ID', 'Produto', 'Valor', 'Data', 'Vendido']\n",
      "['ID: 1', 'Produto: Monitor', 'Valor: 71.0', 'Data: 2022-09-13 16:17:59.754015', 'Vendido: 0']\n",
      "['ID: 2', 'Produto: Cabos', 'Valor: 73.0', 'Data: 2022-09-13 16:17:59.760010', 'Vendido: 0']\n",
      "['ID: 3', 'Produto: Monitor', 'Valor: 86.0', 'Data: 2022-09-13 16:17:59.827968', 'Vendido: 0']\n",
      "['ID: 4', 'Produto: CPU', 'Valor: 63.0', 'Data: 2022-09-13 16:17:59.986871', 'Vendido: 1']\n",
      "['ID: 5', 'Produto: Teclado', 'Valor: 91.0', 'Data: 2022-09-13 16:18:00.044834', 'Vendido: 1']\n",
      "['ID: 6', 'Produto: Monitor', 'Valor: 78.0', 'Data: 2022-09-13 16:18:00.084810', 'Vendido: 0']\n",
      "['ID: 7', 'Produto: CPU', 'Valor: 90.0', 'Data: 2022-09-13 16:18:00.201738', 'Vendido: 1']\n",
      "['ID: 8', 'Produto: CPU', 'Valor: 94.0', 'Data: 2022-09-13 16:18:00.246709', 'Vendido: 1']\n",
      "['ID: 13', 'Produto: Mouse', 'Valor: 74.0', 'Data: 2022-09-13 16:18:00.368634', 'Vendido: 0']\n",
      "['ID: 14', 'Produto: Mouse', 'Valor: 80.0', 'Data: 2022-09-13 16:18:00.394619', 'Vendido: 0']\n",
      "['ID: 16', 'Produto: Monitor', 'Valor: 75.0', 'Data: 2022-09-13 16:18:00.435593', 'Vendido: 0']\n",
      "['ID: 17', 'Produto: Monitor', 'Valor: 67.0', 'Data: 2022-09-13 16:18:00.453581', 'Vendido: 0']\n",
      "['ID: 18', 'Produto: Monitor', 'Valor: 80.0', 'Data: 2022-09-13 16:18:00.495555', 'Vendido: 0']\n",
      "['ID: 19', 'Produto: Teclado', 'Valor: 67.0', 'Data: 2022-09-13 16:18:00.521540', 'Vendido: 1']\n",
      "['ID: 20', 'Produto: Mouse', 'Valor: 91.0', 'Data: 2022-09-13 16:18:00.607487', 'Vendido: 0']\n",
      "['ID: 21', 'Produto: CPU', 'Valor: 91.0', 'Data: 2022-09-03 16:26:28.564400', 'Vendido: 1']\n",
      "['ID: 22', 'Produto: CPU', 'Valor: 120.0', 'Data: 2022-09-03 16:26:28.564400', 'Vendido: 0']\n",
      "['ID: 23', 'Produto: Câmera', 'Valor: 66.0', 'Data: 2022-09-13 16:27:15.370405', 'Vendido: 0']\n",
      "['ID: 28', 'Produto: None', 'Valor: 120.0', 'Data: 2022-09-03 16:26:28.564400', 'Vendido: 0']\n"
     ]
    }
   ],
   "source": [
    "# Mudança de valor\n",
    "# UPDATE/SET\n",
    "# Sem filtro, altera todos os dados.\n",
    "\n",
    "Query = \"UPDATE random_table SET Produto = 'Cabos' WHERE id = 2\"\n",
    "\n",
    "Execute_and_Commit(Query,arquivo,tabela)"
   ]
  },
  {
   "cell_type": "markdown",
   "metadata": {},
   "source": [
    "### Filtros e Operadores Lógicos\n",
    "<a id='Filtros e Operadores Lógicos'></a>"
   ]
  },
  {
   "cell_type": "code",
   "execution_count": 36,
   "metadata": {},
   "outputs": [
    {
     "name": "stdout",
     "output_type": "stream",
     "text": [
      "('Produto', None, None, None, None, None, None)\n",
      "('Valor', None, None, None, None, None, None)\n",
      "\n",
      "('Monitor', 71.0)\n",
      "('Monitor', 86.0)\n",
      "('Monitor', 78.0)\n",
      "('CPU', 94.0)\n",
      "('Monitor', 75.0)\n",
      "('Monitor', 67.0)\n",
      "('Monitor', 80.0)\n",
      "('CPU', 91.0)\n",
      "('CPU', 120.0)\n"
     ]
    }
   ],
   "source": [
    "# WHERE filtra os dados considerados\n",
    "# Se o filtro é aplicado duas vezes a uma mesma coluna, ele deve ser demonstrado duas vezes\n",
    "\n",
    "Query = \"SELECT Produto, Valor FROM random_table WHERE Produto = 'Monitor' OR Produto = 'CPU' AND Valor > 90\"\n",
    "\n",
    "# Desta forma, apenas CPU é filtrada acima de 90. Monitores não foram filtrados\n",
    "\n",
    "Execute_and_Show(Query,arquivo)"
   ]
  },
  {
   "cell_type": "code",
   "execution_count": 37,
   "metadata": {},
   "outputs": [
    {
     "name": "stdout",
     "output_type": "stream",
     "text": [
      "('Produto', None, None, None, None, None, None)\n",
      "('Valor', None, None, None, None, None, None)\n",
      "\n",
      "('CPU', 94.0)\n",
      "('CPU', 91.0)\n",
      "('CPU', 120.0)\n"
     ]
    }
   ],
   "source": [
    "# Assim, o filtro é aplicado a ambos os tipos de produtos\n",
    "\n",
    "Query = \"SELECT Produto, Valor FROM random_table WHERE (Produto = 'Monitor' OR Produto = 'CPU') AND Valor > 90\"\n",
    "\n",
    "Execute_and_Show(Query,arquivo)"
   ]
  },
  {
   "cell_type": "code",
   "execution_count": 38,
   "metadata": {},
   "outputs": [
    {
     "name": "stdout",
     "output_type": "stream",
     "text": [
      "('ID', None, None, None, None, None, None)\n",
      "('Produto', None, None, None, None, None, None)\n",
      "('Valor', None, None, None, None, None, None)\n",
      "('Data', None, None, None, None, None, None)\n",
      "('Vendido', None, None, None, None, None, None)\n",
      "\n",
      "(4, 'CPU', 63.0, '2022-09-13 16:17:59.986871', 1)\n",
      "(5, 'Teclado', 91.0, '2022-09-13 16:18:00.044834', 1)\n",
      "(7, 'CPU', 90.0, '2022-09-13 16:18:00.201738', 1)\n",
      "(8, 'CPU', 94.0, '2022-09-13 16:18:00.246709', 1)\n",
      "(19, 'Teclado', 67.0, '2022-09-13 16:18:00.521540', 1)\n",
      "(21, 'CPU', 91.0, '2022-09-03 16:26:28.564400', 1)\n"
     ]
    }
   ],
   "source": [
    "# NOT\n",
    "# Deve ser usado antes da condição\n",
    "\n",
    "Query = \"SELECT * FROM random_table WHERE NOT Produto = 'Monitor' AND NOT Vendido = 0\"\n",
    "\n",
    "Execute_and_Show(Query,arquivo)"
   ]
  },
  {
   "cell_type": "code",
   "execution_count": 39,
   "metadata": {},
   "outputs": [],
   "source": [
    "# Variável SE"
   ]
  },
  {
   "cell_type": "code",
   "execution_count": 40,
   "metadata": {},
   "outputs": [
    {
     "name": "stdout",
     "output_type": "stream",
     "text": [
      "('name', None, None, None, None, None, None)\n",
      "\n",
      "\n",
      "('name', None, None, None, None, None, None)\n",
      "\n",
      "('random_table',)\n"
     ]
    }
   ],
   "source": [
    "# Verificação se determinada tabela existe\n",
    "\n",
    "Query1 = 'SELECT name from sqlite_master WHERE type = \"table\" AND name = \"Exemplo\"'\n",
    "Query2 = 'SELECT name from sqlite_master WHERE type = \"table\" AND name = \"random_table\"'\n",
    "\n",
    "Execute_and_Show(Query1,arquivo)\n",
    "print()\n",
    "Execute_and_Show(Query2,arquivo)\n",
    "\n",
    "# Se a tabela não existe, nome nenhum é apresentado."
   ]
  },
  {
   "cell_type": "code",
   "execution_count": 41,
   "metadata": {},
   "outputs": [
    {
     "name": "stdout",
     "output_type": "stream",
     "text": [
      "('ID', None, None, None, None, None, None)\n",
      "('Produto', None, None, None, None, None, None)\n",
      "('Valor', None, None, None, None, None, None)\n",
      "('Data', None, None, None, None, None, None)\n",
      "('Vendido', None, None, None, None, None, None)\n",
      "\n",
      "(28, None, 120.0, '2022-09-03 16:26:28.564400', 0)\n"
     ]
    }
   ],
   "source": [
    "# Tratamendo de valores nulos\n",
    "# IS NULL | IS NOT NULL\n",
    "\n",
    "Query = \"SELECT * FROM random_table WHERE Produto IS NULL\"\n",
    "\n",
    "Execute_and_Show(Query,arquivo)"
   ]
  },
  {
   "cell_type": "code",
   "execution_count": 42,
   "metadata": {},
   "outputs": [
    {
     "name": "stdout",
     "output_type": "stream",
     "text": [
      "('Produto', None, None, None, None, None, None)\n",
      "('Valor', None, None, None, None, None, None)\n",
      "\n",
      "('Monitor', 71.0)\n",
      "('Monitor', 86.0)\n",
      "('Monitor', 78.0)\n",
      "('Mouse', 74.0)\n",
      "('Mouse', 80.0)\n",
      "('Monitor', 75.0)\n",
      "('Monitor', 67.0)\n",
      "('Monitor', 80.0)\n",
      "('Mouse', 91.0)\n"
     ]
    }
   ],
   "source": [
    "# LIKE e Wildcards (coringas)\n",
    "# LIKE, em filtros WHERE, é usado em substituição do sinal '=', quando o que segue é uma wildcard.\n",
    "# Wildcards se parecem com variáveis Regex\n",
    "    # '%' representa/substitui qualquer número de quaisquer caracteres.\n",
    "    # '_' representa/substitui exatamente um caractere qualquer.\n",
    "\n",
    "Query = \"SELECT Produto, Valor FROM random_table WHERE Produto LIKE '_o%'\"\n",
    "# Filtra linhas cujos valores na coluna \"Produto\" têm a letra \"o\" como segunda letra\n",
    "\n",
    "Execute_and_Show(Query,arquivo)"
   ]
  },
  {
   "cell_type": "code",
   "execution_count": 43,
   "metadata": {},
   "outputs": [
    {
     "name": "stdout",
     "output_type": "stream",
     "text": [
      "('ID', None, None, None, None, None, None)\n",
      "('Produto', None, None, None, None, None, None)\n",
      "('Valor', None, None, None, None, None, None)\n",
      "('Data', None, None, None, None, None, None)\n",
      "('Vendido', None, None, None, None, None, None)\n",
      "\n",
      "(1, 'Monitor', 71.0, '2022-09-13 16:17:59.754015', 0)\n",
      "(2, 'Cabos', 73.0, '2022-09-13 16:17:59.760010', 0)\n",
      "(3, 'Monitor', 86.0, '2022-09-13 16:17:59.827968', 0)\n",
      "(4, 'CPU', 63.0, '2022-09-13 16:17:59.986871', 1)\n",
      "(5, 'Teclado', 91.0, '2022-09-13 16:18:00.044834', 1)\n",
      "(6, 'Monitor', 78.0, '2022-09-13 16:18:00.084810', 0)\n",
      "(7, 'CPU', 90.0, '2022-09-13 16:18:00.201738', 1)\n",
      "(8, 'CPU', 94.0, '2022-09-13 16:18:00.246709', 1)\n",
      "(13, 'Mouse', 74.0, '2022-09-13 16:18:00.368634', 0)\n",
      "(14, 'Mouse', 80.0, '2022-09-13 16:18:00.394619', 0)\n",
      "(16, 'Monitor', 75.0, '2022-09-13 16:18:00.435593', 0)\n",
      "(17, 'Monitor', 67.0, '2022-09-13 16:18:00.453581', 0)\n",
      "(18, 'Monitor', 80.0, '2022-09-13 16:18:00.495555', 0)\n",
      "(19, 'Teclado', 67.0, '2022-09-13 16:18:00.521540', 1)\n",
      "(20, 'Mouse', 91.0, '2022-09-13 16:18:00.607487', 0)\n",
      "(21, 'CPU', 91.0, '2022-09-03 16:26:28.564400', 1)\n",
      "(22, 'CPU', 120.0, '2022-09-03 16:26:28.564400', 0)\n",
      "(23, 'Câmera', 66.0, '2022-09-13 16:27:15.370405', 0)\n"
     ]
    }
   ],
   "source": [
    "# IN É usado em substituição ao sinal '=' em cláusulas que usam WHERE.\n",
    "# É exigido quando vários valores são pssíveis, ou qundo uma declaração é dada como comparação.\n",
    "\n",
    "Query = \"SELECT * FROM random_table WHERE Produto IN (SELECT Produto FROM random_table)\"\n",
    "# Como NULL não é um valor, ele não pode ser usado como critério para filtrar os dados.\n",
    "\n",
    "Execute_and_Show(Query,arquivo)"
   ]
  },
  {
   "cell_type": "code",
   "execution_count": 44,
   "metadata": {},
   "outputs": [
    {
     "name": "stdout",
     "output_type": "stream",
     "text": [
      "('ID', None, None, None, None, None, None)\n",
      "('Produto', None, None, None, None, None, None)\n",
      "('Valor', None, None, None, None, None, None)\n",
      "('Data', None, None, None, None, None, None)\n",
      "('Vendido', None, None, None, None, None, None)\n",
      "\n",
      "(1, 'Monitor', 71.0, '2022-09-13 16:17:59.754015', 0)\n",
      "(2, 'Cabos', 73.0, '2022-09-13 16:17:59.760010', 0)\n",
      "(3, 'Monitor', 86.0, '2022-09-13 16:17:59.827968', 0)\n",
      "(6, 'Monitor', 78.0, '2022-09-13 16:18:00.084810', 0)\n",
      "(7, 'CPU', 90.0, '2022-09-13 16:18:00.201738', 1)\n",
      "(13, 'Mouse', 74.0, '2022-09-13 16:18:00.368634', 0)\n",
      "(14, 'Mouse', 80.0, '2022-09-13 16:18:00.394619', 0)\n",
      "(16, 'Monitor', 75.0, '2022-09-13 16:18:00.435593', 0)\n",
      "(17, 'Monitor', 67.0, '2022-09-13 16:18:00.453581', 0)\n",
      "(18, 'Monitor', 80.0, '2022-09-13 16:18:00.495555', 0)\n",
      "(19, 'Teclado', 67.0, '2022-09-13 16:18:00.521540', 1)\n",
      "\n",
      "('ID', None, None, None, None, None, None)\n",
      "('Produto', None, None, None, None, None, None)\n",
      "('Valor', None, None, None, None, None, None)\n",
      "('Data', None, None, None, None, None, None)\n",
      "('Vendido', None, None, None, None, None, None)\n",
      "\n",
      "(4, 'CPU', 63.0, '2022-09-13 16:17:59.986871', 1)\n",
      "(5, 'Teclado', 91.0, '2022-09-13 16:18:00.044834', 1)\n",
      "(8, 'CPU', 94.0, '2022-09-13 16:18:00.246709', 1)\n",
      "(20, 'Mouse', 91.0, '2022-09-13 16:18:00.607487', 0)\n",
      "(21, 'CPU', 91.0, '2022-09-03 16:26:28.564400', 1)\n",
      "(22, 'CPU', 120.0, '2022-09-03 16:26:28.564400', 0)\n",
      "(23, 'Câmera', 66.0, '2022-09-13 16:27:15.370405', 0)\n",
      "(28, None, 120.0, '2022-09-03 16:26:28.564400', 0)\n"
     ]
    }
   ],
   "source": [
    "# Filtrando valores dentro de uma faixa.\n",
    "# BETWEEN AND\n",
    "\n",
    "Query = \"SELECT * FROM random_table WHERE Valor BETWEEN 67 AND 90\"\n",
    "\n",
    "Execute_and_Show(Query,arquivo)\n",
    "\n",
    "print()\n",
    "\n",
    "\n",
    "Query = \"SELECT * FROM random_table WHERE Valor NOT BETWEEN 67 AND 90\"\n",
    "\n",
    "Execute_and_Show(Query,arquivo)"
   ]
  },
  {
   "cell_type": "code",
   "execution_count": 76,
   "metadata": {},
   "outputs": [
    {
     "name": "stdout",
     "output_type": "stream",
     "text": [
      "('ID', None, None, None, None, None, None)\n",
      "('Produto', None, None, None, None, None, None)\n",
      "('Valor', None, None, None, None, None, None)\n",
      "('Data', None, None, None, None, None, None)\n",
      "('Vendido', None, None, None, None, None, None)\n",
      "\n",
      "/n/n\n",
      "('ID', None, None, None, None, None, None)\n",
      "('Produto', None, None, None, None, None, None)\n",
      "('Valor', None, None, None, None, None, None)\n",
      "('Data', None, None, None, None, None, None)\n",
      "('Vendido', None, None, None, None, None, None)\n",
      "\n",
      "(1, 'Monitor', 71.0, '2022-09-13 16:17:59.754015', 0)\n",
      "(3, 'Monitor', 86.0, '2022-09-13 16:17:59.827968', 0)\n",
      "(4, 'CPU', 63.0, '2022-09-13 16:17:59.986871', 1)\n",
      "(5, 'Teclado', 91.0, '2022-09-13 16:18:00.044834', 1)\n",
      "(6, 'Monitor', 78.0, '2022-09-13 16:18:00.084810', 0)\n",
      "(7, 'CPU', 90.0, '2022-09-13 16:18:00.201738', 1)\n",
      "(8, 'CPU', 94.0, '2022-09-13 16:18:00.246709', 1)\n",
      "(13, 'Mouse', 74.0, '2022-09-13 16:18:00.368634', 0)\n",
      "(14, 'Mouse', 80.0, '2022-09-13 16:18:00.394619', 0)\n",
      "(16, 'Monitor', 75.0, '2022-09-13 16:18:00.435593', 0)\n",
      "(17, 'Monitor', 67.0, '2022-09-13 16:18:00.453581', 0)\n",
      "(18, 'Monitor', 80.0, '2022-09-13 16:18:00.495555', 0)\n",
      "(19, 'Teclado', 67.0, '2022-09-13 16:18:00.521540', 1)\n",
      "(20, 'Mouse', 91.0, '2022-09-13 16:18:00.607487', 0)\n",
      "(21, 'CPU', 91.0, '2022-09-03 16:26:28.564400', 1)\n",
      "(22, 'CPU', 120.0, '2022-09-03 16:26:28.564400', 0)\n",
      "(28, None, 120.0, '2022-09-03 16:26:28.564400', 0)\n"
     ]
    }
   ],
   "source": [
    "# EXISTS\n",
    "# Testa se algum valor é encontrado em certa seleção. Retornará \"True\" desde que haja ao menos um valor\n",
    "\n",
    "Query = 'select * from random_table WHERE EXISTS (select * from random_table where valor < 40)'\n",
    "\n",
    "Execute_and_Show(Query,arquivo)\n",
    "print('/n/n')\n",
    "\n",
    "# NOT EXISTS\n",
    "# Testa se algum valor é encontrado em certa seleção. Retornará \"True\" desde que  não haja qualquer registro retornado.\n",
    "\n",
    "Query = 'select * from random_table WHERE NOT EXISTS (select * from random_table where valor < 40)'\n",
    "\n",
    "Execute_and_Show(Query,arquivo)"
   ]
  },
  {
   "cell_type": "markdown",
   "metadata": {},
   "source": [
    "### Valores Únicos / Agregadores"
   ]
  },
  {
   "cell_type": "code",
   "execution_count": 45,
   "metadata": {},
   "outputs": [
    {
     "name": "stdout",
     "output_type": "stream",
     "text": [
      "('COUNT (DISTINCT Produto)', None, None, None, None, None, None)\n",
      "\n",
      "(6,)\n",
      "\n",
      "('COUNT (*)', None, None, None, None, None, None)\n",
      "\n",
      "(8,)\n"
     ]
    }
   ],
   "source": [
    "# Contagem\n",
    "# Mais utilizado com DISTINCT\n",
    "\n",
    "Query = \"SELECT COUNT (DISTINCT Produto) FROM random_table\"\n",
    "\n",
    "Execute_and_Show(Query,arquivo)\n",
    "\n",
    "\n",
    "print()     ###     ###     ###     ###     ###     ###     ###     ###     ###     ###     ###     ###     ###\n",
    "\n",
    "\n",
    "# Para contar uma distinção com duas colunas, é preciso contar tudo de uma seleção com o filtro de distinção\n",
    "\n",
    "Query = 'SELECT COUNT (*) FROM (SELECT DISTINCT Produto, Vendido FROM random_table)'\n",
    "\n",
    "Execute_and_Show(Query,arquivo)"
   ]
  },
  {
   "cell_type": "code",
   "execution_count": 46,
   "metadata": {},
   "outputs": [
    {
     "name": "stdout",
     "output_type": "stream",
     "text": [
      "('MIN (Valor)', None, None, None, None, None, None)\n",
      "\n",
      "(63.0,)\n"
     ]
    }
   ],
   "source": [
    "# Mínimo e Máximo\n",
    "# MIN | MAX\n",
    "\n",
    "Query = \"SELECT MIN (Valor) FROM random_table\"\n",
    "\n",
    "Execute_and_Show(Query,arquivo)"
   ]
  },
  {
   "cell_type": "code",
   "execution_count": 47,
   "metadata": {},
   "outputs": [
    {
     "name": "stdout",
     "output_type": "stream",
     "text": [
      "('AVG (Valor)', None, None, None, None, None, None)\n",
      "\n",
      "(83.0,)\n"
     ]
    }
   ],
   "source": [
    "# Média\n",
    "# AVG\n",
    "\n",
    "Query = \"SELECT AVG (Valor) FROM random_table\"\n",
    "\n",
    "Execute_and_Show(Query,arquivo)"
   ]
  },
  {
   "cell_type": "code",
   "execution_count": 48,
   "metadata": {},
   "outputs": [
    {
     "name": "stdout",
     "output_type": "stream",
     "text": [
      "('SUM (Valor)', None, None, None, None, None, None)\n",
      "\n",
      "(1577.0,)\n"
     ]
    }
   ],
   "source": [
    "# Soma\n",
    "# SUM\n",
    "\n",
    "Query = \"SELECT SUM (Valor) FROM random_table\"\n",
    "\n",
    "Execute_and_Show(Query,arquivo)"
   ]
  },
  {
   "cell_type": "markdown",
   "metadata": {},
   "source": [
    "## Sobre o SQLite3"
   ]
  },
  {
   "cell_type": "markdown",
   "metadata": {},
   "source": [
    "Conexão com a memória."
   ]
  },
  {
   "cell_type": "code",
   "execution_count": 49,
   "metadata": {},
   "outputs": [],
   "source": [
    "con_mem = sqlite3.connect(':memory:')\n",
    "\n",
    "###\n",
    "\n",
    "con_mem.close()"
   ]
  },
  {
   "cell_type": "markdown",
   "metadata": {},
   "source": [
    "Contagem de linhas afetadas"
   ]
  },
  {
   "cell_type": "code",
   "execution_count": 50,
   "metadata": {},
   "outputs": [
    {
     "name": "stdout",
     "output_type": "stream",
     "text": [
      "2\n",
      "\n",
      "Colunas ['ID', 'Produto', 'Valor', 'Data', 'Vendido']\n",
      "['ID: 1', 'Produto: Monitor', 'Valor: 71.0', 'Data: 2022-09-13 16:17:59.754015', 'Vendido: 0']\n",
      "['ID: 3', 'Produto: Monitor', 'Valor: 86.0', 'Data: 2022-09-13 16:17:59.827968', 'Vendido: 0']\n",
      "['ID: 4', 'Produto: CPU', 'Valor: 63.0', 'Data: 2022-09-13 16:17:59.986871', 'Vendido: 1']\n",
      "['ID: 5', 'Produto: Teclado', 'Valor: 91.0', 'Data: 2022-09-13 16:18:00.044834', 'Vendido: 1']\n",
      "['ID: 6', 'Produto: Monitor', 'Valor: 78.0', 'Data: 2022-09-13 16:18:00.084810', 'Vendido: 0']\n",
      "['ID: 7', 'Produto: CPU', 'Valor: 90.0', 'Data: 2022-09-13 16:18:00.201738', 'Vendido: 1']\n",
      "['ID: 8', 'Produto: CPU', 'Valor: 94.0', 'Data: 2022-09-13 16:18:00.246709', 'Vendido: 1']\n",
      "['ID: 13', 'Produto: Mouse', 'Valor: 74.0', 'Data: 2022-09-13 16:18:00.368634', 'Vendido: 0']\n",
      "['ID: 14', 'Produto: Mouse', 'Valor: 80.0', 'Data: 2022-09-13 16:18:00.394619', 'Vendido: 0']\n",
      "['ID: 16', 'Produto: Monitor', 'Valor: 75.0', 'Data: 2022-09-13 16:18:00.435593', 'Vendido: 0']\n",
      "['ID: 17', 'Produto: Monitor', 'Valor: 67.0', 'Data: 2022-09-13 16:18:00.453581', 'Vendido: 0']\n",
      "['ID: 18', 'Produto: Monitor', 'Valor: 80.0', 'Data: 2022-09-13 16:18:00.495555', 'Vendido: 0']\n",
      "['ID: 19', 'Produto: Teclado', 'Valor: 67.0', 'Data: 2022-09-13 16:18:00.521540', 'Vendido: 1']\n",
      "['ID: 20', 'Produto: Mouse', 'Valor: 91.0', 'Data: 2022-09-13 16:18:00.607487', 'Vendido: 0']\n",
      "['ID: 21', 'Produto: CPU', 'Valor: 91.0', 'Data: 2022-09-03 16:26:28.564400', 'Vendido: 1']\n",
      "['ID: 22', 'Produto: CPU', 'Valor: 120.0', 'Data: 2022-09-03 16:26:28.564400', 'Vendido: 0']\n",
      "['ID: 28', 'Produto: None', 'Valor: 120.0', 'Data: 2022-09-03 16:26:28.564400', 'Vendido: 0']\n"
     ]
    }
   ],
   "source": [
    "Query = 'DELETE FROM random_table WHERE Produto = \"Câmera\" OR Produto = \"Cabos\"'\n",
    "\n",
    "Conn = sqlite3.connect(arquivo)\n",
    "Cursor = Conn.cursor()\n",
    "\n",
    "# Isso não só deleta como conta quantas alterações foram feitas.\n",
    "print(Cursor.execute(Query).rowcount)\n",
    "\n",
    "Conn.commit()\n",
    "Cursor.close()\n",
    "Conn.close()\n",
    "\n",
    "print()\n",
    "\n",
    "showall(arquivo,tabela)"
   ]
  },
  {
   "cell_type": "markdown",
   "metadata": {},
   "source": [
    "Características do comando .fetchall()"
   ]
  },
  {
   "cell_type": "code",
   "execution_count": 51,
   "metadata": {},
   "outputs": [
    {
     "name": "stdout",
     "output_type": "stream",
     "text": [
      "Empty Fetched Data: []\n",
      "Stored Fetched Data: [(1, 'Monitor', 71.0, '2022-09-13 16:17:59.754015', 0), (3, 'Monitor', 86.0, '2022-09-13 16:17:59.827968', 0), (4, 'CPU', 63.0, '2022-09-13 16:17:59.986871', 1)]\n"
     ]
    }
   ],
   "source": [
    "# O comando .fetchall é descartável. Depois de executado, torna-se uma lista vazia.\n",
    "\n",
    "Query = \"SELECT * FROM random_table LIMIT 3\"\n",
    "\n",
    "curs = sqlite3.connect(arquivo).cursor()\n",
    "curs.execute(Query)\n",
    "\n",
    "Stored_Data = curs.fetchall()                         # Aqui o Fetchall é utilizado, armazenando a lista numa variável.\n",
    "\n",
    "print('Empty Fetched Data:',curs.fetchall())          # Aqui ele é impresso como uma lista vazi\n",
    "\n",
    "\n",
    "print('Stored Fetched Data:',Stored_Data)\n",
    "\n",
    "\n",
    "curs.close()"
   ]
  },
  {
   "cell_type": "markdown",
   "metadata": {},
   "source": [
    "### Erros e Exceções"
   ]
  },
  {
   "cell_type": "markdown",
   "metadata": {},
   "source": [
    "* *DatabaseError*\n",
    "   * Qualquer erro relacionado ao banco de dados."
   ]
  },
  {
   "cell_type": "markdown",
   "metadata": {},
   "source": [
    "* *IntegrityError*\n",
    "  * É uma subclasse de _DatabaseError_ e surge quando há problema de integridade de dados. Por exemplo, dados extrangeiros não estão atualizados em todas as tabelas resultando na inconsistência dos dados."
   ]
  },
  {
   "cell_type": "markdown",
   "metadata": {},
   "source": [
    "* *ProgrammingError*\n",
    "  * Surge quando há erro de sintaxe, ou a tabela não é encontrada, ou a função é evocada com o número errado de parâmetros/argumentos."
   ]
  },
  {
   "cell_type": "markdown",
   "metadata": {},
   "source": [
    "* *OperationalError*\n",
    "   * Esta exceção surge quando as operações do banco de dados falham; por exemplo, desconexão não usual. Não é culpa do programador."
   ]
  },
  {
   "cell_type": "markdown",
   "metadata": {},
   "source": [
    "* *NotSupportedError*\n",
    "   * Quando você usa algum método que não está definido ou não é suportado pelo banco de dados."
   ]
  }
 ],
 "metadata": {
  "kernelspec": {
   "display_name": "Python 3.10.6 64-bit (microsoft store)",
   "language": "python",
   "name": "python3"
  },
  "language_info": {
   "codemirror_mode": {
    "name": "ipython",
    "version": 3
   },
   "file_extension": ".py",
   "mimetype": "text/x-python",
   "name": "python",
   "nbconvert_exporter": "python",
   "pygments_lexer": "ipython3",
   "version": "3.10.6"
  },
  "orig_nbformat": 4,
  "vscode": {
   "interpreter": {
    "hash": "91b18657112df8a6dc2946b9dfe3559ddfc8e1e2117c2c8071424b5e043bd8e1"
   }
  }
 },
 "nbformat": 4,
 "nbformat_minor": 2
}

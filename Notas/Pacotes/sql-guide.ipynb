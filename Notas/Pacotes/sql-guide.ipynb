{
 "cells": [
  {
   "cell_type": "markdown",
   "metadata": {},
   "source": [
    "# Guia de Comandos SQL Aplicados em Python"
   ]
  },
  {
   "cell_type": "markdown",
   "metadata": {},
   "source": [
    "* [Demonstração](#Demo)\n",
    "* Criação\n",
    "* Adição e Remoção\n",
    "* Alteração\n",
    "* Filtros e Operadores Lógicos"
   ]
  },
  {
   "cell_type": "markdown",
   "metadata": {},
   "source": [
    "Pacotes:"
   ]
  },
  {
   "cell_type": "code",
   "execution_count": 1,
   "metadata": {},
   "outputs": [],
   "source": [
    "import os\n",
    "import sqlite3"
   ]
  },
  {
   "cell_type": "markdown",
   "metadata": {},
   "source": [
    "## Criando um exemplo com funções"
   ]
  },
  {
   "cell_type": "code",
   "execution_count": 2,
   "metadata": {},
   "outputs": [],
   "source": [
    "import random\n",
    "import time\n",
    "import datetime"
   ]
  },
  {
   "cell_type": "code",
   "execution_count": 3,
   "metadata": {},
   "outputs": [],
   "source": [
    "#Database e tabela padrões\n",
    "\n",
    "arquivo = r'../ArquivosParalelos/random_tables.db'\n",
    "tabela = 'random_table'"
   ]
  },
  {
   "cell_type": "code",
   "execution_count": 4,
   "metadata": {},
   "outputs": [],
   "source": [
    "# Função para criar um arquivo e a tabela\n",
    "\n",
    "# todas as variáveis são dadas como strings\n",
    "# \"arquivo\" é o diretório e o nome o arquivo db a ser criado\n",
    "# \"tabela\" é o nome da tabela dentro do db\n",
    "# \"colunas\" recebe os nomes das colunas juntamente com suas diretrizes.\n",
    "\n",
    "\n",
    "def create_table(arquivo,tabela,*colunas_parametros):\n",
    "    c = sqlite3.connect(arquivo).cursor() #Cria o arquivo, se ele já não existe, com a conexão e o cursor.\n",
    "    Colunas = ''\n",
    "    for i in colunas_parametros:\n",
    "        Colunas = Colunas+i+', '\n",
    "    Colunas = Colunas[0:-2] #Remove a vírgula e o espaço no final\n",
    "    c.execute(f'CREATE TABLE IF NOT EXISTS {tabela}({Colunas})')\n",
    "    c.close()"
   ]
  },
  {
   "cell_type": "code",
   "execution_count": 5,
   "metadata": {},
   "outputs": [],
   "source": [
    "# Função para inserir dados.\n",
    "\n",
    "# \"arquivo\" é uma sring com o diretório e o nome do DB\n",
    "# \"tabela\" é uma string contendo o nome da tabela\n",
    "# \"colunas\" é uma lista ou tupla com strings contendo os nomes das colunas.\n",
    "# \"valores\" é uma lista ou tupla contendo os valores a serem acrescentados, na ordem das colunas\n",
    "\n",
    "def data_insert_var(arquivo,tabela,colunas,valores):\n",
    "    conn = sqlite3.connect(arquivo)\n",
    "    c = conn.cursor()\n",
    "\n",
    "    Colunas = ''\n",
    "    for i in colunas:\n",
    "        Colunas = Colunas+i+', '\n",
    "    Colunas = Colunas[0:-2]\n",
    "    print(Colunas)\n",
    "\n",
    "    n = ''\n",
    "    for i in range(len(colunas)):\n",
    "        n = n+'?, '\n",
    "    n = n[0:-2]\n",
    "    print(n)\n",
    "\n",
    "    print('')\n",
    "    print(f\"INSERT INTO {tabela} ({Colunas}) VALUES ({n})\")\n",
    "    print(valores)\n",
    "\n",
    "    c.execute(f\"INSERT INTO {tabela} ({Colunas}) VALUES ({n})\", valores)\n",
    "    conn.commit()\n",
    "    c.close()\n",
    "    conn.close()"
   ]
  },
  {
   "cell_type": "code",
   "execution_count": 6,
   "metadata": {},
   "outputs": [],
   "source": [
    "# Função de leitura\n",
    "\n",
    "def showall(arquivo,tabela):\n",
    "    c = sqlite3.connect(arquivo).cursor()\n",
    "    c.execute(f'select * from {tabela}')\n",
    "    data = c.fetchall()\n",
    "\n",
    "    Colunas = [i[0] for i in c.execute(f'select * from {tabela}').description ]\n",
    "    print(\"Colunas\",Colunas)\n",
    "\n",
    "    for i in data:\n",
    "        linha = []\n",
    "        for j,k in zip(Colunas,i):\n",
    "            linha.append(f\"{j}: {k}\")\n",
    "        print(linha)\n",
    "\n",
    "    c.close()"
   ]
  },
  {
   "cell_type": "code",
   "execution_count": 7,
   "metadata": {},
   "outputs": [
    {
     "name": "stdout",
     "output_type": "stream",
     "text": [
      "Produto, Valor, Data, Vendido\n",
      "?, ?, ?, ?\n",
      "\n",
      "INSERT INTO random_table (Produto, Valor, Data, Vendido) VALUES (?, ?, ?, ?)\n",
      "('Teclado', 75, datetime.datetime(2022, 9, 23, 18, 7, 29, 124935), 1)\n",
      "Produto, Valor, Data, Vendido\n",
      "?, ?, ?, ?\n",
      "\n",
      "INSERT INTO random_table (Produto, Valor, Data, Vendido) VALUES (?, ?, ?, ?)\n",
      "('Mouse', 81, datetime.datetime(2022, 9, 23, 18, 7, 29, 133929), 1)\n",
      "Produto, Valor, Data, Vendido\n",
      "?, ?, ?, ?\n",
      "\n",
      "INSERT INTO random_table (Produto, Valor, Data, Vendido) VALUES (?, ?, ?, ?)\n",
      "('Monitor', 66, datetime.datetime(2022, 9, 23, 18, 7, 29, 156915), 1)\n",
      "Produto, Valor, Data, Vendido\n",
      "?, ?, ?, ?\n",
      "\n",
      "INSERT INTO random_table (Produto, Valor, Data, Vendido) VALUES (?, ?, ?, ?)\n",
      "('Monitor', 88, datetime.datetime(2022, 9, 23, 18, 7, 29, 222874), 0)\n",
      "Produto, Valor, Data, Vendido\n",
      "?, ?, ?, ?\n",
      "\n",
      "INSERT INTO random_table (Produto, Valor, Data, Vendido) VALUES (?, ?, ?, ?)\n",
      "('Teclado', 99, datetime.datetime(2022, 9, 23, 18, 7, 29, 241863), 0)\n",
      "Produto, Valor, Data, Vendido\n",
      "?, ?, ?, ?\n",
      "\n",
      "INSERT INTO random_table (Produto, Valor, Data, Vendido) VALUES (?, ?, ?, ?)\n",
      "('Mouse', 53, datetime.datetime(2022, 9, 23, 18, 7, 29, 255855), 1)\n",
      "Produto, Valor, Data, Vendido\n",
      "?, ?, ?, ?\n",
      "\n",
      "INSERT INTO random_table (Produto, Valor, Data, Vendido) VALUES (?, ?, ?, ?)\n",
      "('Monitor', 81, datetime.datetime(2022, 9, 23, 18, 7, 29, 268853), 0)\n",
      "Produto, Valor, Data, Vendido\n",
      "?, ?, ?, ?\n",
      "\n",
      "INSERT INTO random_table (Produto, Valor, Data, Vendido) VALUES (?, ?, ?, ?)\n",
      "('Teclado', 67, datetime.datetime(2022, 9, 23, 18, 7, 29, 276843), 0)\n",
      "Produto, Valor, Data, Vendido\n",
      "?, ?, ?, ?\n",
      "\n",
      "INSERT INTO random_table (Produto, Valor, Data, Vendido) VALUES (?, ?, ?, ?)\n",
      "('Mouse', 61, datetime.datetime(2022, 9, 23, 18, 7, 29, 286835), 0)\n",
      "Produto, Valor, Data, Vendido\n",
      "?, ?, ?, ?\n",
      "\n",
      "INSERT INTO random_table (Produto, Valor, Data, Vendido) VALUES (?, ?, ?, ?)\n",
      "('CPU', 72, datetime.datetime(2022, 9, 23, 18, 7, 29, 294830), 1)\n",
      "Produto, Valor, Data, Vendido\n",
      "?, ?, ?, ?\n",
      "\n",
      "INSERT INTO random_table (Produto, Valor, Data, Vendido) VALUES (?, ?, ?, ?)\n",
      "('Mouse', 77, datetime.datetime(2022, 9, 23, 18, 7, 29, 304824), 0)\n",
      "Produto, Valor, Data, Vendido\n",
      "?, ?, ?, ?\n",
      "\n",
      "INSERT INTO random_table (Produto, Valor, Data, Vendido) VALUES (?, ?, ?, ?)\n",
      "('CPU', 77, datetime.datetime(2022, 9, 23, 18, 7, 29, 315817), 0)\n",
      "Produto, Valor, Data, Vendido\n",
      "?, ?, ?, ?\n",
      "\n",
      "INSERT INTO random_table (Produto, Valor, Data, Vendido) VALUES (?, ?, ?, ?)\n",
      "('CPU', 81, datetime.datetime(2022, 9, 23, 18, 7, 29, 322812), 1)\n",
      "Produto, Valor, Data, Vendido\n",
      "?, ?, ?, ?\n",
      "\n",
      "INSERT INTO random_table (Produto, Valor, Data, Vendido) VALUES (?, ?, ?, ?)\n",
      "('Mouse', 50, datetime.datetime(2022, 9, 23, 18, 7, 29, 334807), 0)\n",
      "Produto, Valor, Data, Vendido\n",
      "?, ?, ?, ?\n",
      "\n",
      "INSERT INTO random_table (Produto, Valor, Data, Vendido) VALUES (?, ?, ?, ?)\n",
      "('Mouse', 78, datetime.datetime(2022, 9, 23, 18, 7, 29, 345798), 0)\n",
      "Produto, Valor, Data, Vendido\n",
      "?, ?, ?, ?\n",
      "\n",
      "INSERT INTO random_table (Produto, Valor, Data, Vendido) VALUES (?, ?, ?, ?)\n",
      "('Teclado', 57, datetime.datetime(2022, 9, 23, 18, 7, 29, 356792), 0)\n",
      "Produto, Valor, Data, Vendido\n",
      "?, ?, ?, ?\n",
      "\n",
      "INSERT INTO random_table (Produto, Valor, Data, Vendido) VALUES (?, ?, ?, ?)\n",
      "('Monitor', 67, datetime.datetime(2022, 9, 23, 18, 7, 29, 364788), 0)\n",
      "Produto, Valor, Data, Vendido\n",
      "?, ?, ?, ?\n",
      "\n",
      "INSERT INTO random_table (Produto, Valor, Data, Vendido) VALUES (?, ?, ?, ?)\n",
      "('CPU', 63, datetime.datetime(2022, 9, 23, 18, 7, 29, 372782), 1)\n",
      "Produto, Valor, Data, Vendido\n",
      "?, ?, ?, ?\n",
      "\n",
      "INSERT INTO random_table (Produto, Valor, Data, Vendido) VALUES (?, ?, ?, ?)\n",
      "('CPU', 58, datetime.datetime(2022, 9, 23, 18, 7, 29, 395767), 0)\n",
      "Produto, Valor, Data, Vendido\n",
      "?, ?, ?, ?\n",
      "\n",
      "INSERT INTO random_table (Produto, Valor, Data, Vendido) VALUES (?, ?, ?, ?)\n",
      "('CPU', 94, datetime.datetime(2022, 9, 23, 18, 7, 29, 404762), 0)\n"
     ]
    }
   ],
   "source": [
    "# Criando uma tabela-pai aletória\n",
    "\n",
    "os.remove(r'../ArquivosParalelos/random_tables.db') if os.path.exists(r'../ArquivosParalelos/random_tables.db') else None\n",
    "\n",
    "n = 20 #Número de observações\n",
    "\n",
    "create_table(arquivo,tabela,\"ID INTEGER PRIMARY KEY AUTOINCREMENT NOT NULL\",\"Produto TEXT\",\"Valor REAL\",\"Data DATE\",\"Vendido BIT NOT NULL\")\n",
    "\n",
    "for i in range(n): #cria n itens na lista.\n",
    "    new_date = datetime.datetime.now() #cria um objeto contendo a data e a hora atuais.\n",
    "    new_prod_name = random.choice(['Monitor', 'CPU', 'Teclado','Mouse']) #Escolhe um item na lista.\n",
    "    new_value = random.randrange(50,100) #Escolhe um preço para ser um valor do item.\n",
    "    new_bool = random.choice([0,1]) #Escolhe um valor bit aleatório\n",
    "\n",
    "    valores = (new_prod_name,new_value,new_date,new_bool)\n",
    "\n",
    "    data_insert_var(arquivo,tabela,('Produto','Valor','Data','Vendido'),valores)\n",
    "\n",
    "    time.sleep(0) #aguarda."
   ]
  },
  {
   "cell_type": "code",
   "execution_count": 8,
   "metadata": {},
   "outputs": [
    {
     "name": "stdout",
     "output_type": "stream",
     "text": [
      "[('Teclado',), ('Mouse',), ('Monitor',), ('Monitor',), ('Teclado',), ('Mouse',), ('Monitor',), ('Teclado',), ('Mouse',), ('CPU',), ('Mouse',), ('CPU',), ('CPU',), ('Mouse',), ('Mouse',), ('Teclado',), ('Monitor',), ('CPU',), ('CPU',), ('CPU',)]\n"
     ]
    }
   ],
   "source": [
    "Query = \"SELECT Produto FROM random_table\"\n",
    "\n",
    "print(sqlite3.connect(arquivo).cursor().execute(Query).fetchall())"
   ]
  },
  {
   "cell_type": "code",
   "execution_count": 9,
   "metadata": {},
   "outputs": [
    {
     "name": "stdout",
     "output_type": "stream",
     "text": [
      "[1, 2, 3, 4, 5, 6, 7, 8, 9, 10, 11, 12, 13, 14, 15, 16, 17, 18, 19, 20]\n",
      "Desconto, Data, ProdutoID\n",
      "?, ?, ?\n",
      "\n",
      "INSERT INTO child_table (Desconto, Data, ProdutoID) VALUES (?, ?, ?)\n",
      "(16, datetime.datetime(2022, 9, 23, 18, 7, 36, 273292), 7)\n",
      "Desconto, Data, ProdutoID\n",
      "?, ?, ?\n",
      "\n",
      "INSERT INTO child_table (Desconto, Data, ProdutoID) VALUES (?, ?, ?)\n",
      "(9, datetime.datetime(2022, 9, 23, 18, 7, 36, 278288), 9)\n",
      "Desconto, Data, ProdutoID\n",
      "?, ?, ?\n",
      "\n",
      "INSERT INTO child_table (Desconto, Data, ProdutoID) VALUES (?, ?, ?)\n",
      "(23, datetime.datetime(2022, 9, 23, 18, 7, 36, 284286), 13)\n",
      "Desconto, Data, ProdutoID\n",
      "?, ?, ?\n",
      "\n",
      "INSERT INTO child_table (Desconto, Data, ProdutoID) VALUES (?, ?, ?)\n",
      "(11, datetime.datetime(2022, 9, 23, 18, 7, 36, 299276), 5)\n",
      "Desconto, Data, ProdutoID\n",
      "?, ?, ?\n",
      "\n",
      "INSERT INTO child_table (Desconto, Data, ProdutoID) VALUES (?, ?, ?)\n",
      "(0, datetime.datetime(2022, 9, 23, 18, 7, 36, 305272), 14)\n",
      "Desconto, Data, ProdutoID\n",
      "?, ?, ?\n",
      "\n",
      "INSERT INTO child_table (Desconto, Data, ProdutoID) VALUES (?, ?, ?)\n",
      "(23, datetime.datetime(2022, 9, 23, 18, 7, 36, 314266), 11)\n",
      "Desconto, Data, ProdutoID\n",
      "?, ?, ?\n",
      "\n",
      "INSERT INTO child_table (Desconto, Data, ProdutoID) VALUES (?, ?, ?)\n",
      "(3, datetime.datetime(2022, 9, 23, 18, 7, 36, 321266), 4)\n",
      "Desconto, Data, ProdutoID\n",
      "?, ?, ?\n",
      "\n",
      "INSERT INTO child_table (Desconto, Data, ProdutoID) VALUES (?, ?, ?)\n",
      "(6, datetime.datetime(2022, 9, 23, 18, 7, 36, 328258), 4)\n",
      "Desconto, Data, ProdutoID\n",
      "?, ?, ?\n",
      "\n",
      "INSERT INTO child_table (Desconto, Data, ProdutoID) VALUES (?, ?, ?)\n",
      "(1, datetime.datetime(2022, 9, 23, 18, 7, 36, 334254), 10)\n",
      "Desconto, Data, ProdutoID\n",
      "?, ?, ?\n",
      "\n",
      "INSERT INTO child_table (Desconto, Data, ProdutoID) VALUES (?, ?, ?)\n",
      "(17, datetime.datetime(2022, 9, 23, 18, 7, 36, 356240), 12)\n",
      "Desconto, Data, ProdutoID\n",
      "?, ?, ?\n",
      "\n",
      "INSERT INTO child_table (Desconto, Data, ProdutoID) VALUES (?, ?, ?)\n",
      "(20, datetime.datetime(2022, 9, 23, 18, 7, 36, 367243), 5)\n",
      "Desconto, Data, ProdutoID\n",
      "?, ?, ?\n",
      "\n",
      "INSERT INTO child_table (Desconto, Data, ProdutoID) VALUES (?, ?, ?)\n",
      "(14, datetime.datetime(2022, 9, 23, 18, 7, 36, 373229), 2)\n",
      "Desconto, Data, ProdutoID\n",
      "?, ?, ?\n",
      "\n",
      "INSERT INTO child_table (Desconto, Data, ProdutoID) VALUES (?, ?, ?)\n",
      "(22, datetime.datetime(2022, 9, 23, 18, 7, 36, 380226), 3)\n",
      "Desconto, Data, ProdutoID\n",
      "?, ?, ?\n",
      "\n",
      "INSERT INTO child_table (Desconto, Data, ProdutoID) VALUES (?, ?, ?)\n",
      "(4, datetime.datetime(2022, 9, 23, 18, 7, 36, 390219), 9)\n",
      "Desconto, Data, ProdutoID\n",
      "?, ?, ?\n",
      "\n",
      "INSERT INTO child_table (Desconto, Data, ProdutoID) VALUES (?, ?, ?)\n",
      "(1, datetime.datetime(2022, 9, 23, 18, 7, 36, 395216), 5)\n",
      "Desconto, Data, ProdutoID\n",
      "?, ?, ?\n",
      "\n",
      "INSERT INTO child_table (Desconto, Data, ProdutoID) VALUES (?, ?, ?)\n",
      "(0, datetime.datetime(2022, 9, 23, 18, 7, 36, 405210), 14)\n",
      "Desconto, Data, ProdutoID\n",
      "?, ?, ?\n",
      "\n",
      "INSERT INTO child_table (Desconto, Data, ProdutoID) VALUES (?, ?, ?)\n",
      "(13, datetime.datetime(2022, 9, 23, 18, 7, 36, 410207), 16)\n",
      "Desconto, Data, ProdutoID\n",
      "?, ?, ?\n",
      "\n",
      "INSERT INTO child_table (Desconto, Data, ProdutoID) VALUES (?, ?, ?)\n",
      "(2, datetime.datetime(2022, 9, 23, 18, 7, 36, 419201), 6)\n",
      "Desconto, Data, ProdutoID\n",
      "?, ?, ?\n",
      "\n",
      "INSERT INTO child_table (Desconto, Data, ProdutoID) VALUES (?, ?, ?)\n",
      "(4, datetime.datetime(2022, 9, 23, 18, 7, 36, 425197), 8)\n",
      "Desconto, Data, ProdutoID\n",
      "?, ?, ?\n",
      "\n",
      "INSERT INTO child_table (Desconto, Data, ProdutoID) VALUES (?, ?, ?)\n",
      "(4, datetime.datetime(2022, 9, 23, 18, 7, 36, 433193), 14)\n",
      "Desconto, Data, ProdutoID\n",
      "?, ?, ?\n",
      "\n",
      "INSERT INTO child_table (Desconto, Data, ProdutoID) VALUES (?, ?, ?)\n",
      "(17, datetime.datetime(2022, 9, 23, 18, 7, 36, 438189), 19)\n",
      "Desconto, Data, ProdutoID\n",
      "?, ?, ?\n",
      "\n",
      "INSERT INTO child_table (Desconto, Data, ProdutoID) VALUES (?, ?, ?)\n",
      "(4, datetime.datetime(2022, 9, 23, 18, 7, 36, 444186), 6)\n",
      "Desconto, Data, ProdutoID\n",
      "?, ?, ?\n",
      "\n",
      "INSERT INTO child_table (Desconto, Data, ProdutoID) VALUES (?, ?, ?)\n",
      "(21, datetime.datetime(2022, 9, 23, 18, 7, 36, 451182), 16)\n",
      "Desconto, Data, ProdutoID\n",
      "?, ?, ?\n",
      "\n",
      "INSERT INTO child_table (Desconto, Data, ProdutoID) VALUES (?, ?, ?)\n",
      "(8, datetime.datetime(2022, 9, 23, 18, 7, 36, 457179), 10)\n",
      "Desconto, Data, ProdutoID\n",
      "?, ?, ?\n",
      "\n",
      "INSERT INTO child_table (Desconto, Data, ProdutoID) VALUES (?, ?, ?)\n",
      "(16, datetime.datetime(2022, 9, 23, 18, 7, 36, 463174), 14)\n",
      "Desconto, Data, ProdutoID\n",
      "?, ?, ?\n",
      "\n",
      "INSERT INTO child_table (Desconto, Data, ProdutoID) VALUES (?, ?, ?)\n",
      "(19, datetime.datetime(2022, 9, 23, 18, 7, 36, 469171), 3)\n",
      "Desconto, Data, ProdutoID\n",
      "?, ?, ?\n",
      "\n",
      "INSERT INTO child_table (Desconto, Data, ProdutoID) VALUES (?, ?, ?)\n",
      "(7, datetime.datetime(2022, 9, 23, 18, 7, 36, 475167), 14)\n",
      "Desconto, Data, ProdutoID\n",
      "?, ?, ?\n",
      "\n",
      "INSERT INTO child_table (Desconto, Data, ProdutoID) VALUES (?, ?, ?)\n",
      "(2, datetime.datetime(2022, 9, 23, 18, 7, 36, 481164), 4)\n",
      "Desconto, Data, ProdutoID\n",
      "?, ?, ?\n",
      "\n",
      "INSERT INTO child_table (Desconto, Data, ProdutoID) VALUES (?, ?, ?)\n",
      "(2, datetime.datetime(2022, 9, 23, 18, 7, 36, 491159), 18)\n",
      "Desconto, Data, ProdutoID\n",
      "?, ?, ?\n",
      "\n",
      "INSERT INTO child_table (Desconto, Data, ProdutoID) VALUES (?, ?, ?)\n",
      "(9, datetime.datetime(2022, 9, 23, 18, 7, 36, 502158), 3)\n"
     ]
    }
   ],
   "source": [
    "# Criando uma tabela-filha aletória\n",
    "\n",
    "Produtos = sqlite3.connect(arquivo).cursor().execute(\"SELECT ID FROM random_table\").fetchall()\n",
    "ProdID = [i[0] for i in Produtos]\n",
    "#for i in Produtos:\n",
    "#    ProdID.append(i[0])\n",
    "print(ProdID)\n",
    "\n",
    "Query = \"CREATE TABLE IF NOT EXISTS child_table (ID INTEGER PRIMARY KEY AUTOINCREMENT NOT NULL, Desconto REAL, Data DATE, ProdutoID INTEGER NOT NULL, FOREIGN KEY (ProdutoID) REFERENCES random_table(ID))\"\n",
    "\n",
    "conn = sqlite3.connect(arquivo)\n",
    "curs = conn.cursor()\n",
    "curs.execute(Query)\n",
    "conn.commit()\n",
    "curs.close()\n",
    "conn.close()\n",
    "\n",
    "n=30\n",
    "for i in range(n): #cria n itens na lista.\n",
    "    new_date = datetime.datetime.now() #cria um objeto contendo a data e a hora atuais.\n",
    "    new_value = random.randrange(0,25) #Escolhe um preço para ser um valor do item.\n",
    "    new_from_list = random.choice(ProdID) #Escolhe um valor bit aleatório\n",
    "\n",
    "    valores = (new_value,new_date,new_from_list)\n",
    "\n",
    "    data_insert_var(arquivo,'child_table',('Desconto','Data','ProdutoID'),valores)"
   ]
  },
  {
   "cell_type": "code",
   "execution_count": 10,
   "metadata": {},
   "outputs": [
    {
     "name": "stdout",
     "output_type": "stream",
     "text": [
      "Colunas ['ID', 'Produto', 'Valor', 'Data', 'Vendido']\n",
      "['ID: 1', 'Produto: Teclado', 'Valor: 75.0', 'Data: 2022-09-23 18:07:29.124935', 'Vendido: 1']\n",
      "['ID: 2', 'Produto: Mouse', 'Valor: 81.0', 'Data: 2022-09-23 18:07:29.133929', 'Vendido: 1']\n",
      "['ID: 3', 'Produto: Monitor', 'Valor: 66.0', 'Data: 2022-09-23 18:07:29.156915', 'Vendido: 1']\n",
      "['ID: 4', 'Produto: Monitor', 'Valor: 88.0', 'Data: 2022-09-23 18:07:29.222874', 'Vendido: 0']\n",
      "['ID: 5', 'Produto: Teclado', 'Valor: 99.0', 'Data: 2022-09-23 18:07:29.241863', 'Vendido: 0']\n",
      "['ID: 6', 'Produto: Mouse', 'Valor: 53.0', 'Data: 2022-09-23 18:07:29.255855', 'Vendido: 1']\n",
      "['ID: 7', 'Produto: Monitor', 'Valor: 81.0', 'Data: 2022-09-23 18:07:29.268853', 'Vendido: 0']\n",
      "['ID: 8', 'Produto: Teclado', 'Valor: 67.0', 'Data: 2022-09-23 18:07:29.276843', 'Vendido: 0']\n",
      "['ID: 9', 'Produto: Mouse', 'Valor: 61.0', 'Data: 2022-09-23 18:07:29.286835', 'Vendido: 0']\n",
      "['ID: 10', 'Produto: CPU', 'Valor: 72.0', 'Data: 2022-09-23 18:07:29.294830', 'Vendido: 1']\n",
      "['ID: 11', 'Produto: Mouse', 'Valor: 77.0', 'Data: 2022-09-23 18:07:29.304824', 'Vendido: 0']\n",
      "['ID: 12', 'Produto: CPU', 'Valor: 77.0', 'Data: 2022-09-23 18:07:29.315817', 'Vendido: 0']\n",
      "['ID: 13', 'Produto: CPU', 'Valor: 81.0', 'Data: 2022-09-23 18:07:29.322812', 'Vendido: 1']\n",
      "['ID: 14', 'Produto: Mouse', 'Valor: 50.0', 'Data: 2022-09-23 18:07:29.334807', 'Vendido: 0']\n",
      "['ID: 15', 'Produto: Mouse', 'Valor: 78.0', 'Data: 2022-09-23 18:07:29.345798', 'Vendido: 0']\n",
      "['ID: 16', 'Produto: Teclado', 'Valor: 57.0', 'Data: 2022-09-23 18:07:29.356792', 'Vendido: 0']\n",
      "['ID: 17', 'Produto: Monitor', 'Valor: 67.0', 'Data: 2022-09-23 18:07:29.364788', 'Vendido: 0']\n",
      "['ID: 18', 'Produto: CPU', 'Valor: 63.0', 'Data: 2022-09-23 18:07:29.372782', 'Vendido: 1']\n",
      "['ID: 19', 'Produto: CPU', 'Valor: 58.0', 'Data: 2022-09-23 18:07:29.395767', 'Vendido: 0']\n",
      "['ID: 20', 'Produto: CPU', 'Valor: 94.0', 'Data: 2022-09-23 18:07:29.404762', 'Vendido: 0']\n"
     ]
    }
   ],
   "source": [
    "# Vendo a tabela.\n",
    "\n",
    "showall(arquivo,tabela)"
   ]
  },
  {
   "cell_type": "code",
   "execution_count": 11,
   "metadata": {},
   "outputs": [
    {
     "name": "stdout",
     "output_type": "stream",
     "text": [
      "Colunas ['ID', 'Desconto', 'Data', 'ProdutoID']\n",
      "['ID: 1', 'Desconto: 16.0', 'Data: 2022-09-23 18:07:36.273292', 'ProdutoID: 7']\n",
      "['ID: 2', 'Desconto: 9.0', 'Data: 2022-09-23 18:07:36.278288', 'ProdutoID: 9']\n",
      "['ID: 3', 'Desconto: 23.0', 'Data: 2022-09-23 18:07:36.284286', 'ProdutoID: 13']\n",
      "['ID: 4', 'Desconto: 11.0', 'Data: 2022-09-23 18:07:36.299276', 'ProdutoID: 5']\n",
      "['ID: 5', 'Desconto: 0.0', 'Data: 2022-09-23 18:07:36.305272', 'ProdutoID: 14']\n",
      "['ID: 6', 'Desconto: 23.0', 'Data: 2022-09-23 18:07:36.314266', 'ProdutoID: 11']\n",
      "['ID: 7', 'Desconto: 3.0', 'Data: 2022-09-23 18:07:36.321266', 'ProdutoID: 4']\n",
      "['ID: 8', 'Desconto: 6.0', 'Data: 2022-09-23 18:07:36.328258', 'ProdutoID: 4']\n",
      "['ID: 9', 'Desconto: 1.0', 'Data: 2022-09-23 18:07:36.334254', 'ProdutoID: 10']\n",
      "['ID: 10', 'Desconto: 17.0', 'Data: 2022-09-23 18:07:36.356240', 'ProdutoID: 12']\n",
      "['ID: 11', 'Desconto: 20.0', 'Data: 2022-09-23 18:07:36.367243', 'ProdutoID: 5']\n",
      "['ID: 12', 'Desconto: 14.0', 'Data: 2022-09-23 18:07:36.373229', 'ProdutoID: 2']\n",
      "['ID: 13', 'Desconto: 22.0', 'Data: 2022-09-23 18:07:36.380226', 'ProdutoID: 3']\n",
      "['ID: 14', 'Desconto: 4.0', 'Data: 2022-09-23 18:07:36.390219', 'ProdutoID: 9']\n",
      "['ID: 15', 'Desconto: 1.0', 'Data: 2022-09-23 18:07:36.395216', 'ProdutoID: 5']\n",
      "['ID: 16', 'Desconto: 0.0', 'Data: 2022-09-23 18:07:36.405210', 'ProdutoID: 14']\n",
      "['ID: 17', 'Desconto: 13.0', 'Data: 2022-09-23 18:07:36.410207', 'ProdutoID: 16']\n",
      "['ID: 18', 'Desconto: 2.0', 'Data: 2022-09-23 18:07:36.419201', 'ProdutoID: 6']\n",
      "['ID: 19', 'Desconto: 4.0', 'Data: 2022-09-23 18:07:36.425197', 'ProdutoID: 8']\n",
      "['ID: 20', 'Desconto: 4.0', 'Data: 2022-09-23 18:07:36.433193', 'ProdutoID: 14']\n",
      "['ID: 21', 'Desconto: 17.0', 'Data: 2022-09-23 18:07:36.438189', 'ProdutoID: 19']\n",
      "['ID: 22', 'Desconto: 4.0', 'Data: 2022-09-23 18:07:36.444186', 'ProdutoID: 6']\n",
      "['ID: 23', 'Desconto: 21.0', 'Data: 2022-09-23 18:07:36.451182', 'ProdutoID: 16']\n",
      "['ID: 24', 'Desconto: 8.0', 'Data: 2022-09-23 18:07:36.457179', 'ProdutoID: 10']\n",
      "['ID: 25', 'Desconto: 16.0', 'Data: 2022-09-23 18:07:36.463174', 'ProdutoID: 14']\n",
      "['ID: 26', 'Desconto: 19.0', 'Data: 2022-09-23 18:07:36.469171', 'ProdutoID: 3']\n",
      "['ID: 27', 'Desconto: 7.0', 'Data: 2022-09-23 18:07:36.475167', 'ProdutoID: 14']\n",
      "['ID: 28', 'Desconto: 2.0', 'Data: 2022-09-23 18:07:36.481164', 'ProdutoID: 4']\n",
      "['ID: 29', 'Desconto: 2.0', 'Data: 2022-09-23 18:07:36.491159', 'ProdutoID: 18']\n",
      "['ID: 30', 'Desconto: 9.0', 'Data: 2022-09-23 18:07:36.502158', 'ProdutoID: 3']\n"
     ]
    }
   ],
   "source": [
    "showall(arquivo,'child_table')"
   ]
  },
  {
   "cell_type": "code",
   "execution_count": 12,
   "metadata": {},
   "outputs": [],
   "source": [
    "# Função para mostrar apenas o Fetchall\n",
    "\n",
    "def Execute_and_Show(Query,arquivo):\n",
    "    Cursor = sqlite3.connect(arquivo).cursor()\n",
    "    Cursor.execute(Query)\n",
    "    for i in Cursor.execute(Query).description:\n",
    "        print(i)\n",
    "    print()\n",
    "    for i in Cursor.fetchall():\n",
    "        print(i)\n",
    "    Cursor.close()"
   ]
  },
  {
   "cell_type": "code",
   "execution_count": 13,
   "metadata": {},
   "outputs": [],
   "source": [
    "# Função para executar e enviar ao DB.\n",
    "\n",
    "def Execute_and_Commit(Query,arquivo,tabela):\n",
    "    Conn = sqlite3.connect(arquivo)\n",
    "    Cursor = Conn.cursor()\n",
    "    Cursor.execute(Query)\n",
    "    Conn.commit()\n",
    "    Cursor.close()\n",
    "    Conn.close()\n",
    "    showall(arquivo,tabela)"
   ]
  },
  {
   "cell_type": "markdown",
   "metadata": {},
   "source": [
    "## Queries"
   ]
  },
  {
   "cell_type": "markdown",
   "metadata": {},
   "source": [
    "<a id='Demo'></a>\n",
    "### Demonstração"
   ]
  },
  {
   "cell_type": "code",
   "execution_count": 14,
   "metadata": {},
   "outputs": [
    {
     "name": "stdout",
     "output_type": "stream",
     "text": [
      "('ID', None, None, None, None, None, None)\n",
      "('Produto', None, None, None, None, None, None)\n",
      "('Valor', None, None, None, None, None, None)\n",
      "('Data', None, None, None, None, None, None)\n",
      "('Vendido', None, None, None, None, None, None)\n",
      "\n",
      "(1, 'Teclado', 75.0, '2022-09-23 18:07:29.124935', 1)\n",
      "(2, 'Mouse', 81.0, '2022-09-23 18:07:29.133929', 1)\n",
      "(3, 'Monitor', 66.0, '2022-09-23 18:07:29.156915', 1)\n",
      "(4, 'Monitor', 88.0, '2022-09-23 18:07:29.222874', 0)\n",
      "(5, 'Teclado', 99.0, '2022-09-23 18:07:29.241863', 0)\n",
      "(6, 'Mouse', 53.0, '2022-09-23 18:07:29.255855', 1)\n",
      "(7, 'Monitor', 81.0, '2022-09-23 18:07:29.268853', 0)\n",
      "(8, 'Teclado', 67.0, '2022-09-23 18:07:29.276843', 0)\n",
      "(9, 'Mouse', 61.0, '2022-09-23 18:07:29.286835', 0)\n",
      "(10, 'CPU', 72.0, '2022-09-23 18:07:29.294830', 1)\n",
      "(11, 'Mouse', 77.0, '2022-09-23 18:07:29.304824', 0)\n",
      "(12, 'CPU', 77.0, '2022-09-23 18:07:29.315817', 0)\n",
      "(13, 'CPU', 81.0, '2022-09-23 18:07:29.322812', 1)\n",
      "(14, 'Mouse', 50.0, '2022-09-23 18:07:29.334807', 0)\n",
      "(15, 'Mouse', 78.0, '2022-09-23 18:07:29.345798', 0)\n",
      "(16, 'Teclado', 57.0, '2022-09-23 18:07:29.356792', 0)\n",
      "(17, 'Monitor', 67.0, '2022-09-23 18:07:29.364788', 0)\n",
      "(18, 'CPU', 63.0, '2022-09-23 18:07:29.372782', 1)\n",
      "(19, 'CPU', 58.0, '2022-09-23 18:07:29.395767', 0)\n",
      "(20, 'CPU', 94.0, '2022-09-23 18:07:29.404762', 0)\n"
     ]
    }
   ],
   "source": [
    "# Mostrar todos os dados\n",
    "\n",
    "Query = \"SELECT * FROM random_table\"\n",
    "\n",
    "Execute_and_Show(Query,arquivo)"
   ]
  },
  {
   "cell_type": "code",
   "execution_count": 15,
   "metadata": {},
   "outputs": [
    {
     "name": "stdout",
     "output_type": "stream",
     "text": [
      "('Produto', None, None, None, None, None, None)\n",
      "('Valor', None, None, None, None, None, None)\n",
      "\n",
      "('Teclado', 75.0)\n",
      "('Mouse', 81.0)\n",
      "('Monitor', 66.0)\n",
      "('Monitor', 88.0)\n",
      "('Teclado', 99.0)\n",
      "('Mouse', 53.0)\n",
      "('Monitor', 81.0)\n",
      "('Teclado', 67.0)\n",
      "('Mouse', 61.0)\n",
      "('CPU', 72.0)\n",
      "('Mouse', 77.0)\n",
      "('CPU', 77.0)\n",
      "('CPU', 81.0)\n",
      "('Mouse', 50.0)\n",
      "('Mouse', 78.0)\n",
      "('Teclado', 57.0)\n",
      "('Monitor', 67.0)\n",
      "('CPU', 63.0)\n",
      "('CPU', 58.0)\n",
      "('CPU', 94.0)\n"
     ]
    }
   ],
   "source": [
    "# Mostrar algumas colunas\n",
    "\n",
    "Query = \"SELECT Produto, Valor FROM random_table\"\n",
    "\n",
    "Execute_and_Show(Query,arquivo)"
   ]
  },
  {
   "cell_type": "code",
   "execution_count": 16,
   "metadata": {},
   "outputs": [
    {
     "name": "stdout",
     "output_type": "stream",
     "text": [
      "('Produto', None, None, None, None, None, None)\n",
      "('Valor', None, None, None, None, None, None)\n",
      "\n",
      "('Monitor', 66.0)\n",
      "('Monitor', 88.0)\n",
      "('Monitor', 81.0)\n",
      "('CPU', 72.0)\n",
      "('CPU', 77.0)\n",
      "('CPU', 81.0)\n",
      "('Monitor', 67.0)\n",
      "('CPU', 63.0)\n",
      "('CPU', 58.0)\n",
      "('CPU', 94.0)\n"
     ]
    }
   ],
   "source": [
    "# Mostrar dados que correspondam a determinados valores\n",
    "# Usando operadores lógicos\n",
    "\n",
    "Query = \"SELECT Produto, Valor FROM random_table WHERE Produto = 'Monitor' OR Produto = 'CPU'\"\n",
    "\n",
    "Execute_and_Show(Query,arquivo)"
   ]
  },
  {
   "cell_type": "code",
   "execution_count": 17,
   "metadata": {},
   "outputs": [
    {
     "name": "stdout",
     "output_type": "stream",
     "text": [
      "('name', None, None, None, None, None, None)\n",
      "\n",
      "('random_table',)\n",
      "('sqlite_sequence',)\n",
      "('child_table',)\n"
     ]
    }
   ],
   "source": [
    "# Selecionar os nomes das tabelas da tabela \"sqlite_master\"\n",
    "\n",
    "Query = 'SELECT name FROM sqlite_master WHERE type = \"table\"'\n",
    "\n",
    "Execute_and_Show(Query,arquivo)"
   ]
  },
  {
   "cell_type": "code",
   "execution_count": 18,
   "metadata": {},
   "outputs": [
    {
     "name": "stdout",
     "output_type": "stream",
     "text": [
      "('Produto', None, None, None, None, None, None)\n",
      "('Vendido', None, None, None, None, None, None)\n",
      "\n",
      "('Teclado', 1)\n",
      "('Mouse', 1)\n",
      "('Monitor', 1)\n",
      "('Monitor', 0)\n",
      "('Teclado', 0)\n",
      "('Mouse', 0)\n",
      "('CPU', 1)\n",
      "('CPU', 0)\n"
     ]
    }
   ],
   "source": [
    "# DISTINCT\n",
    "# Filtra os dados repetidos\n",
    "# É filtrado apenas as combinações repetidas\n",
    "\n",
    "Query = \"SELECT DISTINCT Produto, Vendido FROM random_table\"\n",
    "\n",
    "Execute_and_Show(Query,arquivo)"
   ]
  },
  {
   "cell_type": "code",
   "execution_count": 19,
   "metadata": {},
   "outputs": [
    {
     "name": "stdout",
     "output_type": "stream",
     "text": [
      "('ID', None, None, None, None, None, None)\n",
      "('Produto', None, None, None, None, None, None)\n",
      "('Valor', None, None, None, None, None, None)\n",
      "('Data', None, None, None, None, None, None)\n",
      "('Vendido', None, None, None, None, None, None)\n",
      "\n",
      "(10, 'CPU', 72.0, '2022-09-23 18:07:29.294830', 1)\n",
      "(12, 'CPU', 77.0, '2022-09-23 18:07:29.315817', 0)\n",
      "(13, 'CPU', 81.0, '2022-09-23 18:07:29.322812', 1)\n",
      "(18, 'CPU', 63.0, '2022-09-23 18:07:29.372782', 1)\n",
      "(19, 'CPU', 58.0, '2022-09-23 18:07:29.395767', 0)\n",
      "(20, 'CPU', 94.0, '2022-09-23 18:07:29.404762', 0)\n",
      "(3, 'Monitor', 66.0, '2022-09-23 18:07:29.156915', 1)\n",
      "(4, 'Monitor', 88.0, '2022-09-23 18:07:29.222874', 0)\n",
      "(7, 'Monitor', 81.0, '2022-09-23 18:07:29.268853', 0)\n",
      "(17, 'Monitor', 67.0, '2022-09-23 18:07:29.364788', 0)\n",
      "(2, 'Mouse', 81.0, '2022-09-23 18:07:29.133929', 1)\n",
      "(6, 'Mouse', 53.0, '2022-09-23 18:07:29.255855', 1)\n",
      "(9, 'Mouse', 61.0, '2022-09-23 18:07:29.286835', 0)\n",
      "(11, 'Mouse', 77.0, '2022-09-23 18:07:29.304824', 0)\n",
      "(14, 'Mouse', 50.0, '2022-09-23 18:07:29.334807', 0)\n",
      "(15, 'Mouse', 78.0, '2022-09-23 18:07:29.345798', 0)\n",
      "(1, 'Teclado', 75.0, '2022-09-23 18:07:29.124935', 1)\n",
      "(5, 'Teclado', 99.0, '2022-09-23 18:07:29.241863', 0)\n",
      "(8, 'Teclado', 67.0, '2022-09-23 18:07:29.276843', 0)\n",
      "(16, 'Teclado', 57.0, '2022-09-23 18:07:29.356792', 0)\n"
     ]
    }
   ],
   "source": [
    "# Ordenar / Organizar\n",
    "# ORDER BY\n",
    "# A ordem não precisa ser guiada por uma das colunas selecionadas.\n",
    "\n",
    "Query = \"SELECT * FROM random_table ORDER BY Produto\"\n",
    "\n",
    "Execute_and_Show(Query,arquivo)"
   ]
  },
  {
   "cell_type": "code",
   "execution_count": 20,
   "metadata": {},
   "outputs": [
    {
     "name": "stdout",
     "output_type": "stream",
     "text": [
      "('Produto', None, None, None, None, None, None)\n",
      "\n",
      "('Teclado',)\n",
      "('Mouse',)\n",
      "('Monitor',)\n",
      "('CPU',)\n"
     ]
    }
   ],
   "source": [
    "# Ordem decrescente\n",
    "# DESC | ASC\n",
    "\n",
    "Query = \"SELECT DISTINCT Produto FROM random_table ORDER BY Produto DESC\"\n",
    "\n",
    "Execute_and_Show(Query,arquivo)"
   ]
  },
  {
   "cell_type": "code",
   "execution_count": 21,
   "metadata": {},
   "outputs": [
    {
     "name": "stdout",
     "output_type": "stream",
     "text": [
      "('ID', None, None, None, None, None, None)\n",
      "('Produto', None, None, None, None, None, None)\n",
      "('Valor', None, None, None, None, None, None)\n",
      "('Data', None, None, None, None, None, None)\n",
      "('Vendido', None, None, None, None, None, None)\n",
      "\n",
      "(1, 'Teclado', 75.0, '2022-09-23 18:07:29.124935', 1)\n",
      "(2, 'Mouse', 81.0, '2022-09-23 18:07:29.133929', 1)\n",
      "(3, 'Monitor', 66.0, '2022-09-23 18:07:29.156915', 1)\n",
      "(4, 'Monitor', 88.0, '2022-09-23 18:07:29.222874', 0)\n",
      "(5, 'Teclado', 99.0, '2022-09-23 18:07:29.241863', 0)\n",
      "(6, 'Mouse', 53.0, '2022-09-23 18:07:29.255855', 1)\n"
     ]
    }
   ],
   "source": [
    "# Limitar o número e resultados\n",
    "# Apenas os X primeiros resultados são revelados.\n",
    "\n",
    "Query = \"SELECT * FROM random_table LIMIT 6\"\n",
    "\n",
    "Execute_and_Show(Query,arquivo)"
   ]
  },
  {
   "cell_type": "code",
   "execution_count": 22,
   "metadata": {},
   "outputs": [
    {
     "name": "stdout",
     "output_type": "stream",
     "text": [
      "('Nome do Produto', None, None, None, None, None, None)\n",
      "\n",
      "('Teclado',)\n",
      "('Mouse',)\n",
      "('Monitor',)\n",
      "('Monitor',)\n",
      "('Teclado',)\n",
      "('Mouse',)\n",
      "('Monitor',)\n",
      "('Teclado',)\n",
      "('Mouse',)\n",
      "('CPU',)\n",
      "('Mouse',)\n",
      "('CPU',)\n",
      "('CPU',)\n",
      "('Mouse',)\n",
      "('Mouse',)\n",
      "('Teclado',)\n",
      "('Monitor',)\n",
      "('CPU',)\n",
      "('CPU',)\n",
      "('CPU',)\n"
     ]
    }
   ],
   "source": [
    "# Alias\n",
    "# São mudanças dos nomes de colunas e tabelas.\n",
    "# Utiliza-se aspas quando o aliás tem espaço.\n",
    "\n",
    "Query = \"SELECT Produto AS 'Nome do Produto' FROM random_table AS Produtos\"\n",
    "\n",
    "Execute_and_Show(Query,arquivo)"
   ]
  },
  {
   "cell_type": "markdown",
   "metadata": {},
   "source": [
    "Join"
   ]
  },
  {
   "cell_type": "markdown",
   "metadata": {},
   "source": [
    "![](../ArquivosParalelos/Join_types.png)"
   ]
  },
  {
   "cell_type": "markdown",
   "metadata": {},
   "source": [
    "Different Types of SQL JOINs\n",
    "\n",
    "* (INNER) JOIN: _Retorna registros compatíveis com ambas as tabelas;_\n",
    "* LEFT (OUTER) JOIN: _Retorna todos os registros da tabela à esquerda, e os registros compatíveis da tabela à direita;_\n",
    "* RIGHT (OUTER) JOIN: _Retorna todos os registros da tabela à direita, e os registros compatíveis da tabela à esquerda;_\n",
    "* FULL (OUTER) JOIN: _Retorna todos os registros quando há compatibilidade em qualquer tabela._"
   ]
  },
  {
   "cell_type": "code",
   "execution_count": 23,
   "metadata": {},
   "outputs": [
    {
     "name": "stdout",
     "output_type": "stream",
     "text": [
      "('Desconto', None, None, None, None, None, None)\n",
      "('Data', None, None, None, None, None, None)\n",
      "('Produto', None, None, None, None, None, None)\n",
      "\n",
      "(16.0, '2022-09-23 18:07:36.273292', 'Monitor')\n",
      "(9.0, '2022-09-23 18:07:36.278288', 'Mouse')\n",
      "(23.0, '2022-09-23 18:07:36.284286', 'CPU')\n",
      "(11.0, '2022-09-23 18:07:36.299276', 'Teclado')\n",
      "(0.0, '2022-09-23 18:07:36.305272', 'Mouse')\n",
      "(23.0, '2022-09-23 18:07:36.314266', 'Mouse')\n",
      "(3.0, '2022-09-23 18:07:36.321266', 'Monitor')\n",
      "(6.0, '2022-09-23 18:07:36.328258', 'Monitor')\n",
      "(1.0, '2022-09-23 18:07:36.334254', 'CPU')\n",
      "(17.0, '2022-09-23 18:07:36.356240', 'CPU')\n",
      "(20.0, '2022-09-23 18:07:36.367243', 'Teclado')\n",
      "(14.0, '2022-09-23 18:07:36.373229', 'Mouse')\n",
      "(22.0, '2022-09-23 18:07:36.380226', 'Monitor')\n",
      "(4.0, '2022-09-23 18:07:36.390219', 'Mouse')\n",
      "(1.0, '2022-09-23 18:07:36.395216', 'Teclado')\n",
      "(0.0, '2022-09-23 18:07:36.405210', 'Mouse')\n",
      "(13.0, '2022-09-23 18:07:36.410207', 'Teclado')\n",
      "(2.0, '2022-09-23 18:07:36.419201', 'Mouse')\n",
      "(4.0, '2022-09-23 18:07:36.425197', 'Teclado')\n",
      "(4.0, '2022-09-23 18:07:36.433193', 'Mouse')\n",
      "(17.0, '2022-09-23 18:07:36.438189', 'CPU')\n",
      "(4.0, '2022-09-23 18:07:36.444186', 'Mouse')\n",
      "(21.0, '2022-09-23 18:07:36.451182', 'Teclado')\n",
      "(8.0, '2022-09-23 18:07:36.457179', 'CPU')\n",
      "(16.0, '2022-09-23 18:07:36.463174', 'Mouse')\n",
      "(19.0, '2022-09-23 18:07:36.469171', 'Monitor')\n",
      "(7.0, '2022-09-23 18:07:36.475167', 'Mouse')\n",
      "(2.0, '2022-09-23 18:07:36.481164', 'Monitor')\n",
      "(2.0, '2022-09-23 18:07:36.491159', 'CPU')\n",
      "(9.0, '2022-09-23 18:07:36.502158', 'Monitor')\n"
     ]
    }
   ],
   "source": [
    "Query = '''\n",
    "    SELECT \n",
    "    child_table.Desconto, child_table.Data, random_table.Produto \n",
    "    FROM child_table JOIN random_table \n",
    "    ON child_table.ProdutoID = random_table.ID\n",
    "    '''\n",
    "\n",
    "\n",
    "Execute_and_Show(Query,arquivo)"
   ]
  },
  {
   "cell_type": "code",
   "execution_count": 24,
   "metadata": {},
   "outputs": [],
   "source": [
    "# Como todos os registros na tabela child_table possuem valores para a coluna ProdutoID que correspondem a algum valor na tabela random_table, o LEfT JOIN presentaria o mesmo resultado do INNER JOIN."
   ]
  },
  {
   "cell_type": "code",
   "execution_count": 25,
   "metadata": {},
   "outputs": [
    {
     "name": "stdout",
     "output_type": "stream",
     "text": [
      "('Desconto', None, None, None, None, None, None)\n",
      "('Data', None, None, None, None, None, None)\n",
      "('Produto', None, None, None, None, None, None)\n",
      "\n",
      "(None, None, 'Teclado')\n",
      "(14.0, '2022-09-23 18:07:36.373229', 'Mouse')\n",
      "(9.0, '2022-09-23 18:07:36.502158', 'Monitor')\n",
      "(19.0, '2022-09-23 18:07:36.469171', 'Monitor')\n",
      "(22.0, '2022-09-23 18:07:36.380226', 'Monitor')\n",
      "(2.0, '2022-09-23 18:07:36.481164', 'Monitor')\n",
      "(3.0, '2022-09-23 18:07:36.321266', 'Monitor')\n",
      "(6.0, '2022-09-23 18:07:36.328258', 'Monitor')\n",
      "(1.0, '2022-09-23 18:07:36.395216', 'Teclado')\n",
      "(11.0, '2022-09-23 18:07:36.299276', 'Teclado')\n",
      "(20.0, '2022-09-23 18:07:36.367243', 'Teclado')\n",
      "(2.0, '2022-09-23 18:07:36.419201', 'Mouse')\n",
      "(4.0, '2022-09-23 18:07:36.444186', 'Mouse')\n",
      "(16.0, '2022-09-23 18:07:36.273292', 'Monitor')\n",
      "(4.0, '2022-09-23 18:07:36.425197', 'Teclado')\n",
      "(4.0, '2022-09-23 18:07:36.390219', 'Mouse')\n",
      "(9.0, '2022-09-23 18:07:36.278288', 'Mouse')\n",
      "(1.0, '2022-09-23 18:07:36.334254', 'CPU')\n",
      "(8.0, '2022-09-23 18:07:36.457179', 'CPU')\n",
      "(23.0, '2022-09-23 18:07:36.314266', 'Mouse')\n",
      "(17.0, '2022-09-23 18:07:36.356240', 'CPU')\n",
      "(23.0, '2022-09-23 18:07:36.284286', 'CPU')\n",
      "(0.0, '2022-09-23 18:07:36.305272', 'Mouse')\n",
      "(0.0, '2022-09-23 18:07:36.405210', 'Mouse')\n",
      "(4.0, '2022-09-23 18:07:36.433193', 'Mouse')\n",
      "(7.0, '2022-09-23 18:07:36.475167', 'Mouse')\n",
      "(16.0, '2022-09-23 18:07:36.463174', 'Mouse')\n",
      "(None, None, 'Mouse')\n",
      "(13.0, '2022-09-23 18:07:36.410207', 'Teclado')\n",
      "(21.0, '2022-09-23 18:07:36.451182', 'Teclado')\n",
      "(None, None, 'Monitor')\n",
      "(2.0, '2022-09-23 18:07:36.491159', 'CPU')\n",
      "(17.0, '2022-09-23 18:07:36.438189', 'CPU')\n",
      "(None, None, 'CPU')\n"
     ]
    }
   ],
   "source": [
    "# RIGH JOIN\n",
    "\n",
    "Query = '''\n",
    "    SELECT \n",
    "    child_table.Desconto, child_table.Data, random_table.Produto \n",
    "    FROM random_table LEFT JOIN child_table \n",
    "    ON child_table.ProdutoID = random_table.ID\n",
    "    '''\n",
    "    \n",
    "Execute_and_Show(Query,arquivo)\n",
    "\n",
    "# Os valores None mostrados são registros em random_table que não possuem correspondência em child_table."
   ]
  },
  {
   "cell_type": "markdown",
   "metadata": {},
   "source": [
    "RIGHT e OUTHER JOIN não são suportados no SQLite3"
   ]
  },
  {
   "cell_type": "code",
   "execution_count": 26,
   "metadata": {},
   "outputs": [
    {
     "name": "stdout",
     "output_type": "stream",
     "text": [
      "('Desconto', None, None, None, None, None, None)\n",
      "\n",
      "(0.0,)\n",
      "(1.0,)\n",
      "(2.0,)\n",
      "(3.0,)\n",
      "(4.0,)\n",
      "(6.0,)\n",
      "(7.0,)\n",
      "(8.0,)\n",
      "(9.0,)\n",
      "(11.0,)\n",
      "(13.0,)\n",
      "(14.0,)\n",
      "(16.0,)\n",
      "(17.0,)\n",
      "(19.0,)\n",
      "(20.0,)\n",
      "(21.0,)\n",
      "(22.0,)\n",
      "(23.0,)\n",
      "(50.0,)\n",
      "(53.0,)\n",
      "(57.0,)\n",
      "(58.0,)\n",
      "(61.0,)\n",
      "(63.0,)\n",
      "(66.0,)\n",
      "(67.0,)\n",
      "(72.0,)\n",
      "(75.0,)\n",
      "(77.0,)\n",
      "(78.0,)\n",
      "(81.0,)\n",
      "(88.0,)\n",
      "(94.0,)\n",
      "(99.0,)\n"
     ]
    }
   ],
   "source": [
    "#UNION\n",
    "# Uma forma de juntar dois SELECT Queries de forma concatenada.\n",
    "# Ambos as seleções precisam ter o mesmo tipo de dados.\n",
    "\n",
    "\n",
    "Query = '''\n",
    "    SELECT Desconto FROM child_table\n",
    "    UNION\n",
    "    SELECT Valor FROM random_table\n",
    "    '''\n",
    "    \n",
    "Execute_and_Show(Query,arquivo)\n",
    "\n",
    "## UNION não retorna valores duplicados, mas UNION ALL sim."
   ]
  },
  {
   "cell_type": "code",
   "execution_count": 27,
   "metadata": {},
   "outputs": [
    {
     "name": "stdout",
     "output_type": "stream",
     "text": [
      "('ID', None, None, None, None, None, None)\n",
      "('Produto', None, None, None, None, None, None)\n",
      "('Valor', None, None, None, None, None, None)\n",
      "('Data', None, None, None, None, None, None)\n",
      "('Vendido', None, None, None, None, None, None)\n",
      "\n",
      "(10, 'CPU', 72.0, '2022-09-23 18:07:29.294830', 1)\n",
      "(3, 'Monitor', 66.0, '2022-09-23 18:07:29.156915', 1)\n",
      "(2, 'Mouse', 81.0, '2022-09-23 18:07:29.133929', 1)\n",
      "(1, 'Teclado', 75.0, '2022-09-23 18:07:29.124935', 1)\n",
      "('Produto', None, None, None, None, None, None)\n",
      "('Quantidade', None, None, None, None, None, None)\n",
      "('Média', None, None, None, None, None, None)\n",
      "\n",
      "('CPU', 6, 74.16666666666667)\n",
      "('Monitor', 4, 75.5)\n",
      "('Mouse', 6, 66.66666666666667)\n",
      "('Teclado', 4, 74.5)\n"
     ]
    }
   ],
   "source": [
    "# GROUP BY\n",
    "# Usado para agrupar em apenas valores distintos\n",
    "# Mostra apenas o primeiro valor de cada incidência\n",
    "\n",
    "\n",
    "Query = 'SELECT * FROM random_table GROUP BY Produto'\n",
    "\n",
    "Execute_and_Show(Query,arquivo)\n",
    "\n",
    "# Quando selecionado um agregador (contagem, soma, média), gera uma coluna que considera várias entradas na mesma instância.\n",
    "# No exemplo abaixo, mostra quantos registros e a média de valor de cada tipo de produto na tabela.\n",
    "\n",
    "Query = 'SELECT Produto, COUNT(*) AS \"Quantidade\", AVG(Valor) AS \"Média\" FROM random_table GROUP BY Produto'\n",
    "Execute_and_Show(Query,arquivo)"
   ]
  },
  {
   "cell_type": "code",
   "execution_count": 28,
   "metadata": {},
   "outputs": [
    {
     "name": "stdout",
     "output_type": "stream",
     "text": [
      "('Produto', None, None, None, None, None, None)\n",
      "('Quantidade', None, None, None, None, None, None)\n",
      "('Média', None, None, None, None, None, None)\n",
      "\n",
      "('CPU', 6, 74.16666666666667)\n",
      "('Monitor', 4, 75.5)\n",
      "('Mouse', 6, 66.66666666666667)\n",
      "('Teclado', 4, 74.5)\n"
     ]
    }
   ],
   "source": [
    "# HAVING\n",
    "# Ao agrupar, se um dos agregadores for usado como filtro.\n",
    "# Similar ao WHERE\n",
    "\n",
    "Query = '''\n",
    "        SELECT \n",
    "        Produto, \n",
    "        COUNT(*) AS \"Quantidade\", \n",
    "        AVG(Valor) AS \"Média\" \n",
    "        FROM random_table \n",
    "        GROUP BY Produto\n",
    "        HAVING AVG(Valor) > 60\n",
    "        '''\n",
    "Execute_and_Show(Query,arquivo)"
   ]
  },
  {
   "cell_type": "markdown",
   "metadata": {},
   "source": [
    "### Criação e Queda\n",
    "<a id='Criação'></a>"
   ]
  },
  {
   "cell_type": "code",
   "execution_count": 29,
   "metadata": {},
   "outputs": [
    {
     "name": "stdout",
     "output_type": "stream",
     "text": [
      "Colunas ['id', 'name', 'number']\n"
     ]
    }
   ],
   "source": [
    "# Criar tabela nova\n",
    "#\n",
    "\n",
    "Query = \"CREATE TABLE Exemplo(id integer PRIMARY KEY AUTOINCREMENT, name text DEFAULT 'HELENA', number interger, CHECK (number>0))\"\n",
    "\n",
    "Execute_and_Commit(Query,arquivo,'Exemplo')\n",
    "\n",
    "#Se a tabela já existe, ocorre um erro explícito."
   ]
  },
  {
   "cell_type": "markdown",
   "metadata": {},
   "source": [
    "\n",
    "CRIE TABELA nome (colunaA tipo parâmetro parâmetro, colunaB tipo parâmetro parâmetro, colunaC tipo parâmetro parâmetro, FOREIGN KEY (colunaC) REFERENCES outra_tabela(colunaID)"
   ]
  },
  {
   "cell_type": "markdown",
   "metadata": {},
   "source": [
    "* _Constraints_ (parâmetros para as colunas):\n",
    "   * NOT NULL - Garante que a coluna não pode ter valores NULOS;\n",
    "   * UNIQUE - Garante que todos os valores na coluna são diferentes;\n",
    "   * PRIMARY KEY - Uma combinação de UNIQUE e NOT NULL. Identica cada linha em uma tabela (endereço de cada registro);\n",
    "   * FOREIGN KEY - Previne ações que possam destruir ligações (links) entre duas tabelas, referindo à Primary Key de outra tabela;\n",
    "   * CHECK - Garante que os valores em uma coluna satisfaçam uma condição específica;\n",
    "   * DEFAULT - Estabelece um valor predefinido para a coluna se nenhum valor é especificado;\n",
    "   * AUTOINCREMENT - Caso um valor para a coluna não seja fornecido, é acrescentado um valor automaticamente, a partir de uma contagem (por padrão, incrementa 1 a cada adição);\n",
    "   * CREATE INDEX - Usado para criar e recuperar dados de um banco de dados muito rapidamente."
   ]
  },
  {
   "cell_type": "markdown",
   "metadata": {},
   "source": [
    "Se você definir um parâmetro CHECK em uma coluna, isso peritirá apenas certos valores para essa coluna.  \n",
    "Se você define um parâmetro CHECK em uma tabela, ela poderá limitar os valores em certas colunas baseado em valores em outra coluna na linha.  \n",
    "Precisa ser adicionado não como parâmetro da coluna, mas da tabela."
   ]
  },
  {
   "cell_type": "code",
   "execution_count": 30,
   "metadata": {},
   "outputs": [
    {
     "name": "stdout",
     "output_type": "stream",
     "text": [
      "Colunas ['id', 'name', 'number']\n"
     ]
    }
   ],
   "source": [
    "# Criar tabela nova se não existir\n",
    "\n",
    "Query = \"CREATE TABLE IF NOT EXISTS Exemplo(id integer PRIMARY KEY AUTOINCREMENT, name text DEFAULT 'HELENA', number interger, CHECK (number>0))\"\n",
    "\n",
    "Execute_and_Commit(Query,arquivo,'Exemplo')"
   ]
  },
  {
   "cell_type": "markdown",
   "metadata": {},
   "source": [
    "* Tipos de Variáveis   \n",
    "\n",
    "   * **String**\n",
    "\n",
    "      * CHAR(Size): Um tamanho FIXO de string (pode conter letras, números e caracteres especiais). O parâmetro de tamanho especifica o tamanho da coluna em caracteres - pode ser de 0 a 225, 1 por padrão.\n",
    "\n",
    "      * VARCHAR(Size): um tamanho VARIÁVEL de string (pode conter letras, números e caracteres especiais). O parâmetro de tamanho especifica o tamanho máximo da string em carateres - pode ser de 0 a 65 535.\n",
    "\n",
    "      * BINARY(size): Igual ao CHAR(), mas armazena strings de bytes binários. O parâmetro de tamanho especifica o tamanho da coluna em bytes, 1 por padrão.\n",
    "      \n",
    "      * VARBINARY(size): Igual ao VARCHAR(), mas armazena strings de bytes binários. O parâmetro de tamanho especifica o tamanho máximo da coluna em bytes. \n",
    "      \n",
    "      * TINYBLOB: Para BLOBs (Binary Large Objects - Objetos Grandes Binários). Tamanho máximo: 255 bytes.\n",
    "      \n",
    "      \n",
    "      \n",
    "      * BLOB(size): Para BLOBs (Binary Large Objects - Objetos Grandes Binários). Aguenta até 65 535 bytes.\n",
    "      \n",
    "      * MEDIUMBLOB: Para BLOBs (Binary Large Objects - Objetos Grandes Binários). Aguenta até 16 777 215 bytes.\n",
    "      \n",
    "      * LONGBLOB: Para BLOBs (Binary Large Objects - Objetos Grandes Binários). Aguenta até 4 294 967 295 bytes.\n",
    "      \n",
    "      * TINYTEXT: Suporta uma string com um máximo de 225 caracteres.\n",
    "      \n",
    "      * TEXT(size): Suporta uma string com um máximo de 65 535 caracteres.\n",
    "      \n",
    "      * MEDIUMTEXT: Suporta uma string com um máximo de 16 777 215 caracteres.\n",
    "      \n",
    "      * LONGTEXT: Suporta uma string com um máximo de 4 294 967 295 caracteres.\n",
    "      \n",
    "      * ENUM(val1, val2, val3, ...): Um objeto string que pode ter apenas um valor, escolhido de uma litra de possíveis valores. Você pode listar at´´e 65535 valores em uma lista ENUM. Se um valor é inserido que não está na lsta, um valor em branco será inserido. Os valores são organizados na ordem em que os insere.\n",
    "      \n",
    "      * SET(val1, val2, val3, ...): um objeto string que pode ter 0 ou mais valores, escolhidos de uma lista de possíveis valores. Você pode listar até 64 valores em uma lista SET.\n",
    "   \n",
    "   * **Numérico** *(Todos os tipos de dados numéricos podem ter uma opção extra: UNSIGNED ou ZEROFILL. Se você adiciona a opção UNSIGNED, MySQL desabilita valores negativos para a coluna. Se você adiciona a opção ZEROFILL, MySQL também adiciona o atributo UNSIGNED para a coluna automaticamente.)*\n",
    "      \n",
    "      * BIT(size): Um tipo valor-bit. O número de bits por valor é especificado no tamanho. O parâmetro de tamanho pode suportar valores de 1 a 64, com 1 por padrão.\n",
    "      \n",
    "      * TINYINT(size): um integer (número inteiro) muio pequeno. O intervalo é assinalado de -128 a 127. Intervalo não assinalado abarca de 0 a 255. O parâmetro de tamanho especifica a largura máxima de exibição (que é 255).\n",
    "      \n",
    "      * BOOL: Zero é considerado False, valores diferentes de zero são considerados True.\n",
    "      \n",
    "      * BOOLEAN Igual a BOOL.\n",
    "      \n",
    "      * SMALLINT(size): Um pequeno interger. O intervalo assinalado abrange de -32768 a 32767. Não assinalado, abrange de 0 to 65535. O parâmetro de tamanho especifica a largura máxima de exibição (que é 255).\n",
    "      \n",
    "      * MEDIUMINT(size): Um interger mediano. O intervalo assinalado abrange de -8388608 a 8388607. Não assinalado, abrange de 0 a 16777215. O parâmetro de tamanho especifica a largura máxima de exibição (que é 255).\n",
    "      \n",
    "      * INT(size): Um interger mediano. O intervalo assinalado abrange de -2147483648 a 2147483647. Não assinalado, abrange de 0 a 4294967295. O parâmetro de tamanho especifica a largura máxima de exibição (que é 255).\n",
    "      \n",
    "      * INTEGER(size): Igual ao INT(size)\n",
    "      \n",
    "      * BIGINT(size): Um interger grande. O intervalo assinalado abrange de -9223372036854775808 a 9223372036854775807. Não assinalado, abrange de 0 a 18446744073709551615. O parâmetro de tamanho especifica a largura máxima de exibição (que é 255).\n",
    "      \n",
    "      * FLOAT(size, d): Um número com ponto flutuante - do conjunto dos Racionais. O total de dígitos é especificado no tamanho. O número de dígitos após o ponto decimal é especificado no parâmetro d. Esta sintaxe está descontinuada no MySQL 8,0,17 e será removida em futuras versões do MySQL.\n",
    "      \n",
    "      * FLOAT(p): Um número com ponto flutuante. MySQL usa o valor de p para determinar se usa FLOAT ou DOUBLE para o tipo de dado resultante. Se p está de 0 a 24, o tipo do dado se torna FLOAT(). Se p está de 25 a 53, o tipo de dado se torna DOUBLE().\n",
    "      \n",
    "      * DOUBLE(size, d): Um número com ponto flutuante de tamanho normal. O número total de dígitos é especificado no tamanho. O número de dígitos depois do ponto decimal é especificado no parâmetro d.\n",
    "      \n",
    "      * DOUBLE PRECISION(size, d)\t\n",
    "      \n",
    "      * DECIMAL(size, d): Um número com ponto fixo exato. O número total de dígitos é especificado no tamanho, podendo chegar até 65 e tendo 10 como valor padrão. O número de dígitos depois do ponto decimal é especificado no parâmetro d, podendo chegar até 30 e tendo 0 como valor padrão.\n",
    "      \n",
    "      * DEC(size, d): Igual ao DECIMAL(size,d)\n",
    "      \n",
    "   \n",
    "   * **Data e Tempo**\n",
    "   \n",
    "      * DATE: Uma data. Formato: AAA-MM-DD. A abrangência suportada alcança de '1000-01-01' a '9999-12-31'.\n",
    "      \n",
    "      * DATETIME(fsp): Uma combinação de data e hora. Formato: AAA-MM-DD hh:mm:ss. A abrangência suportada alcança de '1000-01-01 00:00:00' a '9999-12-31 23:59:59'. Adicionando DEFAULT e ON UPDATE na definição da coluna garantirá inicialização automática e atualização para data e hora correntes.\n",
    "\n",
    "      * TIMESTAMP(fsp): Um timestamp - carimbo de data/hora. Valores TIMESTAMP values são armazenados como o número de segundos desde a Unix epoch (Época Unix, ou Unix Timestamp): '1970-01-01 00:00:00' UTC. Formato: AAAA-MM-DD hh:mm:ss. A abrangência suportada alcança de '1970-01-01 00:00:01' UTC a '2038-01-09 03:14:07' UTC. Inicialização e atualização automáticas para a data e hora atuais podem ser definidas usando DEFAULT CURRENT_TIMESTAMP e ON UPDATE CURRENT_TIMESTAMP na definição da coluna.\n",
    "\n",
    "      * TIME(fsp): Um tempo. Formato: hh:mm:ss. A abrangência suportada alcança de '-838:59:59' a '838:59:59'.\n",
    "\n",
    "      * YEAR: Um ano em formato de quatro dígitos. Valores permitidos em formato de quatro dígitos: 1901 a 2155, e 0000.\n"
   ]
  },
  {
   "cell_type": "markdown",
   "metadata": {},
   "source": [
    "* Tipos de Variáveis   \n",
    "   * ?\n",
    "   * ?\n",
    "   * ?\n",
    "   * ?\n",
    "   * ?\n",
    "   * ?\n",
    "   * ?\n",
    "   * ?\n",
    "   * ?\n",
    "   * ?\n",
    "   * ?\n",
    "   * ?\n",
    "   * ?\n",
    "   * ?"
   ]
  },
  {
   "cell_type": "markdown",
   "metadata": {},
   "source": [
    "* Tipos de Variáveis   \n",
    "   * ?\n",
    "   * ?\n",
    "   * ?\n",
    "   * ?\n",
    "   * ?\n",
    "   * ?\n",
    "   * ?\n",
    "   * ?\n",
    "   * ?\n",
    "   * ?\n",
    "   * ?\n",
    "   * ?\n",
    "   * ?\n",
    "   * ?"
   ]
  },
  {
   "cell_type": "code",
   "execution_count": 31,
   "metadata": {},
   "outputs": [
    {
     "name": "stdout",
     "output_type": "stream",
     "text": [
      "Colunas ['type', 'name', 'tbl_name', 'rootpage', 'sql']\n",
      "['type: table', 'name: random_table', 'tbl_name: random_table', 'rootpage: 2', 'sql: CREATE TABLE random_table(ID INTEGER PRIMARY KEY AUTOINCREMENT NOT NULL, Produto TEXT, Valor REAL, Data DATE, Vendido BIT NOT NULL)']\n",
      "['type: table', 'name: sqlite_sequence', 'tbl_name: sqlite_sequence', 'rootpage: 3', 'sql: CREATE TABLE sqlite_sequence(name,seq)']\n",
      "['type: table', 'name: child_table', 'tbl_name: child_table', 'rootpage: 4', 'sql: CREATE TABLE child_table (ID INTEGER PRIMARY KEY AUTOINCREMENT NOT NULL, Desconto REAL, Data DATE, ProdutoID INTEGER NOT NULL, FOREIGN KEY (ProdutoID) REFERENCES random_table(ID))']\n",
      "['type: table', 'name: Exemplo', 'tbl_name: Exemplo', 'rootpage: 5', \"sql: CREATE TABLE Exemplo(id integer PRIMARY KEY AUTOINCREMENT, name text DEFAULT 'HELENA', number interger, CHECK (number>0))\"]\n",
      "\n",
      "Colunas ['type', 'name', 'tbl_name', 'rootpage', 'sql']\n",
      "['type: table', 'name: random_table', 'tbl_name: random_table', 'rootpage: 2', 'sql: CREATE TABLE random_table(ID INTEGER PRIMARY KEY AUTOINCREMENT NOT NULL, Produto TEXT, Valor REAL, Data DATE, Vendido BIT NOT NULL)']\n",
      "['type: table', 'name: sqlite_sequence', 'tbl_name: sqlite_sequence', 'rootpage: 3', 'sql: CREATE TABLE sqlite_sequence(name,seq)']\n",
      "['type: table', 'name: child_table', 'tbl_name: child_table', 'rootpage: 4', 'sql: CREATE TABLE child_table (ID INTEGER PRIMARY KEY AUTOINCREMENT NOT NULL, Desconto REAL, Data DATE, ProdutoID INTEGER NOT NULL, FOREIGN KEY (ProdutoID) REFERENCES random_table(ID))']\n"
     ]
    }
   ],
   "source": [
    "# Elimina tabela se não existir\n",
    "\n",
    "showall(arquivo,'sqlite_master')\n",
    "print()\n",
    "\n",
    "Query = \"DROP TABLE IF EXISTS Exemplo\"\n",
    "\n",
    "Execute_and_Commit(Query,arquivo,'sqlite_master')"
   ]
  },
  {
   "cell_type": "code",
   "execution_count": 32,
   "metadata": {},
   "outputs": [
    {
     "name": "stdout",
     "output_type": "stream",
     "text": [
      "Colunas ['ID', 'Produto', 'Valor', 'Data', 'Vendido']\n",
      "['ID: 1', 'Produto: Teclado', 'Valor: 75.0', 'Data: 2022-09-23 18:07:29.124935', 'Vendido: 1']\n",
      "['ID: 2', 'Produto: Mouse', 'Valor: 81.0', 'Data: 2022-09-23 18:07:29.133929', 'Vendido: 1']\n",
      "['ID: 3', 'Produto: Monitor', 'Valor: 66.0', 'Data: 2022-09-23 18:07:29.156915', 'Vendido: 1']\n",
      "['ID: 4', 'Produto: Monitor', 'Valor: 88.0', 'Data: 2022-09-23 18:07:29.222874', 'Vendido: 0']\n",
      "['ID: 5', 'Produto: Teclado', 'Valor: 99.0', 'Data: 2022-09-23 18:07:29.241863', 'Vendido: 0']\n",
      "['ID: 6', 'Produto: Mouse', 'Valor: 53.0', 'Data: 2022-09-23 18:07:29.255855', 'Vendido: 1']\n",
      "['ID: 7', 'Produto: Monitor', 'Valor: 81.0', 'Data: 2022-09-23 18:07:29.268853', 'Vendido: 0']\n",
      "['ID: 8', 'Produto: Teclado', 'Valor: 67.0', 'Data: 2022-09-23 18:07:29.276843', 'Vendido: 0']\n",
      "['ID: 9', 'Produto: Mouse', 'Valor: 61.0', 'Data: 2022-09-23 18:07:29.286835', 'Vendido: 0']\n",
      "['ID: 10', 'Produto: CPU', 'Valor: 72.0', 'Data: 2022-09-23 18:07:29.294830', 'Vendido: 1']\n",
      "['ID: 11', 'Produto: Mouse', 'Valor: 77.0', 'Data: 2022-09-23 18:07:29.304824', 'Vendido: 0']\n",
      "['ID: 12', 'Produto: CPU', 'Valor: 77.0', 'Data: 2022-09-23 18:07:29.315817', 'Vendido: 0']\n",
      "['ID: 13', 'Produto: CPU', 'Valor: 81.0', 'Data: 2022-09-23 18:07:29.322812', 'Vendido: 1']\n",
      "['ID: 14', 'Produto: Mouse', 'Valor: 50.0', 'Data: 2022-09-23 18:07:29.334807', 'Vendido: 0']\n",
      "['ID: 15', 'Produto: Mouse', 'Valor: 78.0', 'Data: 2022-09-23 18:07:29.345798', 'Vendido: 0']\n",
      "['ID: 16', 'Produto: Teclado', 'Valor: 57.0', 'Data: 2022-09-23 18:07:29.356792', 'Vendido: 0']\n",
      "['ID: 17', 'Produto: Monitor', 'Valor: 67.0', 'Data: 2022-09-23 18:07:29.364788', 'Vendido: 0']\n",
      "['ID: 18', 'Produto: CPU', 'Valor: 63.0', 'Data: 2022-09-23 18:07:29.372782', 'Vendido: 1']\n",
      "['ID: 19', 'Produto: CPU', 'Valor: 58.0', 'Data: 2022-09-23 18:07:29.395767', 'Vendido: 0']\n",
      "['ID: 20', 'Produto: CPU', 'Valor: 94.0', 'Data: 2022-09-23 18:07:29.404762', 'Vendido: 0']\n"
     ]
    }
   ],
   "source": [
    "# CREATE TABLE AS SELECT\n",
    "# Cria tabela igual a outra tabela\n",
    "\n",
    "Query = 'CREATE TABLE IF NOT EXISTS copy_table AS SELECT * FROM random_table'\n",
    "\n",
    "Execute_and_Commit(Query,arquivo,'copy_table')\n",
    "\n",
    "# O autoincrement não foi atribuído à coluna ID da nova tabela, como pode ser visto na célula a seguir."
   ]
  },
  {
   "cell_type": "code",
   "execution_count": 33,
   "metadata": {},
   "outputs": [
    {
     "name": "stdout",
     "output_type": "stream",
     "text": [
      "Colunas ['ID', 'Produto', 'Valor', 'Data', 'Vendido', 'Coluna_Nova']\n",
      "['ID: 1', 'Produto: Teclado', 'Valor: 75.0', 'Data: 2022-09-23 18:07:29.124935', 'Vendido: 1', 'Coluna_Nova: None']\n",
      "['ID: 2', 'Produto: Mouse', 'Valor: 81.0', 'Data: 2022-09-23 18:07:29.133929', 'Vendido: 1', 'Coluna_Nova: None']\n",
      "['ID: 3', 'Produto: Monitor', 'Valor: 66.0', 'Data: 2022-09-23 18:07:29.156915', 'Vendido: 1', 'Coluna_Nova: None']\n",
      "['ID: 4', 'Produto: Monitor', 'Valor: 88.0', 'Data: 2022-09-23 18:07:29.222874', 'Vendido: 0', 'Coluna_Nova: None']\n",
      "['ID: 5', 'Produto: Teclado', 'Valor: 99.0', 'Data: 2022-09-23 18:07:29.241863', 'Vendido: 0', 'Coluna_Nova: None']\n",
      "['ID: 6', 'Produto: Mouse', 'Valor: 53.0', 'Data: 2022-09-23 18:07:29.255855', 'Vendido: 1', 'Coluna_Nova: None']\n",
      "['ID: 7', 'Produto: Monitor', 'Valor: 81.0', 'Data: 2022-09-23 18:07:29.268853', 'Vendido: 0', 'Coluna_Nova: None']\n",
      "['ID: 8', 'Produto: Teclado', 'Valor: 67.0', 'Data: 2022-09-23 18:07:29.276843', 'Vendido: 0', 'Coluna_Nova: None']\n",
      "['ID: 9', 'Produto: Mouse', 'Valor: 61.0', 'Data: 2022-09-23 18:07:29.286835', 'Vendido: 0', 'Coluna_Nova: None']\n",
      "['ID: 10', 'Produto: CPU', 'Valor: 72.0', 'Data: 2022-09-23 18:07:29.294830', 'Vendido: 1', 'Coluna_Nova: None']\n",
      "['ID: 11', 'Produto: Mouse', 'Valor: 77.0', 'Data: 2022-09-23 18:07:29.304824', 'Vendido: 0', 'Coluna_Nova: None']\n",
      "['ID: 12', 'Produto: CPU', 'Valor: 77.0', 'Data: 2022-09-23 18:07:29.315817', 'Vendido: 0', 'Coluna_Nova: None']\n",
      "['ID: 13', 'Produto: CPU', 'Valor: 81.0', 'Data: 2022-09-23 18:07:29.322812', 'Vendido: 1', 'Coluna_Nova: None']\n",
      "['ID: 14', 'Produto: Mouse', 'Valor: 50.0', 'Data: 2022-09-23 18:07:29.334807', 'Vendido: 0', 'Coluna_Nova: None']\n",
      "['ID: 15', 'Produto: Mouse', 'Valor: 78.0', 'Data: 2022-09-23 18:07:29.345798', 'Vendido: 0', 'Coluna_Nova: None']\n",
      "['ID: 16', 'Produto: Teclado', 'Valor: 57.0', 'Data: 2022-09-23 18:07:29.356792', 'Vendido: 0', 'Coluna_Nova: None']\n",
      "['ID: 17', 'Produto: Monitor', 'Valor: 67.0', 'Data: 2022-09-23 18:07:29.364788', 'Vendido: 0', 'Coluna_Nova: None']\n",
      "['ID: 18', 'Produto: CPU', 'Valor: 63.0', 'Data: 2022-09-23 18:07:29.372782', 'Vendido: 1', 'Coluna_Nova: None']\n",
      "['ID: 19', 'Produto: CPU', 'Valor: 58.0', 'Data: 2022-09-23 18:07:29.395767', 'Vendido: 0', 'Coluna_Nova: None']\n",
      "['ID: 20', 'Produto: CPU', 'Valor: 94.0', 'Data: 2022-09-23 18:07:29.404762', 'Vendido: 0', 'Coluna_Nova: None']\n",
      "Colunas ['ID', 'Produto', 'Valor', 'Data', 'Vendido']\n",
      "['ID: 1', 'Produto: Teclado', 'Valor: 75.0', 'Data: 2022-09-23 18:07:29.124935', 'Vendido: 1']\n",
      "['ID: 2', 'Produto: Mouse', 'Valor: 81.0', 'Data: 2022-09-23 18:07:29.133929', 'Vendido: 1']\n",
      "['ID: 3', 'Produto: Monitor', 'Valor: 66.0', 'Data: 2022-09-23 18:07:29.156915', 'Vendido: 1']\n",
      "['ID: 4', 'Produto: Monitor', 'Valor: 88.0', 'Data: 2022-09-23 18:07:29.222874', 'Vendido: 0']\n",
      "['ID: 5', 'Produto: Teclado', 'Valor: 99.0', 'Data: 2022-09-23 18:07:29.241863', 'Vendido: 0']\n",
      "['ID: 6', 'Produto: Mouse', 'Valor: 53.0', 'Data: 2022-09-23 18:07:29.255855', 'Vendido: 1']\n",
      "['ID: 7', 'Produto: Monitor', 'Valor: 81.0', 'Data: 2022-09-23 18:07:29.268853', 'Vendido: 0']\n",
      "['ID: 8', 'Produto: Teclado', 'Valor: 67.0', 'Data: 2022-09-23 18:07:29.276843', 'Vendido: 0']\n",
      "['ID: 9', 'Produto: Mouse', 'Valor: 61.0', 'Data: 2022-09-23 18:07:29.286835', 'Vendido: 0']\n",
      "['ID: 10', 'Produto: CPU', 'Valor: 72.0', 'Data: 2022-09-23 18:07:29.294830', 'Vendido: 1']\n",
      "['ID: 11', 'Produto: Mouse', 'Valor: 77.0', 'Data: 2022-09-23 18:07:29.304824', 'Vendido: 0']\n",
      "['ID: 12', 'Produto: CPU', 'Valor: 77.0', 'Data: 2022-09-23 18:07:29.315817', 'Vendido: 0']\n",
      "['ID: 13', 'Produto: CPU', 'Valor: 81.0', 'Data: 2022-09-23 18:07:29.322812', 'Vendido: 1']\n",
      "['ID: 14', 'Produto: Mouse', 'Valor: 50.0', 'Data: 2022-09-23 18:07:29.334807', 'Vendido: 0']\n",
      "['ID: 15', 'Produto: Mouse', 'Valor: 78.0', 'Data: 2022-09-23 18:07:29.345798', 'Vendido: 0']\n",
      "['ID: 16', 'Produto: Teclado', 'Valor: 57.0', 'Data: 2022-09-23 18:07:29.356792', 'Vendido: 0']\n",
      "['ID: 17', 'Produto: Monitor', 'Valor: 67.0', 'Data: 2022-09-23 18:07:29.364788', 'Vendido: 0']\n",
      "['ID: 18', 'Produto: CPU', 'Valor: 63.0', 'Data: 2022-09-23 18:07:29.372782', 'Vendido: 1']\n",
      "['ID: 19', 'Produto: CPU', 'Valor: 58.0', 'Data: 2022-09-23 18:07:29.395767', 'Vendido: 0']\n",
      "['ID: 20', 'Produto: CPU', 'Valor: 94.0', 'Data: 2022-09-23 18:07:29.404762', 'Vendido: 0']\n"
     ]
    }
   ],
   "source": [
    "# Modificar as colunas de uma tabela\n",
    "\n",
    "Query = 'ALTER TABLE copy_table ADD Coluna_Nova TEXT'\n",
    "\n",
    "Execute_and_Commit(Query,arquivo,'copy_table')\n",
    "\n",
    "\n",
    "\n",
    "Query = 'ALTER TABLE copy_table DROP Coluna_Nova'\n",
    "\n",
    "Execute_and_Commit(Query,arquivo,'copy_table')\n"
   ]
  },
  {
   "cell_type": "markdown",
   "metadata": {},
   "source": [
    "Não é possível alterar uma coluna com uma query. É preciso renomear a tabela, criar uma nova tabela como desejado com o nome anterior, então adicionar os dados de uma tabela para outra, conforme a célula abaixo:"
   ]
  },
  {
   "cell_type": "code",
   "execution_count": 34,
   "metadata": {},
   "outputs": [],
   "source": [
    "Queries = (\n",
    "    'ALTER TABLE copy_table RENAME TO old_table',\n",
    "    '''CREATE TABLE copy_table (\n",
    "        ID INTEGER PRIMARY KEY AUTOINCREMENT NOT NULL,\n",
    "        Produto TEXT,\n",
    "        Valor REAL,\n",
    "        Data DATE,\n",
    "        Vendido BIT NOT NULL)''',\n",
    "    'INSERT INTO copy_table (Produto, Valor, Data, Vendido) SELECT Produto, Valor, Data, IFNULL(Vendido,0) FROM old_table'\n",
    ")\n",
    "\n",
    "con= sqlite3.connect(arquivo)\n",
    "curs = con.cursor()\n",
    "\n",
    "for query in Queries:\n",
    "    curs.execute(query)\n",
    "\n",
    "con.commit()\n",
    "curs.close()\n",
    "con.close()\n"
   ]
  },
  {
   "cell_type": "code",
   "execution_count": 35,
   "metadata": {},
   "outputs": [
    {
     "name": "stdout",
     "output_type": "stream",
     "text": [
      "Colunas ['ID', 'Produto', 'Valor', 'Data', 'Vendido']\n",
      "['ID: 1', 'Produto: Teclado', 'Valor: 75.0', 'Data: 2022-09-23 18:07:29.124935', 'Vendido: 1']\n",
      "['ID: 2', 'Produto: Mouse', 'Valor: 81.0', 'Data: 2022-09-23 18:07:29.133929', 'Vendido: 1']\n",
      "['ID: 3', 'Produto: Monitor', 'Valor: 66.0', 'Data: 2022-09-23 18:07:29.156915', 'Vendido: 1']\n",
      "['ID: 4', 'Produto: Monitor', 'Valor: 88.0', 'Data: 2022-09-23 18:07:29.222874', 'Vendido: 0']\n",
      "['ID: 5', 'Produto: Teclado', 'Valor: 99.0', 'Data: 2022-09-23 18:07:29.241863', 'Vendido: 0']\n",
      "['ID: 6', 'Produto: Mouse', 'Valor: 53.0', 'Data: 2022-09-23 18:07:29.255855', 'Vendido: 1']\n",
      "['ID: 7', 'Produto: Monitor', 'Valor: 81.0', 'Data: 2022-09-23 18:07:29.268853', 'Vendido: 0']\n",
      "['ID: 8', 'Produto: Teclado', 'Valor: 67.0', 'Data: 2022-09-23 18:07:29.276843', 'Vendido: 0']\n",
      "['ID: 9', 'Produto: Mouse', 'Valor: 61.0', 'Data: 2022-09-23 18:07:29.286835', 'Vendido: 0']\n",
      "['ID: 10', 'Produto: CPU', 'Valor: 72.0', 'Data: 2022-09-23 18:07:29.294830', 'Vendido: 1']\n",
      "['ID: 11', 'Produto: Mouse', 'Valor: 77.0', 'Data: 2022-09-23 18:07:29.304824', 'Vendido: 0']\n",
      "['ID: 12', 'Produto: CPU', 'Valor: 77.0', 'Data: 2022-09-23 18:07:29.315817', 'Vendido: 0']\n",
      "['ID: 13', 'Produto: CPU', 'Valor: 81.0', 'Data: 2022-09-23 18:07:29.322812', 'Vendido: 1']\n",
      "['ID: 14', 'Produto: Mouse', 'Valor: 50.0', 'Data: 2022-09-23 18:07:29.334807', 'Vendido: 0']\n",
      "['ID: 15', 'Produto: Mouse', 'Valor: 78.0', 'Data: 2022-09-23 18:07:29.345798', 'Vendido: 0']\n",
      "['ID: 16', 'Produto: Teclado', 'Valor: 57.0', 'Data: 2022-09-23 18:07:29.356792', 'Vendido: 0']\n",
      "['ID: 17', 'Produto: Monitor', 'Valor: 67.0', 'Data: 2022-09-23 18:07:29.364788', 'Vendido: 0']\n",
      "['ID: 18', 'Produto: CPU', 'Valor: 63.0', 'Data: 2022-09-23 18:07:29.372782', 'Vendido: 1']\n",
      "['ID: 19', 'Produto: CPU', 'Valor: 58.0', 'Data: 2022-09-23 18:07:29.395767', 'Vendido: 0']\n",
      "['ID: 20', 'Produto: CPU', 'Valor: 94.0', 'Data: 2022-09-23 18:07:29.404762', 'Vendido: 0']\n",
      "['ID: 21', 'Produto: None', 'Valor: 75.0', 'Data: 2022-09-23 18:07:29.124935', 'Vendido: 1']\n",
      "['ID: 22', 'Produto: None', 'Valor: 81.0', 'Data: 2022-09-23 18:07:29.133929', 'Vendido: 1']\n",
      "['ID: 23', 'Produto: None', 'Valor: 99.0', 'Data: 2022-09-23 18:07:29.241863', 'Vendido: 0']\n",
      "['ID: 24', 'Produto: None', 'Valor: 53.0', 'Data: 2022-09-23 18:07:29.255855', 'Vendido: 1']\n",
      "['ID: 25', 'Produto: None', 'Valor: 67.0', 'Data: 2022-09-23 18:07:29.276843', 'Vendido: 0']\n",
      "['ID: 26', 'Produto: None', 'Valor: 61.0', 'Data: 2022-09-23 18:07:29.286835', 'Vendido: 0']\n",
      "['ID: 27', 'Produto: None', 'Valor: 72.0', 'Data: 2022-09-23 18:07:29.294830', 'Vendido: 1']\n",
      "['ID: 28', 'Produto: None', 'Valor: 77.0', 'Data: 2022-09-23 18:07:29.304824', 'Vendido: 0']\n",
      "['ID: 29', 'Produto: None', 'Valor: 77.0', 'Data: 2022-09-23 18:07:29.315817', 'Vendido: 0']\n",
      "['ID: 30', 'Produto: None', 'Valor: 81.0', 'Data: 2022-09-23 18:07:29.322812', 'Vendido: 1']\n",
      "['ID: 31', 'Produto: None', 'Valor: 50.0', 'Data: 2022-09-23 18:07:29.334807', 'Vendido: 0']\n",
      "['ID: 32', 'Produto: None', 'Valor: 78.0', 'Data: 2022-09-23 18:07:29.345798', 'Vendido: 0']\n",
      "['ID: 33', 'Produto: None', 'Valor: 57.0', 'Data: 2022-09-23 18:07:29.356792', 'Vendido: 0']\n",
      "['ID: 34', 'Produto: None', 'Valor: 63.0', 'Data: 2022-09-23 18:07:29.372782', 'Vendido: 1']\n",
      "['ID: 35', 'Produto: None', 'Valor: 58.0', 'Data: 2022-09-23 18:07:29.395767', 'Vendido: 0']\n",
      "['ID: 36', 'Produto: None', 'Valor: 94.0', 'Data: 2022-09-23 18:07:29.404762', 'Vendido: 0']\n"
     ]
    }
   ],
   "source": [
    "# INSERT INTO SELECT\n",
    "# Copia dados de uma tabela e insere em outra tabela\n",
    "\n",
    "Query = 'INSERT INTO copy_table (Data, Valor, Vendido) SELECT Data, Valor, Vendido FROM random_table WHERE Produto != \"Monitor\"'\n",
    "\n",
    "Execute_and_Commit(Query,arquivo,'copy_table')\n",
    "\n",
    "#Utilizando este método, o AUTOINCREMENT não funciona."
   ]
  },
  {
   "cell_type": "code",
   "execution_count": 36,
   "metadata": {},
   "outputs": [],
   "source": [
    "### NOT IMPLEMENTED ###\n",
    "\n",
    "# SELECT INTO\n",
    "\n",
    "# Cria uma nova tabela no banco de dados a partir de uma seleção.\n",
    "\n",
    "Query = '''\n",
    "        SELECT ID as ProdutoID, Valor, Data  \n",
    "        INTO copy_table\n",
    "        FROM random_table\n",
    "        '''\n",
    "\n",
    "\n",
    "#Execute_and_Commit(Query,arquivo,'sqlite_master')"
   ]
  },
  {
   "cell_type": "markdown",
   "metadata": {},
   "source": [
    "**ÍNDICES**  \n",
    "  \n",
    "Índices são criados para colunas, com o propósito de acelerar a consulta aos dados."
   ]
  },
  {
   "cell_type": "code",
   "execution_count": 37,
   "metadata": {},
   "outputs": [
    {
     "name": "stdout",
     "output_type": "stream",
     "text": [
      "Colunas ['type', 'name', 'tbl_name', 'rootpage', 'sql']\n",
      "['type: table', 'name: random_table', 'tbl_name: random_table', 'rootpage: 2', 'sql: CREATE TABLE random_table(ID INTEGER PRIMARY KEY AUTOINCREMENT NOT NULL, Produto TEXT, Valor REAL, Data DATE, Vendido BIT NOT NULL)']\n",
      "['type: table', 'name: sqlite_sequence', 'tbl_name: sqlite_sequence', 'rootpage: 3', 'sql: CREATE TABLE sqlite_sequence(name,seq)']\n",
      "['type: table', 'name: child_table', 'tbl_name: child_table', 'rootpage: 4', 'sql: CREATE TABLE child_table (ID INTEGER PRIMARY KEY AUTOINCREMENT NOT NULL, Desconto REAL, Data DATE, ProdutoID INTEGER NOT NULL, FOREIGN KEY (ProdutoID) REFERENCES random_table(ID))']\n",
      "['type: table', 'name: old_table', 'tbl_name: old_table', 'rootpage: 5', 'sql: CREATE TABLE \"old_table\"(\\n  ID INT,\\n  Produto TEXT,\\n  Valor REAL,\\n  Data NUM,\\n  Vendido NUM\\n)']\n",
      "['type: table', 'name: copy_table', 'tbl_name: copy_table', 'rootpage: 6', 'sql: CREATE TABLE copy_table (\\n        ID INTEGER PRIMARY KEY AUTOINCREMENT NOT NULL,\\n        Produto TEXT,\\n        Valor REAL,\\n        Data DATE,\\n        Vendido BIT NOT NULL)']\n",
      "['type: index', 'name: idx_Data', 'tbl_name: random_table', 'rootpage: 7', 'sql: CREATE INDEX idx_Data ON random_table(Data)']\n"
     ]
    }
   ],
   "source": [
    "# CREATE INDEX\n",
    "\n",
    "Query = 'CREATE INDEX idx_Data ON random_table(Data)'\n",
    "\n",
    "Execute_and_Commit(Query,arquivo,'sqlite_master')\n",
    "\n",
    "# O índice aparece como um objeto com a mesma hierarquia de uma tabela."
   ]
  },
  {
   "cell_type": "code",
   "execution_count": 38,
   "metadata": {},
   "outputs": [
    {
     "name": "stdout",
     "output_type": "stream",
     "text": [
      "Colunas ['type', 'name', 'tbl_name', 'rootpage', 'sql']\n",
      "['type: table', 'name: random_table', 'tbl_name: random_table', 'rootpage: 2', 'sql: CREATE TABLE random_table(ID INTEGER PRIMARY KEY AUTOINCREMENT NOT NULL, Produto TEXT, Valor REAL, Data DATE, Vendido BIT NOT NULL)']\n",
      "['type: table', 'name: sqlite_sequence', 'tbl_name: sqlite_sequence', 'rootpage: 3', 'sql: CREATE TABLE sqlite_sequence(name,seq)']\n",
      "['type: table', 'name: child_table', 'tbl_name: child_table', 'rootpage: 4', 'sql: CREATE TABLE child_table (ID INTEGER PRIMARY KEY AUTOINCREMENT NOT NULL, Desconto REAL, Data DATE, ProdutoID INTEGER NOT NULL, FOREIGN KEY (ProdutoID) REFERENCES random_table(ID))']\n",
      "['type: table', 'name: old_table', 'tbl_name: old_table', 'rootpage: 5', 'sql: CREATE TABLE \"old_table\"(\\n  ID INT,\\n  Produto TEXT,\\n  Valor REAL,\\n  Data NUM,\\n  Vendido NUM\\n)']\n",
      "['type: table', 'name: copy_table', 'tbl_name: copy_table', 'rootpage: 6', 'sql: CREATE TABLE copy_table (\\n        ID INTEGER PRIMARY KEY AUTOINCREMENT NOT NULL,\\n        Produto TEXT,\\n        Valor REAL,\\n        Data DATE,\\n        Vendido BIT NOT NULL)']\n"
     ]
    }
   ],
   "source": [
    "# DROP INDEX\n",
    "\n",
    "Query = 'DROP INDEX idx_Data'\n",
    "\n",
    "Execute_and_Commit(Query,arquivo,'sqlite_master')"
   ]
  },
  {
   "cell_type": "code",
   "execution_count": 39,
   "metadata": {},
   "outputs": [
    {
     "name": "stdout",
     "output_type": "stream",
     "text": [
      "Colunas ['type', 'name', 'tbl_name', 'rootpage', 'sql']\n",
      "['type: table', 'name: random_table', 'tbl_name: random_table', 'rootpage: 2', 'sql: CREATE TABLE random_table(ID INTEGER PRIMARY KEY AUTOINCREMENT NOT NULL, Produto TEXT, Valor REAL, Data DATE, Vendido BIT NOT NULL)']\n",
      "['type: table', 'name: sqlite_sequence', 'tbl_name: sqlite_sequence', 'rootpage: 3', 'sql: CREATE TABLE sqlite_sequence(name,seq)']\n",
      "['type: table', 'name: child_table', 'tbl_name: child_table', 'rootpage: 4', 'sql: CREATE TABLE child_table (ID INTEGER PRIMARY KEY AUTOINCREMENT NOT NULL, Desconto REAL, Data DATE, ProdutoID INTEGER NOT NULL, FOREIGN KEY (ProdutoID) REFERENCES random_table(ID))']\n",
      "['type: table', 'name: old_table', 'tbl_name: old_table', 'rootpage: 5', 'sql: CREATE TABLE \"old_table\"(\\n  ID INT,\\n  Produto TEXT,\\n  Valor REAL,\\n  Data NUM,\\n  Vendido NUM\\n)']\n",
      "['type: table', 'name: copy_table', 'tbl_name: copy_table', 'rootpage: 6', 'sql: CREATE TABLE copy_table (\\n        ID INTEGER PRIMARY KEY AUTOINCREMENT NOT NULL,\\n        Produto TEXT,\\n        Valor REAL,\\n        Data DATE,\\n        Vendido BIT NOT NULL)']\n",
      "['type: view', 'name: view_example', 'tbl_name: view_example', 'rootpage: 0', 'sql: CREATE VIEW view_example AS\\n    SELECT * FROM child_table JOIN random_table \\n    ON child_table.ProdutoID = random_table.ID']\n"
     ]
    }
   ],
   "source": [
    "# VIEW\n",
    "# Não há suporte para \"REPLACE\" no SQLite3\n",
    "\n",
    "Query = '''\n",
    "    CREATE VIEW view_example AS\n",
    "    SELECT * FROM child_table JOIN random_table \n",
    "    ON child_table.ProdutoID = random_table.ID\n",
    "    '''\n",
    "\n",
    "Execute_and_Commit(Query,arquivo,'sqlite_master')"
   ]
  },
  {
   "cell_type": "code",
   "execution_count": 40,
   "metadata": {},
   "outputs": [
    {
     "name": "stdout",
     "output_type": "stream",
     "text": [
      "Colunas ['type', 'name', 'tbl_name', 'rootpage', 'sql']\n",
      "['type: table', 'name: random_table', 'tbl_name: random_table', 'rootpage: 2', 'sql: CREATE TABLE random_table(ID INTEGER PRIMARY KEY AUTOINCREMENT NOT NULL, Produto TEXT, Valor REAL, Data DATE, Vendido BIT NOT NULL)']\n",
      "['type: table', 'name: sqlite_sequence', 'tbl_name: sqlite_sequence', 'rootpage: 3', 'sql: CREATE TABLE sqlite_sequence(name,seq)']\n",
      "['type: table', 'name: child_table', 'tbl_name: child_table', 'rootpage: 4', 'sql: CREATE TABLE child_table (ID INTEGER PRIMARY KEY AUTOINCREMENT NOT NULL, Desconto REAL, Data DATE, ProdutoID INTEGER NOT NULL, FOREIGN KEY (ProdutoID) REFERENCES random_table(ID))']\n",
      "['type: table', 'name: old_table', 'tbl_name: old_table', 'rootpage: 5', 'sql: CREATE TABLE \"old_table\"(\\n  ID INT,\\n  Produto TEXT,\\n  Valor REAL,\\n  Data NUM,\\n  Vendido NUM\\n)']\n",
      "['type: table', 'name: copy_table', 'tbl_name: copy_table', 'rootpage: 6', 'sql: CREATE TABLE copy_table (\\n        ID INTEGER PRIMARY KEY AUTOINCREMENT NOT NULL,\\n        Produto TEXT,\\n        Valor REAL,\\n        Data DATE,\\n        Vendido BIT NOT NULL)']\n"
     ]
    }
   ],
   "source": [
    "Query = '''\n",
    "    DROP VIEW view_example\n",
    "    '''\n",
    "\n",
    "Execute_and_Commit(Query,arquivo,'sqlite_master')"
   ]
  },
  {
   "cell_type": "markdown",
   "metadata": {},
   "source": [
    "### Adição e Remoção\n",
    "<a id='Adição'></a>"
   ]
  },
  {
   "cell_type": "code",
   "execution_count": 41,
   "metadata": {},
   "outputs": [
    {
     "name": "stdout",
     "output_type": "stream",
     "text": [
      "Colunas ['ID', 'Produto', 'Valor', 'Data', 'Vendido']\n",
      "['ID: 1', 'Produto: Teclado', 'Valor: 75.0', 'Data: 2022-09-23 18:07:29.124935', 'Vendido: 1']\n",
      "['ID: 2', 'Produto: Mouse', 'Valor: 81.0', 'Data: 2022-09-23 18:07:29.133929', 'Vendido: 1']\n",
      "['ID: 3', 'Produto: Monitor', 'Valor: 66.0', 'Data: 2022-09-23 18:07:29.156915', 'Vendido: 1']\n",
      "['ID: 4', 'Produto: Monitor', 'Valor: 88.0', 'Data: 2022-09-23 18:07:29.222874', 'Vendido: 0']\n",
      "['ID: 5', 'Produto: Teclado', 'Valor: 99.0', 'Data: 2022-09-23 18:07:29.241863', 'Vendido: 0']\n",
      "['ID: 6', 'Produto: Mouse', 'Valor: 53.0', 'Data: 2022-09-23 18:07:29.255855', 'Vendido: 1']\n",
      "['ID: 7', 'Produto: Monitor', 'Valor: 81.0', 'Data: 2022-09-23 18:07:29.268853', 'Vendido: 0']\n",
      "['ID: 8', 'Produto: Teclado', 'Valor: 67.0', 'Data: 2022-09-23 18:07:29.276843', 'Vendido: 0']\n",
      "['ID: 9', 'Produto: Mouse', 'Valor: 61.0', 'Data: 2022-09-23 18:07:29.286835', 'Vendido: 0']\n",
      "['ID: 10', 'Produto: CPU', 'Valor: 72.0', 'Data: 2022-09-23 18:07:29.294830', 'Vendido: 1']\n",
      "['ID: 11', 'Produto: Mouse', 'Valor: 77.0', 'Data: 2022-09-23 18:07:29.304824', 'Vendido: 0']\n",
      "['ID: 12', 'Produto: CPU', 'Valor: 77.0', 'Data: 2022-09-23 18:07:29.315817', 'Vendido: 0']\n",
      "['ID: 13', 'Produto: CPU', 'Valor: 81.0', 'Data: 2022-09-23 18:07:29.322812', 'Vendido: 1']\n",
      "['ID: 14', 'Produto: Mouse', 'Valor: 50.0', 'Data: 2022-09-23 18:07:29.334807', 'Vendido: 0']\n",
      "['ID: 15', 'Produto: Mouse', 'Valor: 78.0', 'Data: 2022-09-23 18:07:29.345798', 'Vendido: 0']\n",
      "['ID: 16', 'Produto: Teclado', 'Valor: 57.0', 'Data: 2022-09-23 18:07:29.356792', 'Vendido: 0']\n",
      "['ID: 17', 'Produto: Monitor', 'Valor: 67.0', 'Data: 2022-09-23 18:07:29.364788', 'Vendido: 0']\n",
      "['ID: 18', 'Produto: CPU', 'Valor: 63.0', 'Data: 2022-09-23 18:07:29.372782', 'Vendido: 1']\n",
      "['ID: 19', 'Produto: CPU', 'Valor: 58.0', 'Data: 2022-09-23 18:07:29.395767', 'Vendido: 0']\n",
      "['ID: 20', 'Produto: CPU', 'Valor: 94.0', 'Data: 2022-09-23 18:07:29.404762', 'Vendido: 0']\n",
      "['ID: 21', 'Produto: CPU', 'Valor: 91.0', 'Data: 2022-09-03 16:26:28.564400', 'Vendido: 1']\n"
     ]
    }
   ],
   "source": [
    "# Inserir linha/observação\n",
    "\n",
    "Query = \"INSERT INTO random_table VALUES(21, 'CPU', 91.0, '2022-09-03 16:26:28.564400',1)\"\n",
    "\n",
    "# É necessário alternar entre aspas e aspas duplas para que o interpretador não encerre a string\n",
    "# Mesmo a Primary Key tendo autoincremento, ele deve ser dado\n",
    "# Se este comando foi executado uma segunda vez, um erro ocorre por tentar adicionar um ID que já existe.\n",
    "\n",
    "Execute_and_Commit(Query,arquivo,tabela)"
   ]
  },
  {
   "cell_type": "code",
   "execution_count": 42,
   "metadata": {},
   "outputs": [
    {
     "name": "stdout",
     "output_type": "stream",
     "text": [
      "Colunas ['ID', 'Produto', 'Valor', 'Data', 'Vendido']\n",
      "['ID: 1', 'Produto: Teclado', 'Valor: 75.0', 'Data: 2022-09-23 18:07:29.124935', 'Vendido: 1']\n",
      "['ID: 2', 'Produto: Mouse', 'Valor: 81.0', 'Data: 2022-09-23 18:07:29.133929', 'Vendido: 1']\n",
      "['ID: 3', 'Produto: Monitor', 'Valor: 66.0', 'Data: 2022-09-23 18:07:29.156915', 'Vendido: 1']\n",
      "['ID: 4', 'Produto: Monitor', 'Valor: 88.0', 'Data: 2022-09-23 18:07:29.222874', 'Vendido: 0']\n",
      "['ID: 5', 'Produto: Teclado', 'Valor: 99.0', 'Data: 2022-09-23 18:07:29.241863', 'Vendido: 0']\n",
      "['ID: 6', 'Produto: Mouse', 'Valor: 53.0', 'Data: 2022-09-23 18:07:29.255855', 'Vendido: 1']\n",
      "['ID: 7', 'Produto: Monitor', 'Valor: 81.0', 'Data: 2022-09-23 18:07:29.268853', 'Vendido: 0']\n",
      "['ID: 8', 'Produto: Teclado', 'Valor: 67.0', 'Data: 2022-09-23 18:07:29.276843', 'Vendido: 0']\n",
      "['ID: 9', 'Produto: Mouse', 'Valor: 61.0', 'Data: 2022-09-23 18:07:29.286835', 'Vendido: 0']\n",
      "['ID: 10', 'Produto: CPU', 'Valor: 72.0', 'Data: 2022-09-23 18:07:29.294830', 'Vendido: 1']\n",
      "['ID: 11', 'Produto: Mouse', 'Valor: 77.0', 'Data: 2022-09-23 18:07:29.304824', 'Vendido: 0']\n",
      "['ID: 12', 'Produto: CPU', 'Valor: 77.0', 'Data: 2022-09-23 18:07:29.315817', 'Vendido: 0']\n",
      "['ID: 13', 'Produto: CPU', 'Valor: 81.0', 'Data: 2022-09-23 18:07:29.322812', 'Vendido: 1']\n",
      "['ID: 14', 'Produto: Mouse', 'Valor: 50.0', 'Data: 2022-09-23 18:07:29.334807', 'Vendido: 0']\n",
      "['ID: 15', 'Produto: Mouse', 'Valor: 78.0', 'Data: 2022-09-23 18:07:29.345798', 'Vendido: 0']\n",
      "['ID: 16', 'Produto: Teclado', 'Valor: 57.0', 'Data: 2022-09-23 18:07:29.356792', 'Vendido: 0']\n",
      "['ID: 17', 'Produto: Monitor', 'Valor: 67.0', 'Data: 2022-09-23 18:07:29.364788', 'Vendido: 0']\n",
      "['ID: 18', 'Produto: CPU', 'Valor: 63.0', 'Data: 2022-09-23 18:07:29.372782', 'Vendido: 1']\n",
      "['ID: 19', 'Produto: CPU', 'Valor: 58.0', 'Data: 2022-09-23 18:07:29.395767', 'Vendido: 0']\n",
      "['ID: 20', 'Produto: CPU', 'Valor: 94.0', 'Data: 2022-09-23 18:07:29.404762', 'Vendido: 0']\n",
      "['ID: 21', 'Produto: CPU', 'Valor: 91.0', 'Data: 2022-09-03 16:26:28.564400', 'Vendido: 1']\n",
      "['ID: 22', 'Produto: CPU', 'Valor: 120.0', 'Data: 2022-09-03 16:26:28.564400', 'Vendido: 0']\n"
     ]
    }
   ],
   "source": [
    "# Inserir definindo valor e coluna\n",
    "# \"INSERT INTO tabela ('coluna', 'coluna', 'coluna') VALUES ('valor', 'valor', 'valor')\"\n",
    "\n",
    "Query = \"INSERT INTO random_table('Produto','Valor','Data','Vendido') VALUES('CPU', 120.0, '2022-09-03 16:26:28.564400',0)\"\n",
    "\n",
    "Execute_and_Commit(Query,arquivo,tabela)"
   ]
  },
  {
   "cell_type": "code",
   "execution_count": 43,
   "metadata": {},
   "outputs": [
    {
     "name": "stdout",
     "output_type": "stream",
     "text": [
      "Colunas ['ID', 'Produto', 'Valor', 'Data', 'Vendido']\n",
      "['ID: 1', 'Produto: Teclado', 'Valor: 75.0', 'Data: 2022-09-23 18:07:29.124935', 'Vendido: 1']\n",
      "['ID: 2', 'Produto: Mouse', 'Valor: 81.0', 'Data: 2022-09-23 18:07:29.133929', 'Vendido: 1']\n",
      "['ID: 3', 'Produto: Monitor', 'Valor: 66.0', 'Data: 2022-09-23 18:07:29.156915', 'Vendido: 1']\n",
      "['ID: 4', 'Produto: Monitor', 'Valor: 88.0', 'Data: 2022-09-23 18:07:29.222874', 'Vendido: 0']\n",
      "['ID: 5', 'Produto: Teclado', 'Valor: 99.0', 'Data: 2022-09-23 18:07:29.241863', 'Vendido: 0']\n",
      "['ID: 6', 'Produto: Mouse', 'Valor: 53.0', 'Data: 2022-09-23 18:07:29.255855', 'Vendido: 1']\n",
      "['ID: 7', 'Produto: Monitor', 'Valor: 81.0', 'Data: 2022-09-23 18:07:29.268853', 'Vendido: 0']\n",
      "['ID: 8', 'Produto: Teclado', 'Valor: 67.0', 'Data: 2022-09-23 18:07:29.276843', 'Vendido: 0']\n",
      "['ID: 9', 'Produto: Mouse', 'Valor: 61.0', 'Data: 2022-09-23 18:07:29.286835', 'Vendido: 0']\n",
      "['ID: 10', 'Produto: CPU', 'Valor: 72.0', 'Data: 2022-09-23 18:07:29.294830', 'Vendido: 1']\n",
      "['ID: 11', 'Produto: Mouse', 'Valor: 77.0', 'Data: 2022-09-23 18:07:29.304824', 'Vendido: 0']\n",
      "['ID: 12', 'Produto: CPU', 'Valor: 77.0', 'Data: 2022-09-23 18:07:29.315817', 'Vendido: 0']\n",
      "['ID: 13', 'Produto: CPU', 'Valor: 81.0', 'Data: 2022-09-23 18:07:29.322812', 'Vendido: 1']\n",
      "['ID: 14', 'Produto: Mouse', 'Valor: 50.0', 'Data: 2022-09-23 18:07:29.334807', 'Vendido: 0']\n",
      "['ID: 15', 'Produto: Mouse', 'Valor: 78.0', 'Data: 2022-09-23 18:07:29.345798', 'Vendido: 0']\n",
      "['ID: 16', 'Produto: Teclado', 'Valor: 57.0', 'Data: 2022-09-23 18:07:29.356792', 'Vendido: 0']\n",
      "['ID: 17', 'Produto: Monitor', 'Valor: 67.0', 'Data: 2022-09-23 18:07:29.364788', 'Vendido: 0']\n",
      "['ID: 18', 'Produto: CPU', 'Valor: 63.0', 'Data: 2022-09-23 18:07:29.372782', 'Vendido: 1']\n",
      "['ID: 19', 'Produto: CPU', 'Valor: 58.0', 'Data: 2022-09-23 18:07:29.395767', 'Vendido: 0']\n",
      "['ID: 20', 'Produto: CPU', 'Valor: 94.0', 'Data: 2022-09-23 18:07:29.404762', 'Vendido: 0']\n",
      "['ID: 21', 'Produto: CPU', 'Valor: 91.0', 'Data: 2022-09-03 16:26:28.564400', 'Vendido: 1']\n",
      "['ID: 22', 'Produto: CPU', 'Valor: 120.0', 'Data: 2022-09-03 16:26:28.564400', 'Vendido: 0']\n",
      "['ID: 23', 'Produto: Câmera', 'Valor: 66.0', 'Data: 2022-09-23 18:08:07.525718', 'Vendido: 0']\n"
     ]
    }
   ],
   "source": [
    "# Inserir com o auxílio de uma tupla ou lista.\n",
    "\n",
    "# A execução muda\n",
    "\n",
    "Query = \"INSERT INTO random_table('Produto','Valor','Data','Vendido') VALUES(?, ?, ?,?)\"\n",
    "\n",
    "Observação = ['Câmera',66,datetime.datetime.now(),0]\n",
    "\n",
    "\n",
    "Conn = sqlite3.connect(arquivo)\n",
    "Cursor = Conn.cursor()\n",
    "\n",
    "Cursor.execute(Query,Observação)\n",
    "\n",
    "Conn.commit()\n",
    "Cursor.close()\n",
    "Conn.close()\n",
    "\n",
    "showall(arquivo,tabela)\n"
   ]
  },
  {
   "cell_type": "code",
   "execution_count": 44,
   "metadata": {},
   "outputs": [
    {
     "name": "stdout",
     "output_type": "stream",
     "text": [
      "Colunas ['ID', 'Produto', 'Valor', 'Data', 'Vendido']\n",
      "['ID: 1', 'Produto: Teclado', 'Valor: 75.0', 'Data: 2022-09-23 18:07:29.124935', 'Vendido: 1']\n",
      "['ID: 2', 'Produto: Mouse', 'Valor: 81.0', 'Data: 2022-09-23 18:07:29.133929', 'Vendido: 1']\n",
      "['ID: 3', 'Produto: Monitor', 'Valor: 66.0', 'Data: 2022-09-23 18:07:29.156915', 'Vendido: 1']\n",
      "['ID: 4', 'Produto: Monitor', 'Valor: 88.0', 'Data: 2022-09-23 18:07:29.222874', 'Vendido: 0']\n",
      "['ID: 5', 'Produto: Teclado', 'Valor: 99.0', 'Data: 2022-09-23 18:07:29.241863', 'Vendido: 0']\n",
      "['ID: 6', 'Produto: Mouse', 'Valor: 53.0', 'Data: 2022-09-23 18:07:29.255855', 'Vendido: 1']\n",
      "['ID: 7', 'Produto: Monitor', 'Valor: 81.0', 'Data: 2022-09-23 18:07:29.268853', 'Vendido: 0']\n",
      "['ID: 8', 'Produto: Teclado', 'Valor: 67.0', 'Data: 2022-09-23 18:07:29.276843', 'Vendido: 0']\n",
      "['ID: 9', 'Produto: Mouse', 'Valor: 61.0', 'Data: 2022-09-23 18:07:29.286835', 'Vendido: 0']\n",
      "['ID: 10', 'Produto: CPU', 'Valor: 72.0', 'Data: 2022-09-23 18:07:29.294830', 'Vendido: 1']\n",
      "['ID: 11', 'Produto: Mouse', 'Valor: 77.0', 'Data: 2022-09-23 18:07:29.304824', 'Vendido: 0']\n",
      "['ID: 12', 'Produto: CPU', 'Valor: 77.0', 'Data: 2022-09-23 18:07:29.315817', 'Vendido: 0']\n",
      "['ID: 13', 'Produto: CPU', 'Valor: 81.0', 'Data: 2022-09-23 18:07:29.322812', 'Vendido: 1']\n",
      "['ID: 14', 'Produto: Mouse', 'Valor: 50.0', 'Data: 2022-09-23 18:07:29.334807', 'Vendido: 0']\n",
      "['ID: 15', 'Produto: Mouse', 'Valor: 78.0', 'Data: 2022-09-23 18:07:29.345798', 'Vendido: 0']\n",
      "['ID: 16', 'Produto: Teclado', 'Valor: 57.0', 'Data: 2022-09-23 18:07:29.356792', 'Vendido: 0']\n",
      "['ID: 17', 'Produto: Monitor', 'Valor: 67.0', 'Data: 2022-09-23 18:07:29.364788', 'Vendido: 0']\n",
      "['ID: 18', 'Produto: CPU', 'Valor: 63.0', 'Data: 2022-09-23 18:07:29.372782', 'Vendido: 1']\n",
      "['ID: 19', 'Produto: CPU', 'Valor: 58.0', 'Data: 2022-09-23 18:07:29.395767', 'Vendido: 0']\n",
      "['ID: 20', 'Produto: CPU', 'Valor: 94.0', 'Data: 2022-09-23 18:07:29.404762', 'Vendido: 0']\n",
      "['ID: 21', 'Produto: CPU', 'Valor: 91.0', 'Data: 2022-09-03 16:26:28.564400', 'Vendido: 1']\n",
      "['ID: 22', 'Produto: CPU', 'Valor: 120.0', 'Data: 2022-09-03 16:26:28.564400', 'Vendido: 0']\n",
      "['ID: 23', 'Produto: Câmera', 'Valor: 66.0', 'Data: 2022-09-23 18:08:07.525718', 'Vendido: 0']\n",
      "['ID: 24', 'Produto: Pendrive', 'Valor: 15.0', 'Data: 2022-09-23 18:08:08.016415', 'Vendido: 0']\n",
      "['ID: 25', 'Produto: Pendrive', 'Valor: 15.0', 'Data: 2022-09-23 18:08:08.016415', 'Vendido: 1']\n",
      "['ID: 26', 'Produto: Pendrive', 'Valor: 20.0', 'Data: 2022-09-23 18:08:08.016415', 'Vendido: 0']\n",
      "['ID: 27', 'Produto: Pendrive', 'Valor: 17.0', 'Data: 2022-09-23 18:08:08.016415', 'Vendido: 1']\n"
     ]
    }
   ],
   "source": [
    "# executemany\n",
    "# Permite adicionar várias inserções sem um loop.\n",
    "# As observações precisam ser iteráveis dentro de iteráveis.\n",
    "\n",
    "Query = \"INSERT INTO random_table('Produto','Valor','Data','Vendido') VALUES(?, ?, ?,?)\"\n",
    "\n",
    "Observações = (('Pendrive',15,datetime.datetime.now(),0),('Pendrive',15,datetime.datetime.now(),1),('Pendrive',20,datetime.datetime.now(),0),('Pendrive',17,datetime.datetime.now(),1))\n",
    "\n",
    "\n",
    "Conn = sqlite3.connect(arquivo)\n",
    "Cursor = Conn.cursor()\n",
    "\n",
    "Cursor.executemany(Query,Observações)\n",
    "\n",
    "Conn.commit()\n",
    "Cursor.close()\n",
    "Conn.close()\n",
    "\n",
    "showall(arquivo,tabela)"
   ]
  },
  {
   "cell_type": "code",
   "execution_count": 45,
   "metadata": {},
   "outputs": [
    {
     "name": "stdout",
     "output_type": "stream",
     "text": [
      "Colunas ['ID', 'Produto', 'Valor', 'Data', 'Vendido']\n",
      "['ID: 1', 'Produto: Teclado', 'Valor: 75.0', 'Data: 2022-09-23 18:07:29.124935', 'Vendido: 1']\n",
      "['ID: 2', 'Produto: Mouse', 'Valor: 81.0', 'Data: 2022-09-23 18:07:29.133929', 'Vendido: 1']\n",
      "['ID: 3', 'Produto: Monitor', 'Valor: 66.0', 'Data: 2022-09-23 18:07:29.156915', 'Vendido: 1']\n",
      "['ID: 4', 'Produto: Monitor', 'Valor: 88.0', 'Data: 2022-09-23 18:07:29.222874', 'Vendido: 0']\n",
      "['ID: 5', 'Produto: Teclado', 'Valor: 99.0', 'Data: 2022-09-23 18:07:29.241863', 'Vendido: 0']\n",
      "['ID: 7', 'Produto: Monitor', 'Valor: 81.0', 'Data: 2022-09-23 18:07:29.268853', 'Vendido: 0']\n",
      "['ID: 8', 'Produto: Teclado', 'Valor: 67.0', 'Data: 2022-09-23 18:07:29.276843', 'Vendido: 0']\n",
      "['ID: 9', 'Produto: Mouse', 'Valor: 61.0', 'Data: 2022-09-23 18:07:29.286835', 'Vendido: 0']\n",
      "['ID: 10', 'Produto: CPU', 'Valor: 72.0', 'Data: 2022-09-23 18:07:29.294830', 'Vendido: 1']\n",
      "['ID: 11', 'Produto: Mouse', 'Valor: 77.0', 'Data: 2022-09-23 18:07:29.304824', 'Vendido: 0']\n",
      "['ID: 12', 'Produto: CPU', 'Valor: 77.0', 'Data: 2022-09-23 18:07:29.315817', 'Vendido: 0']\n",
      "['ID: 13', 'Produto: CPU', 'Valor: 81.0', 'Data: 2022-09-23 18:07:29.322812', 'Vendido: 1']\n",
      "['ID: 15', 'Produto: Mouse', 'Valor: 78.0', 'Data: 2022-09-23 18:07:29.345798', 'Vendido: 0']\n",
      "['ID: 17', 'Produto: Monitor', 'Valor: 67.0', 'Data: 2022-09-23 18:07:29.364788', 'Vendido: 0']\n",
      "['ID: 18', 'Produto: CPU', 'Valor: 63.0', 'Data: 2022-09-23 18:07:29.372782', 'Vendido: 1']\n",
      "['ID: 20', 'Produto: CPU', 'Valor: 94.0', 'Data: 2022-09-23 18:07:29.404762', 'Vendido: 0']\n",
      "['ID: 21', 'Produto: CPU', 'Valor: 91.0', 'Data: 2022-09-03 16:26:28.564400', 'Vendido: 1']\n",
      "['ID: 22', 'Produto: CPU', 'Valor: 120.0', 'Data: 2022-09-03 16:26:28.564400', 'Vendido: 0']\n",
      "['ID: 23', 'Produto: Câmera', 'Valor: 66.0', 'Data: 2022-09-23 18:08:07.525718', 'Vendido: 0']\n"
     ]
    }
   ],
   "source": [
    "# Deletar dado\n",
    "# Sem filtro, deleta todos os dados.\n",
    "\n",
    "Query = \"DELETE FROM random_table WHERE Valor < 60\"\n",
    "\n",
    "Execute_and_Commit(Query,arquivo,tabela)"
   ]
  },
  {
   "cell_type": "code",
   "execution_count": 46,
   "metadata": {},
   "outputs": [
    {
     "name": "stdout",
     "output_type": "stream",
     "text": [
      "Colunas ['ID', 'Produto', 'Valor', 'Data', 'Vendido']\n",
      "['ID: 1', 'Produto: Teclado', 'Valor: 75.0', 'Data: 2022-09-23 18:07:29.124935', 'Vendido: 1']\n",
      "['ID: 2', 'Produto: Mouse', 'Valor: 81.0', 'Data: 2022-09-23 18:07:29.133929', 'Vendido: 1']\n",
      "['ID: 3', 'Produto: Monitor', 'Valor: 66.0', 'Data: 2022-09-23 18:07:29.156915', 'Vendido: 1']\n",
      "['ID: 4', 'Produto: Monitor', 'Valor: 88.0', 'Data: 2022-09-23 18:07:29.222874', 'Vendido: 0']\n",
      "['ID: 5', 'Produto: Teclado', 'Valor: 99.0', 'Data: 2022-09-23 18:07:29.241863', 'Vendido: 0']\n",
      "['ID: 7', 'Produto: Monitor', 'Valor: 81.0', 'Data: 2022-09-23 18:07:29.268853', 'Vendido: 0']\n",
      "['ID: 8', 'Produto: Teclado', 'Valor: 67.0', 'Data: 2022-09-23 18:07:29.276843', 'Vendido: 0']\n",
      "['ID: 9', 'Produto: Mouse', 'Valor: 61.0', 'Data: 2022-09-23 18:07:29.286835', 'Vendido: 0']\n",
      "['ID: 10', 'Produto: CPU', 'Valor: 72.0', 'Data: 2022-09-23 18:07:29.294830', 'Vendido: 1']\n",
      "['ID: 11', 'Produto: Mouse', 'Valor: 77.0', 'Data: 2022-09-23 18:07:29.304824', 'Vendido: 0']\n",
      "['ID: 12', 'Produto: CPU', 'Valor: 77.0', 'Data: 2022-09-23 18:07:29.315817', 'Vendido: 0']\n",
      "['ID: 13', 'Produto: CPU', 'Valor: 81.0', 'Data: 2022-09-23 18:07:29.322812', 'Vendido: 1']\n",
      "['ID: 15', 'Produto: Mouse', 'Valor: 78.0', 'Data: 2022-09-23 18:07:29.345798', 'Vendido: 0']\n",
      "['ID: 17', 'Produto: Monitor', 'Valor: 67.0', 'Data: 2022-09-23 18:07:29.364788', 'Vendido: 0']\n",
      "['ID: 18', 'Produto: CPU', 'Valor: 63.0', 'Data: 2022-09-23 18:07:29.372782', 'Vendido: 1']\n",
      "['ID: 20', 'Produto: CPU', 'Valor: 94.0', 'Data: 2022-09-23 18:07:29.404762', 'Vendido: 0']\n",
      "['ID: 21', 'Produto: CPU', 'Valor: 91.0', 'Data: 2022-09-03 16:26:28.564400', 'Vendido: 1']\n",
      "['ID: 22', 'Produto: CPU', 'Valor: 120.0', 'Data: 2022-09-03 16:26:28.564400', 'Vendido: 0']\n",
      "['ID: 23', 'Produto: Câmera', 'Valor: 66.0', 'Data: 2022-09-23 18:08:07.525718', 'Vendido: 0']\n",
      "['ID: 28', 'Produto: None', 'Valor: 120.0', 'Data: 2022-09-03 16:26:28.564400', 'Vendido: 0']\n"
     ]
    }
   ],
   "source": [
    "# Valores NULL\n",
    "\n",
    "Query = \"INSERT INTO random_table('Valor','Data','Vendido') VALUES(120.0, '2022-09-03 16:26:28.564400',0)\"\n",
    "\n",
    "Execute_and_Commit(Query,arquivo,tabela)\n",
    "\n",
    "# Em Python é apresentado como None\n",
    "# Como o ID tem Autoincremento, esse valor não fica nulo.\n",
    "# O tratamento de variáveis nulas é demonstrada em \"Filtros e Operadores Lógicos\""
   ]
  },
  {
   "cell_type": "markdown",
   "metadata": {},
   "source": [
    "### Alteração\n",
    "<a id='Alteração'></a>"
   ]
  },
  {
   "cell_type": "code",
   "execution_count": 47,
   "metadata": {},
   "outputs": [
    {
     "name": "stdout",
     "output_type": "stream",
     "text": [
      "Colunas ['ID', 'Produto', 'Valor', 'Data', 'Vendido']\n",
      "['ID: 1', 'Produto: Teclado', 'Valor: 75.0', 'Data: 2022-09-23 18:07:29.124935', 'Vendido: 1']\n",
      "['ID: 2', 'Produto: Cabos', 'Valor: 81.0', 'Data: 2022-09-23 18:07:29.133929', 'Vendido: 1']\n",
      "['ID: 3', 'Produto: Monitor', 'Valor: 66.0', 'Data: 2022-09-23 18:07:29.156915', 'Vendido: 1']\n",
      "['ID: 4', 'Produto: Monitor', 'Valor: 88.0', 'Data: 2022-09-23 18:07:29.222874', 'Vendido: 0']\n",
      "['ID: 5', 'Produto: Teclado', 'Valor: 99.0', 'Data: 2022-09-23 18:07:29.241863', 'Vendido: 0']\n",
      "['ID: 7', 'Produto: Monitor', 'Valor: 81.0', 'Data: 2022-09-23 18:07:29.268853', 'Vendido: 0']\n",
      "['ID: 8', 'Produto: Teclado', 'Valor: 67.0', 'Data: 2022-09-23 18:07:29.276843', 'Vendido: 0']\n",
      "['ID: 9', 'Produto: Mouse', 'Valor: 61.0', 'Data: 2022-09-23 18:07:29.286835', 'Vendido: 0']\n",
      "['ID: 10', 'Produto: CPU', 'Valor: 72.0', 'Data: 2022-09-23 18:07:29.294830', 'Vendido: 1']\n",
      "['ID: 11', 'Produto: Mouse', 'Valor: 77.0', 'Data: 2022-09-23 18:07:29.304824', 'Vendido: 0']\n",
      "['ID: 12', 'Produto: CPU', 'Valor: 77.0', 'Data: 2022-09-23 18:07:29.315817', 'Vendido: 0']\n",
      "['ID: 13', 'Produto: CPU', 'Valor: 81.0', 'Data: 2022-09-23 18:07:29.322812', 'Vendido: 1']\n",
      "['ID: 15', 'Produto: Mouse', 'Valor: 78.0', 'Data: 2022-09-23 18:07:29.345798', 'Vendido: 0']\n",
      "['ID: 17', 'Produto: Monitor', 'Valor: 67.0', 'Data: 2022-09-23 18:07:29.364788', 'Vendido: 0']\n",
      "['ID: 18', 'Produto: CPU', 'Valor: 63.0', 'Data: 2022-09-23 18:07:29.372782', 'Vendido: 1']\n",
      "['ID: 20', 'Produto: CPU', 'Valor: 94.0', 'Data: 2022-09-23 18:07:29.404762', 'Vendido: 0']\n",
      "['ID: 21', 'Produto: CPU', 'Valor: 91.0', 'Data: 2022-09-03 16:26:28.564400', 'Vendido: 1']\n",
      "['ID: 22', 'Produto: CPU', 'Valor: 120.0', 'Data: 2022-09-03 16:26:28.564400', 'Vendido: 0']\n",
      "['ID: 23', 'Produto: Câmera', 'Valor: 66.0', 'Data: 2022-09-23 18:08:07.525718', 'Vendido: 0']\n",
      "['ID: 28', 'Produto: None', 'Valor: 120.0', 'Data: 2022-09-03 16:26:28.564400', 'Vendido: 0']\n"
     ]
    }
   ],
   "source": [
    "# Mudança de valor\n",
    "# UPDATE/SET\n",
    "# Sem filtro, altera todos os dados.\n",
    "\n",
    "Query = \"UPDATE random_table SET Produto = 'Cabos' WHERE id = 2\"\n",
    "\n",
    "Execute_and_Commit(Query,arquivo,tabela)"
   ]
  },
  {
   "cell_type": "markdown",
   "metadata": {},
   "source": [
    "### Filtros e Operadores Lógicos\n",
    "<a id='Filtros e Operadores Lógicos'></a>"
   ]
  },
  {
   "cell_type": "code",
   "execution_count": 48,
   "metadata": {},
   "outputs": [
    {
     "name": "stdout",
     "output_type": "stream",
     "text": [
      "('Produto', None, None, None, None, None, None)\n",
      "('Valor', None, None, None, None, None, None)\n",
      "\n",
      "('Monitor', 66.0)\n",
      "('Monitor', 88.0)\n",
      "('Monitor', 81.0)\n",
      "('Monitor', 67.0)\n",
      "('CPU', 94.0)\n",
      "('CPU', 91.0)\n",
      "('CPU', 120.0)\n"
     ]
    }
   ],
   "source": [
    "# WHERE filtra os dados considerados\n",
    "# Se o filtro é aplicado duas vezes a uma mesma coluna, ele deve ser demonstrado duas vezes\n",
    "\n",
    "Query = \"SELECT Produto, Valor FROM random_table WHERE Produto = 'Monitor' OR Produto = 'CPU' AND Valor > 90\"\n",
    "\n",
    "# Desta forma, apenas CPU é filtrada acima de 90. Monitores não foram filtrados\n",
    "\n",
    "Execute_and_Show(Query,arquivo)"
   ]
  },
  {
   "cell_type": "code",
   "execution_count": 49,
   "metadata": {},
   "outputs": [
    {
     "name": "stdout",
     "output_type": "stream",
     "text": [
      "('Produto', None, None, None, None, None, None)\n",
      "('Valor', None, None, None, None, None, None)\n",
      "\n",
      "('CPU', 94.0)\n",
      "('CPU', 91.0)\n",
      "('CPU', 120.0)\n"
     ]
    }
   ],
   "source": [
    "# Assim, o filtro é aplicado a ambos os tipos de produtos\n",
    "\n",
    "Query = \"SELECT Produto, Valor FROM random_table WHERE (Produto = 'Monitor' OR Produto = 'CPU') AND Valor > 90\"\n",
    "\n",
    "Execute_and_Show(Query,arquivo)"
   ]
  },
  {
   "cell_type": "code",
   "execution_count": 50,
   "metadata": {},
   "outputs": [
    {
     "name": "stdout",
     "output_type": "stream",
     "text": [
      "('ID', None, None, None, None, None, None)\n",
      "('Produto', None, None, None, None, None, None)\n",
      "('Valor', None, None, None, None, None, None)\n",
      "('Data', None, None, None, None, None, None)\n",
      "('Vendido', None, None, None, None, None, None)\n",
      "\n",
      "(1, 'Teclado', 75.0, '2022-09-23 18:07:29.124935', 1)\n",
      "(2, 'Cabos', 81.0, '2022-09-23 18:07:29.133929', 1)\n",
      "(10, 'CPU', 72.0, '2022-09-23 18:07:29.294830', 1)\n",
      "(13, 'CPU', 81.0, '2022-09-23 18:07:29.322812', 1)\n",
      "(18, 'CPU', 63.0, '2022-09-23 18:07:29.372782', 1)\n",
      "(21, 'CPU', 91.0, '2022-09-03 16:26:28.564400', 1)\n"
     ]
    }
   ],
   "source": [
    "# NOT\n",
    "# Deve ser usado antes da condição\n",
    "\n",
    "Query = \"SELECT * FROM random_table WHERE NOT Produto = 'Monitor' AND NOT Vendido = 0\"\n",
    "\n",
    "Execute_and_Show(Query,arquivo)"
   ]
  },
  {
   "cell_type": "code",
   "execution_count": 51,
   "metadata": {},
   "outputs": [
    {
     "name": "stdout",
     "output_type": "stream",
     "text": [
      "('name', None, None, None, None, None, None)\n",
      "\n",
      "\n",
      "('name', None, None, None, None, None, None)\n",
      "\n",
      "('random_table',)\n"
     ]
    }
   ],
   "source": [
    "# Verificação se determinada tabela existe\n",
    "\n",
    "Query1 = 'SELECT name from sqlite_master WHERE type = \"table\" AND name = \"Exemplo\"'\n",
    "Query2 = 'SELECT name from sqlite_master WHERE type = \"table\" AND name = \"random_table\"'\n",
    "\n",
    "Execute_and_Show(Query1,arquivo)\n",
    "print()\n",
    "Execute_and_Show(Query2,arquivo)\n",
    "\n",
    "# Se a tabela não existe, nome nenhum é apresentado."
   ]
  },
  {
   "cell_type": "code",
   "execution_count": 52,
   "metadata": {},
   "outputs": [
    {
     "name": "stdout",
     "output_type": "stream",
     "text": [
      "('ID', None, None, None, None, None, None)\n",
      "('Produto', None, None, None, None, None, None)\n",
      "('Valor', None, None, None, None, None, None)\n",
      "('Data', None, None, None, None, None, None)\n",
      "('Vendido', None, None, None, None, None, None)\n",
      "\n",
      "(28, None, 120.0, '2022-09-03 16:26:28.564400', 0)\n"
     ]
    }
   ],
   "source": [
    "# Tratamendo de valores nulos\n",
    "# IS NULL | IS NOT NULL\n",
    "\n",
    "Query = \"SELECT * FROM random_table WHERE Produto IS NULL\"\n",
    "\n",
    "Execute_and_Show(Query,arquivo)"
   ]
  },
  {
   "cell_type": "code",
   "execution_count": 53,
   "metadata": {},
   "outputs": [
    {
     "name": "stdout",
     "output_type": "stream",
     "text": [
      "('Produto', None, None, None, None, None, None)\n",
      "('Valor', None, None, None, None, None, None)\n",
      "\n",
      "('Monitor', 66.0)\n",
      "('Monitor', 88.0)\n",
      "('Monitor', 81.0)\n",
      "('Mouse', 61.0)\n",
      "('Mouse', 77.0)\n",
      "('Mouse', 78.0)\n",
      "('Monitor', 67.0)\n"
     ]
    }
   ],
   "source": [
    "# LIKE e Wildcards (coringas)\n",
    "# LIKE, em filtros WHERE, é usado em substituição do sinal '=', quando o que segue é uma wildcard.\n",
    "# Wildcards se parecem com variáveis Regex\n",
    "    # '%' representa/substitui qualquer número de quaisquer caracteres.\n",
    "    # '_' representa/substitui exatamente um caractere qualquer.\n",
    "\n",
    "Query = \"SELECT Produto, Valor FROM random_table WHERE Produto LIKE '_o%'\"\n",
    "# Filtra linhas cujos valores na coluna \"Produto\" têm a letra \"o\" como segunda letra\n",
    "\n",
    "Execute_and_Show(Query,arquivo)"
   ]
  },
  {
   "cell_type": "code",
   "execution_count": 54,
   "metadata": {},
   "outputs": [
    {
     "name": "stdout",
     "output_type": "stream",
     "text": [
      "('ID', None, None, None, None, None, None)\n",
      "('Produto', None, None, None, None, None, None)\n",
      "('Valor', None, None, None, None, None, None)\n",
      "('Data', None, None, None, None, None, None)\n",
      "('Vendido', None, None, None, None, None, None)\n",
      "\n",
      "(1, 'Teclado', 75.0, '2022-09-23 18:07:29.124935', 1)\n",
      "(2, 'Cabos', 81.0, '2022-09-23 18:07:29.133929', 1)\n",
      "(3, 'Monitor', 66.0, '2022-09-23 18:07:29.156915', 1)\n",
      "(4, 'Monitor', 88.0, '2022-09-23 18:07:29.222874', 0)\n",
      "(5, 'Teclado', 99.0, '2022-09-23 18:07:29.241863', 0)\n",
      "(7, 'Monitor', 81.0, '2022-09-23 18:07:29.268853', 0)\n",
      "(8, 'Teclado', 67.0, '2022-09-23 18:07:29.276843', 0)\n",
      "(9, 'Mouse', 61.0, '2022-09-23 18:07:29.286835', 0)\n",
      "(10, 'CPU', 72.0, '2022-09-23 18:07:29.294830', 1)\n",
      "(11, 'Mouse', 77.0, '2022-09-23 18:07:29.304824', 0)\n",
      "(12, 'CPU', 77.0, '2022-09-23 18:07:29.315817', 0)\n",
      "(13, 'CPU', 81.0, '2022-09-23 18:07:29.322812', 1)\n",
      "(15, 'Mouse', 78.0, '2022-09-23 18:07:29.345798', 0)\n",
      "(17, 'Monitor', 67.0, '2022-09-23 18:07:29.364788', 0)\n",
      "(18, 'CPU', 63.0, '2022-09-23 18:07:29.372782', 1)\n",
      "(20, 'CPU', 94.0, '2022-09-23 18:07:29.404762', 0)\n",
      "(21, 'CPU', 91.0, '2022-09-03 16:26:28.564400', 1)\n",
      "(22, 'CPU', 120.0, '2022-09-03 16:26:28.564400', 0)\n",
      "(23, 'Câmera', 66.0, '2022-09-23 18:08:07.525718', 0)\n"
     ]
    }
   ],
   "source": [
    "# IN É usado em substituição ao sinal '=' em cláusulas que usam WHERE.\n",
    "# É exigido quando vários valores são pssíveis, ou qundo uma declaração é dada como comparação.\n",
    "\n",
    "Query = \"SELECT * FROM random_table WHERE Produto IN (SELECT Produto FROM random_table)\"\n",
    "# Como NULL não é um valor, ele não pode ser usado como critério para filtrar os dados.\n",
    "\n",
    "Execute_and_Show(Query,arquivo)"
   ]
  },
  {
   "cell_type": "code",
   "execution_count": 55,
   "metadata": {},
   "outputs": [
    {
     "name": "stdout",
     "output_type": "stream",
     "text": [
      "('ID', None, None, None, None, None, None)\n",
      "('Produto', None, None, None, None, None, None)\n",
      "('Valor', None, None, None, None, None, None)\n",
      "('Data', None, None, None, None, None, None)\n",
      "('Vendido', None, None, None, None, None, None)\n",
      "\n",
      "(1, 'Teclado', 75.0, '2022-09-23 18:07:29.124935', 1)\n",
      "(2, 'Cabos', 81.0, '2022-09-23 18:07:29.133929', 1)\n",
      "(4, 'Monitor', 88.0, '2022-09-23 18:07:29.222874', 0)\n",
      "(7, 'Monitor', 81.0, '2022-09-23 18:07:29.268853', 0)\n",
      "(8, 'Teclado', 67.0, '2022-09-23 18:07:29.276843', 0)\n",
      "(10, 'CPU', 72.0, '2022-09-23 18:07:29.294830', 1)\n",
      "(11, 'Mouse', 77.0, '2022-09-23 18:07:29.304824', 0)\n",
      "(12, 'CPU', 77.0, '2022-09-23 18:07:29.315817', 0)\n",
      "(13, 'CPU', 81.0, '2022-09-23 18:07:29.322812', 1)\n",
      "(15, 'Mouse', 78.0, '2022-09-23 18:07:29.345798', 0)\n",
      "(17, 'Monitor', 67.0, '2022-09-23 18:07:29.364788', 0)\n",
      "\n",
      "('ID', None, None, None, None, None, None)\n",
      "('Produto', None, None, None, None, None, None)\n",
      "('Valor', None, None, None, None, None, None)\n",
      "('Data', None, None, None, None, None, None)\n",
      "('Vendido', None, None, None, None, None, None)\n",
      "\n",
      "(3, 'Monitor', 66.0, '2022-09-23 18:07:29.156915', 1)\n",
      "(5, 'Teclado', 99.0, '2022-09-23 18:07:29.241863', 0)\n",
      "(9, 'Mouse', 61.0, '2022-09-23 18:07:29.286835', 0)\n",
      "(18, 'CPU', 63.0, '2022-09-23 18:07:29.372782', 1)\n",
      "(20, 'CPU', 94.0, '2022-09-23 18:07:29.404762', 0)\n",
      "(21, 'CPU', 91.0, '2022-09-03 16:26:28.564400', 1)\n",
      "(22, 'CPU', 120.0, '2022-09-03 16:26:28.564400', 0)\n",
      "(23, 'Câmera', 66.0, '2022-09-23 18:08:07.525718', 0)\n",
      "(28, None, 120.0, '2022-09-03 16:26:28.564400', 0)\n"
     ]
    }
   ],
   "source": [
    "# Filtrando valores dentro de uma faixa.\n",
    "# BETWEEN AND\n",
    "\n",
    "Query = \"SELECT * FROM random_table WHERE Valor BETWEEN 67 AND 90\"\n",
    "\n",
    "Execute_and_Show(Query,arquivo)\n",
    "\n",
    "print()\n",
    "\n",
    "\n",
    "Query = \"SELECT * FROM random_table WHERE Valor NOT BETWEEN 67 AND 90\"\n",
    "\n",
    "Execute_and_Show(Query,arquivo)"
   ]
  },
  {
   "cell_type": "code",
   "execution_count": 56,
   "metadata": {},
   "outputs": [
    {
     "name": "stdout",
     "output_type": "stream",
     "text": [
      "('ID', None, None, None, None, None, None)\n",
      "('Produto', None, None, None, None, None, None)\n",
      "('Valor', None, None, None, None, None, None)\n",
      "('Data', None, None, None, None, None, None)\n",
      "('Vendido', None, None, None, None, None, None)\n",
      "\n",
      "/n/n\n",
      "('ID', None, None, None, None, None, None)\n",
      "('Produto', None, None, None, None, None, None)\n",
      "('Valor', None, None, None, None, None, None)\n",
      "('Data', None, None, None, None, None, None)\n",
      "('Vendido', None, None, None, None, None, None)\n",
      "\n",
      "(1, 'Teclado', 75.0, '2022-09-23 18:07:29.124935', 1)\n",
      "(2, 'Cabos', 81.0, '2022-09-23 18:07:29.133929', 1)\n",
      "(3, 'Monitor', 66.0, '2022-09-23 18:07:29.156915', 1)\n",
      "(4, 'Monitor', 88.0, '2022-09-23 18:07:29.222874', 0)\n",
      "(5, 'Teclado', 99.0, '2022-09-23 18:07:29.241863', 0)\n",
      "(7, 'Monitor', 81.0, '2022-09-23 18:07:29.268853', 0)\n",
      "(8, 'Teclado', 67.0, '2022-09-23 18:07:29.276843', 0)\n",
      "(9, 'Mouse', 61.0, '2022-09-23 18:07:29.286835', 0)\n",
      "(10, 'CPU', 72.0, '2022-09-23 18:07:29.294830', 1)\n",
      "(11, 'Mouse', 77.0, '2022-09-23 18:07:29.304824', 0)\n",
      "(12, 'CPU', 77.0, '2022-09-23 18:07:29.315817', 0)\n",
      "(13, 'CPU', 81.0, '2022-09-23 18:07:29.322812', 1)\n",
      "(15, 'Mouse', 78.0, '2022-09-23 18:07:29.345798', 0)\n",
      "(17, 'Monitor', 67.0, '2022-09-23 18:07:29.364788', 0)\n",
      "(18, 'CPU', 63.0, '2022-09-23 18:07:29.372782', 1)\n",
      "(20, 'CPU', 94.0, '2022-09-23 18:07:29.404762', 0)\n",
      "(21, 'CPU', 91.0, '2022-09-03 16:26:28.564400', 1)\n",
      "(22, 'CPU', 120.0, '2022-09-03 16:26:28.564400', 0)\n",
      "(23, 'Câmera', 66.0, '2022-09-23 18:08:07.525718', 0)\n",
      "(28, None, 120.0, '2022-09-03 16:26:28.564400', 0)\n"
     ]
    }
   ],
   "source": [
    "# EXISTS\n",
    "# Testa se algum valor é encontrado em certa seleção. Retornará \"True\" desde que haja ao menos um valor\n",
    "\n",
    "Query = 'select * from random_table WHERE EXISTS (select * from random_table where valor < 40)'\n",
    "\n",
    "Execute_and_Show(Query,arquivo)\n",
    "print('/n/n')\n",
    "\n",
    "# NOT EXISTS\n",
    "# Testa se algum valor é encontrado em certa seleção. Retornará \"True\" desde que  não haja qualquer registro retornado.\n",
    "\n",
    "Query = 'select * from random_table WHERE NOT EXISTS (select * from random_table where valor < 40)'\n",
    "\n",
    "Execute_and_Show(Query,arquivo)"
   ]
  },
  {
   "cell_type": "code",
   "execution_count": 57,
   "metadata": {},
   "outputs": [],
   "source": [
    "### BUG\n",
    "\n",
    "# ANY e ALL\n",
    "# procedem um operador lógico e comportam uma query de seleção\n",
    "\n",
    "Query = 'SELECT ID from random_table where ID = ANY (SELECT ProdutoID FROM child_table WHERE Desconto < 10)'\n",
    "\n",
    "#Execute_and_Show(Query,arquivo)\n",
    "\n",
    "\n",
    "Query = 'SELECT * from random_table where ID = ALL (SELECT ProdutoID FROM child_table WHERE Desconto < 10)'\n",
    "\n",
    "#Execute_and_Show(Query,arquivo)"
   ]
  },
  {
   "cell_type": "markdown",
   "metadata": {},
   "source": [
    "Case"
   ]
  },
  {
   "cell_type": "code",
   "execution_count": 58,
   "metadata": {},
   "outputs": [
    {
     "name": "stdout",
     "output_type": "stream",
     "text": [
      "('Produto', None, None, None, None, None, None)\n",
      "('Valor', None, None, None, None, None, None)\n",
      "('Avaliação', None, None, None, None, None, None)\n",
      "\n",
      "('Teclado', 75.0, 'Barato')\n",
      "('Cabos', 81.0, 'Caro')\n",
      "('Monitor', 66.0, 'Barato')\n",
      "('Monitor', 88.0, 'Caro')\n",
      "('Teclado', 99.0, 'Caro')\n",
      "('Monitor', 81.0, 'Caro')\n",
      "('Teclado', 67.0, 'Barato')\n",
      "('Mouse', 61.0, 'Barato')\n",
      "('CPU', 72.0, 'Barato')\n",
      "('Mouse', 77.0, 'Barato')\n",
      "('CPU', 77.0, 'Barato')\n",
      "('CPU', 81.0, 'Caro')\n",
      "('Mouse', 78.0, 'Barato')\n",
      "('Monitor', 67.0, 'Barato')\n",
      "('CPU', 63.0, 'Barato')\n",
      "('CPU', 94.0, 'Caro')\n",
      "('CPU', 91.0, 'Caro')\n",
      "('CPU', 120.0, 'Caro')\n",
      "('Câmera', 66.0, 'Barato')\n",
      "(None, 120.0, 'Caro')\n"
     ]
    }
   ],
   "source": [
    "# [???] Está mostrando apenas um rgistro quando comparado com a média.\n",
    "# Pode ser utilizado para substituir colunas, preenchendo uma seleção.\n",
    "# CASE END AS\n",
    "\n",
    "Query = '''\n",
    "SELECT Produto, Valor, CASE \n",
    "    WHEN Valor < 80 THEN \"Barato\" \n",
    "    WHEN Valor = 80 THEN \"Na Média\"\n",
    "    ELSE \"Caro\" \n",
    "END AS Avaliação\n",
    "FROM random_table\n",
    "'''\n",
    "\n",
    "Execute_and_Show(Query,arquivo)\n",
    "\n",
    "# Pode ser usado para cambiar entre qualquer variável em verificação lógica também."
   ]
  },
  {
   "cell_type": "code",
   "execution_count": 59,
   "metadata": {},
   "outputs": [
    {
     "name": "stdout",
     "output_type": "stream",
     "text": [
      "('Produto', None, None, None, None, None, None)\n",
      "('Valor Subtraído', None, None, None, None, None, None)\n",
      "\n",
      "('Teclado', 74.0)\n",
      "('Mouse', 79.0)\n",
      "('Monitor', 63.0)\n",
      "('Monitor', 84.0)\n",
      "('Teclado', 94.0)\n",
      "('Mouse', 47.0)\n",
      "('Monitor', 74.0)\n",
      "('Teclado', 59.0)\n",
      "('Mouse', 52.0)\n",
      "('CPU', 62.0)\n",
      "('Mouse', 66.0)\n",
      "('CPU', 65.0)\n",
      "('CPU', 68.0)\n",
      "('Mouse', 36.0)\n",
      "('Mouse', 63.0)\n",
      "('Teclado', 41.0)\n",
      "('Monitor', 50.0)\n",
      "('CPU', 45.0)\n",
      "('CPU', 39.0)\n",
      "('CPU', 74.0)\n",
      "(None, 54.0)\n",
      "(None, 59.0)\n",
      "(None, 76.0)\n",
      "(None, 29.0)\n",
      "(None, 42.0)\n",
      "(None, 35.0)\n",
      "(None, 45.0)\n",
      "(None, 49.0)\n",
      "(None, 48.0)\n",
      "(None, 51.0)\n",
      "(None, 19.0)\n",
      "(None, 46.0)\n",
      "(None, 24.0)\n",
      "(None, 29.0)\n",
      "(None, 23.0)\n",
      "(None, 58.0)\n",
      "('Produto', None, None, None, None, None, None)\n",
      "('Valor Subtraído', None, None, None, None, None, None)\n",
      "\n",
      "('Teclado', 74.0)\n",
      "('Mouse', 79.0)\n",
      "('Monitor', 63.0)\n",
      "('Monitor', 84.0)\n",
      "('Teclado', 94.0)\n",
      "('Mouse', 47.0)\n",
      "('Monitor', 74.0)\n",
      "('Teclado', 59.0)\n",
      "('Mouse', 52.0)\n",
      "('CPU', 62.0)\n",
      "('Mouse', 66.0)\n",
      "('CPU', 65.0)\n",
      "('CPU', 68.0)\n",
      "('Mouse', 36.0)\n",
      "('Mouse', 63.0)\n",
      "('Teclado', 41.0)\n",
      "('Monitor', 50.0)\n",
      "('CPU', 45.0)\n",
      "('CPU', 39.0)\n",
      "('CPU', 74.0)\n",
      "(None, 54.0)\n",
      "(None, 59.0)\n",
      "(None, 76.0)\n",
      "(None, 29.0)\n",
      "(None, 42.0)\n",
      "(None, 35.0)\n",
      "(None, 45.0)\n",
      "(None, 49.0)\n",
      "(None, 48.0)\n",
      "(None, 51.0)\n",
      "(None, 19.0)\n",
      "(None, 46.0)\n",
      "(None, 24.0)\n",
      "(None, 29.0)\n",
      "(None, 23.0)\n",
      "(None, 58.0)\n"
     ]
    }
   ],
   "source": [
    "# IFNULL\n",
    "# Operar com um valor nulo retornará um valor nulo.\n",
    "# Utilizando a função IFNULL, o segundo valor dado é usado caso o primeiro seja NULL.\n",
    "# Utilizando COALESCE, o primeiro valor listado não-nulo é utilizado.\n",
    "\n",
    "Query = 'SELECT Produto, Valor-ID AS \"Valor Subtraído\" FROM copy_table'\n",
    "Execute_and_Show(Query,arquivo)\n",
    "\n",
    "\n",
    "Query = 'SELECT Produto, Valor-IFNULL(ID, 0) AS \"Valor Subtraído\" FROM copy_table'\n",
    "Execute_and_Show(Query,arquivo)\n"
   ]
  },
  {
   "cell_type": "markdown",
   "metadata": {},
   "source": [
    "### Valores Únicos / Agregadores"
   ]
  },
  {
   "cell_type": "code",
   "execution_count": 60,
   "metadata": {},
   "outputs": [
    {
     "name": "stdout",
     "output_type": "stream",
     "text": [
      "('COUNT (DISTINCT Produto)', None, None, None, None, None, None)\n",
      "\n",
      "(6,)\n",
      "\n",
      "('COUNT (*)', None, None, None, None, None, None)\n",
      "\n",
      "(10,)\n"
     ]
    }
   ],
   "source": [
    "# Contagem\n",
    "# Mais utilizado com DISTINCT\n",
    "\n",
    "Query = \"SELECT COUNT (DISTINCT Produto) FROM random_table\"\n",
    "\n",
    "Execute_and_Show(Query,arquivo)\n",
    "\n",
    "\n",
    "print()     ###     ###     ###     ###     ###     ###     ###     ###     ###     ###     ###     ###     ###\n",
    "\n",
    "\n",
    "# Para contar uma distinção com duas colunas, é preciso contar tudo de uma seleção com o filtro de distinção\n",
    "\n",
    "Query = 'SELECT COUNT (*) FROM (SELECT DISTINCT Produto, Vendido FROM random_table)'\n",
    "\n",
    "Execute_and_Show(Query,arquivo)"
   ]
  },
  {
   "cell_type": "code",
   "execution_count": 61,
   "metadata": {},
   "outputs": [
    {
     "name": "stdout",
     "output_type": "stream",
     "text": [
      "('MIN (Valor)', None, None, None, None, None, None)\n",
      "\n",
      "(61.0,)\n"
     ]
    }
   ],
   "source": [
    "# Mínimo e Máximo\n",
    "# MIN | MAX\n",
    "\n",
    "Query = \"SELECT MIN (Valor) FROM random_table\"\n",
    "\n",
    "Execute_and_Show(Query,arquivo)"
   ]
  },
  {
   "cell_type": "code",
   "execution_count": 62,
   "metadata": {},
   "outputs": [
    {
     "name": "stdout",
     "output_type": "stream",
     "text": [
      "('AVG (Valor)', None, None, None, None, None, None)\n",
      "\n",
      "(81.2,)\n"
     ]
    }
   ],
   "source": [
    "# Média\n",
    "# AVG\n",
    "\n",
    "Query = \"SELECT AVG (Valor) FROM random_table\"\n",
    "\n",
    "Execute_and_Show(Query,arquivo)"
   ]
  },
  {
   "cell_type": "code",
   "execution_count": 63,
   "metadata": {},
   "outputs": [
    {
     "name": "stdout",
     "output_type": "stream",
     "text": [
      "('SUM (Valor)', None, None, None, None, None, None)\n",
      "\n",
      "(1624.0,)\n"
     ]
    }
   ],
   "source": [
    "# Soma\n",
    "# SUM\n",
    "\n",
    "Query = \"SELECT SUM (Valor) FROM random_table\"\n",
    "\n",
    "Execute_and_Show(Query,arquivo)"
   ]
  },
  {
   "cell_type": "markdown",
   "metadata": {},
   "source": [
    "## Sobre o SQLite3"
   ]
  },
  {
   "cell_type": "markdown",
   "metadata": {},
   "source": [
    "Conexão com a memória."
   ]
  },
  {
   "cell_type": "code",
   "execution_count": 64,
   "metadata": {},
   "outputs": [],
   "source": [
    "con_mem = sqlite3.connect(':memory:')\n",
    "\n",
    "###\n",
    "\n",
    "con_mem.close()"
   ]
  },
  {
   "cell_type": "markdown",
   "metadata": {},
   "source": [
    "Contagem de linhas afetadas"
   ]
  },
  {
   "cell_type": "code",
   "execution_count": 65,
   "metadata": {},
   "outputs": [
    {
     "name": "stdout",
     "output_type": "stream",
     "text": [
      "2\n",
      "\n",
      "Colunas ['ID', 'Produto', 'Valor', 'Data', 'Vendido']\n",
      "['ID: 1', 'Produto: Teclado', 'Valor: 75.0', 'Data: 2022-09-23 18:07:29.124935', 'Vendido: 1']\n",
      "['ID: 3', 'Produto: Monitor', 'Valor: 66.0', 'Data: 2022-09-23 18:07:29.156915', 'Vendido: 1']\n",
      "['ID: 4', 'Produto: Monitor', 'Valor: 88.0', 'Data: 2022-09-23 18:07:29.222874', 'Vendido: 0']\n",
      "['ID: 5', 'Produto: Teclado', 'Valor: 99.0', 'Data: 2022-09-23 18:07:29.241863', 'Vendido: 0']\n",
      "['ID: 7', 'Produto: Monitor', 'Valor: 81.0', 'Data: 2022-09-23 18:07:29.268853', 'Vendido: 0']\n",
      "['ID: 8', 'Produto: Teclado', 'Valor: 67.0', 'Data: 2022-09-23 18:07:29.276843', 'Vendido: 0']\n",
      "['ID: 9', 'Produto: Mouse', 'Valor: 61.0', 'Data: 2022-09-23 18:07:29.286835', 'Vendido: 0']\n",
      "['ID: 10', 'Produto: CPU', 'Valor: 72.0', 'Data: 2022-09-23 18:07:29.294830', 'Vendido: 1']\n",
      "['ID: 11', 'Produto: Mouse', 'Valor: 77.0', 'Data: 2022-09-23 18:07:29.304824', 'Vendido: 0']\n",
      "['ID: 12', 'Produto: CPU', 'Valor: 77.0', 'Data: 2022-09-23 18:07:29.315817', 'Vendido: 0']\n",
      "['ID: 13', 'Produto: CPU', 'Valor: 81.0', 'Data: 2022-09-23 18:07:29.322812', 'Vendido: 1']\n",
      "['ID: 15', 'Produto: Mouse', 'Valor: 78.0', 'Data: 2022-09-23 18:07:29.345798', 'Vendido: 0']\n",
      "['ID: 17', 'Produto: Monitor', 'Valor: 67.0', 'Data: 2022-09-23 18:07:29.364788', 'Vendido: 0']\n",
      "['ID: 18', 'Produto: CPU', 'Valor: 63.0', 'Data: 2022-09-23 18:07:29.372782', 'Vendido: 1']\n",
      "['ID: 20', 'Produto: CPU', 'Valor: 94.0', 'Data: 2022-09-23 18:07:29.404762', 'Vendido: 0']\n",
      "['ID: 21', 'Produto: CPU', 'Valor: 91.0', 'Data: 2022-09-03 16:26:28.564400', 'Vendido: 1']\n",
      "['ID: 22', 'Produto: CPU', 'Valor: 120.0', 'Data: 2022-09-03 16:26:28.564400', 'Vendido: 0']\n",
      "['ID: 28', 'Produto: None', 'Valor: 120.0', 'Data: 2022-09-03 16:26:28.564400', 'Vendido: 0']\n"
     ]
    }
   ],
   "source": [
    "Query = 'DELETE FROM random_table WHERE Produto = \"Câmera\" OR Produto = \"Cabos\"'\n",
    "\n",
    "Conn = sqlite3.connect(arquivo)\n",
    "Cursor = Conn.cursor()\n",
    "\n",
    "# Isso não só deleta como conta quantas alterações foram feitas.\n",
    "print(Cursor.execute(Query).rowcount)\n",
    "\n",
    "Conn.commit()\n",
    "Cursor.close()\n",
    "Conn.close()\n",
    "\n",
    "print()\n",
    "\n",
    "showall(arquivo,tabela)"
   ]
  },
  {
   "cell_type": "markdown",
   "metadata": {},
   "source": [
    "Características do comando .fetchall()"
   ]
  },
  {
   "cell_type": "code",
   "execution_count": 66,
   "metadata": {},
   "outputs": [
    {
     "name": "stdout",
     "output_type": "stream",
     "text": [
      "Empty Fetched Data: []\n",
      "Stored Fetched Data: [(1, 'Teclado', 75.0, '2022-09-23 18:07:29.124935', 1), (3, 'Monitor', 66.0, '2022-09-23 18:07:29.156915', 1), (4, 'Monitor', 88.0, '2022-09-23 18:07:29.222874', 0)]\n"
     ]
    }
   ],
   "source": [
    "# O comando .fetchall é descartável. Depois de executado, torna-se uma lista vazia.\n",
    "\n",
    "Query = \"SELECT * FROM random_table LIMIT 3\"\n",
    "\n",
    "curs = sqlite3.connect(arquivo).cursor()\n",
    "curs.execute(Query)\n",
    "\n",
    "Stored_Data = curs.fetchall()                         # Aqui o Fetchall é utilizado, armazenando a lista numa variável.\n",
    "\n",
    "print('Empty Fetched Data:',curs.fetchall())          # Aqui ele é impresso como uma lista vazi\n",
    "\n",
    "\n",
    "print('Stored Fetched Data:',Stored_Data)\n",
    "\n",
    "\n",
    "curs.close()"
   ]
  },
  {
   "cell_type": "markdown",
   "metadata": {},
   "source": [
    "Não há suporte para \"CREATE PROCEDURE GO | EXEC\".  \n",
    "Um backup pode ser feito como segue:"
   ]
  },
  {
   "cell_type": "code",
   "execution_count": 67,
   "metadata": {},
   "outputs": [],
   "source": [
    "# Backup criando dump no formato .sql\n",
    "# A Query para criar backup não tem suporte no SQLite3\n",
    "# Utiliza-se o pacote os\n",
    "\n",
    "con = sqlite3.connect(arquivo)\n",
    "with open(r'../ArquivosParalelos/dump.sql', 'w') as f:\n",
    "    for line in con.iterdump():     # interdump chama os dados de dump da conexão.\n",
    "        f.write('%s\\n' % line)\n",
    "con.close()"
   ]
  },
  {
   "cell_type": "markdown",
   "metadata": {},
   "source": [
    "Não é possível executar várias queries com um mesmo execute(). É preciso iterar entre as queries"
   ]
  },
  {
   "cell_type": "markdown",
   "metadata": {},
   "source": [
    "### Erros e Exceções"
   ]
  },
  {
   "cell_type": "markdown",
   "metadata": {},
   "source": [
    "* *DatabaseError*\n",
    "   * Qualquer erro relacionado ao banco de dados."
   ]
  },
  {
   "cell_type": "markdown",
   "metadata": {},
   "source": [
    "* *IntegrityError*\n",
    "  * É uma subclasse de _DatabaseError_ e surge quando há problema de integridade de dados. Por exemplo, dados extrangeiros não estão atualizados em todas as tabelas resultando na inconsistência dos dados."
   ]
  },
  {
   "cell_type": "markdown",
   "metadata": {},
   "source": [
    "* *ProgrammingError*\n",
    "  * Surge quando há erro de sintaxe, ou a tabela não é encontrada, ou a função é evocada com o número errado de parâmetros/argumentos."
   ]
  },
  {
   "cell_type": "markdown",
   "metadata": {},
   "source": [
    "* *OperationalError*\n",
    "   * Esta exceção surge quando as operações do banco de dados falham; por exemplo, desconexão não usual. Não é culpa do programador."
   ]
  },
  {
   "cell_type": "markdown",
   "metadata": {},
   "source": [
    "* *NotSupportedError*\n",
    "   * Quando você usa algum método que não está definido ou não é suportado pelo banco de dados."
   ]
  },
  {
   "cell_type": "markdown",
   "metadata": {},
   "source": [
    "## Estudo"
   ]
  },
  {
   "cell_type": "markdown",
   "metadata": {},
   "source": [
    "Joins múltiplos"
   ]
  },
  {
   "cell_type": "code",
   "execution_count": 68,
   "metadata": {},
   "outputs": [
    {
     "name": "stdout",
     "output_type": "stream",
     "text": [
      "[[1, 'A', 'D', 'C', 'D'], [2, 'A', 'D', 'B', 'A'], [3, 'D', 'B', 'A', 'B'], [4, 'A', 'B', 'B', 'B'], [5, 'A', 'D', 'C', 'A'], [6, 'D', 'C', 'A', 'B'], [7, 'A', 'D', 'B', 'D'], [8, 'C', 'D', 'C', 'C'], [9, 'D', 'C', 'B', 'A'], [10, 'C', 'B', 'D', 'D']]\n"
     ]
    }
   ],
   "source": [
    "# Considere as seguintes tabelas:\n",
    "\n",
    "Q1 = \"CREATE TABLE ref (Key varchar(1) PRIMARY KEY, Refer varchar (20))\"\n",
    "Q2 = \"CREATE TABLE grade (Id integer PRIMARY KEY, Fileira1 varchar (1), Fileira2 varchar (1), Fileira3 varchar (1), Fileira4 varchar (1))\"\n",
    "\n",
    "Q3 = \"INSERT INTO ref VALUES (?,?)\"\n",
    "Q3list = [('A','Amarelo'),('B','Azul'),('C','Vermelho'),('D','Marrom')]\n",
    "\n",
    "Q4 = \"INSERT INTO grade VALUES (?,?,?,?,?)\"\n",
    "\n",
    "Q4list = []\n",
    "for i in range(10): # número de registros / qualquer número inteiro positivo é válido\n",
    "    inside_list = [i+1]\n",
    "    for i in range(4): #número de fileiras\n",
    "        inside_list.append(random.choice(['A', 'B', 'C','D']))\n",
    "    Q4list.append(inside_list)\n",
    "\n",
    "print(Q4list)\n",
    "\n",
    "conn = sqlite3.connect(arquivo)\n",
    "curs = conn.cursor()\n",
    "\n",
    "curs.execute(Q1)\n",
    "curs.execute(Q2)\n",
    "\n",
    "for q in Q3list:\n",
    "    curs.execute(Q3,q)\n",
    "\n",
    "for q in Q4list:\n",
    "    curs.execute(Q4,q)\n",
    "\n",
    "conn.commit()\n",
    "\n",
    "curs.close()\n",
    "conn.close()"
   ]
  },
  {
   "cell_type": "code",
   "execution_count": 69,
   "metadata": {},
   "outputs": [
    {
     "name": "stdout",
     "output_type": "stream",
     "text": [
      "(1, 'A', 'D', 'C', 'D')\n",
      "(2, 'A', 'D', 'B', 'A')\n",
      "(3, 'D', 'B', 'A', 'B')\n",
      "(4, 'A', 'B', 'B', 'B')\n",
      "(5, 'A', 'D', 'C', 'A')\n",
      "(6, 'D', 'C', 'A', 'B')\n",
      "(7, 'A', 'D', 'B', 'D')\n",
      "(8, 'C', 'D', 'C', 'C')\n",
      "(9, 'D', 'C', 'B', 'A')\n",
      "(10, 'C', 'B', 'D', 'D')\n",
      "\n",
      "('A', 'Amarelo')\n",
      "('B', 'Azul')\n",
      "('C', 'Vermelho')\n",
      "('D', 'Marrom')\n"
     ]
    }
   ],
   "source": [
    "\n",
    "\n",
    "conn = sqlite3.connect(arquivo)\n",
    "curs = conn.cursor()\n",
    "\n",
    "curs.execute('SELECT * FROM grade')\n",
    "Grade = curs.fetchall()\n",
    "\n",
    "curs.execute('SELECT * FROM ref')\n",
    "Ref = curs.fetchall()\n",
    "\n",
    "curs.close()\n",
    "conn.close()\n",
    "\n",
    "for i in Grade:\n",
    "    print(i)\n",
    "\n",
    "print()\n",
    "\n",
    "for i in Ref:\n",
    "    print(i)"
   ]
  },
  {
   "cell_type": "code",
   "execution_count": 70,
   "metadata": {},
   "outputs": [
    {
     "ename": "OperationalError",
     "evalue": "near \".\": syntax error",
     "output_type": "error",
     "traceback": [
      "\u001b[1;31m---------------------------------------------------------------------------\u001b[0m",
      "\u001b[1;31mOperationalError\u001b[0m                          Traceback (most recent call last)",
      "\u001b[1;32mc:\\Users\\fnsb.DESKTOP-7T10APS\\Documents\\MeusProjetos\\Python\\NotasPessoais-Python\\Notas\\Pacotes\\sql-guide.ipynb Célula: 108\u001b[0m in \u001b[0;36m<cell line: 5>\u001b[1;34m()\u001b[0m\n\u001b[0;32m      <a href='vscode-notebook-cell:/c%3A/Users/fnsb.DESKTOP-7T10APS/Documents/MeusProjetos/Python/NotasPessoais-Python/Notas/Pacotes/sql-guide.ipynb#Y221sZmlsZQ%3D%3D?line=0'>1</a>\u001b[0m \u001b[39m# Usando JOIN ON para substituir as letras na tabela Grade de acordo com as referências na tabela Ref\u001b[39;00m\n\u001b[0;32m      <a href='vscode-notebook-cell:/c%3A/Users/fnsb.DESKTOP-7T10APS/Documents/MeusProjetos/Python/NotasPessoais-Python/Notas/Pacotes/sql-guide.ipynb#Y221sZmlsZQ%3D%3D?line=2'>3</a>\u001b[0m Query \u001b[39m=\u001b[39m \u001b[39m\"\u001b[39m\u001b[39mSELECT grade.Id, grade.Fileira1, ref.Refer FROM grade LEFT JOIN ref ON grade.Fileira1 = ref.Key\u001b[39m\u001b[39m\"\u001b[39m\n\u001b[1;32m----> <a href='vscode-notebook-cell:/c%3A/Users/fnsb.DESKTOP-7T10APS/Documents/MeusProjetos/Python/NotasPessoais-Python/Notas/Pacotes/sql-guide.ipynb#Y221sZmlsZQ%3D%3D?line=4'>5</a>\u001b[0m Execute_and_Show(arquivo,Query)\n",
      "\u001b[1;32mc:\\Users\\fnsb.DESKTOP-7T10APS\\Documents\\MeusProjetos\\Python\\NotasPessoais-Python\\Notas\\Pacotes\\sql-guide.ipynb Célula: 108\u001b[0m in \u001b[0;36mExecute_and_Show\u001b[1;34m(Query, arquivo)\u001b[0m\n\u001b[0;32m      <a href='vscode-notebook-cell:/c%3A/Users/fnsb.DESKTOP-7T10APS/Documents/MeusProjetos/Python/NotasPessoais-Python/Notas/Pacotes/sql-guide.ipynb#Y221sZmlsZQ%3D%3D?line=2'>3</a>\u001b[0m \u001b[39mdef\u001b[39;00m \u001b[39mExecute_and_Show\u001b[39m(Query,arquivo):\n\u001b[0;32m      <a href='vscode-notebook-cell:/c%3A/Users/fnsb.DESKTOP-7T10APS/Documents/MeusProjetos/Python/NotasPessoais-Python/Notas/Pacotes/sql-guide.ipynb#Y221sZmlsZQ%3D%3D?line=3'>4</a>\u001b[0m     Cursor \u001b[39m=\u001b[39m sqlite3\u001b[39m.\u001b[39mconnect(arquivo)\u001b[39m.\u001b[39mcursor()\n\u001b[1;32m----> <a href='vscode-notebook-cell:/c%3A/Users/fnsb.DESKTOP-7T10APS/Documents/MeusProjetos/Python/NotasPessoais-Python/Notas/Pacotes/sql-guide.ipynb#Y221sZmlsZQ%3D%3D?line=4'>5</a>\u001b[0m     Cursor\u001b[39m.\u001b[39;49mexecute(Query)\n\u001b[0;32m      <a href='vscode-notebook-cell:/c%3A/Users/fnsb.DESKTOP-7T10APS/Documents/MeusProjetos/Python/NotasPessoais-Python/Notas/Pacotes/sql-guide.ipynb#Y221sZmlsZQ%3D%3D?line=5'>6</a>\u001b[0m     \u001b[39mfor\u001b[39;00m i \u001b[39min\u001b[39;00m Cursor\u001b[39m.\u001b[39mexecute(Query)\u001b[39m.\u001b[39mdescription:\n\u001b[0;32m      <a href='vscode-notebook-cell:/c%3A/Users/fnsb.DESKTOP-7T10APS/Documents/MeusProjetos/Python/NotasPessoais-Python/Notas/Pacotes/sql-guide.ipynb#Y221sZmlsZQ%3D%3D?line=6'>7</a>\u001b[0m         \u001b[39mprint\u001b[39m(i)\n",
      "\u001b[1;31mOperationalError\u001b[0m: near \".\": syntax error"
     ]
    }
   ],
   "source": [
    "# Usando JOIN ON para substituir as letras na tabela Grade de acordo com as referências na tabela Ref\n",
    "\n",
    "Query = \"SELECT grade.Id, grade.Fileira1, ref.Refer FROM grade LEFT JOIN ref ON grade.Fileira1 = ref.Key\"\n",
    "\n",
    "Execute_and_Show(arquivo,Query)"
   ]
  }
 ],
 "metadata": {
  "kernelspec": {
   "display_name": "Python 3.10.6 64-bit (microsoft store)",
   "language": "python",
   "name": "python3"
  },
  "language_info": {
   "codemirror_mode": {
    "name": "ipython",
    "version": 3
   },
   "file_extension": ".py",
   "mimetype": "text/x-python",
   "name": "python",
   "nbconvert_exporter": "python",
   "pygments_lexer": "ipython3",
   "version": "3.10.7"
  },
  "orig_nbformat": 4,
  "vscode": {
   "interpreter": {
    "hash": "91b18657112df8a6dc2946b9dfe3559ddfc8e1e2117c2c8071424b5e043bd8e1"
   }
  }
 },
 "nbformat": 4,
 "nbformat_minor": 2
}

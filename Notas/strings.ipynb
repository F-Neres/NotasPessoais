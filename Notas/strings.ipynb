{
 "cells": [
  {
   "cell_type": "code",
   "execution_count": 2,
   "metadata": {},
   "outputs": [
    {
     "name": "stdout",
     "output_type": "stream",
     "text": [
      "I\n",
      "<class 'str'>\n",
      "s\n",
      "<class 'str'>\n",
      "t\n",
      "<class 'str'>\n",
      "o\n",
      "<class 'str'>\n",
      " \n",
      "<class 'str'>\n",
      "é\n",
      "<class 'str'>\n",
      " \n",
      "<class 'str'>\n",
      "u\n",
      "<class 'str'>\n",
      "m\n",
      "<class 'str'>\n",
      " \n",
      "<class 'str'>\n",
      "e\n",
      "<class 'str'>\n",
      "x\n",
      "<class 'str'>\n",
      "e\n",
      "<class 'str'>\n",
      "m\n",
      "<class 'str'>\n",
      "p\n",
      "<class 'str'>\n",
      "l\n",
      "<class 'str'>\n",
      "o\n",
      "<class 'str'>\n"
     ]
    }
   ],
   "source": [
    "#Strings são objetos iteráveis\n",
    "#Cada letra é um item, uma string.\n",
    "\n",
    "texto1 = \"Isto é um exemplo\"\n",
    "\n",
    "for i in texto1:\n",
    "    print(i)\n",
    "    print(type(i))"
   ]
  },
  {
   "cell_type": "code",
   "execution_count": null,
   "metadata": {},
   "outputs": [],
   "source": []
  }
 ],
 "metadata": {
  "kernelspec": {
   "display_name": "Python 3.10.6 64-bit (windows store)",
   "language": "python",
   "name": "python3"
  },
  "language_info": {
   "codemirror_mode": {
    "name": "ipython",
    "version": 3
   },
   "file_extension": ".py",
   "mimetype": "text/x-python",
   "name": "python",
   "nbconvert_exporter": "python",
   "pygments_lexer": "ipython3",
   "version": "3.10.6"
  },
  "orig_nbformat": 4,
  "vscode": {
   "interpreter": {
    "hash": "91b18657112df8a6dc2946b9dfe3559ddfc8e1e2117c2c8071424b5e043bd8e1"
   }
  }
 },
 "nbformat": 4,
 "nbformat_minor": 2
}

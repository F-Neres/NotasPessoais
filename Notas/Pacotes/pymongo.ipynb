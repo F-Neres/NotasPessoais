{
 "cells": [
  {
   "cell_type": "markdown",
   "metadata": {},
   "source": [
    "# Pymongo"
   ]
  },
  {
   "cell_type": "markdown",
   "metadata": {},
   "source": [
    "Este é um pacote que possibilita utilizar o SGBD MongoDB integrado ao Python.  \n",
    "MongoDB é um sistema de gerenciamente do bancos de dados não relacionais baseados em documentos."
   ]
  },
  {
   "cell_type": "code",
   "execution_count": 1,
   "metadata": {},
   "outputs": [
    {
     "name": "stdout",
     "output_type": "stream",
     "text": [
      "Requirement already satisfied: pymongo in c:\\users\\fnsb.desktop-7t10aps\\appdata\\local\\packages\\pythonsoftwarefoundation.python.3.10_qbz5n2kfra8p0\\localcache\\local-packages\\python310\\site-packages (4.2.0)\n"
     ]
    }
   ],
   "source": [
    "! pip install pymongo"
   ]
  },
  {
   "cell_type": "code",
   "execution_count": 2,
   "metadata": {},
   "outputs": [],
   "source": [
    "from pymongo import MongoClient"
   ]
  },
  {
   "cell_type": "code",
   "execution_count": 3,
   "metadata": {},
   "outputs": [
    {
     "name": "stdout",
     "output_type": "stream",
     "text": [
      "<class 'pymongo.mongo_client.MongoClient'>\n"
     ]
    }
   ],
   "source": [
    "# Criando um cliente, Estabelecimento de uma conexão com o MondoDB\n",
    "\n",
    "Client_A = MongoClient(\"mongodb://localhost:27017/\")\n",
    "\n",
    "# O \"localhost\" é padrão.\n",
    "\n",
    "Client = MongoClient(\"localhost\",27017)\n",
    "# Outra forma de criar conexão.\n",
    "# O primeiro parâmetro diz onde estão os bancos de dados a serem acessados. Neste caso, localhost é esta própria máquina.\n",
    "# O segundo parâmetro indica a porta de acesso.\n",
    "\n",
    "print(type(Client))"
   ]
  },
  {
   "cell_type": "markdown",
   "metadata": {},
   "source": [
    "No MongoDB, um banco de dados só é criado quando há dados nele.  \n",
    "Mesmo que um banco de dados seja criado, ele só constará como existe se houver registros."
   ]
  },
  {
   "cell_type": "code",
   "execution_count": 4,
   "metadata": {},
   "outputs": [
    {
     "name": "stdout",
     "output_type": "stream",
     "text": [
      "<class 'pymongo.database.Database'>\n",
      "<class 'pymongo.database.Database'>\n"
     ]
    }
   ],
   "source": [
    "# Criação de banco de dados:\n",
    "\n",
    "ExampleDB_A = Client_A[\"ExampleDBName_A\"]\n",
    "print(type(ExampleDB_A))\n",
    "\n",
    "ExampleDB = Client.ExampleDBName\n",
    "print(type(ExampleDB))"
   ]
  },
  {
   "cell_type": "code",
   "execution_count": 5,
   "metadata": {},
   "outputs": [
    {
     "name": "stdout",
     "output_type": "stream",
     "text": [
      "['ExampleDBName', 'ExampleDBName_A', 'admin', 'config', 'local']\n",
      "\n",
      " <class 'list'>\n"
     ]
    }
   ],
   "source": [
    "# Lista de bancos de dados:\n",
    "\n",
    "print(Client.list_database_names())\n",
    "\n",
    "print('\\n',type(Client.list_database_names()))"
   ]
  },
  {
   "cell_type": "code",
   "execution_count": 7,
   "metadata": {},
   "outputs": [
    {
     "name": "stdout",
     "output_type": "stream",
     "text": [
      "<class 'pymongo.collection.Collection'>\n",
      "<class 'pymongo.collection.Collection'>\n"
     ]
    }
   ],
   "source": [
    "# Criação de uma coleção (correlativo a uma tabela)\n",
    "\n",
    "ExampleCol_A = ExampleDB_A[\"ExampleCol_A\"]\n",
    "print(type(ExampleCol_A))\n",
    "\n",
    "ExampleCol = ExampleDB.ExampleCol\n",
    "print(type(ExampleCol))\n"
   ]
  },
  {
   "cell_type": "code",
   "execution_count": 9,
   "metadata": {},
   "outputs": [
    {
     "name": "stdout",
     "output_type": "stream",
     "text": [
      "Object `(ExampleCol)` not found.\n"
     ]
    }
   ],
   "source": [
    "?(ExampleCol)"
   ]
  },
  {
   "cell_type": "code",
   "execution_count": 10,
   "metadata": {},
   "outputs": [
    {
     "ename": "TypeError",
     "evalue": "'Collection' object is not callable. If you meant to call the 'list_collection_names' method on a 'Collection' object it is failing because no such method exists.",
     "output_type": "error",
     "traceback": [
      "\u001b[1;31m---------------------------------------------------------------------------\u001b[0m",
      "\u001b[1;31mTypeError\u001b[0m                                 Traceback (most recent call last)",
      "\u001b[1;32mc:\\Users\\fnsb.DESKTOP-7T10APS\\Documents\\MeusProjetos\\Python\\NotasPessoais-Python\\Notas\\Pacotes\\pymongo.ipynb Célula: 11\u001b[0m in \u001b[0;36m<cell line: 3>\u001b[1;34m()\u001b[0m\n\u001b[0;32m      <a href='vscode-notebook-cell:/c%3A/Users/fnsb.DESKTOP-7T10APS/Documents/MeusProjetos/Python/NotasPessoais-Python/Notas/Pacotes/pymongo.ipynb#X13sZmlsZQ%3D%3D?line=0'>1</a>\u001b[0m \u001b[39m# Lista de coleções no DB.\u001b[39;00m\n\u001b[1;32m----> <a href='vscode-notebook-cell:/c%3A/Users/fnsb.DESKTOP-7T10APS/Documents/MeusProjetos/Python/NotasPessoais-Python/Notas/Pacotes/pymongo.ipynb#X13sZmlsZQ%3D%3D?line=2'>3</a>\u001b[0m \u001b[39mprint\u001b[39m(ExampleCol_A\u001b[39m.\u001b[39;49mlist_collection_names())\n\u001b[0;32m      <a href='vscode-notebook-cell:/c%3A/Users/fnsb.DESKTOP-7T10APS/Documents/MeusProjetos/Python/NotasPessoais-Python/Notas/Pacotes/pymongo.ipynb#X13sZmlsZQ%3D%3D?line=5'>6</a>\u001b[0m \u001b[39mprint\u001b[39m(\u001b[39m'\u001b[39m\u001b[39m\\n\u001b[39;00m\u001b[39m'\u001b[39m,\u001b[39mtype\u001b[39m(ExampleCol_A\u001b[39m.\u001b[39mlist_collection_names()))\n",
      "File \u001b[1;32m~\\AppData\\Local\\Packages\\PythonSoftwareFoundation.Python.3.10_qbz5n2kfra8p0\\LocalCache\\local-packages\\Python310\\site-packages\\pymongo\\collection.py:3200\u001b[0m, in \u001b[0;36mCollection.__call__\u001b[1;34m(self, *args, **kwargs)\u001b[0m\n\u001b[0;32m   3193\u001b[0m \u001b[39mif\u001b[39;00m \u001b[39m\"\u001b[39m\u001b[39m.\u001b[39m\u001b[39m\"\u001b[39m \u001b[39mnot\u001b[39;00m \u001b[39min\u001b[39;00m \u001b[39mself\u001b[39m\u001b[39m.\u001b[39m__name:\n\u001b[0;32m   3194\u001b[0m     \u001b[39mraise\u001b[39;00m \u001b[39mTypeError\u001b[39;00m(\n\u001b[0;32m   3195\u001b[0m         \u001b[39m\"\u001b[39m\u001b[39m'\u001b[39m\u001b[39mCollection\u001b[39m\u001b[39m'\u001b[39m\u001b[39m object is not callable. If you \u001b[39m\u001b[39m\"\u001b[39m\n\u001b[0;32m   3196\u001b[0m         \u001b[39m\"\u001b[39m\u001b[39mmeant to call the \u001b[39m\u001b[39m'\u001b[39m\u001b[39m%s\u001b[39;00m\u001b[39m'\u001b[39m\u001b[39m method on a \u001b[39m\u001b[39m'\u001b[39m\u001b[39mDatabase\u001b[39m\u001b[39m'\u001b[39m\u001b[39m \u001b[39m\u001b[39m\"\u001b[39m\n\u001b[0;32m   3197\u001b[0m         \u001b[39m\"\u001b[39m\u001b[39mobject it is failing because no such method \u001b[39m\u001b[39m\"\u001b[39m\n\u001b[0;32m   3198\u001b[0m         \u001b[39m\"\u001b[39m\u001b[39mexists.\u001b[39m\u001b[39m\"\u001b[39m \u001b[39m%\u001b[39m \u001b[39mself\u001b[39m\u001b[39m.\u001b[39m__name\n\u001b[0;32m   3199\u001b[0m     )\n\u001b[1;32m-> 3200\u001b[0m \u001b[39mraise\u001b[39;00m \u001b[39mTypeError\u001b[39;00m(\n\u001b[0;32m   3201\u001b[0m     \u001b[39m\"\u001b[39m\u001b[39m'\u001b[39m\u001b[39mCollection\u001b[39m\u001b[39m'\u001b[39m\u001b[39m object is not callable. If you meant to \u001b[39m\u001b[39m\"\u001b[39m\n\u001b[0;32m   3202\u001b[0m     \u001b[39m\"\u001b[39m\u001b[39mcall the \u001b[39m\u001b[39m'\u001b[39m\u001b[39m%s\u001b[39;00m\u001b[39m'\u001b[39m\u001b[39m method on a \u001b[39m\u001b[39m'\u001b[39m\u001b[39mCollection\u001b[39m\u001b[39m'\u001b[39m\u001b[39m object it is \u001b[39m\u001b[39m\"\u001b[39m\n\u001b[0;32m   3203\u001b[0m     \u001b[39m\"\u001b[39m\u001b[39mfailing because no such method exists.\u001b[39m\u001b[39m\"\u001b[39m \u001b[39m%\u001b[39m \u001b[39mself\u001b[39m\u001b[39m.\u001b[39m__name\u001b[39m.\u001b[39msplit(\u001b[39m\"\u001b[39m\u001b[39m.\u001b[39m\u001b[39m\"\u001b[39m)[\u001b[39m-\u001b[39m\u001b[39m1\u001b[39m]\n\u001b[0;32m   3204\u001b[0m )\n",
      "\u001b[1;31mTypeError\u001b[0m: 'Collection' object is not callable. If you meant to call the 'list_collection_names' method on a 'Collection' object it is failing because no such method exists."
     ]
    }
   ],
   "source": [
    "# Lista de coleções no DB.\n",
    "\n",
    "print(ExampleCol_A.list_collection_names())\n",
    "\n",
    "\n",
    "print('\\n',type(ExampleCol_A.list_collection_names()))"
   ]
  },
  {
   "cell_type": "code",
   "execution_count": 12,
   "metadata": {},
   "outputs": [
    {
     "name": "stdout",
     "output_type": "stream",
     "text": [
      "{'id_jogo': 683, 'nm_jogo': 'De Vulgari Eloquentia', 'thumb': 'https:\\\\/\\\\/storage.googleapis.com\\\\/ludopedia-capas\\\\/683_t.jpg', 'tp_jogo': 'b', 'link': 'https:\\\\/\\\\/ludopedia.com.br\\\\/jogo\\\\/de-vulgari-eloquentia', 'ano_publicacao': 2010, 'ano_nacional': False, 'qt_jogadores_min': 2, 'qt_jogadores_max': 5, 'mecanicas': [{'id_mecanica': '31', 'nm_mecanica': 'Movimento de Área'}, {'id_mecanica': '22', 'nm_mecanica': 'Sistema de Pontos de Ação'}], 'categorias': [], 'temas': [{'id_tema': '21', 'nm_tema': 'Medieval'}], 'artistas': [{'id_profissional': '888', 'nm_profissional': 'Lamberto Azzariti'}, {'id_profissional': '443', 'nm_profissional': 'Guido Favaro'}, {'id_profissional': '1268', 'nm_profissional': 'Eva Villa'}], 'designers': [{'id_profissional': '1245', 'nm_profissional': 'Mario Papini'}], 'vl_tempo_jogo': 120, 'idade_minima': 14, 'qt_tem': 68, 'qt_teve': 34, 'qt_favorito': 5, 'qt_quer': 100, 'qt_jogou': 103}\n"
     ]
    }
   ],
   "source": [
    "# Criando um dicionário como exemplo\n",
    "De_Vulgari_Eloquentia = {\n",
    "    \"id_jogo\":683,\"nm_jogo\":\"De Vulgari Eloquentia\",\n",
    "    \"thumb\":\"https:\\/\\/storage.googleapis.com\\/ludopedia-capas\\/683_t.jpg\",\n",
    "    \"tp_jogo\":\"b\",\n",
    "    \"link\":\"https:\\/\\/ludopedia.com.br\\/jogo\\/de-vulgari-eloquentia\",\n",
    "    \"ano_publicacao\":2010,\n",
    "    \"ano_nacional\":False,\n",
    "    \"qt_jogadores_min\":2,\n",
    "    \"qt_jogadores_max\":5,\n",
    "    \"mecanicas\":[\n",
    "        {\n",
    "            \"id_mecanica\":\"31\",\n",
    "            \"nm_mecanica\":\"Movimento de Área\"},\n",
    "        {\n",
    "            \"id_mecanica\":\"22\",\n",
    "            \"nm_mecanica\":\"Sistema de Pontos de Ação\"}],\n",
    "    \"categorias\":[],\n",
    "    \"temas\":[\n",
    "        {\n",
    "            \"id_tema\":\"21\",\n",
    "            \"nm_tema\":\"Medieval\"}],\n",
    "    \"artistas\":[\n",
    "        {\n",
    "            \"id_profissional\":\"888\",\n",
    "            \"nm_profissional\":\"Lamberto Azzariti\"},\n",
    "        {\n",
    "            \"id_profissional\":\"443\",\n",
    "            \"nm_profissional\":\"Guido Favaro\"},\n",
    "        {\n",
    "            \"id_profissional\":\"1268\",\n",
    "            \"nm_profissional\":\"Eva Villa\"}],\n",
    "    \"designers\":[\n",
    "        {\n",
    "            \"id_profissional\":\"1245\",\n",
    "            \"nm_profissional\":\"Mario Papini\"}],\n",
    "    \"vl_tempo_jogo\":120,\n",
    "    \"idade_minima\":14,\n",
    "    \"qt_tem\":68,\n",
    "    \"qt_teve\":34,\n",
    "    \"qt_favorito\":5,\n",
    "    \"qt_quer\":100,\n",
    "    \"qt_jogou\":103}\n",
    "\n",
    "print(De_Vulgari_Eloquentia)"
   ]
  },
  {
   "cell_type": "code",
   "execution_count": 13,
   "metadata": {},
   "outputs": [
    {
     "name": "stdout",
     "output_type": "stream",
     "text": [
      "<pymongo.results.InsertOneResult object at 0x000001C27466A2F0>\n",
      "6330e1420ac00347ca0de0c1\n",
      "<class 'pymongo.results.InsertOneResult'>\n"
     ]
    }
   ],
   "source": [
    "# Inserir documento (equivalente à tabela)\n",
    "# Todo documento pode ser visto como um arquivo JSON ou como um dicionário.\n",
    "# O objeto criado abaixo é o registro da inserção.\n",
    "\n",
    "Inserção = ExampleCol.insert_one(De_Vulgari_Eloquentia)\n",
    "print(Inserção)\n",
    "print(Inserção.inserted_id)\n",
    "print(type(Inserção))"
   ]
  },
  {
   "cell_type": "code",
   "execution_count": 15,
   "metadata": {},
   "outputs": [
    {
     "name": "stdout",
     "output_type": "stream",
     "text": [
      "<class 'dict'>\n"
     ]
    },
    {
     "data": {
      "text/plain": [
       "<pymongo.results.InsertOneResult at 0x1c2746694e0>"
      ]
     },
     "execution_count": 15,
     "metadata": {},
     "output_type": "execute_result"
    }
   ],
   "source": [
    "Viva_Java_the_Coffee_Game_the_Dice_Game = {\n",
    "    \"id_jogo\":1177,\n",
    "    \"nm_jogo\":\"VivaJava: The Coffee Game: The Dice Game\",\n",
    "    \"thumb\":\"https:\\/\\/storage.googleapis.com\\/ludopedia-capas\\/1177_t.jpg\",\n",
    "    \"tp_jogo\":\"b\",\n",
    "    \"link\":\"https:\\/\\/ludopedia.com.br\\/jogo\\/vivajava-the-coffee-game-the-dice-game\",\n",
    "    \"ano_publicacao\":2014,\n",
    "    \"ano_nacional\":False,\n",
    "    \"qt_jogadores_min\":2,\n",
    "    \"qt_jogadores_max\":4,\n",
    "    \"mecanicas\":[\n",
    "        {\n",
    "            \"id_mecanica\":\"13\",\n",
    "            \"nm_mecanica\":\"Alocação de Trabalhadores\"},\n",
    "        {\n",
    "            \"id_mecanica\":\"5\",\n",
    "            \"nm_mecanica\":\"Apostas\"},\n",
    "        {\n",
    "            \"id_mecanica\":\"17\",\n",
    "            \"nm_mecanica\":\"Construção de Baralho\\/Peças\"},\n",
    "        {\n",
    "            \"id_mecanica\":\"27\",\n",
    "            \"nm_mecanica\":\"Jogadores com Diferentes Habilidades\"},\n",
    "        {\n",
    "            \"id_mecanica\":\"40\",\n",
    "            \"nm_mecanica\":\"Rolagem de Dados\"},\n",
    "        {\n",
    "            \"id_mecanica\":\"45\",\n",
    "            \"nm_mecanica\":\"Force sua sorte\"},\n",
    "        {\n",
    "            \"id_mecanica\":\"47\",\n",
    "            \"nm_mecanica\":\"Tabuleiro Modular\"}],\n",
    "    \"categorias\":[\n",
    "        {\n",
    "            \"id_categoria\":\"109\",\n",
    "            \"nm_categoria\":\"Jogo de Cartas\"},\n",
    "        {\n",
    "            \"id_categoria\":\"110\",\n",
    "            \"nm_categoria\":\"Jogo de Dados\"}],\n",
    "    \"temas\":[\n",
    "        {\n",
    "            \"id_tema\":\"15\",\n",
    "            \"nm_tema\":\"Gastronomia\"}],\n",
    "    \"artistas\":[\n",
    "        {\n",
    "            \"id_profissional\":\"893\",\n",
    "            \"nm_profissional\":\"Christopher Kirkman\"}],\n",
    "    \"designers\":[\n",
    "        {\n",
    "            \"id_profissional\":\"892\",\n",
    "            \"nm_profissional\":\"T. C. Petty III\"}],\n",
    "    \"vl_tempo_jogo\":30,\n",
    "    \"idade_minima\":10,\n",
    "    \"qt_tem\":28,\n",
    "    \"qt_teve\":14,\n",
    "    \"qt_favorito\":2,\n",
    "    \"qt_quer\":49,\n",
    "    \"qt_jogou\":39}\n",
    "\n",
    "print(type(Viva_Java_the_Coffee_Game_the_Dice_Game))\n",
    "\n",
    "ExampleCol.insert_one(Viva_Java_the_Coffee_Game_the_Dice_Game)"
   ]
  },
  {
   "cell_type": "code",
   "execution_count": 17,
   "metadata": {},
   "outputs": [
    {
     "name": "stdout",
     "output_type": "stream",
     "text": [
      "{'_id': ObjectId('6330dc364571c8ffc75eff5b'), 'id_jogo': 683, 'nm_jogo': 'De Vulgari Eloquentia', 'thumb': 'https:\\\\/\\\\/storage.googleapis.com\\\\/ludopedia-capas\\\\/683_t.jpg', 'tp_jogo': 'b', 'link': 'https:\\\\/\\\\/ludopedia.com.br\\\\/jogo\\\\/de-vulgari-eloquentia', 'ano_publicacao': 2010, 'ano_nacional': False, 'qt_jogadores_min': 2, 'qt_jogadores_max': 5, 'mecanicas': [{'id_mecanica': '31', 'nm_mecanica': 'Movimento de Área'}, {'id_mecanica': '22', 'nm_mecanica': 'Sistema de Pontos de Ação'}], 'categorias': [], 'temas': [{'id_tema': '21', 'nm_tema': 'Medieval'}], 'artistas': [{'id_profissional': '888', 'nm_profissional': 'Lamberto Azzariti'}, {'id_profissional': '443', 'nm_profissional': 'Guido Favaro'}, {'id_profissional': '1268', 'nm_profissional': 'Eva Villa'}], 'designers': [{'id_profissional': '1245', 'nm_profissional': 'Mario Papini'}], 'vl_tempo_jogo': 120, 'idade_minima': 14, 'qt_tem': 68, 'qt_teve': 34, 'qt_favorito': 5, 'qt_quer': 100, 'qt_jogou': 103} \n",
      "\n",
      "{'_id': ObjectId('6330e1420ac00347ca0de0c1'), 'id_jogo': 683, 'nm_jogo': 'De Vulgari Eloquentia', 'thumb': 'https:\\\\/\\\\/storage.googleapis.com\\\\/ludopedia-capas\\\\/683_t.jpg', 'tp_jogo': 'b', 'link': 'https:\\\\/\\\\/ludopedia.com.br\\\\/jogo\\\\/de-vulgari-eloquentia', 'ano_publicacao': 2010, 'ano_nacional': False, 'qt_jogadores_min': 2, 'qt_jogadores_max': 5, 'mecanicas': [{'id_mecanica': '31', 'nm_mecanica': 'Movimento de Área'}, {'id_mecanica': '22', 'nm_mecanica': 'Sistema de Pontos de Ação'}], 'categorias': [], 'temas': [{'id_tema': '21', 'nm_tema': 'Medieval'}], 'artistas': [{'id_profissional': '888', 'nm_profissional': 'Lamberto Azzariti'}, {'id_profissional': '443', 'nm_profissional': 'Guido Favaro'}, {'id_profissional': '1268', 'nm_profissional': 'Eva Villa'}], 'designers': [{'id_profissional': '1245', 'nm_profissional': 'Mario Papini'}], 'vl_tempo_jogo': 120, 'idade_minima': 14, 'qt_tem': 68, 'qt_teve': 34, 'qt_favorito': 5, 'qt_quer': 100, 'qt_jogou': 103} \n",
      "\n",
      "{'_id': ObjectId('6330e1580ac00347ca0de0c2'), 'id_jogo': 1177, 'nm_jogo': 'VivaJava: The Coffee Game: The Dice Game', 'thumb': 'https:\\\\/\\\\/storage.googleapis.com\\\\/ludopedia-capas\\\\/1177_t.jpg', 'tp_jogo': 'b', 'link': 'https:\\\\/\\\\/ludopedia.com.br\\\\/jogo\\\\/vivajava-the-coffee-game-the-dice-game', 'ano_publicacao': 2014, 'ano_nacional': False, 'qt_jogadores_min': 2, 'qt_jogadores_max': 4, 'mecanicas': [{'id_mecanica': '13', 'nm_mecanica': 'Alocação de Trabalhadores'}, {'id_mecanica': '5', 'nm_mecanica': 'Apostas'}, {'id_mecanica': '17', 'nm_mecanica': 'Construção de Baralho\\\\/Peças'}, {'id_mecanica': '27', 'nm_mecanica': 'Jogadores com Diferentes Habilidades'}, {'id_mecanica': '40', 'nm_mecanica': 'Rolagem de Dados'}, {'id_mecanica': '45', 'nm_mecanica': 'Force sua sorte'}, {'id_mecanica': '47', 'nm_mecanica': 'Tabuleiro Modular'}], 'categorias': [{'id_categoria': '109', 'nm_categoria': 'Jogo de Cartas'}, {'id_categoria': '110', 'nm_categoria': 'Jogo de Dados'}], 'temas': [{'id_tema': '15', 'nm_tema': 'Gastronomia'}], 'artistas': [{'id_profissional': '893', 'nm_profissional': 'Christopher Kirkman'}], 'designers': [{'id_profissional': '892', 'nm_profissional': 'T. C. Petty III'}], 'vl_tempo_jogo': 30, 'idade_minima': 10, 'qt_tem': 28, 'qt_teve': 14, 'qt_favorito': 2, 'qt_quer': 49, 'qt_jogou': 39} \n",
      "\n",
      "<class 'pymongo.cursor.Cursor'>\n"
     ]
    }
   ],
   "source": [
    "# Consulta à coleção.\n",
    "# A instância .find não é uma lista, mas um cursor.\n",
    "\n",
    "for i in ExampleCol.find():\n",
    "    print(i,'\\n')\n",
    "\n",
    "print(type(ExampleCol.find()))"
   ]
  }
 ],
 "metadata": {
  "kernelspec": {
   "display_name": "Python 3.10.7 64-bit (microsoft store)",
   "language": "python",
   "name": "python3"
  },
  "language_info": {
   "codemirror_mode": {
    "name": "ipython",
    "version": 3
   },
   "file_extension": ".py",
   "mimetype": "text/x-python",
   "name": "python",
   "nbconvert_exporter": "python",
   "pygments_lexer": "ipython3",
   "version": "3.10.7"
  },
  "orig_nbformat": 4,
  "vscode": {
   "interpreter": {
    "hash": "91b18657112df8a6dc2946b9dfe3559ddfc8e1e2117c2c8071424b5e043bd8e1"
   }
  }
 },
 "nbformat": 4,
 "nbformat_minor": 2
}
